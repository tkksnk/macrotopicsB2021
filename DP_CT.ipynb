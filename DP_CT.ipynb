{
 "cells": [
  {
   "cell_type": "markdown",
   "metadata": {
    "slideshow": {
     "slide_type": "slide"
    }
   },
   "source": [
    "# Dynamic Programming in Continuous Time\n",
    "<br>\n",
    "<div style=\"text-align: center;\">\n",
    "June 2021 Takeki Sunakawa\n",
    "<br>\n",
    "<div style=\"text-align: center;\">    \n",
    "Hitotsubashi University"
   ]
  },
  {
   "cell_type": "markdown",
   "metadata": {
    "slideshow": {
     "slide_type": "slide"
    }
   },
   "source": [
    "# Introduction\n",
    "\n",
    "- TBW\n",
    "<!-- - A dynamic optimization problem (such as the one for the RCK model) is often *recursive*. -->"
   ]
  },
  {
   "cell_type": "markdown",
   "metadata": {
    "slideshow": {
     "slide_type": "subslide"
    }
   },
   "source": [
    "- My lecture is based on Soyoung Lee's (Bank of Canada) lecture note and Ben Moll's (LSE) MATLAB code."
   ]
  },
  {
   "cell_type": "markdown",
   "metadata": {
    "slideshow": {
     "slide_type": "slide"
    }
   },
   "source": [
    "## Finite horizon\n",
    "\n",
    "- Let's consider an optimal control problem over time period $t\\in[0,T]$\n",
    "\n",
    "$$\n",
    "  v(x_{0},0) \\equiv \\max_{\\alpha(s)} \\int_{0}^{T} r(s,x(s),\\alpha(s)) ds + g(x(T))\n",
    "$$\n",
    "subject to\n",
    "\n",
    "$$\n",
    "  \\dot{x}(s) = f(s,x(s),\\alpha(s)), \\quad x_{0} \\text{ is given}\n",
    "$$\n",
    "where\n",
    "\n",
    "- $x(t) \\in X \\subseteq \\mathbb{R}^{n}$: state vector $(n \\times 1)$ at period $t$\n",
    "- $\\alpha(t) \\in A \\subseteq \\mathbb{R}^{m}$: control vector $(m \\times 1)$ at period $t$\n",
    "- $v: X{\\times}[0,T] \\rightarrow \\mathbb{R}$: value function\n",
    "- $r: [0,T]{\\times}X{\\times}A \\rightarrow \\mathbb{R}$: instantaneous return\n",
    "- $f: [0,T]{\\times}X{\\times}A \\rightarrow X$: law of motion\n",
    "- $g: X \\rightarrow \\mathbb{R}$: terminal value"
   ]
  },
  {
   "cell_type": "markdown",
   "metadata": {
    "slideshow": {
     "slide_type": "subslide"
    }
   },
   "source": [
    "## Example: Life-cycle model\n",
    "\n",
    "$$\n",
    "  v(a_{0},0) \\equiv \\max_{c(s)} \\int_{0}^{T} e^{-\\rho s}u(c(s)) ds\n",
    "$$\n",
    "subject to\n",
    "\n",
    "$$\n",
    "  \\dot{a}(s) = r(s)a(s) + w(s) - c(s), \\quad a_{0} \\text{ is given}\n",
    "$$\n",
    "\n",
    "where\n",
    "- $a$: asset\n",
    "- $c$: consumption\n",
    "- $u(c)$: utility\n",
    "- $r$: interest rate\n",
    "- $w$: wages"
   ]
  },
  {
   "cell_type": "markdown",
   "metadata": {
    "slideshow": {
     "slide_type": "subslide"
    }
   },
   "source": [
    "- We look at the problem at $t$\n",
    "\n",
    "$$\n",
    "  v(x(t),t) = \\max_{\\alpha(s)} \\int_{t}^{T} r(s,x(s),\\alpha(s)) ds + g(x(T))\n",
    "$$\n",
    "subject to\n",
    "\n",
    "$$\n",
    "  \\dot{x}(s) = f(s,x(s),\\alpha(s)), \\quad x(t) \\text{ is given}\n",
    "$$\n",
    "\n"
   ]
  },
  {
   "cell_type": "markdown",
   "metadata": {
    "slideshow": {
     "slide_type": "subslide"
    }
   },
   "source": [
    "- Now we focus on the interval between $t$ and $t+h$\n",
    "\n",
    "\\begin{align*}\n",
    "  v(x(t),t) &= \\max_{\\alpha(s)} \\int_{t}^{t+h} r(s,x(s),\\alpha(s)) ds + \\int_{t+h}^{T} r(s,x(s),\\alpha(s)) ds, \\\\\n",
    "  &= \\max_{\\alpha(s)} \\int_{t}^{t+h} r(s,x(s),\\alpha(s)) ds + v(x(t+h),t+h)\n",
    "\\end{align*}\n",
    "\n",
    "subject to\n",
    "\n",
    "\\begin{align*}\n",
    "  \\dot{x}(s) &= f(s,x(s),\\alpha(s)), \\\\\n",
    "  v(x(T),T) &= g(x(T)),\n",
    "\\end{align*}\n",
    "\n",
    "$x(t)$ is given\n",
    "\n",
    "- **Principle of Optimality**: Any continuation of the optimal plan is optimal."
   ]
  },
  {
   "cell_type": "markdown",
   "metadata": {
    "slideshow": {
     "slide_type": "subslide"
    }
   },
   "source": [
    "- Rearrange\n",
    "\n",
    "$$\n",
    "  0 = \\max_{\\alpha(s)} \\int_{t}^{t+h} r(s,x(s),\\alpha(s)) ds + v(x(t+h),t+h) - v(x(t),t)\n",
    "$$\n",
    "\n",
    "- Divide by $h$\n",
    "\n",
    "$$\n",
    "  0 = \\max_{\\alpha(s)} \\frac{1}{h}\\int_{t}^{t+h} r(s,x(s),\\alpha(s)) ds + \\frac{1}{h}\\big(v(x(t+h),t+h) - v(x(t),t)\\big)\n",
    "$$\n",
    "\n",
    "- As $h \\rightarrow 0$\n",
    "\n",
    "$$\n",
    "  0 = \\max_{\\alpha(t)} r(t,x(t),\\alpha(t)) + v_{x}(x(t),t)\\dot{x}(t) + v_{t}(x(t),t)\n",
    "$$\n"
   ]
  },
  {
   "cell_type": "markdown",
   "metadata": {
    "slideshow": {
     "slide_type": "subslide"
    }
   },
   "source": [
    "As $\\dot{x}(t)=f(t,x(t),\\alpha(t))$,\n",
    "\n",
    "$$\n",
    "  0 = \\max_{\\alpha(t)} r(t,x(t),\\alpha(t)) + v_{x}(x(t),t)f(t,x(t),\\alpha(t)) + v_{t}(x(t),t)\n",
    "$$\n",
    "\n",
    "Or, denote $x(t)=x$ and $\\alpha(t)=\\alpha$\n",
    "\n",
    "$$\n",
    "  0 = \\max_{\\alpha} r(t,x,\\alpha) + v_{x}(x,t)f(t,x,\\alpha) + v_{t}(x,t)\n",
    "$$\n",
    "\n",
    "This is the **Hamiltonian-Jacobi-Bellman** (HJB) equation\n",
    "\n",
    "- The HJB equation is a differential equation\n",
    "- $v(x,t)$ is the solution to the HJB\n",
    "- $\\alpha^{*}(x,t)$ is the maximizer of the value"
   ]
  },
  {
   "cell_type": "markdown",
   "metadata": {
    "slideshow": {
     "slide_type": "slide"
    }
   },
   "source": [
    "# Infinite horizon with discounting\n",
    "\n",
    "$$\n",
    "  v(x_{0},0) \\equiv \\max_{\\alpha(s)} \\int_{0}^{\\infty} e^{-\\rho s} r(x(s),\\alpha(s)) ds\n",
    "$$\n",
    "\n",
    "subject to\n",
    "\n",
    "$$\n",
    "  \\dot{x}(s) = f(x(s),\\alpha(s)), \\quad x_{0} \\text{ is given.}\n",
    "$$\n",
    "\n",
    "Assume that $r$ and $f$ are not functions of $t$. (A terminal condition is also needed, which is omitted here.)"
   ]
  },
  {
   "cell_type": "markdown",
   "metadata": {
    "slideshow": {
     "slide_type": "subslide"
    }
   },
   "source": [
    "# Infinite horizon with discounting\n",
    "\n",
    "$$\n",
    "  v(x,t) = \\max_{\\alpha(s)} \\int_{t}^{\\infty} e^{-\\rho s} r(x(s),\\alpha(s)) ds\n",
    "$$\n",
    "\n",
    "subject to\n",
    "\n",
    "$$\n",
    "  \\dot{x}(s) = f(x(s),\\alpha(s)) \\quad x=x(t) \\text{ is given.}\n",
    "$$"
   ]
  },
  {
   "cell_type": "markdown",
   "metadata": {
    "slideshow": {
     "slide_type": "subslide"
    }
   },
   "source": [
    "- Note that $v(x,t)$ is the value from the point of view of time 0. That is, by defining $v(x) = v(x,0)$, we have\n",
    "\\begin{align*}\n",
    "  v(x,t) &= \\max_{\\alpha(s)} \\int_{t}^{\\infty} e^{-\\rho s} r(x(s),\\alpha(s)) ds, \\\\\n",
    "  &= \\max_{\\alpha(s+t)} \\int_{0}^{\\infty} e^{-\\rho (s+t)} r(x(s+t),\\alpha(s+t)) ds, \\\\\n",
    "  &= e^{-\\rho t} \\max_{\\alpha(s+t)} \\int_{0}^{\\infty} e^{-\\rho s} r(x(s+t),\\alpha(s+t)) ds, \\\\\n",
    "  &= e^{-\\rho t} v(x)\n",
    "\\end{align*}"
   ]
  },
  {
   "cell_type": "markdown",
   "metadata": {
    "slideshow": {
     "slide_type": "fragment"
    }
   },
   "source": [
    "And\n",
    "\\begin{align*}\n",
    "  v_{x}(x,t) &= \\frac{\\partial v(x,t)}{\\partial x} = e^{-\\rho t} v_{x}(x), \\\\\n",
    "  v_{t}(x,t) &= \\frac{\\partial v(x,t)}{\\partial t} = -\\rho e^{-\\rho t} v(x)\n",
    "\\end{align*}"
   ]
  },
  {
   "cell_type": "markdown",
   "metadata": {
    "slideshow": {
     "slide_type": "subslide"
    }
   },
   "source": [
    "- Note that $r(t,x,\\alpha)=e^{-\\rho t}r(x,\\alpha)$ and $f(t,x,\\alpha)=f(x,\\alpha)$, and plug these into a HJB equation,\n",
    "\n",
    "\\begin{align*}\n",
    "  0 &= \\max_{\\alpha} r(t,x,\\alpha) + v_{x}(x,t)f(t,x,\\alpha) + v_{t}(x,t), \\\\\n",
    "  0 &= \\max_{\\alpha} e^{-\\rho t}r(x,\\alpha) + e^{-\\rho t}v_{x}(x)f(x,\\alpha) -\\rho e^{-\\rho t} v(x), \\\\\n",
    "  0 &= \\max_{\\alpha} r(x,\\alpha) + v_{x}(x)f(x,\\alpha) -\\rho v(x), \\\\\n",
    "  \\rho v(x) &= \\max_{\\alpha} r(x,\\alpha) + v_{x}(x)f(x,\\alpha)\n",
    "\\end{align*}\n",
    "\n",
    "This does not depend on $t$."
   ]
  },
  {
   "cell_type": "markdown",
   "metadata": {
    "slideshow": {
     "slide_type": "subslide"
    }
   },
   "source": [
    "## Example: Neoclassical growth model\n",
    "\n",
    "$$\n",
    "  v(k_{0}) \\equiv \\max_{c(t)} \\int_{0}^{\\infty} e^{-\\rho t}u(c(t)) dt\n",
    "$$\n",
    "\n",
    "subject to\n",
    "\n",
    "$$\n",
    "  s(t) = \\dot{k}(t) = f(k(t)) - \\delta k(t) - c(t) \\quad k_{0} \\text{ is given}\n",
    "$$\n",
    "\n",
    "where $k$: capital, $s = \\dot{k}$: saving, $\\delta$: depreciation rate, $c$: consumption, $u(c)$: utility, and $\\rho$: discount rate"
   ]
  },
  {
   "cell_type": "markdown",
   "metadata": {
    "slideshow": {
     "slide_type": "subslide"
    }
   },
   "source": [
    "- HJB equation is given by\n",
    "\n",
    "$$\n",
    "  \\rho v(k) = \\max_{c} u(c) + v_{k}(k)(f(k) - \\delta k - c)\n",
    "$$"
   ]
  },
  {
   "cell_type": "markdown",
   "metadata": {
    "slideshow": {
     "slide_type": "slide"
    }
   },
   "source": [
    "# Numerical Solution with Finite Difference Method\n",
    "\n",
    "- We solve on discretized grids: $\\mathbf{K} = \\{k_{1},...,k_{n_{k}}\\}$\n",
    "\n",
    "- Then we have\n",
    "\n",
    "$$\n",
    "  \\rho v(k_{i}) = \\max_{c} u(c) + v_{k}(k_{i})(f(k_{i}) - \\delta k_{i} - c)\n",
    "$$\n",
    "\n",
    "- From FOC, $c = u'^{-1}(v_{k}(k))$\n",
    "\n",
    "- How do we approximate $v_{k}(k_{i})$ at each $k_{i}\\in\\mathbf{K}$?\n",
    "\n"
   ]
  },
  {
   "cell_type": "markdown",
   "metadata": {
    "slideshow": {
     "slide_type": "subslide"
    }
   },
   "source": [
    "- Finite difference methods approximate $v_{k}(k_{i})$ by discretizing the derivatives with finite differences\n",
    "\n",
    "- *Forward*: \n",
    "$$\n",
    "v_{k,i}^{(F)} \\equiv v_{k}^{(F)}(k_{i}) = \\frac{v_{i+1}-v_{i}}{\\Delta k}\n",
    "$$\n",
    "\n",
    "- *Backward*: \n",
    "$$\n",
    "v_{k,i}^{(B)} \\equiv v_{k}^{(B)}(k_{i}) = \\frac{v_{i}-v_{i-1}}{\\Delta k}\n",
    "$$\n",
    "\n",
    "where $v_{i} = v(k_{i})$ and $v_{k,i} = v_{k}(k_{i})$"
   ]
  },
  {
   "cell_type": "markdown",
   "metadata": {
    "slideshow": {
     "slide_type": "subslide"
    }
   },
   "source": [
    "Note that (graph)\n",
    "\n",
    "\n",
    "- From concavity of $v(k)$, \n",
    "\n",
    "$$\n",
    "v_{k,i}^{(F)}<v_{k,i}^{(B)}\n",
    "$$\n",
    "- Then, as $c=\\big(v_{k}(k)\\big)^{-1/\\sigma}$, \n",
    "\n",
    "$$\n",
    "c_{i}^{(F)}>c_{i}^{(B)}\n",
    "$$\n",
    "- Also, as $s=f(k)-{\\delta}k-c$, \n",
    "\n",
    "$$\n",
    "s_{i}^{(F)}<s_{i}^{(B)}\n",
    "$$ "
   ]
  },
  {
   "cell_type": "markdown",
   "metadata": {
    "slideshow": {
     "slide_type": "subslide"
    }
   },
   "source": [
    "- Which one to use? **Upwind scheme**\n",
    "\n",
    "- When $s_{i}^{(F)}=f(k_{i})-\\delta k_{i} - \\big(v_{k,i}^{(F)}\\big)^{-1/\\sigma} > 0$, set $v_{k,i} = v_{k,i}^{(F)}$\n",
    "<!-- $$\n",
    "v_{k,i} = v_{k,i}^{(F)} = \\frac{v_{i+1}-v_{i}}{\\Delta k}\n",
    "$$\n",
    " -->\n",
    "- When $s_{i}^{(B)}=f(k_{i})-\\delta k_{i} - \\big(v_{k,i}^{(B)}\\big)^{-1/\\sigma} < 0$, set $v_{k,i} = v_{k,i}^{(B)}$ \n",
    "<!-- $$\n",
    "v_{k,i} = v_{k,i}^{(B)} = \\frac{v_{i}-v_{i-1}}{\\Delta k}\n",
    "$$ -->"
   ]
  },
  {
   "cell_type": "markdown",
   "metadata": {
    "slideshow": {
     "slide_type": "subslide"
    }
   },
   "source": [
    "- We can write a discretized HJB for each $k_{i}$\n",
    "\n",
    "\\begin{align*}\n",
    "  \\rho v(k_{i}) &= u(c_{i}) + v_{k}(k_{i})(f(k_{i}) - \\delta k_{i} - c_{i}), \\\\\n",
    "  &= u(c_{i}) + v_{k,i}^{(F)} s_{i}^{(F)} \\mathbb{1}_{s_{i}^{(F)}>0} + v_{k,i}^{(B)} s_{i}^{(B)} \\mathbb{1}_{s_{i}^{(B)}<0}\n",
    "\\end{align*}\n",
    "\n",
    "where\n",
    "\n",
    "$$\n",
    "  v_{k,i}^{(F)} = \\frac{v_{i+1}-v_{i}}{\\Delta k}, \\quad v_{k,i}^{(B)} = \\frac{v_{i}-v_{i-1}}{\\Delta k}\n",
    "$$\n",
    "\n",
    "- Be careful of <font color=\"blue\">the boundary conditions, $v_{k,1}^{(B)}$ and $v_{k,n_{k}}^{(F)}$</font>."
   ]
  },
  {
   "cell_type": "markdown",
   "metadata": {
    "slideshow": {
     "slide_type": "subslide"
    }
   },
   "source": [
    "By substituting them, we have\n",
    "\n",
    "\\begin{align*}\n",
    "  \\rho v(k_{i}) &= u(c_{i}) + v_{k,i}^{(F)} s_{i}^{(F)} \\mathbb{1}_{s_{i}^{(F)}>0} + v_{k,i}^{(B)} s_{i}^{(B)} \\mathbb{1}_{s_{i}^{(B)}<0}, \\\\\n",
    "  &= u(c_{i}) + \\frac{v_{i+1}-v_{i}}{\\Delta k} s_{i}^{(F)} \\mathbb{1}_{s_{i}^{(F)}>0} + \\frac{v_{i}-v_{i-1}}{\\Delta k} s_{i}^{(B)} \\mathbb{1}_{s_{i}^{(B)}<0}, \\\\\n",
    "  &= u(c_{i}) + \\alpha_{i} v_{i-1} + \\beta_{i} v_{i} + \\xi_{i} v_{i+1}\n",
    "\\end{align*}\n",
    "\n",
    "where\n",
    "\n",
    "$$\n",
    "  \\alpha_{i} = \\frac{-s_{i}^{(B)} \\mathbb{1}_{s_{i}^{(B)}<0}}{\\Delta k}, \\quad \\beta_{i} = \\frac{-s_{i}^{(F)} \\mathbb{1}_{s_{i}^{(F)}>0} + s_{i}^{(B)} \\mathbb{1}_{s_{i}^{(B)}<0}}{\\Delta k}, \\quad \\xi_{i} = \\frac{s_{i}^{(F)} \\mathbb{1}_{s_{i}^{(F)}>0}}{\\Delta k}\n",
    "$$"
   ]
  },
  {
   "cell_type": "markdown",
   "metadata": {
    "slideshow": {
     "slide_type": "subslide"
    }
   },
   "source": [
    "The optimal level of consumption is set to\n",
    "\n",
    "$$\n",
    "  c_{i} = u'^{-1}\\big( v_{k,i}^{(F)}\\mathbb{1}_{s_{i}^{(F)}>0} + v_{k,i}^{(B)}\\mathbb{1}_{s_{i}^{(B)}<0} + \\color{blue}{\\bar{v}_{k,i}\\mathbb{1}_{s_{i}^{(F)}\\leq0}\\mathbb{1}_{s_{i}^{(B)}\\geq0}}\\big)\n",
    "$$\n",
    "\n",
    "where <font color=\"blue\">$\\bar{v}_{k,i}=u'(f(k_{i}) - \\delta k_{i})$ (steady state consumption)</font>"
   ]
  },
  {
   "cell_type": "markdown",
   "metadata": {
    "slideshow": {
     "slide_type": "subslide"
    }
   },
   "source": [
    "It can be stacked into a matrix form\n",
    "\n",
    "$$\n",
    "    \\rho \\left[\n",
    "    \\begin{array}{c}\n",
    "    v_{1}\\\\\n",
    "    v_{2}\\\\\n",
    "    v_{3}\\\\\n",
    "    \\vdots\\\\\n",
    "    v_{i}\\\\\n",
    "    \\vdots\\\\\n",
    "    v_{n-1}\\\\\n",
    "    v_{n}\n",
    "    \\end{array} \\right] = \n",
    "    \\left[\n",
    "    \\begin{array}{c}\n",
    "    u(c_{1})\\\\\n",
    "    u(c_{2})\\\\\n",
    "    u(c_{3})\\\\\n",
    "    \\vdots\\\\\n",
    "    u(c_{i})\\\\\n",
    "    \\vdots\\\\\n",
    "    u(c_{n-1})\\\\\n",
    "    u(c_{n})\n",
    "    \\end{array} \\right] +\n",
    "    \\left[\n",
    "    \\begin{array}{cccccccc}\n",
    "    \\beta_{1} & \\xi_{1} & 0 & \\cdots & \\cdots & \\cdots & \\cdots & 0\\\\\n",
    "    \\alpha_{2} & \\beta_{2} & \\xi_{2} & 0 & \\cdots & \\cdots & \\cdots & 0 \\\\\n",
    "    0 & \\alpha_{3} & \\beta_{3} & \\xi_{3} & 0 & \\cdots & \\cdots & 0 \\\\\n",
    "    \\vdots & & \\ddots & \\ddots & \\ddots & & & \\vdots \\\\\n",
    "    \\vdots & & 0 & \\alpha_{i} & \\beta_{i} & \\xi_{i} & 0 & \\vdots \\\\\n",
    "    \\vdots & & & & \\ddots & \\ddots & \\ddots & \\vdots \\\\\n",
    "    0 & & & & 0 & \\alpha_{n-1} & \\beta_{n-1} & \\xi_{n-1} \\\\\n",
    "    0 & \\cdots & \\cdots & \\cdots & \\cdots & 0 & \\alpha_{n} & \\beta_{n}\n",
    "    \\end{array}\n",
    "    \\right]\n",
    "    \\left[\n",
    "    \\begin{array}{c}\n",
    "    v_{1}\\\\\n",
    "    v_{2}\\\\\n",
    "    v_{3}\\\\\n",
    "    \\vdots\\\\\n",
    "    v_{i}\\\\\n",
    "    \\vdots\\\\\n",
    "    v_{n-1}\\\\\n",
    "    v_{n}\n",
    "    \\end{array} \\right]\n",
    "$$"
   ]
  },
  {
   "cell_type": "markdown",
   "metadata": {
    "slideshow": {
     "slide_type": "subslide"
    }
   },
   "source": [
    "Or\n",
    "\n",
    "$$\n",
    "  \\rho \\mathbf{v} = \\mathbf{u} + \\mathbf{A}\\mathbf{v}\n",
    "$$\n",
    "\n",
    "$\\mathbf{A}$ is a sparse matrix (graph)."
   ]
  },
  {
   "cell_type": "markdown",
   "metadata": {
    "slideshow": {
     "slide_type": "subslide"
    }
   },
   "source": [
    "- We solve for $\\mathbf{v}$ by an iterative scheme.\n",
    "\n",
    "- Let $\\mathbf{v}^{n}$ be the value function from $n$th iteration\n",
    "    - **Explicit method**:\n",
    "\n",
    "    $$\n",
    "      \\frac{\\mathbf{v}^{n+1}-\\mathbf{v}^{n}}{\\Delta} + \\rho \\mathbf{v}^{n} = \\mathbf{u}^{n} + \\mathbf{A}^{n}\\mathbf{v}^{n}\n",
    "    $$\n",
    "\n",
    "    - **Implicit method**:\n",
    "\n",
    "    $$\n",
    "      \\frac{\\mathbf{v}^{n+1}-\\mathbf{v}^{n}}{\\Delta} + \\rho \\mathbf{v}^{n+1} = \\mathbf{u}^{n} + \\mathbf{A}^{n}\\mathbf{v}^{n+1}\n",
    "    $$\n",
    "\n",
    "where $\\Delta>0$ controls the speed of updating. "
   ]
  },
  {
   "cell_type": "markdown",
   "metadata": {
    "slideshow": {
     "slide_type": "subslide"
    }
   },
   "source": [
    "- With the implicit method, we update $\\mathbf{v}^{n}$ by\n",
    "\n",
    "\\begin{align*}\n",
    "  & \\mathbf{v}^{n+1} + \\Delta\\rho\\mathbf{v}^{n+1} - \\Delta\\mathbf{A}^{n}\\mathbf{v}^{n+1} = \\Delta\\mathbf{u}^{n} + \\mathbf{v}^{n}, \\\\\n",
    "  \\Leftrightarrow & \\mathbf{v}^{n+1} = (\\mathbf{I} + \\Delta\\rho\\mathbf{I} - \\Delta\\mathbf{A}^{n})^{-1}(\\Delta\\mathbf{u}^{n} + \\mathbf{v}^{n}) \\\\\n",
    "\\end{align*}\n"
   ]
  },
  {
   "cell_type": "markdown",
   "metadata": {
    "slideshow": {
     "slide_type": "slide"
    }
   },
   "source": []
  },
  {
   "cell_type": "code",
   "execution_count": null,
   "metadata": {},
   "outputs": [],
   "source": []
  }
 ],
 "metadata": {
  "@webio": {
   "lastCommId": null,
   "lastKernelId": null
  },
  "celltoolbar": "Slideshow",
  "kernelspec": {
   "display_name": "Julia 1.5.3",
   "language": "julia",
   "name": "julia-1.5"
  },
  "language_info": {
   "file_extension": ".jl",
   "mimetype": "application/julia",
   "name": "julia",
   "version": "1.5.3"
  },
  "rise": {
   "enable_chalkboard": true
  }
 },
 "nbformat": 4,
 "nbformat_minor": 4
}
