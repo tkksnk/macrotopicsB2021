{
 "cells": [
  {
   "cell_type": "markdown",
   "metadata": {
    "slideshow": {
     "slide_type": "slide"
    }
   },
   "source": [
    "# Huggett in Continuous Time\n",
    "<br>\n",
    "<div style=\"text-align: center;\">\n",
    "July 2021 Takeki Sunakawa\n",
    "<br>\n",
    "<div style=\"text-align: center;\">    \n",
    "Hitotsubashi University"
   ]
  },
  {
   "cell_type": "markdown",
   "metadata": {
    "slideshow": {
     "slide_type": "subslide"
    }
   },
   "source": [
    "## Huggett (1993): Saving problem\n",
    "\n",
    "$$\n",
    "  v(a_{0},z_{0},0) \\equiv \\max_{c(s)} \\mathbb{E} \\int_{0}^{\\infty} e^{-\\rho s}u(c(s)) ds\n",
    "$$\n",
    "subject to\n",
    "\n",
    "$$\n",
    "  \\dot{a}(s) = r(s)a(s) + z(s) - c(s), \\quad a_{0} \\text{ is given,} \\\\\n",
    "  a \\geq \\underline{a}\n",
    "$$\n",
    "\n",
    "where\n",
    "- $a$: asset\n",
    "- $c$: consumption\n",
    "- $u(c)$: utility\n",
    "- $r$: interest rate\n",
    "- $z$: wages, which follow a two-state Poisson process with intensity $\\lambda$"
   ]
  },
  {
   "cell_type": "markdown",
   "metadata": {
    "slideshow": {
     "slide_type": "subslide"
    }
   },
   "source": [
    "- Rearrange\n",
    "\n",
    "$$\n",
    "  0 = \\max_{c(s)} \\mathbb{E} \\big\\{ \\int_{t}^{t+dt} e^{-\\rho s}u(c(s)) ds + v(a(t+dt),z(t+dt),t+dt) - v(a(t),z(t),t) \\big\\}\n",
    "$$\n",
    "\n",
    "- Divide by $dt$\n",
    "\n",
    "\\begin{align*}\n",
    "  & 0 = \\max_{c(s)} \\mathbb{E} \\big\\{ \\frac{1}{dt}\\int_{t}^{t+dt} e^{-\\rho s}u(c(s)) ds + \\frac{1}{dt}\\big(v(a(t+dt),z(t+dt),t+dt) - v(a(t),z(t),t)\\big) \\big\\} \\\\\n",
    "  \\Leftrightarrow & 0 = \\max_{c(t)} e^{-\\rho t}u(c(t)) + \\frac{1}{dt}\\big(\\mathbb{E}v(a(t+dt),z(t+dt),t+dt) - v(a(t),z(t),t)\\big) \\\\\n",
    "\\end{align*}\n",
    "\n",
    "- Using $v(a,z) \\equiv v(a,z,0)$ and $v(a,z,t) = e^{-\\rho t}v(a,z)$ <!--, and $v_{t}(a,z,t) = -\\rho e^{-\\rho t}v(a,z)$-->\n",
    "\n",
    "$$\n",
    "  0 = \\max_{c(t)} e^{-\\rho t}u(c(t)) + \\frac{1}{dt}\\big(\\mathbb{E}e^{-\\rho t+dt}v(a(t+dt),z(t+dt)) - e^{-\\rho t}v(a(t),z(t))\\big)\n",
    "$$"
   ]
  },
  {
   "cell_type": "markdown",
   "metadata": {
    "slideshow": {
     "slide_type": "subslide"
    }
   },
   "source": [
    "- If $z(t)=z$, \n",
    "\n",
    "$$\n",
    "  \\mathbb{E}v(a(t+dt),z(t+dt)) = \\lambda dt v(a(t+dt),z') + (1-\\lambda dt) v(a(t+dt),z) \n",
    "$$\n",
    "\n",
    "- Then,\n",
    "\n",
    "\\begin{align*}\n",
    "  & 0 = \\max_{c(t)} e^{-\\rho t}u(c(t)) + \\frac{1}{dt}\\big(e^{-\\rho t+dt}\\big(\\lambda dt v(a(t+dt),z') + (1-\\lambda dt) v(a(t+dt),z)\\big) - e^{-\\rho t}v(a(t),z)\\big) \\\\\n",
    "  & 0 = \\max_{c(t)} e^{-\\rho t}u(c(t)) \\\\\n",
    "  & + \\frac{1}{dt}\\big(e^{-\\rho t+dt}\\lambda dt \\big(v(a(t+dt),z')-v(a(t+dt),z)\\big) + e^{-\\rho t+dt}v(a(t+dt),z) - e^{-\\rho t}v(a(t),z)\\big) \\\\\n",
    "  & 0 = \\max_{c(t)} e^{-\\rho t}u(c(t)) \\\\\n",
    "  & + e^{-\\rho t+dt}\\lambda \\big(v(a(t+dt),z')-v(a(t+dt),z)\\big) + \\frac{1}{dt}\\big(e^{-\\rho t+dt}v(a(t+dt),z) - e^{-\\rho t}v(a(t),z)\\big)\n",
    "\\end{align*}"
   ]
  },
  {
   "cell_type": "markdown",
   "metadata": {
    "slideshow": {
     "slide_type": "subslide"
    }
   },
   "source": [
    "- As $dt \\rightarrow 0$,\n",
    "\n",
    "$$\n",
    "  0 = \\max_{c(t)} e^{-\\rho t}u(c(t)) + e^{-\\rho t}\\lambda \\big(v(a(t),z')-v(a(t),z)\\big) + e^{-\\rho t}v_{a}(a(t),z)\\dot{a}(t) - \\rho e^{-\\rho t}v(a(t),z)\n",
    "$$\n",
    "\n",
    "- Drop $t, e^{-\\rho t}$ and rearrange\n",
    "\n",
    "$$\n",
    "  \\rho v(a,z) = \\max_{c} u(c) + \\lambda \\big(v(a,z')-v(a,z)\\big) + v_{a}(a,z)\\dot{a}\n",
    "$$"
   ]
  },
  {
   "cell_type": "markdown",
   "metadata": {
    "slideshow": {
     "slide_type": "slide"
    }
   },
   "source": [
    "# Numerical solution\n",
    "\n",
    "- We solve on discretized grids: $\\mathbf{A} = \\{a_{1},...,a_{n_{a}}\\}$ and $\\mathbf{Z}=\\{z_{1},z_{2}\\}$.\n",
    "\n",
    "- Then we have\n",
    "\n",
    "$$\n",
    "  \\rho v(a_{i},z_{j}) = \\max_{c} u(c) + v_{a}(a_{i},z_{j})(r a_{i} + z_{j} - c) + \\lambda \\big(v(a_{i},z_{-j})-v(a_{i},z_{j})\\big)\n",
    "$$\n",
    "\n",
    "- From FOC, $c = u'^{-1}(v_{a}(a,z))$\n",
    "\n",
    "- How do we approximate $v_{a}(a_{i},z_{j})$ at each $a_{i}\\in\\mathbf{A}$ and $z_{j}\\in\\mathbf{Z}$?\n"
   ]
  },
  {
   "cell_type": "markdown",
   "metadata": {
    "slideshow": {
     "slide_type": "subslide"
    }
   },
   "source": [
    "- Finite difference methods approximate $v_{a}(a_{i},z_{j})$ by discretizing the derivatives with finite differences\n",
    "\n",
    "- *Forward*: \n",
    "$$\n",
    "v_{a,i,j}^{(F)} \\equiv v_{a}^{(F)}(a_{i,j}) = \\frac{v_{i+1,j}-v_{i,j}}{\\Delta a}\n",
    "$$\n",
    "\n",
    "- *Backward*: \n",
    "$$\n",
    "v_{a,i,j}^{(B)} \\equiv v_{a}^{(B)}(a_{i,j}) = \\frac{v_{i,j}-v_{i-1,j}}{\\Delta a}\n",
    "$$\n",
    "\n",
    "where $v_{i,j} = v(a_{i},z_{j})$ and $v_{a,i,j} = v_{a}(a_{i},z_{j})$"
   ]
  },
  {
   "cell_type": "markdown",
   "metadata": {
    "slideshow": {
     "slide_type": "skip"
    }
   },
   "source": [
    "Note that (graph)\n",
    "\n",
    "\n",
    "- From concavity of $v(k)$, \n",
    "\n",
    "$$\n",
    "v_{k,i}^{(F)}<v_{k,i}^{(B)}\n",
    "$$\n",
    "- Then, as $c=\\big(v_{k}(k)\\big)^{-1/\\sigma}$, \n",
    "\n",
    "$$\n",
    "c_{i}^{(F)}>c_{i}^{(B)}\n",
    "$$\n",
    "- Also, as $s=f(k)-{\\delta}k-c$, \n",
    "\n",
    "$$\n",
    "s_{i}^{(F)}<s_{i}^{(B)}\n",
    "$$ "
   ]
  },
  {
   "cell_type": "markdown",
   "metadata": {
    "slideshow": {
     "slide_type": "skip"
    }
   },
   "source": [
    "- Which one to use? **Upwind scheme**\n",
    "\n",
    "- When $s_{i,j}^{(F)} = r a_{i} + z_{j} - \\big(v_{a,i,j}^{(F)}\\big)^{-1/\\sigma} > 0$, set $v_{a,i,j} = v_{a,i,j}^{(F)}$\n",
    "<!-- $$\n",
    "v_{k,i} = v_{k,i}^{(F)} = \\frac{v_{i+1}-v_{i}}{\\Delta k}\n",
    "$$\n",
    " -->\n",
    "- When $s_{i,j}^{(B)} = r a_{i} + z_{j} - \\big(v_{a,i,j}^{(B)}\\big)^{-1/\\sigma} < 0$, set $v_{a,i,j} = v_{a,i,j}^{(B)}$ \n",
    "<!-- $$\n",
    "v_{k,i} = v_{k,i}^{(B)} = \\frac{v_{i}-v_{i-1}}{\\Delta k}\n",
    "$$ -->"
   ]
  },
  {
   "cell_type": "markdown",
   "metadata": {
    "slideshow": {
     "slide_type": "subslide"
    }
   },
   "source": [
    "- We can write a discretized HJB for each $k_{i}$\n",
    "\n",
    "\\begin{align*}\n",
    "  \\rho v(a_{i},z_{j}) &= u(c_{i,j}) + v_{a}(a_{i},z_{j})s_{i,j} + \\color{magenta}{\\lambda \\big(v(a_{i},z_{-j})-v(a_{i},z_{j})\\big)}, \\\\\n",
    "  &= u(c_{i,j}) + v_{a,i,j}^{(F)} s_{i,j}^{(F)} \\mathbb{1}_{s_{i,j}^{(F)}>0} + v_{a,i,j}^{(B)} s_{i,j}^{(B)} \\mathbb{1}_{s_{i,j}^{(B)}<0} + \\color{magenta}{\\lambda v_{i,-j} - \\lambda v_{i,j}}\n",
    "\\end{align*}\n",
    "\n",
    "where\n",
    "\n",
    "$$\n",
    "  v_{a,i,j}^{(F)} = \\frac{v_{i+1,j}-v_{i,j}}{\\Delta a}, \\quad v_{a,i,j}^{(B)} = \\frac{v_{i,j}-v_{i-1,j}}{\\Delta a}\n",
    "$$\n",
    "\n",
    "<!-- Be careful of <font color=\"blue\">the boundary conditions, $v_{a,1,j}^{(B)}$ and $v_{a,n_{k},j}^{(F)}$</font>. -->\n",
    "\n",
    "- <font color=\"blue\">Boundaries: At $a_{1}$, set $v_{a,1,j}^{(B)} = u'(r a_{1} + z_{j})$</font>"
   ]
  },
  {
   "cell_type": "markdown",
   "metadata": {
    "slideshow": {
     "slide_type": "subslide"
    }
   },
   "source": [
    "By substituting them, we have\n",
    "\n",
    "\\begin{align*}\n",
    "  \\rho v(a_{i},z_{j}) &= u(c_{i,j}) + v_{a,i,j}^{(F)} s_{i,j}^{(F)} \\mathbb{1}_{s_{i,j}^{(F)}>0} + v_{a,i,j}^{(B)} s_{i,j}^{(B)} \\mathbb{1}_{s_{i,j}^{(B)}<0} + \\color{magenta}{\\lambda v_{i,-j} - \\lambda v_{i,j}}, \\\\\n",
    "  &= u(c_{i,j}) + \\frac{v_{i+1,j}-v_{i,j}}{\\Delta a} s_{i,j}^{(F)} \\mathbb{1}_{s_{i,j}^{(F)}>0} + \\frac{v_{i,j}-v_{i-1,j}}{\\Delta a} s_{i,j}^{(B)} \\mathbb{1}_{s_{i,j}^{(B)}<0} + \\color{magenta}{\\lambda v_{i,-j} - \\lambda v_{i,j}}, \\\\\n",
    "  &= u(c_{i,j}) + \\alpha_{i,j} v_{i-1,j} + \\beta_{i,j} v_{i,j} + \\xi_{i,j} v_{i+1,j} + \\color{magenta}{\\lambda v_{i,-j}}\n",
    "\\end{align*}\n",
    "\n",
    "where\n",
    "\n",
    "$$\n",
    "  \\alpha_{i,j} = \\frac{-s_{i,j}^{(B)} \\mathbb{1}_{s_{i,j}^{(B)}<0}}{\\Delta a}, \\quad \\beta_{i,j} = \\frac{-s_{i,j}^{(F)} \\mathbb{1}_{s_{i,j}^{(F)}>0} + s_{i,j}^{(B)} \\mathbb{1}_{s_{i,j}^{(B)}<0}}{\\Delta a} \\color{magenta}{- \\lambda}, \\quad \\xi_{i,j} = \\frac{s_{i,j}^{(F)} \\mathbb{1}_{s_{i,j}^{(F)}>0}}{\\Delta a}\n",
    "$$"
   ]
  },
  {
   "cell_type": "markdown",
   "metadata": {
    "slideshow": {
     "slide_type": "skip"
    }
   },
   "source": [
    "The optimal level of consumption is set to\n",
    "\n",
    "$$\n",
    "  c_{i} = u'^{-1}\\big( v_{k,i}^{(F)}\\mathbb{1}_{s_{i}^{(F)}>0} + v_{k,i}^{(B)}\\mathbb{1}_{s_{i}^{(B)}<0} + \\color{blue}{\\bar{v}_{k,i}\\mathbb{1}_{s_{i}^{(F)}\\leq0}\\mathbb{1}_{s_{i}^{(B)}\\geq0}}\\big)\n",
    "$$\n",
    "\n",
    "where <font color=\"blue\">$\\bar{v}_{k,i}=u'(f(k_{i}) - \\delta k_{i})$ (steady state consumption)</font>"
   ]
  },
  {
   "cell_type": "markdown",
   "metadata": {
    "slideshow": {
     "slide_type": "subslide"
    }
   },
   "source": [
    "It can be stacked into a matrix form: For example, $n_k=4$ and $n_z$ = 2\n",
    "\n",
    "$$\n",
    "    \\rho \\left[\n",
    "    \\begin{array}{c}\n",
    "    v_{1,1}\\\\\n",
    "    v_{2,1}\\\\\n",
    "    v_{3,1}\\\\\n",
    "    v_{4,1}\\\\\n",
    "    v_{1,2}\\\\\n",
    "    v_{2,2}\\\\\n",
    "    v_{3,2}\\\\\n",
    "    v_{4,2}\n",
    "    \\end{array} \\right] = \n",
    "    \\left[\n",
    "    \\begin{array}{c}\n",
    "    u(c_{1,1})\\\\\n",
    "    u(c_{2,1})\\\\\n",
    "    u(c_{3,1})\\\\\n",
    "    u(c_{4,1})\\\\\n",
    "    u(c_{1,2})\\\\\n",
    "    u(c_{2,2})\\\\\n",
    "    u(c_{3,2})\\\\\n",
    "    u(c_{4,2})\n",
    "    \\end{array} \\right] +\n",
    "    \\left[\n",
    "    \\begin{array}{cccccccc}\n",
    "    \\beta_{1,1} & \\xi_{1,1} & 0 & 0 & \\lambda & 0 & 0 & 0\\\\\n",
    "    \\alpha_{2,1} & \\beta_{2,1} & \\xi_{2,1} & 0 & 0 & \\lambda & 0 & 0 \\\\\n",
    "    0 & \\alpha_{3,1} & \\beta_{3,1} & \\xi_{3,1} & 0 & 0 & \\lambda & 0 \\\\\n",
    "    0 & 0 & \\alpha_{4,1} & \\beta_{4,1} & 0 & 0 & 0 & \\lambda \\\\\n",
    "    \\lambda & 0 & 0 & 0 & \\beta_{1,2} & \\xi_{1,2} & 0 & 0 \\\\\n",
    "    0 & \\lambda & 0 & 0 & \\alpha_{2,2} & \\beta_{2,2} & \\xi_{2,2} & 0 \\\\\n",
    "    0 & 0 & \\lambda & 0 & 0 & \\alpha_{3,2} & \\beta_{3,2} & \\xi_{3,2} \\\\\n",
    "    0 & 0 & 0 & \\lambda & 0 & 0 & \\alpha_{4,2} & \\beta_{4,2}\n",
    "    \\end{array}\n",
    "    \\right]\n",
    "    \\left[\n",
    "    \\begin{array}{c}\n",
    "    v_{1,1}\\\\\n",
    "    v_{2,1}\\\\\n",
    "    v_{3,1}\\\\\n",
    "    v_{4,1}\\\\\n",
    "    v_{1,2}\\\\\n",
    "    v_{2,2}\\\\\n",
    "    v_{3,2}\\\\\n",
    "    v_{4,2}\n",
    "    \\end{array} \\right]\n",
    "$$"
   ]
  },
  {
   "cell_type": "markdown",
   "metadata": {
    "slideshow": {
     "slide_type": "subslide"
    }
   },
   "source": [
    "Or\n",
    "\n",
    "$$\n",
    "  \\rho \\mathbf{v} = \\mathbf{u} + \\mathbf{A}\\mathbf{v}\n",
    "$$\n",
    "\n",
    "$\\mathbf{A}$ is a sparse matrix (graph).\n",
    "\n",
    "- Solve the system of equations using explicit or implicit method."
   ]
  },
  {
   "cell_type": "markdown",
   "metadata": {
    "slideshow": {
     "slide_type": "skip"
    }
   },
   "source": [
    "- We solve for $\\mathbf{v}$ by an iterative scheme.\n",
    "\n",
    "- Let $\\mathbf{v}^{n}$ be the value function from $n$th iteration\n",
    "    - **Explicit method**:\n",
    "\n",
    "    $$\n",
    "      \\frac{\\mathbf{v}^{n+1}-\\mathbf{v}^{n}}{\\Delta} + \\rho \\mathbf{v}^{n} = \\mathbf{u}^{n} + \\mathbf{A}^{n}\\mathbf{v}^{n}\n",
    "    $$\n",
    "\n",
    "    - **Implicit method**:\n",
    "\n",
    "    $$\n",
    "      \\frac{\\mathbf{v}^{n+1}-\\mathbf{v}^{n}}{\\Delta} + \\rho \\mathbf{v}^{n+1} = \\mathbf{u}^{n} + \\mathbf{A}^{n}\\mathbf{v}^{n+1}\n",
    "    $$\n",
    "\n",
    "where $\\Delta>0$ controls the speed of updating. "
   ]
  },
  {
   "cell_type": "markdown",
   "metadata": {
    "slideshow": {
     "slide_type": "skip"
    }
   },
   "source": [
    "- With the implicit method, we update $\\mathbf{v}^{n}$ by\n",
    "\n",
    "\\begin{align*}\n",
    "  & \\mathbf{v}^{n+1} + \\Delta\\rho\\mathbf{v}^{n+1} - \\Delta\\mathbf{A}^{n}\\mathbf{v}^{n+1} = \\Delta\\mathbf{u}^{n} + \\mathbf{v}^{n}, \\\\\n",
    "  \\Leftrightarrow & \\mathbf{v}^{n+1} = (\\mathbf{I} + \\Delta\\rho\\mathbf{I} - \\Delta\\mathbf{A}^{n})^{-1}(\\Delta\\mathbf{u}^{n} + \\mathbf{v}^{n}) \\\\\n",
    "\\end{align*}\n"
   ]
  },
  {
   "cell_type": "markdown",
   "metadata": {
    "slideshow": {
     "slide_type": "slide"
    }
   },
   "source": [
    "# Stationary distribution\n",
    "\n",
    "- To find an equilibrium price, we need to solve a stationary distribution\n",
    "\n",
    "- Recall the Huggett (1993) with equilibrium conditions\n",
    "\n",
    "$$\n",
    "  \\rho v(a,z) = \\max_{c} u(c) + v_{a}(a,z)s(a,z) + \\lambda \\big(v(a,z')-v(a,z)\\big) \\\\\n",
    "  s(a,z) = r a + z -c, \\quad a \\geq \\underline{a} \\\\\n",
    "  0 = \\sum_{z} \\int_{\\underline{a}}^{\\infty} a g(a,z) da \\\\\n",
    "  0 = -\\frac{d}{da}[s(a,z)g(a,z)] + \\lambda \\big(g(a,z') - g(a,z)\\big)\n",
    "$$"
   ]
  },
  {
   "cell_type": "markdown",
   "metadata": {
    "slideshow": {
     "slide_type": "subslide"
    }
   },
   "source": [
    "$$\n",
    "  \\frac{\\partial g(a,z)}{\\partial t} = -\\frac{d}{da}[s(a,z)g(a,z)] + \\lambda \\big(g(a,z') - g(a,z)\\big)\n",
    "$$\n",
    "\n",
    "is Kolmogorov forward equation, and 'stationary' implies\n",
    "\n",
    "$$\n",
    "  \\frac{\\partial g(a,z)}{\\partial t} = 0\n",
    "$$"
   ]
  },
  {
   "cell_type": "markdown",
   "metadata": {
    "slideshow": {
     "slide_type": "subslide"
    }
   },
   "source": [
    "## Deriving KFE\n",
    "\n",
    "TBD"
   ]
  },
  {
   "cell_type": "markdown",
   "metadata": {
    "slideshow": {
     "slide_type": "subslide"
    }
   },
   "source": [
    "## Solving KFE\n",
    "\n",
    "- To solve the KFE, approximate $dg/da$ with numerical derivatives by applying the upwind scheme.\n",
    "\n",
    "$$\n",
    "  0 = -\\frac{d}{da}[g(a,z)s(a,z)] + \\lambda \\big(g(a,z') - g(a,z)\\big)\n",
    "$$\n",
    "\n",
    "- The most convenient/correct approximation is"
   ]
  },
  {
   "cell_type": "markdown",
   "metadata": {
    "slideshow": {
     "slide_type": "subslide"
    }
   },
   "source": [
    "It can be stacked into a matrix form: For example, $n_k=4$ and $n_z$ = 2\n",
    "\n",
    "$$\n",
    "    \\left[\n",
    "    \\begin{array}{c}\n",
    "    0\\\\\n",
    "    0\\\\\n",
    "    0\\\\\n",
    "    0\\\\\n",
    "    0\\\\\n",
    "    0\\\\\n",
    "    0\\\\\n",
    "    0\n",
    "    \\end{array} \\right] = \n",
    "    \\left[\n",
    "    \\begin{array}{c}\n",
    "    u(c_{1,1})\\\\\n",
    "    u(c_{2,1})\\\\\n",
    "    u(c_{3,1})\\\\\n",
    "    u(c_{4,1})\\\\\n",
    "    u(c_{1,2})\\\\\n",
    "    u(c_{2,2})\\\\\n",
    "    u(c_{3,2})\\\\\n",
    "    u(c_{4,2})\n",
    "    \\end{array} \\right] +\n",
    "    \\left[\n",
    "    \\begin{array}{cccccccc}\n",
    "    \\beta_{1,1} & \\xi_{1,1} & 0 & 0 & \\lambda & 0 & 0 & 0\\\\\n",
    "    \\alpha_{2,1} & \\beta_{2,1} & \\xi_{2,1} & 0 & 0 & \\lambda & 0 & 0 \\\\\n",
    "    0 & \\alpha_{3,1} & \\beta_{3,1} & \\xi_{3,1} & 0 & 0 & \\lambda & 0 \\\\\n",
    "    0 & 0 & \\alpha_{4,1} & \\beta_{4,1} & 0 & 0 & 0 & \\lambda \\\\\n",
    "    \\lambda & 0 & 0 & 0 & \\beta_{1,2} & \\xi_{1,2} & 0 & 0 \\\\\n",
    "    0 & \\lambda & 0 & 0 & \\alpha_{2,2} & \\beta_{2,2} & \\xi_{2,2} & 0 \\\\\n",
    "    0 & 0 & \\lambda & 0 & 0 & \\alpha_{3,2} & \\beta_{3,2} & \\xi_{3,2} \\\\\n",
    "    0 & 0 & 0 & \\lambda & 0 & 0 & \\alpha_{4,2} & \\beta_{4,2}\n",
    "    \\end{array}\n",
    "    \\right]\n",
    "    \\left[\n",
    "    \\begin{array}{c}\n",
    "    v_{1,1}\\\\\n",
    "    v_{2,1}\\\\\n",
    "    v_{3,1}\\\\\n",
    "    v_{4,1}\\\\\n",
    "    v_{1,2}\\\\\n",
    "    v_{2,2}\\\\\n",
    "    v_{3,2}\\\\\n",
    "    v_{4,2}\n",
    "    \\end{array} \\right]\n",
    "$$"
   ]
  },
  {
   "cell_type": "code",
   "execution_count": null,
   "metadata": {},
   "outputs": [],
   "source": []
  },
  {
   "cell_type": "code",
   "execution_count": null,
   "metadata": {},
   "outputs": [],
   "source": []
  }
 ],
 "metadata": {
  "@webio": {
   "lastCommId": null,
   "lastKernelId": null
  },
  "celltoolbar": "Slideshow",
  "kernelspec": {
   "display_name": "Julia 1.5.3",
   "language": "julia",
   "name": "julia-1.5"
  },
  "language_info": {
   "file_extension": ".jl",
   "mimetype": "application/julia",
   "name": "julia",
   "version": "1.5.3"
  },
  "rise": {
   "enable_chalkboard": true
  }
 },
 "nbformat": 4,
 "nbformat_minor": 4
}
