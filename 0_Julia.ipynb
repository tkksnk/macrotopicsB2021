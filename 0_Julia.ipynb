{
 "cells": [
  {
   "cell_type": "markdown",
   "metadata": {
    "slideshow": {
     "slide_type": "slide"
    }
   },
   "source": [
    "# Using Julia for Economic Analysis\n",
    "\n",
    "June 2021, Takeki Sunakawa"
   ]
  },
  {
   "cell_type": "markdown",
   "metadata": {
    "slideshow": {
     "slide_type": "slide"
    }
   },
   "source": [
    "# Computer programming in Economics\n",
    "\n",
    "- Necessary?"
   ]
  },
  {
   "cell_type": "markdown",
   "metadata": {
    "slideshow": {
     "slide_type": "fragment"
    }
   },
   "source": [
    "- Yes, especially for Macro (also for Metrics, IO, etc.)"
   ]
  },
  {
   "cell_type": "markdown",
   "metadata": {
    "slideshow": {
     "slide_type": "fragment"
    }
   },
   "source": [
    "- People have used Matlab, R, and Fortran."
   ]
  },
  {
   "cell_type": "markdown",
   "metadata": {
    "slideshow": {
     "slide_type": "fragment"
    }
   },
   "source": [
    "- Recently other alternatives, such as Python and Julia, are available for economists."
   ]
  },
  {
   "cell_type": "markdown",
   "metadata": {
    "slideshow": {
     "slide_type": "subslide"
    }
   },
   "source": [
    "# Necessity for Julia\n",
    "\n",
    "<!-- - ... partly due to COVID-19. -->\n",
    "<!--- Hitotsubashi University has an enterprise license for Matlab, but it cannot be used remotely.-->"
   ]
  },
  {
   "cell_type": "markdown",
   "metadata": {
    "slideshow": {
     "slide_type": "fragment"
    }
   },
   "source": [
    "- __Julia__ is free, and remotely accessible."
   ]
  },
  {
   "cell_type": "markdown",
   "metadata": {
    "slideshow": {
     "slide_type": "fragment"
    }
   },
   "source": [
    "- My talk below is based on lecture notes by John Stachurski, one of the founders of QuantEcon [https://quantecon.org/](https://quantecon.org/)."
   ]
  },
  {
   "cell_type": "markdown",
   "metadata": {
    "slideshow": {
     "slide_type": "subslide"
    }
   },
   "source": [
    "# Scientific programming environments\n",
    "\n",
    "- Low-level languages: More programming, less running time\n",
    "  - C, C++\n",
    "  - Fortran"
   ]
  },
  {
   "cell_type": "markdown",
   "metadata": {
    "slideshow": {
     "slide_type": "fragment"
    }
   },
   "source": [
    "- High-level languages: Less programming, more running time\n",
    "  - MATLAB\n",
    "  - R\n",
    "  - Python\n",
    "  - Julia\n",
    "  - etc."
   ]
  },
  {
   "cell_type": "markdown",
   "metadata": {
    "slideshow": {
     "slide_type": "fragment"
    }
   },
   "source": [
    "- In Macro, MATLAB is popular. If you need speed, Fortran is alternative."
   ]
  },
  {
   "cell_type": "markdown",
   "metadata": {
    "slideshow": {
     "slide_type": "subslide"
    }
   },
   "source": [
    "# What is Julia?\n",
    "\n",
    "- A high-level, general purpose programming language"
   ]
  },
  {
   "cell_type": "markdown",
   "metadata": {
    "slideshow": {
     "slide_type": "skip"
    }
   },
   "source": [
    "- Used extensively by tech firms, finance industy, government, and academia. Also became very popular in Data Science (See [https://pypl.github.io/PYPL.html](https://pypl.github.io/PYPL.html))"
   ]
  },
  {
   "cell_type": "markdown",
   "metadata": {
    "slideshow": {
     "slide_type": "fragment"
    }
   },
   "source": [
    "- Free and open source"
   ]
  },
  {
   "cell_type": "markdown",
   "metadata": {
    "slideshow": {
     "slide_type": "fragment"
    }
   },
   "source": [
    "- A lot of **packages** for particular purposes"
   ]
  },
  {
   "cell_type": "markdown",
   "metadata": {
    "slideshow": {
     "slide_type": "subslide"
    }
   },
   "source": [
    "# Packages\n",
    "\n",
    "- We use the following packages for Julia <!--(by typing e.g. `import numpy`).-->\n",
    "\n",
    "- Packages can be installed by `import Pkg; Pkgs.add(\"$name\")` or press `]` and `add $name`"
   ]
  },
  {
   "cell_type": "markdown",
   "metadata": {
    "slideshow": {
     "slide_type": "fragment"
    }
   },
   "source": [
    "- Examples of packages:\n",
    "    - `Printf` format output (c.f., sprintf in MATLAB)\n",
    "\n",
    "    - `Random` pseudo random number generators\n",
    "\n",
    "    - `Statistics` calculate mean, standard deviation, etc.\n",
    "    \n",
    "    - `Plots` 2D and 3D figures\n",
    "    \n",
    "    - ... and more"
   ]
  },
  {
   "cell_type": "markdown",
   "metadata": {
    "slideshow": {
     "slide_type": "subslide"
    }
   },
   "source": [
    "Example: Mean and std. dev. of an array"
   ]
  },
  {
   "cell_type": "code",
   "execution_count": 83,
   "metadata": {
    "slideshow": {
     "slide_type": "fragment"
    }
   },
   "outputs": [
    {
     "name": "stdout",
     "output_type": "stream",
     "text": [
      "[0.7863314042452206, -0.09143007851376717, 0.054753459116163396, 0.6634434918111602, -2.0162511454644703]\n",
      "1.619341661395887e-5\n",
      "0.9999476168358677\n",
      "The 1234th element of a is 1.8105\n"
     ]
    }
   ],
   "source": [
    "using Printf\n",
    "using Random\n",
    "using Statistics\n",
    "\n",
    "a = randn(100000000) # std. normal\n",
    "println(a[1:5])\n",
    "# print(np.shape(a))\n",
    "println(mean(a))\n",
    "println(std(a))  \n",
    "println(@sprintf(\"The 1234th element of a is %1.4f\",a[1234]))"
   ]
  },
  {
   "cell_type": "markdown",
   "metadata": {
    "slideshow": {
     "slide_type": "subslide"
    }
   },
   "source": [
    "# Why Julia?\n",
    "\n",
    "1. Open source (free!)"
   ]
  },
  {
   "cell_type": "markdown",
   "metadata": {
    "slideshow": {
     "slide_type": "fragment"
    }
   },
   "source": [
    "2. General purpose"
   ]
  },
  {
   "cell_type": "markdown",
   "metadata": {
    "slideshow": {
     "slide_type": "fragment"
    }
   },
   "source": [
    "3. Easy to use, well designed"
   ]
  },
  {
   "cell_type": "markdown",
   "metadata": {
    "slideshow": {
     "slide_type": "fragment"
    }
   },
   "source": [
    "4. Remotely accessible"
   ]
  },
  {
   "cell_type": "markdown",
   "metadata": {
    "slideshow": {
     "slide_type": "subslide"
    }
   },
   "source": [
    "# Interacting with Julia\n",
    "\n",
    "We will interact with Julia using Jupyter Notebook\n",
    "- A browser-based front end to Python, Julia, R, etc.\n",
    "\n",
    "- Stores output as well as input\n",
    "\n",
    "- Allows for rich text, graphics, etc.\n",
    "\n",
    "- Easy to run remotely in cloud (Google Colab, Azure Notebook)\n",
    "\n",
    "This slide deck is also based on Jupyter Notebook!"
   ]
  },
  {
   "cell_type": "markdown",
   "metadata": {
    "slideshow": {
     "slide_type": "slide"
    }
   },
   "source": [
    "# Julia 101\n",
    "\n",
    "- If you are already familiar with Matlab (or Python), just look at https://cheatsheets.quantecon.org/.\n",
    "\n",
    "## Number manipulation\n",
    "\n",
    "- `+`: addition, `-`: substruction, `*`: multiplication, `/`: division\n",
    "- `println` shows the results with starting a new line."
   ]
  },
  {
   "cell_type": "code",
   "execution_count": 1,
   "metadata": {
    "slideshow": {
     "slide_type": "fragment"
    }
   },
   "outputs": [
    {
     "name": "stdout",
     "output_type": "stream",
     "text": [
      "3\n",
      "-1\n",
      "2\n",
      "0.5\n"
     ]
    }
   ],
   "source": [
    "println(1+2)\n",
    "println(1-2)\n",
    "println(1*2)\n",
    "println(1/2)"
   ]
  },
  {
   "cell_type": "markdown",
   "metadata": {
    "slideshow": {
     "slide_type": "subslide"
    }
   },
   "source": [
    "## Variables\n",
    "\n",
    "- `=` for substitution"
   ]
  },
  {
   "cell_type": "code",
   "execution_count": 2,
   "metadata": {
    "slideshow": {
     "slide_type": "fragment"
    }
   },
   "outputs": [
    {
     "data": {
      "text/plain": [
       "0.5"
      ]
     },
     "execution_count": 2,
     "metadata": {},
     "output_type": "execute_result"
    }
   ],
   "source": [
    "a = 1.0\n",
    "b = 2.0\n",
    "a/b"
   ]
  },
  {
   "cell_type": "markdown",
   "metadata": {
    "slideshow": {
     "slide_type": "subslide"
    }
   },
   "source": [
    "## Arrays\n",
    "\n",
    "- Arrays can be made by `[]`. Commas are used to add elements.\n",
    "<!-- - Arrays are handled by NumPy package. Type `import numpy as np` prior to use. `np` is called alias. -->"
   ]
  },
  {
   "cell_type": "markdown",
   "metadata": {
    "slideshow": {
     "slide_type": "skip"
    }
   },
   "source": [
    "- Each NumPy function can be used with `np`. \n",
    "  - For example, `np.array([1,2])`makes a $(2\\times1)$ vector $[1,2]'$.\n",
    "  - `np.shape` returns the shape of the array."
   ]
  },
  {
   "cell_type": "code",
   "execution_count": 5,
   "metadata": {
    "slideshow": {
     "slide_type": "fragment"
    }
   },
   "outputs": [
    {
     "name": "stdout",
     "output_type": "stream",
     "text": [
      "[1, 2]\n",
      "(2,)\n"
     ]
    }
   ],
   "source": [
    "\n",
    "# An array is made by\n",
    "b = [1,2]\n",
    "println(b)\n",
    "println(size(b))"
   ]
  },
  {
   "cell_type": "markdown",
   "metadata": {
    "slideshow": {
     "slide_type": "subslide"
    }
   },
   "source": [
    "- The index for a n-size array starts from 1 to n (not from 0 to n-1).\n",
    "<!-- Arrays with size n are column vectors. Row vectors are (1xn) matrices.-->"
   ]
  },
  {
   "cell_type": "code",
   "execution_count": 7,
   "metadata": {
    "slideshow": {
     "slide_type": "fragment"
    }
   },
   "outputs": [
    {
     "name": "stdout",
     "output_type": "stream",
     "text": [
      "1\n",
      "2\n"
     ]
    },
    {
     "ename": "LoadError",
     "evalue": "BoundsError: attempt to access 2-element Vector{Int64} at index [0]",
     "output_type": "error",
     "traceback": [
      "BoundsError: attempt to access 2-element Vector{Int64} at index [0]",
      "",
      "Stacktrace:",
      " [1] getindex(A::Vector{Int64}, i1::Int64)",
      "   @ Base .\\array.jl:801",
      " [2] top-level scope",
      "   @ In[7]:4",
      " [3] eval",
      "   @ .\\boot.jl:360 [inlined]",
      " [4] include_string(mapexpr::typeof(REPL.softscope), mod::Module, code::String, filename::String)",
      "   @ Base .\\loading.jl:1094"
     ]
    }
   ],
   "source": [
    "# index in n-size array starts from 1 to n\n",
    "println(b[1])\n",
    "println(b[2])\n",
    "println(b[0])"
   ]
  },
  {
   "cell_type": "markdown",
   "metadata": {
    "slideshow": {
     "slide_type": "subslide"
    }
   },
   "source": [
    "- `collect(range(i,stop=j,step=k))` returns a vector start from i to j with increment size k.\n",
    "\n",
    "\n",
    "- `collect(LinRange(1,10,10))` returns the same vector as what `collect(range(1.0,stop=10.0,10.0))` (with some rounding errors) "
   ]
  },
  {
   "cell_type": "code",
   "execution_count": 85,
   "metadata": {
    "slideshow": {
     "slide_type": "fragment"
    }
   },
   "outputs": [
    {
     "name": "stdout",
     "output_type": "stream",
     "text": [
      "[1.0, 2.0, 3.0, 4.0, 5.0, 6.0, 7.0, 8.0, 9.0, 10.0]\n",
      "[1.0, 3.0, 5.0, 7.0, 9.0]\n"
     ]
    }
   ],
   "source": [
    "b = collect(range(1.0,stop=10.0,step=1.0)) # 1:10 in matlab\n",
    "println(b)\n",
    "\n",
    "b = collect(range(1.0,stop=9.0,step=2.0)) # 1:2:9 in matlab\n",
    "println(b)\n",
    "\n",
    "# b = collect(LinRange(1,10,10))\n",
    "# println(b)"
   ]
  },
  {
   "cell_type": "markdown",
   "metadata": {
    "slideshow": {
     "slide_type": "subslide"
    }
   },
   "source": [
    "- Broadcast: element-by-element manipulation by `.`."
   ]
  },
  {
   "cell_type": "code",
   "execution_count": 87,
   "metadata": {
    "slideshow": {
     "slide_type": "fragment"
    }
   },
   "outputs": [
    {
     "name": "stdout",
     "output_type": "stream",
     "text": [
      "[1.0, 3.0, 5.0, 7.0, 9.0]\n",
      "[1.0, 9.0, 25.0, 49.0, 81.0]\n"
     ]
    }
   ],
   "source": [
    "# broadcast\n",
    "println(b)\n",
    "buf = b.^2\n",
    "println(buf)"
   ]
  },
  {
   "cell_type": "markdown",
   "metadata": {
    "slideshow": {
     "slide_type": "subslide"
    }
   },
   "source": [
    "# Vectors and matrices\n",
    "\n",
    "- Subsets of arrays.\n",
    "- `reshape(b,n,m)` reshapes an array `b`."
   ]
  },
  {
   "cell_type": "code",
   "execution_count": 47,
   "metadata": {
    "slideshow": {
     "slide_type": "fragment"
    }
   },
   "outputs": [
    {
     "name": "stdout",
     "output_type": "stream",
     "text": [
      "(2,)\n",
      "(2, 1)\n",
      "(1, 2)\n",
      "[1 0; 2 3]\n",
      "(2, 2)\n"
     ]
    }
   ],
   "source": [
    "# array ((2x1) col vector )\n",
    "b = [1,2]\n",
    "# b = [2;1]\n",
    "println(size(b))\n",
    "\n",
    "# (2x1) col vector\n",
    "colb = reshape(b,2,1)\n",
    "println(size(colb))\n",
    "\n",
    "# (1x2) row vector\n",
    "# rowb = reshape(b,1,2)\n",
    "rowb = [1 2]\n",
    "println(size(rowb))\n",
    "\n",
    "# matrix\n",
    "A = [1 0; 2 3]\n",
    "println(A)\n",
    "println(size(A))"
   ]
  },
  {
   "cell_type": "markdown",
   "metadata": {
    "slideshow": {
     "slide_type": "subslide"
    }
   },
   "source": [
    "- `*` is also used for matrix multiplication."
   ]
  },
  {
   "cell_type": "code",
   "execution_count": 46,
   "metadata": {
    "slideshow": {
     "slide_type": "fragment"
    }
   },
   "outputs": [
    {
     "name": "stdout",
     "output_type": "stream",
     "text": [
      "[1 0; 2 3]\n",
      "[1; 2]\n",
      "[1; 8]\n",
      "(2, 1)\n"
     ]
    }
   ],
   "source": [
    "# mutiplication\n",
    "A = [1 0; 2 3] # (2x2) matrix\n",
    "println(A)\n",
    "b = reshape([1,2],2,1)         # 2-element array is (2x1) column vector\n",
    "println(b)\n",
    "\n",
    "println(A*b)                  # (2x2) times (2x1)\n",
    "println(size(A*b))"
   ]
  },
  {
   "cell_type": "markdown",
   "metadata": {
    "slideshow": {
     "slide_type": "subslide"
    }
   },
   "source": [
    "- Slicing arrays: `b[i:j]` slices elements of b from i to j.\n",
    "\n",
    "\n",
    "- Can be applied to matrices (or arrays with higher dimensions)\n"
   ]
  },
  {
   "cell_type": "code",
   "execution_count": 48,
   "metadata": {
    "slideshow": {
     "slide_type": "fragment"
    }
   },
   "outputs": [
    {
     "name": "stdout",
     "output_type": "stream",
     "text": [
      "[1.0, 2.0, 3.0, 4.0, 5.0, 6.0, 7.0, 8.0, 9.0, 10.0]\n",
      "[1.0, 2.0]\n",
      "[1 0; 2 3; 4 5]\n",
      "[1 0; 2 3]\n"
     ]
    }
   ],
   "source": [
    "b = collect(range(1.0,stop=10.0,step=1.0)) # 1:10 in Matlab\n",
    "println(b)\n",
    "println(b[1:2])         # b(1:2) in Matlab\n",
    "\n",
    "A = [1 0; 2 3; 4 5]\n",
    "println(A)\n",
    "println(A[1:2,:])       # A(1:2,:) in Matlab "
   ]
  },
  {
   "cell_type": "markdown",
   "metadata": {
    "slideshow": {
     "slide_type": "subslide"
    }
   },
   "source": [
    "- Other useful commands: `zeros`, `transpose`, `inv`, etc."
   ]
  },
  {
   "cell_type": "code",
   "execution_count": 55,
   "metadata": {
    "slideshow": {
     "slide_type": "fragment"
    }
   },
   "outputs": [
    {
     "name": "stdout",
     "output_type": "stream",
     "text": [
      "[0.0, 0.0]\n",
      "[0.0 0.0; 0.0 0.0]\n",
      "[1 0; 0 1]\n",
      "[1 2; 0 3]\n",
      "[1.0 0.0; -0.6666666666666666 0.3333333333333333]\n"
     ]
    }
   ],
   "source": [
    "# zeros\n",
    "println(zeros(2))\n",
    "println(zeros((2,2)))\n",
    "\n",
    "# identity\n",
    "println([1 0; 0 1])\n",
    "\n",
    "# transpose\n",
    "A = [1 0; 2 3] # (2x2) matrix\n",
    "trA = transpose(A)\n",
    "# trA = A'\n",
    "println(trA)\n",
    "\n",
    "# inverse\n",
    "invA = inv(A)\n",
    "println(invA)"
   ]
  },
  {
   "cell_type": "code",
   "execution_count": null,
   "metadata": {
    "slideshow": {
     "slide_type": "skip"
    }
   },
   "outputs": [],
   "source": [
    "# An array is made by\n",
    "b = np.array([1,2])\n",
    "print(b)\n",
    "\n",
    "# which is different from row vector (1x2)\n",
    "rowb = np.array([1,2]).reshape(1,2)\n",
    "print(np.shape(rowb))\n",
    "\n",
    "# NOTE: transposing an array is ...\n",
    "trb = b.T # still array\n",
    "print(np.shape(trb))\n",
    "\n",
    "trrowb = rowb.T # transposing a row vector makes a column vector\n",
    "print(np.shape(trrowb))\n"
   ]
  },
  {
   "cell_type": "markdown",
   "metadata": {
    "slideshow": {
     "slide_type": "subslide"
    }
   },
   "source": [
    "## Loops\n",
    "### For loops:\n",
    "\n",
    "- A code block that iterates a procedure for a certain number of times.\n",
    "\n",
    "- The following code calculates 0+1+2+3+4=10.\n",
    "\n",
    "- The sum is equal to 0+0=0, 0+1=1, 1+2=3, 3+3=6, 6+4=10 in each loop."
   ]
  },
  {
   "cell_type": "code",
   "execution_count": 56,
   "metadata": {
    "slideshow": {
     "slide_type": "fragment"
    }
   },
   "outputs": [
    {
     "name": "stdout",
     "output_type": "stream",
     "text": [
      "1\n",
      "3\n",
      "6\n",
      "10\n",
      "15\n",
      "15\n"
     ]
    }
   ],
   "source": [
    "sum = 0 # initial value\n",
    "for i in 1:5 # i=0,1,2,3,4\n",
    "    sum = sum + i        # add i to the previous sum\n",
    "    println(sum)\n",
    "end\n",
    "println(sum)"
   ]
  },
  {
   "cell_type": "markdown",
   "metadata": {
    "slideshow": {
     "slide_type": "skip"
    }
   },
   "source": [
    "- Code blocks are preceded with colon `:` and delimited by indentations (= __4 spaces__)."
   ]
  },
  {
   "cell_type": "markdown",
   "metadata": {
    "slideshow": {
     "slide_type": "skip"
    }
   },
   "source": [
    "- NOTE: Tabs and spaces are different."
   ]
  },
  {
   "cell_type": "markdown",
   "metadata": {
    "slideshow": {
     "slide_type": "subslide"
    }
   },
   "source": [
    "### While loops: \n",
    "\n",
    "- A code block that iterates a procedure until a certain conditon is met.\n",
    "\n",
    "- The following code, again, calculates 0+1+2+3+4=10."
   ]
  },
  {
   "cell_type": "code",
   "execution_count": 57,
   "metadata": {
    "slideshow": {
     "slide_type": "fragment"
    }
   },
   "outputs": [
    {
     "name": "stdout",
     "output_type": "stream",
     "text": [
      "[0, 0]\n",
      "[1, 1]\n",
      "[2, 3]\n",
      "[3, 6]\n",
      "[4, 10]\n",
      "10\n"
     ]
    }
   ],
   "source": [
    "sum = 0 # initial value of sum\n",
    "i = 0   # initial value of i\n",
    "while i<5 # i=0,1,2,3,4\n",
    "    sum = sum + i # add i to the previous sum\n",
    "    println([i,sum])\n",
    "    i = i + 1 # i is increased here\n",
    "end\n",
    "println(sum)"
   ]
  },
  {
   "cell_type": "markdown",
   "metadata": {
    "slideshow": {
     "slide_type": "subslide"
    }
   },
   "source": [
    "## If clause\n",
    "\n",
    "- If the condition is true, we execute a certain procedure. Otherwise, we do nothing or execute another procedure."
   ]
  },
  {
   "cell_type": "code",
   "execution_count": 62,
   "metadata": {
    "slideshow": {
     "slide_type": "fragment"
    }
   },
   "outputs": [
    {
     "name": "stdout",
     "output_type": "stream",
     "text": [
      "a is greater than b.\n"
     ]
    }
   ],
   "source": [
    "a = 3; b = 4;\n",
    "if (a<b)\n",
    "    println(\"a is greater than b.\")\n",
    "else\n",
    "    println(\"b is greater than or equal to a.\")\n",
    "end"
   ]
  },
  {
   "cell_type": "markdown",
   "metadata": {
    "slideshow": {
     "slide_type": "subslide"
    }
   },
   "source": [
    "# Displaying results\n",
    "\n",
    "- `println` shows the results.\n",
    "\n",
    "- `@sprintf` with a certain format can be used to substitute numbers into strings (like sprintf in Matlab).\n",
    "  - For example, `%1.4f` prints a number with the float type.\n",
    "  - You need to install `Printf` package. Need to load the package by `using Printf`."
   ]
  },
  {
   "cell_type": "code",
   "execution_count": 63,
   "metadata": {
    "slideshow": {
     "slide_type": "fragment"
    }
   },
   "outputs": [
    {
     "name": "stdout",
     "output_type": "stream",
     "text": [
      "[1, 2]\n",
      "x is equal to 1.5000"
     ]
    }
   ],
   "source": [
    "using Printf\n",
    "\n",
    "a = [1,2]\n",
    "println(a)\n",
    "\n",
    "x = 1.5\n",
    "buf = @sprintf(\"x is equal to %1.4f\",x) \n",
    "print(buf)"
   ]
  },
  {
   "cell_type": "markdown",
   "metadata": {
    "slideshow": {
     "slide_type": "subslide"
    }
   },
   "source": [
    "# Figures\n",
    "\n",
    "- `Plot` package is used to plot figures. Need to load the package by `using Plot`.\n",
    "  - A format for line and dots can be specified."
   ]
  },
  {
   "cell_type": "code",
   "execution_count": 4,
   "metadata": {
    "slideshow": {
     "slide_type": "fragment"
    }
   },
   "outputs": [
    {
     "data": {
      "image/svg+xml": [
       "<?xml version=\"1.0\" encoding=\"utf-8\"?>\n",
       "<svg xmlns=\"http://www.w3.org/2000/svg\" xmlns:xlink=\"http://www.w3.org/1999/xlink\" width=\"750\" height=\"500\" viewBox=\"0 0 3000 2000\">\n",
       "<defs>\n",
       "  <clipPath id=\"clip340\">\n",
       "    <rect x=\"0\" y=\"0\" width=\"3000\" height=\"2000\"/>\n",
       "  </clipPath>\n",
       "</defs>\n",
       "<path clip-path=\"url(#clip340)\" d=\"\n",
       "M0 2000 L3000 2000 L3000 0 L0 0  Z\n",
       "  \" fill=\"#ffffff\" fill-rule=\"evenodd\" fill-opacity=\"1\"/>\n",
       "<defs>\n",
       "  <clipPath id=\"clip341\">\n",
       "    <rect x=\"600\" y=\"0\" width=\"2101\" height=\"2000\"/>\n",
       "  </clipPath>\n",
       "</defs>\n",
       "<path clip-path=\"url(#clip340)\" d=\"\n",
       "M57.9875 1955.61 L2988.19 1955.61 L2988.19 30.868 L57.9875 30.868  Z\n",
       "  \" fill=\"#ffffff\" fill-rule=\"evenodd\" fill-opacity=\"1\"/>\n",
       "<defs>\n",
       "  <clipPath id=\"clip342\">\n",
       "    <rect x=\"57\" y=\"30\" width=\"2931\" height=\"1926\"/>\n",
       "  </clipPath>\n",
       "</defs>\n",
       "<polyline clip-path=\"url(#clip342)\" style=\"stroke:#000000; stroke-width:0.5; stroke-opacity:0.1; fill:none\" points=\"\n",
       "  417.352,1955.61 417.352,30.868 \n",
       "  \"/>\n",
       "<polyline clip-path=\"url(#clip342)\" style=\"stroke:#000000; stroke-width:0.5; stroke-opacity:0.1; fill:none\" points=\"\n",
       "  970.22,1955.61 970.22,30.868 \n",
       "  \"/>\n",
       "<polyline clip-path=\"url(#clip342)\" style=\"stroke:#000000; stroke-width:0.5; stroke-opacity:0.1; fill:none\" points=\"\n",
       "  1523.09,1955.61 1523.09,30.868 \n",
       "  \"/>\n",
       "<polyline clip-path=\"url(#clip342)\" style=\"stroke:#000000; stroke-width:0.5; stroke-opacity:0.1; fill:none\" points=\"\n",
       "  2075.96,1955.61 2075.96,30.868 \n",
       "  \"/>\n",
       "<polyline clip-path=\"url(#clip342)\" style=\"stroke:#000000; stroke-width:0.5; stroke-opacity:0.1; fill:none\" points=\"\n",
       "  2628.82,1955.61 2628.82,30.868 \n",
       "  \"/>\n",
       "<polyline clip-path=\"url(#clip340)\" style=\"stroke:#000000; stroke-width:1; stroke-opacity:1; fill:none\" points=\"\n",
       "  57.9875,1955.61 2988.19,1955.61 \n",
       "  \"/>\n",
       "<polyline clip-path=\"url(#clip340)\" style=\"stroke:#000000; stroke-width:1; stroke-opacity:1; fill:none\" points=\"\n",
       "  417.352,1955.61 417.352,1932.52 \n",
       "  \"/>\n",
       "<polyline clip-path=\"url(#clip340)\" style=\"stroke:#000000; stroke-width:1; stroke-opacity:1; fill:none\" points=\"\n",
       "  970.22,1955.61 970.22,1932.52 \n",
       "  \"/>\n",
       "<polyline clip-path=\"url(#clip340)\" style=\"stroke:#000000; stroke-width:1; stroke-opacity:1; fill:none\" points=\"\n",
       "  1523.09,1955.61 1523.09,1932.52 \n",
       "  \"/>\n",
       "<polyline clip-path=\"url(#clip340)\" style=\"stroke:#000000; stroke-width:1; stroke-opacity:1; fill:none\" points=\"\n",
       "  2075.96,1955.61 2075.96,1932.52 \n",
       "  \"/>\n",
       "<polyline clip-path=\"url(#clip340)\" style=\"stroke:#000000; stroke-width:1; stroke-opacity:1; fill:none\" points=\"\n",
       "  2628.82,1955.61 2628.82,1932.52 \n",
       "  \"/>\n",
       "<path clip-path=\"url(#clip340)\" d=\"M 0 0 M410.205 1985.77 L417.624 1985.77 L417.624 1986.76 L410.205 1986.76 L410.205 1985.77 Z\" fill=\"#000000\" fill-rule=\"evenodd\" fill-opacity=\"1\" /><path clip-path=\"url(#clip340)\" d=\"M 0 0 M422.103 1982.36 L419.152 1986.97 L422.103 1986.97 L422.103 1982.36 M421.796 1981.34 L423.266 1981.34 L423.266 1986.97 L424.499 1986.97 L424.499 1987.94 L423.266 1987.94 L423.266 1989.98 L422.103 1989.98 L422.103 1987.94 L418.203 1987.94 L418.203 1986.81 L421.796 1981.34 Z\" fill=\"#000000\" fill-rule=\"evenodd\" fill-opacity=\"1\" /><path clip-path=\"url(#clip340)\" d=\"M 0 0 M963.334 1985.77 L970.752 1985.77 L970.752 1986.76 L963.334 1986.76 L963.334 1985.77 Z\" fill=\"#000000\" fill-rule=\"evenodd\" fill-opacity=\"1\" /><path clip-path=\"url(#clip340)\" d=\"M 0 0 M973.027 1989 L977.107 1989 L977.107 1989.98 L971.621 1989.98 L971.621 1989 Q972.286 1988.31 973.432 1987.15 Q974.583 1985.99 974.879 1985.65 Q975.44 1985.02 975.66 1984.59 Q975.886 1984.15 975.886 1983.72 Q975.886 1983.04 975.399 1982.6 Q974.919 1982.17 974.144 1982.17 Q973.594 1982.17 972.98 1982.36 Q972.373 1982.55 971.678 1982.94 L971.678 1981.76 Q972.384 1981.47 972.998 1981.33 Q973.611 1981.18 974.121 1981.18 Q975.463 1981.18 976.262 1981.86 Q977.06 1982.53 977.06 1983.65 Q977.06 1984.18 976.858 1984.66 Q976.661 1985.14 976.134 1985.78 Q975.99 1985.95 975.214 1986.76 Q974.439 1987.56 973.027 1989 Z\" fill=\"#000000\" fill-rule=\"evenodd\" fill-opacity=\"1\" /><path clip-path=\"url(#clip340)\" d=\"M 0 0 M1523.09 1982.11 Q1522.19 1982.11 1521.73 1983 Q1521.28 1983.89 1521.28 1985.67 Q1521.28 1987.45 1521.73 1988.34 Q1522.19 1989.22 1523.09 1989.22 Q1524 1989.22 1524.45 1988.34 Q1524.91 1987.45 1524.91 1985.67 Q1524.91 1983.89 1524.45 1983 Q1524 1982.11 1523.09 1982.11 M1523.09 1981.18 Q1524.54 1981.18 1525.3 1982.34 Q1526.07 1983.48 1526.07 1985.67 Q1526.07 1987.85 1525.3 1989 Q1524.54 1990.15 1523.09 1990.15 Q1521.64 1990.15 1520.87 1989 Q1520.1 1987.85 1520.1 1985.67 Q1520.1 1983.48 1520.87 1982.34 Q1521.64 1981.18 1523.09 1981.18 Z\" fill=\"#000000\" fill-rule=\"evenodd\" fill-opacity=\"1\" /><path clip-path=\"url(#clip340)\" d=\"M 0 0 M2074.62 1989 L2078.7 1989 L2078.7 1989.98 L2073.21 1989.98 L2073.21 1989 Q2073.88 1988.31 2075.02 1987.15 Q2076.18 1985.99 2076.47 1985.65 Q2077.03 1985.02 2077.25 1984.59 Q2077.48 1984.15 2077.48 1983.72 Q2077.48 1983.04 2076.99 1982.6 Q2076.51 1982.17 2075.74 1982.17 Q2075.19 1982.17 2074.57 1982.36 Q2073.97 1982.55 2073.27 1982.94 L2073.27 1981.76 Q2073.98 1981.47 2074.59 1981.33 Q2075.2 1981.18 2075.71 1981.18 Q2077.06 1981.18 2077.85 1981.86 Q2078.65 1982.53 2078.65 1983.65 Q2078.65 1984.18 2078.45 1984.66 Q2078.25 1985.14 2077.73 1985.78 Q2077.58 1985.95 2076.81 1986.76 Q2076.03 1987.56 2074.62 1989 Z\" fill=\"#000000\" fill-rule=\"evenodd\" fill-opacity=\"1\" /><path clip-path=\"url(#clip340)\" d=\"M 0 0 M2629.58 1982.36 L2626.63 1986.97 L2629.58 1986.97 L2629.58 1982.36 M2629.27 1981.34 L2630.74 1981.34 L2630.74 1986.97 L2631.97 1986.97 L2631.97 1987.94 L2630.74 1987.94 L2630.74 1989.98 L2629.58 1989.98 L2629.58 1987.94 L2625.68 1987.94 L2625.68 1986.81 L2629.27 1981.34 Z\" fill=\"#000000\" fill-rule=\"evenodd\" fill-opacity=\"1\" /><polyline clip-path=\"url(#clip342)\" style=\"stroke:#000000; stroke-width:0.5; stroke-opacity:0.1; fill:none\" points=\"\n",
       "  57.9875,1901.14 2988.19,1901.14 \n",
       "  \"/>\n",
       "<polyline clip-path=\"url(#clip342)\" style=\"stroke:#000000; stroke-width:0.5; stroke-opacity:0.1; fill:none\" points=\"\n",
       "  57.9875,1537.98 2988.19,1537.98 \n",
       "  \"/>\n",
       "<polyline clip-path=\"url(#clip342)\" style=\"stroke:#000000; stroke-width:0.5; stroke-opacity:0.1; fill:none\" points=\"\n",
       "  57.9875,1174.82 2988.19,1174.82 \n",
       "  \"/>\n",
       "<polyline clip-path=\"url(#clip342)\" style=\"stroke:#000000; stroke-width:0.5; stroke-opacity:0.1; fill:none\" points=\"\n",
       "  57.9875,811.66 2988.19,811.66 \n",
       "  \"/>\n",
       "<polyline clip-path=\"url(#clip342)\" style=\"stroke:#000000; stroke-width:0.5; stroke-opacity:0.1; fill:none\" points=\"\n",
       "  57.9875,448.501 2988.19,448.501 \n",
       "  \"/>\n",
       "<polyline clip-path=\"url(#clip342)\" style=\"stroke:#000000; stroke-width:0.5; stroke-opacity:0.1; fill:none\" points=\"\n",
       "  57.9875,85.3419 2988.19,85.3419 \n",
       "  \"/>\n",
       "<polyline clip-path=\"url(#clip340)\" style=\"stroke:#000000; stroke-width:1; stroke-opacity:1; fill:none\" points=\"\n",
       "  57.9875,1955.61 57.9875,30.868 \n",
       "  \"/>\n",
       "<polyline clip-path=\"url(#clip340)\" style=\"stroke:#000000; stroke-width:1; stroke-opacity:1; fill:none\" points=\"\n",
       "  57.9875,1901.14 93.15,1901.14 \n",
       "  \"/>\n",
       "<polyline clip-path=\"url(#clip340)\" style=\"stroke:#000000; stroke-width:1; stroke-opacity:1; fill:none\" points=\"\n",
       "  57.9875,1537.98 93.15,1537.98 \n",
       "  \"/>\n",
       "<polyline clip-path=\"url(#clip340)\" style=\"stroke:#000000; stroke-width:1; stroke-opacity:1; fill:none\" points=\"\n",
       "  57.9875,1174.82 93.15,1174.82 \n",
       "  \"/>\n",
       "<polyline clip-path=\"url(#clip340)\" style=\"stroke:#000000; stroke-width:1; stroke-opacity:1; fill:none\" points=\"\n",
       "  57.9875,811.66 93.15,811.66 \n",
       "  \"/>\n",
       "<polyline clip-path=\"url(#clip340)\" style=\"stroke:#000000; stroke-width:1; stroke-opacity:1; fill:none\" points=\"\n",
       "  57.9875,448.501 93.15,448.501 \n",
       "  \"/>\n",
       "<polyline clip-path=\"url(#clip340)\" style=\"stroke:#000000; stroke-width:1; stroke-opacity:1; fill:none\" points=\"\n",
       "  57.9875,85.3419 93.15,85.3419 \n",
       "  \"/>\n",
       "<path clip-path=\"url(#clip340)\" d=\"M 0 0 M10.0015 1897.59 Q9.09868 1897.59 8.64151 1898.48 Q8.19012 1899.36 8.19012 1901.15 Q8.19012 1902.92 8.64151 1903.81 Q9.09868 1904.7 10.0015 1904.7 Q10.91 1904.7 11.3614 1903.81 Q11.8186 1902.92 11.8186 1901.15 Q11.8186 1899.36 11.3614 1898.48 Q10.91 1897.59 10.0015 1897.59 M10.0015 1896.66 Q11.454 1896.66 12.2179 1897.81 Q12.9875 1898.96 12.9875 1901.15 Q12.9875 1903.33 12.2179 1904.48 Q11.454 1905.63 10.0015 1905.63 Q8.54892 1905.63 7.77924 1904.48 Q7.01536 1903.33 7.01536 1901.15 Q7.01536 1898.96 7.77924 1897.81 Q8.54892 1896.66 10.0015 1896.66 Z\" fill=\"#000000\" fill-rule=\"evenodd\" fill-opacity=\"1\" /><path clip-path=\"url(#clip340)\" d=\"M 0 0 M7.76188 1533.66 L12.351 1533.66 L12.351 1534.64 L8.83248 1534.64 L8.83248 1536.76 Q9.08711 1536.67 9.34174 1536.63 Q9.59636 1536.59 9.85099 1536.59 Q11.2977 1536.59 12.1426 1537.38 Q12.9875 1538.17 12.9875 1539.53 Q12.9875 1540.92 12.1195 1541.7 Q11.2514 1542.47 9.67159 1542.47 Q9.12762 1542.47 8.56049 1542.37 Q7.99915 1542.28 7.3973 1542.1 L7.3973 1540.92 Q7.91813 1541.21 8.47368 1541.34 Q9.02924 1541.48 9.64845 1541.48 Q10.6496 1541.48 11.2341 1540.96 Q11.8186 1540.43 11.8186 1539.53 Q11.8186 1538.62 11.2341 1538.1 Q10.6496 1537.57 9.64845 1537.57 Q9.1797 1537.57 8.71095 1537.68 Q8.24799 1537.78 7.76188 1538 L7.76188 1533.66 Z\" fill=\"#000000\" fill-rule=\"evenodd\" fill-opacity=\"1\" /><path clip-path=\"url(#clip340)\" d=\"M 0 0 M1.25729 1178.16 L3.167 1178.16 L3.167 1171.56 L1.08946 1171.98 L1.08946 1170.92 L3.15543 1170.5 L4.3244 1170.5 L4.3244 1178.16 L6.23411 1178.16 L6.23411 1179.14 L1.25729 1179.14 L1.25729 1178.16 Z\" fill=\"#000000\" fill-rule=\"evenodd\" fill-opacity=\"1\" /><path clip-path=\"url(#clip340)\" d=\"M 0 0 M10.0015 1171.27 Q9.09868 1171.27 8.64151 1172.16 Q8.19012 1173.05 8.19012 1174.83 Q8.19012 1176.6 8.64151 1177.5 Q9.09868 1178.38 10.0015 1178.38 Q10.91 1178.38 11.3614 1177.5 Q11.8186 1176.6 11.8186 1174.83 Q11.8186 1173.05 11.3614 1172.16 Q10.91 1171.27 10.0015 1171.27 M10.0015 1170.34 Q11.454 1170.34 12.2179 1171.49 Q12.9875 1172.64 12.9875 1174.83 Q12.9875 1177.01 12.2179 1178.16 Q11.454 1179.31 10.0015 1179.31 Q8.54892 1179.31 7.77924 1178.16 Q7.01536 1177.01 7.01536 1174.83 Q7.01536 1172.64 7.77924 1171.49 Q8.54892 1170.34 10.0015 1170.34 Z\" fill=\"#000000\" fill-rule=\"evenodd\" fill-opacity=\"1\" /><path clip-path=\"url(#clip340)\" d=\"M 0 0 M1.50613 814.997 L3.41584 814.997 L3.41584 808.405 L1.33831 808.822 L1.33831 807.757 L3.40427 807.34 L4.57324 807.34 L4.57324 814.997 L6.48295 814.997 L6.48295 815.98 L1.50613 815.98 L1.50613 814.997 Z\" fill=\"#000000\" fill-rule=\"evenodd\" fill-opacity=\"1\" /><path clip-path=\"url(#clip340)\" d=\"M 0 0 M7.76188 807.34 L12.351 807.34 L12.351 808.324 L8.83248 808.324 L8.83248 810.442 Q9.08711 810.355 9.34174 810.315 Q9.59636 810.269 9.85099 810.269 Q11.2977 810.269 12.1426 811.061 Q12.9875 811.854 12.9875 813.208 Q12.9875 814.603 12.1195 815.379 Q11.2514 816.148 9.67159 816.148 Q9.12762 816.148 8.56049 816.056 Q7.99915 815.963 7.3973 815.778 L7.3973 814.603 Q7.91813 814.887 8.47368 815.026 Q9.02924 815.164 9.64845 815.164 Q10.6496 815.164 11.2341 814.638 Q11.8186 814.111 11.8186 813.208 Q11.8186 812.306 11.2341 811.779 Q10.6496 811.252 9.64845 811.252 Q9.1797 811.252 8.71095 811.357 Q8.24799 811.461 7.76188 811.681 L7.76188 807.34 Z\" fill=\"#000000\" fill-rule=\"evenodd\" fill-opacity=\"1\" /><path clip-path=\"url(#clip340)\" d=\"M 0 0 M2.15427 451.837 L6.23411 451.837 L6.23411 452.821 L0.748031 452.821 L0.748031 451.837 Q1.41354 451.149 2.55936 449.991 Q3.71098 448.828 4.00612 448.492 Q4.56746 447.862 4.78736 447.428 Q5.01305 446.988 5.01305 446.565 Q5.01305 445.877 4.52695 445.443 Q4.04662 445.009 3.27117 445.009 Q2.7214 445.009 2.10798 445.2 Q1.50034 445.391 0.805902 445.778 L0.805902 444.598 Q1.51192 444.314 2.12534 444.17 Q2.73876 444.025 3.24802 444.025 Q4.5906 444.025 5.38921 444.696 Q6.18782 445.367 6.18782 446.49 Q6.18782 447.023 5.98527 447.503 Q5.78851 447.977 5.2619 448.626 Q5.11722 448.793 4.34176 449.598 Q3.5663 450.396 2.15427 451.837 Z\" fill=\"#000000\" fill-rule=\"evenodd\" fill-opacity=\"1\" /><path clip-path=\"url(#clip340)\" d=\"M 0 0 M10.0015 444.951 Q9.09868 444.951 8.64151 445.842 Q8.19012 446.727 8.19012 448.51 Q8.19012 450.286 8.64151 451.178 Q9.09868 452.063 10.0015 452.063 Q10.91 452.063 11.3614 451.178 Q11.8186 450.286 11.8186 448.51 Q11.8186 446.727 11.3614 445.842 Q10.91 444.951 10.0015 444.951 M10.0015 444.025 Q11.454 444.025 12.2179 445.177 Q12.9875 446.322 12.9875 448.51 Q12.9875 450.692 12.2179 451.843 Q11.454 452.989 10.0015 452.989 Q8.54892 452.989 7.77924 451.843 Q7.01536 450.692 7.01536 448.51 Q7.01536 446.322 7.77924 445.177 Q8.54892 444.025 10.0015 444.025 Z\" fill=\"#000000\" fill-rule=\"evenodd\" fill-opacity=\"1\" /><path clip-path=\"url(#clip340)\" d=\"M 0 0 M2.40312 88.6781 L6.48295 88.6781 L6.48295 89.6619 L0.996873 89.6619 L0.996873 88.6781 Q1.66238 87.9895 2.80821 86.8321 Q3.95982 85.6689 4.25496 85.3332 Q4.8163 84.7025 5.0362 84.2684 Q5.2619 83.8286 5.2619 83.4062 Q5.2619 82.7175 4.77579 82.2835 Q4.29547 81.8495 3.52001 81.8495 Q2.97024 81.8495 2.35682 82.0404 Q1.74918 82.2314 1.05474 82.6191 L1.05474 81.4386 Q1.76076 81.155 2.37418 81.0103 Q2.9876 80.8657 3.49686 80.8657 Q4.83944 80.8657 5.63805 81.537 Q6.43666 82.2083 6.43666 83.3309 Q6.43666 83.8633 6.23411 84.3437 Q6.03736 84.8182 5.51074 85.4663 Q5.36606 85.6342 4.5906 86.4386 Q3.81514 87.2372 2.40312 88.6781 Z\" fill=\"#000000\" fill-rule=\"evenodd\" fill-opacity=\"1\" /><path clip-path=\"url(#clip340)\" d=\"M 0 0 M7.76188 81.0219 L12.351 81.0219 L12.351 82.0057 L8.83248 82.0057 L8.83248 84.1238 Q9.08711 84.0369 9.34174 83.9964 Q9.59636 83.9501 9.85099 83.9501 Q11.2977 83.9501 12.1426 84.743 Q12.9875 85.5358 12.9875 86.8899 Q12.9875 88.2846 12.1195 89.0601 Q11.2514 89.8297 9.67159 89.8297 Q9.12762 89.8297 8.56049 89.7371 Q7.99915 89.6446 7.3973 89.4594 L7.3973 88.2846 Q7.91813 88.5682 8.47368 88.7071 Q9.02924 88.8459 9.64845 88.8459 Q10.6496 88.8459 11.2341 88.3193 Q11.8186 87.7927 11.8186 86.8899 Q11.8186 85.9872 11.2341 85.4606 Q10.6496 84.9339 9.64845 84.9339 Q9.1797 84.9339 8.71095 85.0381 Q8.24799 85.1423 7.76188 85.3622 L7.76188 81.0219 Z\" fill=\"#000000\" fill-rule=\"evenodd\" fill-opacity=\"1\" /><path clip-path=\"url(#clip340)\" d=\"M 0 0 M1515.22 6.80147 L1511.12 12.3208 L1515.44 18.144 L1513.24 18.144 L1509.94 13.688 L1506.64 18.144 L1504.44 18.144 L1508.84 12.2094 L1504.81 6.80147 L1507.01 6.80147 L1510.02 10.8422 L1513.03 6.80147 L1515.22 6.80147 Z\" fill=\"#000000\" fill-rule=\"evenodd\" fill-opacity=\"1\" /><path clip-path=\"url(#clip340)\" d=\"M 0 0 M1525.12 3.024 L1530.62 8.66488 L1528.58 8.66488 L1524.13 4.66462 L1519.67 8.66488 L1517.63 8.66488 L1523.13 3.024 L1525.12 3.024 Z\" fill=\"#000000\" fill-rule=\"evenodd\" fill-opacity=\"1\" /><path clip-path=\"url(#clip340)\" d=\"M 0 0 M1534.6 16.4224 L1541.74 16.4224 L1541.74 18.144 L1532.14 18.144 L1532.14 16.4224 Q1533.3 15.2172 1535.31 13.1918 Q1537.32 11.1562 1537.84 10.5688 Q1538.82 9.46494 1539.21 8.70539 Q1539.6 7.93572 1539.6 7.19643 Q1539.6 5.99129 1538.75 5.23174 Q1537.91 4.4722 1536.55 4.4722 Q1535.59 4.4722 1534.52 4.8064 Q1533.45 5.1406 1532.24 5.81912 L1532.24 3.75316 Q1533.47 3.25693 1534.55 3.00375 Q1535.62 2.75056 1536.51 2.75056 Q1538.86 2.75056 1540.26 3.92533 Q1541.66 5.10009 1541.66 7.06478 Q1541.66 7.99648 1541.3 8.83705 Q1540.96 9.66748 1540.04 10.8017 Q1539.78 11.0954 1538.43 12.5031 Q1537.07 13.9007 1534.6 16.4224 Z\" fill=\"#000000\" fill-rule=\"evenodd\" fill-opacity=\"1\" /><polyline clip-path=\"url(#clip342)\" style=\"stroke:#009af9; stroke-width:1; stroke-opacity:1; fill:none\" stroke-dasharray=\"8, 5\" points=\"\n",
       "  140.918,85.3419 417.352,739.029 693.786,1247.45 970.22,1610.61 1246.65,1828.51 1523.09,1901.14 1799.52,1828.51 2075.96,1610.61 2352.39,1247.45 2628.82,739.029 \n",
       "  2905.26,85.3419 \n",
       "  \"/>\n",
       "<circle clip-path=\"url(#clip342)\" cx=\"140.918\" cy=\"85.3419\" r=\"3\" fill=\"#009af9\" fill-rule=\"evenodd\" fill-opacity=\"1\" stroke=\"#000000\" stroke-opacity=\"1\" stroke-width=\"4\"/>\n",
       "<circle clip-path=\"url(#clip342)\" cx=\"417.352\" cy=\"739.029\" r=\"3\" fill=\"#009af9\" fill-rule=\"evenodd\" fill-opacity=\"1\" stroke=\"#000000\" stroke-opacity=\"1\" stroke-width=\"4\"/>\n",
       "<circle clip-path=\"url(#clip342)\" cx=\"693.786\" cy=\"1247.45\" r=\"3\" fill=\"#009af9\" fill-rule=\"evenodd\" fill-opacity=\"1\" stroke=\"#000000\" stroke-opacity=\"1\" stroke-width=\"4\"/>\n",
       "<circle clip-path=\"url(#clip342)\" cx=\"970.22\" cy=\"1610.61\" r=\"3\" fill=\"#009af9\" fill-rule=\"evenodd\" fill-opacity=\"1\" stroke=\"#000000\" stroke-opacity=\"1\" stroke-width=\"4\"/>\n",
       "<circle clip-path=\"url(#clip342)\" cx=\"1246.65\" cy=\"1828.51\" r=\"3\" fill=\"#009af9\" fill-rule=\"evenodd\" fill-opacity=\"1\" stroke=\"#000000\" stroke-opacity=\"1\" stroke-width=\"4\"/>\n",
       "<circle clip-path=\"url(#clip342)\" cx=\"1523.09\" cy=\"1901.14\" r=\"3\" fill=\"#009af9\" fill-rule=\"evenodd\" fill-opacity=\"1\" stroke=\"#000000\" stroke-opacity=\"1\" stroke-width=\"4\"/>\n",
       "<circle clip-path=\"url(#clip342)\" cx=\"1799.52\" cy=\"1828.51\" r=\"3\" fill=\"#009af9\" fill-rule=\"evenodd\" fill-opacity=\"1\" stroke=\"#000000\" stroke-opacity=\"1\" stroke-width=\"4\"/>\n",
       "<circle clip-path=\"url(#clip342)\" cx=\"2075.96\" cy=\"1610.61\" r=\"3\" fill=\"#009af9\" fill-rule=\"evenodd\" fill-opacity=\"1\" stroke=\"#000000\" stroke-opacity=\"1\" stroke-width=\"4\"/>\n",
       "<circle clip-path=\"url(#clip342)\" cx=\"2352.39\" cy=\"1247.45\" r=\"3\" fill=\"#009af9\" fill-rule=\"evenodd\" fill-opacity=\"1\" stroke=\"#000000\" stroke-opacity=\"1\" stroke-width=\"4\"/>\n",
       "<circle clip-path=\"url(#clip342)\" cx=\"2628.82\" cy=\"739.029\" r=\"3\" fill=\"#009af9\" fill-rule=\"evenodd\" fill-opacity=\"1\" stroke=\"#000000\" stroke-opacity=\"1\" stroke-width=\"4\"/>\n",
       "<circle clip-path=\"url(#clip342)\" cx=\"2905.26\" cy=\"85.3419\" r=\"3\" fill=\"#009af9\" fill-rule=\"evenodd\" fill-opacity=\"1\" stroke=\"#000000\" stroke-opacity=\"1\" stroke-width=\"4\"/>\n",
       "<path clip-path=\"url(#clip340)\" d=\"\n",
       "M2552.18 125.266 L2890.52 125.266 L2890.52 95.0262 L2552.18 95.0262  Z\n",
       "  \" fill=\"#ffffff\" fill-rule=\"evenodd\" fill-opacity=\"1\"/>\n",
       "<polyline clip-path=\"url(#clip340)\" style=\"stroke:#000000; stroke-width:1; stroke-opacity:1; fill:none\" points=\"\n",
       "  2552.18,125.266 2890.52,125.266 2890.52,95.0262 2552.18,95.0262 2552.18,125.266 \n",
       "  \"/>\n",
       "<polyline clip-path=\"url(#clip340)\" style=\"stroke:#009af9; stroke-width:1; stroke-opacity:1; fill:none\" stroke-dasharray=\"8, 5\" points=\"\n",
       "  2584.74,110.146 2780.09,110.146 \n",
       "  \"/>\n",
       "<circle clip-path=\"url(#clip340)\" cx=\"2682.41\" cy=\"110.146\" r=\"5\" fill=\"#009af9\" fill-rule=\"evenodd\" fill-opacity=\"1\" stroke=\"#000000\" stroke-opacity=\"1\" stroke-width=\"6.4\"/>\n",
       "<path clip-path=\"url(#clip340)\" d=\"M 0 0 M2816.11 115.068 Q2815.65 116.225 2815.23 116.578 Q2814.8 116.931 2814.08 116.931 L2813.23 116.931 L2813.23 116.04 L2813.85 116.04 Q2814.29 116.04 2814.54 115.832 Q2814.78 115.624 2815.08 114.848 L2815.27 114.362 L2812.65 107.985 L2813.77 107.985 L2815.8 113.054 L2817.82 107.985 L2818.95 107.985 L2816.11 115.068 Z\" fill=\"#000000\" fill-rule=\"evenodd\" fill-opacity=\"1\" /><path clip-path=\"url(#clip340)\" d=\"M 0 0 M2820.42 113.482 L2822.33 113.482 L2822.33 106.891 L2820.26 107.308 L2820.26 106.243 L2822.32 105.826 L2823.49 105.826 L2823.49 113.482 L2825.4 113.482 L2825.4 114.466 L2820.42 114.466 L2820.42 113.482 Z\" fill=\"#000000\" fill-rule=\"evenodd\" fill-opacity=\"1\" /></svg>\n"
      ]
     },
     "execution_count": 4,
     "metadata": {},
     "output_type": "execute_result"
    }
   ],
   "source": [
    "using Plots\n",
    "\n",
    "# x = [-5,-4,-3,-2,-1,0,1,2,3,4,5]\n",
    "x = collect(range(-5.0,stop=5.0,step=1.0)) \n",
    "y = x.^2\n",
    "\n",
    "plot(x,y,title=\"x^2\",linestyle=:dash,markershape=:circle,size=(3000,2000))"
   ]
  },
  {
   "cell_type": "markdown",
   "metadata": {
    "slideshow": {
     "slide_type": "skip"
    }
   },
   "source": [
    "## Types and Lists\n",
    "\n",
    "- Types: a data property for variables (objects), such as `int`, `float`, `str`, `bool`, etc.\n",
    "\n",
    "- Lists: a data structure to group (any) variables/objects\n",
    "\n",
    "- Index for a N-size list starts from 0 to N-1.\n",
    "\n",
    "NOTE: A NumPy array can group numbers only and has its own type `numpy.ndarray`."
   ]
  },
  {
   "cell_type": "code",
   "execution_count": null,
   "metadata": {
    "slideshow": {
     "slide_type": "skip"
    }
   },
   "outputs": [],
   "source": [
    "x = [10.0, 'foo', False] # 0: float, 1: str, 2: bool\n",
    "print(type(x[0]))\n",
    "print(type(x))\n",
    "\n",
    "y = np.zeros(3) # A numpy array accepts numbers (float64) only\n",
    "y[0] = 10\n",
    "# y[1] = 'foo'  # error\n",
    "print(type(y[0]))\n",
    "print(type(y))"
   ]
  },
  {
   "cell_type": "markdown",
   "metadata": {
    "slideshow": {
     "slide_type": "subslide"
    }
   },
   "source": [
    "# Exercise\n",
    "\n",
    "- Suppose we want to simulate $\\varepsilon_t \\sim N(0,\\sigma^2)$ for $t=1,2,...,T$, and plot the sequence of $\\{\\varepsilon_t\\}$."
   ]
  },
  {
   "cell_type": "code",
   "execution_count": 3,
   "metadata": {
    "slideshow": {
     "slide_type": "skip"
    }
   },
   "outputs": [
    {
     "data": {
      "image/svg+xml": [
       "<?xml version=\"1.0\" encoding=\"utf-8\"?>\n",
       "<svg xmlns=\"http://www.w3.org/2000/svg\" xmlns:xlink=\"http://www.w3.org/1999/xlink\" width=\"150\" height=\"100\" viewBox=\"0 0 600 400\">\n",
       "<defs>\n",
       "  <clipPath id=\"clip300\">\n",
       "    <rect x=\"0\" y=\"0\" width=\"600\" height=\"400\"/>\n",
       "  </clipPath>\n",
       "</defs>\n",
       "<path clip-path=\"url(#clip300)\" d=\"\n",
       "M0 400 L600 400 L600 0 L0 0  Z\n",
       "  \" fill=\"#ffffff\" fill-rule=\"evenodd\" fill-opacity=\"1\"/>\n",
       "<defs>\n",
       "  <clipPath id=\"clip301\">\n",
       "    <rect x=\"120\" y=\"0\" width=\"421\" height=\"400\"/>\n",
       "  </clipPath>\n",
       "</defs>\n",
       "<path clip-path=\"url(#clip300)\" d=\"\n",
       "M35.6137 371.612 L588.189 371.612 L588.189 11.811 L35.6137 11.811  Z\n",
       "  \" fill=\"#ffffff\" fill-rule=\"evenodd\" fill-opacity=\"1\"/>\n",
       "<defs>\n",
       "  <clipPath id=\"clip302\">\n",
       "    <rect x=\"35\" y=\"11\" width=\"554\" height=\"361\"/>\n",
       "  </clipPath>\n",
       "</defs>\n",
       "<polyline clip-path=\"url(#clip302)\" style=\"stroke:#000000; stroke-width:0.5; stroke-opacity:0.1; fill:none\" points=\"\n",
       "  45.987,371.612 45.987,11.811 \n",
       "  \"/>\n",
       "<polyline clip-path=\"url(#clip302)\" style=\"stroke:#000000; stroke-width:0.5; stroke-opacity:0.1; fill:none\" points=\"\n",
       "  177.628,371.612 177.628,11.811 \n",
       "  \"/>\n",
       "<polyline clip-path=\"url(#clip302)\" style=\"stroke:#000000; stroke-width:0.5; stroke-opacity:0.1; fill:none\" points=\"\n",
       "  309.269,371.612 309.269,11.811 \n",
       "  \"/>\n",
       "<polyline clip-path=\"url(#clip302)\" style=\"stroke:#000000; stroke-width:0.5; stroke-opacity:0.1; fill:none\" points=\"\n",
       "  440.909,371.612 440.909,11.811 \n",
       "  \"/>\n",
       "<polyline clip-path=\"url(#clip302)\" style=\"stroke:#000000; stroke-width:0.5; stroke-opacity:0.1; fill:none\" points=\"\n",
       "  572.55,371.612 572.55,11.811 \n",
       "  \"/>\n",
       "<polyline clip-path=\"url(#clip300)\" style=\"stroke:#000000; stroke-width:1; stroke-opacity:1; fill:none\" points=\"\n",
       "  35.6137,371.612 588.189,371.612 \n",
       "  \"/>\n",
       "<polyline clip-path=\"url(#clip300)\" style=\"stroke:#000000; stroke-width:1; stroke-opacity:1; fill:none\" points=\"\n",
       "  45.987,371.612 45.987,367.294 \n",
       "  \"/>\n",
       "<polyline clip-path=\"url(#clip300)\" style=\"stroke:#000000; stroke-width:1; stroke-opacity:1; fill:none\" points=\"\n",
       "  177.628,371.612 177.628,367.294 \n",
       "  \"/>\n",
       "<polyline clip-path=\"url(#clip300)\" style=\"stroke:#000000; stroke-width:1; stroke-opacity:1; fill:none\" points=\"\n",
       "  309.269,371.612 309.269,367.294 \n",
       "  \"/>\n",
       "<polyline clip-path=\"url(#clip300)\" style=\"stroke:#000000; stroke-width:1; stroke-opacity:1; fill:none\" points=\"\n",
       "  440.909,371.612 440.909,367.294 \n",
       "  \"/>\n",
       "<polyline clip-path=\"url(#clip300)\" style=\"stroke:#000000; stroke-width:1; stroke-opacity:1; fill:none\" points=\"\n",
       "  572.55,371.612 572.55,367.294 \n",
       "  \"/>\n",
       "<path clip-path=\"url(#clip300)\" d=\"M 0 0 M45.987 378.91 Q45.0842 378.91 44.627 379.801 Q44.1757 380.686 44.1757 382.469 Q44.1757 384.245 44.627 385.136 Q45.0842 386.022 45.987 386.022 Q46.8956 386.022 47.3469 385.136 Q47.8041 384.245 47.8041 382.469 Q47.8041 380.686 47.3469 379.801 Q46.8956 378.91 45.987 378.91 M45.987 377.984 Q47.4395 377.984 48.2034 379.135 Q48.9731 380.281 48.9731 382.469 Q48.9731 384.65 48.2034 385.802 Q47.4395 386.948 45.987 386.948 Q44.5345 386.948 43.7648 385.802 Q43.0009 384.65 43.0009 382.469 Q43.0009 380.281 43.7648 379.135 Q44.5345 377.984 45.987 377.984 Z\" fill=\"#000000\" fill-rule=\"evenodd\" fill-opacity=\"1\" /><path clip-path=\"url(#clip300)\" d=\"M 0 0 M173.039 385.796 L177.118 385.796 L177.118 386.78 L171.632 386.78 L171.632 385.796 Q172.298 385.108 173.444 383.95 Q174.595 382.787 174.891 382.451 Q175.452 381.821 175.672 381.386 Q175.897 380.947 175.897 380.524 Q175.897 379.836 175.411 379.402 Q174.931 378.968 174.156 378.968 Q173.606 378.968 172.992 379.158 Q172.385 379.349 171.69 379.737 L171.69 378.557 Q172.396 378.273 173.01 378.128 Q173.623 377.984 174.132 377.984 Q175.475 377.984 176.274 378.655 Q177.072 379.326 177.072 380.449 Q177.072 380.981 176.87 381.462 Q176.673 381.936 176.146 382.584 Q176.002 382.752 175.226 383.557 Q174.451 384.355 173.039 385.796 Z\" fill=\"#000000\" fill-rule=\"evenodd\" fill-opacity=\"1\" /><path clip-path=\"url(#clip300)\" d=\"M 0 0 M178.397 378.14 L182.987 378.14 L182.987 379.124 L179.468 379.124 L179.468 381.242 Q179.723 381.155 179.977 381.114 Q180.232 381.068 180.487 381.068 Q181.933 381.068 182.778 381.861 Q183.623 382.654 183.623 384.008 Q183.623 385.403 182.755 386.178 Q181.887 386.948 180.307 386.948 Q179.763 386.948 179.196 386.855 Q178.635 386.763 178.033 386.577 L178.033 385.403 Q178.554 385.686 179.109 385.825 Q179.665 385.964 180.284 385.964 Q181.285 385.964 181.87 385.437 Q182.454 384.911 182.454 384.008 Q182.454 383.105 181.87 382.579 Q181.285 382.052 180.284 382.052 Q179.815 382.052 179.346 382.156 Q178.884 382.26 178.397 382.48 L178.397 378.14 Z\" fill=\"#000000\" fill-rule=\"evenodd\" fill-opacity=\"1\" /><path clip-path=\"url(#clip300)\" d=\"M 0 0 M303.461 378.14 L308.05 378.14 L308.05 379.124 L304.532 379.124 L304.532 381.242 Q304.786 381.155 305.041 381.114 Q305.296 381.068 305.55 381.068 Q306.997 381.068 307.842 381.861 Q308.687 382.654 308.687 384.008 Q308.687 385.403 307.819 386.178 Q306.951 386.948 305.371 386.948 Q304.827 386.948 304.26 386.855 Q303.699 386.763 303.097 386.577 L303.097 385.403 Q303.618 385.686 304.173 385.825 Q304.729 385.964 305.348 385.964 Q306.349 385.964 306.933 385.437 Q307.518 384.911 307.518 384.008 Q307.518 383.105 306.933 382.579 Q306.349 382.052 305.348 382.052 Q304.879 382.052 304.41 382.156 Q303.947 382.26 303.461 382.48 L303.461 378.14 Z\" fill=\"#000000\" fill-rule=\"evenodd\" fill-opacity=\"1\" /><path clip-path=\"url(#clip300)\" d=\"M 0 0 M312.454 378.91 Q311.551 378.91 311.094 379.801 Q310.643 380.686 310.643 382.469 Q310.643 384.245 311.094 385.136 Q311.551 386.022 312.454 386.022 Q313.363 386.022 313.814 385.136 Q314.271 384.245 314.271 382.469 Q314.271 380.686 313.814 379.801 Q313.363 378.91 312.454 378.91 M312.454 377.984 Q313.907 377.984 314.671 379.135 Q315.44 380.281 315.44 382.469 Q315.44 384.65 314.671 385.802 Q313.907 386.948 312.454 386.948 Q311.002 386.948 310.232 385.802 Q309.468 384.65 309.468 382.469 Q309.468 380.281 310.232 379.135 Q311.002 377.984 312.454 377.984 Z\" fill=\"#000000\" fill-rule=\"evenodd\" fill-opacity=\"1\" /><path clip-path=\"url(#clip300)\" d=\"M 0 0 M434.879 378.14 L440.435 378.14 L440.435 378.638 L437.298 386.78 L436.077 386.78 L439.029 379.124 L434.879 379.124 L434.879 378.14 Z\" fill=\"#000000\" fill-rule=\"evenodd\" fill-opacity=\"1\" /><path clip-path=\"url(#clip300)\" d=\"M 0 0 M441.714 378.14 L446.303 378.14 L446.303 379.124 L442.784 379.124 L442.784 381.242 Q443.039 381.155 443.294 381.114 Q443.548 381.068 443.803 381.068 Q445.25 381.068 446.094 381.861 Q446.939 382.654 446.939 384.008 Q446.939 385.403 446.071 386.178 Q445.203 386.948 443.623 386.948 Q443.079 386.948 442.512 386.855 Q441.951 386.763 441.349 386.577 L441.349 385.403 Q441.87 385.686 442.425 385.825 Q442.981 385.964 443.6 385.964 Q444.601 385.964 445.186 385.437 Q445.77 384.911 445.77 384.008 Q445.77 383.105 445.186 382.579 Q444.601 382.052 443.6 382.052 Q443.131 382.052 442.663 382.156 Q442.2 382.26 441.714 382.48 L441.714 378.14 Z\" fill=\"#000000\" fill-rule=\"evenodd\" fill-opacity=\"1\" /><path clip-path=\"url(#clip300)\" d=\"M 0 0 M563.392 385.796 L565.302 385.796 L565.302 379.205 L563.224 379.621 L563.224 378.557 L565.29 378.14 L566.459 378.14 L566.459 385.796 L568.369 385.796 L568.369 386.78 L563.392 386.78 L563.392 385.796 Z\" fill=\"#000000\" fill-rule=\"evenodd\" fill-opacity=\"1\" /><path clip-path=\"url(#clip300)\" d=\"M 0 0 M572.136 378.91 Q571.234 378.91 570.776 379.801 Q570.325 380.686 570.325 382.469 Q570.325 384.245 570.776 385.136 Q571.234 386.022 572.136 386.022 Q573.045 386.022 573.496 385.136 Q573.953 384.245 573.953 382.469 Q573.953 380.686 573.496 379.801 Q573.045 378.91 572.136 378.91 M572.136 377.984 Q573.589 377.984 574.353 379.135 Q575.122 380.281 575.122 382.469 Q575.122 384.65 574.353 385.802 Q573.589 386.948 572.136 386.948 Q570.684 386.948 569.914 385.802 Q569.15 384.65 569.15 382.469 Q569.15 380.281 569.914 379.135 Q570.684 377.984 572.136 377.984 Z\" fill=\"#000000\" fill-rule=\"evenodd\" fill-opacity=\"1\" /><path clip-path=\"url(#clip300)\" d=\"M 0 0 M578.89 378.91 Q577.987 378.91 577.53 379.801 Q577.078 380.686 577.078 382.469 Q577.078 384.245 577.53 385.136 Q577.987 386.022 578.89 386.022 Q579.798 386.022 580.25 385.136 Q580.707 384.245 580.707 382.469 Q580.707 380.686 580.25 379.801 Q579.798 378.91 578.89 378.91 M578.89 377.984 Q580.342 377.984 581.106 379.135 Q581.876 380.281 581.876 382.469 Q581.876 384.65 581.106 385.802 Q580.342 386.948 578.89 386.948 Q577.437 386.948 576.668 385.802 Q575.904 384.65 575.904 382.469 Q575.904 380.281 576.668 379.135 Q577.437 377.984 578.89 377.984 Z\" fill=\"#000000\" fill-rule=\"evenodd\" fill-opacity=\"1\" /><polyline clip-path=\"url(#clip302)\" style=\"stroke:#000000; stroke-width:0.5; stroke-opacity:0.1; fill:none\" points=\"\n",
       "  35.6137,313.014 588.189,313.014 \n",
       "  \"/>\n",
       "<polyline clip-path=\"url(#clip302)\" style=\"stroke:#000000; stroke-width:0.5; stroke-opacity:0.1; fill:none\" points=\"\n",
       "  35.6137,241.801 588.189,241.801 \n",
       "  \"/>\n",
       "<polyline clip-path=\"url(#clip302)\" style=\"stroke:#000000; stroke-width:0.5; stroke-opacity:0.1; fill:none\" points=\"\n",
       "  35.6137,170.588 588.189,170.588 \n",
       "  \"/>\n",
       "<polyline clip-path=\"url(#clip302)\" style=\"stroke:#000000; stroke-width:0.5; stroke-opacity:0.1; fill:none\" points=\"\n",
       "  35.6137,99.3757 588.189,99.3757 \n",
       "  \"/>\n",
       "<polyline clip-path=\"url(#clip302)\" style=\"stroke:#000000; stroke-width:0.5; stroke-opacity:0.1; fill:none\" points=\"\n",
       "  35.6137,28.163 588.189,28.163 \n",
       "  \"/>\n",
       "<polyline clip-path=\"url(#clip300)\" style=\"stroke:#000000; stroke-width:1; stroke-opacity:1; fill:none\" points=\"\n",
       "  35.6137,371.612 35.6137,11.811 \n",
       "  \"/>\n",
       "<polyline clip-path=\"url(#clip300)\" style=\"stroke:#000000; stroke-width:1; stroke-opacity:1; fill:none\" points=\"\n",
       "  35.6137,313.014 42.2446,313.014 \n",
       "  \"/>\n",
       "<polyline clip-path=\"url(#clip300)\" style=\"stroke:#000000; stroke-width:1; stroke-opacity:1; fill:none\" points=\"\n",
       "  35.6137,241.801 42.2446,241.801 \n",
       "  \"/>\n",
       "<polyline clip-path=\"url(#clip300)\" style=\"stroke:#000000; stroke-width:1; stroke-opacity:1; fill:none\" points=\"\n",
       "  35.6137,170.588 42.2446,170.588 \n",
       "  \"/>\n",
       "<polyline clip-path=\"url(#clip300)\" style=\"stroke:#000000; stroke-width:1; stroke-opacity:1; fill:none\" points=\"\n",
       "  35.6137,99.3757 42.2446,99.3757 \n",
       "  \"/>\n",
       "<polyline clip-path=\"url(#clip300)\" style=\"stroke:#000000; stroke-width:1; stroke-opacity:1; fill:none\" points=\"\n",
       "  35.6137,28.163 42.2446,28.163 \n",
       "  \"/>\n",
       "<path clip-path=\"url(#clip300)\" d=\"M 0 0 M12.748 313.126 L20.167 313.126 L20.167 314.11 L12.748 314.11 L12.748 313.126 Z\" fill=\"#000000\" fill-rule=\"evenodd\" fill-opacity=\"1\" /><path clip-path=\"url(#clip300)\" d=\"M 0 0 M21.6369 316.35 L23.5466 316.35 L23.5466 309.758 L21.469 310.175 L21.469 309.11 L23.535 308.694 L24.704 308.694 L24.704 316.35 L26.6137 316.35 L26.6137 317.334 L21.6369 317.334 L21.6369 316.35 Z\" fill=\"#000000\" fill-rule=\"evenodd\" fill-opacity=\"1\" /><path clip-path=\"url(#clip300)\" d=\"M 0 0 M23.6276 238.251 Q22.7248 238.251 22.2677 239.142 Q21.8163 240.027 21.8163 241.81 Q21.8163 243.586 22.2677 244.477 Q22.7248 245.363 23.6276 245.363 Q24.5362 245.363 24.9875 244.477 Q25.4447 243.586 25.4447 241.81 Q25.4447 240.027 24.9875 239.142 Q24.5362 238.251 23.6276 238.251 M23.6276 237.325 Q25.0801 237.325 25.844 238.476 Q26.6137 239.622 26.6137 241.81 Q26.6137 243.991 25.844 245.143 Q25.0801 246.289 23.6276 246.289 Q22.1751 246.289 21.4054 245.143 Q20.6415 243.991 20.6415 241.81 Q20.6415 239.622 21.4054 238.476 Q22.1751 237.325 23.6276 237.325 Z\" fill=\"#000000\" fill-rule=\"evenodd\" fill-opacity=\"1\" /><path clip-path=\"url(#clip300)\" d=\"M 0 0 M21.6369 173.925 L23.5466 173.925 L23.5466 167.333 L21.469 167.75 L21.469 166.685 L23.535 166.268 L24.704 166.268 L24.704 173.925 L26.6137 173.925 L26.6137 174.908 L21.6369 174.908 L21.6369 173.925 Z\" fill=\"#000000\" fill-rule=\"evenodd\" fill-opacity=\"1\" /><path clip-path=\"url(#clip300)\" d=\"M 0 0 M22.5339 102.712 L26.6137 102.712 L26.6137 103.696 L21.1276 103.696 L21.1276 102.712 Q21.7931 102.023 22.9389 100.866 Q24.0906 99.7026 24.3857 99.367 Q24.947 98.7362 25.1669 98.3022 Q25.3926 97.8624 25.3926 97.4399 Q25.3926 96.7513 24.9065 96.3172 Q24.4262 95.8832 23.6508 95.8832 Q23.101 95.8832 22.4876 96.0742 Q21.8799 96.2652 21.1855 96.6529 L21.1855 95.4723 Q21.8915 95.1888 22.5049 95.0441 Q23.1183 94.8994 23.6276 94.8994 Q24.9702 94.8994 25.7688 95.5707 Q26.5674 96.242 26.5674 97.3647 Q26.5674 97.8971 26.3649 98.3774 Q26.1681 98.852 25.6415 99.5001 Q25.4968 99.6679 24.7213 100.472 Q23.9459 101.271 22.5339 102.712 Z\" fill=\"#000000\" fill-rule=\"evenodd\" fill-opacity=\"1\" /><path clip-path=\"url(#clip300)\" d=\"M 0 0 M24.8313 27.8245 Q25.6704 28.0039 26.1392 28.571 Q26.6137 29.1381 26.6137 29.9715 Q26.6137 31.2504 25.7341 31.9506 Q24.8544 32.6508 23.2341 32.6508 Q22.6901 32.6508 22.1114 32.5409 Q21.5385 32.4367 20.9251 32.2226 L20.9251 31.0941 Q21.4112 31.3777 21.9899 31.5224 Q22.5686 31.6671 23.1994 31.6671 Q24.2989 31.6671 24.8718 31.233 Q25.4505 30.799 25.4505 29.9715 Q25.4505 29.2076 24.9123 28.7793 Q24.3799 28.3453 23.4251 28.3453 L22.4181 28.3453 L22.4181 27.3847 L23.4714 27.3847 Q24.3336 27.3847 24.7908 27.0432 Q25.248 26.696 25.248 26.0479 Q25.248 25.3824 24.7734 25.0294 Q24.3047 24.6706 23.4251 24.6706 Q22.9447 24.6706 22.395 24.7747 Q21.8452 24.8789 21.1855 25.0988 L21.1855 24.0571 Q21.851 23.872 22.4297 23.7794 Q23.0142 23.6868 23.5292 23.6868 Q24.8602 23.6868 25.6357 24.2944 Q26.4112 24.8963 26.4112 25.9263 Q26.4112 26.6439 26.0003 27.1416 Q25.5894 27.6335 24.8313 27.8245 Z\" fill=\"#000000\" fill-rule=\"evenodd\" fill-opacity=\"1\" /><polyline clip-path=\"url(#clip302)\" style=\"stroke:#009af9; stroke-width:1; stroke-opacity:1; fill:none\" points=\"\n",
       "  51.2526,225.492 56.5183,164.451 61.7839,245.955 67.0495,274.913 72.3151,242.827 77.5808,301.114 82.8464,227.267 88.112,166.954 93.3777,178.182 98.6433,175.653 \n",
       "  103.909,248.397 109.175,55.1845 114.44,244.767 119.706,225.043 124.971,201.167 130.237,361.429 135.503,305.278 140.768,266.25 146.034,318.127 151.3,169.292 \n",
       "  156.565,304.684 161.831,143.735 167.096,266.605 172.362,158.725 177.628,321.568 182.893,141.297 188.159,329.947 193.425,200.003 198.69,348.502 203.956,332.166 \n",
       "  209.222,101.223 214.487,296.106 219.753,240.04 225.018,331.729 230.284,145.368 235.55,294.776 240.815,285.279 246.081,121.703 251.347,316.321 256.612,298.484 \n",
       "  261.878,305.074 267.143,258.854 272.409,229.911 277.675,340.11 282.94,268.116 288.206,202.377 293.472,239.732 298.737,216.321 304.003,290.044 309.269,349.226 \n",
       "  314.534,214.867 319.8,275.449 325.065,280.636 330.331,311.302 335.597,337.74 340.862,257.951 346.128,289.65 351.394,247.696 356.659,297.444 361.925,244.362 \n",
       "  367.19,301.346 372.456,342.641 377.722,304.527 382.987,214.265 388.253,283.445 393.519,152.973 398.784,283.897 404.05,244.84 409.316,181.488 414.581,88.0616 \n",
       "  419.847,323.91 425.112,321.762 430.378,127.394 435.644,202.283 440.909,257.413 446.175,157.093 451.441,208.195 456.706,213.06 461.972,287.831 467.237,263.598 \n",
       "  472.503,273.806 477.769,334.87 483.034,233.986 488.3,211.31 493.566,228.749 498.831,225.29 504.097,279.872 509.362,143.654 514.628,334.717 519.894,251.978 \n",
       "  525.159,297.161 530.425,236.79 535.691,259.933 540.956,139.485 546.222,294.128 551.488,255.224 556.753,263.336 562.019,21.9941 567.284,285.179 572.55,333.676 \n",
       "  \n",
       "  \"/>\n",
       "<path clip-path=\"url(#clip300)\" d=\"\n",
       "M495.618 54.0444 L569.77 54.0444 L569.77 23.8044 L495.618 23.8044  Z\n",
       "  \" fill=\"#ffffff\" fill-rule=\"evenodd\" fill-opacity=\"1\"/>\n",
       "<polyline clip-path=\"url(#clip300)\" style=\"stroke:#000000; stroke-width:1; stroke-opacity:1; fill:none\" points=\"\n",
       "  495.618,54.0444 569.77,54.0444 569.77,23.8044 495.618,23.8044 495.618,54.0444 \n",
       "  \"/>\n",
       "<polyline clip-path=\"url(#clip300)\" style=\"stroke:#009af9; stroke-width:1; stroke-opacity:1; fill:none\" points=\"\n",
       "  501.758,38.9244 538.596,38.9244 \n",
       "  \"/>\n",
       "<path clip-path=\"url(#clip300)\" d=\"M 0 0 M548.196 43.8462 Q547.745 45.0036 547.317 45.3566 Q546.889 45.7097 546.171 45.7097 L545.32 45.7097 L545.32 44.8185 L545.945 44.8185 Q546.385 44.8185 546.628 44.6101 Q546.871 44.4018 547.166 43.6263 L547.357 43.1402 L544.736 36.7629 L545.864 36.7629 L547.89 41.8324 L549.915 36.7629 L551.044 36.7629 L548.196 43.8462 Z\" fill=\"#000000\" fill-rule=\"evenodd\" fill-opacity=\"1\" /><path clip-path=\"url(#clip300)\" d=\"M 0 0 M552.514 42.2606 L554.423 42.2606 L554.423 35.6692 L552.346 36.0859 L552.346 35.0211 L554.412 34.6044 L555.581 34.6044 L555.581 42.2606 L557.49 42.2606 L557.49 43.2444 L552.514 43.2444 L552.514 42.2606 Z\" fill=\"#000000\" fill-rule=\"evenodd\" fill-opacity=\"1\" /></svg>\n"
      ]
     },
     "execution_count": 3,
     "metadata": {},
     "output_type": "execute_result"
    }
   ],
   "source": [
    "using Random\n",
    "using Plots\n",
    "\n",
    "T = 100\n",
    "epsilon_vec = randn(T)\n",
    "    \n",
    "plot(epsilon_vec)"
   ]
  },
  {
   "cell_type": "markdown",
   "metadata": {
    "slideshow": {
     "slide_type": "skip"
    }
   },
   "source": [
    "- More exercises are found at [https://python-programming.quantecon.org/python_by_example.html](https://python-programming.quantecon.org/python_by_example.html)."
   ]
  }
 ],
 "metadata": {
  "celltoolbar": "Slideshow",
  "kernelspec": {
   "display_name": "Julia 1.6.1",
   "language": "julia",
   "name": "julia-1.6"
  },
  "language_info": {
   "file_extension": ".jl",
   "mimetype": "application/julia",
   "name": "julia",
   "version": "1.6.1"
  }
 },
 "nbformat": 4,
 "nbformat_minor": 4
}
