{
 "cells": [
  {
   "cell_type": "code",
   "execution_count": 13,
   "metadata": {},
   "outputs": [
    {
     "data": {
      "text/plain": [
       "Euler1 (generic function with 1 method)"
      ]
     },
     "execution_count": 13,
     "metadata": {},
     "output_type": "execute_result"
    }
   ],
   "source": [
    "function Euler1(x1,y11,y211,y212,pi1,pi2,β,q)\n",
    "    # Given b21, compute the residual of Euler eq. \n",
    "    b21 = x1[1]\n",
    "    c11 = y11-q*b21\n",
    "    c211 = y211 + b21\n",
    "    c212 = y212 + b21\n",
    "    f = -q/c11 + β*(pi1/c211+pi2/c212) # Euler eq.\n",
    "    return f \n",
    "end"
   ]
  },
  {
   "cell_type": "code",
   "execution_count": 14,
   "metadata": {},
   "outputs": [
    {
     "data": {
      "text/plain": [
       "Euler2 (generic function with 1 method)"
      ]
     },
     "execution_count": 14,
     "metadata": {},
     "output_type": "execute_result"
    }
   ],
   "source": [
    "function Euler2(x2,y12,y221,y222,pi1,pi2,β,q)\n",
    "    # Given b22, compute the residual of Euler eq. \n",
    "    b22 = x2[1]\n",
    "    c12 = y12-q*b22\n",
    "    c221 = y221 + b22\n",
    "    c222 = y222 + b22\n",
    "    f = -q/c12 + β*(pi1/c221+pi2/c222) # Euler eq.\n",
    "    return f \n",
    "end"
   ]
  },
  {
   "cell_type": "code",
   "execution_count": 15,
   "metadata": {},
   "outputs": [
    {
     "data": {
      "text/plain": [
       "market (generic function with 1 method)"
      ]
     },
     "execution_count": 15,
     "metadata": {},
     "output_type": "execute_result"
    }
   ],
   "source": [
    "function market(x,y11,y211,y212,y12,y221,y222,pi1,pi2,β,q)\n",
    "    \n",
    "    # bond price\n",
    "    q = x[1]\n",
    "    # calculate b21 so that the equilibrium conditions for i=1 are satisfied\n",
    "    res = nlsolve(x1->Euler1(x1,y11,y211,y212,pi1,pi2,β,q),[0.0])\n",
    "    b21 = res.zero[1]\n",
    "    # calculate b22 so that the equilibrium conditions for i=2 are satisfied\n",
    "    res = nlsolve(x2->Euler2(x2,y12,y221,y222,pi1,pi2,β,q),[0.0])\n",
    "    b22 = res.zero[1]\n",
    "    f = b21 + b22\n",
    "    return f\n",
    "    \n",
    "end"
   ]
  },
  {
   "cell_type": "code",
   "execution_count": 12,
   "metadata": {},
   "outputs": [
    {
     "name": "stdout",
     "output_type": "stream",
     "text": [
      "0.9033009096176446\n"
     ]
    }
   ],
   "source": [
    "using NLsolve\n",
    "\n",
    "# parameters\n",
    "y11 = 1 # index: time,individual\n",
    "y12 = 1\n",
    "# idiosyncratic shocks\n",
    "d = 0.1\n",
    "y211 = 1+d # index: time,individual,state\n",
    "y212 = 1-d\n",
    "y221 = 1-d\n",
    "y222 = 1+d\n",
    "# probability of each state\n",
    "pi1 = .9\n",
    "pi2 = .1\n",
    "# discount factor\n",
    "β = .9\n",
    "\n",
    "res = nlsolve(x->market(x,y11,y211,y212,y12,y221,y222,pi1,pi2,β,q),[0.9])\n",
    "q = res.zero[1]\n",
    "println(q)\n",
    "\n",
    "# # bond price\n",
    "# q = 0.905\n",
    "# # calculate b21 so that the equilibrium conditions for i=1 are satisfied\n",
    "# res = nlsolve(x1->Euler1(x1,y11,y211,y212,pi1,pi2,β,q),[0.0])\n",
    "# b21 = res.zero[1]\n",
    "# println(b21)\n",
    "# # res\n",
    "# # calculate b22 so that the equilibrium conditions for i=1 are satisfied\n",
    "# res = nlsolve(x2->Euler2(x2,y12,y221,y222,pi1,pi2,β,q),[0.0])\n",
    "# b22 = res.zero[1]\n",
    "# println(b22)\n",
    "# # res\n",
    "# println(b21+b22)"
   ]
  }
 ],
 "metadata": {
  "kernelspec": {
   "display_name": "Julia 1.6.1",
   "language": "julia",
   "name": "julia-1.6"
  },
  "language_info": {
   "file_extension": ".jl",
   "mimetype": "application/julia",
   "name": "julia",
   "version": "1.6.1"
  }
 },
 "nbformat": 4,
 "nbformat_minor": 4
}
