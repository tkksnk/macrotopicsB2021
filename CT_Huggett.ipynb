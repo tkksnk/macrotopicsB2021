{
 "cells": [
  {
   "cell_type": "markdown",
   "metadata": {
    "slideshow": {
     "slide_type": "slide"
    }
   },
   "source": [
    "# Huggett in Continuous Time\n",
    "<br>\n",
    "<div style=\"text-align: center;\">\n",
    "July 2021 Takeki Sunakawa\n",
    "<br>\n",
    "<div style=\"text-align: center;\">    \n",
    "Hitotsubashi University"
   ]
  },
  {
   "cell_type": "markdown",
   "metadata": {
    "slideshow": {
     "slide_type": "slide"
    }
   },
   "source": [
    "# Introduction\n",
    "\n",
    "- I will present a way to solve Huggett economy in continuous time.\n",
    "\n",
    "\n",
    "- This note is based on Soyoung Lee's (Bank of Canada) lecture note and Ben Moll's (LSE) MATLAB code. Achdou et al. (2020) is the most important reference."
   ]
  },
  {
   "cell_type": "markdown",
   "metadata": {
    "slideshow": {
     "slide_type": "slide"
    }
   },
   "source": [
    "## Huggett (1993): Saving problem\n",
    "\n",
    "$$\n",
    "  v(a_{0},z_{0},0) \\equiv \\max_{c(s)} \\mathbb{E} \\int_{0}^{\\infty} e^{-\\rho s}u(c(s)) ds\n",
    "$$\n",
    "subject to\n",
    "\n",
    "$$\n",
    "  \\dot{a}(s) = r(s)a(s) + z(s) - c(s), \\quad a_{0} \\text{ is given,} \\\\\n",
    "  a \\geq \\underline{a}\n",
    "$$\n",
    "\n",
    "where\n",
    "- $a$: asset\n",
    "- $c$: consumption\n",
    "- $u(c)$: utility\n",
    "- $r$: interest rate\n",
    "- $z$: wages, which follow <b>a Poisson process</b> with intensity $\\lambda$ (It can be extended to more general stochastic process, but the knowledge of stochastic calculus is required)"
   ]
  },
  {
   "cell_type": "markdown",
   "metadata": {
    "slideshow": {
     "slide_type": "subslide"
    }
   },
   "source": [
    "## Poisson process\n",
    "\n",
    "- Continuous-time version of Bernoulli process (a sequence of binary random variables)\n",
    "\n",
    "\n",
    "- A stochastic variable $x(t)$ takes the value of 0 (no arrival) or 1 (arrival) at each $t$. \n",
    "\n",
    "\n",
    "- The probability of $k$ arrivals between $t$ and $t+\\tau$ is\n",
    "\n",
    "$$\n",
    "  p(k,\\tau) = \\frac{(\\lambda \\tau)^{k} e^{-\\lambda \\tau}}{k!}\n",
    "$$\n",
    "\n",
    "- For a very small time interval between $t$ and $t+dt$, the probablity of $k$ arrivals is\n",
    "\n",
    "$$\n",
    "  p(k,dt) = \\begin{cases}\n",
    "  1-\\lambda dt & \\text{ if } k=0 \\\\\n",
    "  \\lambda dt & \\text{ if } k=1 \\\\\n",
    "  0 & \\text{ if } k>1\n",
    "  \\end{cases}\n",
    "$$"
   ]
  },
  {
   "cell_type": "markdown",
   "metadata": {
    "slideshow": {
     "slide_type": "subslide"
    }
   },
   "source": [
    "## Deriving HJB\n",
    "\n",
    "- Rearrange\n",
    "\n",
    "$$\n",
    "  0 = \\max_{c(s)} \\mathbb{E} \\big\\{ \\int_{t}^{t+dt} e^{-\\rho s}u(c(s)) ds + v(a(t+dt),z(t+dt),t+dt) - v(a(t),z(t),t) \\big\\}\n",
    "$$\n",
    "\n",
    "- Divide by $dt$\n",
    "\n",
    "\\begin{align*}\n",
    "  & 0 = \\max_{c(s)} \\mathbb{E} \\big\\{ \\frac{1}{dt}\\int_{t}^{t+dt} e^{-\\rho s}u(c(s)) ds + \\frac{1}{dt}\\big(v(a(t+dt),z(t+dt),t+dt) - v(a(t),z(t),t)\\big) \\big\\} \\\\\n",
    "  \\Leftrightarrow & 0 = \\max_{c(t)} e^{-\\rho t}u(c(t)) + \\frac{1}{dt}\\big(\\mathbb{E}v(a(t+dt),z(t+dt),t+dt) - v(a(t),z(t),t)\\big) \\\\\n",
    "\\end{align*}"
   ]
  },
  {
   "cell_type": "markdown",
   "metadata": {
    "slideshow": {
     "slide_type": "subslide"
    }
   },
   "source": [
    "- Using $v(a,z) \\equiv v(a,z,0)$ and $v(a,z,t) = e^{-\\rho t}v(a,z)$ <!--, and $v_{t}(a,z,t) = -\\rho e^{-\\rho t}v(a,z)$-->\n",
    "\n",
    "$$\n",
    "  0 = \\max_{c(t)} e^{-\\rho t}u(c(t)) + \\frac{1}{dt}\\big(e^{-\\rho t+dt}\\color{blue}{\\mathbb{E}v(a(t+dt),z(t+dt))} - e^{-\\rho t}v(a(t),z(t))\\big)\n",
    "$$\n",
    "\n",
    "- If $z(t)=z$, \n",
    "\n",
    "$$\n",
    "  \\color{blue}{\\mathbb{E}v(a(t+dt),z(t+dt)) = \\lambda dt v(a(t+dt),z') + (1-\\lambda dt) v(a(t+dt),z)} \n",
    "$$\n",
    "\n",
    "$\\lambda dt$ is the arrival rate of different technology $z'$ between $t$ and $t+dt$."
   ]
  },
  {
   "cell_type": "markdown",
   "metadata": {
    "slideshow": {
     "slide_type": "subslide"
    }
   },
   "source": [
    "- Then,\n",
    "\n",
    "\\begin{align*}\n",
    "  & 0 = \\max_{c(t)} e^{-\\rho t}u(c(t)) \\\\\n",
    "  & + \\frac{1}{dt}\\big(e^{-\\rho t+dt}\\big(\\lambda dt v(a(t+dt),z') + (1-\\lambda dt) v(a(t+dt),z)\\big) - e^{-\\rho t}v(a(t),z)\\big) \\\\\n",
    "  \\Leftrightarrow & 0 = \\max_{c(t)} e^{-\\rho t}u(c(t)) \\\\\n",
    "  & + \\frac{1}{dt}\\big(e^{-\\rho t+dt}\\lambda dt \\big(v(a(t+dt),z')-v(a(t+dt),z)\\big) + e^{-\\rho t+dt}v(a(t+dt),z) - e^{-\\rho t}v(a(t),z)\\big) \\\\\n",
    "  \\Leftrightarrow & 0 = \\max_{c(t)} e^{-\\rho t}u(c(t)) \\\\\n",
    "  & + e^{-\\rho t+dt}\\lambda \\big(v(a(t+dt),z')-v(a(t+dt),z)\\big) + \\color{blue}{\\frac{1}{dt}\\big(e^{-\\rho t+dt}v(a(t+dt),z) - e^{-\\rho t}v(a(t),z)\\big)}\n",
    "\\end{align*}"
   ]
  },
  {
   "cell_type": "markdown",
   "metadata": {
    "slideshow": {
     "slide_type": "subslide"
    }
   },
   "source": [
    "- As $dt \\rightarrow 0$,\n",
    "\n",
    "$$\n",
    "  0 = \\max_{c(t)} e^{-\\rho t}u(c(t)) + e^{-\\rho t}\\lambda \\big(v(a(t),z')-v(a(t),z)\\big) + \\color{blue}{e^{-\\rho t}v_{a}(a(t),z)\\dot{a}(t) - \\rho e^{-\\rho t}v(a(t),z)}\n",
    "$$\n",
    "\n",
    "Note that $\\frac{df(a(t),t)}{dt} = \\frac{df}{da}\\frac{da}{dt} + \\frac{df}{dt}$\n",
    "\n",
    "- Drop $t, e^{-\\rho t}$ and rearrange\n",
    "\n",
    "$$\n",
    "  \\rho v(a,z) = \\max_{c} u(c) + \\lambda \\big(v(a,z')-v(a,z)\\big) + v_{a}(a,z)\\dot{a}\n",
    "$$"
   ]
  },
  {
   "cell_type": "markdown",
   "metadata": {
    "slideshow": {
     "slide_type": "slide"
    }
   },
   "source": [
    "# Numerical solution\n",
    "\n",
    "- Advantages relative to discrete-time methods (Achdou et al., 2020)\n",
    "\n",
    "1. The borrowing constraint never binds in the interior of the state space, $a>\\underline{a}$:\n",
    "\n",
    "$$\n",
    "  c = (u')^{-1}(v_{a}(a,z))\n",
    "$$\n",
    "\n",
    "2. The FOC is static so as to sidestep costly root-finding problems\n",
    "\n",
    "3. Sparsity of the transition matrix\n",
    "\n",
    "4. There is a tight link between solving the HJB and KF \"kill two birds with one stone\"\n"
   ]
  },
  {
   "cell_type": "markdown",
   "metadata": {
    "slideshow": {
     "slide_type": "subslide"
    }
   },
   "source": [
    "- The borrowing constraint gives rise to a state constraint boundary condition\n",
    "\n",
    "$$\n",
    "  v'_{j}(\\underline{a}) \\geq u'(z_{j}+r\\underline{a}), \\quad j=1,2\n",
    "$$\n",
    "\n",
    "- which implies\n",
    "\n",
    "$$\n",
    "  s_{j}(\\underline{a}) = z_{j}+r\\underline{a} - c_{j}(\\underline{a}) \\geq 0\n",
    "$$\n",
    "\n",
    "together with $c_{j}(\\underline{a}) = u'^{-1}(v'_{j}(\\underline{a}))$\n",
    "\n",
    "- It ensures that the borrowing costraint is never violated"
   ]
  },
  {
   "cell_type": "markdown",
   "metadata": {
    "slideshow": {
     "slide_type": "subslide"
    }
   },
   "source": [
    "- We solve on discretized grids: $\\mathbf{A} = \\{a_{1},...,a_{n_{a}}\\}$ and $\\mathbf{Z}=\\{z_{1},z_{2}\\}$.\n",
    "  - Assume the intensity of income shock $\\lambda_{j}$ depends on the level of income $z_{j}$.\n",
    "\n",
    "- Then we have\n",
    "\n",
    "$$\n",
    "  \\rho v(a_{i},z_{j}) = \\max_{c} u(c) + v_{a}(a_{i},z_{j})(r a_{i} + z_{j} - c) + \\lambda_{j} \\big(v(a_{i},z_{-j})-v(a_{i},z_{j})\\big)\n",
    "$$\n",
    "\n",
    "- From FOC, $c = u'^{-1}(v_{a}(a,z))$ holds\n",
    "\n",
    "- How do we approximate $v_{a}(a_{i},z_{j})$ at each $a_{i}\\in\\mathbf{A}$ and $z_{j}\\in\\mathbf{Z}$?\n"
   ]
  },
  {
   "cell_type": "code",
   "execution_count": 1,
   "metadata": {
    "slideshow": {
     "slide_type": "subslide"
    }
   },
   "outputs": [],
   "source": [
    "using SparseArrays\n",
    "using LinearAlgebra\n",
    "\n",
    "# parameters\n",
    "σ = 1.2 #2.0   # CRRA utility with parameter s\n",
    "r = 0.035 #0.03  # interest rate\n",
    "ρ = 0.05  # discount rate\n",
    "z1 = .1\n",
    "z2 = .2\n",
    "z = [z1 z2]\n",
    "λ1 = 1.5 #0.02 # arrival rate when z=z1\n",
    "λ2 = 1.0 #0.03 # arrival rate when z=z2\n",
    "λ = [λ1 λ2]\n",
    "\n",
    "# number of grid points\n",
    "na = 500\n",
    "# set up the grid\n",
    "amin = -0.02\n",
    "amax = 3.0 # 2.0\n",
    "a = collect(range(amin,stop=amax,length=na))\n",
    "# distance between each grid\n",
    "da = (amax-amin)/(na-1)\n",
    "\n",
    "maxit = 20000 # maximum number of iterations\n",
    "crit  = 1e-6; # convergence criteria"
   ]
  },
  {
   "cell_type": "markdown",
   "metadata": {
    "slideshow": {
     "slide_type": "subslide"
    }
   },
   "source": [
    "- Finite difference methods approximate $v_{a}(a_{i},z_{j})$ by discretizing the derivatives with finite differences\n",
    "\n",
    "- *Forward*: \n",
    "$$\n",
    "v_{a,i,j}^{(F)} \\equiv v_{a}^{(F)}(a_{i,j}) = \\frac{v_{i+1,j}-v_{i,j}}{\\Delta a}\n",
    "$$\n",
    "\n",
    "- *Backward*: \n",
    "$$\n",
    "v_{a,i,j}^{(B)} \\equiv v_{a}^{(B)}(a_{i,j}) = \\frac{v_{i,j}-v_{i-1,j}}{\\Delta a}\n",
    "$$\n",
    "\n",
    "where $v_{i,j} = v(a_{i},z_{j})$ and $v_{a,i,j} = v_{a}(a_{i},z_{j})$"
   ]
  },
  {
   "cell_type": "markdown",
   "metadata": {
    "slideshow": {
     "slide_type": "skip"
    }
   },
   "source": [
    "Note that (graph)\n",
    "\n",
    "\n",
    "- From concavity of $v(k)$, \n",
    "\n",
    "$$\n",
    "v_{k,i}^{(F)}<v_{k,i}^{(B)}\n",
    "$$\n",
    "- Then, as $c=\\big(v_{k}(k)\\big)^{-1/\\sigma}$, \n",
    "\n",
    "$$\n",
    "c_{i}^{(F)}>c_{i}^{(B)}\n",
    "$$\n",
    "- Also, as $s=f(k)-{\\delta}k-c$, \n",
    "\n",
    "$$\n",
    "s_{i}^{(F)}<s_{i}^{(B)}\n",
    "$$ "
   ]
  },
  {
   "cell_type": "markdown",
   "metadata": {
    "slideshow": {
     "slide_type": "subslide"
    }
   },
   "source": [
    "- Which one to use? **Upwind scheme**\n",
    "\n",
    "- When $s_{i,j}^{(F)} = r a_{i} + z_{j} - \\big(v_{a,i,j}^{(F)}\\big)^{-1/\\sigma} > 0$, set $v_{a,i,j} = v_{a,i,j}^{(F)}$\n",
    "<!-- $$\n",
    "v_{k,i} = v_{k,i}^{(F)} = \\frac{v_{i+1}-v_{i}}{\\Delta k}\n",
    "$$\n",
    " -->\n",
    "- When $s_{i,j}^{(B)} = r a_{i} + z_{j} - \\big(v_{a,i,j}^{(B)}\\big)^{-1/\\sigma} < 0$, set $v_{a,i,j} = v_{a,i,j}^{(B)}$ \n",
    "<!-- $$\n",
    "v_{k,i} = v_{k,i}^{(B)} = \\frac{v_{i}-v_{i-1}}{\\Delta k}\n",
    "$$ -->"
   ]
  },
  {
   "cell_type": "markdown",
   "metadata": {
    "slideshow": {
     "slide_type": "subslide"
    }
   },
   "source": [
    "- We can write a discretized HJB for each $k_{i}$\n",
    "\n",
    "\\begin{align*}\n",
    "  \\rho v(a_{i},z_{j}) &= u(c_{i,j}) + v_{a}(a_{i},z_{j})s_{i,j} + \\color{magenta}{\\lambda_{j} \\big(v(a_{i},z_{-j})-v(a_{i},z_{j})\\big)}, \\\\\n",
    "  &= u(c_{i,j}) + v_{a,i,j}^{(F)} s_{i,j}^{(F)} \\mathbb{1}_{s_{i,j}^{(F)}>0} + v_{a,i,j}^{(B)} s_{i,j}^{(B)} \\mathbb{1}_{s_{i,j}^{(B)}<0} + \\color{magenta}{\\lambda_{j} v_{i,-j} - \\lambda_{j} v_{i,j}}\n",
    "\\end{align*}\n",
    "\n",
    "where\n",
    "\n",
    "$$\n",
    "  v_{a,i,j}^{(F)} = \\frac{v_{i+1,j}-v_{i,j}}{\\Delta a}, \\quad v_{a,i,j}^{(B)} = \\frac{v_{i,j}-v_{i-1,j}}{\\Delta a}\n",
    "$$\n",
    "\n",
    "- <font color=\"blue\">Boundaries: At $a_{1}$, set $v_{a,1,j}^{(B)} = u'(r a_{1} + z_{j})$ for $j=1,2$</font>"
   ]
  },
  {
   "cell_type": "markdown",
   "metadata": {
    "slideshow": {
     "slide_type": "skip"
    }
   },
   "source": [
    "The optimal level of consumption is set to\n",
    "\n",
    "$$\n",
    "  c_{i} = u'^{-1}\\big( v_{k,i}^{(F)}\\mathbb{1}_{s_{i}^{(F)}>0} + v_{k,i}^{(B)}\\mathbb{1}_{s_{i}^{(B)}<0} + \\color{blue}{\\bar{v}_{k,i}\\mathbb{1}_{s_{i}^{(F)}\\leq0}\\mathbb{1}_{s_{i}^{(B)}\\geq0}}\\big)\n",
    "$$\n",
    "\n",
    "where <font color=\"blue\">$\\bar{v}_{k,i}=u'(f(k_{i}) - \\delta k_{i})$ (steady state consumption)</font>"
   ]
  },
  {
   "cell_type": "code",
   "execution_count": null,
   "metadata": {
    "slideshow": {
     "slide_type": "subslide"
    }
   },
   "outputs": [],
   "source": [
    "function vfict_explicit_nomatrix(v0,a,z,σ,ρ,maxit,crit,Delta)\n",
    "\n",
    "    na = size(a,1)\n",
    "    amin = minimum(a)\n",
    "    amax = maximum(a)\n",
    "    da = (amax-amin)/(na-1)\n",
    "    \n",
    "    # for iteration\n",
    "    dVf = zeros(na,2) # forward difference\n",
    "    dVb = zeros(na,2) # backward difference\n",
    "    c   = zeros(na,2) # optimal consumption (from dV)\n",
    "    AT  = zeros(2*na,2*na)\n",
    "\n",
    "    # (na,nz) matrix\n",
    "    aa = [a a]\n",
    "    zz = ones(na,1)*z\n",
    "\n",
    "#     Aswitch = [-sparse(I,na,na)*λ[1] sparse(I,na,na)*λ[1]; sparse(I,na,na)*λ[2] -sparse(I,na,na)*λ[2]]\n",
    "\n",
    "    v = v0 # new v\n",
    "    V = v  # old v\n",
    "\n",
    "    dist  = zeros(maxit) # distance between old and new value functions at each iteration\n",
    "\n",
    "    # MAIN LOOP\n",
    "    for n in 1:maxit\n",
    "\n",
    "        # forward difference\n",
    "        dVf[1:na-1,:] = (V[2:na,:]-V[1:na-1,:])/da\n",
    "    #     dVf[na,:] = (z .+ r.*amax).^(-σ) # state constraint, for stability with implicit method?\n",
    "        dVf[na,:] = zeros(1,2) # will never be used (as s<0)\n",
    "        # backward difference\n",
    "        dVb[2:na,:] = (V[2:na,:]-V[1:na-1,:])/da\n",
    "        dVb[1,:] = (z .+ r.*amin).^(-σ) # state constraint, for stability with implicit method?\n",
    "    #     dVb[1] = zeros(1,2) # will never be used (as s>0)\n",
    "\n",
    "        # consumption and savings with forward difference\n",
    "        cf = dVf.^(-1/σ)\n",
    "        sf = zz + r.*aa - cf\n",
    "        # consumption and savings with backward difference\n",
    "        cb = dVb.^(-1/σ)\n",
    "        sb = zz + r.*aa - cb\n",
    "        # consumption and derivative of value function at steady state (used for c only)\n",
    "        c0  = zz + r.*aa\n",
    "        dV0 = c0.^(-σ)\n",
    "\n",
    "        # dV_upwind makes a choice of forward or backward differences based on\n",
    "        # the sign of the drift    \n",
    "        If = sf .> 0       # below steady state\n",
    "        Ib = sb .< 0       # above steady state\n",
    "        I0 = (1.0.-If.-Ib) # at steady state\n",
    "\n",
    "        # make sure the right approximations are used at the boundaries\n",
    "    #     # at ik = 1, s>0 -> f is used\n",
    "    #     Ib[1] = 0 \n",
    "    #     If[1] = 1\n",
    "    #     # at ik = nk, s<0 -> b is used\n",
    "        Ib[na,:] = ones(1,2)\n",
    "        If[na,:] = zeros(1,2)\n",
    "\n",
    "        dV_Upwind = dVf.*If + dVb.*Ib + dV0.*I0 # important to include third term    \n",
    "        c = dV_Upwind.^(-1.0/σ)\n",
    "        u = c.^(1.0-σ)/(1.0-σ)\n",
    "\n",
    "        # explicit method, without sparse matrix\n",
    "        V_switch = [V[:,2] V[:,1]]\n",
    "        Vchange = u + dV_Upwind.*(zz + r.*aa - c) + ones(na,1)*λ.*(V_switch - V)  - ρ.*V\n",
    "        Delta = .9*da/maximum(z2 .+ r.*a)\n",
    "        v = V + Delta*Vchange # new v\n",
    "        V = v\n",
    "\n",
    "        dist[n] = maximum(abs.(Vchange))\n",
    "        if (mod(n,10)==0)\n",
    "            println([n,dist[n]])\n",
    "        end\n",
    "        if dist[n]<crit\n",
    "            println(\"Value Function Converged, Iteration = \")\n",
    "            println(n)\n",
    "            break\n",
    "        end\n",
    "    end\n",
    "    \n",
    "    return v, c\n",
    "    \n",
    "end"
   ]
  },
  {
   "cell_type": "markdown",
   "metadata": {
    "slideshow": {
     "slide_type": "subslide"
    }
   },
   "source": [
    "## Matrix form\n",
    "\n",
    "By substituting $v_{a,i,j}^{(F)}$ and $v_{a,i,j}^{(B)}$ into (1), we have\n",
    "\n",
    "\\begin{align*}\n",
    "  \\rho v(a_{i},z_{j}) &= u(c_{i,j}) + v_{a,i,j}^{(F)} s_{i,j}^{(F)} \\mathbb{1}_{s_{i,j}^{(F)}>0} + v_{a,i,j}^{(B)} s_{i,j}^{(B)} \\mathbb{1}_{s_{i,j}^{(B)}<0} + \\color{magenta}{\\lambda_{j} v_{i,-j} - \\lambda_{j} v_{i,j}}, \\\\\n",
    "  &= u(c_{i,j}) + \\frac{v_{i+1,j}-v_{i,j}}{\\Delta a} s_{i,j}^{(F)} \\mathbb{1}_{s_{i,j}^{(F)}>0} + \\frac{v_{i,j}-v_{i-1,j}}{\\Delta a} s_{i,j}^{(B)} \\mathbb{1}_{s_{i,j}^{(B)}<0} + \\color{magenta}{\\lambda_{j} v_{i,-j} - \\lambda_{j} v_{i,j}}, \\\\\n",
    "  &= u(c_{i,j}) + \\alpha_{i,j} v_{i-1,j} + \\beta_{i,j} v_{i,j} + \\xi_{i,j} v_{i+1,j} + \\color{magenta}{\\lambda_{j} v_{i,-j}}\n",
    "\\end{align*}\n",
    "\n",
    "where\n",
    "\n",
    "$$\n",
    "  \\alpha_{i,j} = \\frac{-s_{i,j}^{(B)} \\mathbb{1}_{s_{i,j}^{(B)}<0}}{\\Delta a}, \\quad \\beta_{i,j} = \\frac{-s_{i,j}^{(F)} \\mathbb{1}_{s_{i,j}^{(F)}>0} + s_{i,j}^{(B)} \\mathbb{1}_{s_{i,j}^{(B)}<0}}{\\Delta a} \\color{magenta}{- \\lambda_{j}}, \\quad \\xi_{i,j} = \\frac{s_{i,j}^{(F)} \\mathbb{1}_{s_{i,j}^{(F)}>0}}{\\Delta a}\n",
    "$$"
   ]
  },
  {
   "cell_type": "markdown",
   "metadata": {
    "slideshow": {
     "slide_type": "subslide"
    }
   },
   "source": [
    "It can be stacked into a matrix form: For example, $n_k=4$ and $n_z$ = 2\n",
    "\n",
    "$$\n",
    "    \\rho \\left[\n",
    "    \\begin{array}{c}\n",
    "    v_{1,1}\\\\\n",
    "    v_{2,1}\\\\\n",
    "    v_{3,1}\\\\\n",
    "    v_{4,1}\\\\\n",
    "    v_{1,2}\\\\\n",
    "    v_{2,2}\\\\\n",
    "    v_{3,2}\\\\\n",
    "    v_{4,2}\n",
    "    \\end{array} \\right] = \n",
    "    \\left[\n",
    "    \\begin{array}{c}\n",
    "    u(c_{1,1})\\\\\n",
    "    u(c_{2,1})\\\\\n",
    "    u(c_{3,1})\\\\\n",
    "    u(c_{4,1})\\\\\n",
    "    u(c_{1,2})\\\\\n",
    "    u(c_{2,2})\\\\\n",
    "    u(c_{3,2})\\\\\n",
    "    u(c_{4,2})\n",
    "    \\end{array} \\right] +\n",
    "    \\left[\n",
    "    \\begin{array}{cccccccc}\n",
    "    \\beta_{1,1} & \\xi_{1,1} & 0 & 0 & \\lambda_{1} & 0 & 0 & 0\\\\\n",
    "    \\alpha_{2,1} & \\beta_{2,1} & \\xi_{2,1} & 0 & 0 & \\lambda_{1} & 0 & 0 \\\\\n",
    "    0 & \\alpha_{3,1} & \\beta_{3,1} & \\xi_{3,1} & 0 & 0 & \\lambda_{1} & 0 \\\\\n",
    "    0 & 0 & \\alpha_{4,1} & \\beta_{4,1} & 0 & 0 & 0 & \\lambda_{1} \\\\\n",
    "    \\lambda_{2} & 0 & 0 & 0 & \\beta_{1,2} & \\xi_{1,2} & 0 & 0 \\\\\n",
    "    0 & \\lambda_{2} & 0 & 0 & \\alpha_{2,2} & \\beta_{2,2} & \\xi_{2,2} & 0 \\\\\n",
    "    0 & 0 & \\lambda_{2} & 0 & 0 & \\alpha_{3,2} & \\beta_{3,2} & \\xi_{3,2} \\\\\n",
    "    0 & 0 & 0 & \\lambda_{2} & 0 & 0 & \\alpha_{4,2} & \\beta_{4,2}\n",
    "    \\end{array}\n",
    "    \\right]\n",
    "    \\left[\n",
    "    \\begin{array}{c}\n",
    "    v_{1,1}\\\\\n",
    "    v_{2,1}\\\\\n",
    "    v_{3,1}\\\\\n",
    "    v_{4,1}\\\\\n",
    "    v_{1,2}\\\\\n",
    "    v_{2,2}\\\\\n",
    "    v_{3,2}\\\\\n",
    "    v_{4,2}\n",
    "    \\end{array} \\right]\n",
    "$$"
   ]
  },
  {
   "cell_type": "markdown",
   "metadata": {
    "slideshow": {
     "slide_type": "subslide"
    }
   },
   "source": [
    "Or\n",
    "\n",
    "$$\n",
    "  \\rho \\mathbf{v} = \\mathbf{u} + \\mathbf{A}\\mathbf{v}\n",
    "$$\n",
    "\n",
    "$\\mathbf{A}$ is a sparse matrix (graph).\n",
    "\n",
    "- Solve the system of equations using explicit or implicit method."
   ]
  },
  {
   "cell_type": "code",
   "execution_count": null,
   "metadata": {
    "slideshow": {
     "slide_type": "subslide"
    }
   },
   "outputs": [],
   "source": [
    "function vfict_explicit(v0,a,z,σ,ρ,maxit,crit,Delta)\n",
    "\n",
    "    na = size(a,1)\n",
    "    amin = minimum(a)\n",
    "    amax = maximum(a)\n",
    "    da = (amax-amin)/(na-1)\n",
    "    \n",
    "    # for iteration\n",
    "    dVf = zeros(na,2) # forward difference\n",
    "    dVb = zeros(na,2) # backward difference\n",
    "    c   = zeros(na,2) # optimal consumption (from dV)\n",
    "    AT  = zeros(2*na,2*na)\n",
    "\n",
    "    # (na,nz) matrix\n",
    "    aa = [a a]\n",
    "    zz = ones(na,1)*z\n",
    "\n",
    "    Aswitch = [-sparse(I,na,na)*λ[1] sparse(I,na,na)*λ[1]; sparse(I,na,na)*λ[2] -sparse(I,na,na)*λ[2]]\n",
    "\n",
    "    v = v0 # new v\n",
    "    V = v  # old v\n",
    "\n",
    "    dist  = zeros(maxit) # distance between old and new value functions at each iteration\n",
    "\n",
    "    # MAIN LOOP\n",
    "    for n in 1:maxit\n",
    "\n",
    "        # forward difference\n",
    "        dVf[1:na-1,:] = (V[2:na,:]-V[1:na-1,:])/da\n",
    "    #     dVf[na,:] = (z .+ r.*amax).^(-σ) # state constraint, for stability with implicit method?\n",
    "        dVf[na,:] = zeros(1,2) # will never be used (as s<0)\n",
    "        # backward difference\n",
    "        dVb[2:na,:] = (V[2:na,:]-V[1:na-1,:])/da\n",
    "        dVb[1,:] = (z .+ r.*amin).^(-σ) # state constraint, for stability with implicit method?\n",
    "    #     dVb[1] = zeros(1,2) # will never be used (as s>0)\n",
    "\n",
    "        # consumption and savings with forward difference\n",
    "        cf = dVf.^(-1/σ)\n",
    "        sf = zz + r.*aa - cf\n",
    "        # consumption and savings with backward difference\n",
    "        cb = dVb.^(-1/σ)\n",
    "        sb = zz + r.*aa - cb\n",
    "        # consumption and derivative of value function at steady state (used for c only)\n",
    "        c0  = zz + r.*aa\n",
    "        dV0 = c0.^(-σ)\n",
    "\n",
    "        # dV_upwind makes a choice of forward or backward differences based on\n",
    "        # the sign of the drift    \n",
    "        If = sf .> 0       # below steady state\n",
    "        Ib = sb .< 0       # above steady state\n",
    "        I0 = (1.0.-If.-Ib) # at steady state\n",
    "\n",
    "        # make sure the right approximations are used at the boundaries\n",
    "    #     # at ik = 1, s>0 -> f is used\n",
    "    #     Ib[1] = 0 \n",
    "    #     If[1] = 1\n",
    "    #     # at ik = nk, s<0 -> b is used\n",
    "        Ib[na,:] = ones(1,2)\n",
    "        If[na,:] = zeros(1,2)\n",
    "\n",
    "        dV_Upwind = dVf.*If + dVb.*Ib + dV0.*I0 # important to include third term    \n",
    "        c = dV_Upwind.^(-1.0/σ)\n",
    "        u = c.^(1.0-σ)/(1.0-σ)\n",
    "\n",
    "        # CONSTRUCT MATRIX\n",
    "        X = -sb.*Ib/da\n",
    "        Y = -sf.*If/da + sb.*Ib/da\n",
    "        Z = sf.*If/da\n",
    "\n",
    "        A1 = spdiagm(na,na,[0 => Y[1:na,1]]...) + spdiagm(na,na,[-1 => X[2:na,1]]...) + spdiagm(na,na,[1 => Z[1:na-1,1]]...)\n",
    "        A2 = spdiagm(na,na,[0 => Y[1:na,2]]...) + spdiagm(na,na,[-1 => X[2:na,2]]...) + spdiagm(na,na,[1 => Z[1:na-1,2]]...)\n",
    "        A = [A1 spzeros(na,na); spzeros(na,na) A2] + Aswitch\n",
    "\n",
    "        # explicit method, with sparse matrix\n",
    "        u_stacked = [u[:,1]; u[:,2]]\n",
    "        V_stacked = [V[:,1]; V[:,2]]\n",
    "        v_stacked = Delta*(u_stacked + A*V_stacked - ρ*V_stacked) + V_stacked # new v\n",
    "        v = [v_stacked[1:na] v_stacked[na+1:2*na]]\n",
    "        Vchange = V - v\n",
    "        V = v\n",
    "\n",
    "        dist[n] = maximum(abs.(Vchange))\n",
    "        if (mod(n,10)==0)\n",
    "            println([n,dist[n]])\n",
    "        end\n",
    "        if dist[n]<crit\n",
    "            println(\"Value Function Converged, Iteration = \")\n",
    "            println(n)\n",
    "            AT = A'\n",
    "            break\n",
    "        end\n",
    "    end\n",
    "    \n",
    "    return v, c, AT\n",
    "    \n",
    "end"
   ]
  },
  {
   "cell_type": "code",
   "execution_count": 2,
   "metadata": {
    "slideshow": {
     "slide_type": "subslide"
    }
   },
   "outputs": [
    {
     "data": {
      "text/plain": [
       "vfict_implicit (generic function with 1 method)"
      ]
     },
     "execution_count": 2,
     "metadata": {},
     "output_type": "execute_result"
    }
   ],
   "source": [
    "function vfict_implicit(v0,a,z,σ,ρ,maxit,crit,Delta)\n",
    "\n",
    "    na = size(a,1)\n",
    "    amin = minimum(a)\n",
    "    amax = maximum(a)\n",
    "    da = (amax-amin)/(na-1)\n",
    "    \n",
    "    # for iteration\n",
    "    dVf = zeros(na,2) # forward difference\n",
    "    dVb = zeros(na,2) # backward difference\n",
    "    c   = zeros(na,2) # optimal consumption (from dV)\n",
    "    AT  = zeros(2*na,2*na)\n",
    "\n",
    "    # (na,nz) matrix\n",
    "    aa = [a a]\n",
    "    zz = ones(na,1)*z\n",
    "\n",
    "    Aswitch = [-sparse(I,na,na)*λ[1] sparse(I,na,na)*λ[1]; sparse(I,na,na)*λ[2] -sparse(I,na,na)*λ[2]]\n",
    "\n",
    "    v = v0 # new v\n",
    "    V = v  # old v\n",
    "\n",
    "    dist  = zeros(maxit) # distance between old and new value functions at each iteration\n",
    "\n",
    "    # MAIN LOOP\n",
    "    for n in 1:maxit\n",
    "\n",
    "        # forward difference\n",
    "        dVf[1:na-1,:] = (V[2:na,:]-V[1:na-1,:])/da\n",
    "    #     dVf[na,:] = (z .+ r.*amax).^(-σ) # state constraint, for stability with implicit method?\n",
    "        dVf[na,:] = zeros(1,2) # will never be used (as s<0)\n",
    "        # backward difference\n",
    "        dVb[2:na,:] = (V[2:na,:]-V[1:na-1,:])/da\n",
    "        dVb[1,:] = (z .+ r.*amin).^(-σ) # state constraint, for stability with implicit method?\n",
    "    #     dVb[1] = zeros(1,2) # will never be used (as s>0)\n",
    "\n",
    "        # consumption and savings with forward difference\n",
    "        cf = dVf.^(-1/σ)\n",
    "        sf = zz + r.*aa - cf\n",
    "        # consumption and savings with backward difference\n",
    "        cb = dVb.^(-1/σ)\n",
    "        sb = zz + r.*aa - cb\n",
    "        # consumption and derivative of value function at steady state (used for c only)\n",
    "        c0  = zz + r.*aa\n",
    "        dV0 = c0.^(-σ)\n",
    "\n",
    "        # dV_upwind makes a choice of forward or backward differences based on\n",
    "        # the sign of the drift    \n",
    "        If = sf .> 0       # below steady state\n",
    "        Ib = sb .< 0       # above steady state\n",
    "        I0 = (1.0.-If.-Ib) # at steady state\n",
    "\n",
    "        # make sure the right approximations are used at the boundaries\n",
    "    #     # at ik = 1, s>0 -> f is used\n",
    "    #     Ib[1] = 0 \n",
    "    #     If[1] = 1\n",
    "    #     # at ik = nk, s<0 -> b is used\n",
    "        Ib[na,:] = ones(1,2)\n",
    "        If[na,:] = zeros(1,2)\n",
    "\n",
    "        dV_Upwind = dVf.*If + dVb.*Ib + dV0.*I0 # important to include third term    \n",
    "        c = dV_Upwind.^(-1.0/σ)\n",
    "        u = c.^(1.0-σ)/(1.0-σ)\n",
    "\n",
    "        # CONSTRUCT MATRIX\n",
    "        X = -sb.*Ib/da\n",
    "        Y = -sf.*If/da + sb.*Ib/da\n",
    "        Z = sf.*If/da\n",
    "\n",
    "        A1 = spdiagm(na,na,[0 => Y[1:na,1]]...) + spdiagm(na,na,[-1 => X[2:na,1]]...) + spdiagm(na,na,[1 => Z[1:na-1,1]]...)\n",
    "        A2 = spdiagm(na,na,[0 => Y[1:na,2]]...) + spdiagm(na,na,[-1 => X[2:na,2]]...) + spdiagm(na,na,[1 => Z[1:na-1,2]]...)\n",
    "        A = [A1 spzeros(na,na); spzeros(na,na) A2] + Aswitch\n",
    "\n",
    "        # implicit method, with sparse matrix\n",
    "        B = (Delta*ρ + 1.0)*sparse(1.0I, 2*na, 2*na) - Delta*A\n",
    "        u_stacked = [u[:,1]; u[:,2]]\n",
    "        V_stacked = [V[:,1]; V[:,2]]\n",
    "        b = Delta*u_stacked + V_stacked\n",
    "        v_stacked = B\\b # new v\n",
    "        v = [v_stacked[1:na] v_stacked[na+1:2*na]]\n",
    "        Vchange = V - v\n",
    "        V = v\n",
    "\n",
    "        dist[n] = maximum(abs.(Vchange))\n",
    "        if (mod(n,10)==0)\n",
    "            println([n,dist[n]])\n",
    "        end\n",
    "        if dist[n]<crit\n",
    "            println(\"Value Function Converged, Iteration = \")\n",
    "            println(n)\n",
    "            AT = A'\n",
    "            break\n",
    "        end\n",
    "    end\n",
    "    \n",
    "    return v, c, AT\n",
    "    \n",
    "end"
   ]
  },
  {
   "cell_type": "code",
   "execution_count": 6,
   "metadata": {
    "slideshow": {
     "slide_type": "subslide"
    }
   },
   "outputs": [
    {
     "name": "stdout",
     "output_type": "stream",
     "text": [
      "Value Function Converged, Iteration = \n",
      "8\n",
      "  0.017871 seconds (3.75 k allocations: 25.004 MiB)\n"
     ]
    }
   ],
   "source": [
    "# INITIAL GUESS\n",
    "v0 = zeros(na,2)\n",
    "v0[:,1] = (z[1] .+ r.*a).^(1.0-σ)/(1.0-σ)/ρ\n",
    "v0[:,2] = (z[2] .+ r.*a).^(1.0-σ)/(1.0-σ)/ρ\n",
    "\n",
    "# Delta = 0.04 # damping parameter\n",
    "# # @time v,c = vfict_explicit_nomatrix(v0,a,z,σ,ρ,maxit,crit,Delta);\n",
    "# @time v,c,AT = vfict_explicit(v0,a,z,σ,ρ,maxit,crit,Delta);\n",
    "\n",
    "Delta = 1000\n",
    "@time v,c,AT = vfict_implicit(v0,a,z,σ,ρ,maxit,crit,Delta);"
   ]
  },
  {
   "cell_type": "code",
   "execution_count": 7,
   "metadata": {
    "slideshow": {
     "slide_type": "subslide"
    }
   },
   "outputs": [
    {
     "data": {
      "image/svg+xml": [
       "<?xml version=\"1.0\" encoding=\"utf-8\"?>\n",
       "<svg xmlns=\"http://www.w3.org/2000/svg\" xmlns:xlink=\"http://www.w3.org/1999/xlink\" width=\"600\" height=\"400\" viewBox=\"0 0 2400 1600\">\n",
       "<defs>\n",
       "  <clipPath id=\"clip850\">\n",
       "    <rect x=\"0\" y=\"0\" width=\"2400\" height=\"1600\"/>\n",
       "  </clipPath>\n",
       "</defs>\n",
       "<path clip-path=\"url(#clip850)\" d=\"\n",
       "M0 1600 L2400 1600 L2400 0 L0 0  Z\n",
       "  \" fill=\"#ffffff\" fill-rule=\"evenodd\" fill-opacity=\"1\"/>\n",
       "<defs>\n",
       "  <clipPath id=\"clip851\">\n",
       "    <rect x=\"480\" y=\"0\" width=\"1681\" height=\"1600\"/>\n",
       "  </clipPath>\n",
       "</defs>\n",
       "<path clip-path=\"url(#clip850)\" d=\"\n",
       "M224.098 1486.45 L2352.76 1486.45 L2352.76 47.2441 L224.098 47.2441  Z\n",
       "  \" fill=\"#ffffff\" fill-rule=\"evenodd\" fill-opacity=\"1\"/>\n",
       "<defs>\n",
       "  <clipPath id=\"clip852\">\n",
       "    <rect x=\"224\" y=\"47\" width=\"2130\" height=\"1440\"/>\n",
       "  </clipPath>\n",
       "</defs>\n",
       "<polyline clip-path=\"url(#clip852)\" style=\"stroke:#000000; stroke-linecap:butt; stroke-linejoin:round; stroke-width:2; stroke-opacity:0.1; fill:none\" points=\"\n",
       "  297.642,1486.45 297.642,47.2441 \n",
       "  \"/>\n",
       "<polyline clip-path=\"url(#clip852)\" style=\"stroke:#000000; stroke-linecap:butt; stroke-linejoin:round; stroke-width:2; stroke-opacity:0.1; fill:none\" points=\"\n",
       "  962.598,1486.45 962.598,47.2441 \n",
       "  \"/>\n",
       "<polyline clip-path=\"url(#clip852)\" style=\"stroke:#000000; stroke-linecap:butt; stroke-linejoin:round; stroke-width:2; stroke-opacity:0.1; fill:none\" points=\"\n",
       "  1627.55,1486.45 1627.55,47.2441 \n",
       "  \"/>\n",
       "<polyline clip-path=\"url(#clip852)\" style=\"stroke:#000000; stroke-linecap:butt; stroke-linejoin:round; stroke-width:2; stroke-opacity:0.1; fill:none\" points=\"\n",
       "  2292.51,1486.45 2292.51,47.2441 \n",
       "  \"/>\n",
       "<polyline clip-path=\"url(#clip850)\" style=\"stroke:#000000; stroke-linecap:butt; stroke-linejoin:round; stroke-width:4; stroke-opacity:1; fill:none\" points=\"\n",
       "  224.098,1486.45 2352.76,1486.45 \n",
       "  \"/>\n",
       "<polyline clip-path=\"url(#clip850)\" style=\"stroke:#000000; stroke-linecap:butt; stroke-linejoin:round; stroke-width:4; stroke-opacity:1; fill:none\" points=\"\n",
       "  297.642,1486.45 297.642,1469.18 \n",
       "  \"/>\n",
       "<polyline clip-path=\"url(#clip850)\" style=\"stroke:#000000; stroke-linecap:butt; stroke-linejoin:round; stroke-width:4; stroke-opacity:1; fill:none\" points=\"\n",
       "  962.598,1486.45 962.598,1469.18 \n",
       "  \"/>\n",
       "<polyline clip-path=\"url(#clip850)\" style=\"stroke:#000000; stroke-linecap:butt; stroke-linejoin:round; stroke-width:4; stroke-opacity:1; fill:none\" points=\"\n",
       "  1627.55,1486.45 1627.55,1469.18 \n",
       "  \"/>\n",
       "<polyline clip-path=\"url(#clip850)\" style=\"stroke:#000000; stroke-linecap:butt; stroke-linejoin:round; stroke-width:4; stroke-opacity:1; fill:none\" points=\"\n",
       "  2292.51,1486.45 2292.51,1469.18 \n",
       "  \"/>\n",
       "<path clip-path=\"url(#clip850)\" d=\"M297.642 1515.64 Q294.031 1515.64 292.202 1519.2 Q290.397 1522.75 290.397 1529.87 Q290.397 1536.98 292.202 1540.55 Q294.031 1544.09 297.642 1544.09 Q301.276 1544.09 303.082 1540.55 Q304.911 1536.98 304.911 1529.87 Q304.911 1522.75 303.082 1519.2 Q301.276 1515.64 297.642 1515.64 M297.642 1511.93 Q303.452 1511.93 306.508 1516.54 Q309.586 1521.12 309.586 1529.87 Q309.586 1538.6 306.508 1543.21 Q303.452 1547.79 297.642 1547.79 Q291.832 1547.79 288.753 1543.21 Q285.698 1538.6 285.698 1529.87 Q285.698 1521.12 288.753 1516.54 Q291.832 1511.93 297.642 1511.93 Z\" fill=\"#000000\" fill-rule=\"evenodd\" fill-opacity=\"1\" /><path clip-path=\"url(#clip850)\" d=\"M952.98 1543.18 L960.619 1543.18 L960.619 1516.82 L952.309 1518.49 L952.309 1514.23 L960.573 1512.56 L965.249 1512.56 L965.249 1543.18 L972.888 1543.18 L972.888 1547.12 L952.98 1547.12 L952.98 1543.18 Z\" fill=\"#000000\" fill-rule=\"evenodd\" fill-opacity=\"1\" /><path clip-path=\"url(#clip850)\" d=\"M1622.21 1543.18 L1638.53 1543.18 L1638.53 1547.12 L1616.58 1547.12 L1616.58 1543.18 Q1619.24 1540.43 1623.83 1535.8 Q1628.43 1531.15 1629.61 1529.81 Q1631.86 1527.28 1632.74 1525.55 Q1633.64 1523.79 1633.64 1522.1 Q1633.64 1519.34 1631.7 1517.61 Q1629.78 1515.87 1626.67 1515.87 Q1624.48 1515.87 1622.02 1516.63 Q1619.59 1517.4 1616.81 1518.95 L1616.81 1514.23 Q1619.64 1513.09 1622.09 1512.51 Q1624.55 1511.93 1626.58 1511.93 Q1631.95 1511.93 1635.15 1514.62 Q1638.34 1517.31 1638.34 1521.8 Q1638.34 1523.93 1637.53 1525.85 Q1636.74 1527.74 1634.64 1530.34 Q1634.06 1531.01 1630.96 1534.23 Q1627.86 1537.42 1622.21 1543.18 Z\" fill=\"#000000\" fill-rule=\"evenodd\" fill-opacity=\"1\" /><path clip-path=\"url(#clip850)\" d=\"M2296.76 1528.49 Q2300.11 1529.2 2301.99 1531.47 Q2303.89 1533.74 2303.89 1537.07 Q2303.89 1542.19 2300.37 1544.99 Q2296.85 1547.79 2290.37 1547.79 Q2288.19 1547.79 2285.88 1547.35 Q2283.59 1546.93 2281.13 1546.08 L2281.13 1541.56 Q2283.08 1542.7 2285.39 1543.28 Q2287.71 1543.86 2290.23 1543.86 Q2294.63 1543.86 2296.92 1542.12 Q2299.24 1540.38 2299.24 1537.07 Q2299.24 1534.02 2297.08 1532.31 Q2294.95 1530.57 2291.13 1530.57 L2287.11 1530.57 L2287.11 1526.73 L2291.32 1526.73 Q2294.77 1526.73 2296.6 1525.36 Q2298.43 1523.97 2298.43 1521.38 Q2298.43 1518.72 2296.53 1517.31 Q2294.65 1515.87 2291.13 1515.87 Q2289.21 1515.87 2287.01 1516.29 Q2284.81 1516.7 2282.18 1517.58 L2282.18 1513.42 Q2284.84 1512.68 2287.15 1512.31 Q2289.49 1511.93 2291.55 1511.93 Q2296.87 1511.93 2299.98 1514.37 Q2303.08 1516.77 2303.08 1520.89 Q2303.08 1523.76 2301.43 1525.75 Q2299.79 1527.72 2296.76 1528.49 Z\" fill=\"#000000\" fill-rule=\"evenodd\" fill-opacity=\"1\" /><polyline clip-path=\"url(#clip852)\" style=\"stroke:#000000; stroke-linecap:butt; stroke-linejoin:round; stroke-width:2; stroke-opacity:0.1; fill:none\" points=\"\n",
       "  224.098,1476.88 2352.76,1476.88 \n",
       "  \"/>\n",
       "<polyline clip-path=\"url(#clip852)\" style=\"stroke:#000000; stroke-linecap:butt; stroke-linejoin:round; stroke-width:2; stroke-opacity:0.1; fill:none\" points=\"\n",
       "  224.098,1141.87 2352.76,1141.87 \n",
       "  \"/>\n",
       "<polyline clip-path=\"url(#clip852)\" style=\"stroke:#000000; stroke-linecap:butt; stroke-linejoin:round; stroke-width:2; stroke-opacity:0.1; fill:none\" points=\"\n",
       "  224.098,806.852 2352.76,806.852 \n",
       "  \"/>\n",
       "<polyline clip-path=\"url(#clip852)\" style=\"stroke:#000000; stroke-linecap:butt; stroke-linejoin:round; stroke-width:2; stroke-opacity:0.1; fill:none\" points=\"\n",
       "  224.098,471.837 2352.76,471.837 \n",
       "  \"/>\n",
       "<polyline clip-path=\"url(#clip852)\" style=\"stroke:#000000; stroke-linecap:butt; stroke-linejoin:round; stroke-width:2; stroke-opacity:0.1; fill:none\" points=\"\n",
       "  224.098,136.823 2352.76,136.823 \n",
       "  \"/>\n",
       "<polyline clip-path=\"url(#clip850)\" style=\"stroke:#000000; stroke-linecap:butt; stroke-linejoin:round; stroke-width:4; stroke-opacity:1; fill:none\" points=\"\n",
       "  224.098,1486.45 224.098,47.2441 \n",
       "  \"/>\n",
       "<polyline clip-path=\"url(#clip850)\" style=\"stroke:#000000; stroke-linecap:butt; stroke-linejoin:round; stroke-width:4; stroke-opacity:1; fill:none\" points=\"\n",
       "  224.098,1476.88 249.642,1476.88 \n",
       "  \"/>\n",
       "<polyline clip-path=\"url(#clip850)\" style=\"stroke:#000000; stroke-linecap:butt; stroke-linejoin:round; stroke-width:4; stroke-opacity:1; fill:none\" points=\"\n",
       "  224.098,1141.87 249.642,1141.87 \n",
       "  \"/>\n",
       "<polyline clip-path=\"url(#clip850)\" style=\"stroke:#000000; stroke-linecap:butt; stroke-linejoin:round; stroke-width:4; stroke-opacity:1; fill:none\" points=\"\n",
       "  224.098,806.852 249.642,806.852 \n",
       "  \"/>\n",
       "<polyline clip-path=\"url(#clip850)\" style=\"stroke:#000000; stroke-linecap:butt; stroke-linejoin:round; stroke-width:4; stroke-opacity:1; fill:none\" points=\"\n",
       "  224.098,471.837 249.642,471.837 \n",
       "  \"/>\n",
       "<polyline clip-path=\"url(#clip850)\" style=\"stroke:#000000; stroke-linecap:butt; stroke-linejoin:round; stroke-width:4; stroke-opacity:1; fill:none\" points=\"\n",
       "  224.098,136.823 249.642,136.823 \n",
       "  \"/>\n",
       "<path clip-path=\"url(#clip850)\" d=\"M51.9875 1477.33 L81.6633 1477.33 L81.6633 1481.27 L51.9875 1481.27 L51.9875 1477.33 Z\" fill=\"#000000\" fill-rule=\"evenodd\" fill-opacity=\"1\" /><path clip-path=\"url(#clip850)\" d=\"M101.756 1462.68 Q98.1447 1462.68 96.316 1466.24 Q94.5104 1469.79 94.5104 1476.92 Q94.5104 1484.02 96.316 1487.59 Q98.1447 1491.13 101.756 1491.13 Q105.39 1491.13 107.196 1487.59 Q109.024 1484.02 109.024 1476.92 Q109.024 1469.79 107.196 1466.24 Q105.39 1462.68 101.756 1462.68 M101.756 1458.98 Q107.566 1458.98 110.621 1463.58 Q113.7 1468.17 113.7 1476.92 Q113.7 1485.64 110.621 1490.25 Q107.566 1494.83 101.756 1494.83 Q95.9456 1494.83 92.8669 1490.25 Q89.8114 1485.64 89.8114 1476.92 Q89.8114 1468.17 92.8669 1463.58 Q95.9456 1458.98 101.756 1458.98 Z\" fill=\"#000000\" fill-rule=\"evenodd\" fill-opacity=\"1\" /><path clip-path=\"url(#clip850)\" d=\"M121.918 1488.28 L126.802 1488.28 L126.802 1494.16 L121.918 1494.16 L121.918 1488.28 Z\" fill=\"#000000\" fill-rule=\"evenodd\" fill-opacity=\"1\" /><path clip-path=\"url(#clip850)\" d=\"M137.797 1490.23 L145.436 1490.23 L145.436 1463.86 L137.126 1465.53 L137.126 1461.27 L145.39 1459.6 L150.066 1459.6 L150.066 1490.23 L157.705 1490.23 L157.705 1494.16 L137.797 1494.16 L137.797 1490.23 Z\" fill=\"#000000\" fill-rule=\"evenodd\" fill-opacity=\"1\" /><path clip-path=\"url(#clip850)\" d=\"M167.195 1459.6 L185.552 1459.6 L185.552 1463.54 L171.478 1463.54 L171.478 1472.01 Q172.496 1471.66 173.515 1471.5 Q174.533 1471.31 175.552 1471.31 Q181.339 1471.31 184.718 1474.48 Q188.098 1477.66 188.098 1483.07 Q188.098 1488.65 184.626 1491.75 Q181.153 1494.83 174.834 1494.83 Q172.658 1494.83 170.39 1494.46 Q168.144 1494.09 165.737 1493.35 L165.737 1488.65 Q167.82 1489.79 170.042 1490.34 Q172.265 1490.9 174.741 1490.9 Q178.746 1490.9 181.084 1488.79 Q183.422 1486.68 183.422 1483.07 Q183.422 1479.46 181.084 1477.35 Q178.746 1475.25 174.741 1475.25 Q172.866 1475.25 170.991 1475.67 Q169.14 1476.08 167.195 1476.96 L167.195 1459.6 Z\" fill=\"#000000\" fill-rule=\"evenodd\" fill-opacity=\"1\" /><path clip-path=\"url(#clip850)\" d=\"M50.9921 1142.32 L80.6679 1142.32 L80.6679 1146.25 L50.9921 1146.25 L50.9921 1142.32 Z\" fill=\"#000000\" fill-rule=\"evenodd\" fill-opacity=\"1\" /><path clip-path=\"url(#clip850)\" d=\"M100.76 1127.66 Q97.1493 1127.66 95.3206 1131.23 Q93.515 1134.77 93.515 1141.9 Q93.515 1149.01 95.3206 1152.57 Q97.1493 1156.11 100.76 1156.11 Q104.395 1156.11 106.2 1152.57 Q108.029 1149.01 108.029 1141.9 Q108.029 1134.77 106.2 1131.23 Q104.395 1127.66 100.76 1127.66 M100.76 1123.96 Q106.571 1123.96 109.626 1128.57 Q112.705 1133.15 112.705 1141.9 Q112.705 1150.63 109.626 1155.23 Q106.571 1159.82 100.76 1159.82 Q94.9502 1159.82 91.8715 1155.23 Q88.816 1150.63 88.816 1141.9 Q88.816 1133.15 91.8715 1128.57 Q94.9502 1123.96 100.76 1123.96 Z\" fill=\"#000000\" fill-rule=\"evenodd\" fill-opacity=\"1\" /><path clip-path=\"url(#clip850)\" d=\"M120.922 1153.27 L125.807 1153.27 L125.807 1159.15 L120.922 1159.15 L120.922 1153.27 Z\" fill=\"#000000\" fill-rule=\"evenodd\" fill-opacity=\"1\" /><path clip-path=\"url(#clip850)\" d=\"M136.802 1155.21 L144.441 1155.21 L144.441 1128.85 L136.131 1130.51 L136.131 1126.25 L144.394 1124.59 L149.07 1124.59 L149.07 1155.21 L156.709 1155.21 L156.709 1159.15 L136.802 1159.15 L136.802 1155.21 Z\" fill=\"#000000\" fill-rule=\"evenodd\" fill-opacity=\"1\" /><path clip-path=\"url(#clip850)\" d=\"M176.153 1127.66 Q172.542 1127.66 170.714 1131.23 Q168.908 1134.77 168.908 1141.9 Q168.908 1149.01 170.714 1152.57 Q172.542 1156.11 176.153 1156.11 Q179.788 1156.11 181.593 1152.57 Q183.422 1149.01 183.422 1141.9 Q183.422 1134.77 181.593 1131.23 Q179.788 1127.66 176.153 1127.66 M176.153 1123.96 Q181.964 1123.96 185.019 1128.57 Q188.098 1133.15 188.098 1141.9 Q188.098 1150.63 185.019 1155.23 Q181.964 1159.82 176.153 1159.82 Q170.343 1159.82 167.265 1155.23 Q164.209 1150.63 164.209 1141.9 Q164.209 1133.15 167.265 1128.57 Q170.343 1123.96 176.153 1123.96 Z\" fill=\"#000000\" fill-rule=\"evenodd\" fill-opacity=\"1\" /><path clip-path=\"url(#clip850)\" d=\"M51.9875 807.303 L81.6633 807.303 L81.6633 811.238 L51.9875 811.238 L51.9875 807.303 Z\" fill=\"#000000\" fill-rule=\"evenodd\" fill-opacity=\"1\" /><path clip-path=\"url(#clip850)\" d=\"M101.756 792.65 Q98.1447 792.65 96.316 796.215 Q94.5104 799.757 94.5104 806.886 Q94.5104 813.993 96.316 817.558 Q98.1447 821.099 101.756 821.099 Q105.39 821.099 107.196 817.558 Q109.024 813.993 109.024 806.886 Q109.024 799.757 107.196 796.215 Q105.39 792.65 101.756 792.65 M101.756 788.947 Q107.566 788.947 110.621 793.553 Q113.7 798.136 113.7 806.886 Q113.7 815.613 110.621 820.22 Q107.566 824.803 101.756 824.803 Q95.9456 824.803 92.8669 820.22 Q89.8114 815.613 89.8114 806.886 Q89.8114 798.136 92.8669 793.553 Q95.9456 788.947 101.756 788.947 Z\" fill=\"#000000\" fill-rule=\"evenodd\" fill-opacity=\"1\" /><path clip-path=\"url(#clip850)\" d=\"M121.918 818.252 L126.802 818.252 L126.802 824.132 L121.918 824.132 L121.918 818.252 Z\" fill=\"#000000\" fill-rule=\"evenodd\" fill-opacity=\"1\" /><path clip-path=\"url(#clip850)\" d=\"M146.987 792.65 Q143.376 792.65 141.547 796.215 Q139.742 799.757 139.742 806.886 Q139.742 813.993 141.547 817.558 Q143.376 821.099 146.987 821.099 Q150.621 821.099 152.427 817.558 Q154.255 813.993 154.255 806.886 Q154.255 799.757 152.427 796.215 Q150.621 792.65 146.987 792.65 M146.987 788.947 Q152.797 788.947 155.853 793.553 Q158.931 798.136 158.931 806.886 Q158.931 815.613 155.853 820.22 Q152.797 824.803 146.987 824.803 Q141.177 824.803 138.098 820.22 Q135.043 815.613 135.043 806.886 Q135.043 798.136 138.098 793.553 Q141.177 788.947 146.987 788.947 Z\" fill=\"#000000\" fill-rule=\"evenodd\" fill-opacity=\"1\" /><path clip-path=\"url(#clip850)\" d=\"M167.195 789.572 L185.552 789.572 L185.552 793.507 L171.478 793.507 L171.478 801.979 Q172.496 801.632 173.515 801.47 Q174.533 801.285 175.552 801.285 Q181.339 801.285 184.718 804.456 Q188.098 807.627 188.098 813.044 Q188.098 818.622 184.626 821.724 Q181.153 824.803 174.834 824.803 Q172.658 824.803 170.39 824.433 Q168.144 824.062 165.737 823.321 L165.737 818.622 Q167.82 819.757 170.042 820.312 Q172.265 820.868 174.741 820.868 Q178.746 820.868 181.084 818.761 Q183.422 816.655 183.422 813.044 Q183.422 809.433 181.084 807.326 Q178.746 805.22 174.741 805.22 Q172.866 805.22 170.991 805.636 Q169.14 806.053 167.195 806.933 L167.195 789.572 Z\" fill=\"#000000\" fill-rule=\"evenodd\" fill-opacity=\"1\" /><path clip-path=\"url(#clip850)\" d=\"M100.76 457.636 Q97.1493 457.636 95.3206 461.201 Q93.515 464.742 93.515 471.872 Q93.515 478.979 95.3206 482.543 Q97.1493 486.085 100.76 486.085 Q104.395 486.085 106.2 482.543 Q108.029 478.979 108.029 471.872 Q108.029 464.742 106.2 461.201 Q104.395 457.636 100.76 457.636 M100.76 453.932 Q106.571 453.932 109.626 458.539 Q112.705 463.122 112.705 471.872 Q112.705 480.599 109.626 485.205 Q106.571 489.789 100.76 489.789 Q94.9502 489.789 91.8715 485.205 Q88.816 480.599 88.816 471.872 Q88.816 463.122 91.8715 458.539 Q94.9502 453.932 100.76 453.932 Z\" fill=\"#000000\" fill-rule=\"evenodd\" fill-opacity=\"1\" /><path clip-path=\"url(#clip850)\" d=\"M120.922 483.238 L125.807 483.238 L125.807 489.117 L120.922 489.117 L120.922 483.238 Z\" fill=\"#000000\" fill-rule=\"evenodd\" fill-opacity=\"1\" /><path clip-path=\"url(#clip850)\" d=\"M145.992 457.636 Q142.381 457.636 140.552 461.201 Q138.746 464.742 138.746 471.872 Q138.746 478.979 140.552 482.543 Q142.381 486.085 145.992 486.085 Q149.626 486.085 151.431 482.543 Q153.26 478.979 153.26 471.872 Q153.26 464.742 151.431 461.201 Q149.626 457.636 145.992 457.636 M145.992 453.932 Q151.802 453.932 154.857 458.539 Q157.936 463.122 157.936 471.872 Q157.936 480.599 154.857 485.205 Q151.802 489.789 145.992 489.789 Q140.181 489.789 137.103 485.205 Q134.047 480.599 134.047 471.872 Q134.047 463.122 137.103 458.539 Q140.181 453.932 145.992 453.932 Z\" fill=\"#000000\" fill-rule=\"evenodd\" fill-opacity=\"1\" /><path clip-path=\"url(#clip850)\" d=\"M176.153 457.636 Q172.542 457.636 170.714 461.201 Q168.908 464.742 168.908 471.872 Q168.908 478.979 170.714 482.543 Q172.542 486.085 176.153 486.085 Q179.788 486.085 181.593 482.543 Q183.422 478.979 183.422 471.872 Q183.422 464.742 181.593 461.201 Q179.788 457.636 176.153 457.636 M176.153 453.932 Q181.964 453.932 185.019 458.539 Q188.098 463.122 188.098 471.872 Q188.098 480.599 185.019 485.205 Q181.964 489.789 176.153 489.789 Q170.343 489.789 167.265 485.205 Q164.209 480.599 164.209 471.872 Q164.209 463.122 167.265 458.539 Q170.343 453.932 176.153 453.932 Z\" fill=\"#000000\" fill-rule=\"evenodd\" fill-opacity=\"1\" /><path clip-path=\"url(#clip850)\" d=\"M101.756 122.622 Q98.1447 122.622 96.316 126.186 Q94.5104 129.728 94.5104 136.858 Q94.5104 143.964 96.316 147.529 Q98.1447 151.071 101.756 151.071 Q105.39 151.071 107.196 147.529 Q109.024 143.964 109.024 136.858 Q109.024 129.728 107.196 126.186 Q105.39 122.622 101.756 122.622 M101.756 118.918 Q107.566 118.918 110.621 123.524 Q113.7 128.108 113.7 136.858 Q113.7 145.585 110.621 150.191 Q107.566 154.774 101.756 154.774 Q95.9456 154.774 92.8669 150.191 Q89.8114 145.585 89.8114 136.858 Q89.8114 128.108 92.8669 123.524 Q95.9456 118.918 101.756 118.918 Z\" fill=\"#000000\" fill-rule=\"evenodd\" fill-opacity=\"1\" /><path clip-path=\"url(#clip850)\" d=\"M121.918 148.223 L126.802 148.223 L126.802 154.103 L121.918 154.103 L121.918 148.223 Z\" fill=\"#000000\" fill-rule=\"evenodd\" fill-opacity=\"1\" /><path clip-path=\"url(#clip850)\" d=\"M146.987 122.622 Q143.376 122.622 141.547 126.186 Q139.742 129.728 139.742 136.858 Q139.742 143.964 141.547 147.529 Q143.376 151.071 146.987 151.071 Q150.621 151.071 152.427 147.529 Q154.255 143.964 154.255 136.858 Q154.255 129.728 152.427 126.186 Q150.621 122.622 146.987 122.622 M146.987 118.918 Q152.797 118.918 155.853 123.524 Q158.931 128.108 158.931 136.858 Q158.931 145.585 155.853 150.191 Q152.797 154.774 146.987 154.774 Q141.177 154.774 138.098 150.191 Q135.043 145.585 135.043 136.858 Q135.043 128.108 138.098 123.524 Q141.177 118.918 146.987 118.918 Z\" fill=\"#000000\" fill-rule=\"evenodd\" fill-opacity=\"1\" /><path clip-path=\"url(#clip850)\" d=\"M167.195 119.543 L185.552 119.543 L185.552 123.478 L171.478 123.478 L171.478 131.95 Q172.496 131.603 173.515 131.441 Q174.533 131.256 175.552 131.256 Q181.339 131.256 184.718 134.427 Q188.098 137.598 188.098 143.015 Q188.098 148.594 184.626 151.696 Q181.153 154.774 174.834 154.774 Q172.658 154.774 170.39 154.404 Q168.144 154.034 165.737 153.293 L165.737 148.594 Q167.82 149.728 170.042 150.284 Q172.265 150.839 174.741 150.839 Q178.746 150.839 181.084 148.733 Q183.422 146.626 183.422 143.015 Q183.422 139.404 181.084 137.298 Q178.746 135.191 174.741 135.191 Q172.866 135.191 170.991 135.608 Q169.14 136.024 167.195 136.904 L167.195 119.543 Z\" fill=\"#000000\" fill-rule=\"evenodd\" fill-opacity=\"1\" /><polyline clip-path=\"url(#clip852)\" style=\"stroke:#009af9; stroke-linecap:butt; stroke-linejoin:round; stroke-width:4; stroke-opacity:1; fill:none\" points=\"\n",
       "  284.343,471.837 288.367,592.984 292.392,639.792 296.416,673.117 300.44,699.414 304.465,721.254 308.489,739.975 312.514,756.375 316.538,770.974 320.562,784.133 \n",
       "  324.587,796.113 328.611,807.109 332.636,817.272 336.66,826.72 340.684,835.548 344.709,843.834 348.733,851.641 352.757,859.023 356.782,866.025 360.806,872.685 \n",
       "  364.831,879.036 368.855,885.107 372.879,890.921 376.904,896.502 380.928,901.867 384.953,907.034 388.977,912.018 393.001,916.832 397.026,921.489 401.05,925.998 \n",
       "  405.074,930.369 409.099,934.612 413.123,938.735 417.148,942.744 421.172,946.646 425.196,950.448 429.221,954.155 433.245,957.772 437.27,961.304 441.294,964.755 \n",
       "  445.318,968.13 449.343,971.431 453.367,974.664 457.391,977.829 461.416,980.932 465.44,983.974 469.465,986.959 473.489,989.888 477.513,992.765 481.538,995.59 \n",
       "  485.562,998.367 489.587,1001.1 493.611,1003.78 497.635,1006.42 501.66,1009.02 505.684,1011.58 509.708,1014.11 513.733,1016.59 517.757,1019.04 521.782,1021.45 \n",
       "  525.806,1023.83 529.83,1026.18 533.855,1028.49 537.879,1030.77 541.904,1033.03 545.928,1035.26 549.952,1037.45 553.977,1039.63 558.001,1041.77 562.025,1043.89 \n",
       "  566.05,1045.99 570.074,1048.06 574.099,1050.11 578.123,1052.13 582.147,1054.14 586.172,1056.12 590.196,1058.08 594.221,1060.02 598.245,1061.94 602.269,1063.84 \n",
       "  606.294,1065.72 610.318,1067.59 614.342,1069.43 618.367,1071.26 622.391,1073.07 626.416,1074.87 630.44,1076.65 634.464,1078.41 638.489,1080.16 642.513,1081.89 \n",
       "  646.538,1083.6 650.562,1085.31 654.586,1086.99 658.611,1088.67 662.635,1090.33 666.659,1091.97 670.684,1093.61 674.708,1095.23 678.733,1096.84 682.757,1098.43 \n",
       "  686.781,1100.02 690.806,1101.59 694.83,1103.15 698.855,1104.7 702.879,1106.24 706.903,1107.76 710.928,1109.28 714.952,1110.78 718.976,1112.28 723.001,1113.76 \n",
       "  727.025,1115.24 731.05,1116.7 735.074,1118.16 739.098,1119.6 743.123,1121.04 747.147,1122.47 751.172,1123.9 755.196,1125.31 759.22,1126.72 763.245,1128.12 \n",
       "  767.269,1129.51 771.293,1130.9 775.318,1132.27 779.342,1133.64 783.367,1134.99 787.391,1136.34 791.415,1137.69 795.44,1139.02 799.464,1140.35 803.489,1141.67 \n",
       "  807.513,1142.98 811.537,1144.28 815.562,1145.58 819.586,1146.87 823.61,1148.16 827.635,1149.43 831.659,1150.7 835.684,1151.97 839.708,1153.22 843.732,1154.48 \n",
       "  847.757,1155.72 851.781,1156.96 855.806,1158.19 859.83,1159.42 863.854,1160.64 867.879,1161.85 871.903,1163.06 875.927,1164.26 879.952,1165.46 883.976,1166.65 \n",
       "  888.001,1167.84 892.025,1169.02 896.049,1170.2 900.074,1171.37 904.098,1172.53 908.123,1173.69 912.147,1174.85 916.171,1176 920.196,1177.14 924.22,1178.28 \n",
       "  928.244,1179.42 932.269,1180.55 936.293,1181.67 940.318,1182.79 944.342,1183.91 948.366,1185.02 952.391,1186.13 956.415,1187.23 960.44,1188.33 964.464,1189.43 \n",
       "  968.488,1190.52 972.513,1191.6 976.537,1192.69 980.561,1193.76 984.586,1194.84 988.61,1195.91 992.635,1196.97 996.659,1198.03 1000.68,1199.09 1004.71,1200.15 \n",
       "  1008.73,1201.2 1012.76,1202.24 1016.78,1203.29 1020.81,1204.33 1024.83,1205.36 1028.85,1206.39 1032.88,1207.42 1036.9,1208.45 1040.93,1209.47 1044.95,1210.49 \n",
       "  1048.98,1211.5 1053,1212.51 1057.02,1213.52 1061.05,1214.52 1065.07,1215.53 1069.1,1216.52 1073.12,1217.52 1077.15,1218.51 1081.17,1219.5 1085.2,1220.48 \n",
       "  1089.22,1221.47 1093.24,1222.45 1097.27,1223.42 1101.29,1224.4 1105.32,1225.37 1109.34,1226.33 1113.37,1227.3 1117.39,1228.26 1121.41,1229.22 1125.44,1230.18 \n",
       "  1129.46,1231.13 1133.49,1232.08 1137.51,1233.03 1141.54,1233.97 1145.56,1234.92 1149.59,1235.86 1153.61,1236.79 1157.63,1237.73 1161.66,1238.66 1165.68,1239.59 \n",
       "  1169.71,1240.52 1173.73,1241.44 1177.76,1242.36 1181.78,1243.28 1185.81,1244.2 1189.83,1245.12 1193.85,1246.03 1197.88,1246.94 1201.9,1247.85 1205.93,1248.75 \n",
       "  1209.95,1249.66 1213.98,1250.56 1218,1251.45 1222.02,1252.35 1226.05,1253.25 1230.07,1254.14 1234.1,1255.03 1238.12,1255.91 1242.15,1256.8 1246.17,1257.68 \n",
       "  1250.2,1258.56 1254.22,1259.44 1258.24,1260.32 1262.27,1261.2 1266.29,1262.07 1270.32,1262.94 1274.34,1263.81 1278.37,1264.68 1282.39,1265.54 1286.41,1266.4 \n",
       "  1290.44,1267.26 1294.46,1268.12 1298.49,1268.98 1302.51,1269.84 1306.54,1270.69 1310.56,1271.54 1314.59,1272.39 1318.61,1273.24 1322.63,1274.09 1326.66,1274.93 \n",
       "  1330.68,1275.77 1334.71,1276.61 1338.73,1277.45 1342.76,1278.29 1346.78,1279.12 1350.8,1279.96 1354.83,1280.79 1358.85,1281.62 1362.88,1282.45 1366.9,1283.28 \n",
       "  1370.93,1284.1 1374.95,1284.93 1378.98,1285.75 1383,1286.57 1387.02,1287.39 1391.05,1288.21 1395.07,1289.02 1399.1,1289.84 1403.12,1290.65 1407.15,1291.46 \n",
       "  1411.17,1292.27 1415.2,1293.08 1419.22,1293.88 1423.24,1294.69 1427.27,1295.49 1431.29,1296.29 1435.32,1297.09 1439.34,1297.89 1443.37,1298.69 1447.39,1299.49 \n",
       "  1451.41,1300.28 1455.44,1301.08 1459.46,1301.87 1463.49,1302.66 1467.51,1303.45 1471.54,1304.24 1475.56,1305.02 1479.59,1305.81 1483.61,1306.59 1487.63,1307.37 \n",
       "  1491.66,1308.16 1495.68,1308.94 1499.71,1309.71 1503.73,1310.49 1507.76,1311.27 1511.78,1312.04 1515.8,1312.82 1519.83,1313.59 1523.85,1314.36 1527.88,1315.13 \n",
       "  1531.9,1315.9 1535.93,1316.66 1539.95,1317.43 1543.98,1318.2 1548,1318.96 1552.02,1319.72 1556.05,1320.48 1560.07,1321.24 1564.1,1322 1568.12,1322.76 \n",
       "  1572.15,1323.52 1576.17,1324.27 1580.19,1325.03 1584.22,1325.78 1588.24,1326.53 1592.27,1327.28 1596.29,1328.03 1600.32,1328.78 1604.34,1329.53 1608.37,1330.28 \n",
       "  1612.39,1331.02 1616.41,1331.77 1620.44,1332.51 1624.46,1333.25 1628.49,1333.99 1632.51,1334.73 1636.54,1335.47 1640.56,1336.21 1644.58,1336.95 1648.61,1337.68 \n",
       "  1652.63,1338.42 1656.66,1339.15 1660.68,1339.89 1664.71,1340.62 1668.73,1341.35 1672.76,1342.08 1676.78,1342.81 1680.8,1343.54 1684.83,1344.26 1688.85,1344.99 \n",
       "  1692.88,1345.72 1696.9,1346.44 1700.93,1347.16 1704.95,1347.89 1708.98,1348.61 1713,1349.33 1717.02,1350.05 1721.05,1350.77 1725.07,1351.49 1729.1,1352.2 \n",
       "  1733.12,1352.92 1737.15,1353.63 1741.17,1354.35 1745.19,1355.06 1749.22,1355.78 1753.24,1356.49 1757.27,1357.2 1761.29,1357.91 1765.32,1358.62 1769.34,1359.33 \n",
       "  1773.37,1360.03 1777.39,1360.74 1781.41,1361.45 1785.44,1362.15 1789.46,1362.86 1793.49,1363.56 1797.51,1364.26 1801.54,1364.96 1805.56,1365.66 1809.58,1366.36 \n",
       "  1813.61,1367.06 1817.63,1367.76 1821.66,1368.46 1825.68,1369.16 1829.71,1369.85 1833.73,1370.55 1837.76,1371.24 1841.78,1371.94 1845.8,1372.63 1849.83,1373.32 \n",
       "  1853.85,1374.02 1857.88,1374.71 1861.9,1375.4 1865.93,1376.09 1869.95,1376.77 1873.97,1377.46 1878,1378.15 1882.02,1378.84 1886.05,1379.52 1890.07,1380.21 \n",
       "  1894.1,1380.89 1898.12,1381.58 1902.15,1382.26 1906.17,1382.94 1910.19,1383.62 1914.22,1384.3 1918.24,1384.99 1922.27,1385.66 1926.29,1386.34 1930.32,1387.02 \n",
       "  1934.34,1387.7 1938.37,1388.38 1942.39,1389.05 1946.41,1389.73 1950.44,1390.4 1954.46,1391.08 1958.49,1391.75 1962.51,1392.42 1966.54,1393.1 1970.56,1393.77 \n",
       "  1974.58,1394.44 1978.61,1395.11 1982.63,1395.78 1986.66,1396.45 1990.68,1397.12 1994.71,1397.79 1998.73,1398.45 2002.76,1399.12 2006.78,1399.79 2010.8,1400.45 \n",
       "  2014.83,1401.12 2018.85,1401.78 2022.88,1402.45 2026.9,1403.11 2030.93,1403.77 2034.95,1404.43 2038.97,1405.1 2043,1405.76 2047.02,1406.42 2051.05,1407.08 \n",
       "  2055.07,1407.74 2059.1,1408.39 2063.12,1409.05 2067.15,1409.71 2071.17,1410.37 2075.19,1411.02 2079.22,1411.68 2083.24,1412.33 2087.27,1412.99 2091.29,1413.64 \n",
       "  2095.32,1414.3 2099.34,1414.95 2103.36,1415.6 2107.39,1416.25 2111.41,1416.91 2115.44,1417.56 2119.46,1418.21 2123.49,1418.86 2127.51,1419.51 2131.54,1420.16 \n",
       "  2135.56,1420.8 2139.58,1421.45 2143.61,1422.1 2147.63,1422.75 2151.66,1423.39 2155.68,1424.04 2159.71,1424.68 2163.73,1425.33 2167.75,1425.97 2171.78,1426.62 \n",
       "  2175.8,1427.26 2179.83,1427.9 2183.85,1428.55 2187.88,1429.19 2191.9,1429.83 2195.93,1430.47 2199.95,1431.11 2203.97,1431.75 2208,1432.39 2212.02,1433.03 \n",
       "  2216.05,1433.67 2220.07,1434.31 2224.1,1434.94 2228.12,1435.58 2232.15,1436.22 2236.17,1436.85 2240.19,1437.49 2244.22,1438.13 2248.24,1438.76 2252.27,1439.39 \n",
       "  2256.29,1440.03 2260.32,1440.66 2264.34,1441.3 2268.36,1441.93 2272.39,1442.56 2276.41,1443.19 2280.44,1443.82 2284.46,1444.45 2288.49,1445.09 2292.51,1445.72 \n",
       "  \n",
       "  \"/>\n",
       "<polyline clip-path=\"url(#clip852)\" style=\"stroke:#e26f46; stroke-linecap:butt; stroke-linejoin:round; stroke-width:4; stroke-opacity:1; fill:none\" points=\"\n",
       "  284.343,87.9763 288.367,107.562 292.392,123.386 296.416,136.958 300.44,148.958 304.465,159.77 308.489,169.642 312.514,178.746 316.538,187.208 320.562,195.121 \n",
       "  324.587,202.561 328.611,209.585 332.636,216.244 336.66,222.576 340.684,228.615 344.709,234.39 348.733,239.924 352.757,245.24 356.782,250.355 360.806,255.286 \n",
       "  364.831,260.046 368.855,264.648 372.879,269.104 376.904,273.423 380.928,277.615 384.953,281.687 388.977,285.648 393.001,289.503 397.026,293.259 401.05,296.921 \n",
       "  405.074,300.495 409.099,303.986 413.123,307.397 417.148,310.733 421.172,313.997 425.196,317.193 429.221,320.324 433.245,323.393 437.27,326.403 441.294,329.356 \n",
       "  445.318,332.255 449.343,335.102 453.367,337.899 457.391,340.649 461.416,343.353 465.44,346.012 469.465,348.629 473.489,351.205 477.513,353.742 481.538,356.241 \n",
       "  485.562,358.703 489.587,361.13 493.611,363.522 497.635,365.881 501.66,368.209 505.684,370.505 509.708,372.772 513.733,375.009 517.757,377.219 521.782,379.401 \n",
       "  525.806,381.556 529.83,383.686 533.855,385.791 537.879,387.871 541.904,389.928 545.928,391.962 549.952,393.974 553.977,395.964 558.001,397.933 562.025,399.881 \n",
       "  566.05,401.809 570.074,403.718 574.099,405.608 578.123,407.479 582.147,409.331 586.172,411.167 590.196,412.984 594.221,414.785 598.245,416.57 602.269,418.338 \n",
       "  606.294,420.091 610.318,421.828 614.342,423.551 618.367,425.258 622.391,426.952 626.416,428.631 630.44,430.296 634.464,431.948 638.489,433.586 642.513,435.212 \n",
       "  646.538,436.825 650.562,438.426 654.586,440.014 658.611,441.59 662.635,443.155 666.659,444.708 670.684,446.25 674.708,447.781 678.733,449.301 682.757,450.811 \n",
       "  686.781,452.31 690.806,453.799 694.83,455.277 698.855,456.746 702.879,458.205 706.903,459.655 710.928,461.095 714.952,462.526 718.976,463.948 723.001,465.361 \n",
       "  727.025,466.765 731.05,468.161 735.074,469.548 739.098,470.929 743.123,471.837 747.147,471.837 751.172,472.327 755.196,473.696 759.22,475.049 763.245,476.393 \n",
       "  767.269,477.73 771.293,479.059 775.318,480.381 779.342,481.695 783.367,483.002 787.391,484.302 791.415,485.595 795.44,486.882 799.464,488.161 803.489,489.433 \n",
       "  807.513,490.699 811.537,491.959 815.562,493.212 819.586,494.459 823.61,495.699 827.635,496.933 831.659,498.162 835.684,499.384 839.708,500.6 843.732,501.811 \n",
       "  847.757,503.016 851.781,504.215 855.806,505.409 859.83,506.597 863.854,507.779 867.879,508.957 871.903,510.129 875.927,511.295 879.952,512.457 883.976,513.614 \n",
       "  888.001,514.765 892.025,515.912 896.049,517.054 900.074,518.19 904.098,519.323 908.123,520.45 912.147,521.573 916.171,522.691 920.196,523.804 924.22,524.913 \n",
       "  928.244,526.018 932.269,527.118 936.293,528.214 940.318,529.306 944.342,530.394 948.366,531.477 952.391,532.556 956.415,533.631 960.44,534.702 964.464,535.769 \n",
       "  968.488,536.833 972.513,537.892 976.537,538.947 980.561,539.999 984.586,541.047 988.61,542.091 992.635,543.131 996.659,544.168 1000.68,545.201 1004.71,546.231 \n",
       "  1008.73,547.257 1012.76,548.279 1016.78,549.299 1020.81,550.314 1024.83,551.327 1028.85,552.336 1032.88,553.341 1036.9,554.344 1040.93,555.343 1044.95,556.339 \n",
       "  1048.98,557.332 1053,558.322 1057.02,559.308 1061.05,560.292 1065.07,561.272 1069.1,562.25 1073.12,563.224 1077.15,564.196 1081.17,565.164 1085.2,566.13 \n",
       "  1089.22,567.093 1093.24,568.053 1097.27,569.01 1101.29,569.965 1105.32,570.916 1109.34,571.865 1113.37,572.812 1117.39,573.755 1121.41,574.696 1125.44,575.634 \n",
       "  1129.46,576.57 1133.49,577.503 1137.51,578.434 1141.54,579.362 1145.56,580.287 1149.59,581.21 1153.61,582.131 1157.63,583.049 1161.66,583.965 1165.68,584.878 \n",
       "  1169.71,585.789 1173.73,586.697 1177.76,587.604 1181.78,588.508 1185.81,589.409 1189.83,590.309 1193.85,591.206 1197.88,592.101 1201.9,592.993 1205.93,593.884 \n",
       "  1209.95,594.772 1213.98,595.659 1218,596.543 1222.02,597.425 1226.05,598.304 1230.07,599.182 1234.1,600.058 1238.12,600.932 1242.15,601.803 1246.17,602.673 \n",
       "  1250.2,603.54 1254.22,604.406 1258.24,605.27 1262.27,606.132 1266.29,606.991 1270.32,607.849 1274.34,608.705 1278.37,609.56 1282.39,610.412 1286.41,611.262 \n",
       "  1290.44,612.111 1294.46,612.958 1298.49,613.803 1302.51,614.646 1306.54,615.487 1310.56,616.327 1314.59,617.165 1318.61,618.001 1322.63,618.835 1326.66,619.668 \n",
       "  1330.68,620.499 1334.71,621.328 1338.73,622.156 1342.76,622.982 1346.78,623.806 1350.8,624.629 1354.83,625.45 1358.85,626.27 1362.88,627.088 1366.9,627.904 \n",
       "  1370.93,628.719 1374.95,629.532 1378.98,630.344 1383,631.154 1387.02,631.963 1391.05,632.77 1395.07,633.575 1399.1,634.379 1403.12,635.182 1407.15,635.983 \n",
       "  1411.17,636.783 1415.2,637.581 1419.22,638.378 1423.24,639.173 1427.27,639.967 1431.29,640.76 1435.32,641.551 1439.34,642.341 1443.37,643.13 1447.39,643.917 \n",
       "  1451.41,644.702 1455.44,645.487 1459.46,646.27 1463.49,647.052 1467.51,647.832 1471.54,648.611 1475.56,649.389 1479.59,650.165 1483.61,650.941 1487.63,651.715 \n",
       "  1491.66,652.487 1495.68,653.259 1499.71,654.029 1503.73,654.798 1507.76,655.566 1511.78,656.332 1515.8,657.097 1519.83,657.862 1523.85,658.625 1527.88,659.386 \n",
       "  1531.9,660.147 1535.93,660.906 1539.95,661.664 1543.98,662.421 1548,663.177 1552.02,663.932 1556.05,664.686 1560.07,665.438 1564.1,666.19 1568.12,666.94 \n",
       "  1572.15,667.689 1576.17,668.437 1580.19,669.184 1584.22,669.93 1588.24,670.675 1592.27,671.419 1596.29,672.162 1600.32,672.903 1604.34,673.644 1608.37,674.384 \n",
       "  1612.39,675.122 1616.41,675.86 1620.44,676.596 1624.46,677.332 1628.49,678.066 1632.51,678.8 1636.54,679.532 1640.56,680.264 1644.58,680.994 1648.61,681.724 \n",
       "  1652.63,682.452 1656.66,683.18 1660.68,683.907 1664.71,684.632 1668.73,685.357 1672.76,686.081 1676.78,686.804 1680.8,687.526 1684.83,688.247 1688.85,688.967 \n",
       "  1692.88,689.686 1696.9,690.404 1700.93,691.122 1704.95,691.838 1708.98,692.554 1713,693.269 1717.02,693.983 1721.05,694.696 1725.07,695.408 1729.1,696.119 \n",
       "  1733.12,696.829 1737.15,697.539 1741.17,698.248 1745.19,698.956 1749.22,699.663 1753.24,700.369 1757.27,701.074 1761.29,701.779 1765.32,702.482 1769.34,703.185 \n",
       "  1773.37,703.888 1777.39,704.589 1781.41,705.289 1785.44,705.989 1789.46,706.688 1793.49,707.386 1797.51,708.083 1801.54,708.78 1805.56,709.476 1809.58,710.171 \n",
       "  1813.61,710.865 1817.63,711.559 1821.66,712.252 1825.68,712.944 1829.71,713.635 1833.73,714.325 1837.76,715.015 1841.78,715.704 1845.8,716.393 1849.83,717.08 \n",
       "  1853.85,717.767 1857.88,718.453 1861.9,719.139 1865.93,719.823 1869.95,720.508 1873.97,721.191 1878,721.874 1882.02,722.556 1886.05,723.237 1890.07,723.917 \n",
       "  1894.1,724.597 1898.12,725.277 1902.15,725.955 1906.17,726.633 1910.19,727.31 1914.22,727.987 1918.24,728.663 1922.27,729.338 1926.29,730.013 1930.32,730.687 \n",
       "  1934.34,731.36 1938.37,732.032 1942.39,732.705 1946.41,733.376 1950.44,734.047 1954.46,734.717 1958.49,735.386 1962.51,736.055 1966.54,736.723 1970.56,737.391 \n",
       "  1974.58,738.058 1978.61,738.725 1982.63,739.39 1986.66,740.056 1990.68,740.72 1994.71,741.384 1998.73,742.048 2002.76,742.711 2006.78,743.373 2010.8,744.035 \n",
       "  2014.83,744.696 2018.85,745.356 2022.88,746.016 2026.9,746.676 2030.93,747.334 2034.95,747.993 2038.97,748.65 2043,749.308 2047.02,749.964 2051.05,750.62 \n",
       "  2055.07,751.276 2059.1,751.931 2063.12,752.585 2067.15,753.239 2071.17,753.892 2075.19,754.545 2079.22,755.197 2083.24,755.849 2087.27,756.5 2091.29,757.151 \n",
       "  2095.32,757.801 2099.34,758.45 2103.36,759.099 2107.39,759.748 2111.41,760.396 2115.44,761.044 2119.46,761.691 2123.49,762.337 2127.51,762.983 2131.54,763.629 \n",
       "  2135.56,764.274 2139.58,764.918 2143.61,765.562 2147.63,766.206 2151.66,766.849 2155.68,767.492 2159.71,768.134 2163.73,768.775 2167.75,769.416 2171.78,770.057 \n",
       "  2175.8,770.697 2179.83,771.337 2183.85,771.976 2187.88,772.615 2191.9,773.253 2195.93,773.891 2199.95,774.529 2203.97,775.166 2208,775.802 2212.02,776.438 \n",
       "  2216.05,777.074 2220.07,777.709 2224.1,778.343 2228.12,778.978 2232.15,779.612 2236.17,780.245 2240.19,780.878 2244.22,781.51 2248.24,782.142 2252.27,782.774 \n",
       "  2256.29,783.405 2260.32,784.036 2264.34,784.666 2268.36,785.296 2272.39,785.926 2276.41,786.555 2280.44,787.183 2284.46,787.812 2288.49,788.439 2292.51,789.067 \n",
       "  \n",
       "  \"/>\n",
       "<path clip-path=\"url(#clip850)\" d=\"\n",
       "M1992.85 276.658 L2281.8 276.658 L2281.8 95.2176 L1992.85 95.2176  Z\n",
       "  \" fill=\"#ffffff\" fill-rule=\"evenodd\" fill-opacity=\"1\"/>\n",
       "<polyline clip-path=\"url(#clip850)\" style=\"stroke:#000000; stroke-linecap:butt; stroke-linejoin:round; stroke-width:4; stroke-opacity:1; fill:none\" points=\"\n",
       "  1992.85,276.658 2281.8,276.658 2281.8,95.2176 1992.85,95.2176 1992.85,276.658 \n",
       "  \"/>\n",
       "<polyline clip-path=\"url(#clip850)\" style=\"stroke:#009af9; stroke-linecap:butt; stroke-linejoin:round; stroke-width:4; stroke-opacity:1; fill:none\" points=\"\n",
       "  2016.5,155.698 2158.42,155.698 \n",
       "  \"/>\n",
       "<path clip-path=\"url(#clip850)\" d=\"M2195.91 175.385 Q2194.1 180.015 2192.39 181.427 Q2190.68 182.839 2187.81 182.839 L2184.4 182.839 L2184.4 179.274 L2186.9 179.274 Q2188.66 179.274 2189.64 178.44 Q2190.61 177.607 2191.79 174.505 L2192.55 172.561 L2182.07 147.052 L2186.58 147.052 L2194.68 167.329 L2202.78 147.052 L2207.3 147.052 L2195.91 175.385 Z\" fill=\"#000000\" fill-rule=\"evenodd\" fill-opacity=\"1\" /><path clip-path=\"url(#clip850)\" d=\"M2214.59 169.042 L2222.23 169.042 L2222.23 142.677 L2213.92 144.343 L2213.92 140.084 L2222.18 138.418 L2226.86 138.418 L2226.86 169.042 L2234.5 169.042 L2234.5 172.978 L2214.59 172.978 L2214.59 169.042 Z\" fill=\"#000000\" fill-rule=\"evenodd\" fill-opacity=\"1\" /><polyline clip-path=\"url(#clip850)\" style=\"stroke:#e26f46; stroke-linecap:butt; stroke-linejoin:round; stroke-width:4; stroke-opacity:1; fill:none\" points=\"\n",
       "  2016.5,216.178 2158.42,216.178 \n",
       "  \"/>\n",
       "<path clip-path=\"url(#clip850)\" d=\"M2195.91 235.865 Q2194.1 240.495 2192.39 241.907 Q2190.68 243.319 2187.81 243.319 L2184.4 243.319 L2184.4 239.754 L2186.9 239.754 Q2188.66 239.754 2189.64 238.92 Q2190.61 238.087 2191.79 234.985 L2192.55 233.041 L2182.07 207.532 L2186.58 207.532 L2194.68 227.809 L2202.78 207.532 L2207.3 207.532 L2195.91 235.865 Z\" fill=\"#000000\" fill-rule=\"evenodd\" fill-opacity=\"1\" /><path clip-path=\"url(#clip850)\" d=\"M2217.81 229.522 L2234.13 229.522 L2234.13 233.458 L2212.18 233.458 L2212.18 229.522 Q2214.84 226.768 2219.43 222.138 Q2224.03 217.485 2225.21 216.143 Q2227.46 213.62 2228.34 211.884 Q2229.24 210.124 2229.24 208.435 Q2229.24 205.68 2227.3 203.944 Q2225.38 202.208 2222.27 202.208 Q2220.08 202.208 2217.62 202.972 Q2215.19 203.735 2212.41 205.286 L2212.41 200.564 Q2215.24 199.43 2217.69 198.851 Q2220.15 198.273 2222.18 198.273 Q2227.55 198.273 2230.75 200.958 Q2233.94 203.643 2233.94 208.134 Q2233.94 210.263 2233.13 212.185 Q2232.34 214.083 2230.24 216.675 Q2229.66 217.347 2226.56 220.564 Q2223.46 223.759 2217.81 229.522 Z\" fill=\"#000000\" fill-rule=\"evenodd\" fill-opacity=\"1\" /></svg>\n"
      ]
     },
     "execution_count": 7,
     "metadata": {},
     "output_type": "execute_result"
    }
   ],
   "source": [
    "using Plots\n",
    "# (na,nz) matrix\n",
    "aa = [a a]\n",
    "zz = ones(na,1)*z\n",
    "adot = zz + r.*aa - c\n",
    "plot(aa,adot)"
   ]
  },
  {
   "cell_type": "markdown",
   "metadata": {
    "slideshow": {
     "slide_type": "skip"
    }
   },
   "source": [
    "- We solve for $\\mathbf{v}$ by an iterative scheme.\n",
    "\n",
    "- Let $\\mathbf{v}^{n}$ be the value function from $n$th iteration\n",
    "    - **Explicit method**:\n",
    "\n",
    "    $$\n",
    "      \\frac{\\mathbf{v}^{n+1}-\\mathbf{v}^{n}}{\\Delta} + \\rho \\mathbf{v}^{n} = \\mathbf{u}^{n} + \\mathbf{A}^{n}\\mathbf{v}^{n}\n",
    "    $$\n",
    "\n",
    "    - **Implicit method**:\n",
    "\n",
    "    $$\n",
    "      \\frac{\\mathbf{v}^{n+1}-\\mathbf{v}^{n}}{\\Delta} + \\rho \\mathbf{v}^{n+1} = \\mathbf{u}^{n} + \\mathbf{A}^{n}\\mathbf{v}^{n+1}\n",
    "    $$\n",
    "\n",
    "where $\\Delta>0$ controls the speed of updating. "
   ]
  },
  {
   "cell_type": "markdown",
   "metadata": {
    "slideshow": {
     "slide_type": "skip"
    }
   },
   "source": [
    "- With the implicit method, we update $\\mathbf{v}^{n}$ by\n",
    "\n",
    "\\begin{align*}\n",
    "  & \\mathbf{v}^{n+1} + \\Delta\\rho\\mathbf{v}^{n+1} - \\Delta\\mathbf{A}^{n}\\mathbf{v}^{n+1} = \\Delta\\mathbf{u}^{n} + \\mathbf{v}^{n}, \\\\\n",
    "  \\Leftrightarrow & \\mathbf{v}^{n+1} = (\\mathbf{I} + \\Delta\\rho\\mathbf{I} - \\Delta\\mathbf{A}^{n})^{-1}(\\Delta\\mathbf{u}^{n} + \\mathbf{v}^{n}) \\\\\n",
    "\\end{align*}\n"
   ]
  },
  {
   "cell_type": "markdown",
   "metadata": {
    "slideshow": {
     "slide_type": "slide"
    }
   },
   "source": [
    "# Stationary distribution\n",
    "\n",
    "- To find an equilibrium price, we need to solve a stationary distribution\n",
    "\n",
    "- Recall the Huggett (1993) with equilibrium conditions\n",
    "\n",
    "$$\n",
    "  \\rho v(a,z) = \\max_{c} u(c) + v_{a}(a,z)s(a,z) + \\lambda \\big(v(a,z')-v(a,z)\\big) \\\\\n",
    "  s(a,z) = r a + z -c, \\quad a \\geq \\underline{a} \\\\\n",
    "  0 = \\sum_{z} \\int_{\\underline{a}}^{\\infty} a g(a,z) da \\\\\n",
    "  0 = -\\frac{d}{da}\\big[g(a,z)s(a,z)\\big] + \\lambda \\big(g(a,z') - g(a,z)\\big)\n",
    "$$\n",
    "\n",
    "<!-- (why $\\frac{d}{da}$?) -->"
   ]
  },
  {
   "cell_type": "markdown",
   "metadata": {
    "slideshow": {
     "slide_type": "subslide"
    }
   },
   "source": [
    "$$\n",
    "  \\frac{\\partial g(a,z)}{\\partial t} = -\\frac{d}{da}\\big[g(a,z)s(a,z)\\big] + \\lambda \\big(g(a,z') - g(a,z)\\big)\n",
    "$$\n",
    "\n",
    "is Kolmogorov forward equation, and stationarity implies\n",
    "\n",
    "$$\n",
    "  \\frac{\\partial g(a,z)}{\\partial t} = 0\n",
    "$$"
   ]
  },
  {
   "cell_type": "markdown",
   "metadata": {
    "slideshow": {
     "slide_type": "subslide"
    }
   },
   "source": [
    "## Deriving KFE\n",
    "\n",
    "$G$ is a cdf, $G(a,z_{i},t) = Pr(a_{t} \\leq a, z_{t}=z_{j})$ for $j=1,2$."
   ]
  },
  {
   "cell_type": "markdown",
   "metadata": {
    "slideshow": {
     "slide_type": "subslide"
    }
   },
   "source": [
    "Over a time period $dt$, $G$ evolves as \n",
    "\n",
    "\\begin{align*}\n",
    "  Pr(a_{t+dt} \\leq \\color{blue}{a}, z_{t+dt}=\\color{magenta}{z_{j}}) &= \\color{magenta}{\\lambda_{-j}dt} Pr(a_{t} \\leq \\color{blue}{a-s(a,z_{-j})dt}, z_{t}=\\color{magenta}{z_{-j}}) \\\\\n",
    "  & + \\color{magenta}{(1-\\lambda_{j}dt)}Pr(a_{t} \\leq \\color{blue}{a-s(a,z_{j})dt}, z_{t}=\\color{magenta}{z_{j}})\n",
    "\\end{align*}\n",
    "\n",
    "\n",
    "- Saving: $a_{t+dt} = a_{t} + s(a_{t},z_{j})dt$\n",
    "  - If one has $\\color{blue}{a-s(a,z_{j})dt}$ at $t$, will have $\\color{blue}{a}$ at $t+dt$\n",
    "\n",
    "\n",
    "- Income: $z_{-j}$ switches to $z_{j}$ with an intensity $\\lambda_{-j}dt$\n",
    "  - $\\color{magenta}{\\lambda_{-j}dt}$: those who with $\\color{magenta}{z_{-j}}$ at $t$ and get shocks over $dt$ to flow into $\\color{magenta}{z_{j}}$\n",
    "  - $\\color{magenta}{1-\\lambda_{j}dt}$: those who with $\\color{magenta}{z_{j}}$ at $t$ and get no shocks over $dt$"
   ]
  },
  {
   "cell_type": "markdown",
   "metadata": {
    "slideshow": {
     "slide_type": "subslide"
    }
   },
   "source": [
    "- Then\n",
    "\n",
    "\\begin{align*}\n",
    "  G(a,z,t+dt) &= Pr(a_{t+dt} \\leq a, z_{t+dt}=z_{j}) \\\\\n",
    "  &= (1-\\lambda_{j}dt)Pr(a_{t} \\leq a-s_{j}dt, z_{t}=z_{j}) + \\lambda_{-j}dt Pr(a_{t} \\leq a-s_{-j}dt, z_{t}=z_{-j}) \\\\\n",
    "  &= (1-\\lambda_{j}dt)G(a-s_{j}dt,z_{j},t) + \\lambda_{-j}dt G(a-s_{-j}dt,z_{-j},t) \\\\\n",
    "  &= G(a-s_{j}dt,z_{j},t) - \\lambda_{j}dt G(a-s_{j}dt,z_{j},t) + \\lambda_{-j}dt G(a-s_{-j}dt,z_{-j},t)\n",
    "\\end{align*}\n",
    "\n",
    "where $s_{j}=s(a,z_{j})$\n",
    "\n",
    "- Substract $G(a,z_{j},t)$ from both sides and devide by $dt$\n",
    "\n",
    "$$\n",
    "  \\frac{G(a,z,t+dt)-G(a,z_{j},t)}{dt} = \\frac{G(a-s_{j}dt,z_{j},t)-G(a,z_{j},t)}{dt} - \\lambda_{j}G(a-s_{j}dt,z_{j},t) + \\lambda_{-j}G(a-s_{-j}dt,z_{-j},t)\n",
    "$$"
   ]
  },
  {
   "cell_type": "markdown",
   "metadata": {
    "slideshow": {
     "slide_type": "subslide"
    }
   },
   "source": [
    "- Take the limit as $dt \\rightarrow 0$\n",
    "\n",
    "$$\n",
    "  \\partial_{t}G(a,z_{j},t) = \\partial_{a}G(a,z_{j},t)(-s_{j}) - \\lambda_{j}G(a,z_{j},t) + \\lambda_{-j}G(a,z_{-j},t)\n",
    "$$\n",
    "\n",
    "- Take the derivative wrt $a$\n",
    "\n",
    "$$\n",
    "  \\partial_{t}g(a,z_{j},t) = \\partial_{a}[g(a,z_{j},t)(-s_{j})] - \\lambda_{j}g(a,z_{j},t) + \\lambda_{-j}g(a,z_{-j},t)\n",
    "$$\n",
    "\n",
    "This is a Kolmogorov forward equation and $g(a,z_{j},t)=\\partial_{a}G(a,z_{j},t)$ is a density function"
   ]
  },
  {
   "cell_type": "markdown",
   "metadata": {
    "slideshow": {
     "slide_type": "subslide"
    }
   },
   "source": [
    "## Solving KFE\n",
    "\n",
    "- To solve the KFE, approximate $\\frac{d}{da}[g(a,z)s(a,z)]$ with numerical derivatives by applying the upwind scheme.\n",
    "\n",
    "$$\n",
    "  0 = -\\frac{d}{da}[g(a,z)s(a,z)] + \\lambda \\big(g(a,z') - g(a,z)\\big)\n",
    "$$\n",
    "\n",
    "- The most convenient/correct approximation of $\\frac{d}{da}[g(a,z)s(a,z)]$ is (Achdou et al., 2020)\n",
    "\n",
    "$$\n",
    "  \\frac{s_{i,j}^{(F)}\\mathbb{1}_{s_{i,j}^{(F)}>0}g_{i,j} - s_{i-1,j}^{(F)}\\mathbb{1}_{s_{i-1,j}^{(F)}>0}g_{i-1,j}}{\\Delta a} + \\frac{s_{i+1,j}^{(B)}\\mathbb{1}_{s_{i+1,j}^{(B)}>0}g_{i+1,j} - s_{i,j}^{(B)}\\mathbb{1}_{s_{i,j}^{(B)}<0}g_{i,j}}{\\Delta a}\n",
    "$$\n",
    "\n",
    "where $g_{i,j}=g(a_{i},z_{j})$\n"
   ]
  },
  {
   "cell_type": "markdown",
   "metadata": {
    "slideshow": {
     "slide_type": "subslide"
    }
   },
   "source": [
    "By substituting them, we have\n",
    "\n",
    "\\begin{align*}\n",
    "  0 &= -\\frac{s_{i,j}^{(F)}\\mathbb{1}_{s_{i,j}^{(F)}>0}g_{i,j} - s_{i-1,j}^{(F)}\\mathbb{1}_{s_{i-1,j}^{(F)}>0}g_{i-1,j}}{\\Delta a} - \\frac{s_{i+1,j}^{(B)}\\mathbb{1}_{s_{i+1,j}^{(B)}>0}g_{i+1,j} - s_{i,j}^{(B)}\\mathbb{1}_{s_{i,j}^{(B)}<0}g_{i,j}}{\\Delta a} + \\lambda_{-j} g_{i,-j} - \\lambda_{j} g_{i,j}, \\\\\n",
    "  &= \\alpha_{i+1,j} g_{i+1,j} + \\beta_{i,j} g_{i,j} + \\xi_{i-1,j} g_{i-1,j} + \\lambda_{-j} g_{i,-j}\n",
    "\\end{align*}\n",
    "\n",
    "where\n",
    "\n",
    "$$\n",
    "  \\alpha_{i+1,j} = \\frac{-s_{i+1,j}^{(B)} \\mathbb{1}_{s_{i+1,j}^{(B)}<0}}{\\Delta a}, \\quad \\beta_{i,j} = \\frac{-s_{i,j}^{(F)} \\mathbb{1}_{s_{i,j}^{(F)}>0} + s_{i,j}^{(B)} \\mathbb{1}_{s_{i,j}^{(B)}<0}}{\\Delta a} - \\lambda_{j}, \\quad \\xi_{i-1,j} = \\frac{s_{i-1,j}^{(F)} \\mathbb{1}_{s_{i-1,j}^{(F)}>0}}{\\Delta a}\n",
    "$$"
   ]
  },
  {
   "cell_type": "markdown",
   "metadata": {
    "slideshow": {
     "slide_type": "subslide"
    }
   },
   "source": [
    "It can be stacked into a matrix form: For example, $n_k=4$ and $n_z$ = 2\n",
    "\n",
    "$$\n",
    "    \\left[\n",
    "    \\begin{array}{c}\n",
    "    0\\\\\n",
    "    0\\\\\n",
    "    0\\\\\n",
    "    0\\\\\n",
    "    0\\\\\n",
    "    0\\\\\n",
    "    0\\\\\n",
    "    0\n",
    "    \\end{array} \\right] = \n",
    "    \\left[\n",
    "    \\begin{array}{cccccccc}\n",
    "    \\beta_{1,1} & \\alpha_{2,1} & 0 & 0 & \\lambda_{2} & 0 & 0 & 0\\\\\n",
    "    \\xi_{1,1} & \\beta_{2,1} & \\alpha_{3,1} & 0 & 0 & \\lambda_{2} & 0 & 0 \\\\\n",
    "    0 & \\xi_{2,1} & \\beta_{3,1} & \\alpha_{4,1} & 0 & 0 & \\lambda_{2} & 0 \\\\\n",
    "    0 & 0 & \\xi_{3,1} & \\beta_{4,1} & 0 & 0 & 0 & \\lambda_{2} \\\\\n",
    "    \\lambda_{1} & 0 & 0 & 0 & \\beta_{1,2} & \\alpha_{2,2} & 0 & 0 \\\\\n",
    "    0 & \\lambda_{1} & 0 & 0 & \\xi_{1,2} & \\beta_{2,2} & \\alpha_{3,2} & 0 \\\\\n",
    "    0 & 0 & \\lambda_{1} & 0 & 0 & \\xi_{2,2} & \\beta_{3,2} & \\alpha_{4,2} \\\\\n",
    "    0 & 0 & 0 & \\lambda_{1} & 0 & 0 & \\xi_{3,2} & \\beta_{4,2}\n",
    "    \\end{array}\n",
    "    \\right]\n",
    "    \\left[\n",
    "    \\begin{array}{c}\n",
    "    g_{1,1}\\\\\n",
    "    g_{2,1}\\\\\n",
    "    g_{3,1}\\\\\n",
    "    g_{4,1}\\\\\n",
    "    g_{1,2}\\\\\n",
    "    g_{2,2}\\\\\n",
    "    g_{3,2}\\\\\n",
    "    g_{4,2}\n",
    "    \\end{array} \\right]\n",
    "$$"
   ]
  },
  {
   "cell_type": "markdown",
   "metadata": {
    "slideshow": {
     "slide_type": "subslide"
    }
   },
   "source": [
    "Or\n",
    "\n",
    "$$\n",
    "  \\mathbf{0} = \\mathbf{B}\\mathbf{g}\n",
    "$$\n",
    "\n",
    "This is prefered because $\\mathbf{B}=\\mathbf{A}^{T}$ is obtained from the HJB equation\n",
    "\n",
    "- If we solve the above equation, $g_{i,j}=0$ is a solution.\n",
    "\n",
    "- But we have an implicit constraint\n",
    "\n",
    "$$\n",
    "  \\sum_{z} \\int_{\\underline{a}}^{\\infty} g(a,z) da = 1\n",
    "$$"
   ]
  },
  {
   "cell_type": "markdown",
   "metadata": {
    "slideshow": {
     "slide_type": "subslide"
    }
   },
   "source": [
    "### Adjusting $\\mathbf{B}$\n",
    "\n",
    "$$\n",
    "    \\left[\n",
    "    \\begin{array}{c}\n",
    "    \\color{magenta}{0.1}\\\\\n",
    "    0\\\\\n",
    "    0\\\\\n",
    "    0\\\\\n",
    "    0\\\\\n",
    "    0\\\\\n",
    "    0\\\\\n",
    "    0\n",
    "    \\end{array} \\right] = \n",
    "    \\left[\n",
    "    \\begin{array}{cccccccc}\n",
    "    \\color{magenta}{1} & 0 & 0 & 0 & \\color{magenta}{0} & 0 & 0 & 0\\\\\n",
    "    \\xi_{1,1} & \\beta_{2,1} & \\alpha_{3,1} & 0 & 0 & \\lambda_{2} & 0 & 0 \\\\\n",
    "    0 & \\xi_{2,1} & \\beta_{3,1} & \\alpha_{4,1} & 0 & 0 & \\lambda_{2} & 0 \\\\\n",
    "    0 & 0 & \\xi_{3,1} & \\beta_{4,1} & 0 & 0 & 0 & \\lambda_{2} \\\\\n",
    "    \\lambda_{1} & 0 & 0 & 0 & \\beta_{1,2} & \\alpha_{2,2} & 0 & 0 \\\\\n",
    "    0 & \\lambda_{1} & 0 & 0 & \\xi_{1,2} & \\beta_{2,2} & \\alpha_{3,2} & 0 \\\\\n",
    "    0 & 0 & \\lambda_{1} & 0 & 0 & \\xi_{2,2} & \\beta_{3,2} & \\alpha_{4,2} \\\\\n",
    "    0 & 0 & 0 & \\lambda_{1} & 0 & 0 & \\xi_{3,2} & \\beta_{4,2}\n",
    "    \\end{array}\n",
    "    \\right]\n",
    "    \\left[\n",
    "    \\begin{array}{c}\n",
    "    \\tilde{g}_{1,1}\\\\\n",
    "    \\tilde{g}_{2,1}\\\\\n",
    "    \\tilde{g}_{3,1}\\\\\n",
    "    \\tilde{g}_{4,1}\\\\\n",
    "    \\tilde{g}_{1,2}\\\\\n",
    "    \\tilde{g}_{2,2}\\\\\n",
    "    \\tilde{g}_{3,2}\\\\\n",
    "    \\tilde{g}_{4,2}\n",
    "    \\end{array} \\right]\n",
    "$$\n",
    "\n",
    "Or $\\tilde{\\mathbf{g}}_{0} = \\tilde{\\mathbf{B}}\\tilde{\\mathbf{g}}$\n",
    "\n",
    "- We fix $g_{1,1}=0.1$ (or any positive number) and find the rest of $g_{i,j}$ values: $\\tilde{\\mathbf{g}} = \\tilde{\\mathbf{B}}^{-1}\\tilde{\\mathbf{g}}_{0}$\n",
    "  - Note that the adjusted $\\tilde{\\mathbf{B}}$ is non-singular, whereas $\\mathbf{B}$ is singular\n",
    "\n",
    "- Then adjust the level of $g_{i,j}$'s to make the total mass equal to 1: $g_{i,j} = \\frac{\\tilde{g}_{i,j}}{\\sum_{i,j}\\tilde{g}_{i,j}}$"
   ]
  },
  {
   "cell_type": "code",
   "execution_count": 8,
   "metadata": {
    "slideshow": {
     "slide_type": "subslide"
    }
   },
   "outputs": [
    {
     "data": {
      "text/plain": [
       "fokker_planck (generic function with 1 method)"
      ]
     },
     "execution_count": 8,
     "metadata": {},
     "output_type": "execute_result"
    }
   ],
   "source": [
    "function fokker_planck(AT)\n",
    "\n",
    "    # fokker-planck equation\n",
    "    # AT = A'\n",
    "    na = Int(size(AT,1)/2)\n",
    "    \n",
    "    b = zeros(2*na,1)\n",
    "\n",
    "    # need to fix one value, otherwise matrix is singular\n",
    "    i_fix = 1\n",
    "    b[i_fix] = .1\n",
    "    row = [zeros(1,i_fix-1) 1 zeros(1,2*na-i_fix)]\n",
    "    AT[i_fix,:] = row\n",
    "\n",
    "    # Solve linear system\n",
    "    gg = AT\\b\n",
    "    g_sum = gg'*ones(2*na,1)*da\n",
    "    gg = gg./g_sum\n",
    "\n",
    "    g = [gg[1:na] gg[na+1:2*na]]\n",
    "    \n",
    "\n",
    "    return g\n",
    "    \n",
    "end"
   ]
  },
  {
   "cell_type": "code",
   "execution_count": 9,
   "metadata": {
    "slideshow": {
     "slide_type": "subslide"
    }
   },
   "outputs": [
    {
     "name": "stdout",
     "output_type": "stream",
     "text": [
      "  1.331619 seconds (3.02 M allocations: 173.557 MiB, 4.75% gc time, 99.85% compilation time)\n"
     ]
    },
    {
     "data": {
      "image/svg+xml": [
       "<?xml version=\"1.0\" encoding=\"utf-8\"?>\n",
       "<svg xmlns=\"http://www.w3.org/2000/svg\" xmlns:xlink=\"http://www.w3.org/1999/xlink\" width=\"600\" height=\"400\" viewBox=\"0 0 2400 1600\">\n",
       "<defs>\n",
       "  <clipPath id=\"clip890\">\n",
       "    <rect x=\"0\" y=\"0\" width=\"2400\" height=\"1600\"/>\n",
       "  </clipPath>\n",
       "</defs>\n",
       "<path clip-path=\"url(#clip890)\" d=\"\n",
       "M0 1600 L2400 1600 L2400 0 L0 0  Z\n",
       "  \" fill=\"#ffffff\" fill-rule=\"evenodd\" fill-opacity=\"1\"/>\n",
       "<defs>\n",
       "  <clipPath id=\"clip891\">\n",
       "    <rect x=\"480\" y=\"0\" width=\"1681\" height=\"1600\"/>\n",
       "  </clipPath>\n",
       "</defs>\n",
       "<path clip-path=\"url(#clip890)\" d=\"\n",
       "M112.177 1486.45 L2352.76 1486.45 L2352.76 47.2441 L112.177 47.2441  Z\n",
       "  \" fill=\"#ffffff\" fill-rule=\"evenodd\" fill-opacity=\"1\"/>\n",
       "<defs>\n",
       "  <clipPath id=\"clip892\">\n",
       "    <rect x=\"112\" y=\"47\" width=\"2242\" height=\"1440\"/>\n",
       "  </clipPath>\n",
       "</defs>\n",
       "<polyline clip-path=\"url(#clip892)\" style=\"stroke:#000000; stroke-linecap:butt; stroke-linejoin:round; stroke-width:2; stroke-opacity:0.1; fill:none\" points=\"\n",
       "  189.588,1486.45 189.588,47.2441 \n",
       "  \"/>\n",
       "<polyline clip-path=\"url(#clip892)\" style=\"stroke:#000000; stroke-linecap:butt; stroke-linejoin:round; stroke-width:2; stroke-opacity:0.1; fill:none\" points=\"\n",
       "  889.507,1486.45 889.507,47.2441 \n",
       "  \"/>\n",
       "<polyline clip-path=\"url(#clip892)\" style=\"stroke:#000000; stroke-linecap:butt; stroke-linejoin:round; stroke-width:2; stroke-opacity:0.1; fill:none\" points=\"\n",
       "  1589.42,1486.45 1589.42,47.2441 \n",
       "  \"/>\n",
       "<polyline clip-path=\"url(#clip892)\" style=\"stroke:#000000; stroke-linecap:butt; stroke-linejoin:round; stroke-width:2; stroke-opacity:0.1; fill:none\" points=\"\n",
       "  2289.34,1486.45 2289.34,47.2441 \n",
       "  \"/>\n",
       "<polyline clip-path=\"url(#clip890)\" style=\"stroke:#000000; stroke-linecap:butt; stroke-linejoin:round; stroke-width:4; stroke-opacity:1; fill:none\" points=\"\n",
       "  112.177,1486.45 2352.76,1486.45 \n",
       "  \"/>\n",
       "<polyline clip-path=\"url(#clip890)\" style=\"stroke:#000000; stroke-linecap:butt; stroke-linejoin:round; stroke-width:4; stroke-opacity:1; fill:none\" points=\"\n",
       "  189.588,1486.45 189.588,1469.18 \n",
       "  \"/>\n",
       "<polyline clip-path=\"url(#clip890)\" style=\"stroke:#000000; stroke-linecap:butt; stroke-linejoin:round; stroke-width:4; stroke-opacity:1; fill:none\" points=\"\n",
       "  889.507,1486.45 889.507,1469.18 \n",
       "  \"/>\n",
       "<polyline clip-path=\"url(#clip890)\" style=\"stroke:#000000; stroke-linecap:butt; stroke-linejoin:round; stroke-width:4; stroke-opacity:1; fill:none\" points=\"\n",
       "  1589.42,1486.45 1589.42,1469.18 \n",
       "  \"/>\n",
       "<polyline clip-path=\"url(#clip890)\" style=\"stroke:#000000; stroke-linecap:butt; stroke-linejoin:round; stroke-width:4; stroke-opacity:1; fill:none\" points=\"\n",
       "  2289.34,1486.45 2289.34,1469.18 \n",
       "  \"/>\n",
       "<path clip-path=\"url(#clip890)\" d=\"M189.588 1515.64 Q185.977 1515.64 184.148 1519.2 Q182.343 1522.75 182.343 1529.87 Q182.343 1536.98 184.148 1540.55 Q185.977 1544.09 189.588 1544.09 Q193.222 1544.09 195.028 1540.55 Q196.857 1536.98 196.857 1529.87 Q196.857 1522.75 195.028 1519.2 Q193.222 1515.64 189.588 1515.64 M189.588 1511.93 Q195.398 1511.93 198.454 1516.54 Q201.533 1521.12 201.533 1529.87 Q201.533 1538.6 198.454 1543.21 Q195.398 1547.79 189.588 1547.79 Q183.778 1547.79 180.699 1543.21 Q177.644 1538.6 177.644 1529.87 Q177.644 1521.12 180.699 1516.54 Q183.778 1511.93 189.588 1511.93 Z\" fill=\"#000000\" fill-rule=\"evenodd\" fill-opacity=\"1\" /><path clip-path=\"url(#clip890)\" d=\"M879.889 1543.18 L887.527 1543.18 L887.527 1516.82 L879.217 1518.49 L879.217 1514.23 L887.481 1512.56 L892.157 1512.56 L892.157 1543.18 L899.796 1543.18 L899.796 1547.12 L879.889 1547.12 L879.889 1543.18 Z\" fill=\"#000000\" fill-rule=\"evenodd\" fill-opacity=\"1\" /><path clip-path=\"url(#clip890)\" d=\"M1584.08 1543.18 L1600.4 1543.18 L1600.4 1547.12 L1578.45 1547.12 L1578.45 1543.18 Q1581.11 1540.43 1585.7 1535.8 Q1590.3 1531.15 1591.49 1529.81 Q1593.73 1527.28 1594.61 1525.55 Q1595.51 1523.79 1595.51 1522.1 Q1595.51 1519.34 1593.57 1517.61 Q1591.65 1515.87 1588.55 1515.87 Q1586.35 1515.87 1583.89 1516.63 Q1581.46 1517.4 1578.68 1518.95 L1578.68 1514.23 Q1581.51 1513.09 1583.96 1512.51 Q1586.42 1511.93 1588.45 1511.93 Q1593.82 1511.93 1597.02 1514.62 Q1600.21 1517.31 1600.21 1521.8 Q1600.21 1523.93 1599.4 1525.85 Q1598.61 1527.74 1596.51 1530.34 Q1595.93 1531.01 1592.83 1534.23 Q1589.73 1537.42 1584.08 1543.18 Z\" fill=\"#000000\" fill-rule=\"evenodd\" fill-opacity=\"1\" /><path clip-path=\"url(#clip890)\" d=\"M2293.59 1528.49 Q2296.95 1529.2 2298.82 1531.47 Q2300.72 1533.74 2300.72 1537.07 Q2300.72 1542.19 2297.2 1544.99 Q2293.68 1547.79 2287.2 1547.79 Q2285.03 1547.79 2282.71 1547.35 Q2280.42 1546.93 2277.97 1546.08 L2277.97 1541.56 Q2279.91 1542.7 2282.23 1543.28 Q2284.54 1543.86 2287.06 1543.86 Q2291.46 1543.86 2293.75 1542.12 Q2296.07 1540.38 2296.07 1537.07 Q2296.07 1534.02 2293.92 1532.31 Q2291.79 1530.57 2287.97 1530.57 L2283.94 1530.57 L2283.94 1526.73 L2288.15 1526.73 Q2291.6 1526.73 2293.43 1525.36 Q2295.26 1523.97 2295.26 1521.38 Q2295.26 1518.72 2293.36 1517.31 Q2291.48 1515.87 2287.97 1515.87 Q2286.04 1515.87 2283.85 1516.29 Q2281.65 1516.7 2279.01 1517.58 L2279.01 1513.42 Q2281.67 1512.68 2283.98 1512.31 Q2286.32 1511.93 2288.38 1511.93 Q2293.71 1511.93 2296.81 1514.37 Q2299.91 1516.77 2299.91 1520.89 Q2299.91 1523.76 2298.27 1525.75 Q2296.62 1527.72 2293.59 1528.49 Z\" fill=\"#000000\" fill-rule=\"evenodd\" fill-opacity=\"1\" /><polyline clip-path=\"url(#clip892)\" style=\"stroke:#000000; stroke-linecap:butt; stroke-linejoin:round; stroke-width:2; stroke-opacity:0.1; fill:none\" points=\"\n",
       "  112.177,1445.72 2352.76,1445.72 \n",
       "  \"/>\n",
       "<polyline clip-path=\"url(#clip892)\" style=\"stroke:#000000; stroke-linecap:butt; stroke-linejoin:round; stroke-width:2; stroke-opacity:0.1; fill:none\" points=\"\n",
       "  112.177,1142.49 2352.76,1142.49 \n",
       "  \"/>\n",
       "<polyline clip-path=\"url(#clip892)\" style=\"stroke:#000000; stroke-linecap:butt; stroke-linejoin:round; stroke-width:2; stroke-opacity:0.1; fill:none\" points=\"\n",
       "  112.177,839.257 2352.76,839.257 \n",
       "  \"/>\n",
       "<polyline clip-path=\"url(#clip892)\" style=\"stroke:#000000; stroke-linecap:butt; stroke-linejoin:round; stroke-width:2; stroke-opacity:0.1; fill:none\" points=\"\n",
       "  112.177,536.028 2352.76,536.028 \n",
       "  \"/>\n",
       "<polyline clip-path=\"url(#clip892)\" style=\"stroke:#000000; stroke-linecap:butt; stroke-linejoin:round; stroke-width:2; stroke-opacity:0.1; fill:none\" points=\"\n",
       "  112.177,232.799 2352.76,232.799 \n",
       "  \"/>\n",
       "<polyline clip-path=\"url(#clip890)\" style=\"stroke:#000000; stroke-linecap:butt; stroke-linejoin:round; stroke-width:4; stroke-opacity:1; fill:none\" points=\"\n",
       "  112.177,1486.45 112.177,47.2441 \n",
       "  \"/>\n",
       "<polyline clip-path=\"url(#clip890)\" style=\"stroke:#000000; stroke-linecap:butt; stroke-linejoin:round; stroke-width:4; stroke-opacity:1; fill:none\" points=\"\n",
       "  112.177,1445.72 139.064,1445.72 \n",
       "  \"/>\n",
       "<polyline clip-path=\"url(#clip890)\" style=\"stroke:#000000; stroke-linecap:butt; stroke-linejoin:round; stroke-width:4; stroke-opacity:1; fill:none\" points=\"\n",
       "  112.177,1142.49 139.064,1142.49 \n",
       "  \"/>\n",
       "<polyline clip-path=\"url(#clip890)\" style=\"stroke:#000000; stroke-linecap:butt; stroke-linejoin:round; stroke-width:4; stroke-opacity:1; fill:none\" points=\"\n",
       "  112.177,839.257 139.064,839.257 \n",
       "  \"/>\n",
       "<polyline clip-path=\"url(#clip890)\" style=\"stroke:#000000; stroke-linecap:butt; stroke-linejoin:round; stroke-width:4; stroke-opacity:1; fill:none\" points=\"\n",
       "  112.177,536.028 139.064,536.028 \n",
       "  \"/>\n",
       "<polyline clip-path=\"url(#clip890)\" style=\"stroke:#000000; stroke-linecap:butt; stroke-linejoin:round; stroke-width:4; stroke-opacity:1; fill:none\" points=\"\n",
       "  112.177,232.799 139.064,232.799 \n",
       "  \"/>\n",
       "<path clip-path=\"url(#clip890)\" d=\"M64.2328 1431.51 Q60.6217 1431.51 58.793 1435.08 Q56.9875 1438.62 56.9875 1445.75 Q56.9875 1452.86 58.793 1456.42 Q60.6217 1459.96 64.2328 1459.96 Q67.867 1459.96 69.6726 1456.42 Q71.5013 1452.86 71.5013 1445.75 Q71.5013 1438.62 69.6726 1435.08 Q67.867 1431.51 64.2328 1431.51 M64.2328 1427.81 Q70.0429 1427.81 73.0985 1432.42 Q76.1772 1437 76.1772 1445.75 Q76.1772 1454.48 73.0985 1459.08 Q70.0429 1463.67 64.2328 1463.67 Q58.4226 1463.67 55.344 1459.08 Q52.2884 1454.48 52.2884 1445.75 Q52.2884 1437 55.344 1432.42 Q58.4226 1427.81 64.2328 1427.81 Z\" fill=\"#000000\" fill-rule=\"evenodd\" fill-opacity=\"1\" /><path clip-path=\"url(#clip890)\" d=\"M56.2699 1155.83 L63.9087 1155.83 L63.9087 1129.47 L55.5986 1131.13 L55.5986 1126.87 L63.8624 1125.21 L68.5383 1125.21 L68.5383 1155.83 L76.1772 1155.83 L76.1772 1159.77 L56.2699 1159.77 L56.2699 1155.83 Z\" fill=\"#000000\" fill-rule=\"evenodd\" fill-opacity=\"1\" /><path clip-path=\"url(#clip890)\" d=\"M59.8578 852.602 L76.1772 852.602 L76.1772 856.537 L54.2328 856.537 L54.2328 852.602 Q56.8949 849.848 61.4782 845.218 Q66.0846 840.565 67.2652 839.223 Q69.5105 836.7 70.3902 834.964 Q71.2929 833.204 71.2929 831.514 Q71.2929 828.76 69.3485 827.024 Q67.4272 825.288 64.3254 825.288 Q62.1263 825.288 59.6726 826.052 Q57.2421 826.815 54.4643 828.366 L54.4643 823.644 Q57.2884 822.51 59.7421 821.931 Q62.1958 821.352 64.2328 821.352 Q69.6031 821.352 72.7976 824.038 Q75.992 826.723 75.992 831.214 Q75.992 833.343 75.1818 835.264 Q74.3948 837.163 72.2883 839.755 Q71.7096 840.426 68.6078 843.644 Q65.5059 846.838 59.8578 852.602 Z\" fill=\"#000000\" fill-rule=\"evenodd\" fill-opacity=\"1\" /><path clip-path=\"url(#clip890)\" d=\"M69.0476 534.674 Q72.404 535.392 74.279 537.66 Q76.1772 539.929 76.1772 543.262 Q76.1772 548.378 72.6587 551.179 Q69.1402 553.98 62.6587 553.98 Q60.4828 553.98 58.168 553.54 Q55.8764 553.123 53.4227 552.267 L53.4227 547.753 Q55.3671 548.887 57.6819 549.466 Q59.9967 550.044 62.5198 550.044 Q66.918 550.044 69.2096 548.308 Q71.5244 546.572 71.5244 543.262 Q71.5244 540.207 69.3717 538.494 Q67.242 536.758 63.4226 536.758 L59.3949 536.758 L59.3949 532.915 L63.6078 532.915 Q67.0569 532.915 68.8855 531.549 Q70.7142 530.16 70.7142 527.568 Q70.7142 524.906 68.8161 523.494 Q66.9411 522.059 63.4226 522.059 Q61.5013 522.059 59.3023 522.475 Q57.1032 522.892 54.4643 523.771 L54.4643 519.605 Q57.1264 518.864 59.4412 518.494 Q61.7791 518.123 63.8393 518.123 Q69.1633 518.123 72.2652 520.554 Q75.367 522.961 75.367 527.082 Q75.367 529.952 73.7235 531.943 Q72.08 533.91 69.0476 534.674 Z\" fill=\"#000000\" fill-rule=\"evenodd\" fill-opacity=\"1\" /><path clip-path=\"url(#clip890)\" d=\"M66.5939 219.593 L54.7884 238.042 L66.5939 238.042 L66.5939 219.593 M65.367 215.519 L71.2466 215.519 L71.2466 238.042 L76.1772 238.042 L76.1772 241.931 L71.2466 241.931 L71.2466 250.079 L66.5939 250.079 L66.5939 241.931 L50.9921 241.931 L50.9921 237.417 L65.367 215.519 Z\" fill=\"#000000\" fill-rule=\"evenodd\" fill-opacity=\"1\" /><polyline clip-path=\"url(#clip892)\" style=\"stroke:#009af9; stroke-linecap:butt; stroke-linejoin:round; stroke-width:4; stroke-opacity:1; fill:none\" points=\"\n",
       "  175.59,87.9763 179.826,829.148 184.062,844.6 188.298,833.694 192.534,816.969 196.77,799.811 201.006,784.327 205.242,771.528 209.478,761.946 213.714,755.862 \n",
       "  217.95,753.401 222.186,754.584 226.422,759.348 230.658,767.569 234.893,779.07 239.129,793.631 243.365,810.998 247.601,830.891 251.837,853.008 256.073,877.035 \n",
       "  260.309,902.65 264.545,929.529 268.781,957.353 273.017,985.811 277.253,1014.61 281.489,1043.45 285.725,1072.1 289.961,1100.3 294.197,1127.85 298.433,1154.55 \n",
       "  302.669,1180.24 306.905,1204.8 311.141,1228.11 315.377,1250.1 319.613,1270.7 323.849,1289.88 328.085,1307.63 332.321,1323.96 336.557,1338.89 340.793,1352.46 \n",
       "  345.029,1364.72 349.265,1375.72 353.501,1385.55 357.737,1394.27 361.973,1401.96 366.209,1408.71 370.445,1414.58 374.681,1419.67 378.917,1424.06 383.153,1427.81 \n",
       "  387.389,1431 391.625,1433.69 395.861,1435.95 400.097,1437.84 404.333,1439.4 408.569,1440.69 412.805,1441.74 417.041,1442.59 421.277,1443.28 425.513,1443.83 \n",
       "  429.749,1444.27 433.985,1444.61 438.22,1444.88 442.456,1445.09 446.692,1445.25 450.928,1445.37 455.164,1445.46 459.4,1445.53 463.636,1445.58 467.872,1445.62 \n",
       "  472.108,1445.65 476.344,1445.67 480.58,1445.68 484.816,1445.69 489.052,1445.7 493.288,1445.71 497.524,1445.71 501.76,1445.71 505.996,1445.71 510.232,1445.71 \n",
       "  514.468,1445.71 518.704,1445.72 522.94,1445.72 527.176,1445.72 531.412,1445.72 535.648,1445.72 539.884,1445.72 544.12,1445.72 548.356,1445.72 552.592,1445.72 \n",
       "  556.828,1445.72 561.064,1445.72 565.3,1445.72 569.536,1445.72 573.772,1445.72 578.008,1445.72 582.244,1445.72 586.48,1445.72 590.716,1445.72 594.952,1445.72 \n",
       "  599.188,1445.72 603.424,1445.72 607.66,1445.72 611.896,1445.72 616.132,1445.72 620.368,1445.72 624.604,1445.72 628.84,1445.72 633.076,1445.72 637.311,1445.72 \n",
       "  641.547,1445.72 645.783,1445.72 650.019,1445.72 654.255,1445.72 658.491,1445.72 662.727,1445.72 666.963,1445.72 671.199,1445.72 675.435,1445.72 679.671,1445.72 \n",
       "  683.907,1445.72 688.143,1445.72 692.379,1445.72 696.615,1445.72 700.851,1445.72 705.087,1445.72 709.323,1445.72 713.559,1445.72 717.795,1445.72 722.031,1445.72 \n",
       "  726.267,1445.72 730.503,1445.72 734.739,1445.72 738.975,1445.72 743.211,1445.72 747.447,1445.72 751.683,1445.72 755.919,1445.72 760.155,1445.72 764.391,1445.72 \n",
       "  768.627,1445.72 772.863,1445.72 777.099,1445.72 781.335,1445.72 785.571,1445.72 789.807,1445.72 794.043,1445.72 798.279,1445.72 802.515,1445.72 806.751,1445.72 \n",
       "  810.987,1445.72 815.223,1445.72 819.459,1445.72 823.695,1445.72 827.931,1445.72 832.167,1445.72 836.403,1445.72 840.638,1445.72 844.874,1445.72 849.11,1445.72 \n",
       "  853.346,1445.72 857.582,1445.72 861.818,1445.72 866.054,1445.72 870.29,1445.72 874.526,1445.72 878.762,1445.72 882.998,1445.72 887.234,1445.72 891.47,1445.72 \n",
       "  895.706,1445.72 899.942,1445.72 904.178,1445.72 908.414,1445.72 912.65,1445.72 916.886,1445.72 921.122,1445.72 925.358,1445.72 929.594,1445.72 933.83,1445.72 \n",
       "  938.066,1445.72 942.302,1445.72 946.538,1445.72 950.774,1445.72 955.01,1445.72 959.246,1445.72 963.482,1445.72 967.718,1445.72 971.954,1445.72 976.19,1445.72 \n",
       "  980.426,1445.72 984.662,1445.72 988.898,1445.72 993.134,1445.72 997.37,1445.72 1001.61,1445.72 1005.84,1445.72 1010.08,1445.72 1014.31,1445.72 1018.55,1445.72 \n",
       "  1022.79,1445.72 1027.02,1445.72 1031.26,1445.72 1035.49,1445.72 1039.73,1445.72 1043.97,1445.72 1048.2,1445.72 1052.44,1445.72 1056.67,1445.72 1060.91,1445.72 \n",
       "  1065.15,1445.72 1069.38,1445.72 1073.62,1445.72 1077.85,1445.72 1082.09,1445.72 1086.33,1445.72 1090.56,1445.72 1094.8,1445.72 1099.03,1445.72 1103.27,1445.72 \n",
       "  1107.51,1445.72 1111.74,1445.72 1115.98,1445.72 1120.21,1445.72 1124.45,1445.72 1128.69,1445.72 1132.92,1445.72 1137.16,1445.72 1141.39,1445.72 1145.63,1445.72 \n",
       "  1149.86,1445.72 1154.1,1445.72 1158.34,1445.72 1162.57,1445.72 1166.81,1445.72 1171.04,1445.72 1175.28,1445.72 1179.52,1445.72 1183.75,1445.72 1187.99,1445.72 \n",
       "  1192.22,1445.72 1196.46,1445.72 1200.7,1445.72 1204.93,1445.72 1209.17,1445.72 1213.4,1445.72 1217.64,1445.72 1221.88,1445.72 1226.11,1445.72 1230.35,1445.72 \n",
       "  1234.58,1445.72 1238.82,1445.72 1243.06,1445.72 1247.29,1445.72 1251.53,1445.72 1255.76,1445.72 1260,1445.72 1264.24,1445.72 1268.47,1445.72 1272.71,1445.72 \n",
       "  1276.94,1445.72 1281.18,1445.72 1285.42,1445.72 1289.65,1445.72 1293.89,1445.72 1298.12,1445.72 1302.36,1445.72 1306.6,1445.72 1310.83,1445.72 1315.07,1445.72 \n",
       "  1319.3,1445.72 1323.54,1445.72 1327.78,1445.72 1332.01,1445.72 1336.25,1445.72 1340.48,1445.72 1344.72,1445.72 1348.96,1445.72 1353.19,1445.72 1357.43,1445.72 \n",
       "  1361.66,1445.72 1365.9,1445.72 1370.14,1445.72 1374.37,1445.72 1378.61,1445.72 1382.84,1445.72 1387.08,1445.72 1391.32,1445.72 1395.55,1445.72 1399.79,1445.72 \n",
       "  1404.02,1445.72 1408.26,1445.72 1412.5,1445.72 1416.73,1445.72 1420.97,1445.72 1425.2,1445.72 1429.44,1445.72 1433.68,1445.72 1437.91,1445.72 1442.15,1445.72 \n",
       "  1446.38,1445.72 1450.62,1445.72 1454.86,1445.72 1459.09,1445.72 1463.33,1445.72 1467.56,1445.72 1471.8,1445.72 1476.04,1445.72 1480.27,1445.72 1484.51,1445.72 \n",
       "  1488.74,1445.72 1492.98,1445.72 1497.22,1445.72 1501.45,1445.72 1505.69,1445.72 1509.92,1445.72 1514.16,1445.72 1518.4,1445.72 1522.63,1445.72 1526.87,1445.72 \n",
       "  1531.1,1445.72 1535.34,1445.72 1539.58,1445.72 1543.81,1445.72 1548.05,1445.72 1552.28,1445.72 1556.52,1445.72 1560.75,1445.72 1564.99,1445.72 1569.23,1445.72 \n",
       "  1573.46,1445.72 1577.7,1445.72 1581.93,1445.72 1586.17,1445.72 1590.41,1445.72 1594.64,1445.72 1598.88,1445.72 1603.11,1445.72 1607.35,1445.72 1611.59,1445.72 \n",
       "  1615.82,1445.72 1620.06,1445.72 1624.29,1445.72 1628.53,1445.72 1632.77,1445.72 1637,1445.72 1641.24,1445.72 1645.47,1445.72 1649.71,1445.72 1653.95,1445.72 \n",
       "  1658.18,1445.72 1662.42,1445.72 1666.65,1445.72 1670.89,1445.72 1675.13,1445.72 1679.36,1445.72 1683.6,1445.72 1687.83,1445.72 1692.07,1445.72 1696.31,1445.72 \n",
       "  1700.54,1445.72 1704.78,1445.72 1709.01,1445.72 1713.25,1445.72 1717.49,1445.72 1721.72,1445.72 1725.96,1445.72 1730.19,1445.72 1734.43,1445.72 1738.67,1445.72 \n",
       "  1742.9,1445.72 1747.14,1445.72 1751.37,1445.72 1755.61,1445.72 1759.85,1445.72 1764.08,1445.72 1768.32,1445.72 1772.55,1445.72 1776.79,1445.72 1781.03,1445.72 \n",
       "  1785.26,1445.72 1789.5,1445.72 1793.73,1445.72 1797.97,1445.72 1802.21,1445.72 1806.44,1445.72 1810.68,1445.72 1814.91,1445.72 1819.15,1445.72 1823.39,1445.72 \n",
       "  1827.62,1445.72 1831.86,1445.72 1836.09,1445.72 1840.33,1445.72 1844.57,1445.72 1848.8,1445.72 1853.04,1445.72 1857.27,1445.72 1861.51,1445.72 1865.75,1445.72 \n",
       "  1869.98,1445.72 1874.22,1445.72 1878.45,1445.72 1882.69,1445.72 1886.93,1445.72 1891.16,1445.72 1895.4,1445.72 1899.63,1445.72 1903.87,1445.72 1908.11,1445.72 \n",
       "  1912.34,1445.72 1916.58,1445.72 1920.81,1445.72 1925.05,1445.72 1929.29,1445.72 1933.52,1445.72 1937.76,1445.72 1941.99,1445.72 1946.23,1445.72 1950.46,1445.72 \n",
       "  1954.7,1445.72 1958.94,1445.72 1963.17,1445.72 1967.41,1445.72 1971.64,1445.72 1975.88,1445.72 1980.12,1445.72 1984.35,1445.72 1988.59,1445.72 1992.82,1445.72 \n",
       "  1997.06,1445.72 2001.3,1445.72 2005.53,1445.72 2009.77,1445.72 2014,1445.72 2018.24,1445.72 2022.48,1445.72 2026.71,1445.72 2030.95,1445.72 2035.18,1445.72 \n",
       "  2039.42,1445.72 2043.66,1445.72 2047.89,1445.72 2052.13,1445.72 2056.36,1445.72 2060.6,1445.72 2064.84,1445.72 2069.07,1445.72 2073.31,1445.72 2077.54,1445.72 \n",
       "  2081.78,1445.72 2086.02,1445.72 2090.25,1445.72 2094.49,1445.72 2098.72,1445.72 2102.96,1445.72 2107.2,1445.72 2111.43,1445.72 2115.67,1445.72 2119.9,1445.72 \n",
       "  2124.14,1445.72 2128.38,1445.72 2132.61,1445.72 2136.85,1445.72 2141.08,1445.72 2145.32,1445.72 2149.56,1445.72 2153.79,1445.72 2158.03,1445.72 2162.26,1445.72 \n",
       "  2166.5,1445.72 2170.74,1445.72 2174.97,1445.72 2179.21,1445.72 2183.44,1445.72 2187.68,1445.72 2191.92,1445.72 2196.15,1445.72 2200.39,1445.72 2204.62,1445.72 \n",
       "  2208.86,1445.72 2213.1,1445.72 2217.33,1445.72 2221.57,1445.72 2225.8,1445.72 2230.04,1445.72 2234.28,1445.72 2238.51,1445.72 2242.75,1445.72 2246.98,1445.72 \n",
       "  2251.22,1445.72 2255.46,1445.72 2259.69,1445.72 2263.93,1445.72 2268.16,1445.72 2272.4,1445.72 2276.64,1445.72 2280.87,1445.72 2285.11,1445.72 2289.34,1445.72 \n",
       "  \n",
       "  \"/>\n",
       "<polyline clip-path=\"url(#clip892)\" style=\"stroke:#e26f46; stroke-linecap:butt; stroke-linejoin:round; stroke-width:4; stroke-opacity:1; fill:none\" points=\"\n",
       "  175.59,1251.13 179.826,1168.56 184.062,1092.19 188.298,1018.43 192.534,946.769 196.77,877.431 201.006,810.922 205.242,747.842 209.478,688.807 213.714,634.413 \n",
       "  217.95,585.2 222.186,541.643 226.422,504.134 230.658,472.978 234.893,448.386 239.129,430.47 243.365,419.248 247.601,414.645 251.837,416.494 256.073,424.547 \n",
       "  260.309,438.479 264.545,457.899 268.781,482.356 273.017,511.355 277.253,544.364 281.489,580.827 285.725,620.171 289.961,661.823 294.197,705.215 298.433,749.793 \n",
       "  302.669,795.029 306.905,840.425 311.141,885.521 315.377,929.898 319.613,973.183 323.849,1015.05 328.085,1055.23 332.321,1093.48 336.557,1129.64 340.793,1163.58 \n",
       "  345.029,1195.2 349.265,1224.46 353.501,1251.36 357.737,1275.92 361.973,1298.19 366.209,1318.26 370.445,1336.22 374.681,1352.19 378.917,1366.3 383.153,1378.67 \n",
       "  387.389,1389.46 391.625,1398.81 395.861,1406.84 400.097,1413.71 404.333,1419.53 408.569,1424.43 412.805,1428.54 417.041,1431.94 421.277,1434.75 425.513,1437.05 \n",
       "  429.749,1438.92 433.985,1440.43 438.22,1441.63 442.456,1442.59 446.692,1443.34 450.928,1443.92 455.164,1444.38 459.4,1444.72 463.636,1444.99 467.872,1445.19 \n",
       "  472.108,1445.34 476.344,1445.44 480.58,1445.52 484.816,1445.58 489.052,1445.62 493.288,1445.65 497.524,1445.67 501.76,1445.69 505.996,1445.7 510.232,1445.7 \n",
       "  514.468,1445.71 518.704,1445.71 522.94,1445.71 527.176,1445.71 531.412,1445.71 535.648,1445.72 539.884,1445.72 544.12,1445.72 548.356,1445.72 552.592,1445.72 \n",
       "  556.828,1445.72 561.064,1445.72 565.3,1445.72 569.536,1445.72 573.772,1445.72 578.008,1445.72 582.244,1445.72 586.48,1445.72 590.716,1445.72 594.952,1445.72 \n",
       "  599.188,1445.72 603.424,1445.72 607.66,1445.72 611.896,1445.72 616.132,1445.72 620.368,1445.72 624.604,1445.72 628.84,1445.72 633.076,1445.72 637.311,1445.72 \n",
       "  641.547,1445.72 645.783,1445.72 650.019,1445.72 654.255,1445.72 658.491,1445.72 662.727,1445.72 666.963,1445.72 671.199,1445.72 675.435,1445.72 679.671,1445.72 \n",
       "  683.907,1445.72 688.143,1445.72 692.379,1445.72 696.615,1445.72 700.851,1445.72 705.087,1445.72 709.323,1445.72 713.559,1445.72 717.795,1445.72 722.031,1445.72 \n",
       "  726.267,1445.72 730.503,1445.72 734.739,1445.72 738.975,1445.72 743.211,1445.72 747.447,1445.72 751.683,1445.72 755.919,1445.72 760.155,1445.72 764.391,1445.72 \n",
       "  768.627,1445.72 772.863,1445.72 777.099,1445.72 781.335,1445.72 785.571,1445.72 789.807,1445.72 794.043,1445.72 798.279,1445.72 802.515,1445.72 806.751,1445.72 \n",
       "  810.987,1445.72 815.223,1445.72 819.459,1445.72 823.695,1445.72 827.931,1445.72 832.167,1445.72 836.403,1445.72 840.638,1445.72 844.874,1445.72 849.11,1445.72 \n",
       "  853.346,1445.72 857.582,1445.72 861.818,1445.72 866.054,1445.72 870.29,1445.72 874.526,1445.72 878.762,1445.72 882.998,1445.72 887.234,1445.72 891.47,1445.72 \n",
       "  895.706,1445.72 899.942,1445.72 904.178,1445.72 908.414,1445.72 912.65,1445.72 916.886,1445.72 921.122,1445.72 925.358,1445.72 929.594,1445.72 933.83,1445.72 \n",
       "  938.066,1445.72 942.302,1445.72 946.538,1445.72 950.774,1445.72 955.01,1445.72 959.246,1445.72 963.482,1445.72 967.718,1445.72 971.954,1445.72 976.19,1445.72 \n",
       "  980.426,1445.72 984.662,1445.72 988.898,1445.72 993.134,1445.72 997.37,1445.72 1001.61,1445.72 1005.84,1445.72 1010.08,1445.72 1014.31,1445.72 1018.55,1445.72 \n",
       "  1022.79,1445.72 1027.02,1445.72 1031.26,1445.72 1035.49,1445.72 1039.73,1445.72 1043.97,1445.72 1048.2,1445.72 1052.44,1445.72 1056.67,1445.72 1060.91,1445.72 \n",
       "  1065.15,1445.72 1069.38,1445.72 1073.62,1445.72 1077.85,1445.72 1082.09,1445.72 1086.33,1445.72 1090.56,1445.72 1094.8,1445.72 1099.03,1445.72 1103.27,1445.72 \n",
       "  1107.51,1445.72 1111.74,1445.72 1115.98,1445.72 1120.21,1445.72 1124.45,1445.72 1128.69,1445.72 1132.92,1445.72 1137.16,1445.72 1141.39,1445.72 1145.63,1445.72 \n",
       "  1149.86,1445.72 1154.1,1445.72 1158.34,1445.72 1162.57,1445.72 1166.81,1445.72 1171.04,1445.72 1175.28,1445.72 1179.52,1445.72 1183.75,1445.72 1187.99,1445.72 \n",
       "  1192.22,1445.72 1196.46,1445.72 1200.7,1445.72 1204.93,1445.72 1209.17,1445.72 1213.4,1445.72 1217.64,1445.72 1221.88,1445.72 1226.11,1445.72 1230.35,1445.72 \n",
       "  1234.58,1445.72 1238.82,1445.72 1243.06,1445.72 1247.29,1445.72 1251.53,1445.72 1255.76,1445.72 1260,1445.72 1264.24,1445.72 1268.47,1445.72 1272.71,1445.72 \n",
       "  1276.94,1445.72 1281.18,1445.72 1285.42,1445.72 1289.65,1445.72 1293.89,1445.72 1298.12,1445.72 1302.36,1445.72 1306.6,1445.72 1310.83,1445.72 1315.07,1445.72 \n",
       "  1319.3,1445.72 1323.54,1445.72 1327.78,1445.72 1332.01,1445.72 1336.25,1445.72 1340.48,1445.72 1344.72,1445.72 1348.96,1445.72 1353.19,1445.72 1357.43,1445.72 \n",
       "  1361.66,1445.72 1365.9,1445.72 1370.14,1445.72 1374.37,1445.72 1378.61,1445.72 1382.84,1445.72 1387.08,1445.72 1391.32,1445.72 1395.55,1445.72 1399.79,1445.72 \n",
       "  1404.02,1445.72 1408.26,1445.72 1412.5,1445.72 1416.73,1445.72 1420.97,1445.72 1425.2,1445.72 1429.44,1445.72 1433.68,1445.72 1437.91,1445.72 1442.15,1445.72 \n",
       "  1446.38,1445.72 1450.62,1445.72 1454.86,1445.72 1459.09,1445.72 1463.33,1445.72 1467.56,1445.72 1471.8,1445.72 1476.04,1445.72 1480.27,1445.72 1484.51,1445.72 \n",
       "  1488.74,1445.72 1492.98,1445.72 1497.22,1445.72 1501.45,1445.72 1505.69,1445.72 1509.92,1445.72 1514.16,1445.72 1518.4,1445.72 1522.63,1445.72 1526.87,1445.72 \n",
       "  1531.1,1445.72 1535.34,1445.72 1539.58,1445.72 1543.81,1445.72 1548.05,1445.72 1552.28,1445.72 1556.52,1445.72 1560.75,1445.72 1564.99,1445.72 1569.23,1445.72 \n",
       "  1573.46,1445.72 1577.7,1445.72 1581.93,1445.72 1586.17,1445.72 1590.41,1445.72 1594.64,1445.72 1598.88,1445.72 1603.11,1445.72 1607.35,1445.72 1611.59,1445.72 \n",
       "  1615.82,1445.72 1620.06,1445.72 1624.29,1445.72 1628.53,1445.72 1632.77,1445.72 1637,1445.72 1641.24,1445.72 1645.47,1445.72 1649.71,1445.72 1653.95,1445.72 \n",
       "  1658.18,1445.72 1662.42,1445.72 1666.65,1445.72 1670.89,1445.72 1675.13,1445.72 1679.36,1445.72 1683.6,1445.72 1687.83,1445.72 1692.07,1445.72 1696.31,1445.72 \n",
       "  1700.54,1445.72 1704.78,1445.72 1709.01,1445.72 1713.25,1445.72 1717.49,1445.72 1721.72,1445.72 1725.96,1445.72 1730.19,1445.72 1734.43,1445.72 1738.67,1445.72 \n",
       "  1742.9,1445.72 1747.14,1445.72 1751.37,1445.72 1755.61,1445.72 1759.85,1445.72 1764.08,1445.72 1768.32,1445.72 1772.55,1445.72 1776.79,1445.72 1781.03,1445.72 \n",
       "  1785.26,1445.72 1789.5,1445.72 1793.73,1445.72 1797.97,1445.72 1802.21,1445.72 1806.44,1445.72 1810.68,1445.72 1814.91,1445.72 1819.15,1445.72 1823.39,1445.72 \n",
       "  1827.62,1445.72 1831.86,1445.72 1836.09,1445.72 1840.33,1445.72 1844.57,1445.72 1848.8,1445.72 1853.04,1445.72 1857.27,1445.72 1861.51,1445.72 1865.75,1445.72 \n",
       "  1869.98,1445.72 1874.22,1445.72 1878.45,1445.72 1882.69,1445.72 1886.93,1445.72 1891.16,1445.72 1895.4,1445.72 1899.63,1445.72 1903.87,1445.72 1908.11,1445.72 \n",
       "  1912.34,1445.72 1916.58,1445.72 1920.81,1445.72 1925.05,1445.72 1929.29,1445.72 1933.52,1445.72 1937.76,1445.72 1941.99,1445.72 1946.23,1445.72 1950.46,1445.72 \n",
       "  1954.7,1445.72 1958.94,1445.72 1963.17,1445.72 1967.41,1445.72 1971.64,1445.72 1975.88,1445.72 1980.12,1445.72 1984.35,1445.72 1988.59,1445.72 1992.82,1445.72 \n",
       "  1997.06,1445.72 2001.3,1445.72 2005.53,1445.72 2009.77,1445.72 2014,1445.72 2018.24,1445.72 2022.48,1445.72 2026.71,1445.72 2030.95,1445.72 2035.18,1445.72 \n",
       "  2039.42,1445.72 2043.66,1445.72 2047.89,1445.72 2052.13,1445.72 2056.36,1445.72 2060.6,1445.72 2064.84,1445.72 2069.07,1445.72 2073.31,1445.72 2077.54,1445.72 \n",
       "  2081.78,1445.72 2086.02,1445.72 2090.25,1445.72 2094.49,1445.72 2098.72,1445.72 2102.96,1445.72 2107.2,1445.72 2111.43,1445.72 2115.67,1445.72 2119.9,1445.72 \n",
       "  2124.14,1445.72 2128.38,1445.72 2132.61,1445.72 2136.85,1445.72 2141.08,1445.72 2145.32,1445.72 2149.56,1445.72 2153.79,1445.72 2158.03,1445.72 2162.26,1445.72 \n",
       "  2166.5,1445.72 2170.74,1445.72 2174.97,1445.72 2179.21,1445.72 2183.44,1445.72 2187.68,1445.72 2191.92,1445.72 2196.15,1445.72 2200.39,1445.72 2204.62,1445.72 \n",
       "  2208.86,1445.72 2213.1,1445.72 2217.33,1445.72 2221.57,1445.72 2225.8,1445.72 2230.04,1445.72 2234.28,1445.72 2238.51,1445.72 2242.75,1445.72 2246.98,1445.72 \n",
       "  2251.22,1445.72 2255.46,1445.72 2259.69,1445.72 2263.93,1445.72 2268.16,1445.72 2272.4,1445.72 2276.64,1445.72 2280.87,1445.72 2285.11,1445.72 2289.34,1445.72 \n",
       "  \n",
       "  \"/>\n",
       "<path clip-path=\"url(#clip890)\" d=\"\n",
       "M1976.69 276.658 L2278.07 276.658 L2278.07 95.2176 L1976.69 95.2176  Z\n",
       "  \" fill=\"#ffffff\" fill-rule=\"evenodd\" fill-opacity=\"1\"/>\n",
       "<polyline clip-path=\"url(#clip890)\" style=\"stroke:#000000; stroke-linecap:butt; stroke-linejoin:round; stroke-width:4; stroke-opacity:1; fill:none\" points=\"\n",
       "  1976.69,276.658 2278.07,276.658 2278.07,95.2176 1976.69,95.2176 1976.69,276.658 \n",
       "  \"/>\n",
       "<polyline clip-path=\"url(#clip890)\" style=\"stroke:#009af9; stroke-linecap:butt; stroke-linejoin:round; stroke-width:4; stroke-opacity:1; fill:none\" points=\"\n",
       "  2001.58,155.698 2150.95,155.698 \n",
       "  \"/>\n",
       "<path clip-path=\"url(#clip890)\" d=\"M2189.69 175.385 Q2187.89 180.015 2186.17 181.427 Q2184.46 182.839 2181.59 182.839 L2178.19 182.839 L2178.19 179.274 L2180.69 179.274 Q2182.45 179.274 2183.42 178.44 Q2184.39 177.607 2185.57 174.505 L2186.34 172.561 L2175.85 147.052 L2180.36 147.052 L2188.46 167.329 L2196.57 147.052 L2201.08 147.052 L2189.69 175.385 Z\" fill=\"#000000\" fill-rule=\"evenodd\" fill-opacity=\"1\" /><path clip-path=\"url(#clip890)\" d=\"M2208.37 169.042 L2216.01 169.042 L2216.01 142.677 L2207.7 144.343 L2207.7 140.084 L2215.96 138.418 L2220.64 138.418 L2220.64 169.042 L2228.28 169.042 L2228.28 172.978 L2208.37 172.978 L2208.37 169.042 Z\" fill=\"#000000\" fill-rule=\"evenodd\" fill-opacity=\"1\" /><polyline clip-path=\"url(#clip890)\" style=\"stroke:#e26f46; stroke-linecap:butt; stroke-linejoin:round; stroke-width:4; stroke-opacity:1; fill:none\" points=\"\n",
       "  2001.58,216.178 2150.95,216.178 \n",
       "  \"/>\n",
       "<path clip-path=\"url(#clip890)\" d=\"M2189.69 235.865 Q2187.89 240.495 2186.17 241.907 Q2184.46 243.319 2181.59 243.319 L2178.19 243.319 L2178.19 239.754 L2180.69 239.754 Q2182.45 239.754 2183.42 238.92 Q2184.39 238.087 2185.57 234.985 L2186.34 233.041 L2175.85 207.532 L2180.36 207.532 L2188.46 227.809 L2196.57 207.532 L2201.08 207.532 L2189.69 235.865 Z\" fill=\"#000000\" fill-rule=\"evenodd\" fill-opacity=\"1\" /><path clip-path=\"url(#clip890)\" d=\"M2211.59 229.522 L2227.91 229.522 L2227.91 233.458 L2205.96 233.458 L2205.96 229.522 Q2208.63 226.768 2213.21 222.138 Q2217.82 217.485 2219 216.143 Q2221.24 213.62 2222.12 211.884 Q2223.02 210.124 2223.02 208.435 Q2223.02 205.68 2221.08 203.944 Q2219.16 202.208 2216.06 202.208 Q2213.86 202.208 2211.4 202.972 Q2208.97 203.735 2206.2 205.286 L2206.2 200.564 Q2209.02 199.43 2211.47 198.851 Q2213.93 198.273 2215.96 198.273 Q2221.33 198.273 2224.53 200.958 Q2227.72 203.643 2227.72 208.134 Q2227.72 210.263 2226.91 212.185 Q2226.13 214.083 2224.02 216.675 Q2223.44 217.347 2220.34 220.564 Q2217.24 223.759 2211.59 229.522 Z\" fill=\"#000000\" fill-rule=\"evenodd\" fill-opacity=\"1\" /></svg>\n"
      ]
     },
     "execution_count": 9,
     "metadata": {},
     "output_type": "execute_result"
    }
   ],
   "source": [
    "@time g = fokker_planck(AT);\n",
    "plot(aa,g)"
   ]
  },
  {
   "cell_type": "markdown",
   "metadata": {
    "slideshow": {
     "slide_type": "subslide"
    }
   },
   "source": [
    "- Achdou et al. (2020) page 29\n",
    "\n",
    "The deep underlying reason for this choise of discretization is that the KF equation actually *is* the \"transpose\" problem of the HJB equation. More precisely, the differential operator in the KF equation is the adjoint of the oprator in the HJB equation, the \"infinitesimal generator.\" Our transpose discretization of the KF equation is not only well-founded mathmatically; it is also extremely convenient: having solved the HJB equation, the solution of the Kolmogolov Forward equation is essentially \"for free.\""
   ]
  }
 ],
 "metadata": {
  "@webio": {
   "lastCommId": null,
   "lastKernelId": null
  },
  "celltoolbar": "Slideshow",
  "kernelspec": {
   "display_name": "Julia 1.6.1",
   "language": "julia",
   "name": "julia-1.6"
  },
  "language_info": {
   "file_extension": ".jl",
   "mimetype": "application/julia",
   "name": "julia",
   "version": "1.6.1"
  },
  "rise": {
   "enable_chalkboard": true
  }
 },
 "nbformat": 4,
 "nbformat_minor": 4
}
