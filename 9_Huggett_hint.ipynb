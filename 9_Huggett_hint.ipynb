{
 "cells": [
  {
   "cell_type": "code",
   "execution_count": null,
   "metadata": {},
   "outputs": [],
   "source": [
    "# value function iteration\n",
    "function vfi(vmat0,bgrid,Ge,Pe,β,q)\n",
    "\n",
    "    Ne = size(vmat0,1)\n",
    "    Nb = size(vmat0,2)\n",
    "\n",
    "    # 0. construct the current utility\n",
    "    umat = zeros(Ne,Nb,Nb)\n",
    "\n",
    "    [...]\n",
    "    \n",
    "    gmat0 = zeros(ne,nb)     # policy function\n",
    "    vmat1 = zeros(ne,nb)     # new value function\n",
    "\n",
    "    diff = 1e+4\n",
    "    it = 0 # counter\n",
    "\n",
    "    while diff>1e-7 # while loop until the condition diff>1e-4 met\n",
    "\n",
    "        for k in 1:Ne # for each k=0,1\n",
    "            # 1-1. compute the expected value function in the next period\n",
    "            [...]\n",
    "            \n",
    "            for i in 1:Nb # for each i=0,...,nb-1\n",
    "                # 1-2. find the index j so as to maximize the value function\n",
    "                # NOTE: gmat0 stores indices for bgrid\n",
    "                [...]\n",
    "            end\n",
    "            \n",
    "        end\n",
    "\n",
    "        diff = maximum(abs.(vmat1-vmat0)) # the condition for convergence\n",
    "        it   = it + 1\n",
    "        # 2. update the value function       \n",
    "        vmat0 = copy(vmat1)\n",
    "        \n",
    "    end\n",
    "        \n",
    "    return vmat0, gmat0\n",
    "    \n",
    "end"
   ]
  },
  {
   "cell_type": "code",
   "execution_count": 3,
   "metadata": {},
   "outputs": [],
   "source": [
    "# transition matrix\n",
    "function transition_matrix(gmat0,Pe)\n",
    "\n",
    "    Ne = size(gmat0,1)\n",
    "    Nb = size(gmat0,2)\n",
    "    A  = zeros(Ne*Nb,Ne*Nb)\n",
    "\n",
    "    for k in 1:Ne         # index for today's employment\n",
    "\n",
    "        for i in 1:Nb     # index for tomorrow's asset\n",
    "\n",
    "            j = Int(gmat0[k,i]) # index for tomorrow's asset, from the policy function\n",
    "\n",
    "            for l in 1:Ne # index for tomorrow's employment\n",
    "\n",
    "                m = Nb*(k-1)+i # m = 1,...,2Nb\n",
    "                n = Nb*(l-1)+j # n = 1,...,2Nb\n",
    "                A[m,n] = Pe[k,l]\n",
    "                \n",
    "            end\n",
    "            \n",
    "        end\n",
    "        \n",
    "    end\n",
    "                \n",
    "    return A\n",
    "    \n",
    "end"
   ]
  },
  {
   "cell_type": "code",
   "execution_count": 4,
   "metadata": {},
   "outputs": [],
   "source": [
    "# distribution\n",
    "function dist_iter(lambda0,A)\n",
    "\n",
    "    N = size(lambda0,1)\n",
    "    lambda1 = zeros(N)\n",
    "\n",
    "    diff = 1e+4\n",
    "    \n",
    "    while diff>1e-14\n",
    "        lambda1 = A'*lambda0\n",
    "        diff    = maximum(abs.(lambda1-lambda0))\n",
    "#         print(diff)\n",
    "        lambda0 = lambda1/sum(lambda1)\n",
    "    end\n",
    "\n",
    "    return lambda0\n",
    "    \n",
    "end"
   ]
  },
  {
   "cell_type": "code",
   "execution_count": 5,
   "metadata": {},
   "outputs": [],
   "source": [
    "# setup\n",
    "# parameter values\n",
    "β   = 0.96\n",
    "μ   = 0.1 # unemployment insurance\n",
    "pee = 0.925\n",
    "puu = 0.5\n",
    "ϕ   = 2   # borrowing constraint\n",
    "\n",
    "# set grid\n",
    "nb = 1001\n",
    "bmin = -ϕ\n",
    "bmax = 12.0\n",
    "bgrid = collect(range(bmin,stop=bmax,length=nb))\n",
    "\n",
    "ne = 2\n",
    "Ge = [1.0,μ]\n",
    "Pe = [pee 1-pee;\n",
    "    1-puu puu]"
   ]
  },
  {
   "cell_type": "code",
   "execution_count": 6,
   "metadata": {},
   "outputs": [
    {
     "name": "stdout",
     "output_type": "stream",
     "text": [
      "[0.96       7.90325303]\n"
     ]
    }
   ],
   "source": [
    "q = 0.96\n",
    "\n",
    "vmat0 = np.zeros((ne,nb))                   # initial (old) value function\n",
    "lambda0 = np.ones(ne*nb)/(ne*nb)            # initial distribution\n",
    "\n",
    "start = time.time()\n",
    "vmat0, gmat0 = vfi(vmat0,bgrid,Ge,Pe,β,q)   # value function iteration\n",
    "A            = transition_matrix(gmat0,Pe)  # transition matrix\n",
    "lambda0      = dist_iter(lambda0,A)         # stationary distribution\n",
    "# the aggregate demand for asset\n",
    "# NOTE: lambda is (2*nb times 1) vector, the first nb elements are for k=0 and the second nb elements are for k=1\n",
    "z = np.sum(bgrid*lambda0[0:nb]) + np.sum(bgrid*lambda0[nb:2*nb])\n",
    "print(np.array([q,z]))\n",
    "eptime = time.time()-start"
   ]
  },
  {
   "cell_type": "code",
   "execution_count": null,
   "metadata": {},
   "outputs": [],
   "source": []
  }
 ],
 "metadata": {
  "@webio": {
   "lastCommId": null,
   "lastKernelId": null
  },
  "kernelspec": {
   "display_name": "Python 3",
   "language": "python",
   "name": "python3"
  },
  "language_info": {
   "codemirror_mode": {
    "name": "ipython",
    "version": 3
   },
   "file_extension": ".py",
   "mimetype": "text/x-python",
   "name": "python",
   "nbconvert_exporter": "python",
   "pygments_lexer": "ipython3",
   "version": "3.7.6"
  }
 },
 "nbformat": 4,
 "nbformat_minor": 2
}
