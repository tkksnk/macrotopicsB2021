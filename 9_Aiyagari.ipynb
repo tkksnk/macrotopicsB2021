{
 "cells": [
  {
   "cell_type": "markdown",
   "metadata": {
    "slideshow": {
     "slide_type": "slide"
    }
   },
   "source": [
    "# Advanced Macro: Bewley-Aiyagari models\n",
    "<br>\n",
    "<div style=\"text-align: center;\">\n",
    "July 2020, Takeki Sunakawa, revised June 2021 Takeki Sunakawa\n",
    "<br>\n",
    "<div style=\"text-align: center;\">    \n",
    "Hitotsubashi University"
   ]
  },
  {
   "cell_type": "markdown",
   "metadata": {
    "slideshow": {
     "slide_type": "slide"
    }
   },
   "source": [
    "# Introduction\n",
    "\n",
    "- We extend our previous analysis in the two-person/two-period/two-state model."
   ]
  },
  {
   "cell_type": "markdown",
   "metadata": {
    "slideshow": {
     "slide_type": "fragment"
    }
   },
   "source": [
    "- We will find that the households are ex ante indentical but ex post different due to incomplete markets."
   ]
  },
  {
   "cell_type": "markdown",
   "metadata": {
    "slideshow": {
     "slide_type": "fragment"
    }
   },
   "source": [
    "- This type of model is known as a heterogeneous agent model."
   ]
  },
  {
   "cell_type": "markdown",
   "metadata": {
    "slideshow": {
     "slide_type": "fragment"
    }
   },
   "source": [
    "- Heterogeneous agent models have implications on both micro and macro data."
   ]
  },
  {
   "cell_type": "markdown",
   "metadata": {
    "slideshow": {
     "slide_type": "slide"
    }
   },
   "source": [
    "## Saving problem revisited\n",
    "\n",
    "- An individual chooses a sequence of consumption $\\{c_{t}\\}_{t=0}^{\\infty}$ to maximize\n",
    "\n",
    "$$\n",
    "    E_{0} \\sum_{t=0}^{\\infty} \\beta^{t} u(c_{t}).\n",
    "$$\n",
    "\n",
    "where $\\beta\\in(0,1)$ is discount factor and $u(c)$ satisfies the standard assumptions."
   ]
  },
  {
   "cell_type": "markdown",
   "metadata": {
    "slideshow": {
     "slide_type": "subslide"
    }
   },
   "source": [
    "subject to\n",
    "\n",
    "$$\n",
    "    c_{t} + q b_{t+1} = b_{t} + e_{t}\n",
    "$$\n",
    "\n",
    "where\n",
    "\n",
    "- $q_{t}$ is the price of risk-free bond which returns 1 unit of resources in the next period, \n",
    "\n",
    "- $b_{t+1}$ is the amount of risk-free bond purchased in period $t$, and\n",
    "\n",
    "- $e_{t}$ is employment status which follows a two-state Markov chain.\n",
    "\n",
    "- The borrowing constraint is given by $b_{t+1}\\geq-\\phi$."
   ]
  },
  {
   "cell_type": "markdown",
   "metadata": {
    "slideshow": {
     "slide_type": "subslide"
    }
   },
   "source": [
    "## Markov chain\n",
    "\n",
    "- $e_{t}$ takes either of two values $\\{e_{1},e_{2}\\}$."
   ]
  },
  {
   "cell_type": "markdown",
   "metadata": {
    "slideshow": {
     "slide_type": "fragment"
    }
   },
   "source": [
    "- When $e_{t}=e_{1}$, the conditional probability of $e_{t+1}=e_{1}$, $\\text{Prob}(e_{t+1}=e_{1}|e_{t}=e_{1})$, is given by $p_{11}$. "
   ]
  },
  {
   "cell_type": "markdown",
   "metadata": {
    "slideshow": {
     "slide_type": "fragment"
    }
   },
   "source": [
    "- Similarly, when $e_{t}=e_{2}$, the conditional probability of $e_{t+1}=e_{2}$, $\\text{Prob}(e_{t+1}=e_{2}|e_{t}=e_{2})$,  is given by $p_{22}$."
   ]
  },
  {
   "cell_type": "markdown",
   "metadata": {
    "slideshow": {
     "slide_type": "fragment"
    }
   },
   "source": [
    "- The transition probability matrix is given by\n",
    "\n",
    "$$\n",
    " P = \\left[\\begin{array}{cc}\n",
    " p_{11} & 1-p_{11} \\\\\n",
    " 1-p_{22} & p_{22}\n",
    "\\end{array}\\right].\n",
    "$$"
   ]
  },
  {
   "cell_type": "markdown",
   "metadata": {
    "slideshow": {
     "slide_type": "subslide"
    }
   },
   "source": [
    "- Let $\\pi_{t}$ be a $(2\\times 1)$ vector of the distribution of $e_{t}$, $\\pi_{t}(i)=\\text{Prob}(e_{t}=e_{i})$, for $i=1,2$ in period $t$."
   ]
  },
  {
   "cell_type": "markdown",
   "metadata": {
    "slideshow": {
     "slide_type": "fragment"
    }
   },
   "source": [
    "- Then, given $\\pi_{0}$, we have\n",
    "\n",
    "$$\n",
    "\\begin{align}\n",
    "\\pi_{1}' &= \\pi_{0}'P, \\\\\n",
    " &= \\left[\\begin{array}{cc} \\pi_{0}(1) & \\pi_{0}(2) \\end{array}\\right] \\left[\\begin{array}{cc}\n",
    " p_{11} & 1-p_{11} \\\\\n",
    " 1-p_{22} & p_{22}\n",
    "\\end{array}\\right], \\\\\n",
    " &= \\left[\\begin{array}{cc} \\pi_{0}(1)p_{11} + \\pi_{0}(2)(1-p_{22}) & \\pi_{0}(1)(1-p_{11}) + \\pi_{0}(2)p_{22} \\end{array}\\right], \\\\\n",
    " &= \\left[\\begin{array}{cc} \\pi_{1}(1) & \\pi_{1}(2) \\end{array}\\right].\n",
    "\\end{align}\n",
    "$$\n",
    "<!--\n",
    "$$\n",
    "\\underbrace{\\pi_{1}'}_{(1\\times2)} = \\underbrace{\\pi_{0}'}_{(1\\times2)}\\underbrace{P}_{(2\\times2)}.\n",
    "$$\n",
    "-->"
   ]
  },
  {
   "cell_type": "markdown",
   "metadata": {
    "slideshow": {
     "slide_type": "fragment"
    }
   },
   "source": [
    "- Also,\n",
    "\n",
    "$$\n",
    "\\begin{align}\n",
    "\\pi_{2}' &= \\pi_{0}'P^{2}, \\\\\n",
    "\\pi_{3}' &= \\pi_{0}'P^{3}, \\\\\n",
    "& \\vdots \\\\\n",
    "\\pi_{t}' &= \\pi_{0}'P^{t}.\n",
    "\\end{align}\n",
    "$$"
   ]
  },
  {
   "cell_type": "markdown",
   "metadata": {
    "slideshow": {
     "slide_type": "subslide"
    }
   },
   "source": [
    "- We can obtain the time-invariant distribution as $\\pi=\\lim_{t \\rightarrow \\infty} \\pi_{0}'P^{t}$."
   ]
  },
  {
   "cell_type": "markdown",
   "metadata": {
    "slideshow": {
     "slide_type": "fragment"
    }
   },
   "source": [
    "- Or, $\\pi=P'\\pi$ implies\n",
    "\n",
    "$$\n",
    "  (I-P')\\pi = 0\n",
    "$$\n",
    "\n",
    "Then $\\pi$ is an eigenvector of the matrix $P′$ associated with unit eigenvalue."
   ]
  },
  {
   "cell_type": "code",
   "execution_count": 1,
   "metadata": {},
   "outputs": [
    {
     "name": "stdout",
     "output_type": "stream",
     "text": [
      "[0.3999999999999998, 0.5999999999999998]\n",
      "[0.5, 1.0]\n",
      "[0.39999999999999997, 0.6]\n"
     ]
    }
   ],
   "source": [
    "P = zeros(2,2)\n",
    "P[1,1] = .7\n",
    "P[1,2] = .3\n",
    "P[2,1] = .2\n",
    "P[2,2] = .8\n",
    "\n",
    "# computing the invariant distribution\n",
    "# iterative method\n",
    "p0 = [.5,.5]\n",
    "\n",
    "for t in 1:10000\n",
    "    p0 = P'*p0\n",
    "end\n",
    "println(p0)\n",
    "\n",
    "# eigenvalue decomposition\n",
    "using LinearAlgebra\n",
    "\n",
    "F = eigen(P')\n",
    "println(F.values) # the second element of Lambda = 1\n",
    "println(F.vectors[:,2]/sum(F.vectors[:,2]))"
   ]
  },
  {
   "cell_type": "markdown",
   "metadata": {
    "slideshow": {
     "slide_type": "subslide"
    }
   },
   "source": [
    "## Dynamic programming\n",
    "\n",
    "- We write the Bellman equation as\n",
    "\n",
    "$$\n",
    "\\begin{align}\n",
    "    V^{*}(b,e_{1}) = \\max_{b'\\geq-\\phi}\\left\\{ \\ln(b+e_{1}-qb')+\\beta\\left(p_{11}V_{1}(b')+p_{12}V_{2}(b')\\right)\\right\\}, \\\\\n",
    "    V^{*}(b,e_{2}) = \\max_{b'\\geq-\\phi}\\left\\{ \\ln(b+e_{2}-qb')+\\beta\\left(p_{21}V_{1}(b')+p_{22}V_{2}(b')\\right)\\right\\},\n",
    "\\end{align}\n",
    "$$\n",
    "\n",
    "taking the function $V_{k}(b) \\equiv V(b,e_{k})$ for $k=1,2$ as given."
   ]
  },
  {
   "cell_type": "markdown",
   "metadata": {
    "slideshow": {
     "slide_type": "fragment"
    }
   },
   "source": [
    "- We update the value function iteratively until the function converges, i.e., $\\left\\Vert V_{k}^{*}(b)-V_{k}(b)\\right\\Vert \\leq\\epsilon$ for each $k=1,2$."
   ]
  },
  {
   "cell_type": "markdown",
   "metadata": {
    "slideshow": {
     "slide_type": "fragment"
    }
   },
   "source": [
    "- We need to approximate $V_{k}(b')$, and numerically solve the maximization problem with regard to $b'$."
   ]
  },
  {
   "cell_type": "markdown",
   "metadata": {
    "slideshow": {
     "slide_type": "subslide"
    }
   },
   "source": [
    "## Successive approximation\n",
    "\n",
    "- Let $b_{i}\\in\\mathcal{B}=\\{b_{1},b_{2},...,b_{n_{b}}\\}$ where $b_{1}<b_{2}<...<b_{n_{b}}$. These are called grid points."
   ]
  },
  {
   "cell_type": "markdown",
   "metadata": {
    "slideshow": {
     "slide_type": "fragment"
    }
   },
   "source": [
    "- $V_{k}(b)$ is approximated by a $(n \\times 1)$ vector of the values $\\{V_{k}(b_{i})\\}_{i=1}^{n}$ for each $k=1,2$.\n",
    "\n",
    "\n",
    "<!--- $V(b)=\\{V_{k}(b)\\}_{k=0}^{1}$ is a $(2 \\times n_{b})$ vector.-->"
   ]
  },
  {
   "cell_type": "markdown",
   "metadata": {
    "slideshow": {
     "slide_type": "subslide"
    }
   },
   "source": [
    "- We can successively update the approximation as follows:"
   ]
  },
  {
   "cell_type": "markdown",
   "metadata": {
    "slideshow": {
     "slide_type": "fragment"
    }
   },
   "source": [
    "0. Construct a matrix for the current utility $\\underset{(2 \\times n \\times n)}{\\mathbf{U}}=\\{\\{u_{kij}\\}\\}$\n",
    "\n",
    "  - <span style=\"color:blue\">For each index for the employment status $k=1,2$:\n",
    "  \n",
    "  - Let $i$ be the index for the current period's asset. That is, $b_{i}=b$.\n",
    "  \n",
    "  - Also let $j$ be the index for the next period's aseet. That is, $b_{j}=b'$.\n",
    "\n",
    "  - The utility matrix is given by\n",
    "  \n",
    "  $$\n",
    "U_k = \\left[\n",
    "\\begin{array}{ccccc}\n",
    "u_{k11} & \\cdots & u_{k1j} & \\cdots & u_{k1n}\\\\\n",
    "\\vdots & \\ddots &        &        & \\vdots \\\\\n",
    "u_{ki1} &        & u_{kij} &        & u_{kin} \\\\\n",
    "\\vdots &        &        & \\ddots & \\vdots \\\\\n",
    "u_{kn1} & \\cdots & u_{knj} & \\cdots & u_{knn}\n",
    "\\end{array}\n",
    "\\right]\n",
    "  $$    \n",
    "  \n",
    "  for $k=1,2$.\n",
    "    \n",
    "  - Then, if $c_{kij}=b_{i}+e_{k}-qb_{j}>0$, set\n",
    "  $$\n",
    "    u_{kij} = \\ln c_{kij}\n",
    "  $$\n",
    "  Otherwise, set a large negative number (say -10000000000) to $u_{kij}$."
   ]
  },
  {
   "cell_type": "markdown",
   "metadata": {
    "slideshow": {
     "slide_type": "subslide"
    }
   },
   "source": [
    "1. For each pair of indices of the current period $i=1,2,...,n$ and $k=1,2$ and given a vector of the values $\\{V_{k}(b_{j})\\}_{j=1}^{n}$, \n",
    "\n",
    "<!--   - Let $\\underset{(n \\times 1)}{\\mathbf{u}}=[u_{ki0},...,u_{kij},...,u_{kin-1}]$ and $\\underset{(n \\times 1)}{\\mathbf{v}_{k}}=[V_{k}(b_{0}),...,V_{k}(b_{j}),...V_{k}(b_{n-1})]$. -->\n",
    "\n",
    "  - <span style=\"color:blue\">Compute the expected value function\n",
    "$$\n",
    "    \\left[\n",
    "    \\begin{array}{c}\n",
    "    E_{k}V(b_{1})\\\\\n",
    "    \\vdots\\\\\n",
    "    E_{k}V(b_{j})\\\\\n",
    "    \\vdots\\\\\n",
    "    E_{k}V(b_{n})\n",
    "    \\end{array}\n",
    "    \\right] = p_{k1}\n",
    "    \\left[\n",
    "    \\begin{array}{c}\n",
    "    V_{1}(b_{1})\\\\\n",
    "    \\vdots\\\\\n",
    "    V_{1}(b_{j})\\\\\n",
    "    \\vdots\\\\\n",
    "    V_{1}(b_{n})\n",
    "    \\end{array}\n",
    "    \\right] + p_{k2}\n",
    "    \\left[\n",
    "    \\begin{array}{c}\n",
    "    V_{2}(b_{1})\\\\\n",
    "    \\vdots\\\\\n",
    "    V_{2}(b_{j})\\\\\n",
    "    \\vdots\\\\\n",
    "    V_{2}(b_{n})\n",
    "    \\end{array}\n",
    "    \\right]\n",
    "$$\n",
    "    \n",
    "<!-- $$\n",
    "    \\underset{(n \\times 1)}{E_{k}\\mathbf{v}} = p_{k0}\\mathbf{v}_{0} + p_{k1}\\mathbf{v}_{1}\n",
    "$$ -->\n",
    "    \n",
    "  - Find the index of the next period $j$ by\n",
    "$$\n",
    "    V^{*}_{k}(b_{i})=\\max_{j}\\left\\{\n",
    "    \\left[\n",
    "    \\begin{array}{c}\n",
    "    u_{ki1}\\\\\n",
    "    \\vdots\\\\\n",
    "    u_{kij}\\\\\n",
    "    \\vdots\\\\\n",
    "    u_{kin}\n",
    "    \\end{array}\n",
    "    \\right]+\n",
    "    \\beta\n",
    "    \\left[\n",
    "    \\begin{array}{c}\n",
    "    E_{k}V(b_{1})\\\\\n",
    "    \\vdots\\\\\n",
    "    E_{k}V(b_{j})\\\\\n",
    "    \\vdots\\\\\n",
    "    E_{k}V(b_{n})\n",
    "    \\end{array}\n",
    "    \\right]\n",
    "    \\right\\}\n",
    "$$\n",
    "\n",
    "<!-- $$\n",
    "    V^{*}_{k}(b_{i})=\\max_{j}\\left\\{ \\mathbf{u} + \\beta E_{k}\\mathbf{v}\\right\\}\n",
    "$$ -->\n",
    "    \n",
    "  - Then we obtain a vector of the values $\\{V^{*}_{k}(b_{i})\\}_{i=1}^{n}$ for each $k=1,2$, which approximate the (new) value function."
   ]
  },
  {
   "cell_type": "markdown",
   "metadata": {
    "slideshow": {
     "slide_type": "fragment"
    }
   },
   "source": [
    "2. Update the old value function $\\{V_{k}(b_{i})\\}_{i=1}^{n}$ with the new value function $\\{V^{*}_{k}(b_{i})\\}_{i=1}^{n}$. Iterate 1-2\n",
    "until convergence."
   ]
  },
  {
   "cell_type": "markdown",
   "metadata": {
    "slideshow": {
     "slide_type": "subslide"
    }
   },
   "source": [
    "- $q = \\beta$: $g(b,e_{1})$ is always larger than $b$, whereas $g(b,e_{2})$ is always smaller than $b$. \n",
    "<br>\n",
    "<div align=\"center\">\n",
    "<img src=\"./bpol.png\",width=\"1200\",height=\"400\">\n",
    "</div>"
   ]
  },
  {
   "cell_type": "markdown",
   "metadata": {
    "slideshow": {
     "slide_type": "subslide"
    }
   },
   "source": [
    "- $q = 1.025$: $b'=g(b,e_{1})$ crosses the 45 degree line from above around at $b'=b=0$.\n",
    "<br>\n",
    "<div align=\"center\">\n",
    "<img src=\"./bpol2.png\",width=\"1200\",height=\"400\">\n",
    "</div>"
   ]
  },
  {
   "cell_type": "markdown",
   "metadata": {
    "slideshow": {
     "slide_type": "slide"
    }
   },
   "source": [
    "# Huggett model\n",
    "\n",
    "- Mark Huggett (1993) studies an infinite-period economy with uncertainty, which is a simple extension to the previous two-person/two-period/two-state economy."
   ]
  },
  {
   "cell_type": "markdown",
   "metadata": {
    "slideshow": {
     "slide_type": "fragment"
    }
   },
   "source": [
    "- There is a continuum of households $i\\in[0,1]$. "
   ]
  },
  {
   "cell_type": "markdown",
   "metadata": {
    "slideshow": {
     "slide_type": "fragment"
    }
   },
   "source": [
    "- Each of households has access to a single type of asset which it can borrow or lend at a rate $q$. The households cannot borrow exceeding the limit $\\phi$."
   ]
  },
  {
   "cell_type": "markdown",
   "metadata": {
    "slideshow": {
     "slide_type": "fragment"
    }
   },
   "source": [
    "- The households are ex ante indentical but ex post different due to incomplete markets."
   ]
  },
  {
   "cell_type": "markdown",
   "metadata": {
    "slideshow": {
     "slide_type": "subslide"
    }
   },
   "source": [
    "## Wealth-employment distributions\n",
    "\n",
    "- By solving the household's saving problem, we have\n",
    "\n",
    "$$\n",
    "    b' = g(b,e_{k})\n",
    "$$\n",
    "\n",
    "for $k=1,2$."
   ]
  },
  {
   "cell_type": "markdown",
   "metadata": {
    "slideshow": {
     "slide_type": "fragment"
    }
   },
   "source": [
    "- Define\n",
    "\n",
    "$$\n",
    "    \\lambda_{t}(b,e_{k}) = \\text{Prob}(b_{t}=b,e_{t}=e_{k})\n",
    "$$"
   ]
  },
  {
   "cell_type": "markdown",
   "metadata": {
    "slideshow": {
     "slide_type": "subslide"
    }
   },
   "source": [
    "- The transition matrix $P$ and the policy function $b'=g(b,e)$ induce\n",
    "\n",
    "$$\n",
    "\\begin{align}\n",
    "    \\lambda_{t+1}(b',e_{l}) =& \\sum_{b_{t}}\\sum_{e_{t}}\\text{Prob}(b_{t+1}=b'|b_{t}=b,e_{t}=e_{k}) \\\\\n",
    "    &\\cdot\\underbrace{\\text{Prob}(e_{t+1}=e_{l}|e_{t}=e_{k})}_{p_{kl}}\\cdot\\underbrace{\\text{Prob}(b_{t}=b,e_{t}=e_{k})}_{\\lambda_{t}(b,e_{k})}, \\\\\n",
    "    =& \\sum_{b_{t}}\\sum_{e_{t}}\\text{Prob}(b_{t+1}=b'|b_{t}=b,e_{t}=e_{k})\\cdot{p_{kl}}\\cdot\\lambda_{t}(b,e_{k}).\n",
    "\\end{align}\n",
    "$$"
   ]
  },
  {
   "cell_type": "markdown",
   "metadata": {
    "slideshow": {
     "slide_type": "fragment"
    }
   },
   "source": [
    "- The time invariant distribution is given by $\\lambda(b,e)$."
   ]
  },
  {
   "cell_type": "markdown",
   "metadata": {
    "slideshow": {
     "slide_type": "subslide"
    }
   },
   "source": [
    "## Closing the model\n",
    "\n",
    "- The asset markets clear. That is,\n",
    "\n",
    "$$\n",
    "    \\sum_{b,e} b\\lambda(b,e) = 0,\n",
    "$$\n",
    "\n",
    "which determines the equilibrium price $q>\\beta$. Note that $\\sum_{b,e} \\lambda(b,e) = 1$."
   ]
  },
  {
   "cell_type": "markdown",
   "metadata": {
    "slideshow": {
     "slide_type": "subslide"
    }
   },
   "source": [
    "## Stationary equilibrium\n",
    "\n",
    "Definition: Given a borrowing limit $\\phi$, a stationary equilibrium is a debt price $q$, a policy function $g(b,e)$, and a stationary distribution $\\lambda(b,e)$ for which\n",
    "\n",
    "(a) Given $q$, the policy function solves the household's optimum problem;\n",
    "\n",
    "(b) The probability distribution $\\lambda(b,e)$ is the invariant distribution of the Markov chain on $(b,e)$ induced by the Markov chain on $e$ and the optimal policy $g(b,e)$;\n",
    "\n",
    "(c) The asset market clears\n",
    "$$\n",
    "    \\sum_{b,e} b\\lambda(b,e) = 0,\n",
    "$$"
   ]
  },
  {
   "cell_type": "markdown",
   "metadata": {
    "slideshow": {
     "slide_type": "subslide"
    }
   },
   "source": [
    "## Calculating wealth-employment distributions\n",
    "\n",
    "- How do we calculate $\\lambda(b,e)$ numerically? <!--$\\text{Prob}(b_{t+1}=b'|b_{t}=b,e_{t}=e_{k})$?-->"
   ]
  },
  {
   "cell_type": "markdown",
   "metadata": {
    "slideshow": {
     "slide_type": "fragment"
    }
   },
   "source": [
    "- Let $b_{i}\\in\\mathcal{B}$ and $b_{j}\\in\\mathcal{B}$ where $\\mathcal{B}=\\{b_{1},b_{2},...,b_{n_{b}}\\}$ and $b_{1}<b_{2}<...<b_{n_{b}}$."
   ]
  },
  {
   "cell_type": "markdown",
   "metadata": {
    "slideshow": {
     "slide_type": "fragment"
    }
   },
   "source": [
    "- Then, if $b_{j}=g(b_{i},e_{k})$,\n",
    "\n",
    "$$\n",
    "\\text{Prob}(b_{t+1}=b_{j}|b_{t}=b_{i},e_{t}=e_{k}) = 1.\n",
    "$$"
   ]
  },
  {
   "cell_type": "markdown",
   "metadata": {
    "slideshow": {
     "slide_type": "skip"
    }
   },
   "source": [
    "- If $b'\\in[b_{j},b_{j+1}]$,\n",
    "\n",
    "$$\n",
    "\\begin{align}\n",
    "\\text{Prob}(b_{t+1}=b_{j}|b_{t}=b_{i},e_{t}=e_{k}) &= w, \\\\\n",
    "\\text{Prob}(b_{t+1}=b_{j+1}|b_{t}=b_{i},e_{t}=e_{k}) &= 1-w,\n",
    "\\end{align}\n",
    "$$\n",
    "\n",
    "where $w=\\frac{b_{j+1}-b'}{b_{j+1}-b_{j}}$.\n",
    "\n",
    "[graph]"
   ]
  },
  {
   "cell_type": "markdown",
   "metadata": {
    "slideshow": {
     "slide_type": "subslide"
    }
   },
   "source": [
    "- Let $(i(m),k(m))$ be a pair of functions of an index for the current period $m=1,...,n_{b},n_{b}+1,...,2n_{b}$."
   ]
  },
  {
   "cell_type": "markdown",
   "metadata": {
    "slideshow": {
     "slide_type": "fragment"
    }
   },
   "source": [
    "- For example, $n_{b}=3$,\n",
    "\n",
    "$$\n",
    "\\begin{align}\n",
    "  (i(1),k(1)) &= (1,1), \\\\\n",
    "  (i(2),k(2)) &= (2,1), \\\\\n",
    "  (i(3),k(3)) &= (3,1), \\\\\n",
    "  (i(4),k(4)) &= (1,2), \\\\\n",
    "  (i(5),k(5)) &= (2,2), \\\\\n",
    "  (i(6),k(6)) &= (3,2).\n",
    "\\end{align}\n",
    "$$"
   ]
  },
  {
   "cell_type": "markdown",
   "metadata": {
    "slideshow": {
     "slide_type": "fragment"
    }
   },
   "source": [
    "- Similarly, let $(j(n),l(n))$ be a pair of functions of an index for the next period $n=1,...,n_{b},n_{b}+1,...,2n_{b}$."
   ]
  },
  {
   "cell_type": "markdown",
   "metadata": {
    "slideshow": {
     "slide_type": "subslide"
    }
   },
   "source": [
    "- Then the distribution of assets and employment status can be stacked into a vector\n",
    "\n",
    "$$\n",
    "  \\mathbf{\\lambda}_{t} = \\left[\\begin{array}{ccccc}\\lambda_{t,1}, & \\cdots, & \\lambda_{t,m}, & \\cdots, & \\lambda_{t,N}\\end{array}\\right]'\n",
    "$$\n",
    "\n",
    "where $\\lambda_{t,m}=\\lambda_{t}(b_{i(m)},e_{k(m)})$. Note that $N=2n_{b}$. "
   ]
  },
  {
   "cell_type": "markdown",
   "metadata": {
    "slideshow": {
     "slide_type": "fragment"
    }
   },
   "source": [
    "- Similarly,\n",
    "\n",
    "$$\n",
    "  \\mathbf{\\lambda}_{t+1} = \\left[\\begin{array}{ccccc}\\lambda_{t+1,1}, & \\cdots, & \\lambda_{t+1,n}, & \\cdots, & \\lambda_{t+1,N}\\end{array}\\right]'\n",
    "$$\n",
    "\n",
    "where $\\lambda_{t+1,n}=\\lambda_{t}(b_{j(n)},e_{l(n)})$."
   ]
  },
  {
   "cell_type": "markdown",
   "metadata": {
    "slideshow": {
     "slide_type": "subslide"
    }
   },
   "source": [
    "- Then we have the transition matrix for $\\lambda_{t}$\n",
    "\n",
    "$$\n",
    "\\underbrace{\\left[\\begin{array}{c}\n",
    "\\lambda_{t+1,1} \\\\\n",
    "\\vdots \\\\\n",
    "\\lambda_{t+1,n} \\\\\n",
    "\\vdots \\\\\n",
    "\\lambda_{t+1,N}\\end{array}\\right]}_{\\underset{(N \\times 1)}{\\lambda_{t+1}}}\n",
    "= \n",
    "\\underbrace{\\left[\\begin{array}{ccccc}\n",
    "a_{11} & \\cdots & a_{1m} & \\cdots & a_{0N} \\\\\n",
    "\\vdots & & \\vdots & & \\vdots \\\\\n",
    "a_{n1} & \\cdots & a_{nm} & \\cdots & a_{nN} \\\\\n",
    "\\vdots & & \\vdots & & \\vdots \\\\\n",
    "a_{N1} & \\cdots & a_{Nm} & \\cdots & a_{NN} \\end{array}\\right]}_{\\underset{(N \\times N)}{A'}}\n",
    "\\underbrace{\\left[\\begin{array}{c}\n",
    "\\lambda_{t,1} \\\\\n",
    "\\vdots \\\\\n",
    "\\lambda_{t,m} \\\\\n",
    "\\vdots \\\\\n",
    "\\lambda_{t,N}\\end{array}\\right]}_{\\underset{(N \\times 1)}{\\lambda_{t}}}\n",
    "$$\n",
    "\n",
    "where\n",
    "\n",
    "$$\n",
    "\\begin{align}\n",
    "    a_{nm} &= \\text{Prob}(b_{t+1}=b_{j(n)}|b_{t}=b_{i(m)},e_{t}=e_{k(m)})\\cdot\\text{Prob}(e_{t+1}=e_{l(n)}|e_{t}=e_{k(m)}), \\\\\n",
    "    &= p_{kl}\n",
    "\\end{align}\n",
    "$$\n",
    "\n",
    "- Note that this is a sparse matrix. Most of the elements are zero."
   ]
  },
  {
   "cell_type": "code",
   "execution_count": null,
   "metadata": {
    "slideshow": {
     "slide_type": "subslide"
    }
   },
   "outputs": [],
   "source": [
    "# transition matrix\n",
    "function transition_matrix(gmat0,Pe)\n",
    "\n",
    "    Ne = size(gmat0,1)\n",
    "    Nb = size(gmat0,2)\n",
    "    A  = zeros(Ne*Nb,Ne*Nb)\n",
    "\n",
    "    for k in 1:Ne         # index for today's employment\n",
    "\n",
    "        for i in 1:Nb     # index for tomorrow's asset\n",
    "\n",
    "            j = Int(gmat0[k,i]) # index for tomorrow's asset, from the policy function\n",
    "\n",
    "            for l in 1:Ne # index for tomorrow's employment\n",
    "\n",
    "                m = Nb*(k-1)+i # m = 1,...,2Nb\n",
    "                n = Nb*(l-1)+j # n = 1,...,2Nb\n",
    "                A[m,n] = Pe[k,l]\n",
    "                \n",
    "            end\n",
    "            \n",
    "        end\n",
    "        \n",
    "    end\n",
    "                \n",
    "    return A\n",
    "    \n",
    "end"
   ]
  },
  {
   "cell_type": "markdown",
   "metadata": {
    "slideshow": {
     "slide_type": "subslide"
    }
   },
   "source": [
    "- This is a Markov chain for $\\lambda$.  The time-invariant distribution is obtained by\n",
    "\n",
    "$$\n",
    "  \\lambda'=\\lim_{t \\rightarrow \\infty} \\lambda_{0}'A^{t}.\n",
    "$$"
   ]
  },
  {
   "cell_type": "markdown",
   "metadata": {
    "slideshow": {
     "slide_type": "fragment"
    }
   },
   "source": [
    "- Or, eigenvalue and eigenvector decomposition can be used as $\\lambda=A'\\lambda$ holds."
   ]
  },
  {
   "cell_type": "code",
   "execution_count": null,
   "metadata": {
    "slideshow": {
     "slide_type": "subslide"
    }
   },
   "outputs": [],
   "source": [
    "# distribution\n",
    "function dist_iter(lambda0,A)\n",
    "\n",
    "    N = size(lambda0,1)\n",
    "    lambda1 = zeros(N)\n",
    "\n",
    "    diff = 1e+4\n",
    "    \n",
    "    while diff>1e-14\n",
    "        lambda1 = A'*lambda0\n",
    "        diff    = maximum(abs.(lambda1-lambda0))\n",
    "#         print(diff)\n",
    "        lambda0 = lambda1/sum(lambda1)\n",
    "    end\n",
    "\n",
    "    return lambda0\n",
    "    \n",
    "end"
   ]
  },
  {
   "cell_type": "markdown",
   "metadata": {
    "slideshow": {
     "slide_type": "subslide"
    }
   },
   "source": [
    "- The aggregate demand for asset is\n",
    "\n",
    "$$\n",
    "  z = \\sum_{b,e} b\\lambda(b,e).\n",
    "$$"
   ]
  },
  {
   "cell_type": "code",
   "execution_count": null,
   "metadata": {
    "slideshow": {
     "slide_type": "fragment"
    }
   },
   "outputs": [],
   "source": [
    "# the aggregate demand for asset\n",
    "# NOTE: lambda is (2*nb times 1) vector, the first nb elements are for k=0 and the second nb elements are for k=1\n",
    "z = sum(bgrid.*lambda0[1:nb]) + sum(bgrid.*lambda0[nb+1:2*nb])"
   ]
  },
  {
   "cell_type": "markdown",
   "metadata": {
    "slideshow": {
     "slide_type": "subslide"
    }
   },
   "source": [
    "## Computing the equilibrium price\n",
    "\n",
    "1. Fix $q\\geq\\beta$ and solve the household problem for a policy function and an associated stationary distribution.\n",
    "\n",
    "\n",
    "2. Check if the asset market clears. If $z = \\sum b\\lambda(b,e) > 0$, raise $q$. Otherwise, lower $q$.\n",
    "\n",
    "\n",
    "3. Iterate 1-2 until we obtain $q$ at which excess demand for loans is zero."
   ]
  },
  {
   "cell_type": "markdown",
   "metadata": {
    "slideshow": {
     "slide_type": "skip"
    }
   },
   "source": [
    "- The lower is $q$, the higher is $z$. In theory, $z=\\infty$ at $q=\\beta$. "
   ]
  },
  {
   "cell_type": "markdown",
   "metadata": {
    "slideshow": {
     "slide_type": "slide"
    }
   },
   "source": [
    "## Aiyagari model\n",
    "\n",
    "<!-- Each of households has access to a single type of asset which it can borrow or lend at a rate $q$. The households cannot borrow exceeding the limit $\\phi$.-->\n",
    "\n",
    "- Rao Aiyagari (1994) studies a version of the saving problem in which physical capital is the only asset."
   ]
  },
  {
   "cell_type": "markdown",
   "metadata": {
    "slideshow": {
     "slide_type": "fragment"
    }
   },
   "source": [
    "- The households' supply and the firm's demand are met in the asset market."
   ]
  },
  {
   "cell_type": "markdown",
   "metadata": {
    "slideshow": {
     "slide_type": "subslide"
    }
   },
   "source": [
    "## Household's problem\n",
    "\n",
    "- For given $(r,w)$, household $i$ maximizes\n",
    "\n",
    "$$\n",
    "    E_{0} \\sum_{t=0}^{\\infty} \\beta^{t} u(c_{t})\n",
    "$$\n",
    "\n",
    "subject to\n",
    "\n",
    "$$\n",
    "    c_{t} + a_{t+1} \\leq (1+r) a_{t} + w e_{t}\n",
    "$$\n",
    "\n",
    "and the borrowing constraint $a_{t+1}\\geq-b$.\n",
    "\n",
    "$c_{t}$ is consumption, $a_{t}$ is asset holding, $e_{t}$ is employment status."
   ]
  },
  {
   "cell_type": "markdown",
   "metadata": {
    "slideshow": {
     "slide_type": "fragment"
    }
   },
   "source": [
    "- $e_{t}\\in\\{e_{1},\\cdots,e_{n_{e}}\\}$ follows a Markov chain with the transition matrix $P$."
   ]
  },
  {
   "cell_type": "markdown",
   "metadata": {
    "slideshow": {
     "slide_type": "subslide"
    }
   },
   "source": [
    "- The time invariant distribution is $\\lambda(a,e)$. The aggregate supply for capital is\n",
    "\n",
    "$$\n",
    "  K = \\sum \\int a \\lambda(a,e) da.\n",
    "$$"
   ]
  },
  {
   "cell_type": "markdown",
   "metadata": {
    "slideshow": {
     "slide_type": "fragment"
    }
   },
   "source": [
    "- The aggregate employment is\n",
    "\n",
    "$$\n",
    "  N = \\pi'\\mathbf{e},\n",
    "$$\n",
    "\n",
    "where $\\pi$ is the invariant distribution associated with $P$ and $\\mathbf{e}=[e_{1},\\cdots,e_{n_{e}}]'$."
   ]
  },
  {
   "cell_type": "markdown",
   "metadata": {
    "slideshow": {
     "slide_type": "subslide"
    }
   },
   "source": [
    "## Firm\n",
    "\n",
    "- There is an aggregate production function, which determines\n",
    "\n",
    "$$\n",
    "\\begin{align}\n",
    "    r &= \\partial F(K,N)/\\partial N - \\delta, \\\\\n",
    "    w &= \\partial F(K,N)/\\partial K,\n",
    "\\end{align}\n",
    "$$\n",
    "\n",
    "where $F(K,N) = AK^{\\alpha}N^{1-\\alpha}$ and $\\alpha\\in(0,1)$."
   ]
  },
  {
   "cell_type": "markdown",
   "metadata": {
    "slideshow": {
     "slide_type": "subslide"
    }
   },
   "source": [
    "## Stationary equilibrium\n",
    "\n",
    "Definition: A stationary equilibrium is a policy function $g(a,e)$, a stationary distribution $\\lambda(a,e)$, and positive real numbers $(K,r,w)$, for which\n",
    "\n",
    "(a) Given $(r,w)$, the policy function solves the household's optimum problem;\n",
    "\n",
    "(b) The probability distribution $\\lambda(a,e)$ is the invariant distribution of the Markov chain on $(a,e)$ induced by the Markov chain on $e$ and the optimal policy $g(a,e)$;\n",
    "\n",
    "(c) The asset market clears\n",
    "$$\n",
    "    K = \\sum_{a,e} \\lambda(a,e)g(a,e).\n",
    "$$\n",
    "\n",
    "(d) The prices $(r,w)$ satisfy\n",
    "$$\n",
    "\\begin{align}\n",
    "    r &= \\partial F(K,N)/\\partial N - \\delta, \\\\\n",
    "    w &= \\partial F(K,N)/\\partial K.\n",
    "\\end{align}\n",
    "$$"
   ]
  },
  {
   "cell_type": "markdown",
   "metadata": {
    "slideshow": {
     "slide_type": "subslide"
    }
   },
   "source": [
    "- Let $\\lambda=\\beta^{-1}-1$. $Ea(r)$ is the aggregate supply for capital and $K(r)$ is the aggregate demand for capital.\n",
    "  - The demand exceeds the supply at $r=r_{1}$ and the supply exceeds the demand at $r=r_{2}$.\n",
    "  - The supply is infinite at $r=\\lambda$.\n",
    "  - The demand and the supply are met at $r^{*}<\\lambda$, which implies $\\beta(1+r^{*})<1$.\n",
    "<br>\n",
    "<div align=\"center\">\n",
    "<img src=\"./aiyagari_fig.png\",width=\"600\",height=\"400\">\n",
    "</div>"
   ]
  }
 ],
 "metadata": {
  "@webio": {
   "lastCommId": null,
   "lastKernelId": null
  },
  "celltoolbar": "Slideshow",
  "kernelspec": {
   "display_name": "Julia 1.6.1",
   "language": "julia",
   "name": "julia-1.6"
  },
  "language_info": {
   "file_extension": ".jl",
   "mimetype": "application/julia",
   "name": "julia",
   "version": "1.6.1"
  }
 },
 "nbformat": 4,
 "nbformat_minor": 4
}
