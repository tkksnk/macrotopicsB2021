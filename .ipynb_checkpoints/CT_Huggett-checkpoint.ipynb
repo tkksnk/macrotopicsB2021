{
 "cells": [
  {
   "cell_type": "markdown",
   "metadata": {
    "slideshow": {
     "slide_type": "slide"
    }
   },
   "source": [
    "# Huggett in Continuous Time\n",
    "<br>\n",
    "<div style=\"text-align: center;\">\n",
    "July 2021 Takeki Sunakawa\n",
    "<br>\n",
    "<div style=\"text-align: center;\">    \n",
    "Hitotsubashi University"
   ]
  },
  {
   "cell_type": "markdown",
   "metadata": {
    "slideshow": {
     "slide_type": "slide"
    }
   },
   "source": [
    "# Introduction\n",
    "\n",
    "- I will present a way to solve Huggett economy in continuous time.\n",
    "\n",
    "\n",
    "- This note is based on Soyoung Lee's (Bank of Canada) lecture note and Ben Moll's (LSE) MATLAB code. Achdou et al. (2020) is the most important reference."
   ]
  },
  {
   "cell_type": "markdown",
   "metadata": {
    "slideshow": {
     "slide_type": "slide"
    }
   },
   "source": [
    "## Huggett (1993): Saving problem\n",
    "\n",
    "$$\n",
    "  v(a_{0},z_{0},0) \\equiv \\max_{c(s)} \\mathbb{E} \\int_{0}^{\\infty} e^{-\\rho s}u(c(s)) ds\n",
    "$$\n",
    "subject to\n",
    "\n",
    "$$\n",
    "  \\dot{a}(s) = r(s)a(s) + z(s) - c(s), \\quad a_{0} \\text{ is given,} \\\\\n",
    "  a \\geq \\underline{a}\n",
    "$$\n",
    "\n",
    "where\n",
    "- $a$: asset\n",
    "- $c$: consumption\n",
    "- $u(c)$: utility\n",
    "- $r$: interest rate\n",
    "- $z$: wages, which follow <b>a Poisson process</b> with intensity $\\lambda$ (It can be extended to more general stochastic process, but the knowledge of stochastic calculus is required)"
   ]
  },
  {
   "cell_type": "markdown",
   "metadata": {
    "slideshow": {
     "slide_type": "subslide"
    }
   },
   "source": [
    "## Poisson process\n",
    "\n",
    "- Continuous-time version of Bernoulli process (a sequence of binary random variables)\n",
    "\n",
    "\n",
    "- A stochastic variable $x(t)$ takes the value of 0 (no arrival) or 1 (arrival) at each $t$. \n",
    "\n",
    "\n",
    "- The probability of $k$ arrivals between $t$ and $t+\\tau$ is\n",
    "\n",
    "$$\n",
    "  p(k,\\tau) = \\frac{(\\lambda \\tau)^{k} e^{-\\lambda \\tau}}{k!}\n",
    "$$\n",
    "\n",
    "- For a very small time interval between $t$ and $t+dt$, the probablity of $k$ arrivals is\n",
    "\n",
    "$$\n",
    "  p(k,dt) = \\begin{cases}\n",
    "  1-\\lambda dt & \\text{ if } k=0 \\\\\n",
    "  \\lambda dt & \\text{ if } k=1 \\\\\n",
    "  0 & \\text{ if } k>1\n",
    "  \\end{cases}\n",
    "$$"
   ]
  },
  {
   "cell_type": "markdown",
   "metadata": {
    "slideshow": {
     "slide_type": "subslide"
    }
   },
   "source": [
    "## Deriving HJB\n",
    "\n",
    "- Rearrange\n",
    "\n",
    "$$\n",
    "  0 = \\max_{c(s)} \\mathbb{E} \\big\\{ \\int_{t}^{t+dt} e^{-\\rho s}u(c(s)) ds + v(a(t+dt),z(t+dt),t+dt) - v(a(t),z(t),t) \\big\\}\n",
    "$$\n",
    "\n",
    "- Divide by $dt$\n",
    "\n",
    "\\begin{align*}\n",
    "  & 0 = \\max_{c(s)} \\mathbb{E} \\big\\{ \\frac{1}{dt}\\int_{t}^{t+dt} e^{-\\rho s}u(c(s)) ds + \\frac{1}{dt}\\big(v(a(t+dt),z(t+dt),t+dt) - v(a(t),z(t),t)\\big) \\big\\} \\\\\n",
    "  \\Leftrightarrow & 0 = \\max_{c(t)} e^{-\\rho t}u(c(t)) + \\frac{1}{dt}\\big(\\mathbb{E}v(a(t+dt),z(t+dt),t+dt) - v(a(t),z(t),t)\\big) \\\\\n",
    "\\end{align*}"
   ]
  },
  {
   "cell_type": "markdown",
   "metadata": {
    "slideshow": {
     "slide_type": "subslide"
    }
   },
   "source": [
    "- Using $v(a,z) \\equiv v(a,z,0)$ and $v(a,z,t) = e^{-\\rho t}v(a,z)$ <!--, and $v_{t}(a,z,t) = -\\rho e^{-\\rho t}v(a,z)$-->\n",
    "\n",
    "$$\n",
    "  0 = \\max_{c(t)} e^{-\\rho t}u(c(t)) + \\frac{1}{dt}\\big(e^{-\\rho t+dt}\\color{blue}{\\mathbb{E}v(a(t+dt),z(t+dt))} - e^{-\\rho t}v(a(t),z(t))\\big)\n",
    "$$\n",
    "\n",
    "- If $z(t)=z$, \n",
    "\n",
    "$$\n",
    "  \\color{blue}{\\mathbb{E}v(a(t+dt),z(t+dt)) = \\lambda dt v(a(t+dt),z') + (1-\\lambda dt) v(a(t+dt),z)} \n",
    "$$\n",
    "\n",
    "$\\lambda dt$ is the arrival rate of different technology $z'$ between $t$ and $t+dt$."
   ]
  },
  {
   "cell_type": "markdown",
   "metadata": {
    "slideshow": {
     "slide_type": "subslide"
    }
   },
   "source": [
    "- Then,\n",
    "\n",
    "\\begin{align*}\n",
    "  & 0 = \\max_{c(t)} e^{-\\rho t}u(c(t)) \\\\\n",
    "  & + \\frac{1}{dt}\\big(e^{-\\rho t+dt}\\big(\\lambda dt v(a(t+dt),z') + (1-\\lambda dt) v(a(t+dt),z)\\big) - e^{-\\rho t}v(a(t),z)\\big) \\\\\n",
    "  \\Leftrightarrow & 0 = \\max_{c(t)} e^{-\\rho t}u(c(t)) \\\\\n",
    "  & + \\frac{1}{dt}\\big(e^{-\\rho t+dt}\\lambda dt \\big(v(a(t+dt),z')-v(a(t+dt),z)\\big) + e^{-\\rho t+dt}v(a(t+dt),z) - e^{-\\rho t}v(a(t),z)\\big) \\\\\n",
    "  \\Leftrightarrow & 0 = \\max_{c(t)} e^{-\\rho t}u(c(t)) \\\\\n",
    "  & + e^{-\\rho t+dt}\\lambda \\big(v(a(t+dt),z')-v(a(t+dt),z)\\big) + \\color{blue}{\\frac{1}{dt}\\big(e^{-\\rho t+dt}v(a(t+dt),z) - e^{-\\rho t}v(a(t),z)\\big)}\n",
    "\\end{align*}"
   ]
  },
  {
   "cell_type": "markdown",
   "metadata": {
    "slideshow": {
     "slide_type": "subslide"
    }
   },
   "source": [
    "- As $dt \\rightarrow 0$,\n",
    "\n",
    "$$\n",
    "  0 = \\max_{c(t)} e^{-\\rho t}u(c(t)) + e^{-\\rho t}\\lambda \\big(v(a(t),z')-v(a(t),z)\\big) + \\color{blue}{e^{-\\rho t}v_{a}(a(t),z)\\dot{a}(t) - \\rho e^{-\\rho t}v(a(t),z)}\n",
    "$$\n",
    "\n",
    "Note that $\\frac{df(a(t),t)}{dt} = \\frac{df}{da}\\frac{da}{dt} + \\frac{df}{dt}$\n",
    "\n",
    "- Drop $t, e^{-\\rho t}$ and rearrange\n",
    "\n",
    "$$\n",
    "  \\rho v(a,z) = \\max_{c} u(c) + \\lambda \\big(v(a,z')-v(a,z)\\big) + v_{a}(a,z)\\dot{a}\n",
    "$$"
   ]
  },
  {
   "cell_type": "markdown",
   "metadata": {
    "slideshow": {
     "slide_type": "slide"
    }
   },
   "source": [
    "# Numerical solution\n",
    "\n",
    "- Advantages relative to discrete-time methods (Achdou et al., 2020)\n",
    "\n",
    "1. The borrowing constraint never binds in the interior of the state space, $a>\\underline{a}$:\n",
    "\n",
    "$$\n",
    "  c = (u')^{-1}(v_{a}(a,z))\n",
    "$$\n",
    "\n",
    "2. The FOC is static so as to sidestep costly root-finding problems\n",
    "\n",
    "3. Sparsity of the transition matrix\n",
    "\n",
    "4. There is a tight link between solving the HJB and KF \"kill two birds with one stone\"\n"
   ]
  },
  {
   "cell_type": "markdown",
   "metadata": {
    "slideshow": {
     "slide_type": "subslide"
    }
   },
   "source": [
    "- The borrowing constraint gives rise to a state constraint boundary condition\n",
    "\n",
    "$$\n",
    "  v'_{j}(\\underline{a}) \\geq u'(z_{j}+r\\underline{a}), \\quad j=1,2\n",
    "$$\n",
    "\n",
    "- which implies\n",
    "\n",
    "$$\n",
    "  s_{j}(\\underline{a}) = z_{j}+r\\underline{a} - c_{j}(\\underline{a}) \\geq 0\n",
    "$$\n",
    "\n",
    "together with $c_{j}(\\underline{a}) = u'^{-1}(v'_{j}(\\underline{a}))$\n",
    "\n",
    "- It ensures that the borrowing costraint is never violated"
   ]
  },
  {
   "cell_type": "markdown",
   "metadata": {
    "slideshow": {
     "slide_type": "subslide"
    }
   },
   "source": [
    "- We solve on discretized grids: $\\mathbf{A} = \\{a_{1},...,a_{n_{a}}\\}$ and $\\mathbf{Z}=\\{z_{1},z_{2}\\}$.\n",
    "  - Assume the intensity of income shock $\\lambda_{j}$ depends on the level of income $z_{j}$.\n",
    "\n",
    "- Then we have\n",
    "\n",
    "$$\n",
    "  \\rho v(a_{i},z_{j}) = \\max_{c} u(c) + v_{a}(a_{i},z_{j})(r a_{i} + z_{j} - c) + \\lambda_{j} \\big(v(a_{i},z_{-j})-v(a_{i},z_{j})\\big)\n",
    "$$\n",
    "\n",
    "- From FOC, $c = u'^{-1}(v_{a}(a,z))$ holds\n",
    "\n",
    "- How do we approximate $v_{a}(a_{i},z_{j})$ at each $a_{i}\\in\\mathbf{A}$ and $z_{j}\\in\\mathbf{Z}$?\n"
   ]
  },
  {
   "cell_type": "code",
   "execution_count": 8,
   "metadata": {
    "slideshow": {
     "slide_type": "subslide"
    }
   },
   "outputs": [],
   "source": [
    "using SparseArrays\n",
    "using LinearAlgebra\n",
    "\n",
    "# parameters\n",
    "σ = 1.2 #2.0   # CRRA utility with parameter s\n",
    "r = 0.035 #0.03  # interest rate\n",
    "ρ = 0.05  # discount rate\n",
    "z1 = .1\n",
    "z2 = .2\n",
    "z = [z1 z2]\n",
    "λ1 = 1.5 #0.02 # arrival rate when z=z1\n",
    "λ2 = 1.0 #0.03 # arrival rate when z=z2\n",
    "λ = [λ1 λ2]\n",
    "\n",
    "# number of grid points\n",
    "na = 500\n",
    "# set up the grid\n",
    "amin = -0.02\n",
    "amax = 3.0 # 2.0\n",
    "a = collect(range(amin,stop=amax,length=na))\n",
    "# distance between each grid\n",
    "da = (amax-amin)/(na-1)\n",
    "\n",
    "maxit = 20000 # maximum number of iterations\n",
    "crit  = 1e-6; # convergence criteria"
   ]
  },
  {
   "cell_type": "markdown",
   "metadata": {
    "slideshow": {
     "slide_type": "subslide"
    }
   },
   "source": [
    "- Finite difference methods approximate $v_{a}(a_{i},z_{j})$ by discretizing the derivatives with finite differences\n",
    "\n",
    "- *Forward*: \n",
    "$$\n",
    "v_{a,i,j}^{(F)} \\equiv v_{a}^{(F)}(a_{i,j}) = \\frac{v_{i+1,j}-v_{i,j}}{\\Delta a}\n",
    "$$\n",
    "\n",
    "- *Backward*: \n",
    "$$\n",
    "v_{a,i,j}^{(B)} \\equiv v_{a}^{(B)}(a_{i,j}) = \\frac{v_{i,j}-v_{i-1,j}}{\\Delta a}\n",
    "$$\n",
    "\n",
    "where $v_{i,j} = v(a_{i},z_{j})$ and $v_{a,i,j} = v_{a}(a_{i},z_{j})$"
   ]
  },
  {
   "cell_type": "markdown",
   "metadata": {
    "slideshow": {
     "slide_type": "skip"
    }
   },
   "source": [
    "Note that (graph)\n",
    "\n",
    "\n",
    "- From concavity of $v(k)$, \n",
    "\n",
    "$$\n",
    "v_{k,i}^{(F)}<v_{k,i}^{(B)}\n",
    "$$\n",
    "- Then, as $c=\\big(v_{k}(k)\\big)^{-1/\\sigma}$, \n",
    "\n",
    "$$\n",
    "c_{i}^{(F)}>c_{i}^{(B)}\n",
    "$$\n",
    "- Also, as $s=f(k)-{\\delta}k-c$, \n",
    "\n",
    "$$\n",
    "s_{i}^{(F)}<s_{i}^{(B)}\n",
    "$$ "
   ]
  },
  {
   "cell_type": "markdown",
   "metadata": {
    "slideshow": {
     "slide_type": "skip"
    }
   },
   "source": [
    "- Which one to use? **Upwind scheme**\n",
    "\n",
    "- When $s_{i,j}^{(F)} = r a_{i} + z_{j} - \\big(v_{a,i,j}^{(F)}\\big)^{-1/\\sigma} > 0$, set $v_{a,i,j} = v_{a,i,j}^{(F)}$\n",
    "<!-- $$\n",
    "v_{k,i} = v_{k,i}^{(F)} = \\frac{v_{i+1}-v_{i}}{\\Delta k}\n",
    "$$\n",
    " -->\n",
    "- When $s_{i,j}^{(B)} = r a_{i} + z_{j} - \\big(v_{a,i,j}^{(B)}\\big)^{-1/\\sigma} < 0$, set $v_{a,i,j} = v_{a,i,j}^{(B)}$ \n",
    "<!-- $$\n",
    "v_{k,i} = v_{k,i}^{(B)} = \\frac{v_{i}-v_{i-1}}{\\Delta k}\n",
    "$$ -->"
   ]
  },
  {
   "cell_type": "markdown",
   "metadata": {
    "slideshow": {
     "slide_type": "subslide"
    }
   },
   "source": [
    "- We can write a discretized HJB for each $k_{i}$\n",
    "\n",
    "\\begin{align*}\n",
    "  \\rho v(a_{i},z_{j}) &= u(c_{i,j}) + v_{a}(a_{i},z_{j})s_{i,j} + \\color{magenta}{\\lambda_{j} \\big(v(a_{i},z_{-j})-v(a_{i},z_{j})\\big)}, \\\\\n",
    "  &= u(c_{i,j}) + v_{a,i,j}^{(F)} s_{i,j}^{(F)} \\mathbb{1}_{s_{i,j}^{(F)}>0} + v_{a,i,j}^{(B)} s_{i,j}^{(B)} \\mathbb{1}_{s_{i,j}^{(B)}<0} + \\color{magenta}{\\lambda_{j} v_{i,-j} - \\lambda_{j} v_{i,j}}\n",
    "\\end{align*}\n",
    "\n",
    "where\n",
    "\n",
    "$$\n",
    "  v_{a,i,j}^{(F)} = \\frac{v_{i+1,j}-v_{i,j}}{\\Delta a}, \\quad v_{a,i,j}^{(B)} = \\frac{v_{i,j}-v_{i-1,j}}{\\Delta a}\n",
    "$$\n",
    "\n",
    "- <font color=\"blue\">Boundaries: At $a_{1}$, set $v_{a,1,j}^{(B)} = u'(r a_{1} + z_{j})$ for $j=1,2$</font>"
   ]
  },
  {
   "cell_type": "markdown",
   "metadata": {
    "slideshow": {
     "slide_type": "skip"
    }
   },
   "source": [
    "The optimal level of consumption is set to\n",
    "\n",
    "$$\n",
    "  c_{i} = u'^{-1}\\big( v_{k,i}^{(F)}\\mathbb{1}_{s_{i}^{(F)}>0} + v_{k,i}^{(B)}\\mathbb{1}_{s_{i}^{(B)}<0} + \\color{blue}{\\bar{v}_{k,i}\\mathbb{1}_{s_{i}^{(F)}\\leq0}\\mathbb{1}_{s_{i}^{(B)}\\geq0}}\\big)\n",
    "$$\n",
    "\n",
    "where <font color=\"blue\">$\\bar{v}_{k,i}=u'(f(k_{i}) - \\delta k_{i})$ (steady state consumption)</font>"
   ]
  },
  {
   "cell_type": "code",
   "execution_count": null,
   "metadata": {
    "slideshow": {
     "slide_type": "subslide"
    }
   },
   "outputs": [],
   "source": [
    "function vfict_explicit_nomatrix(v0,a,z,σ,ρ,maxit,crit,Delta)\n",
    "\n",
    "    na = size(a,1)\n",
    "    amin = minimum(a)\n",
    "    amax = maximum(a)\n",
    "    da = (amax-amin)/(na-1)\n",
    "    \n",
    "    # for iteration\n",
    "    dVf = zeros(na,2) # forward difference\n",
    "    dVb = zeros(na,2) # backward difference\n",
    "    c   = zeros(na,2) # optimal consumption (from dV)\n",
    "    AT  = zeros(2*na,2*na)\n",
    "\n",
    "    # (na,nz) matrix\n",
    "    aa = [a a]\n",
    "    zz = ones(na,1)*z\n",
    "\n",
    "#     Aswitch = [-sparse(I,na,na)*λ[1] sparse(I,na,na)*λ[1]; sparse(I,na,na)*λ[2] -sparse(I,na,na)*λ[2]]\n",
    "\n",
    "    v = v0 # new v\n",
    "    V = v  # old v\n",
    "\n",
    "    dist  = zeros(maxit) # distance between old and new value functions at each iteration\n",
    "\n",
    "    # MAIN LOOP\n",
    "    for n in 1:maxit\n",
    "\n",
    "        # forward difference\n",
    "        dVf[1:na-1,:] = (V[2:na,:]-V[1:na-1,:])/da\n",
    "    #     dVf[na,:] = (z .+ r.*amax).^(-σ) # state constraint, for stability with implicit method?\n",
    "        dVf[na,:] = zeros(1,2) # will never be used (as s<0)\n",
    "        # backward difference\n",
    "        dVb[2:na,:] = (V[2:na,:]-V[1:na-1,:])/da\n",
    "        dVb[1,:] = (z .+ r.*amin).^(-σ) # state constraint, for stability with implicit method?\n",
    "    #     dVb[1] = zeros(1,2) # will never be used (as s>0)\n",
    "\n",
    "        # consumption and savings with forward difference\n",
    "        cf = dVf.^(-1/σ)\n",
    "        sf = zz + r.*aa - cf\n",
    "        # consumption and savings with backward difference\n",
    "        cb = dVb.^(-1/σ)\n",
    "        sb = zz + r.*aa - cb\n",
    "        # consumption and derivative of value function at steady state (used for c only)\n",
    "        c0  = zz + r.*aa\n",
    "        dV0 = c0.^(-σ)\n",
    "\n",
    "        # dV_upwind makes a choice of forward or backward differences based on\n",
    "        # the sign of the drift    \n",
    "        If = sf .> 0       # below steady state\n",
    "        Ib = sb .< 0       # above steady state\n",
    "        I0 = (1.0.-If.-Ib) # at steady state\n",
    "\n",
    "        # make sure the right approximations are used at the boundaries\n",
    "    #     # at ik = 1, s>0 -> f is used\n",
    "    #     Ib[1] = 0 \n",
    "    #     If[1] = 1\n",
    "    #     # at ik = nk, s<0 -> b is used\n",
    "        Ib[na,:] = ones(1,2)\n",
    "        If[na,:] = zeros(1,2)\n",
    "\n",
    "        dV_Upwind = dVf.*If + dVb.*Ib + dV0.*I0 # important to include third term    \n",
    "        c = dV_Upwind.^(-1.0/σ)\n",
    "        u = c.^(1.0-σ)/(1.0-σ)\n",
    "\n",
    "        # explicit method, without sparse matrix\n",
    "        V_switch = [V[:,2] V[:,1]]\n",
    "        Vchange = u + dV_Upwind.*(zz + r.*aa - c) + ones(na,1)*λ.*(V_switch - V)  - ρ.*V\n",
    "        Delta = .9*da/maximum(z2 .+ r.*a)\n",
    "        v = V + Delta*Vchange # new v\n",
    "        V = v\n",
    "\n",
    "        dist[n] = maximum(abs.(Vchange))\n",
    "        if (mod(n,10)==0)\n",
    "            println([n,dist[n]])\n",
    "        end\n",
    "        if dist[n]<crit\n",
    "            println(\"Value Function Converged, Iteration = \")\n",
    "            println(n)\n",
    "            break\n",
    "        end\n",
    "    end\n",
    "    \n",
    "    return v, c\n",
    "    \n",
    "end"
   ]
  },
  {
   "cell_type": "markdown",
   "metadata": {
    "slideshow": {
     "slide_type": "subslide"
    }
   },
   "source": [
    "## Matrix form\n",
    "\n",
    "By substituting $v_{a,i,j}^{(F)}$ and $v_{a,i,j}^{(B)}$ into (1), we have\n",
    "\n",
    "\\begin{align*}\n",
    "  \\rho v(a_{i},z_{j}) &= u(c_{i,j}) + v_{a,i,j}^{(F)} s_{i,j}^{(F)} \\mathbb{1}_{s_{i,j}^{(F)}>0} + v_{a,i,j}^{(B)} s_{i,j}^{(B)} \\mathbb{1}_{s_{i,j}^{(B)}<0} + \\color{magenta}{\\lambda_{j} v_{i,-j} - \\lambda_{j} v_{i,j}}, \\\\\n",
    "  &= u(c_{i,j}) + \\frac{v_{i+1,j}-v_{i,j}}{\\Delta a} s_{i,j}^{(F)} \\mathbb{1}_{s_{i,j}^{(F)}>0} + \\frac{v_{i,j}-v_{i-1,j}}{\\Delta a} s_{i,j}^{(B)} \\mathbb{1}_{s_{i,j}^{(B)}<0} + \\color{magenta}{\\lambda_{j} v_{i,-j} - \\lambda_{j} v_{i,j}}, \\\\\n",
    "  &= u(c_{i,j}) + \\alpha_{i,j} v_{i-1,j} + \\beta_{i,j} v_{i,j} + \\xi_{i,j} v_{i+1,j} + \\color{magenta}{\\lambda_{j} v_{i,-j}}\n",
    "\\end{align*}\n",
    "\n",
    "where\n",
    "\n",
    "$$\n",
    "  \\alpha_{i,j} = \\frac{-s_{i,j}^{(B)} \\mathbb{1}_{s_{i,j}^{(B)}<0}}{\\Delta a}, \\quad \\beta_{i,j} = \\frac{-s_{i,j}^{(F)} \\mathbb{1}_{s_{i,j}^{(F)}>0} + s_{i,j}^{(B)} \\mathbb{1}_{s_{i,j}^{(B)}<0}}{\\Delta a} \\color{magenta}{- \\lambda_{j}}, \\quad \\xi_{i,j} = \\frac{s_{i,j}^{(F)} \\mathbb{1}_{s_{i,j}^{(F)}>0}}{\\Delta a}\n",
    "$$"
   ]
  },
  {
   "cell_type": "markdown",
   "metadata": {
    "slideshow": {
     "slide_type": "subslide"
    }
   },
   "source": [
    "It can be stacked into a matrix form: For example, $n_k=4$ and $n_z$ = 2\n",
    "\n",
    "$$\n",
    "    \\rho \\left[\n",
    "    \\begin{array}{c}\n",
    "    v_{1,1}\\\\\n",
    "    v_{2,1}\\\\\n",
    "    v_{3,1}\\\\\n",
    "    v_{4,1}\\\\\n",
    "    v_{1,2}\\\\\n",
    "    v_{2,2}\\\\\n",
    "    v_{3,2}\\\\\n",
    "    v_{4,2}\n",
    "    \\end{array} \\right] = \n",
    "    \\left[\n",
    "    \\begin{array}{c}\n",
    "    u(c_{1,1})\\\\\n",
    "    u(c_{2,1})\\\\\n",
    "    u(c_{3,1})\\\\\n",
    "    u(c_{4,1})\\\\\n",
    "    u(c_{1,2})\\\\\n",
    "    u(c_{2,2})\\\\\n",
    "    u(c_{3,2})\\\\\n",
    "    u(c_{4,2})\n",
    "    \\end{array} \\right] +\n",
    "    \\left[\n",
    "    \\begin{array}{cccccccc}\n",
    "    \\beta_{1,1} & \\xi_{1,1} & 0 & 0 & \\lambda_{1} & 0 & 0 & 0\\\\\n",
    "    \\alpha_{2,1} & \\beta_{2,1} & \\xi_{2,1} & 0 & 0 & \\lambda_{1} & 0 & 0 \\\\\n",
    "    0 & \\alpha_{3,1} & \\beta_{3,1} & \\xi_{3,1} & 0 & 0 & \\lambda_{1} & 0 \\\\\n",
    "    0 & 0 & \\alpha_{4,1} & \\beta_{4,1} & 0 & 0 & 0 & \\lambda_{1} \\\\\n",
    "    \\lambda_{2} & 0 & 0 & 0 & \\beta_{1,2} & \\xi_{1,2} & 0 & 0 \\\\\n",
    "    0 & \\lambda_{2} & 0 & 0 & \\alpha_{2,2} & \\beta_{2,2} & \\xi_{2,2} & 0 \\\\\n",
    "    0 & 0 & \\lambda_{2} & 0 & 0 & \\alpha_{3,2} & \\beta_{3,2} & \\xi_{3,2} \\\\\n",
    "    0 & 0 & 0 & \\lambda_{2} & 0 & 0 & \\alpha_{4,2} & \\beta_{4,2}\n",
    "    \\end{array}\n",
    "    \\right]\n",
    "    \\left[\n",
    "    \\begin{array}{c}\n",
    "    v_{1,1}\\\\\n",
    "    v_{2,1}\\\\\n",
    "    v_{3,1}\\\\\n",
    "    v_{4,1}\\\\\n",
    "    v_{1,2}\\\\\n",
    "    v_{2,2}\\\\\n",
    "    v_{3,2}\\\\\n",
    "    v_{4,2}\n",
    "    \\end{array} \\right]\n",
    "$$"
   ]
  },
  {
   "cell_type": "markdown",
   "metadata": {
    "slideshow": {
     "slide_type": "subslide"
    }
   },
   "source": [
    "Or\n",
    "\n",
    "$$\n",
    "  \\rho \\mathbf{v} = \\mathbf{u} + \\mathbf{A}\\mathbf{v}\n",
    "$$\n",
    "\n",
    "$\\mathbf{A}$ is a sparse matrix (graph).\n",
    "\n",
    "- Solve the system of equations using explicit or implicit method."
   ]
  },
  {
   "cell_type": "code",
   "execution_count": null,
   "metadata": {
    "slideshow": {
     "slide_type": "subslide"
    }
   },
   "outputs": [],
   "source": [
    "function vfict_explicit(v0,a,z,σ,ρ,maxit,crit,Delta)\n",
    "\n",
    "    na = size(a,1)\n",
    "    amin = minimum(a)\n",
    "    amax = maximum(a)\n",
    "    da = (amax-amin)/(na-1)\n",
    "    \n",
    "    # for iteration\n",
    "    dVf = zeros(na,2) # forward difference\n",
    "    dVb = zeros(na,2) # backward difference\n",
    "    c   = zeros(na,2) # optimal consumption (from dV)\n",
    "    AT  = zeros(2*na,2*na)\n",
    "\n",
    "    # (na,nz) matrix\n",
    "    aa = [a a]\n",
    "    zz = ones(na,1)*z\n",
    "\n",
    "    Aswitch = [-sparse(I,na,na)*λ[1] sparse(I,na,na)*λ[1]; sparse(I,na,na)*λ[2] -sparse(I,na,na)*λ[2]]\n",
    "\n",
    "    v = v0 # new v\n",
    "    V = v  # old v\n",
    "\n",
    "    dist  = zeros(maxit) # distance between old and new value functions at each iteration\n",
    "\n",
    "    # MAIN LOOP\n",
    "    for n in 1:maxit\n",
    "\n",
    "        # forward difference\n",
    "        dVf[1:na-1,:] = (V[2:na,:]-V[1:na-1,:])/da\n",
    "    #     dVf[na,:] = (z .+ r.*amax).^(-σ) # state constraint, for stability with implicit method?\n",
    "        dVf[na,:] = zeros(1,2) # will never be used (as s<0)\n",
    "        # backward difference\n",
    "        dVb[2:na,:] = (V[2:na,:]-V[1:na-1,:])/da\n",
    "        dVb[1,:] = (z .+ r.*amin).^(-σ) # state constraint, for stability with implicit method?\n",
    "    #     dVb[1] = zeros(1,2) # will never be used (as s>0)\n",
    "\n",
    "        # consumption and savings with forward difference\n",
    "        cf = dVf.^(-1/σ)\n",
    "        sf = zz + r.*aa - cf\n",
    "        # consumption and savings with backward difference\n",
    "        cb = dVb.^(-1/σ)\n",
    "        sb = zz + r.*aa - cb\n",
    "        # consumption and derivative of value function at steady state (used for c only)\n",
    "        c0  = zz + r.*aa\n",
    "        dV0 = c0.^(-σ)\n",
    "\n",
    "        # dV_upwind makes a choice of forward or backward differences based on\n",
    "        # the sign of the drift    \n",
    "        If = sf .> 0       # below steady state\n",
    "        Ib = sb .< 0       # above steady state\n",
    "        I0 = (1.0.-If.-Ib) # at steady state\n",
    "\n",
    "        # make sure the right approximations are used at the boundaries\n",
    "    #     # at ik = 1, s>0 -> f is used\n",
    "    #     Ib[1] = 0 \n",
    "    #     If[1] = 1\n",
    "    #     # at ik = nk, s<0 -> b is used\n",
    "        Ib[na,:] = ones(1,2)\n",
    "        If[na,:] = zeros(1,2)\n",
    "\n",
    "        dV_Upwind = dVf.*If + dVb.*Ib + dV0.*I0 # important to include third term    \n",
    "        c = dV_Upwind.^(-1.0/σ)\n",
    "        u = c.^(1.0-σ)/(1.0-σ)\n",
    "\n",
    "        # CONSTRUCT MATRIX\n",
    "        X = -sb.*Ib/da\n",
    "        Y = -sf.*If/da + sb.*Ib/da\n",
    "        Z = sf.*If/da\n",
    "\n",
    "        A1 = spdiagm(na,na,[0 => Y[1:na,1]]...) + spdiagm(na,na,[-1 => X[2:na,1]]...) + spdiagm(na,na,[1 => Z[1:na-1,1]]...)\n",
    "        A2 = spdiagm(na,na,[0 => Y[1:na,2]]...) + spdiagm(na,na,[-1 => X[2:na,2]]...) + spdiagm(na,na,[1 => Z[1:na-1,2]]...)\n",
    "        A = [A1 spzeros(na,na); spzeros(na,na) A2] + Aswitch\n",
    "\n",
    "        # explicit method, with sparse matrix\n",
    "        u_stacked = [u[:,1]; u[:,2]]\n",
    "        V_stacked = [V[:,1]; V[:,2]]\n",
    "        v_stacked = Delta*(u_stacked + A*V_stacked - ρ*V_stacked) + V_stacked # new v\n",
    "        v = [v_stacked[1:na] v_stacked[na+1:2*na]]\n",
    "        Vchange = V - v\n",
    "        V = v\n",
    "\n",
    "        dist[n] = maximum(abs.(Vchange))\n",
    "        if (mod(n,10)==0)\n",
    "            println([n,dist[n]])\n",
    "        end\n",
    "        if dist[n]<crit\n",
    "            println(\"Value Function Converged, Iteration = \")\n",
    "            println(n)\n",
    "            AT = A'\n",
    "            break\n",
    "        end\n",
    "    end\n",
    "    \n",
    "    return v, c, AT\n",
    "    \n",
    "end"
   ]
  },
  {
   "cell_type": "code",
   "execution_count": 2,
   "metadata": {
    "slideshow": {
     "slide_type": "subslide"
    }
   },
   "outputs": [
    {
     "data": {
      "text/plain": [
       "vfict_implicit (generic function with 1 method)"
      ]
     },
     "execution_count": 2,
     "metadata": {},
     "output_type": "execute_result"
    }
   ],
   "source": [
    "function vfict_implicit(v0,a,z,σ,ρ,maxit,crit,Delta)\n",
    "\n",
    "    na = size(a,1)\n",
    "    amin = minimum(a)\n",
    "    amax = maximum(a)\n",
    "    da = (amax-amin)/(na-1)\n",
    "    \n",
    "    # for iteration\n",
    "    dVf = zeros(na,2) # forward difference\n",
    "    dVb = zeros(na,2) # backward difference\n",
    "    c   = zeros(na,2) # optimal consumption (from dV)\n",
    "    AT  = zeros(2*na,2*na)\n",
    "\n",
    "    # (na,nz) matrix\n",
    "    aa = [a a]\n",
    "    zz = ones(na,1)*z\n",
    "\n",
    "    Aswitch = [-sparse(I,na,na)*λ[1] sparse(I,na,na)*λ[1]; sparse(I,na,na)*λ[2] -sparse(I,na,na)*λ[2]]\n",
    "\n",
    "    v = v0 # new v\n",
    "    V = v  # old v\n",
    "\n",
    "    dist  = zeros(maxit) # distance between old and new value functions at each iteration\n",
    "\n",
    "    # MAIN LOOP\n",
    "    for n in 1:maxit\n",
    "\n",
    "        # forward difference\n",
    "        dVf[1:na-1,:] = (V[2:na,:]-V[1:na-1,:])/da\n",
    "    #     dVf[na,:] = (z .+ r.*amax).^(-σ) # state constraint, for stability with implicit method?\n",
    "        dVf[na,:] = zeros(1,2) # will never be used (as s<0)\n",
    "        # backward difference\n",
    "        dVb[2:na,:] = (V[2:na,:]-V[1:na-1,:])/da\n",
    "        dVb[1,:] = (z .+ r.*amin).^(-σ) # state constraint, for stability with implicit method?\n",
    "    #     dVb[1] = zeros(1,2) # will never be used (as s>0)\n",
    "\n",
    "        # consumption and savings with forward difference\n",
    "        cf = dVf.^(-1/σ)\n",
    "        sf = zz + r.*aa - cf\n",
    "        # consumption and savings with backward difference\n",
    "        cb = dVb.^(-1/σ)\n",
    "        sb = zz + r.*aa - cb\n",
    "        # consumption and derivative of value function at steady state (used for c only)\n",
    "        c0  = zz + r.*aa\n",
    "        dV0 = c0.^(-σ)\n",
    "\n",
    "        # dV_upwind makes a choice of forward or backward differences based on\n",
    "        # the sign of the drift    \n",
    "        If = sf .> 0       # below steady state\n",
    "        Ib = sb .< 0       # above steady state\n",
    "        I0 = (1.0.-If.-Ib) # at steady state\n",
    "\n",
    "        # make sure the right approximations are used at the boundaries\n",
    "    #     # at ik = 1, s>0 -> f is used\n",
    "    #     Ib[1] = 0 \n",
    "    #     If[1] = 1\n",
    "    #     # at ik = nk, s<0 -> b is used\n",
    "        Ib[na,:] = ones(1,2)\n",
    "        If[na,:] = zeros(1,2)\n",
    "\n",
    "        dV_Upwind = dVf.*If + dVb.*Ib + dV0.*I0 # important to include third term    \n",
    "        c = dV_Upwind.^(-1.0/σ)\n",
    "        u = c.^(1.0-σ)/(1.0-σ)\n",
    "\n",
    "        # CONSTRUCT MATRIX\n",
    "        X = -sb.*Ib/da\n",
    "        Y = -sf.*If/da + sb.*Ib/da\n",
    "        Z = sf.*If/da\n",
    "\n",
    "        A1 = spdiagm(na,na,[0 => Y[1:na,1]]...) + spdiagm(na,na,[-1 => X[2:na,1]]...) + spdiagm(na,na,[1 => Z[1:na-1,1]]...)\n",
    "        A2 = spdiagm(na,na,[0 => Y[1:na,2]]...) + spdiagm(na,na,[-1 => X[2:na,2]]...) + spdiagm(na,na,[1 => Z[1:na-1,2]]...)\n",
    "        A = [A1 spzeros(na,na); spzeros(na,na) A2] + Aswitch\n",
    "\n",
    "        # implicit method, with sparse matrix\n",
    "        B = (Delta*ρ + 1.0)*sparse(1.0I, 2*na, 2*na) - Delta*A\n",
    "        u_stacked = [u[:,1]; u[:,2]]\n",
    "        V_stacked = [V[:,1]; V[:,2]]\n",
    "        b = Delta*u_stacked + V_stacked\n",
    "        v_stacked = B\\b # new v\n",
    "        v = [v_stacked[1:na] v_stacked[na+1:2*na]]\n",
    "        Vchange = V - v\n",
    "        V = v\n",
    "\n",
    "        dist[n] = maximum(abs.(Vchange))\n",
    "        if (mod(n,10)==0)\n",
    "            println([n,dist[n]])\n",
    "        end\n",
    "        if dist[n]<crit\n",
    "            println(\"Value Function Converged, Iteration = \")\n",
    "            println(n)\n",
    "            AT = A'\n",
    "            break\n",
    "        end\n",
    "    end\n",
    "    \n",
    "    return v, c, AT\n",
    "    \n",
    "end"
   ]
  },
  {
   "cell_type": "code",
   "execution_count": 9,
   "metadata": {
    "slideshow": {
     "slide_type": "subslide"
    }
   },
   "outputs": [
    {
     "name": "stdout",
     "output_type": "stream",
     "text": [
      "Value Function Converged, Iteration = \n",
      "8\n",
      "  0.492201 seconds (1.16 M allocations: 83.258 MiB, 3.48% gc time)\n"
     ]
    }
   ],
   "source": [
    "# INITIAL GUESS\n",
    "v0 = zeros(na,2)\n",
    "v0[:,1] = (z[1] .+ r.*a).^(1.0-σ)/(1.0-σ)/ρ\n",
    "v0[:,2] = (z[2] .+ r.*a).^(1.0-σ)/(1.0-σ)/ρ\n",
    "\n",
    "# Delta = 0.04 # damping parameter\n",
    "# # @time v,c = vfict_explicit_nomatrix(v0,a,z,σ,ρ,maxit,crit,Delta);\n",
    "# @time v,c,AT = vfict_explicit(v0,a,z,σ,ρ,maxit,crit,Delta);\n",
    "\n",
    "Delta = 1000\n",
    "@time v,c,AT = vfict_implicit(v0,a,z,σ,ρ,maxit,crit,Delta);"
   ]
  },
  {
   "cell_type": "code",
   "execution_count": 10,
   "metadata": {
    "slideshow": {
     "slide_type": "subslide"
    }
   },
   "outputs": [
    {
     "data": {
      "image/svg+xml": [
       "<?xml version=\"1.0\" encoding=\"utf-8\"?>\n",
       "<svg xmlns=\"http://www.w3.org/2000/svg\" xmlns:xlink=\"http://www.w3.org/1999/xlink\" width=\"600\" height=\"400\" viewBox=\"0 0 2400 1600\">\n",
       "<defs>\n",
       "  <clipPath id=\"clip630\">\n",
       "    <rect x=\"0\" y=\"0\" width=\"2400\" height=\"1600\"/>\n",
       "  </clipPath>\n",
       "</defs>\n",
       "<path clip-path=\"url(#clip630)\" d=\"\n",
       "M0 1600 L2400 1600 L2400 0 L0 0  Z\n",
       "  \" fill=\"#ffffff\" fill-rule=\"evenodd\" fill-opacity=\"1\"/>\n",
       "<defs>\n",
       "  <clipPath id=\"clip631\">\n",
       "    <rect x=\"480\" y=\"0\" width=\"1681\" height=\"1600\"/>\n",
       "  </clipPath>\n",
       "</defs>\n",
       "<path clip-path=\"url(#clip630)\" d=\"\n",
       "M206.667 1486.45 L2352.76 1486.45 L2352.76 47.2441 L206.667 47.2441  Z\n",
       "  \" fill=\"#ffffff\" fill-rule=\"evenodd\" fill-opacity=\"1\"/>\n",
       "<defs>\n",
       "  <clipPath id=\"clip632\">\n",
       "    <rect x=\"206\" y=\"47\" width=\"2147\" height=\"1440\"/>\n",
       "  </clipPath>\n",
       "</defs>\n",
       "<polyline clip-path=\"url(#clip632)\" style=\"stroke:#000000; stroke-width:2; stroke-opacity:0.1; fill:none\" points=\"\n",
       "  280.814,1486.45 280.814,47.2441 \n",
       "  \"/>\n",
       "<polyline clip-path=\"url(#clip632)\" style=\"stroke:#000000; stroke-width:2; stroke-opacity:0.1; fill:none\" points=\"\n",
       "  951.215,1486.45 951.215,47.2441 \n",
       "  \"/>\n",
       "<polyline clip-path=\"url(#clip632)\" style=\"stroke:#000000; stroke-width:2; stroke-opacity:0.1; fill:none\" points=\"\n",
       "  1621.62,1486.45 1621.62,47.2441 \n",
       "  \"/>\n",
       "<polyline clip-path=\"url(#clip632)\" style=\"stroke:#000000; stroke-width:2; stroke-opacity:0.1; fill:none\" points=\"\n",
       "  2292.02,1486.45 2292.02,47.2441 \n",
       "  \"/>\n",
       "<polyline clip-path=\"url(#clip630)\" style=\"stroke:#000000; stroke-width:4; stroke-opacity:1; fill:none\" points=\"\n",
       "  206.667,1486.45 2352.76,1486.45 \n",
       "  \"/>\n",
       "<polyline clip-path=\"url(#clip630)\" style=\"stroke:#000000; stroke-width:4; stroke-opacity:1; fill:none\" points=\"\n",
       "  280.814,1486.45 280.814,1469.18 \n",
       "  \"/>\n",
       "<polyline clip-path=\"url(#clip630)\" style=\"stroke:#000000; stroke-width:4; stroke-opacity:1; fill:none\" points=\"\n",
       "  951.215,1486.45 951.215,1469.18 \n",
       "  \"/>\n",
       "<polyline clip-path=\"url(#clip630)\" style=\"stroke:#000000; stroke-width:4; stroke-opacity:1; fill:none\" points=\"\n",
       "  1621.62,1486.45 1621.62,1469.18 \n",
       "  \"/>\n",
       "<polyline clip-path=\"url(#clip630)\" style=\"stroke:#000000; stroke-width:4; stroke-opacity:1; fill:none\" points=\"\n",
       "  2292.02,1486.45 2292.02,1469.18 \n",
       "  \"/>\n",
       "<path clip-path=\"url(#clip630)\" d=\"M 0 0 M280.814 1515.64 Q277.203 1515.64 275.374 1519.2 Q273.568 1522.75 273.568 1529.87 Q273.568 1536.98 275.374 1540.55 Q277.203 1544.09 280.814 1544.09 Q284.448 1544.09 286.254 1540.55 Q288.082 1536.98 288.082 1529.87 Q288.082 1522.75 286.254 1519.2 Q284.448 1515.64 280.814 1515.64 M280.814 1511.93 Q286.624 1511.93 289.679 1516.54 Q292.758 1521.12 292.758 1529.87 Q292.758 1538.6 289.679 1543.21 Q286.624 1547.79 280.814 1547.79 Q275.004 1547.79 271.925 1543.21 Q268.869 1538.6 268.869 1529.87 Q268.869 1521.12 271.925 1516.54 Q275.004 1511.93 280.814 1511.93 Z\" fill=\"#000000\" fill-rule=\"evenodd\" fill-opacity=\"1\" /><path clip-path=\"url(#clip630)\" d=\"M 0 0 M941.597 1543.18 L949.236 1543.18 L949.236 1516.82 L940.926 1518.49 L940.926 1514.23 L949.19 1512.56 L953.865 1512.56 L953.865 1543.18 L961.504 1543.18 L961.504 1547.12 L941.597 1547.12 L941.597 1543.18 Z\" fill=\"#000000\" fill-rule=\"evenodd\" fill-opacity=\"1\" /><path clip-path=\"url(#clip630)\" d=\"M 0 0 M1616.27 1543.18 L1632.59 1543.18 L1632.59 1547.12 L1610.64 1547.12 L1610.64 1543.18 Q1613.31 1540.43 1617.89 1535.8 Q1622.5 1531.15 1623.68 1529.81 Q1625.92 1527.28 1626.8 1525.55 Q1627.7 1523.79 1627.7 1522.1 Q1627.7 1519.34 1625.76 1517.61 Q1623.84 1515.87 1620.74 1515.87 Q1618.54 1515.87 1616.08 1516.63 Q1613.65 1517.4 1610.88 1518.95 L1610.88 1514.23 Q1613.7 1513.09 1616.15 1512.51 Q1618.61 1511.93 1620.64 1511.93 Q1626.01 1511.93 1629.21 1514.62 Q1632.4 1517.31 1632.4 1521.8 Q1632.4 1523.93 1631.59 1525.85 Q1630.81 1527.74 1628.7 1530.34 Q1628.12 1531.01 1625.02 1534.23 Q1621.92 1537.42 1616.27 1543.18 Z\" fill=\"#000000\" fill-rule=\"evenodd\" fill-opacity=\"1\" /><path clip-path=\"url(#clip630)\" d=\"M 0 0 M2296.27 1528.49 Q2299.62 1529.2 2301.5 1531.47 Q2303.39 1533.74 2303.39 1537.07 Q2303.39 1542.19 2299.88 1544.99 Q2296.36 1547.79 2289.88 1547.79 Q2287.7 1547.79 2285.39 1547.35 Q2283.09 1546.93 2280.64 1546.08 L2280.64 1541.56 Q2282.58 1542.7 2284.9 1543.28 Q2287.21 1543.86 2289.74 1543.86 Q2294.14 1543.86 2296.43 1542.12 Q2298.74 1540.38 2298.74 1537.07 Q2298.74 1534.02 2296.59 1532.31 Q2294.46 1530.57 2290.64 1530.57 L2286.61 1530.57 L2286.61 1526.73 L2290.83 1526.73 Q2294.27 1526.73 2296.1 1525.36 Q2297.93 1523.97 2297.93 1521.38 Q2297.93 1518.72 2296.03 1517.31 Q2294.16 1515.87 2290.64 1515.87 Q2288.72 1515.87 2286.52 1516.29 Q2284.32 1516.7 2281.68 1517.58 L2281.68 1513.42 Q2284.34 1512.68 2286.66 1512.31 Q2289 1511.93 2291.06 1511.93 Q2296.38 1511.93 2299.48 1514.37 Q2302.58 1516.77 2302.58 1520.89 Q2302.58 1523.76 2300.94 1525.75 Q2299.3 1527.72 2296.27 1528.49 Z\" fill=\"#000000\" fill-rule=\"evenodd\" fill-opacity=\"1\" /><polyline clip-path=\"url(#clip632)\" style=\"stroke:#000000; stroke-width:2; stroke-opacity:0.1; fill:none\" points=\"\n",
       "  206.667,1476.88 2352.76,1476.88 \n",
       "  \"/>\n",
       "<polyline clip-path=\"url(#clip632)\" style=\"stroke:#000000; stroke-width:2; stroke-opacity:0.1; fill:none\" points=\"\n",
       "  206.667,1141.87 2352.76,1141.87 \n",
       "  \"/>\n",
       "<polyline clip-path=\"url(#clip632)\" style=\"stroke:#000000; stroke-width:2; stroke-opacity:0.1; fill:none\" points=\"\n",
       "  206.667,806.852 2352.76,806.852 \n",
       "  \"/>\n",
       "<polyline clip-path=\"url(#clip632)\" style=\"stroke:#000000; stroke-width:2; stroke-opacity:0.1; fill:none\" points=\"\n",
       "  206.667,471.837 2352.76,471.837 \n",
       "  \"/>\n",
       "<polyline clip-path=\"url(#clip632)\" style=\"stroke:#000000; stroke-width:2; stroke-opacity:0.1; fill:none\" points=\"\n",
       "  206.667,136.823 2352.76,136.823 \n",
       "  \"/>\n",
       "<polyline clip-path=\"url(#clip630)\" style=\"stroke:#000000; stroke-width:4; stroke-opacity:1; fill:none\" points=\"\n",
       "  206.667,1486.45 206.667,47.2441 \n",
       "  \"/>\n",
       "<polyline clip-path=\"url(#clip630)\" style=\"stroke:#000000; stroke-width:4; stroke-opacity:1; fill:none\" points=\"\n",
       "  206.667,1476.88 232.42,1476.88 \n",
       "  \"/>\n",
       "<polyline clip-path=\"url(#clip630)\" style=\"stroke:#000000; stroke-width:4; stroke-opacity:1; fill:none\" points=\"\n",
       "  206.667,1141.87 232.42,1141.87 \n",
       "  \"/>\n",
       "<polyline clip-path=\"url(#clip630)\" style=\"stroke:#000000; stroke-width:4; stroke-opacity:1; fill:none\" points=\"\n",
       "  206.667,806.852 232.42,806.852 \n",
       "  \"/>\n",
       "<polyline clip-path=\"url(#clip630)\" style=\"stroke:#000000; stroke-width:4; stroke-opacity:1; fill:none\" points=\"\n",
       "  206.667,471.837 232.42,471.837 \n",
       "  \"/>\n",
       "<polyline clip-path=\"url(#clip630)\" style=\"stroke:#000000; stroke-width:4; stroke-opacity:1; fill:none\" points=\"\n",
       "  206.667,136.823 232.42,136.823 \n",
       "  \"/>\n",
       "<path clip-path=\"url(#clip630)\" d=\"M 0 0 M52.219 1477.33 L81.8947 1477.33 L81.8947 1481.27 L52.219 1481.27 L52.219 1477.33 Z\" fill=\"#000000\" fill-rule=\"evenodd\" fill-opacity=\"1\" /><path clip-path=\"url(#clip630)\" d=\"M 0 0 M96.9641 1462.68 Q93.353 1462.68 91.5243 1466.24 Q89.7188 1469.79 89.7188 1476.92 Q89.7188 1484.02 91.5243 1487.59 Q93.353 1491.13 96.9641 1491.13 Q100.598 1491.13 102.404 1487.59 Q104.233 1484.02 104.233 1476.92 Q104.233 1469.79 102.404 1466.24 Q100.598 1462.68 96.9641 1462.68 M96.9641 1458.98 Q102.774 1458.98 105.83 1463.58 Q108.908 1468.17 108.908 1476.92 Q108.908 1485.64 105.83 1490.25 Q102.774 1494.83 96.9641 1494.83 Q91.1539 1494.83 88.0753 1490.25 Q85.0197 1485.64 85.0197 1476.92 Q85.0197 1468.17 88.0753 1463.58 Q91.1539 1458.98 96.9641 1458.98 Z\" fill=\"#000000\" fill-rule=\"evenodd\" fill-opacity=\"1\" /><path clip-path=\"url(#clip630)\" d=\"M 0 0 M113.978 1488.28 L118.862 1488.28 L118.862 1494.16 L113.978 1494.16 L113.978 1488.28 Z\" fill=\"#000000\" fill-rule=\"evenodd\" fill-opacity=\"1\" /><path clip-path=\"url(#clip630)\" d=\"M 0 0 M124.742 1490.23 L132.381 1490.23 L132.381 1463.86 L124.07 1465.53 L124.07 1461.27 L132.334 1459.6 L137.01 1459.6 L137.01 1490.23 L144.649 1490.23 L144.649 1494.16 L124.742 1494.16 L124.742 1490.23 Z\" fill=\"#000000\" fill-rule=\"evenodd\" fill-opacity=\"1\" /><path clip-path=\"url(#clip630)\" d=\"M 0 0 M149.765 1459.6 L168.121 1459.6 L168.121 1463.54 L154.047 1463.54 L154.047 1472.01 Q155.066 1471.66 156.084 1471.5 Q157.103 1471.31 158.121 1471.31 Q163.908 1471.31 167.288 1474.48 Q170.667 1477.66 170.667 1483.07 Q170.667 1488.65 167.195 1491.75 Q163.723 1494.83 157.404 1494.83 Q155.228 1494.83 152.959 1494.46 Q150.714 1494.09 148.306 1493.35 L148.306 1488.65 Q150.39 1489.79 152.612 1490.34 Q154.834 1490.9 157.311 1490.9 Q161.316 1490.9 163.654 1488.79 Q165.992 1486.68 165.992 1483.07 Q165.992 1479.46 163.654 1477.35 Q161.316 1475.25 157.311 1475.25 Q155.436 1475.25 153.561 1475.67 Q151.709 1476.08 149.765 1476.96 L149.765 1459.6 Z\" fill=\"#000000\" fill-rule=\"evenodd\" fill-opacity=\"1\" /><path clip-path=\"url(#clip630)\" d=\"M 0 0 M51.2236 1142.32 L80.8994 1142.32 L80.8994 1146.25 L51.2236 1146.25 L51.2236 1142.32 Z\" fill=\"#000000\" fill-rule=\"evenodd\" fill-opacity=\"1\" /><path clip-path=\"url(#clip630)\" d=\"M 0 0 M95.9687 1127.66 Q92.3576 1127.66 90.529 1131.23 Q88.7234 1134.77 88.7234 1141.9 Q88.7234 1149.01 90.529 1152.57 Q92.3576 1156.11 95.9687 1156.11 Q99.603 1156.11 101.409 1152.57 Q103.237 1149.01 103.237 1141.9 Q103.237 1134.77 101.409 1131.23 Q99.603 1127.66 95.9687 1127.66 M95.9687 1123.96 Q101.779 1123.96 104.834 1128.57 Q107.913 1133.15 107.913 1141.9 Q107.913 1150.63 104.834 1155.23 Q101.779 1159.82 95.9687 1159.82 Q90.1586 1159.82 87.0799 1155.23 Q84.0244 1150.63 84.0244 1141.9 Q84.0244 1133.15 87.0799 1128.57 Q90.1586 1123.96 95.9687 1123.96 Z\" fill=\"#000000\" fill-rule=\"evenodd\" fill-opacity=\"1\" /><path clip-path=\"url(#clip630)\" d=\"M 0 0 M112.983 1153.27 L117.867 1153.27 L117.867 1159.15 L112.983 1159.15 L112.983 1153.27 Z\" fill=\"#000000\" fill-rule=\"evenodd\" fill-opacity=\"1\" /><path clip-path=\"url(#clip630)\" d=\"M 0 0 M123.746 1155.21 L131.385 1155.21 L131.385 1128.85 L123.075 1130.51 L123.075 1126.25 L131.339 1124.59 L136.015 1124.59 L136.015 1155.21 L143.654 1155.21 L143.654 1159.15 L123.746 1159.15 L123.746 1155.21 Z\" fill=\"#000000\" fill-rule=\"evenodd\" fill-opacity=\"1\" /><path clip-path=\"url(#clip630)\" d=\"M 0 0 M158.723 1127.66 Q155.112 1127.66 153.283 1131.23 Q151.478 1134.77 151.478 1141.9 Q151.478 1149.01 153.283 1152.57 Q155.112 1156.11 158.723 1156.11 Q162.357 1156.11 164.163 1152.57 Q165.992 1149.01 165.992 1141.9 Q165.992 1134.77 164.163 1131.23 Q162.357 1127.66 158.723 1127.66 M158.723 1123.96 Q164.533 1123.96 167.589 1128.57 Q170.667 1133.15 170.667 1141.9 Q170.667 1150.63 167.589 1155.23 Q164.533 1159.82 158.723 1159.82 Q152.913 1159.82 149.834 1155.23 Q146.779 1150.63 146.779 1141.9 Q146.779 1133.15 149.834 1128.57 Q152.913 1123.96 158.723 1123.96 Z\" fill=\"#000000\" fill-rule=\"evenodd\" fill-opacity=\"1\" /><path clip-path=\"url(#clip630)\" d=\"M 0 0 M50.9921 807.303 L80.6679 807.303 L80.6679 811.238 L50.9921 811.238 L50.9921 807.303 Z\" fill=\"#000000\" fill-rule=\"evenodd\" fill-opacity=\"1\" /><path clip-path=\"url(#clip630)\" d=\"M 0 0 M95.7373 792.65 Q92.1262 792.65 90.2975 796.215 Q88.4919 799.757 88.4919 806.886 Q88.4919 813.993 90.2975 817.558 Q92.1262 821.099 95.7373 821.099 Q99.3715 821.099 101.177 817.558 Q103.006 813.993 103.006 806.886 Q103.006 799.757 101.177 796.215 Q99.3715 792.65 95.7373 792.65 M95.7373 788.947 Q101.547 788.947 104.603 793.553 Q107.682 798.136 107.682 806.886 Q107.682 815.613 104.603 820.22 Q101.547 824.803 95.7373 824.803 Q89.9271 824.803 86.8484 820.22 Q83.7929 815.613 83.7929 806.886 Q83.7929 798.136 86.8484 793.553 Q89.9271 788.947 95.7373 788.947 Z\" fill=\"#000000\" fill-rule=\"evenodd\" fill-opacity=\"1\" /><path clip-path=\"url(#clip630)\" d=\"M 0 0 M112.751 818.252 L117.635 818.252 L117.635 824.132 L112.751 824.132 L112.751 818.252 Z\" fill=\"#000000\" fill-rule=\"evenodd\" fill-opacity=\"1\" /><path clip-path=\"url(#clip630)\" d=\"M 0 0 M132.705 792.65 Q129.094 792.65 127.265 796.215 Q125.459 799.757 125.459 806.886 Q125.459 813.993 127.265 817.558 Q129.094 821.099 132.705 821.099 Q136.339 821.099 138.144 817.558 Q139.973 813.993 139.973 806.886 Q139.973 799.757 138.144 796.215 Q136.339 792.65 132.705 792.65 M132.705 788.947 Q138.515 788.947 141.57 793.553 Q144.649 798.136 144.649 806.886 Q144.649 815.613 141.57 820.22 Q138.515 824.803 132.705 824.803 Q126.894 824.803 123.816 820.22 Q120.76 815.613 120.76 806.886 Q120.76 798.136 123.816 793.553 Q126.894 788.947 132.705 788.947 Z\" fill=\"#000000\" fill-rule=\"evenodd\" fill-opacity=\"1\" /><path clip-path=\"url(#clip630)\" d=\"M 0 0 M149.765 789.572 L168.121 789.572 L168.121 793.507 L154.047 793.507 L154.047 801.979 Q155.066 801.632 156.084 801.47 Q157.103 801.285 158.121 801.285 Q163.908 801.285 167.288 804.456 Q170.667 807.627 170.667 813.044 Q170.667 818.622 167.195 821.724 Q163.723 824.803 157.404 824.803 Q155.228 824.803 152.959 824.433 Q150.714 824.062 148.306 823.321 L148.306 818.622 Q150.39 819.757 152.612 820.312 Q154.834 820.868 157.311 820.868 Q161.316 820.868 163.654 818.761 Q165.992 816.655 165.992 813.044 Q165.992 809.433 163.654 807.326 Q161.316 805.22 157.311 805.22 Q155.436 805.22 153.561 805.636 Q151.709 806.053 149.765 806.933 L149.765 789.572 Z\" fill=\"#000000\" fill-rule=\"evenodd\" fill-opacity=\"1\" /><path clip-path=\"url(#clip630)\" d=\"M 0 0 M94.7419 457.636 Q91.1308 457.636 89.3021 461.201 Q87.4966 464.742 87.4966 471.872 Q87.4966 478.979 89.3021 482.543 Q91.1308 486.085 94.7419 486.085 Q98.3761 486.085 100.182 482.543 Q102.01 478.979 102.01 471.872 Q102.01 464.742 100.182 461.201 Q98.3761 457.636 94.7419 457.636 M94.7419 453.932 Q100.552 453.932 103.608 458.539 Q106.686 463.122 106.686 471.872 Q106.686 480.599 103.608 485.205 Q100.552 489.789 94.7419 489.789 Q88.9317 489.789 85.8531 485.205 Q82.7975 480.599 82.7975 471.872 Q82.7975 463.122 85.8531 458.539 Q88.9317 453.932 94.7419 453.932 Z\" fill=\"#000000\" fill-rule=\"evenodd\" fill-opacity=\"1\" /><path clip-path=\"url(#clip630)\" d=\"M 0 0 M111.756 483.238 L116.64 483.238 L116.64 489.117 L111.756 489.117 L111.756 483.238 Z\" fill=\"#000000\" fill-rule=\"evenodd\" fill-opacity=\"1\" /><path clip-path=\"url(#clip630)\" d=\"M 0 0 M131.709 457.636 Q128.098 457.636 126.27 461.201 Q124.464 464.742 124.464 471.872 Q124.464 478.979 126.27 482.543 Q128.098 486.085 131.709 486.085 Q135.344 486.085 137.149 482.543 Q138.978 478.979 138.978 471.872 Q138.978 464.742 137.149 461.201 Q135.344 457.636 131.709 457.636 M131.709 453.932 Q137.519 453.932 140.575 458.539 Q143.654 463.122 143.654 471.872 Q143.654 480.599 140.575 485.205 Q137.519 489.789 131.709 489.789 Q125.899 489.789 122.82 485.205 Q119.765 480.599 119.765 471.872 Q119.765 463.122 122.82 458.539 Q125.899 453.932 131.709 453.932 Z\" fill=\"#000000\" fill-rule=\"evenodd\" fill-opacity=\"1\" /><path clip-path=\"url(#clip630)\" d=\"M 0 0 M158.723 457.636 Q155.112 457.636 153.283 461.201 Q151.478 464.742 151.478 471.872 Q151.478 478.979 153.283 482.543 Q155.112 486.085 158.723 486.085 Q162.357 486.085 164.163 482.543 Q165.992 478.979 165.992 471.872 Q165.992 464.742 164.163 461.201 Q162.357 457.636 158.723 457.636 M158.723 453.932 Q164.533 453.932 167.589 458.539 Q170.667 463.122 170.667 471.872 Q170.667 480.599 167.589 485.205 Q164.533 489.789 158.723 489.789 Q152.913 489.789 149.834 485.205 Q146.779 480.599 146.779 471.872 Q146.779 463.122 149.834 458.539 Q152.913 453.932 158.723 453.932 Z\" fill=\"#000000\" fill-rule=\"evenodd\" fill-opacity=\"1\" /><path clip-path=\"url(#clip630)\" d=\"M 0 0 M95.7373 122.622 Q92.1262 122.622 90.2975 126.186 Q88.4919 129.728 88.4919 136.858 Q88.4919 143.964 90.2975 147.529 Q92.1262 151.071 95.7373 151.071 Q99.3715 151.071 101.177 147.529 Q103.006 143.964 103.006 136.858 Q103.006 129.728 101.177 126.186 Q99.3715 122.622 95.7373 122.622 M95.7373 118.918 Q101.547 118.918 104.603 123.524 Q107.682 128.108 107.682 136.858 Q107.682 145.585 104.603 150.191 Q101.547 154.774 95.7373 154.774 Q89.9271 154.774 86.8484 150.191 Q83.7929 145.585 83.7929 136.858 Q83.7929 128.108 86.8484 123.524 Q89.9271 118.918 95.7373 118.918 Z\" fill=\"#000000\" fill-rule=\"evenodd\" fill-opacity=\"1\" /><path clip-path=\"url(#clip630)\" d=\"M 0 0 M112.751 148.223 L117.635 148.223 L117.635 154.103 L112.751 154.103 L112.751 148.223 Z\" fill=\"#000000\" fill-rule=\"evenodd\" fill-opacity=\"1\" /><path clip-path=\"url(#clip630)\" d=\"M 0 0 M132.705 122.622 Q129.094 122.622 127.265 126.186 Q125.459 129.728 125.459 136.858 Q125.459 143.964 127.265 147.529 Q129.094 151.071 132.705 151.071 Q136.339 151.071 138.144 147.529 Q139.973 143.964 139.973 136.858 Q139.973 129.728 138.144 126.186 Q136.339 122.622 132.705 122.622 M132.705 118.918 Q138.515 118.918 141.57 123.524 Q144.649 128.108 144.649 136.858 Q144.649 145.585 141.57 150.191 Q138.515 154.774 132.705 154.774 Q126.894 154.774 123.816 150.191 Q120.76 145.585 120.76 136.858 Q120.76 128.108 123.816 123.524 Q126.894 118.918 132.705 118.918 Z\" fill=\"#000000\" fill-rule=\"evenodd\" fill-opacity=\"1\" /><path clip-path=\"url(#clip630)\" d=\"M 0 0 M149.765 119.543 L168.121 119.543 L168.121 123.478 L154.047 123.478 L154.047 131.95 Q155.066 131.603 156.084 131.441 Q157.103 131.256 158.121 131.256 Q163.908 131.256 167.288 134.427 Q170.667 137.598 170.667 143.015 Q170.667 148.594 167.195 151.696 Q163.723 154.774 157.404 154.774 Q155.228 154.774 152.959 154.404 Q150.714 154.034 148.306 153.293 L148.306 148.594 Q150.39 149.728 152.612 150.284 Q154.834 150.839 157.311 150.839 Q161.316 150.839 163.654 148.733 Q165.992 146.626 165.992 143.015 Q165.992 139.404 163.654 137.298 Q161.316 135.191 157.311 135.191 Q155.436 135.191 153.561 135.608 Q151.709 136.024 149.765 136.904 L149.765 119.543 Z\" fill=\"#000000\" fill-rule=\"evenodd\" fill-opacity=\"1\" /><polyline clip-path=\"url(#clip632)\" style=\"stroke:#009af9; stroke-width:4; stroke-opacity:1; fill:none\" points=\"\n",
       "  267.406,471.837 271.463,592.984 275.52,639.792 279.578,673.117 283.635,699.414 287.692,721.254 291.75,739.975 295.807,756.375 299.864,770.974 303.922,784.133 \n",
       "  307.979,796.113 312.036,807.109 316.094,817.272 320.151,826.72 324.208,835.548 328.266,843.834 332.323,851.641 336.381,859.023 340.438,866.025 344.495,872.685 \n",
       "  348.553,879.036 352.61,885.107 356.667,890.921 360.725,896.502 364.782,901.867 368.839,907.034 372.897,912.018 376.954,916.832 381.011,921.489 385.069,925.998 \n",
       "  389.126,930.369 393.183,934.612 397.241,938.735 401.298,942.744 405.355,946.646 409.413,950.448 413.47,954.155 417.527,957.772 421.585,961.304 425.642,964.755 \n",
       "  429.699,968.13 433.757,971.431 437.814,974.664 441.871,977.829 445.929,980.932 449.986,983.974 454.043,986.959 458.101,989.888 462.158,992.765 466.215,995.59 \n",
       "  470.273,998.367 474.33,1001.1 478.387,1003.78 482.445,1006.42 486.502,1009.02 490.559,1011.58 494.617,1014.11 498.674,1016.59 502.731,1019.04 506.789,1021.45 \n",
       "  510.846,1023.83 514.903,1026.18 518.961,1028.49 523.018,1030.77 527.075,1033.03 531.133,1035.26 535.19,1037.45 539.247,1039.63 543.305,1041.77 547.362,1043.89 \n",
       "  551.419,1045.99 555.477,1048.06 559.534,1050.11 563.591,1052.13 567.649,1054.14 571.706,1056.12 575.763,1058.08 579.821,1060.02 583.878,1061.94 587.935,1063.84 \n",
       "  591.993,1065.72 596.05,1067.59 600.108,1069.43 604.165,1071.26 608.222,1073.07 612.28,1074.87 616.337,1076.65 620.394,1078.41 624.452,1080.16 628.509,1081.89 \n",
       "  632.566,1083.6 636.624,1085.31 640.681,1086.99 644.738,1088.67 648.796,1090.33 652.853,1091.97 656.91,1093.61 660.968,1095.23 665.025,1096.84 669.082,1098.43 \n",
       "  673.14,1100.02 677.197,1101.59 681.254,1103.15 685.312,1104.7 689.369,1106.24 693.426,1107.76 697.484,1109.28 701.541,1110.78 705.598,1112.28 709.656,1113.76 \n",
       "  713.713,1115.24 717.77,1116.7 721.828,1118.16 725.885,1119.6 729.942,1121.04 734,1122.47 738.057,1123.9 742.114,1125.31 746.172,1126.72 750.229,1128.12 \n",
       "  754.286,1129.51 758.344,1130.9 762.401,1132.27 766.458,1133.64 770.516,1134.99 774.573,1136.34 778.63,1137.69 782.688,1139.02 786.745,1140.35 790.802,1141.67 \n",
       "  794.86,1142.98 798.917,1144.28 802.974,1145.58 807.032,1146.87 811.089,1148.16 815.146,1149.43 819.204,1150.7 823.261,1151.97 827.318,1153.22 831.376,1154.48 \n",
       "  835.433,1155.72 839.49,1156.96 843.548,1158.19 847.605,1159.42 851.662,1160.64 855.72,1161.85 859.777,1163.06 863.834,1164.26 867.892,1165.46 871.949,1166.65 \n",
       "  876.007,1167.84 880.064,1169.02 884.121,1170.2 888.179,1171.37 892.236,1172.53 896.293,1173.69 900.351,1174.85 904.408,1176 908.465,1177.14 912.523,1178.28 \n",
       "  916.58,1179.42 920.637,1180.55 924.695,1181.67 928.752,1182.79 932.809,1183.91 936.867,1185.02 940.924,1186.13 944.981,1187.23 949.039,1188.33 953.096,1189.43 \n",
       "  957.153,1190.52 961.211,1191.6 965.268,1192.69 969.325,1193.76 973.383,1194.84 977.44,1195.91 981.497,1196.97 985.555,1198.03 989.612,1199.09 993.669,1200.15 \n",
       "  997.727,1201.2 1001.78,1202.24 1005.84,1203.29 1009.9,1204.33 1013.96,1205.36 1018.01,1206.39 1022.07,1207.42 1026.13,1208.45 1030.19,1209.47 1034.24,1210.49 \n",
       "  1038.3,1211.5 1042.36,1212.51 1046.41,1213.52 1050.47,1214.52 1054.53,1215.53 1058.59,1216.52 1062.64,1217.52 1066.7,1218.51 1070.76,1219.5 1074.82,1220.48 \n",
       "  1078.87,1221.47 1082.93,1222.45 1086.99,1223.42 1091.05,1224.4 1095.1,1225.37 1099.16,1226.33 1103.22,1227.3 1107.27,1228.26 1111.33,1229.22 1115.39,1230.18 \n",
       "  1119.45,1231.13 1123.5,1232.08 1127.56,1233.03 1131.62,1233.97 1135.68,1234.92 1139.73,1235.86 1143.79,1236.79 1147.85,1237.73 1151.91,1238.66 1155.96,1239.59 \n",
       "  1160.02,1240.52 1164.08,1241.44 1168.13,1242.36 1172.19,1243.28 1176.25,1244.2 1180.31,1245.12 1184.36,1246.03 1188.42,1246.94 1192.48,1247.85 1196.54,1248.75 \n",
       "  1200.59,1249.66 1204.65,1250.56 1208.71,1251.45 1212.77,1252.35 1216.82,1253.25 1220.88,1254.14 1224.94,1255.03 1228.99,1255.91 1233.05,1256.8 1237.11,1257.68 \n",
       "  1241.17,1258.56 1245.22,1259.44 1249.28,1260.32 1253.34,1261.2 1257.4,1262.07 1261.45,1262.94 1265.51,1263.81 1269.57,1264.68 1273.63,1265.54 1277.68,1266.4 \n",
       "  1281.74,1267.26 1285.8,1268.12 1289.86,1268.98 1293.91,1269.84 1297.97,1270.69 1302.03,1271.54 1306.08,1272.39 1310.14,1273.24 1314.2,1274.09 1318.26,1274.93 \n",
       "  1322.31,1275.77 1326.37,1276.61 1330.43,1277.45 1334.49,1278.29 1338.54,1279.12 1342.6,1279.96 1346.66,1280.79 1350.72,1281.62 1354.77,1282.45 1358.83,1283.28 \n",
       "  1362.89,1284.1 1366.94,1284.93 1371,1285.75 1375.06,1286.57 1379.12,1287.39 1383.17,1288.21 1387.23,1289.02 1391.29,1289.84 1395.35,1290.65 1399.4,1291.46 \n",
       "  1403.46,1292.27 1407.52,1293.08 1411.58,1293.88 1415.63,1294.69 1419.69,1295.49 1423.75,1296.29 1427.8,1297.09 1431.86,1297.89 1435.92,1298.69 1439.98,1299.49 \n",
       "  1444.03,1300.28 1448.09,1301.08 1452.15,1301.87 1456.21,1302.66 1460.26,1303.45 1464.32,1304.24 1468.38,1305.02 1472.44,1305.81 1476.49,1306.59 1480.55,1307.37 \n",
       "  1484.61,1308.16 1488.66,1308.94 1492.72,1309.71 1496.78,1310.49 1500.84,1311.27 1504.89,1312.04 1508.95,1312.82 1513.01,1313.59 1517.07,1314.36 1521.12,1315.13 \n",
       "  1525.18,1315.9 1529.24,1316.66 1533.3,1317.43 1537.35,1318.2 1541.41,1318.96 1545.47,1319.72 1549.52,1320.48 1553.58,1321.24 1557.64,1322 1561.7,1322.76 \n",
       "  1565.75,1323.52 1569.81,1324.27 1573.87,1325.03 1577.93,1325.78 1581.98,1326.53 1586.04,1327.28 1590.1,1328.03 1594.16,1328.78 1598.21,1329.53 1602.27,1330.28 \n",
       "  1606.33,1331.02 1610.38,1331.77 1614.44,1332.51 1618.5,1333.25 1622.56,1333.99 1626.61,1334.73 1630.67,1335.47 1634.73,1336.21 1638.79,1336.95 1642.84,1337.68 \n",
       "  1646.9,1338.42 1650.96,1339.15 1655.02,1339.89 1659.07,1340.62 1663.13,1341.35 1667.19,1342.08 1671.24,1342.81 1675.3,1343.54 1679.36,1344.26 1683.42,1344.99 \n",
       "  1687.47,1345.72 1691.53,1346.44 1695.59,1347.16 1699.65,1347.89 1703.7,1348.61 1707.76,1349.33 1711.82,1350.05 1715.88,1350.77 1719.93,1351.49 1723.99,1352.2 \n",
       "  1728.05,1352.92 1732.1,1353.63 1736.16,1354.35 1740.22,1355.06 1744.28,1355.78 1748.33,1356.49 1752.39,1357.2 1756.45,1357.91 1760.51,1358.62 1764.56,1359.33 \n",
       "  1768.62,1360.03 1772.68,1360.74 1776.74,1361.45 1780.79,1362.15 1784.85,1362.86 1788.91,1363.56 1792.96,1364.26 1797.02,1364.96 1801.08,1365.66 1805.14,1366.36 \n",
       "  1809.19,1367.06 1813.25,1367.76 1817.31,1368.46 1821.37,1369.16 1825.42,1369.85 1829.48,1370.55 1833.54,1371.24 1837.6,1371.94 1841.65,1372.63 1845.71,1373.32 \n",
       "  1849.77,1374.02 1853.83,1374.71 1857.88,1375.4 1861.94,1376.09 1866,1376.77 1870.05,1377.46 1874.11,1378.15 1878.17,1378.84 1882.23,1379.52 1886.28,1380.21 \n",
       "  1890.34,1380.89 1894.4,1381.58 1898.46,1382.26 1902.51,1382.94 1906.57,1383.62 1910.63,1384.3 1914.69,1384.99 1918.74,1385.66 1922.8,1386.34 1926.86,1387.02 \n",
       "  1930.91,1387.7 1934.97,1388.38 1939.03,1389.05 1943.09,1389.73 1947.14,1390.4 1951.2,1391.08 1955.26,1391.75 1959.32,1392.42 1963.37,1393.1 1967.43,1393.77 \n",
       "  1971.49,1394.44 1975.55,1395.11 1979.6,1395.78 1983.66,1396.45 1987.72,1397.12 1991.77,1397.79 1995.83,1398.45 1999.89,1399.12 2003.95,1399.79 2008,1400.45 \n",
       "  2012.06,1401.12 2016.12,1401.78 2020.18,1402.45 2024.23,1403.11 2028.29,1403.77 2032.35,1404.43 2036.41,1405.1 2040.46,1405.76 2044.52,1406.42 2048.58,1407.08 \n",
       "  2052.63,1407.74 2056.69,1408.39 2060.75,1409.05 2064.81,1409.71 2068.86,1410.37 2072.92,1411.02 2076.98,1411.68 2081.04,1412.33 2085.09,1412.99 2089.15,1413.64 \n",
       "  2093.21,1414.3 2097.27,1414.95 2101.32,1415.6 2105.38,1416.25 2109.44,1416.91 2113.49,1417.56 2117.55,1418.21 2121.61,1418.86 2125.67,1419.51 2129.72,1420.16 \n",
       "  2133.78,1420.8 2137.84,1421.45 2141.9,1422.1 2145.95,1422.75 2150.01,1423.39 2154.07,1424.04 2158.13,1424.68 2162.18,1425.33 2166.24,1425.97 2170.3,1426.62 \n",
       "  2174.35,1427.26 2178.41,1427.9 2182.47,1428.55 2186.53,1429.19 2190.58,1429.83 2194.64,1430.47 2198.7,1431.11 2202.76,1431.75 2206.81,1432.39 2210.87,1433.03 \n",
       "  2214.93,1433.67 2218.99,1434.31 2223.04,1434.94 2227.1,1435.58 2231.16,1436.22 2235.21,1436.85 2239.27,1437.49 2243.33,1438.13 2247.39,1438.76 2251.44,1439.39 \n",
       "  2255.5,1440.03 2259.56,1440.66 2263.62,1441.3 2267.67,1441.93 2271.73,1442.56 2275.79,1443.19 2279.85,1443.82 2283.9,1444.45 2287.96,1445.09 2292.02,1445.72 \n",
       "  \n",
       "  \"/>\n",
       "<polyline clip-path=\"url(#clip632)\" style=\"stroke:#e26f46; stroke-width:4; stroke-opacity:1; fill:none\" points=\"\n",
       "  267.406,87.9763 271.463,107.562 275.52,123.386 279.578,136.958 283.635,148.958 287.692,159.77 291.75,169.642 295.807,178.746 299.864,187.208 303.922,195.121 \n",
       "  307.979,202.561 312.036,209.585 316.094,216.244 320.151,222.576 324.208,228.615 328.266,234.39 332.323,239.924 336.381,245.24 340.438,250.355 344.495,255.286 \n",
       "  348.553,260.046 352.61,264.648 356.667,269.104 360.725,273.423 364.782,277.615 368.839,281.687 372.897,285.648 376.954,289.503 381.011,293.259 385.069,296.921 \n",
       "  389.126,300.495 393.183,303.986 397.241,307.397 401.298,310.733 405.355,313.997 409.413,317.193 413.47,320.324 417.527,323.393 421.585,326.403 425.642,329.356 \n",
       "  429.699,332.255 433.757,335.102 437.814,337.899 441.871,340.649 445.929,343.353 449.986,346.012 454.043,348.629 458.101,351.205 462.158,353.742 466.215,356.241 \n",
       "  470.273,358.703 474.33,361.13 478.387,363.522 482.445,365.881 486.502,368.209 490.559,370.505 494.617,372.772 498.674,375.009 502.731,377.219 506.789,379.401 \n",
       "  510.846,381.556 514.903,383.686 518.961,385.791 523.018,387.871 527.075,389.928 531.133,391.962 535.19,393.974 539.247,395.964 543.305,397.933 547.362,399.881 \n",
       "  551.419,401.809 555.477,403.718 559.534,405.608 563.591,407.479 567.649,409.331 571.706,411.167 575.763,412.984 579.821,414.785 583.878,416.57 587.935,418.338 \n",
       "  591.993,420.091 596.05,421.828 600.108,423.551 604.165,425.258 608.222,426.952 612.28,428.631 616.337,430.296 620.394,431.948 624.452,433.586 628.509,435.212 \n",
       "  632.566,436.825 636.624,438.426 640.681,440.014 644.738,441.59 648.796,443.155 652.853,444.708 656.91,446.25 660.968,447.781 665.025,449.301 669.082,450.811 \n",
       "  673.14,452.31 677.197,453.799 681.254,455.277 685.312,456.746 689.369,458.205 693.426,459.655 697.484,461.095 701.541,462.526 705.598,463.948 709.656,465.361 \n",
       "  713.713,466.765 717.77,468.161 721.828,469.548 725.885,470.929 729.942,471.837 734,471.837 738.057,472.327 742.114,473.696 746.172,475.049 750.229,476.393 \n",
       "  754.286,477.73 758.344,479.059 762.401,480.381 766.458,481.695 770.516,483.002 774.573,484.302 778.63,485.595 782.688,486.882 786.745,488.161 790.802,489.433 \n",
       "  794.86,490.699 798.917,491.959 802.974,493.212 807.032,494.459 811.089,495.699 815.146,496.933 819.204,498.162 823.261,499.384 827.318,500.6 831.376,501.811 \n",
       "  835.433,503.016 839.49,504.215 843.548,505.409 847.605,506.597 851.662,507.779 855.72,508.957 859.777,510.129 863.834,511.295 867.892,512.457 871.949,513.614 \n",
       "  876.007,514.765 880.064,515.912 884.121,517.054 888.179,518.19 892.236,519.323 896.293,520.45 900.351,521.573 904.408,522.691 908.465,523.804 912.523,524.913 \n",
       "  916.58,526.018 920.637,527.118 924.695,528.214 928.752,529.306 932.809,530.394 936.867,531.477 940.924,532.556 944.981,533.631 949.039,534.702 953.096,535.769 \n",
       "  957.153,536.833 961.211,537.892 965.268,538.947 969.325,539.999 973.383,541.047 977.44,542.091 981.497,543.131 985.555,544.168 989.612,545.201 993.669,546.231 \n",
       "  997.727,547.257 1001.78,548.279 1005.84,549.299 1009.9,550.314 1013.96,551.327 1018.01,552.336 1022.07,553.341 1026.13,554.344 1030.19,555.343 1034.24,556.339 \n",
       "  1038.3,557.332 1042.36,558.322 1046.41,559.308 1050.47,560.292 1054.53,561.272 1058.59,562.25 1062.64,563.224 1066.7,564.196 1070.76,565.164 1074.82,566.13 \n",
       "  1078.87,567.093 1082.93,568.053 1086.99,569.01 1091.05,569.965 1095.1,570.916 1099.16,571.865 1103.22,572.812 1107.27,573.755 1111.33,574.696 1115.39,575.634 \n",
       "  1119.45,576.57 1123.5,577.503 1127.56,578.434 1131.62,579.362 1135.68,580.287 1139.73,581.21 1143.79,582.131 1147.85,583.049 1151.91,583.965 1155.96,584.878 \n",
       "  1160.02,585.789 1164.08,586.697 1168.13,587.604 1172.19,588.508 1176.25,589.409 1180.31,590.309 1184.36,591.206 1188.42,592.101 1192.48,592.993 1196.54,593.884 \n",
       "  1200.59,594.772 1204.65,595.659 1208.71,596.543 1212.77,597.425 1216.82,598.304 1220.88,599.182 1224.94,600.058 1228.99,600.932 1233.05,601.803 1237.11,602.673 \n",
       "  1241.17,603.54 1245.22,604.406 1249.28,605.27 1253.34,606.132 1257.4,606.991 1261.45,607.849 1265.51,608.705 1269.57,609.56 1273.63,610.412 1277.68,611.262 \n",
       "  1281.74,612.111 1285.8,612.958 1289.86,613.803 1293.91,614.646 1297.97,615.487 1302.03,616.327 1306.08,617.165 1310.14,618.001 1314.2,618.835 1318.26,619.668 \n",
       "  1322.31,620.499 1326.37,621.328 1330.43,622.156 1334.49,622.982 1338.54,623.806 1342.6,624.629 1346.66,625.45 1350.72,626.27 1354.77,627.088 1358.83,627.904 \n",
       "  1362.89,628.719 1366.94,629.532 1371,630.344 1375.06,631.154 1379.12,631.963 1383.17,632.77 1387.23,633.575 1391.29,634.379 1395.35,635.182 1399.4,635.983 \n",
       "  1403.46,636.783 1407.52,637.581 1411.58,638.378 1415.63,639.173 1419.69,639.967 1423.75,640.76 1427.8,641.551 1431.86,642.341 1435.92,643.13 1439.98,643.917 \n",
       "  1444.03,644.702 1448.09,645.487 1452.15,646.27 1456.21,647.052 1460.26,647.832 1464.32,648.611 1468.38,649.389 1472.44,650.165 1476.49,650.941 1480.55,651.715 \n",
       "  1484.61,652.487 1488.66,653.259 1492.72,654.029 1496.78,654.798 1500.84,655.566 1504.89,656.332 1508.95,657.097 1513.01,657.862 1517.07,658.625 1521.12,659.386 \n",
       "  1525.18,660.147 1529.24,660.906 1533.3,661.664 1537.35,662.421 1541.41,663.177 1545.47,663.932 1549.52,664.686 1553.58,665.438 1557.64,666.19 1561.7,666.94 \n",
       "  1565.75,667.689 1569.81,668.437 1573.87,669.184 1577.93,669.93 1581.98,670.675 1586.04,671.419 1590.1,672.162 1594.16,672.903 1598.21,673.644 1602.27,674.384 \n",
       "  1606.33,675.122 1610.38,675.86 1614.44,676.596 1618.5,677.332 1622.56,678.066 1626.61,678.8 1630.67,679.532 1634.73,680.264 1638.79,680.994 1642.84,681.724 \n",
       "  1646.9,682.452 1650.96,683.18 1655.02,683.907 1659.07,684.632 1663.13,685.357 1667.19,686.081 1671.24,686.804 1675.3,687.526 1679.36,688.247 1683.42,688.967 \n",
       "  1687.47,689.686 1691.53,690.404 1695.59,691.122 1699.65,691.838 1703.7,692.554 1707.76,693.269 1711.82,693.983 1715.88,694.696 1719.93,695.408 1723.99,696.119 \n",
       "  1728.05,696.829 1732.1,697.539 1736.16,698.248 1740.22,698.956 1744.28,699.663 1748.33,700.369 1752.39,701.074 1756.45,701.779 1760.51,702.482 1764.56,703.185 \n",
       "  1768.62,703.888 1772.68,704.589 1776.74,705.289 1780.79,705.989 1784.85,706.688 1788.91,707.386 1792.96,708.083 1797.02,708.78 1801.08,709.476 1805.14,710.171 \n",
       "  1809.19,710.865 1813.25,711.559 1817.31,712.252 1821.37,712.944 1825.42,713.635 1829.48,714.325 1833.54,715.015 1837.6,715.704 1841.65,716.393 1845.71,717.08 \n",
       "  1849.77,717.767 1853.83,718.453 1857.88,719.139 1861.94,719.823 1866,720.508 1870.05,721.191 1874.11,721.874 1878.17,722.556 1882.23,723.237 1886.28,723.917 \n",
       "  1890.34,724.597 1894.4,725.277 1898.46,725.955 1902.51,726.633 1906.57,727.31 1910.63,727.987 1914.69,728.663 1918.74,729.338 1922.8,730.013 1926.86,730.687 \n",
       "  1930.91,731.36 1934.97,732.032 1939.03,732.705 1943.09,733.376 1947.14,734.047 1951.2,734.717 1955.26,735.386 1959.32,736.055 1963.37,736.723 1967.43,737.391 \n",
       "  1971.49,738.058 1975.55,738.725 1979.6,739.39 1983.66,740.056 1987.72,740.72 1991.77,741.384 1995.83,742.048 1999.89,742.711 2003.95,743.373 2008,744.035 \n",
       "  2012.06,744.696 2016.12,745.356 2020.18,746.016 2024.23,746.676 2028.29,747.334 2032.35,747.993 2036.41,748.65 2040.46,749.308 2044.52,749.964 2048.58,750.62 \n",
       "  2052.63,751.276 2056.69,751.931 2060.75,752.585 2064.81,753.239 2068.86,753.892 2072.92,754.545 2076.98,755.197 2081.04,755.849 2085.09,756.5 2089.15,757.151 \n",
       "  2093.21,757.801 2097.27,758.45 2101.32,759.099 2105.38,759.748 2109.44,760.396 2113.49,761.044 2117.55,761.691 2121.61,762.337 2125.67,762.983 2129.72,763.629 \n",
       "  2133.78,764.274 2137.84,764.918 2141.9,765.562 2145.95,766.206 2150.01,766.849 2154.07,767.492 2158.13,768.134 2162.18,768.775 2166.24,769.416 2170.3,770.057 \n",
       "  2174.35,770.697 2178.41,771.337 2182.47,771.976 2186.53,772.615 2190.58,773.253 2194.64,773.891 2198.7,774.529 2202.76,775.166 2206.81,775.802 2210.87,776.438 \n",
       "  2214.93,777.074 2218.99,777.709 2223.04,778.343 2227.1,778.978 2231.16,779.612 2235.21,780.245 2239.27,780.878 2243.33,781.51 2247.39,782.142 2251.44,782.774 \n",
       "  2255.5,783.405 2259.56,784.036 2263.62,784.666 2267.67,785.296 2271.73,785.926 2275.79,786.555 2279.85,787.183 2283.9,787.812 2287.96,788.439 2292.02,789.067 \n",
       "  \n",
       "  \"/>\n",
       "<path clip-path=\"url(#clip630)\" d=\"\n",
       "M1991.75 276.658 L2281.22 276.658 L2281.22 95.2176 L1991.75 95.2176  Z\n",
       "  \" fill=\"#ffffff\" fill-rule=\"evenodd\" fill-opacity=\"1\"/>\n",
       "<polyline clip-path=\"url(#clip630)\" style=\"stroke:#000000; stroke-width:4; stroke-opacity:1; fill:none\" points=\"\n",
       "  1991.75,276.658 2281.22,276.658 2281.22,95.2176 1991.75,95.2176 1991.75,276.658 \n",
       "  \"/>\n",
       "<polyline clip-path=\"url(#clip630)\" style=\"stroke:#009af9; stroke-width:4; stroke-opacity:1; fill:none\" points=\"\n",
       "  2015.59,155.698 2158.67,155.698 \n",
       "  \"/>\n",
       "<path clip-path=\"url(#clip630)\" d=\"M 0 0 M2196.35 175.385 Q2194.55 180.015 2192.83 181.427 Q2191.12 182.839 2188.25 182.839 L2184.85 182.839 L2184.85 179.274 L2187.35 179.274 Q2189.11 179.274 2190.08 178.44 Q2191.05 177.607 2192.23 174.505 L2193 172.561 L2182.51 147.052 L2187.02 147.052 L2195.13 167.329 L2203.23 147.052 L2207.74 147.052 L2196.35 175.385 Z\" fill=\"#000000\" fill-rule=\"evenodd\" fill-opacity=\"1\" /><path clip-path=\"url(#clip630)\" d=\"M 0 0 M2213.62 169.042 L2221.26 169.042 L2221.26 142.677 L2212.95 144.343 L2212.95 140.084 L2221.21 138.418 L2225.89 138.418 L2225.89 169.042 L2233.53 169.042 L2233.53 172.978 L2213.62 172.978 L2213.62 169.042 Z\" fill=\"#000000\" fill-rule=\"evenodd\" fill-opacity=\"1\" /><polyline clip-path=\"url(#clip630)\" style=\"stroke:#e26f46; stroke-width:4; stroke-opacity:1; fill:none\" points=\"\n",
       "  2015.59,216.178 2158.67,216.178 \n",
       "  \"/>\n",
       "<path clip-path=\"url(#clip630)\" d=\"M 0 0 M2196.35 235.865 Q2194.55 240.495 2192.83 241.907 Q2191.12 243.319 2188.25 243.319 L2184.85 243.319 L2184.85 239.754 L2187.35 239.754 Q2189.11 239.754 2190.08 238.92 Q2191.05 238.087 2192.23 234.985 L2193 233.041 L2182.51 207.532 L2187.02 207.532 L2195.13 227.809 L2203.23 207.532 L2207.74 207.532 L2196.35 235.865 Z\" fill=\"#000000\" fill-rule=\"evenodd\" fill-opacity=\"1\" /><path clip-path=\"url(#clip630)\" d=\"M 0 0 M2216.84 229.522 L2233.16 229.522 L2233.16 233.458 L2211.21 233.458 L2211.21 229.522 Q2213.88 226.768 2218.46 222.138 Q2223.07 217.485 2224.25 216.143 Q2226.49 213.62 2227.37 211.884 Q2228.27 210.124 2228.27 208.435 Q2228.27 205.68 2226.33 203.944 Q2224.41 202.208 2221.31 202.208 Q2219.11 202.208 2216.65 202.972 Q2214.22 203.735 2211.45 205.286 L2211.45 200.564 Q2214.27 199.43 2216.72 198.851 Q2219.18 198.273 2221.21 198.273 Q2226.58 198.273 2229.78 200.958 Q2232.97 203.643 2232.97 208.134 Q2232.97 210.263 2232.16 212.185 Q2231.38 214.083 2229.27 216.675 Q2228.69 217.347 2225.59 220.564 Q2222.49 223.759 2216.84 229.522 Z\" fill=\"#000000\" fill-rule=\"evenodd\" fill-opacity=\"1\" /></svg>\n"
      ]
     },
     "execution_count": 10,
     "metadata": {},
     "output_type": "execute_result"
    }
   ],
   "source": [
    "using Plots\n",
    "# (na,nz) matrix\n",
    "aa = [a a]\n",
    "zz = ones(na,1)*z\n",
    "adot = zz + r.*aa - c\n",
    "plot(aa,adot)"
   ]
  },
  {
   "cell_type": "markdown",
   "metadata": {
    "slideshow": {
     "slide_type": "skip"
    }
   },
   "source": [
    "- We solve for $\\mathbf{v}$ by an iterative scheme.\n",
    "\n",
    "- Let $\\mathbf{v}^{n}$ be the value function from $n$th iteration\n",
    "    - **Explicit method**:\n",
    "\n",
    "    $$\n",
    "      \\frac{\\mathbf{v}^{n+1}-\\mathbf{v}^{n}}{\\Delta} + \\rho \\mathbf{v}^{n} = \\mathbf{u}^{n} + \\mathbf{A}^{n}\\mathbf{v}^{n}\n",
    "    $$\n",
    "\n",
    "    - **Implicit method**:\n",
    "\n",
    "    $$\n",
    "      \\frac{\\mathbf{v}^{n+1}-\\mathbf{v}^{n}}{\\Delta} + \\rho \\mathbf{v}^{n+1} = \\mathbf{u}^{n} + \\mathbf{A}^{n}\\mathbf{v}^{n+1}\n",
    "    $$\n",
    "\n",
    "where $\\Delta>0$ controls the speed of updating. "
   ]
  },
  {
   "cell_type": "markdown",
   "metadata": {
    "slideshow": {
     "slide_type": "skip"
    }
   },
   "source": [
    "- With the implicit method, we update $\\mathbf{v}^{n}$ by\n",
    "\n",
    "\\begin{align*}\n",
    "  & \\mathbf{v}^{n+1} + \\Delta\\rho\\mathbf{v}^{n+1} - \\Delta\\mathbf{A}^{n}\\mathbf{v}^{n+1} = \\Delta\\mathbf{u}^{n} + \\mathbf{v}^{n}, \\\\\n",
    "  \\Leftrightarrow & \\mathbf{v}^{n+1} = (\\mathbf{I} + \\Delta\\rho\\mathbf{I} - \\Delta\\mathbf{A}^{n})^{-1}(\\Delta\\mathbf{u}^{n} + \\mathbf{v}^{n}) \\\\\n",
    "\\end{align*}\n"
   ]
  },
  {
   "cell_type": "markdown",
   "metadata": {
    "slideshow": {
     "slide_type": "slide"
    }
   },
   "source": [
    "# Stationary distribution\n",
    "\n",
    "- To find an equilibrium price, we need to solve a stationary distribution\n",
    "\n",
    "- Recall the Huggett (1993) with equilibrium conditions\n",
    "\n",
    "$$\n",
    "  \\rho v(a,z) = \\max_{c} u(c) + v_{a}(a,z)s(a,z) + \\lambda \\big(v(a,z')-v(a,z)\\big) \\\\\n",
    "  s(a,z) = r a + z -c, \\quad a \\geq \\underline{a} \\\\\n",
    "  0 = \\sum_{z} \\int_{\\underline{a}}^{\\infty} a g(a,z) da \\\\\n",
    "  0 = -\\frac{d}{da}\\big[g(a,z)s(a,z)\\big] + \\lambda \\big(g(a,z') - g(a,z)\\big)\n",
    "$$\n",
    "\n",
    "<!-- (why $\\frac{d}{da}$?) -->"
   ]
  },
  {
   "cell_type": "markdown",
   "metadata": {
    "slideshow": {
     "slide_type": "subslide"
    }
   },
   "source": [
    "$$\n",
    "  \\frac{\\partial g(a,z)}{\\partial t} = -\\frac{d}{da}\\big[g(a,z)s(a,z)\\big] + \\lambda \\big(g(a,z') - g(a,z)\\big)\n",
    "$$\n",
    "\n",
    "is Kolmogorov forward equation, and stationarity implies\n",
    "\n",
    "$$\n",
    "  \\frac{\\partial g(a,z)}{\\partial t} = 0\n",
    "$$"
   ]
  },
  {
   "cell_type": "markdown",
   "metadata": {
    "slideshow": {
     "slide_type": "subslide"
    }
   },
   "source": [
    "## Deriving KFE\n",
    "\n",
    "$G$ is a cdf, $G(a,z_{i},t) = Pr(a_{t} \\leq a, z_{t}=z_{j})$ for $j=1,2$."
   ]
  },
  {
   "cell_type": "markdown",
   "metadata": {
    "slideshow": {
     "slide_type": "subslide"
    }
   },
   "source": [
    "Over a time period $dt$, $G$ evolves as \n",
    "\n",
    "\\begin{align*}\n",
    "  Pr(a_{t+dt} \\leq \\color{blue}{a}, z_{t+dt}=\\color{magenta}{z_{j}}) &= \\color{magenta}{\\lambda_{-j}dt} Pr(a_{t} \\leq \\color{blue}{a-s(a,z_{-j})dt}, z_{t}=\\color{magenta}{z_{-j}}) \\\\\n",
    "  & + \\color{magenta}{(1-\\lambda_{j}dt)}Pr(a_{t} \\leq \\color{blue}{a-s(a,z_{j})dt}, z_{t}=\\color{magenta}{z_{j}})\n",
    "\\end{align*}\n",
    "\n",
    "\n",
    "- Saving: $a_{t+dt} = a_{t} + s(a_{t},z_{j})dt$\n",
    "  - If one has $\\color{blue}{a-s(a,z_{j})dt}$ at $t$, will have $\\color{blue}{a}$ at $t+dt$\n",
    "\n",
    "\n",
    "- Income: $z_{-j}$ switches to $z_{j}$ with an intensity $\\lambda_{-j}dt$\n",
    "  - $\\color{magenta}{\\lambda_{-j}dt}$: those who with $\\color{magenta}{z_{-j}}$ at $t$ and get shocks over $dt$ to flow into $\\color{magenta}{z_{j}}$\n",
    "  - $\\color{magenta}{1-\\lambda_{j}dt}$: those who with $\\color{magenta}{z_{j}}$ at $t$ and get no shocks over $dt$"
   ]
  },
  {
   "cell_type": "markdown",
   "metadata": {
    "slideshow": {
     "slide_type": "subslide"
    }
   },
   "source": [
    "- Then\n",
    "\n",
    "\\begin{align*}\n",
    "  G(a,z,t+dt) &= Pr(a_{t+dt} \\leq a, z_{t+dt}=z_{j}) \\\\\n",
    "  &= (1-\\lambda_{j}dt)Pr(a_{t} \\leq a-s_{j}dt, z_{t}=z_{j}) + \\lambda_{-j}dt Pr(a_{t} \\leq a-s_{-j}dt, z_{t}=z_{-j}) \\\\\n",
    "  &= (1-\\lambda_{j}dt)G(a-s_{j}dt,z_{j},t) + \\lambda_{-j}dt G(a-s_{-j}dt,z_{-j},t) \\\\\n",
    "  &= G(a-s_{j}dt,z_{j},t) - \\lambda_{j}dt G(a-s_{j}dt,z_{j},t) + \\lambda_{-j}dt G(a-s_{-j}dt,z_{-j},t)\n",
    "\\end{align*}\n",
    "\n",
    "where $s_{j}=s(a,z_{j})$\n",
    "\n",
    "- Substract $G(a,z_{j},t)$ from both sides and devide by $dt$\n",
    "\n",
    "$$\n",
    "  \\frac{G(a,z,t+dt)-G(a,z_{j},t)}{dt} = \\frac{G(a-s_{j}dt,z_{j},t)-G(a,z_{j},t)}{dt} - \\lambda_{j}G(a-s_{j}dt,z_{j},t) + \\lambda_{-j}G(a-s_{-j}dt,z_{-j},t)\n",
    "$$"
   ]
  },
  {
   "cell_type": "markdown",
   "metadata": {
    "slideshow": {
     "slide_type": "subslide"
    }
   },
   "source": [
    "- Take the limit as $dt \\rightarrow 0$\n",
    "\n",
    "$$\n",
    "  \\partial_{t}G(a,z_{j},t) = \\partial_{a}G(a,z_{j},t)(-s_{j}) - \\lambda_{j}G(a,z_{j},t) + \\lambda_{-j}G(a,z_{-j},t)\n",
    "$$\n",
    "\n",
    "- Take the derivative wrt $a$\n",
    "\n",
    "$$\n",
    "  \\partial_{t}g(a,z_{j},t) = \\partial_{a}[g(a,z_{j},t)(-s_{j})] - \\lambda_{j}g(a,z_{j},t) + \\lambda_{-j}g(a,z_{-j},t)\n",
    "$$\n",
    "\n",
    "This is a Kolmogorov forward equation and $g(a,z_{j},t)=\\partial_{a}G(a,z_{j},t)$ is a density function"
   ]
  },
  {
   "cell_type": "markdown",
   "metadata": {
    "slideshow": {
     "slide_type": "subslide"
    }
   },
   "source": [
    "## Solving KFE\n",
    "\n",
    "- To solve the KFE, approximate $\\frac{d}{da}[g(a,z)s(a,z)]$ with numerical derivatives by applying the upwind scheme.\n",
    "\n",
    "$$\n",
    "  0 = -\\frac{d}{da}[g(a,z)s(a,z)] + \\lambda \\big(g(a,z') - g(a,z)\\big)\n",
    "$$\n",
    "\n",
    "- The most convenient/correct approximation of $\\frac{d}{da}[g(a,z)s(a,z)]$ is (Achdou et al., 2020)\n",
    "\n",
    "$$\n",
    "  \\frac{s_{i,j}^{(F)}\\mathbb{1}_{s_{i,j}^{(F)}>0}g_{i,j} - s_{i-1,j}^{(F)}\\mathbb{1}_{s_{i-1,j}^{(F)}>0}g_{i-1,j}}{\\Delta a} + \\frac{s_{i+1,j}^{(B)}\\mathbb{1}_{s_{i+1,j}^{(B)}>0}g_{i+1,j} - s_{i,j}^{(B)}\\mathbb{1}_{s_{i,j}^{(B)}<0}g_{i,j}}{\\Delta a}\n",
    "$$\n",
    "\n",
    "where $g_{i,j}=g(a_{i},z_{j})$\n"
   ]
  },
  {
   "cell_type": "markdown",
   "metadata": {
    "slideshow": {
     "slide_type": "subslide"
    }
   },
   "source": [
    "By substituting them, we have\n",
    "\n",
    "\\begin{align*}\n",
    "  0 &= -\\frac{s_{i,j}^{(F)}\\mathbb{1}_{s_{i,j}^{(F)}>0}g_{i,j} - s_{i-1,j}^{(F)}\\mathbb{1}_{s_{i-1,j}^{(F)}>0}g_{i-1,j}}{\\Delta a} - \\frac{s_{i+1,j}^{(B)}\\mathbb{1}_{s_{i+1,j}^{(B)}>0}g_{i+1,j} - s_{i,j}^{(B)}\\mathbb{1}_{s_{i,j}^{(B)}<0}g_{i,j}}{\\Delta a} + \\lambda_{-j} g_{i,-j} - \\lambda_{j} g_{i,j}, \\\\\n",
    "  &= \\alpha_{i+1,j} g_{i+1,j} + \\beta_{i,j} g_{i,j} + \\xi_{i-1,j} g_{i-1,j} + \\lambda_{-j} g_{i,-j}\n",
    "\\end{align*}\n",
    "\n",
    "where\n",
    "\n",
    "$$\n",
    "  \\alpha_{i+1,j} = \\frac{-s_{i+1,j}^{(B)} \\mathbb{1}_{s_{i+1,j}^{(B)}<0}}{\\Delta a}, \\quad \\beta_{i,j} = \\frac{-s_{i,j}^{(F)} \\mathbb{1}_{s_{i,j}^{(F)}>0} + s_{i,j}^{(B)} \\mathbb{1}_{s_{i,j}^{(B)}<0}}{\\Delta a} - \\lambda_{j}, \\quad \\xi_{i-1,j} = \\frac{s_{i-1,j}^{(F)} \\mathbb{1}_{s_{i-1,j}^{(F)}>0}}{\\Delta a}\n",
    "$$"
   ]
  },
  {
   "cell_type": "markdown",
   "metadata": {
    "slideshow": {
     "slide_type": "subslide"
    }
   },
   "source": [
    "It can be stacked into a matrix form: For example, $n_k=4$ and $n_z$ = 2\n",
    "\n",
    "$$\n",
    "    \\left[\n",
    "    \\begin{array}{c}\n",
    "    0\\\\\n",
    "    0\\\\\n",
    "    0\\\\\n",
    "    0\\\\\n",
    "    0\\\\\n",
    "    0\\\\\n",
    "    0\\\\\n",
    "    0\n",
    "    \\end{array} \\right] = \n",
    "    \\left[\n",
    "    \\begin{array}{cccccccc}\n",
    "    \\beta_{1,1} & \\alpha_{2,1} & 0 & 0 & \\lambda_{2} & 0 & 0 & 0\\\\\n",
    "    \\xi_{1,1} & \\beta_{2,1} & \\alpha_{3,1} & 0 & 0 & \\lambda_{2} & 0 & 0 \\\\\n",
    "    0 & \\xi_{2,1} & \\beta_{3,1} & \\alpha_{4,1} & 0 & 0 & \\lambda_{2} & 0 \\\\\n",
    "    0 & 0 & \\xi_{3,1} & \\beta_{4,1} & 0 & 0 & 0 & \\lambda_{2} \\\\\n",
    "    \\lambda_{1} & 0 & 0 & 0 & \\beta_{1,2} & \\alpha_{2,2} & 0 & 0 \\\\\n",
    "    0 & \\lambda_{1} & 0 & 0 & \\xi_{1,2} & \\beta_{2,2} & \\alpha_{3,2} & 0 \\\\\n",
    "    0 & 0 & \\lambda_{1} & 0 & 0 & \\xi_{2,2} & \\beta_{3,2} & \\alpha_{4,2} \\\\\n",
    "    0 & 0 & 0 & \\lambda_{1} & 0 & 0 & \\xi_{3,2} & \\beta_{4,2}\n",
    "    \\end{array}\n",
    "    \\right]\n",
    "    \\left[\n",
    "    \\begin{array}{c}\n",
    "    g_{1,1}\\\\\n",
    "    g_{2,1}\\\\\n",
    "    g_{3,1}\\\\\n",
    "    g_{4,1}\\\\\n",
    "    g_{1,2}\\\\\n",
    "    g_{2,2}\\\\\n",
    "    g_{3,2}\\\\\n",
    "    g_{4,2}\n",
    "    \\end{array} \\right]\n",
    "$$"
   ]
  },
  {
   "cell_type": "markdown",
   "metadata": {
    "slideshow": {
     "slide_type": "subslide"
    }
   },
   "source": [
    "Or\n",
    "\n",
    "$$\n",
    "  \\mathbf{0} = \\mathbf{B}\\mathbf{g}\n",
    "$$\n",
    "\n",
    "This is prefered because $\\mathbf{B}=\\mathbf{A}^{T}$ is obtained from the HJB equation\n",
    "\n",
    "- If we solve the above equation, $g_{i,j}=0$ is a solution.\n",
    "\n",
    "- But we have an implicit constraint\n",
    "\n",
    "$$\n",
    "  \\sum_{z} \\int_{\\underline{a}}^{\\infty} g(a,z) da = 1\n",
    "$$"
   ]
  },
  {
   "cell_type": "markdown",
   "metadata": {
    "slideshow": {
     "slide_type": "subslide"
    }
   },
   "source": [
    "### Adjusting $\\mathbf{B}$\n",
    "\n",
    "$$\n",
    "    \\left[\n",
    "    \\begin{array}{c}\n",
    "    \\color{magenta}{0.1}\\\\\n",
    "    0\\\\\n",
    "    0\\\\\n",
    "    0\\\\\n",
    "    0\\\\\n",
    "    0\\\\\n",
    "    0\\\\\n",
    "    0\n",
    "    \\end{array} \\right] = \n",
    "    \\left[\n",
    "    \\begin{array}{cccccccc}\n",
    "    \\color{magenta}{1} & 0 & 0 & 0 & \\color{magenta}{0} & 0 & 0 & 0\\\\\n",
    "    \\xi_{1,1} & \\beta_{2,1} & \\alpha_{3,1} & 0 & 0 & \\lambda_{2} & 0 & 0 \\\\\n",
    "    0 & \\xi_{2,1} & \\beta_{3,1} & \\alpha_{4,1} & 0 & 0 & \\lambda_{2} & 0 \\\\\n",
    "    0 & 0 & \\xi_{3,1} & \\beta_{4,1} & 0 & 0 & 0 & \\lambda_{2} \\\\\n",
    "    \\lambda_{1} & 0 & 0 & 0 & \\beta_{1,2} & \\alpha_{2,2} & 0 & 0 \\\\\n",
    "    0 & \\lambda_{1} & 0 & 0 & \\xi_{1,2} & \\beta_{2,2} & \\alpha_{3,2} & 0 \\\\\n",
    "    0 & 0 & \\lambda_{1} & 0 & 0 & \\xi_{2,2} & \\beta_{3,2} & \\alpha_{4,2} \\\\\n",
    "    0 & 0 & 0 & \\lambda_{1} & 0 & 0 & \\xi_{3,2} & \\beta_{4,2}\n",
    "    \\end{array}\n",
    "    \\right]\n",
    "    \\left[\n",
    "    \\begin{array}{c}\n",
    "    \\tilde{g}_{1,1}\\\\\n",
    "    \\tilde{g}_{2,1}\\\\\n",
    "    \\tilde{g}_{3,1}\\\\\n",
    "    \\tilde{g}_{4,1}\\\\\n",
    "    \\tilde{g}_{1,2}\\\\\n",
    "    \\tilde{g}_{2,2}\\\\\n",
    "    \\tilde{g}_{3,2}\\\\\n",
    "    \\tilde{g}_{4,2}\n",
    "    \\end{array} \\right]\n",
    "$$\n",
    "\n",
    "Or $\\tilde{\\mathbf{g}}_{0} = \\tilde{\\mathbf{B}}\\tilde{\\mathbf{g}}$\n",
    "\n",
    "- We fix $g_{1,1}=0.1$ (or any positive number) and find the rest of $g_{i,j}$ values: $\\tilde{\\mathbf{g}} = \\tilde{\\mathbf{B}}^{-1}\\tilde{\\mathbf{g}}_{0}$\n",
    "  - Note that the adjusted $\\tilde{\\mathbf{B}}$ is non-singular, whereas $\\mathbf{B}$ is singular\n",
    "\n",
    "- Then adjust the level of $g_{i,j}$'s to make the total mass equal to 1: $g_{i,j} = \\frac{\\tilde{g}_{i,j}}{\\sum_{i,j}\\tilde{g}_{i,j}}$"
   ]
  },
  {
   "cell_type": "code",
   "execution_count": 1,
   "metadata": {
    "slideshow": {
     "slide_type": "subslide"
    }
   },
   "outputs": [
    {
     "data": {
      "text/plain": [
       "fokker_planck (generic function with 1 method)"
      ]
     },
     "execution_count": 1,
     "metadata": {},
     "output_type": "execute_result"
    }
   ],
   "source": [
    "function fokker_planck(AT)\n",
    "\n",
    "    # fokker-planck equation\n",
    "    # AT = A'\n",
    "    na = Int(size(AT,1)/2)\n",
    "    \n",
    "    b = zeros(2*na,1)\n",
    "\n",
    "    # need to fix one value, otherwise matrix is singular\n",
    "    i_fix = 1\n",
    "    b[i_fix] = .1\n",
    "    row = [zeros(1,i_fix-1) 1 zeros(1,2*na-i_fix)]\n",
    "    AT[i_fix,:] = row\n",
    "\n",
    "    # Solve linear system\n",
    "    gg = AT\\b\n",
    "    g_sum = gg'*ones(2*na,1)*da\n",
    "    gg = gg./g_sum\n",
    "\n",
    "    g = [gg[1:na] gg[na+1:2*na]]\n",
    "    \n",
    "\n",
    "    return g\n",
    "    \n",
    "end"
   ]
  },
  {
   "cell_type": "code",
   "execution_count": 11,
   "metadata": {
    "slideshow": {
     "slide_type": "subslide"
    }
   },
   "outputs": [
    {
     "name": "stdout",
     "output_type": "stream",
     "text": [
      "  0.001429 seconds (136 allocations: 1.087 MiB)\n"
     ]
    },
    {
     "data": {
      "image/svg+xml": [
       "<?xml version=\"1.0\" encoding=\"utf-8\"?>\n",
       "<svg xmlns=\"http://www.w3.org/2000/svg\" xmlns:xlink=\"http://www.w3.org/1999/xlink\" width=\"600\" height=\"400\" viewBox=\"0 0 2400 1600\">\n",
       "<defs>\n",
       "  <clipPath id=\"clip670\">\n",
       "    <rect x=\"0\" y=\"0\" width=\"2400\" height=\"1600\"/>\n",
       "  </clipPath>\n",
       "</defs>\n",
       "<path clip-path=\"url(#clip670)\" d=\"\n",
       "M0 1600 L2400 1600 L2400 0 L0 0  Z\n",
       "  \" fill=\"#ffffff\" fill-rule=\"evenodd\" fill-opacity=\"1\"/>\n",
       "<defs>\n",
       "  <clipPath id=\"clip671\">\n",
       "    <rect x=\"480\" y=\"0\" width=\"1681\" height=\"1600\"/>\n",
       "  </clipPath>\n",
       "</defs>\n",
       "<path clip-path=\"url(#clip670)\" d=\"\n",
       "M112.177 1486.45 L2352.76 1486.45 L2352.76 47.2441 L112.177 47.2441  Z\n",
       "  \" fill=\"#ffffff\" fill-rule=\"evenodd\" fill-opacity=\"1\"/>\n",
       "<defs>\n",
       "  <clipPath id=\"clip672\">\n",
       "    <rect x=\"112\" y=\"47\" width=\"2242\" height=\"1440\"/>\n",
       "  </clipPath>\n",
       "</defs>\n",
       "<polyline clip-path=\"url(#clip672)\" style=\"stroke:#000000; stroke-width:2; stroke-opacity:0.1; fill:none\" points=\"\n",
       "  189.588,1486.45 189.588,47.2441 \n",
       "  \"/>\n",
       "<polyline clip-path=\"url(#clip672)\" style=\"stroke:#000000; stroke-width:2; stroke-opacity:0.1; fill:none\" points=\"\n",
       "  889.507,1486.45 889.507,47.2441 \n",
       "  \"/>\n",
       "<polyline clip-path=\"url(#clip672)\" style=\"stroke:#000000; stroke-width:2; stroke-opacity:0.1; fill:none\" points=\"\n",
       "  1589.42,1486.45 1589.42,47.2441 \n",
       "  \"/>\n",
       "<polyline clip-path=\"url(#clip672)\" style=\"stroke:#000000; stroke-width:2; stroke-opacity:0.1; fill:none\" points=\"\n",
       "  2289.34,1486.45 2289.34,47.2441 \n",
       "  \"/>\n",
       "<polyline clip-path=\"url(#clip670)\" style=\"stroke:#000000; stroke-width:4; stroke-opacity:1; fill:none\" points=\"\n",
       "  112.177,1486.45 2352.76,1486.45 \n",
       "  \"/>\n",
       "<polyline clip-path=\"url(#clip670)\" style=\"stroke:#000000; stroke-width:4; stroke-opacity:1; fill:none\" points=\"\n",
       "  189.588,1486.45 189.588,1469.18 \n",
       "  \"/>\n",
       "<polyline clip-path=\"url(#clip670)\" style=\"stroke:#000000; stroke-width:4; stroke-opacity:1; fill:none\" points=\"\n",
       "  889.507,1486.45 889.507,1469.18 \n",
       "  \"/>\n",
       "<polyline clip-path=\"url(#clip670)\" style=\"stroke:#000000; stroke-width:4; stroke-opacity:1; fill:none\" points=\"\n",
       "  1589.42,1486.45 1589.42,1469.18 \n",
       "  \"/>\n",
       "<polyline clip-path=\"url(#clip670)\" style=\"stroke:#000000; stroke-width:4; stroke-opacity:1; fill:none\" points=\"\n",
       "  2289.34,1486.45 2289.34,1469.18 \n",
       "  \"/>\n",
       "<path clip-path=\"url(#clip670)\" d=\"M 0 0 M189.588 1515.64 Q185.977 1515.64 184.148 1519.2 Q182.343 1522.75 182.343 1529.87 Q182.343 1536.98 184.148 1540.55 Q185.977 1544.09 189.588 1544.09 Q193.222 1544.09 195.028 1540.55 Q196.857 1536.98 196.857 1529.87 Q196.857 1522.75 195.028 1519.2 Q193.222 1515.64 189.588 1515.64 M189.588 1511.93 Q195.398 1511.93 198.454 1516.54 Q201.533 1521.12 201.533 1529.87 Q201.533 1538.6 198.454 1543.21 Q195.398 1547.79 189.588 1547.79 Q183.778 1547.79 180.699 1543.21 Q177.644 1538.6 177.644 1529.87 Q177.644 1521.12 180.699 1516.54 Q183.778 1511.93 189.588 1511.93 Z\" fill=\"#000000\" fill-rule=\"evenodd\" fill-opacity=\"1\" /><path clip-path=\"url(#clip670)\" d=\"M 0 0 M879.889 1543.18 L887.527 1543.18 L887.527 1516.82 L879.217 1518.49 L879.217 1514.23 L887.481 1512.56 L892.157 1512.56 L892.157 1543.18 L899.796 1543.18 L899.796 1547.12 L879.889 1547.12 L879.889 1543.18 Z\" fill=\"#000000\" fill-rule=\"evenodd\" fill-opacity=\"1\" /><path clip-path=\"url(#clip670)\" d=\"M 0 0 M1584.08 1543.18 L1600.4 1543.18 L1600.4 1547.12 L1578.45 1547.12 L1578.45 1543.18 Q1581.11 1540.43 1585.7 1535.8 Q1590.3 1531.15 1591.49 1529.81 Q1593.73 1527.28 1594.61 1525.55 Q1595.51 1523.79 1595.51 1522.1 Q1595.51 1519.34 1593.57 1517.61 Q1591.65 1515.87 1588.55 1515.87 Q1586.35 1515.87 1583.89 1516.63 Q1581.46 1517.4 1578.68 1518.95 L1578.68 1514.23 Q1581.51 1513.09 1583.96 1512.51 Q1586.42 1511.93 1588.45 1511.93 Q1593.82 1511.93 1597.02 1514.62 Q1600.21 1517.31 1600.21 1521.8 Q1600.21 1523.93 1599.4 1525.85 Q1598.61 1527.74 1596.51 1530.34 Q1595.93 1531.01 1592.83 1534.23 Q1589.73 1537.42 1584.08 1543.18 Z\" fill=\"#000000\" fill-rule=\"evenodd\" fill-opacity=\"1\" /><path clip-path=\"url(#clip670)\" d=\"M 0 0 M2293.59 1528.49 Q2296.95 1529.2 2298.82 1531.47 Q2300.72 1533.74 2300.72 1537.07 Q2300.72 1542.19 2297.2 1544.99 Q2293.68 1547.79 2287.2 1547.79 Q2285.03 1547.79 2282.71 1547.35 Q2280.42 1546.93 2277.97 1546.08 L2277.97 1541.56 Q2279.91 1542.7 2282.23 1543.28 Q2284.54 1543.86 2287.06 1543.86 Q2291.46 1543.86 2293.75 1542.12 Q2296.07 1540.38 2296.07 1537.07 Q2296.07 1534.02 2293.92 1532.31 Q2291.79 1530.57 2287.97 1530.57 L2283.94 1530.57 L2283.94 1526.73 L2288.15 1526.73 Q2291.6 1526.73 2293.43 1525.36 Q2295.26 1523.97 2295.26 1521.38 Q2295.26 1518.72 2293.36 1517.31 Q2291.48 1515.87 2287.97 1515.87 Q2286.04 1515.87 2283.85 1516.29 Q2281.65 1516.7 2279.01 1517.58 L2279.01 1513.42 Q2281.67 1512.68 2283.98 1512.31 Q2286.32 1511.93 2288.38 1511.93 Q2293.71 1511.93 2296.81 1514.37 Q2299.91 1516.77 2299.91 1520.89 Q2299.91 1523.76 2298.27 1525.75 Q2296.62 1527.72 2293.59 1528.49 Z\" fill=\"#000000\" fill-rule=\"evenodd\" fill-opacity=\"1\" /><polyline clip-path=\"url(#clip672)\" style=\"stroke:#000000; stroke-width:2; stroke-opacity:0.1; fill:none\" points=\"\n",
       "  112.177,1445.72 2352.76,1445.72 \n",
       "  \"/>\n",
       "<polyline clip-path=\"url(#clip672)\" style=\"stroke:#000000; stroke-width:2; stroke-opacity:0.1; fill:none\" points=\"\n",
       "  112.177,1142.49 2352.76,1142.49 \n",
       "  \"/>\n",
       "<polyline clip-path=\"url(#clip672)\" style=\"stroke:#000000; stroke-width:2; stroke-opacity:0.1; fill:none\" points=\"\n",
       "  112.177,839.257 2352.76,839.257 \n",
       "  \"/>\n",
       "<polyline clip-path=\"url(#clip672)\" style=\"stroke:#000000; stroke-width:2; stroke-opacity:0.1; fill:none\" points=\"\n",
       "  112.177,536.028 2352.76,536.028 \n",
       "  \"/>\n",
       "<polyline clip-path=\"url(#clip672)\" style=\"stroke:#000000; stroke-width:2; stroke-opacity:0.1; fill:none\" points=\"\n",
       "  112.177,232.799 2352.76,232.799 \n",
       "  \"/>\n",
       "<polyline clip-path=\"url(#clip670)\" style=\"stroke:#000000; stroke-width:4; stroke-opacity:1; fill:none\" points=\"\n",
       "  112.177,1486.45 112.177,47.2441 \n",
       "  \"/>\n",
       "<polyline clip-path=\"url(#clip670)\" style=\"stroke:#000000; stroke-width:4; stroke-opacity:1; fill:none\" points=\"\n",
       "  112.177,1445.72 139.064,1445.72 \n",
       "  \"/>\n",
       "<polyline clip-path=\"url(#clip670)\" style=\"stroke:#000000; stroke-width:4; stroke-opacity:1; fill:none\" points=\"\n",
       "  112.177,1142.49 139.064,1142.49 \n",
       "  \"/>\n",
       "<polyline clip-path=\"url(#clip670)\" style=\"stroke:#000000; stroke-width:4; stroke-opacity:1; fill:none\" points=\"\n",
       "  112.177,839.257 139.064,839.257 \n",
       "  \"/>\n",
       "<polyline clip-path=\"url(#clip670)\" style=\"stroke:#000000; stroke-width:4; stroke-opacity:1; fill:none\" points=\"\n",
       "  112.177,536.028 139.064,536.028 \n",
       "  \"/>\n",
       "<polyline clip-path=\"url(#clip670)\" style=\"stroke:#000000; stroke-width:4; stroke-opacity:1; fill:none\" points=\"\n",
       "  112.177,232.799 139.064,232.799 \n",
       "  \"/>\n",
       "<path clip-path=\"url(#clip670)\" d=\"M 0 0 M64.2328 1431.51 Q60.6217 1431.51 58.793 1435.08 Q56.9875 1438.62 56.9875 1445.75 Q56.9875 1452.86 58.793 1456.42 Q60.6217 1459.96 64.2328 1459.96 Q67.867 1459.96 69.6726 1456.42 Q71.5013 1452.86 71.5013 1445.75 Q71.5013 1438.62 69.6726 1435.08 Q67.867 1431.51 64.2328 1431.51 M64.2328 1427.81 Q70.0429 1427.81 73.0985 1432.42 Q76.1772 1437 76.1772 1445.75 Q76.1772 1454.48 73.0985 1459.08 Q70.0429 1463.67 64.2328 1463.67 Q58.4226 1463.67 55.344 1459.08 Q52.2884 1454.48 52.2884 1445.75 Q52.2884 1437 55.344 1432.42 Q58.4226 1427.81 64.2328 1427.81 Z\" fill=\"#000000\" fill-rule=\"evenodd\" fill-opacity=\"1\" /><path clip-path=\"url(#clip670)\" d=\"M 0 0 M56.2699 1155.83 L63.9087 1155.83 L63.9087 1129.47 L55.5986 1131.13 L55.5986 1126.87 L63.8624 1125.21 L68.5383 1125.21 L68.5383 1155.83 L76.1772 1155.83 L76.1772 1159.77 L56.2699 1159.77 L56.2699 1155.83 Z\" fill=\"#000000\" fill-rule=\"evenodd\" fill-opacity=\"1\" /><path clip-path=\"url(#clip670)\" d=\"M 0 0 M59.8578 852.602 L76.1772 852.602 L76.1772 856.537 L54.2328 856.537 L54.2328 852.602 Q56.8949 849.848 61.4782 845.218 Q66.0846 840.565 67.2652 839.223 Q69.5105 836.7 70.3902 834.964 Q71.2929 833.204 71.2929 831.514 Q71.2929 828.76 69.3485 827.024 Q67.4272 825.288 64.3254 825.288 Q62.1263 825.288 59.6726 826.052 Q57.2421 826.815 54.4643 828.366 L54.4643 823.644 Q57.2884 822.51 59.7421 821.931 Q62.1958 821.352 64.2328 821.352 Q69.6031 821.352 72.7976 824.038 Q75.992 826.723 75.992 831.214 Q75.992 833.343 75.1818 835.264 Q74.3948 837.163 72.2883 839.755 Q71.7096 840.426 68.6078 843.644 Q65.5059 846.838 59.8578 852.602 Z\" fill=\"#000000\" fill-rule=\"evenodd\" fill-opacity=\"1\" /><path clip-path=\"url(#clip670)\" d=\"M 0 0 M69.0476 534.674 Q72.404 535.392 74.279 537.66 Q76.1772 539.929 76.1772 543.262 Q76.1772 548.378 72.6587 551.179 Q69.1402 553.98 62.6587 553.98 Q60.4828 553.98 58.168 553.54 Q55.8764 553.123 53.4227 552.267 L53.4227 547.753 Q55.3671 548.887 57.6819 549.466 Q59.9967 550.044 62.5198 550.044 Q66.918 550.044 69.2096 548.308 Q71.5244 546.572 71.5244 543.262 Q71.5244 540.207 69.3717 538.494 Q67.242 536.758 63.4226 536.758 L59.3949 536.758 L59.3949 532.915 L63.6078 532.915 Q67.0569 532.915 68.8855 531.549 Q70.7142 530.16 70.7142 527.568 Q70.7142 524.906 68.8161 523.494 Q66.9411 522.059 63.4226 522.059 Q61.5013 522.059 59.3023 522.475 Q57.1032 522.892 54.4643 523.771 L54.4643 519.605 Q57.1264 518.864 59.4412 518.494 Q61.7791 518.123 63.8393 518.123 Q69.1633 518.123 72.2652 520.554 Q75.367 522.961 75.367 527.082 Q75.367 529.952 73.7235 531.943 Q72.08 533.91 69.0476 534.674 Z\" fill=\"#000000\" fill-rule=\"evenodd\" fill-opacity=\"1\" /><path clip-path=\"url(#clip670)\" d=\"M 0 0 M66.5939 219.593 L54.7884 238.042 L66.5939 238.042 L66.5939 219.593 M65.367 215.519 L71.2466 215.519 L71.2466 238.042 L76.1772 238.042 L76.1772 241.931 L71.2466 241.931 L71.2466 250.079 L66.5939 250.079 L66.5939 241.931 L50.9921 241.931 L50.9921 237.417 L65.367 215.519 Z\" fill=\"#000000\" fill-rule=\"evenodd\" fill-opacity=\"1\" /><polyline clip-path=\"url(#clip672)\" style=\"stroke:#009af9; stroke-width:4; stroke-opacity:1; fill:none\" points=\"\n",
       "  175.59,87.9763 179.826,829.148 184.062,844.6 188.298,833.694 192.534,816.969 196.77,799.811 201.006,784.327 205.242,771.528 209.478,761.946 213.714,755.862 \n",
       "  217.95,753.401 222.186,754.584 226.422,759.348 230.658,767.569 234.893,779.07 239.129,793.631 243.365,810.998 247.601,830.891 251.837,853.008 256.073,877.035 \n",
       "  260.309,902.65 264.545,929.529 268.781,957.353 273.017,985.811 277.253,1014.61 281.489,1043.45 285.725,1072.1 289.961,1100.3 294.197,1127.85 298.433,1154.55 \n",
       "  302.669,1180.24 306.905,1204.8 311.141,1228.11 315.377,1250.1 319.613,1270.7 323.849,1289.88 328.085,1307.63 332.321,1323.96 336.557,1338.89 340.793,1352.46 \n",
       "  345.029,1364.72 349.265,1375.72 353.501,1385.55 357.737,1394.27 361.973,1401.96 366.209,1408.71 370.445,1414.58 374.681,1419.67 378.917,1424.06 383.153,1427.81 \n",
       "  387.389,1431 391.625,1433.69 395.861,1435.95 400.097,1437.84 404.333,1439.4 408.569,1440.69 412.805,1441.74 417.041,1442.59 421.277,1443.28 425.513,1443.83 \n",
       "  429.749,1444.27 433.985,1444.61 438.22,1444.88 442.456,1445.09 446.692,1445.25 450.928,1445.37 455.164,1445.46 459.4,1445.53 463.636,1445.58 467.872,1445.62 \n",
       "  472.108,1445.65 476.344,1445.67 480.58,1445.68 484.816,1445.69 489.052,1445.7 493.288,1445.71 497.524,1445.71 501.76,1445.71 505.996,1445.71 510.232,1445.71 \n",
       "  514.468,1445.71 518.704,1445.72 522.94,1445.72 527.176,1445.72 531.412,1445.72 535.648,1445.72 539.884,1445.72 544.12,1445.72 548.356,1445.72 552.592,1445.72 \n",
       "  556.828,1445.72 561.064,1445.72 565.3,1445.72 569.536,1445.72 573.772,1445.72 578.008,1445.72 582.244,1445.72 586.48,1445.72 590.716,1445.72 594.952,1445.72 \n",
       "  599.188,1445.72 603.424,1445.72 607.66,1445.72 611.896,1445.72 616.132,1445.72 620.368,1445.72 624.604,1445.72 628.84,1445.72 633.076,1445.72 637.311,1445.72 \n",
       "  641.547,1445.72 645.783,1445.72 650.019,1445.72 654.255,1445.72 658.491,1445.72 662.727,1445.72 666.963,1445.72 671.199,1445.72 675.435,1445.72 679.671,1445.72 \n",
       "  683.907,1445.72 688.143,1445.72 692.379,1445.72 696.615,1445.72 700.851,1445.72 705.087,1445.72 709.323,1445.72 713.559,1445.72 717.795,1445.72 722.031,1445.72 \n",
       "  726.267,1445.72 730.503,1445.72 734.739,1445.72 738.975,1445.72 743.211,1445.72 747.447,1445.72 751.683,1445.72 755.919,1445.72 760.155,1445.72 764.391,1445.72 \n",
       "  768.627,1445.72 772.863,1445.72 777.099,1445.72 781.335,1445.72 785.571,1445.72 789.807,1445.72 794.043,1445.72 798.279,1445.72 802.515,1445.72 806.751,1445.72 \n",
       "  810.987,1445.72 815.223,1445.72 819.459,1445.72 823.695,1445.72 827.931,1445.72 832.167,1445.72 836.403,1445.72 840.638,1445.72 844.874,1445.72 849.11,1445.72 \n",
       "  853.346,1445.72 857.582,1445.72 861.818,1445.72 866.054,1445.72 870.29,1445.72 874.526,1445.72 878.762,1445.72 882.998,1445.72 887.234,1445.72 891.47,1445.72 \n",
       "  895.706,1445.72 899.942,1445.72 904.178,1445.72 908.414,1445.72 912.65,1445.72 916.886,1445.72 921.122,1445.72 925.358,1445.72 929.594,1445.72 933.83,1445.72 \n",
       "  938.066,1445.72 942.302,1445.72 946.538,1445.72 950.774,1445.72 955.01,1445.72 959.246,1445.72 963.482,1445.72 967.718,1445.72 971.954,1445.72 976.19,1445.72 \n",
       "  980.426,1445.72 984.662,1445.72 988.898,1445.72 993.134,1445.72 997.37,1445.72 1001.61,1445.72 1005.84,1445.72 1010.08,1445.72 1014.31,1445.72 1018.55,1445.72 \n",
       "  1022.79,1445.72 1027.02,1445.72 1031.26,1445.72 1035.49,1445.72 1039.73,1445.72 1043.97,1445.72 1048.2,1445.72 1052.44,1445.72 1056.67,1445.72 1060.91,1445.72 \n",
       "  1065.15,1445.72 1069.38,1445.72 1073.62,1445.72 1077.85,1445.72 1082.09,1445.72 1086.33,1445.72 1090.56,1445.72 1094.8,1445.72 1099.03,1445.72 1103.27,1445.72 \n",
       "  1107.51,1445.72 1111.74,1445.72 1115.98,1445.72 1120.21,1445.72 1124.45,1445.72 1128.69,1445.72 1132.92,1445.72 1137.16,1445.72 1141.39,1445.72 1145.63,1445.72 \n",
       "  1149.86,1445.72 1154.1,1445.72 1158.34,1445.72 1162.57,1445.72 1166.81,1445.72 1171.04,1445.72 1175.28,1445.72 1179.52,1445.72 1183.75,1445.72 1187.99,1445.72 \n",
       "  1192.22,1445.72 1196.46,1445.72 1200.7,1445.72 1204.93,1445.72 1209.17,1445.72 1213.4,1445.72 1217.64,1445.72 1221.88,1445.72 1226.11,1445.72 1230.35,1445.72 \n",
       "  1234.58,1445.72 1238.82,1445.72 1243.06,1445.72 1247.29,1445.72 1251.53,1445.72 1255.76,1445.72 1260,1445.72 1264.24,1445.72 1268.47,1445.72 1272.71,1445.72 \n",
       "  1276.94,1445.72 1281.18,1445.72 1285.42,1445.72 1289.65,1445.72 1293.89,1445.72 1298.12,1445.72 1302.36,1445.72 1306.6,1445.72 1310.83,1445.72 1315.07,1445.72 \n",
       "  1319.3,1445.72 1323.54,1445.72 1327.78,1445.72 1332.01,1445.72 1336.25,1445.72 1340.48,1445.72 1344.72,1445.72 1348.96,1445.72 1353.19,1445.72 1357.43,1445.72 \n",
       "  1361.66,1445.72 1365.9,1445.72 1370.14,1445.72 1374.37,1445.72 1378.61,1445.72 1382.84,1445.72 1387.08,1445.72 1391.32,1445.72 1395.55,1445.72 1399.79,1445.72 \n",
       "  1404.02,1445.72 1408.26,1445.72 1412.5,1445.72 1416.73,1445.72 1420.97,1445.72 1425.2,1445.72 1429.44,1445.72 1433.68,1445.72 1437.91,1445.72 1442.15,1445.72 \n",
       "  1446.38,1445.72 1450.62,1445.72 1454.86,1445.72 1459.09,1445.72 1463.33,1445.72 1467.56,1445.72 1471.8,1445.72 1476.04,1445.72 1480.27,1445.72 1484.51,1445.72 \n",
       "  1488.74,1445.72 1492.98,1445.72 1497.22,1445.72 1501.45,1445.72 1505.69,1445.72 1509.92,1445.72 1514.16,1445.72 1518.4,1445.72 1522.63,1445.72 1526.87,1445.72 \n",
       "  1531.1,1445.72 1535.34,1445.72 1539.58,1445.72 1543.81,1445.72 1548.05,1445.72 1552.28,1445.72 1556.52,1445.72 1560.75,1445.72 1564.99,1445.72 1569.23,1445.72 \n",
       "  1573.46,1445.72 1577.7,1445.72 1581.93,1445.72 1586.17,1445.72 1590.41,1445.72 1594.64,1445.72 1598.88,1445.72 1603.11,1445.72 1607.35,1445.72 1611.59,1445.72 \n",
       "  1615.82,1445.72 1620.06,1445.72 1624.29,1445.72 1628.53,1445.72 1632.77,1445.72 1637,1445.72 1641.24,1445.72 1645.47,1445.72 1649.71,1445.72 1653.95,1445.72 \n",
       "  1658.18,1445.72 1662.42,1445.72 1666.65,1445.72 1670.89,1445.72 1675.13,1445.72 1679.36,1445.72 1683.6,1445.72 1687.83,1445.72 1692.07,1445.72 1696.31,1445.72 \n",
       "  1700.54,1445.72 1704.78,1445.72 1709.01,1445.72 1713.25,1445.72 1717.49,1445.72 1721.72,1445.72 1725.96,1445.72 1730.19,1445.72 1734.43,1445.72 1738.67,1445.72 \n",
       "  1742.9,1445.72 1747.14,1445.72 1751.37,1445.72 1755.61,1445.72 1759.85,1445.72 1764.08,1445.72 1768.32,1445.72 1772.55,1445.72 1776.79,1445.72 1781.03,1445.72 \n",
       "  1785.26,1445.72 1789.5,1445.72 1793.73,1445.72 1797.97,1445.72 1802.21,1445.72 1806.44,1445.72 1810.68,1445.72 1814.91,1445.72 1819.15,1445.72 1823.39,1445.72 \n",
       "  1827.62,1445.72 1831.86,1445.72 1836.09,1445.72 1840.33,1445.72 1844.57,1445.72 1848.8,1445.72 1853.04,1445.72 1857.27,1445.72 1861.51,1445.72 1865.75,1445.72 \n",
       "  1869.98,1445.72 1874.22,1445.72 1878.45,1445.72 1882.69,1445.72 1886.93,1445.72 1891.16,1445.72 1895.4,1445.72 1899.63,1445.72 1903.87,1445.72 1908.11,1445.72 \n",
       "  1912.34,1445.72 1916.58,1445.72 1920.81,1445.72 1925.05,1445.72 1929.29,1445.72 1933.52,1445.72 1937.76,1445.72 1941.99,1445.72 1946.23,1445.72 1950.46,1445.72 \n",
       "  1954.7,1445.72 1958.94,1445.72 1963.17,1445.72 1967.41,1445.72 1971.64,1445.72 1975.88,1445.72 1980.12,1445.72 1984.35,1445.72 1988.59,1445.72 1992.82,1445.72 \n",
       "  1997.06,1445.72 2001.3,1445.72 2005.53,1445.72 2009.77,1445.72 2014,1445.72 2018.24,1445.72 2022.48,1445.72 2026.71,1445.72 2030.95,1445.72 2035.18,1445.72 \n",
       "  2039.42,1445.72 2043.66,1445.72 2047.89,1445.72 2052.13,1445.72 2056.36,1445.72 2060.6,1445.72 2064.84,1445.72 2069.07,1445.72 2073.31,1445.72 2077.54,1445.72 \n",
       "  2081.78,1445.72 2086.02,1445.72 2090.25,1445.72 2094.49,1445.72 2098.72,1445.72 2102.96,1445.72 2107.2,1445.72 2111.43,1445.72 2115.67,1445.72 2119.9,1445.72 \n",
       "  2124.14,1445.72 2128.38,1445.72 2132.61,1445.72 2136.85,1445.72 2141.08,1445.72 2145.32,1445.72 2149.56,1445.72 2153.79,1445.72 2158.03,1445.72 2162.26,1445.72 \n",
       "  2166.5,1445.72 2170.74,1445.72 2174.97,1445.72 2179.21,1445.72 2183.44,1445.72 2187.68,1445.72 2191.92,1445.72 2196.15,1445.72 2200.39,1445.72 2204.62,1445.72 \n",
       "  2208.86,1445.72 2213.1,1445.72 2217.33,1445.72 2221.57,1445.72 2225.8,1445.72 2230.04,1445.72 2234.28,1445.72 2238.51,1445.72 2242.75,1445.72 2246.98,1445.72 \n",
       "  2251.22,1445.72 2255.46,1445.72 2259.69,1445.72 2263.93,1445.72 2268.16,1445.72 2272.4,1445.72 2276.64,1445.72 2280.87,1445.72 2285.11,1445.72 2289.34,1445.72 \n",
       "  \n",
       "  \"/>\n",
       "<polyline clip-path=\"url(#clip672)\" style=\"stroke:#e26f46; stroke-width:4; stroke-opacity:1; fill:none\" points=\"\n",
       "  175.59,1251.13 179.826,1168.56 184.062,1092.19 188.298,1018.43 192.534,946.769 196.77,877.431 201.006,810.922 205.242,747.842 209.478,688.807 213.714,634.413 \n",
       "  217.95,585.2 222.186,541.643 226.422,504.134 230.658,472.978 234.893,448.386 239.129,430.47 243.365,419.248 247.601,414.645 251.837,416.494 256.073,424.547 \n",
       "  260.309,438.479 264.545,457.899 268.781,482.356 273.017,511.355 277.253,544.364 281.489,580.827 285.725,620.171 289.961,661.823 294.197,705.215 298.433,749.793 \n",
       "  302.669,795.029 306.905,840.425 311.141,885.521 315.377,929.898 319.613,973.183 323.849,1015.05 328.085,1055.23 332.321,1093.48 336.557,1129.64 340.793,1163.58 \n",
       "  345.029,1195.2 349.265,1224.46 353.501,1251.36 357.737,1275.92 361.973,1298.19 366.209,1318.26 370.445,1336.22 374.681,1352.19 378.917,1366.3 383.153,1378.67 \n",
       "  387.389,1389.46 391.625,1398.81 395.861,1406.84 400.097,1413.71 404.333,1419.53 408.569,1424.43 412.805,1428.54 417.041,1431.94 421.277,1434.75 425.513,1437.05 \n",
       "  429.749,1438.92 433.985,1440.43 438.22,1441.63 442.456,1442.59 446.692,1443.34 450.928,1443.92 455.164,1444.38 459.4,1444.72 463.636,1444.99 467.872,1445.19 \n",
       "  472.108,1445.34 476.344,1445.44 480.58,1445.52 484.816,1445.58 489.052,1445.62 493.288,1445.65 497.524,1445.67 501.76,1445.69 505.996,1445.7 510.232,1445.7 \n",
       "  514.468,1445.71 518.704,1445.71 522.94,1445.71 527.176,1445.71 531.412,1445.71 535.648,1445.72 539.884,1445.72 544.12,1445.72 548.356,1445.72 552.592,1445.72 \n",
       "  556.828,1445.72 561.064,1445.72 565.3,1445.72 569.536,1445.72 573.772,1445.72 578.008,1445.72 582.244,1445.72 586.48,1445.72 590.716,1445.72 594.952,1445.72 \n",
       "  599.188,1445.72 603.424,1445.72 607.66,1445.72 611.896,1445.72 616.132,1445.72 620.368,1445.72 624.604,1445.72 628.84,1445.72 633.076,1445.72 637.311,1445.72 \n",
       "  641.547,1445.72 645.783,1445.72 650.019,1445.72 654.255,1445.72 658.491,1445.72 662.727,1445.72 666.963,1445.72 671.199,1445.72 675.435,1445.72 679.671,1445.72 \n",
       "  683.907,1445.72 688.143,1445.72 692.379,1445.72 696.615,1445.72 700.851,1445.72 705.087,1445.72 709.323,1445.72 713.559,1445.72 717.795,1445.72 722.031,1445.72 \n",
       "  726.267,1445.72 730.503,1445.72 734.739,1445.72 738.975,1445.72 743.211,1445.72 747.447,1445.72 751.683,1445.72 755.919,1445.72 760.155,1445.72 764.391,1445.72 \n",
       "  768.627,1445.72 772.863,1445.72 777.099,1445.72 781.335,1445.72 785.571,1445.72 789.807,1445.72 794.043,1445.72 798.279,1445.72 802.515,1445.72 806.751,1445.72 \n",
       "  810.987,1445.72 815.223,1445.72 819.459,1445.72 823.695,1445.72 827.931,1445.72 832.167,1445.72 836.403,1445.72 840.638,1445.72 844.874,1445.72 849.11,1445.72 \n",
       "  853.346,1445.72 857.582,1445.72 861.818,1445.72 866.054,1445.72 870.29,1445.72 874.526,1445.72 878.762,1445.72 882.998,1445.72 887.234,1445.72 891.47,1445.72 \n",
       "  895.706,1445.72 899.942,1445.72 904.178,1445.72 908.414,1445.72 912.65,1445.72 916.886,1445.72 921.122,1445.72 925.358,1445.72 929.594,1445.72 933.83,1445.72 \n",
       "  938.066,1445.72 942.302,1445.72 946.538,1445.72 950.774,1445.72 955.01,1445.72 959.246,1445.72 963.482,1445.72 967.718,1445.72 971.954,1445.72 976.19,1445.72 \n",
       "  980.426,1445.72 984.662,1445.72 988.898,1445.72 993.134,1445.72 997.37,1445.72 1001.61,1445.72 1005.84,1445.72 1010.08,1445.72 1014.31,1445.72 1018.55,1445.72 \n",
       "  1022.79,1445.72 1027.02,1445.72 1031.26,1445.72 1035.49,1445.72 1039.73,1445.72 1043.97,1445.72 1048.2,1445.72 1052.44,1445.72 1056.67,1445.72 1060.91,1445.72 \n",
       "  1065.15,1445.72 1069.38,1445.72 1073.62,1445.72 1077.85,1445.72 1082.09,1445.72 1086.33,1445.72 1090.56,1445.72 1094.8,1445.72 1099.03,1445.72 1103.27,1445.72 \n",
       "  1107.51,1445.72 1111.74,1445.72 1115.98,1445.72 1120.21,1445.72 1124.45,1445.72 1128.69,1445.72 1132.92,1445.72 1137.16,1445.72 1141.39,1445.72 1145.63,1445.72 \n",
       "  1149.86,1445.72 1154.1,1445.72 1158.34,1445.72 1162.57,1445.72 1166.81,1445.72 1171.04,1445.72 1175.28,1445.72 1179.52,1445.72 1183.75,1445.72 1187.99,1445.72 \n",
       "  1192.22,1445.72 1196.46,1445.72 1200.7,1445.72 1204.93,1445.72 1209.17,1445.72 1213.4,1445.72 1217.64,1445.72 1221.88,1445.72 1226.11,1445.72 1230.35,1445.72 \n",
       "  1234.58,1445.72 1238.82,1445.72 1243.06,1445.72 1247.29,1445.72 1251.53,1445.72 1255.76,1445.72 1260,1445.72 1264.24,1445.72 1268.47,1445.72 1272.71,1445.72 \n",
       "  1276.94,1445.72 1281.18,1445.72 1285.42,1445.72 1289.65,1445.72 1293.89,1445.72 1298.12,1445.72 1302.36,1445.72 1306.6,1445.72 1310.83,1445.72 1315.07,1445.72 \n",
       "  1319.3,1445.72 1323.54,1445.72 1327.78,1445.72 1332.01,1445.72 1336.25,1445.72 1340.48,1445.72 1344.72,1445.72 1348.96,1445.72 1353.19,1445.72 1357.43,1445.72 \n",
       "  1361.66,1445.72 1365.9,1445.72 1370.14,1445.72 1374.37,1445.72 1378.61,1445.72 1382.84,1445.72 1387.08,1445.72 1391.32,1445.72 1395.55,1445.72 1399.79,1445.72 \n",
       "  1404.02,1445.72 1408.26,1445.72 1412.5,1445.72 1416.73,1445.72 1420.97,1445.72 1425.2,1445.72 1429.44,1445.72 1433.68,1445.72 1437.91,1445.72 1442.15,1445.72 \n",
       "  1446.38,1445.72 1450.62,1445.72 1454.86,1445.72 1459.09,1445.72 1463.33,1445.72 1467.56,1445.72 1471.8,1445.72 1476.04,1445.72 1480.27,1445.72 1484.51,1445.72 \n",
       "  1488.74,1445.72 1492.98,1445.72 1497.22,1445.72 1501.45,1445.72 1505.69,1445.72 1509.92,1445.72 1514.16,1445.72 1518.4,1445.72 1522.63,1445.72 1526.87,1445.72 \n",
       "  1531.1,1445.72 1535.34,1445.72 1539.58,1445.72 1543.81,1445.72 1548.05,1445.72 1552.28,1445.72 1556.52,1445.72 1560.75,1445.72 1564.99,1445.72 1569.23,1445.72 \n",
       "  1573.46,1445.72 1577.7,1445.72 1581.93,1445.72 1586.17,1445.72 1590.41,1445.72 1594.64,1445.72 1598.88,1445.72 1603.11,1445.72 1607.35,1445.72 1611.59,1445.72 \n",
       "  1615.82,1445.72 1620.06,1445.72 1624.29,1445.72 1628.53,1445.72 1632.77,1445.72 1637,1445.72 1641.24,1445.72 1645.47,1445.72 1649.71,1445.72 1653.95,1445.72 \n",
       "  1658.18,1445.72 1662.42,1445.72 1666.65,1445.72 1670.89,1445.72 1675.13,1445.72 1679.36,1445.72 1683.6,1445.72 1687.83,1445.72 1692.07,1445.72 1696.31,1445.72 \n",
       "  1700.54,1445.72 1704.78,1445.72 1709.01,1445.72 1713.25,1445.72 1717.49,1445.72 1721.72,1445.72 1725.96,1445.72 1730.19,1445.72 1734.43,1445.72 1738.67,1445.72 \n",
       "  1742.9,1445.72 1747.14,1445.72 1751.37,1445.72 1755.61,1445.72 1759.85,1445.72 1764.08,1445.72 1768.32,1445.72 1772.55,1445.72 1776.79,1445.72 1781.03,1445.72 \n",
       "  1785.26,1445.72 1789.5,1445.72 1793.73,1445.72 1797.97,1445.72 1802.21,1445.72 1806.44,1445.72 1810.68,1445.72 1814.91,1445.72 1819.15,1445.72 1823.39,1445.72 \n",
       "  1827.62,1445.72 1831.86,1445.72 1836.09,1445.72 1840.33,1445.72 1844.57,1445.72 1848.8,1445.72 1853.04,1445.72 1857.27,1445.72 1861.51,1445.72 1865.75,1445.72 \n",
       "  1869.98,1445.72 1874.22,1445.72 1878.45,1445.72 1882.69,1445.72 1886.93,1445.72 1891.16,1445.72 1895.4,1445.72 1899.63,1445.72 1903.87,1445.72 1908.11,1445.72 \n",
       "  1912.34,1445.72 1916.58,1445.72 1920.81,1445.72 1925.05,1445.72 1929.29,1445.72 1933.52,1445.72 1937.76,1445.72 1941.99,1445.72 1946.23,1445.72 1950.46,1445.72 \n",
       "  1954.7,1445.72 1958.94,1445.72 1963.17,1445.72 1967.41,1445.72 1971.64,1445.72 1975.88,1445.72 1980.12,1445.72 1984.35,1445.72 1988.59,1445.72 1992.82,1445.72 \n",
       "  1997.06,1445.72 2001.3,1445.72 2005.53,1445.72 2009.77,1445.72 2014,1445.72 2018.24,1445.72 2022.48,1445.72 2026.71,1445.72 2030.95,1445.72 2035.18,1445.72 \n",
       "  2039.42,1445.72 2043.66,1445.72 2047.89,1445.72 2052.13,1445.72 2056.36,1445.72 2060.6,1445.72 2064.84,1445.72 2069.07,1445.72 2073.31,1445.72 2077.54,1445.72 \n",
       "  2081.78,1445.72 2086.02,1445.72 2090.25,1445.72 2094.49,1445.72 2098.72,1445.72 2102.96,1445.72 2107.2,1445.72 2111.43,1445.72 2115.67,1445.72 2119.9,1445.72 \n",
       "  2124.14,1445.72 2128.38,1445.72 2132.61,1445.72 2136.85,1445.72 2141.08,1445.72 2145.32,1445.72 2149.56,1445.72 2153.79,1445.72 2158.03,1445.72 2162.26,1445.72 \n",
       "  2166.5,1445.72 2170.74,1445.72 2174.97,1445.72 2179.21,1445.72 2183.44,1445.72 2187.68,1445.72 2191.92,1445.72 2196.15,1445.72 2200.39,1445.72 2204.62,1445.72 \n",
       "  2208.86,1445.72 2213.1,1445.72 2217.33,1445.72 2221.57,1445.72 2225.8,1445.72 2230.04,1445.72 2234.28,1445.72 2238.51,1445.72 2242.75,1445.72 2246.98,1445.72 \n",
       "  2251.22,1445.72 2255.46,1445.72 2259.69,1445.72 2263.93,1445.72 2268.16,1445.72 2272.4,1445.72 2276.64,1445.72 2280.87,1445.72 2285.11,1445.72 2289.34,1445.72 \n",
       "  \n",
       "  \"/>\n",
       "<path clip-path=\"url(#clip670)\" d=\"\n",
       "M1978.1 276.658 L2278.07 276.658 L2278.07 95.2176 L1978.1 95.2176  Z\n",
       "  \" fill=\"#ffffff\" fill-rule=\"evenodd\" fill-opacity=\"1\"/>\n",
       "<polyline clip-path=\"url(#clip670)\" style=\"stroke:#000000; stroke-width:4; stroke-opacity:1; fill:none\" points=\"\n",
       "  1978.1,276.658 2278.07,276.658 2278.07,95.2176 1978.1,95.2176 1978.1,276.658 \n",
       "  \"/>\n",
       "<polyline clip-path=\"url(#clip670)\" style=\"stroke:#009af9; stroke-width:4; stroke-opacity:1; fill:none\" points=\"\n",
       "  2002.99,155.698 2152.37,155.698 \n",
       "  \"/>\n",
       "<path clip-path=\"url(#clip670)\" d=\"M 0 0 M2191.1 175.385 Q2189.3 180.015 2187.59 181.427 Q2185.87 182.839 2183 182.839 L2179.6 182.839 L2179.6 179.274 L2182.1 179.274 Q2183.86 179.274 2184.83 178.44 Q2185.8 177.607 2186.98 174.505 L2187.75 172.561 L2177.26 147.052 L2181.77 147.052 L2189.88 167.329 L2197.98 147.052 L2202.49 147.052 L2191.1 175.385 Z\" fill=\"#000000\" fill-rule=\"evenodd\" fill-opacity=\"1\" /><path clip-path=\"url(#clip670)\" d=\"M 0 0 M2208.37 169.042 L2216.01 169.042 L2216.01 142.677 L2207.7 144.343 L2207.7 140.084 L2215.96 138.418 L2220.64 138.418 L2220.64 169.042 L2228.28 169.042 L2228.28 172.978 L2208.37 172.978 L2208.37 169.042 Z\" fill=\"#000000\" fill-rule=\"evenodd\" fill-opacity=\"1\" /><polyline clip-path=\"url(#clip670)\" style=\"stroke:#e26f46; stroke-width:4; stroke-opacity:1; fill:none\" points=\"\n",
       "  2002.99,216.178 2152.37,216.178 \n",
       "  \"/>\n",
       "<path clip-path=\"url(#clip670)\" d=\"M 0 0 M2191.1 235.865 Q2189.3 240.495 2187.59 241.907 Q2185.87 243.319 2183 243.319 L2179.6 243.319 L2179.6 239.754 L2182.1 239.754 Q2183.86 239.754 2184.83 238.92 Q2185.8 238.087 2186.98 234.985 L2187.75 233.041 L2177.26 207.532 L2181.77 207.532 L2189.88 227.809 L2197.98 207.532 L2202.49 207.532 L2191.1 235.865 Z\" fill=\"#000000\" fill-rule=\"evenodd\" fill-opacity=\"1\" /><path clip-path=\"url(#clip670)\" d=\"M 0 0 M2211.59 229.522 L2227.91 229.522 L2227.91 233.458 L2205.96 233.458 L2205.96 229.522 Q2208.63 226.768 2213.21 222.138 Q2217.82 217.485 2219 216.143 Q2221.24 213.62 2222.12 211.884 Q2223.02 210.124 2223.02 208.435 Q2223.02 205.68 2221.08 203.944 Q2219.16 202.208 2216.06 202.208 Q2213.86 202.208 2211.4 202.972 Q2208.97 203.735 2206.2 205.286 L2206.2 200.564 Q2209.02 199.43 2211.47 198.851 Q2213.93 198.273 2215.96 198.273 Q2221.33 198.273 2224.53 200.958 Q2227.72 203.643 2227.72 208.134 Q2227.72 210.263 2226.91 212.185 Q2226.13 214.083 2224.02 216.675 Q2223.44 217.347 2220.34 220.564 Q2217.24 223.759 2211.59 229.522 Z\" fill=\"#000000\" fill-rule=\"evenodd\" fill-opacity=\"1\" /></svg>\n"
      ]
     },
     "execution_count": 11,
     "metadata": {},
     "output_type": "execute_result"
    }
   ],
   "source": [
    "@time g = fokker_planck(AT);\n",
    "plot(aa,g)"
   ]
  },
  {
   "cell_type": "markdown",
   "metadata": {
    "slideshow": {
     "slide_type": "subslide"
    }
   },
   "source": [
    "- Achdou et al. (2020) page 29\n",
    "\n",
    "The deep underlying reason for this choise of discretization is that the KF equation actually *is* the \"transpose\" problem of the HJB equation. More precisely, the differential operator in the KF equation is the adjoint of the oprator in the HJB equation, the \"infinitesimal generator.\" Our transpose discretization of the KF equation is not only well-founded mathmatically; it is also extremely convenient: having solved the HJB equation, the solution of the Kolmogolov Forward equation is essentially \"for free.\""
   ]
  }
 ],
 "metadata": {
  "@webio": {
   "lastCommId": null,
   "lastKernelId": null
  },
  "celltoolbar": "Slideshow",
  "kernelspec": {
   "display_name": "Julia 1.6.1",
   "language": "julia",
   "name": "julia-1.6"
  },
  "language_info": {
   "file_extension": ".jl",
   "mimetype": "application/julia",
   "name": "julia",
   "version": "1.6.1"
  },
  "rise": {
   "enable_chalkboard": true
  }
 },
 "nbformat": 4,
 "nbformat_minor": 4
}
