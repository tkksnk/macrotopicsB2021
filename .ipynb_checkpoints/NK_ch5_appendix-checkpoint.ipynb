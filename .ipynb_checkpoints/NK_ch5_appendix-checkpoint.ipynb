{
 "cells": [
  {
   "cell_type": "markdown",
   "metadata": {
    "slideshow": {
     "slide_type": "subslide"
    }
   },
   "source": [
    "## 応用：ゼロ金利下の財政乗数\n",
    "\n",
    "- 以下の準線形モデルを考える（Christiano, Eichenbaum and Rebelo, 2011）\n",
    "\n",
    "\\begin{align*}\n",
    "  \\lambda_{t} &= \\mathbb{E}_{t}\\lambda_{t+1} \\color{red}{+} \\left(r_{n,t}-\\mathbb{E}_{t}\\pi_{t+1}-s_{t}\\right) \\\\\n",
    "  \\lambda_{t} &= d_{c}c_{t} + d_{n}n_{t} \\\\\n",
    "  \\pi_{t} &= \\kappa (c_{t} + \\frac{N}{1-N}n_{t}) + \\beta \\mathbb{E}_{t}\\pi_{t+1} \\\\\n",
    "  y_{t} &= (1-g_{y})c_{t} + g_{y}g_{t} \\\\\n",
    "  n_{t} &= y_{t} \\\\\n",
    "  r_{n,t}^{*} &= r^{*} + \\phi_{\\pi} \\mathbb{E}_{t}\\pi_{t+1} \\\\\n",
    "  r_{n,t} &= \\max \\{r_{n,t}^{*}, 0\\}\n",
    "\\end{align*}\n",
    "\n",
    "ここで、$d_{c} = \\gamma(1-\\sigma)-1, d_{n} = -(1-\\gamma)(1-\\sigma)N/(1-N)$"
   ]
  },
  {
   "cell_type": "markdown",
   "metadata": {
    "slideshow": {
     "slide_type": "subslide"
    }
   },
   "source": [
    "- 確率変数$(s_{t},g_{t})$はそれぞれ2つの値のいずれか$s_{t}\\in\\{s_{H},s_{L}\\}, g_{t}\\in\\{g_{H},g_{L}\\}$をとり、以下の遷移行列を持つ共通の確率過程に従うとする\n",
    "$$\n",
    "  P = \\left[\\begin{array}{cc}\n",
    "  1-p_{H} & p_{H} \\\\ \n",
    "  1-p_{L} & p_{L} \\end{array}\\right]\n",
    "$$\n",
    "\n",
    "すなわち、状態$H$：$(s_{t},g_{t})=(s_{H},g_{H})$、状態$L$：$(s_{t},g_{t})=(s_{L},g_{L})$"
   ]
  },
  {
   "cell_type": "markdown",
   "metadata": {
    "slideshow": {
     "slide_type": "subslide"
    }
   },
   "source": [
    "<!-- $N=2$の場合、準線形モデルの解析解は比較的容易に導出できる -->\n",
    "\n",
    "- モデルの解は以下のような関数となる\n",
    "\n",
    "$$\n",
    "  y = \\varsigma_{y}(s,g), \\quad \\pi = \\varsigma_{\\pi}(s,g), \\quad r_{n} = \\varsigma_{r_{n}}(s,g), \\\\\n",
    "  c = \\varsigma_{c}(s,g), \\quad n = \\varsigma_{n}(s,g), \\quad \\lambda = \\varsigma_{\\lambda}(s,g)\n",
    "$$"
   ]
  },
  {
   "cell_type": "markdown",
   "metadata": {
    "slideshow": {
     "slide_type": "subslide"
    }
   },
   "source": [
    "- $(s,g)$のとりうる値は2つだけなので、これらの関数も2つの値のいずれかをとる。すなわち、\n",
    "\n",
    "$$\n",
    "  y\\in\\{y_{H},y_{L}\\}, \\quad \\pi\\in\\{\\pi_{H},\\pi_{L}\\}, \\quad r_{n}\\in\\{r_{n,H},r_{n,L}\\}, \\\\\n",
    "  c\\in\\{c_{H},c_{L}\\}, \\quad n\\in\\{n_{H},n_{L}\\}, \\quad \\lambda\\in\\{\\lambda_{H},\\lambda_{L}\\},\n",
    "$$\n",
    "\n",
    "がモデルの解となる\n",
    "\n",
    "- 以下では、$r_{n,H}>0, r_{n,L}=0$という仮定を置く\n",
    "\n",
    "- また、状態$H$では財政支出はゼロに基準化（$g_{H}=0$）"
   ]
  },
  {
   "cell_type": "markdown",
   "metadata": {
    "slideshow": {
     "slide_type": "subslide"
    }
   },
   "source": [
    "- ゼロ金利下の財政乗数は、$g_{L}$を1単位増やしたときの$y_{L}$の増分：\n",
    "\n",
    "$$\n",
    "y_{L}(g_{L}=1)-y_{L}(g_{L}=0)\n",
    "$$\n",
    "\n",
    "として定義できる。時間反復法を使ってそのような$y_{L}$の増分を求めることができる\n",
    "\n",
    "| パラメータ | 説明 | 値 |\n",
    "| :--- | :--- | :---: |\n",
    "| $\\beta$ | 割引因子 | 0.99 |\n",
    "| $\\kappa$ | フィリップス曲線の傾き | 0.03 |\n",
    "| $\\phi_{\\pi}$ | 期待インフレの反応係数 | 1.5 |\n",
    "| $g_{y}$ | 政府支出対GDP比 | 0.2 |\n",
    "| $\\sigma$ | 異時点間の代替弾力性 | 1 |\n",
    "| $\\gamma$ | フリッシュ弾力性の逆数 | 0.29 |\n",
    "| $N$ | 労働投入の定常値 | 1/3 |\n",
    "| $p_H$ | 危機の発生確率 | $\\color{red}{0.0}$ |\n",
    "| $p_L$ | 危機の持続確率 | 0.8 |\n",
    "| $r^*$ | 自然利子率（通常時） | 1.0% |\n",
    "| $r_c$ | 自然利子率（危機時） | -1.5% |"
   ]
  },
  {
   "cell_type": "markdown",
   "metadata": {
    "slideshow": {
     "slide_type": "subslide"
    }
   },
   "source": [
    "- $p_{L}=0.8$のときの財政乗数の値は、ゼロ金利の下では$3.60$なのに対して、ゼロ金利を考慮しないと$1.12$と、大きく異なる\n",
    "\n",
    "- 財政乗数の値は、（ゼロ金利の下ではとくに）ショックの慣性に依存する\n",
    "\n",
    "<br>\n",
    "<div align=\"center\">\n",
    "<img src=\"./cer.png\",width=\"800\",height=\"400\">\n",
    "</div>"
   ]
  },
  {
   "cell_type": "markdown",
   "metadata": {
    "slideshow": {
     "slide_type": "slide"
    }
   },
   "source": [
    "## 準線形モデルにおける最適金融政策\n",
    "\n",
    "<!--- 時間反復法を使った実際の応用例として、準線形モデルを用いて、ゼロ金利制約下での最適金融政策を考えたAdam and Billi(2006; 2007)を紹介する -->\n",
    "\n",
    "<!-- - ニューケインジアン・モデルでは、一般には、社会計画者問題における最適配分を実現できない -->\n",
    "\n",
    "- 社会計画者問題における最適配分にできるだけ近い配分を達成する：均衡条件を制約として、社会厚生を最大化(=インフレと産出ギャップの分散を最小化)\n",
    "\n",
    "$$\n",
    "  \\max_{\\{y_{t},\\pi_{t},r_{n,t}\\}_{t=0}^{\\infty}} -\\mathbb{E}_{0}\\sum_{t=0}^{\\infty}\\beta^{t}\\left(\\pi_{t}^{2} + \\lambda y_{t}^{2}\\right)\n",
    "$$\n",
    "\n",
    "subject to\n",
    "\n",
    "\\begin{align*}\n",
    "  y_{t} &= \\mathbb{E}_{t}y_{t+1} - \\left(R_{t}-\\mathbb{E}_{t}\\pi_{t+1} - s_{t}\\right) \\\\\n",
    "  \\pi_{t} &= \\kappa y_{t} + \\beta \\mathbb{E}_{t}\\pi_{t+1} \\\\\n",
    "  R_{t} &\\geq 0\n",
    "\\end{align*}\n",
    "\n",
    "for $t=0,1,...$\n",
    "<!--  - テクニカルには、代表的家計の価値関数を2次関数で近似した目的関数を社会厚生とみなして、線形近似した均衡条件を制約として最大化する -->"
   ]
  },
  {
   "cell_type": "markdown",
   "metadata": {
    "slideshow": {
     "slide_type": "subslide"
    }
   },
   "source": [
    "- <font color=\"red\"><b>最適裁量政策</b></font>：政策決定者は毎期ごとの社会厚生を最大化する（将来の経路にコミットできない）\n",
    "\n",
    "- <b>最適コミットメント政策</b>：政策決定者が（０期において）現在だけでなく将来の変数についても操作し、将来の経路にコミットする"
   ]
  },
  {
   "cell_type": "markdown",
   "metadata": {
    "slideshow": {
     "slide_type": "subslide"
    }
   },
   "source": [
    "- 時間反復法は、最適金融政策の分析にも適用可能である\n",
    "\n",
    "- 負のショック($s_{t}=s_{L}$)が8四半期続くとしよう\n",
    "\n",
    "<br>\n",
    "<div align=\"center\">\n",
    "<img src=\"./comm.png\",width=\"800\",height=\"400\">\n",
    "\n",
    "- <font color=\"red\"><b>最適裁量政策</b></font>：ショックが続いている間のみ、政策金利を引き下げる。このような政策はショックを緩和するには十分でない\n",
    "\n",
    "- <b>最適コミットメント政策</b>：ショック期間が終わったあとも、政策金利を低くすることに予めコミットする。\n",
    "このような政策は、家計や企業の将来に対する期待を通じた緩和効果を持つ"
   ]
  },
  {
   "cell_type": "markdown",
   "metadata": {
    "slideshow": {
     "slide_type": "subslide"
    }
   },
   "source": [
    "- 最適コミットメント政策は、歴史依存的な政策とも呼ばれる：過去のコミットメントが現在の経済に影響を与える\n",
    "  - 動学的非整合性(Kydland and Prescott, 1977; Walsh, 2018; Nakata and Sunakawa, 2020)\n",
    "  - フォワードガイダンス・パズル(Del Negro, Giannoni, and Patterson, 2015)\n",
    "\n",
    "- 最適コミットメント政策は、コロナ禍の下でも各国中銀が行っているフォワードガイダンス政策の理論的基礎となる\n",
    "\n",
    "- ゼロ金利下の最適コミットメント政策は、特別な場合を除き、数値計算によってのみ分析が可能である"
   ]
  },
  {
   "cell_type": "markdown",
   "metadata": {
    "slideshow": {
     "slide_type": "subslide"
    }
   },
   "source": [
    "## 応用：フォワードガイダンス・ルール\n",
    "\n",
    "- 最適コミットメント政策を<i>近似する</i>ような政策ルールはどのようなものだろうか？\n",
    "\n",
    "\n",
    "- 以下の歴史依存的な政策ルールを考える(Reifschneider and Williams, 2000; Katagiri and Sunakawa, work in progress)\n",
    "\n",
    "\\begin{align*}\n",
    "  R_{t}^{*} &= r^{*} + \\phi_{\\pi} \\mathbb{E}_{t}\\pi_{t+1} \\\\\n",
    "  R_{t} &= \\max \\{R_{t}^{*}+m_{t-1}, 0\\} \\\\\n",
    "  m_{t} &= m_{t-1} - (R_{t}-R_{t}^{*})\n",
    "\\end{align*}\n",
    "\n",
    "ここで、$m_{-1}=0$は所与"
   ]
  },
  {
   "cell_type": "markdown",
   "metadata": {
    "slideshow": {
     "slide_type": "subslide"
    }
   },
   "source": [
    "## 時間反復法による数値解\n",
    "\n",
    "<!-- $N=2$の場合、準線形モデルの解析解は比較的容易に導出できる -->\n",
    "\n",
    "- ここで、$m_{t-1}$は内生状態変数(endogenous state variable)と呼ばれる\n",
    "\n",
    "- モデルの解は以下のような関数となる\n",
    "\n",
    "$$\n",
    "  y = \\varsigma_{y}(m_{-1},s), \\quad \\pi = \\varsigma_{\\pi}(m_{-1},s), \\quad R = \\varsigma_{R}(m_{-1},s), \\\\\n",
    "  \\color{magenta}{m = \\varsigma_{m}(m_{-1},s)}\n",
    "$$"
   ]
  },
  {
   "cell_type": "markdown",
   "metadata": {
    "slideshow": {
     "slide_type": "subslide"
    }
   },
   "source": [
    "- $m=\\varsigma_{m}(m_{-1},s)$\n",
    "\n",
    "<br>\n",
    "<div align=\"center\">\n",
    "<img src=\"./pf.png\",width=\"800\",height=\"400\">"
   ]
  },
  {
   "cell_type": "markdown",
   "metadata": {
    "slideshow": {
     "slide_type": "subslide"
    }
   },
   "source": [
    "<br>\n",
    "<div align=\"center\">\n",
    "<img src=\"./rw.png\",width=\"800\",height=\"400\">\n",
    "\n",
    "\\begin{align*}\n",
    "  R_{t} &= \\max \\{R_{t}^{*}+m_{t-1}, 0\\} \\\\\n",
    "  m_{t} &= m_{t-1} - (R_{t}-R_{t}^{*})\n",
    "\\end{align*}\n",
    "\n",
    "- $s_{t}=s_{L}$のとき、$0=R_{t}>R_{t}^{*} \\Leftrightarrow m_{t}-m_{t-1}<0$：$m_{t}$は積み上がっていく\n",
    "\n",
    "- $s_{t}=s_{H}$のとき、$0=R_{t}<R_{t}^{*} \\Leftrightarrow m_{t}-m_{t-1}>0$：$m_{t}$はゼロに近づいていく\n",
    "\n",
    "<!--\n",
    "- ZLBがバインドしなければ、$r_{n,t}=r_{n,t}^{*}>0$および$m_{t}=m_{t-1}=0$\n",
    "\n",
    "- 一度ZLBがバインドすると、\n",
    "\n",
    "    - $R_{t}>R_{t}^{*}$の場合、$m_{t}-m_{t-1}>0$：$m_{t}$は積み上がっていく\n",
    "\n",
    "    - $R_{t}<R_{t}^{*}$の場合、$m_{t}-m_{t-1}<0$：$m_{t}$はゼロに近づいていく\n",
    "        - $R_{t}^{*}>0$でも、$R_{t}^{*}<m_{t-1}$である限り、$R_{t}=0$\n",
    "        \n",
    "- $m_{t-1}>0$が、将来のより長めの低金利(lower-for-longer)へのコミットメントをあらわす\n",
    "-->"
   ]
  },
  {
   "cell_type": "markdown",
   "metadata": {
    "slideshow": {
     "slide_type": "subslide"
    }
   },
   "source": [
    "<br>\n",
    "<div align=\"center\">\n",
    "<img src=\"./rw2.png\",width=\"800\",height=\"400\">\n",
    "\n",
    "- ここでは、$\\phi_{\\pi}$の値を大きくすることで、最適コミットメント政策に近づく"
   ]
  },
  {
   "cell_type": "markdown",
   "metadata": {
    "slideshow": {
     "slide_type": "subslide"
    }
   },
   "source": [
    "### アルゴリズム\n",
    "\n",
    "1. グリッド生成：状態空間の評価点を有限個のグリッドに区切る\n",
    "  - $(s_{H},s_{L})$はすでに与えられている\n",
    "  - $m_{-1,j}\\in[0,m_{max}]$を$j=1,...,N$個のグリッド$(m_{-1,1},m_{-1,2},...,m_{-1,N})$に分割\n",
    "\n",
    "2. 収束の基準：収束の基準になるパラメータ$\\varepsilon>0$を与える\n",
    "\n",
    "\n",
    "3. 最適化および補間：古い政策関数および各グリッドにおける$(m_{-1,j},s_{i})$の値を所与として、それぞれのグリッド上の政策関数の値、すなわち新しい政策関数を求める\n",
    "\n",
    "$$\n",
    "  \\varsigma^{(n-1)}(m_{-1,j},s_{i}) \\rightarrow \\varsigma^{(n)}(m_{-1,j},s_{i})\n",
    "$$\n",
    "\n",
    "4. 全ての$(m_{-1,j},s_{i})$について$\\|\\varsigma^{(n)}(m_{-1,j},s_{i})-\\varsigma^{(n-1)}(m_{-1,j},s_{i})\\|<\\varepsilon$であればストップ。そうでなければ、$\\varsigma^{(n)}(m_{-1,j},s_{i})$を$\\varsigma^{(n-1)}(m_{-1,j},s_{i})$に代入して、ステップ3-4を繰り返す"
   ]
  },
  {
   "cell_type": "markdown",
   "metadata": {
    "slideshow": {
     "slide_type": "subslide"
    }
   },
   "source": [
    "3. 最適化および補間：古い政策関数\n",
    "\n",
    "$$\n",
    "y = \\varsigma_{y}^{(n-1)}(m_{-1},s), \\quad \\pi = \\varsigma_{\\pi}^{(n-1)}(m_{-1},s)\n",
    "$$\n",
    "\n",
    "およびそれぞれのグリッドにおける$(\\color{blue}{m_{-1,j},s_{i}})$の値を所与として、以下の式を$(\\color{magenta}{y_{i,j},\\pi_{i,j},R_{,i,j},R_{,i,j}^{*},m_{i,j}})$について解く\n",
    "\n",
    "\\begin{align*}\n",
    "  \\color{magenta}{y_{i,j}} &= y_{i}^{e}(\\color{magenta}{m_{i,j}}) - \\left(\\color{magenta}{R_{,i,j}}-\\pi_{i}^{e}(\\color{magenta}{m_{i,j}})-\\color{blue}{s_{i}}\\right) \\\\\n",
    "  \\color{magenta}{\\pi_{i,j}} &= \\kappa \\color{magenta}{y_{i,j}} + \\beta \\pi_{i}^{e}(\\color{magenta}{m_{i,j}}) \\\\\n",
    "  \\color{magenta}{R_{,i,j}^{*}} &= r^{*} + \\phi_{\\pi} \\pi_{i}^{e}(\\color{magenta}{m_{i,j}}) \\\\\n",
    "  \\color{magenta}{R_{,i,j}} &= \\max\\{\\color{magenta}{R_{,i,j}^{*}}-\\color{blue}{m_{-1,j}}, 0\\} \\\\\n",
    "  \\color{magenta}{m_{i,j}} &= \\color{blue}{m_{-1,j}} + (\\color{magenta}{R_{,i,j}}-\\color{magenta}{R_{,i,j}^{*}})\n",
    "\\end{align*}\n",
    "\n",
    "ゼロ点を数値的に解く最適化アルゴリズム（ニュートン法など）を用いる"
   ]
  },
  {
   "cell_type": "markdown",
   "metadata": {
    "slideshow": {
     "slide_type": "subslide"
    }
   },
   "source": [
    "ここで、$y_{i}^{e}(\\color{magenta}{m_{i,j}}),\\pi_{i}^{e}(\\color{magenta}{m_{i,j}})$は$\\color{magenta}{m_{i,j}}$の非線形な関数\n",
    "\n",
    "\\begin{align*}\n",
    "  y_{i}^{e}(\\color{magenta}{m_{i,j}}) &= (1-p_{i})\\varsigma_{y}^{(n-1)}(\\color{magenta}{m_{i,j}},s_{H}) + p_{i}\\varsigma_{y}^{(n-1)}(\\color{magenta}{m_{i,j}},s_{L}) \\\\\n",
    "  \\pi_{i}^{e}(\\color{magenta}{m_{i,j}}) &= (1-p_{i})\\varsigma_{\\pi}^{(n-1)}(\\color{magenta}{m_{i,j}},s_{H}) + p_{i}\\varsigma_{\\pi}^{(n-1)}(\\color{magenta}{m_{i,j}},s_{L})\n",
    "\\end{align*}\n",
    "\n",
    "である。$\\color{magenta}{m_{i,j}}$はグリッド上にあるとは限らないので、$\\varsigma^{(n-1)}(\\color{blue}{m_{-1,j},s_{i}})$の値から補間する必要がある\n",
    "\n",
    "このステップで、新しい政策関数のベクトル$\\varsigma^{(n)}(m_{-1,j},s_{i})$\n",
    "\n",
    "$$\n",
    "  (y_{H,1}^{(n)},y_{H,2}^{(n)},...,y_{H,N}^{(n)},y_{L,1}^{(n)},y_{L,2}^{(n)},...,,y_{L,N}^{(n)}), \\\\\n",
    "  (\\pi_{H,1}^{(n)},\\pi_{H,2}^{(n)},...,\\pi_{H,N}^{(n)},\\pi_{L,1}^{(n)},\\pi_{L,2}^{(n)},...,,\\pi_{L,N}^{(n)}), \\\\\n",
    "  (R_{H,1}^{(n)},R_{H,2}^{(n)},...,R_{H,N}^{(n)},R_{L,1}^{(n)},R_{L,2}^{(n)},...,,R_{L,N}^{(n)}), \\\\\n",
    "  (R_{H,1}^{*(n)},R_{H,2}^{*(n)},...,R_{H,N}^{*(n)},R_{L,1}^{*(n)},R_{L,2}^{*(n)},...,,R_{L,N}^{*(n)}), \\\\\n",
    "  (m_{H,1}^{(n)},m_{H,2}^{(n)},...,m_{H,N}^{(n)},m_{L,1}^{(n)},m_{L,2}^{(n)},...,,m_{L,N}^{(n)})\n",
    "$$\n",
    "\n",
    "を得る"
   ]
  }
 ],
 "metadata": {
  "celltoolbar": "Slideshow",
  "kernelspec": {
   "display_name": "Python 3",
   "language": "python",
   "name": "python3"
  },
  "language_info": {
   "codemirror_mode": {
    "name": "ipython",
    "version": 3
   },
   "file_extension": ".py",
   "mimetype": "text/x-python",
   "name": "python",
   "nbconvert_exporter": "python",
   "pygments_lexer": "ipython3",
   "version": "3.8.5"
  },
  "livereveal": {
   "autolaunch": true,
   "scroll": true
  },
  "rise": {
   "enable_chalkboard": true,
   "theme": "solarized",
   "transition": "convex"
  }
 },
 "nbformat": 4,
 "nbformat_minor": 4
}
