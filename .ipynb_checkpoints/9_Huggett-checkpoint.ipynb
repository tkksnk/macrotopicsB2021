{
 "cells": [
  {
   "cell_type": "code",
   "execution_count": 1,
   "metadata": {},
   "outputs": [],
   "source": [
    "import numpy as np\n",
    "import matplotlib.pyplot as plt\n",
    "import time"
   ]
  },
  {
   "cell_type": "code",
   "execution_count": 2,
   "metadata": {},
   "outputs": [],
   "source": [
    "# value function iteration\n",
    "def vfi(vmat0,bgrid,Ge,Pe,β,q):\n",
    "\n",
    "    Ne = np.shape(vmat0)[0]\n",
    "    Nb = np.shape(vmat0)[1]\n",
    "\n",
    "    # 0. construct the current utility\n",
    "    umat = np.zeros((Ne,Nb,Nb))\n",
    "    for k in range(Ne):\n",
    "        enow = Ge[k]\n",
    "        for i in range(Nb):\n",
    "            for j in range(Nb):\n",
    "                bnow = bgrid[i]\n",
    "                yterm = bnow + enow\n",
    "                bp = bgrid[j]\n",
    "                cnow = yterm-q*bp\n",
    "                if cnow>0:\n",
    "                    # if c >0, the utility value is log(c)\n",
    "                    umat[k,i,j] = np.log(cnow)\n",
    "                else:\n",
    "                    # if c<=0, the utility value is set so that the index j is never chosen. \n",
    "                    umat[k,i,j] = -1e+10        \n",
    "    \n",
    "    gmat0 = np.zeros((ne,nb),dtype=int)     # policy function\n",
    "    vmat1 = np.zeros((ne,nb))     # new value function\n",
    "\n",
    "    diff = 1e+4\n",
    "    it = 0 # counter\n",
    "\n",
    "    while diff>1e-7: # while loop until the condition diff>1e-4 met\n",
    "\n",
    "        for k in range(Ne): # for each k=0,1\n",
    "            # 1-1. compute the expected value function in the next period\n",
    "            vvec0 = Pe[k,0]*vmat0[0,:] + Pe[k,1]*vmat0[1,:]\n",
    "            \n",
    "            for i in range(nb): # for each i=0,...,nb-1\n",
    "                # 1-2. find the index j so as to maximize the value function\n",
    "                # NOTE: gmat0 stores indices for bgrid\n",
    "                j = np.argmax(umat[k,i,:] + β*vvec0)\n",
    "                vmat1[k,i] = umat[k,i,j] + β*vvec0[j] # V*(b)\n",
    "                gmat0[k,i] = j #bgrid[j]              # g(b)\n",
    "\n",
    "        diff = np.max(np.abs(vmat1-vmat0)) # the condition for convergence\n",
    "        it   = it + 1\n",
    "#         print(np.array([it,diff]))\n",
    "        # 2. update the value function       \n",
    "        vmat0 = np.copy(vmat1)\n",
    "        \n",
    "    return vmat0, gmat0"
   ]
  },
  {
   "cell_type": "code",
   "execution_count": 3,
   "metadata": {},
   "outputs": [],
   "source": [
    "# transition matrix\n",
    "def transition_matrix(gmat0,Pe):\n",
    "\n",
    "    Ne = np.shape(gmat0)[0]\n",
    "    Nb = np.shape(gmat0)[1]\n",
    "    A  = np.zeros((Ne*Nb,Ne*Nb))\n",
    "\n",
    "    for k in range(Ne):         # index for today's employment\n",
    "\n",
    "        for i in range(Nb):     # index for tomorrow's asset\n",
    "\n",
    "            j = int(gmat0[k,i]) # index for tomorrow's asset, from the policy function\n",
    "\n",
    "            for l in range(Ne): # index for tomorrow's employment\n",
    "\n",
    "                m = Nb*k+i # m = 1,...,2Nb\n",
    "                n = Nb*l+j # n = 1,...,2Nb\n",
    "                A[m,n] = Pe[k,l]\n",
    "                \n",
    "    return A"
   ]
  },
  {
   "cell_type": "code",
   "execution_count": 4,
   "metadata": {},
   "outputs": [],
   "source": [
    "# distribution\n",
    "def dist_iter(lambda0,A):\n",
    "\n",
    "    N = np.shape(lambda0)[0]\n",
    "    lambda1 = np.zeros(N)\n",
    "\n",
    "    diff = 1e+4\n",
    "    \n",
    "    while diff>1e-14:\n",
    "        lambda1 = A.T@lambda0\n",
    "        diff    = np.max(np.abs(lambda1-lambda0))\n",
    "#         print(diff)\n",
    "        lambda0 = lambda1/np.sum(lambda1)\n",
    "\n",
    "    return lambda0"
   ]
  },
  {
   "cell_type": "code",
   "execution_count": 5,
   "metadata": {},
   "outputs": [],
   "source": [
    "# setup\n",
    "# parameter values\n",
    "β   = 0.96\n",
    "μ   = 0.1 # unemployment insurance\n",
    "pee = 0.925\n",
    "puu = 0.5\n",
    "ϕ   = 2   # borrowing constraint\n",
    "\n",
    "# set grid\n",
    "nb = 1001\n",
    "bmin = -ϕ\n",
    "bmax = 12.0\n",
    "bgrid = np.linspace(bmin,bmax,nb)\n",
    "\n",
    "ne = 2\n",
    "Ge = np.array([1.0,μ]) \n",
    "Pe = np.array([[pee,1-pee],\n",
    "    [1-puu,puu]])"
   ]
  },
  {
   "cell_type": "code",
   "execution_count": 6,
   "metadata": {},
   "outputs": [
    {
     "data": {
      "text/plain": [
       "[<matplotlib.lines.Line2D at 0x7efe631815d0>]"
      ]
     },
     "execution_count": 6,
     "metadata": {},
     "output_type": "execute_result"
    },
    {
     "data": {
      "image/png": "[encoded data removed]",
      "text/plain": [
       "<Figure size 432x288 with 1 Axes>"
      ]
     },
     "metadata": {
      "needs_background": "light"
     },
     "output_type": "display_data"
    }
   ],
   "source": [
    "# Problem 2\n",
    "q = 0.96\n",
    "vmat0 = np.zeros((ne,nb))                   # initial (old) value function\n",
    "vmat0, gmat0 = vfi(vmat0,bgrid,Ge,Pe,β,q)   # value function iteration\n",
    "\n",
    "plt.plot(bgrid,bgrid[gmat0[0,:]]-bgrid)"
   ]
  },
  {
   "cell_type": "code",
   "execution_count": 7,
   "metadata": {},
   "outputs": [
    {
     "data": {
      "text/plain": [
       "[<matplotlib.lines.Line2D at 0x7efe6021e790>]"
      ]
     },
     "execution_count": 7,
     "metadata": {},
     "output_type": "execute_result"
    },
    {
     "data": {
      "image/png": "[encoded data removed]",
      "text/plain": [
       "<Figure size 432x288 with 1 Axes>"
      ]
     },
     "metadata": {
      "needs_background": "light"
     },
     "output_type": "display_data"
    }
   ],
   "source": [
    "# Problem 3\n",
    "lambda0 = np.ones(ne*nb)/(ne*nb)            # initial distribution\n",
    "A            = transition_matrix(gmat0,Pe)  # transition matrix\n",
    "lambda0      = dist_iter(lambda0,A)         # stationary distribution\n",
    "\n",
    "plt.plot(bgrid,lambda0[nb:2*nb])"
   ]
  },
  {
   "cell_type": "code",
   "execution_count": 8,
   "metadata": {},
   "outputs": [
    {
     "name": "stdout",
     "output_type": "stream",
     "text": [
      "[0.96       7.90325303]\n"
     ]
    }
   ],
   "source": [
    "# Problem 4\n",
    "# the aggregate demand for asset\n",
    "# NOTE: lambda is (2*nb times 1) vector, the first nb elements are for k=0 and the second nb elements are for k=1\n",
    "z = np.sum(bgrid*lambda0[0:nb]) + np.sum(bgrid*lambda0[nb:2*nb])\n",
    "print(np.array([q,z]))"
   ]
  },
  {
   "cell_type": "code",
   "execution_count": 13,
   "metadata": {},
   "outputs": [
    {
     "name": "stdout",
     "output_type": "stream",
     "text": [
      "[0.96       7.90325303]\n",
      "10.835036754608154\n",
      "[0.965      1.53501705]\n",
      "7.6202332973480225\n",
      "[0.97       0.45038705]\n",
      "7.462224006652832\n",
      "[ 0.975      -0.07707233]\n",
      "7.927222490310669\n",
      "[ 0.98      -0.4111963]\n",
      "7.275413751602173\n",
      "[ 0.985      -0.65274025]\n",
      "6.9965081214904785\n",
      "[ 0.99       -0.83512701]\n",
      "7.017656087875366\n"
     ]
    }
   ],
   "source": [
    "# Problem 5\n",
    "qvec = np.linspace(0.96,0.99,7)\n",
    "zvec = np.zeros(7)\n",
    "\n",
    "for i in range(7):\n",
    "\n",
    "    q = qvec[i]\n",
    "\n",
    "    vmat0 = np.zeros((ne,nb))                   # initial (old) value function\n",
    "    lambda0 = np.ones(ne*nb)/(ne*nb)            # initial distribution\n",
    "    \n",
    "    start = time.time()\n",
    "    vmat0, gmat0 = vfi(vmat0,bgrid,Ge,Pe,β,q)   # value function iteration\n",
    "    AA           = transition_matrix(gmat0,Pe)  # transition matrix\n",
    "    lambda0      = dist_iter(lambda0,AA)        # stationary distribution\n",
    "    z = np.sum(bgrid*lambda0[0:nb]) + np.sum(bgrid*lambda0[nb:2*nb])\n",
    "    zvec[i] = z\n",
    "    print(np.array([q,z]))\n",
    "    eptime = time.time()-start\n",
    "    print(eptime)"
   ]
  },
  {
   "cell_type": "code",
   "execution_count": 14,
   "metadata": {},
   "outputs": [
    {
     "data": {
      "text/plain": [
       "[<matplotlib.lines.Line2D at 0x7efe5a5a0890>]"
      ]
     },
     "execution_count": 14,
     "metadata": {},
     "output_type": "execute_result"
    },
    {
     "data": {
      "image/png": "[encoded data removed]",
      "text/plain": [
       "<Figure size 432x288 with 1 Axes>"
      ]
     },
     "metadata": {
      "needs_background": "light"
     },
     "output_type": "display_data"
    }
   ],
   "source": [
    "plt.plot(qvec,zvec)"
   ]
  },
  {
   "cell_type": "code",
   "execution_count": 11,
   "metadata": {},
   "outputs": [],
   "source": [
    "def findq(vmat0,lambda0,bgrid,Ge,Pe,β,q):\n",
    "\n",
    "    vmat0, gmat0 = vfi(vmat0,bgrid,Ge,Pe,β,q)  # value function iteration\n",
    "    A            = transition_matrix(gmat0,Pe) # transition matrix\n",
    "    lambda0      = dist_iter(lambda0,A)        # stationary distribution\n",
    "\n",
    "    z = np.sum(bgrid*lambda0[0:nb]) + np.sum(bgrid*lambda0[nb:2*nb])\n",
    "    \n",
    "    print(np.array([q,z]))\n",
    "    \n",
    "    return z"
   ]
  },
  {
   "cell_type": "code",
   "execution_count": 12,
   "metadata": {},
   "outputs": [
    {
     "name": "stdout",
     "output_type": "stream",
     "text": [
      "[0.96       7.90325303]\n",
      "[ 0.99       -0.83512701]\n",
      "[ 0.975      -0.07707233]\n",
      "[0.9675     0.86587796]\n",
      "[0.97125    0.28979356]\n",
      "[0.973125   0.08932787]\n",
      "[0.9740625  0.00245224]\n",
      "[ 0.97453125 -0.03633131]\n",
      "[ 0.97429688 -0.01790798]\n",
      "[ 0.97417969 -0.00493587]\n",
      "[ 0.97412109 -0.00284032]\n",
      "0.97412109375\n",
      "[ 0.97412109 -0.00284032]\n",
      "-0.002840318142119727\n"
     ]
    }
   ],
   "source": [
    "from scipy.optimize import bisect\n",
    "from functools import partial\n",
    "\n",
    "vmat0 = np.zeros((ne,nb))      # initial (old) value function\n",
    "vmat0[0,:] = np.log(0.5*Ge[0])/(1-β)\n",
    "vmat0[1,:] = np.log(0.5*Ge[1])/(1-β)\n",
    "lambda0 = np.ones(ne*nb)/(ne*nb)\n",
    "\n",
    "findq_partial = partial(findq,vmat0,lambda0,bgrid,Ge,Pe,β)\n",
    "qmin = 0.96\n",
    "qmax = 0.99\n",
    "q = bisect(findq_partial,qmin,qmax,xtol=1e-4)\n",
    "print(q)\n",
    "\n",
    "# check\n",
    "z = findq(vmat0,lambda0,bgrid,Ge,Pe,β,q)\n",
    "print(z)"
   ]
  },
  {
   "cell_type": "code",
   "execution_count": null,
   "metadata": {},
   "outputs": [],
   "source": []
  }
 ],
 "metadata": {
  "@webio": {
   "lastCommId": null,
   "lastKernelId": null
  },
  "kernelspec": {
   "display_name": "Python 3",
   "language": "python",
   "name": "python3"
  },
  "language_info": {
   "codemirror_mode": {
    "name": "ipython",
    "version": 3
   },
   "file_extension": ".py",
   "mimetype": "text/x-python",
   "name": "python",
   "nbconvert_exporter": "python",
   "pygments_lexer": "ipython3",
   "version": "3.7.6"
  }
 },
 "nbformat": 4,
 "nbformat_minor": 2
}
