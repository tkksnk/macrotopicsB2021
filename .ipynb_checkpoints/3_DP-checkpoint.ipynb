{
 "cells": [
  {
   "cell_type": "markdown",
   "metadata": {
    "slideshow": {
     "slide_type": "slide"
    }
   },
   "source": [
    "# Advanced Macro: Dynamic Programming\n",
    "<br>\n",
    "<div style=\"text-align: center;\">\n",
    "June 2020, revised June 2021 Takeki Sunakawa\n",
    "<br>\n",
    "<div style=\"text-align: center;\">    \n",
    "Hitotsubashi University"
   ]
  },
  {
   "cell_type": "markdown",
   "metadata": {
    "slideshow": {
     "slide_type": "slide"
    }
   },
   "source": [
    "# Introduction\n",
    "\n",
    "- A dynamic optimization problem (such as the one for the RCK model) is often *recursive*."
   ]
  },
  {
   "cell_type": "markdown",
   "metadata": {
    "slideshow": {
     "slide_type": "fragment"
    }
   },
   "source": [
    "- That is, the problem does not depend on the period in which individuals make decisions."
   ]
  },
  {
   "cell_type": "markdown",
   "metadata": {
    "slideshow": {
     "slide_type": "fragment"
    }
   },
   "source": [
    "- Dynamic programming is a very powerful tool to solve recursive problems."
   ]
  },
  {
   "cell_type": "markdown",
   "metadata": {
    "slideshow": {
     "slide_type": "subslide"
    }
   },
   "source": [
    "- My lecture is based on a Russell Cooper's note dp_intro_may2013.pdf (which is a part of his book). McCandless Chs. 4 and 5 is also a good reference."
   ]
  },
  {
   "cell_type": "markdown",
   "metadata": {
    "slideshow": {
     "slide_type": "slide"
    }
   },
   "source": [
    "# Cake-eating problem\n",
    "\n",
    "- We have a cake of size $W_{1}$ at the beginning of period $t=1$."
   ]
  },
  {
   "cell_type": "markdown",
   "metadata": {
    "slideshow": {
     "slide_type": "fragment"
    }
   },
   "source": [
    "- At each point of time, $t=1,2,3,\\dots,T$, we can consume some of the cake and save the rest."
   ]
  },
  {
   "cell_type": "markdown",
   "metadata": {
    "slideshow": {
     "slide_type": "fragment"
    }
   },
   "source": [
    "- Let $c_{t}$ be consumption in period $t$ and let $u(c_{t})$ be the flow of utility from this consumption."
   ]
  },
  {
   "cell_type": "markdown",
   "metadata": {
    "slideshow": {
     "slide_type": "fragment"
    }
   },
   "source": [
    "- $u(c)$ satisfies the standard assumptions: It is differentiable, strictly increasing, and strictly concave. That is, $u_{c}=u'(c)>0$ and $u_{cc}=u''(c)<0$. Also $\\lim_{c\\rightarrow0}u'(c)=\\infty$ (Inada condition)."
   ]
  },
  {
   "cell_type": "markdown",
   "metadata": {
    "slideshow": {
     "slide_type": "subslide"
    }
   },
   "source": [
    "## Cake-eating problem defined\n",
    "\n",
    "- The lifetime utility is given by\n",
    "\n",
    "$$\n",
    "    \\sum_{t=1}^{T}\\beta^{t-1}u(c_{t})\n",
    "$$\n",
    "\n",
    "where $\\beta\\in(0,1)$ is discount factor."
   ]
  },
  {
   "cell_type": "markdown",
   "metadata": {
    "slideshow": {
     "slide_type": "fragment"
    }
   },
   "source": [
    "- The cake does not depreciate (melt) or grow. Hence, the evolution of the cake over time is governed by: \n",
    "\n",
    "$$\n",
    "W_{t+1}=W_{t}-c_{t}\n",
    "$$\n",
    "\n",
    "for $t=1,2,...,T$. "
   ]
  },
  {
   "cell_type": "markdown",
   "metadata": {
    "slideshow": {
     "slide_type": "fragment"
    }
   },
   "source": [
    "- How to find the optimal path of consumption, $\\{c_{t}\\}_{t=1}^{T}$?"
   ]
  },
  {
   "cell_type": "markdown",
   "metadata": {
    "slideshow": {
     "slide_type": "subslide"
    }
   },
   "source": [
    "## Direct attack\n",
    "\n",
    "- One approach is to solve the optimization problem directly. Consider the problem of\n",
    "\n",
    "$$\n",
    "    \\max_{\\{c_{t},W_{t+1}\\}_{t=1}^{T}}\\sum_{t=1}^{T}\\beta^{t-1}u(c_{t})\n",
    "$$\n",
    "\n",
    "subject to\n",
    "\n",
    "$$\n",
    "    W_{t+1}=W_{t}-c_{t}\n",
    "$$\n",
    "\n",
    "for $t=1,2,3,...,T$. Also, $c_{t}>0$ and $W_{t}>0$ for each $t$. $W_{1}$ is given. "
   ]
  },
  {
   "cell_type": "markdown",
   "metadata": {
    "slideshow": {
     "slide_type": "subslide"
    }
   },
   "source": [
    "- Alternatively, the constraint is recursively obtained as\n",
    "\n",
    "$$\n",
    "    \\sum_{t=1}^{T}c_{t}+W_{T+1}=W_{1}.\n",
    "$$"
   ]
  },
  {
   "cell_type": "markdown",
   "metadata": {
    "slideshow": {
     "slide_type": "fragment"
    }
   },
   "source": [
    "- For the moment, we assume the size of the cake after the last period T is greater than or equal to 0:\n",
    "\n",
    "$$\n",
    "    W_{T+1} \\geq 0.\n",
    "$$"
   ]
  },
  {
   "cell_type": "markdown",
   "metadata": {
    "slideshow": {
     "slide_type": "subslide"
    }
   },
   "source": [
    "- Let $\\lambda$ and $\\phi$ be the multiplier on the constraints. We set up the Lagrangean as\n",
    "\n",
    "$$\n",
    "    L_{0} = \\sum_{t=1}^{T}\\beta^{t-1}u(c_{t}) + \\lambda \\left(W_{1} - \\sum_{t=1}^{T}c_{t}-W_{T+1} \\right) + \\phi W_{T+1}\n",
    "$$"
   ]
  },
  {
   "cell_type": "markdown",
   "metadata": {
    "slideshow": {
     "slide_type": "fragment"
    }
   },
   "source": [
    "- The FOCs are\n",
    "\n",
    "$$\n",
    "\\beta^{t-1}u'(c_{t})=\\lambda\n",
    "$$\n",
    "\n",
    "for $t=1,2,...,T$ and $\\phi=\\lambda$. "
   ]
  },
  {
   "cell_type": "markdown",
   "metadata": {
    "slideshow": {
     "slide_type": "fragment"
    }
   },
   "source": [
    "- Combining equations, \n",
    "\n",
    "$$\n",
    "    u'(c_{t})=\\beta u'(c_{t+1})\n",
    "$$\n",
    "\n",
    "holds for $t=1,2,...,T-1$, which is an Euler equation."
   ]
  },
  {
   "cell_type": "markdown",
   "metadata": {
    "slideshow": {
     "slide_type": "subslide"
    }
   },
   "source": [
    "- Note that having the Euler equation is *necessary* but not *sufficient*."
   ]
  },
  {
   "cell_type": "markdown",
   "metadata": {
    "slideshow": {
     "slide_type": "fragment"
    }
   },
   "source": [
    "- Suppose $W_{T+1}>0$ so that there is cake left over. This is clearly an inefficient plan. This shows $W_{T+1}=0$ and $\\lambda=\\phi>0$ must hold."
   ]
  },
  {
   "cell_type": "markdown",
   "metadata": {
    "slideshow": {
     "slide_type": "fragment"
    }
   },
   "source": [
    "- So, in effect, the problem is pinned down by an initial and terminal condition."
   ]
  },
  {
   "cell_type": "markdown",
   "metadata": {
    "slideshow": {
     "slide_type": "subslide"
    }
   },
   "source": [
    "## Value function\n",
    "\n",
    "- Let\n",
    "\n",
    "$$\n",
    "    V_{1}(W_{1})=\\max_{\\{c_{t},W_{t+1}\\}_{t=1}^{T}}\\sum_{t=1}^{T}\\beta^{t-1}u(c_{t}),\n",
    "$$\n",
    "\n",
    "which is called a value function."
   ]
  },
  {
   "cell_type": "markdown",
   "metadata": {
    "slideshow": {
     "slide_type": "fragment"
    }
   },
   "source": [
    "- Note that\n",
    "\n",
    "$$\n",
    "    V'_{1}(W_{1})=\\lambda=\\beta^{t-1}u'(c_{t})\n",
    "$$\n",
    "\n",
    "for $t=1,2,...,T$, as $W_{1}=\\sum_{t=1}^{T}c_{t}+W_{T+1}$."
   ]
  },
  {
   "cell_type": "markdown",
   "metadata": {
    "slideshow": {
     "slide_type": "fragment"
    }
   },
   "source": [
    "- **The Benveniste-Scheinkman theorem**: An increase in the size of the cake leads to an increase in lifetime utility equal to the marginal utility in *any* period. It doesn't matter when the extra cake is eaten given that the consumer is acting optimally."
   ]
  },
  {
   "cell_type": "markdown",
   "metadata": {
    "slideshow": {
     "slide_type": "subslide"
    }
   },
   "source": [
    "## Adding period 0\n",
    "\n",
    "- We add a period 0 and give an initial cake of size $W_{0}$."
   ]
  },
  {
   "cell_type": "markdown",
   "metadata": {
    "slideshow": {
     "slide_type": "fragment"
    }
   },
   "source": [
    "- Dynamic programming converts a T+1 period problem (for t=0,1,2,...T) into a 2 period problem with rewriting of the objective function. It uses the value function obtained from solving a shorter horizon (T period) problem."
   ]
  },
  {
   "cell_type": "markdown",
   "metadata": {
    "slideshow": {
     "slide_type": "subslide"
    }
   },
   "source": [
    "## Dynamic programming\n",
    "\n",
    "- Given $W_{0}$, consider the problem of\n",
    "\n",
    "$$\n",
    "    \\max_{c_{0}}u(c_{0})+\\beta V_{1}(W_{1})\n",
    "$$\n",
    "\n",
    "where $W_{1}=W_{0}-c_{0}$.\n"
   ]
  },
  {
   "cell_type": "markdown",
   "metadata": {
    "slideshow": {
     "slide_type": "fragment"
    }
   },
   "source": [
    "- **The principle of optimality**: It doesn’t matter how the cake will be consumed after the initial period 0 (i.e., $c_{1},c_{2},...,c_{T}$). The agent will be acting optimally and thus generating $V_{1}(W_{1})$."
   ]
  },
  {
   "cell_type": "markdown",
   "metadata": {
    "slideshow": {
     "slide_type": "subslide"
    }
   },
   "source": [
    "- Note that\n",
    "\n",
    "$$\n",
    "    u'(c_{0})=\\beta V'_{1}(W_{1}).\n",
    "$$"
   ]
  },
  {
   "cell_type": "markdown",
   "metadata": {
    "slideshow": {
     "slide_type": "fragment"
    }
   },
   "source": [
    "- Also from the Benveniste-Scheinkman formula,\n",
    "\n",
    "$$\n",
    "    V'_{1}(W_{1})=u'(c_{1})=\\beta u'(c_{2})=\\cdots=\\beta^{t}u'(c_{t+1})\n",
    "$$\n",
    "\n",
    "for $t=1,2,...,T-1$."
   ]
  },
  {
   "cell_type": "markdown",
   "metadata": {
    "slideshow": {
     "slide_type": "fragment"
    }
   },
   "source": [
    "- These two conditions yields\n",
    "\n",
    "$$\n",
    "    u'(c_{t})=\\beta u'(c_{t+1})\n",
    "$$\n",
    "\n",
    "for $t=0,1,2,...,T-1$."
   ]
  },
  {
   "cell_type": "markdown",
   "metadata": {
    "slideshow": {
     "slide_type": "slide"
    }
   },
   "source": [
    "# Building the value function\n",
    "\n",
    "- The problem looks simple by pretending that we have $V_{1}(W_{1})$. But how do we get it?"
   ]
  },
  {
   "cell_type": "markdown",
   "metadata": {
    "slideshow": {
     "slide_type": "fragment"
    }
   },
   "source": [
    "- We will build $V_{T}(W_{T}),V_{T-1}(W_{T-1}),\\cdots,V_{1}(W_{1})$ recursively starting from the last period's problem (this is called backward induction)."
   ]
  },
  {
   "cell_type": "markdown",
   "metadata": {
    "slideshow": {
     "slide_type": "subslide"
    }
   },
   "source": [
    "## Three period example\n",
    "\n",
    "- Suppose the following sequence problem\n",
    "\n",
    "$$\n",
    "    \\max_{\\{c_{t},W_{t+1}\\}_{t=0}^{2}} u(c_{0}) + \\beta u(c_{1}) + \\beta^{2} u(c_{2})\n",
    "$$\n",
    "\n",
    "subject to\n",
    "\n",
    "$$\n",
    "    W_{t+1}=W_{t}-c_{t}\n",
    "$$\n",
    "\n",
    "for $t=0,1,2$, given $W_{0}$."
   ]
  },
  {
   "cell_type": "markdown",
   "metadata": {
    "slideshow": {
     "slide_type": "subslide"
    }
   },
   "source": [
    "- Assume $u(c)=\\ln(c)$."
   ]
  },
  {
   "cell_type": "markdown",
   "metadata": {
    "slideshow": {
     "slide_type": "fragment"
    }
   },
   "source": [
    "- For $t=T=2$, $W_{t+1}=W_{3}=0$, so $c_{2}=W_{2}$ and $V_{2}(W_{2})=\\ln(W_{2})$."
   ]
  },
  {
   "cell_type": "markdown",
   "metadata": {
    "slideshow": {
     "slide_type": "subslide"
    }
   },
   "source": [
    "- For $t=1$, the value function is \n",
    "\n",
    "$$\n",
    "    V_{1}(W_{1}) = \\max_{W_{2}} \\ln(W_{1}-W_{2})+\\beta V_{2}(W_{2}), \\\\\n",
    "$$"
   ]
  },
  {
   "cell_type": "markdown",
   "metadata": {
    "slideshow": {
     "slide_type": "fragment"
    }
   },
   "source": [
    "- The first-order condition and resource constraint are\n",
    "\n",
    "$$\n",
    "    1/c_{1}=\\beta V_{2}'(W_{2})=\\beta/W_{2}, \\\\\n",
    "    W_{1}=c_{1}+c_{2}.\n",
    "$$\n",
    "\n",
    "Note that we know $W_{2}=c_{2}$."
   ]
  },
  {
   "cell_type": "markdown",
   "metadata": {
    "slideshow": {
     "slide_type": "fragment"
    }
   },
   "source": [
    "- Then we have\n",
    "\n",
    "$$\n",
    "    c_{1}=\\frac{W_{1}}{1+\\beta},\\quad c_{2}=\\frac{\\beta W_{1}}{1+\\beta}.\n",
    "$$"
   ]
  },
  {
   "cell_type": "markdown",
   "metadata": {
    "slideshow": {
     "slide_type": "subslide"
    }
   },
   "source": [
    "- From this, we can solve for\n",
    "\n",
    "$$\n",
    "\\begin{align}\n",
    "    V_{1}(W_{1}) &=\t\\ln(c_{1})+\\beta\\ln(c_{2}), \\\\\n",
    "    &= \\ln(W_{1}/(1+\\beta)) + \\beta\\ln(\\beta W_{1}/(1+\\beta)), \\\\\n",
    "    &= \\ln(1/(1+\\beta)) + \\ln(W_{1}) + \\beta\\ln(\\beta/(1+\\beta)) + \\beta\\ln(W_{1}), \\\\\n",
    "\t&= A_{1}+B_{1}\\ln(W_{1}),\n",
    "\\end{align}\n",
    "$$\n",
    "\n",
    "where $A_{1}=\\ln(1/(1+\\beta))+\\beta\\ln(\\beta/(1+\\beta))$ and $B_{1}=1+\\beta$."
   ]
  },
  {
   "cell_type": "markdown",
   "metadata": {
    "slideshow": {
     "slide_type": "subslide"
    }
   },
   "source": [
    "- For $t=0$, the value function is\n",
    "\n",
    "$$\n",
    "    V_{0}(W_{0})=\\max_{W_{1}}\\ln(W_{0}-W_{1})+\\beta V_{1}(W_{1}).\n",
    "$$"
   ]
  },
  {
   "cell_type": "markdown",
   "metadata": {
    "slideshow": {
     "slide_type": "fragment"
    }
   },
   "source": [
    "- The first order condition and resorce constraint are\n",
    "\n",
    "$$\n",
    "\\begin{align}\n",
    "    1/c_{0}=\\beta V_{1}'(W_{1})=\\beta B_{1}/W_{1}, \\\\\n",
    "    W_{0} = c_{0} + W_{1},\n",
    "\\end{align}\n",
    "$$\n",
    "\n",
    "where $B_{1}=1+\\beta$."
   ]
  },
  {
   "cell_type": "markdown",
   "metadata": {
    "slideshow": {
     "slide_type": "fragment"
    }
   },
   "source": [
    "- Note that from the $t=1$ problem, we know $W_{1}=(1+\\beta)c_{1}$, then\n",
    "\n",
    "$$\n",
    "    1/c_{0}=\\beta/c_{1},\\\\\n",
    "    W_{0} = c_{0} + (1+\\beta)c_{1}.\n",
    "$$"
   ]
  },
  {
   "cell_type": "markdown",
   "metadata": {
    "slideshow": {
     "slide_type": "subslide"
    }
   },
   "source": [
    "- Then we have\n",
    "\n",
    "$$\n",
    "    c_{0}=\\frac{W_{0}}{1+\\beta+\\beta^{2}}, \\quad c_{1}=\\frac{\\beta W_{0}}{1+\\beta+\\beta^{2}}.\n",
    "$$"
   ]
  },
  {
   "cell_type": "markdown",
   "metadata": {
    "slideshow": {
     "slide_type": "fragment"
    }
   },
   "source": [
    "- Also we know from the $t=1$ problem,\n",
    "\n",
    "$$\n",
    "    1/c_{1}=\\beta/c_{2}.\n",
    "$$\n",
    "\n",
    "- Then,\n",
    "\n",
    "$$\n",
    "    c_{2}=\\frac{\\beta^{2}W_{0}}{1+\\beta+\\beta^{2}}.\n",
    "$$"
   ]
  },
  {
   "cell_type": "markdown",
   "metadata": {
    "slideshow": {
     "slide_type": "subslide"
    }
   },
   "source": [
    "- Finally, substituting into $V_{0}(W_{0})$ yields\n",
    "\n",
    "$$\n",
    "\\begin{align}\n",
    "    V_{0}(W_{0})&=\\ln(c_{0}) + \\beta\\ln(c_{1}) + \\beta^{2}\\ln(c_{2}), \\\\\n",
    "    &=\\ln(W_{0}/(1+\\beta+\\beta^{2})) + \\beta\\ln(\\beta W_{0}/(1+\\beta+\\beta^{2})) + \\beta^{2}\\ln(\\beta^{2}W_{0}/(1+\\beta+\\beta^{2})), \\\\\n",
    "    &=A_{0}+B_{0}\\ln(W_{0}), \\\\\n",
    "\\end{align}\n",
    "$$\n",
    "\n",
    "where\n",
    "\n",
    "$$\n",
    "\\begin{align}    A_{0}&=\\ln(1/(1+\\beta+\\beta^{2}))+\\beta\\ln(\\beta/(1+\\beta+\\beta^{2}))+\\beta^{2}\\ln(\\beta^{2}/(1+\\beta+\\beta^{2})), \\\\\n",
    "B_{0}&=1+\\beta+\\beta^{2}.\n",
    "\\end{align}\n",
    "$$"
   ]
  },
  {
   "cell_type": "markdown",
   "metadata": {
    "slideshow": {
     "slide_type": "subslide"
    }
   },
   "source": [
    "## Infinite horizon\n",
    "\n",
    "- Suppose the following infinite horizon sequence problem\n",
    "\n",
    "$$\n",
    "    \\max_{\\{c_{t},W_{t+1}\\}_{t=0}^{\\infty}}\\sum_{t=0}^{\\infty}\\beta^{t}u(c_{t})\n",
    "$$\n",
    "\n",
    "subject to\n",
    "\n",
    "$$\n",
    "    W_{t+1}=W_{t}-c_{t}\n",
    "$$\n",
    "\n",
    "for $t=0,1,2,...,\\infty$, given $W_{0}$."
   ]
  },
  {
   "cell_type": "markdown",
   "metadata": {
    "slideshow": {
     "slide_type": "subslide"
    }
   },
   "source": [
    "- Specifying this as a dynamic programming problem\n",
    "\n",
    "$$\n",
    "    V(W)=\\max_{c\\in[0,W]}u(c)+\\beta V(W-c).\n",
    "$$"
   ]
  },
  {
   "cell_type": "markdown",
   "metadata": {
    "slideshow": {
     "slide_type": "fragment"
    }
   },
   "source": [
    "- Alternatively, we specify the problem as choosing tomorrow's state\n",
    "\n",
    "$$\n",
    "    V(W)=\\max_{W'\\in[0,W]}u(W-W')+\\beta V(W').\n",
    "$$\n",
    "\n",
    "Either specification yields the same result. "
   ]
  },
  {
   "cell_type": "markdown",
   "metadata": {
    "slideshow": {
     "slide_type": "fragment"
    }
   },
   "source": [
    "- This is a functional equation called as a **Bellman equation**."
   ]
  },
  {
   "cell_type": "markdown",
   "metadata": {
    "slideshow": {
     "slide_type": "subslide"
    }
   },
   "source": [
    "## Analytical example\n",
    "\n",
    "- Sometimes there is the analytical solution. We use a guess and verify method."
   ]
  },
  {
   "cell_type": "markdown",
   "metadata": {
    "slideshow": {
     "slide_type": "fragment"
    }
   },
   "source": [
    "- Given the previous results in the three-period problem, we conjecture that the value function takes the form of:\n",
    "\n",
    "$$\n",
    "    V(W)=A+B\\ln W.\n",
    "$$"
   ]
  },
  {
   "cell_type": "markdown",
   "metadata": {
    "slideshow": {
     "slide_type": "fragment"
    }
   },
   "source": [
    "- Taking this guess, the functional equation becomes\n",
    "\n",
    "$$\n",
    "    A+B\\ln W = \\max_{W'}\\ln(W-W')+\\beta(A+B\\ln W')\n",
    "$$\n",
    "\n",
    "for all $W$."
   ]
  },
  {
   "cell_type": "markdown",
   "metadata": {
    "slideshow": {
     "slide_type": "subslide"
    }
   },
   "source": [
    "- After some algebra,\n",
    "\n",
    "$$\n",
    "    W'=\\frac{\\beta B}{1+\\beta B}W\n",
    "$$\n",
    "\n",
    "which implies\n",
    "\n",
    "$$\n",
    "    A+B\\ln W=\\ln\\frac{W}{1+\\beta B}+\\beta\\left[A+B\\ln\\left(\\frac{\\beta BW}{1+\\beta B}\\right)\\right]\n",
    "$$\n",
    "\n",
    "for all $W$. "
   ]
  },
  {
   "cell_type": "markdown",
   "metadata": {
    "slideshow": {
     "slide_type": "fragment"
    }
   },
   "source": [
    "- Collecting a constant and the terms related to $\\ln(W)$ in both sides,\n",
    "\n",
    "$$\n",
    "\\begin{align}\n",
    "    A&=\\beta A+\\beta B\\ln(\\beta B)-(1+\\beta B)\\ln(1+\\beta B), \\\\\n",
    "    B\\ln(W)&=\\ln(W)+\\beta B\\ln(W), \n",
    "\\end{align}\n",
    "$$\n",
    "\n",
    "which can be solved for $A$ and $B$."
   ]
  },
  {
   "cell_type": "markdown",
   "metadata": {
    "slideshow": {
     "slide_type": "subslide"
    }
   },
   "source": [
    "- Then we have\n",
    "\n",
    "$$\n",
    "\\begin{align}\n",
    "    A &= \\left(\\beta B\\ln(\\beta B)-(1+\\beta B)\\ln(1+\\beta B)\\right)/(1-\\beta), \\\\\n",
    "    B &= 1/(1-\\beta).\n",
    "\\end{align}\n",
    "$$"
   ]
  },
  {
   "cell_type": "markdown",
   "metadata": {
    "slideshow": {
     "slide_type": "fragment"
    }
   },
   "source": [
    "- With this solution, we also have\n",
    "\n",
    "$$\n",
    "    c=(1-\\beta)W, \\quad W'=\\beta W.\n",
    "$$\n",
    "\n",
    "The optimal policy is to save a constant fraction of the cake and eat the remaining fraction."
   ]
  },
  {
   "cell_type": "markdown",
   "metadata": {
    "slideshow": {
     "slide_type": "slide"
    }
   },
   "source": [
    "# Value function iteration\n",
    "\n",
    "- The above example can be solved numerically too. We use the value function iteration method with a successive approximation."
   ]
  },
  {
   "cell_type": "markdown",
   "metadata": {
    "slideshow": {
     "slide_type": "fragment"
    }
   },
   "source": [
    "- From the Bellman equation, we obtain the new value function $V^{*}(W)$\n",
    "\n",
    "$$\n",
    "    V^{*}(W) = \\max_{W'}\\left\\{ \\ln(W-W')+\\beta V(W')\\right\\},\n",
    "$$\n",
    "\n",
    "taking the old value function $V(W)$ as given."
   ]
  },
  {
   "cell_type": "markdown",
   "metadata": {
    "slideshow": {
     "slide_type": "subslide"
    }
   },
   "source": [
    "- We update the value function iteratively until the function converges, i.e., $\\left\\Vert V^{*}(W)-V(W)\\right\\Vert \\leq\\epsilon$."
   ]
  },
  {
   "cell_type": "markdown",
   "metadata": {
    "slideshow": {
     "slide_type": "fragment"
    }
   },
   "source": [
    "- We need to approximate $V(W')$, and numerically solve the maximization problem with regard to $W'$."
   ]
  },
  {
   "cell_type": "markdown",
   "metadata": {
    "slideshow": {
     "slide_type": "subslide"
    }
   },
   "source": [
    "## Successive approximation\n",
    "\n",
    "- $W$ is on a compact space $[0,\\bar{W}]$ and $V(W)$ is a function defined on the compact space."
   ]
  },
  {
   "cell_type": "markdown",
   "metadata": {
    "slideshow": {
     "slide_type": "fragment"
    }
   },
   "source": [
    "- Let $W_{i}\\in\\mathcal{W}=\\{W_{0},W_{1},...,W_{n-1}\\}$ where $W_{0}<W_{1}<...<W_{n-1}$. These are called *grid points*."
   ]
  },
  {
   "cell_type": "markdown",
   "metadata": {
    "slideshow": {
     "slide_type": "fragment"
    }
   },
   "source": [
    "- Then, $V(W)$ is approximated by a $(n\\times1)$ vector of the values $\\mathbf{v}=\\{V(W_{i})\\}_{i=0}^{n-1}$."
   ]
  },
  {
   "cell_type": "code",
   "execution_count": 7,
   "metadata": {
    "slideshow": {
     "slide_type": "subslide"
    }
   },
   "outputs": [],
   "source": [
    "import numpy as np\n",
    "\n",
    "# parameter\n",
    "β = 0.9                        # discount factor\n",
    "\n",
    "# set grid\n",
    "nw = 1001                       # number of grid points\n",
    "wgrid = np.linspace(0.0,1.0,nw) # evenly spaced grid points from 0.0 to 1.0\n",
    "wgrid[0] = wgrid[1]/10          # avoid w=c=0\n",
    "\n",
    "# analytical solution\n",
    "B = 1/(1-β)\n",
    "A = (β*B*np.log(β*B)-(1+β*B)*np.log(1+β*B))/(1-β)\n",
    "vvec = A + B*np.log(wgrid)      # value function\n",
    "wvec = β*wgrid                 # policy function"
   ]
  },
  {
   "cell_type": "markdown",
   "metadata": {
    "slideshow": {
     "slide_type": "subslide"
    }
   },
   "source": [
    "- We can successively update the approximation as follows:"
   ]
  },
  {
   "cell_type": "markdown",
   "metadata": {
    "slideshow": {
     "slide_type": "fragment"
    }
   },
   "source": [
    "0. Construct a matrix for the current utility $\\underset{(n \\times n)}{\\mathbf{U}}=\\{\\{u_{ij}\\}\\}$\n",
    "\n",
    "  - Let $i$ be the index for the current period's cake. That is, $W_{i}=W$.\n",
    "  \n",
    "  - Also let $j$ be the index for the next period's cake. That is, $W_{j}=W'$.\n",
    "  \n",
    "  - Then, if $c_{ij}=W_{i}-W_{j}>0$, set\n",
    "  $$\n",
    "    u_{ij} = \\ln c_{ij}\n",
    "  $$\n",
    "  Otherwise, set a large negative number (say -10000000000) to $u_{ij}$."
   ]
  },
  {
   "cell_type": "code",
   "execution_count": 8,
   "metadata": {
    "slideshow": {
     "slide_type": "subslide"
    }
   },
   "outputs": [],
   "source": [
    "# 0. construct the current utility\n",
    "umat = np.zeros((nw,nw))\n",
    "for iw in range(nw):\n",
    "    for jw in range(nw):\n",
    "        wnow = wgrid[iw]  # W\n",
    "        wp = wgrid[jw]    # W'\n",
    "        cnow = wnow-wp      # c=W-W'\n",
    "        if cnow>0:\n",
    "            # if c >0, the utility value is log(c)\n",
    "            umat[iw,jw] = np.log(cnow)\n",
    "        else:\n",
    "            # if c<=0, the utility value is set so that the index j is never chosen. \n",
    "            umat[iw,jw] = -1e+10 # -10000000000 (i.e., ten zeros)\n",
    "\n",
    "# NOTE: to avoid log(0) when wnow=wp=0\n",
    "umat[0,0] = np.log(wgrid[0])"
   ]
  },
  {
   "cell_type": "markdown",
   "metadata": {
    "slideshow": {
     "slide_type": "subslide"
    }
   },
   "source": [
    "1. For each index of the current period $i=0,1,...,n-1$ and given a vector of the values $\\{V(W_{i})\\}_{i=0}^{n-1}$, \n",
    "\n",
    "  - Let $\\underset{(n \\times 1)}{\\mathbf{u}}=[u_{i0},...,u_{ij},...,u_{in-1}]$ and $\\underset{(n \\times 1)}{\\mathbf{v}}=[V(W_{0}),...,V(W_{j}),...V(W_{n-1})]$.\n",
    "\n",
    "  - Find the index of the next period $j$ so as to maximize the value function\n",
    "$$\n",
    "    V^{*}(W_{i})=\\max_{j}\\left\\{ \\mathbf{u}+\\beta\\mathbf{v}\\right\\}\n",
    "$$\n",
    "\n",
    "  - Then we obtain a vector of the values $\\{V^{*}(W_{i})\\}_{i=0}^{n-1}$, which approximate the (new) value function."
   ]
  },
  {
   "cell_type": "markdown",
   "metadata": {
    "slideshow": {
     "slide_type": "fragment"
    }
   },
   "source": [
    "2. Update the old value function $\\{V(W_{i})\\}_{i=0}^{n-1}$ with the new value function $\\{V^{*}(W_{i})\\}_{i=0}^{n-1}$. Iterate 1-2\n",
    "until convergence."
   ]
  },
  {
   "cell_type": "markdown",
   "metadata": {
    "slideshow": {
     "slide_type": "skip"
    }
   },
   "source": [
    "1. Given $\\{V(W_{i})\\}_{i=0}^{n-1}$.\n",
    "  - Fix index $i$ s.t. $W_{i}\\in\\mathcal{W}$, and\n",
    "  - **find the largest index $j_{\\text{max}}$** s.t. $c=W_{i}-W_{j_{\\text{max}}}>0$.\n",
    "  - In this case, $j_{\\text{max}}=i-1$."
   ]
  },
  {
   "cell_type": "markdown",
   "metadata": {
    "slideshow": {
     "slide_type": "skip"
    }
   },
   "source": [
    "2. Let $\\mathbf{c}=[W_{i}-W_{0},...,W_{i}-W_{j},...,W_{i}-W_{j_{\\text{max}}}]$ and $\\mathbf{v}=[V(W_{0}),...,V(W_{j}),...V(W_{j_{\\text{max}}})]$. \n",
    "  - **Find the index j so as to maximize the value function**\n",
    "$$\n",
    "    V^{*}(W_{i})=\\max_{j}\\left\\{ \\ln\\mathbf{c}+\\beta\\mathbf{v}\\right\\},\n",
    "$$\n",
    "for $i=0,1,...,n_{W}-1$. "
   ]
  },
  {
   "cell_type": "markdown",
   "metadata": {
    "slideshow": {
     "slide_type": "skip"
    }
   },
   "source": [
    "3. Update $\\{V(W_{i})\\}_{i=0}^{n_{W}-1}$ by $\\{V^{*}(W_{i})\\}_{i=0}^{n_{W}-1}$. Iterate 1-3 until convergence."
   ]
  },
  {
   "cell_type": "code",
   "execution_count": 9,
   "metadata": {
    "slideshow": {
     "slide_type": "skip"
    }
   },
   "outputs": [],
   "source": [
    "def vfi(vvec0,wgrid,β):\n",
    "    \n",
    "    nw = np.shape(vvec0)[0]  # length of grid  \n",
    "    wvec0 = np.zeros(nw)     # policy function\n",
    "    vvec1 = np.zeros(nw)     # new value function\n",
    "\n",
    "    diff = 1e+4\n",
    "\n",
    "    while diff>1e-4: # while loop until the condition diff>1e-4 met\n",
    "\n",
    "        for iw in range(nw): # for each iw=0,...,nw-1\n",
    "\n",
    "            if iw==0: # case jwmax=-1\n",
    "            \n",
    "                # NOTE: we set wgrid[0]=eps to avoid log(0)\n",
    "                vvec1[0] = np.log(wgrid[0]) + β*vvec0[0]\n",
    "                wvec0[iw] = wgrid[0]\n",
    "\n",
    "            else: # case jwmax>=0\n",
    "                \n",
    "                # 1. find the largest index jmax\n",
    "                jwmax = iw-1\n",
    "                                \n",
    "                # 2. find the index j so as to maximize the value function\n",
    "                wnow  = wgrid[iw]        # W      scalar\n",
    "                wp    = wgrid[0:jwmax+1] # W'     (jwmax,1) vector (Be careful for slicing)\n",
    "                cc    = wnow-wp          # c=W-W' (jwmax,1) vector\n",
    "                vp    = vvec0[0:jwmax+1] # v      (jwmax,1) vector (Be careful for slicing)\n",
    "\n",
    "                jw    = np.argmax(np.log(cc) + β*vp)\n",
    "\n",
    "                vvec1[iw] = np.log(cc[jw]) + β*vp[jw] # V*(W)\n",
    "                wvec0[iw] = wgrid[jw]                 # W'(W)\n",
    "\n",
    "        diff  = np.max(np.abs(vvec1-vvec0)) # the condition for convergence\n",
    "        # 3. update the value function\n",
    "        vvec0 = np.copy(vvec1)\n",
    "\n",
    "    return vvec0, wvec0 "
   ]
  },
  {
   "cell_type": "code",
   "execution_count": 1,
   "metadata": {
    "slideshow": {
     "slide_type": "subslide"
    }
   },
   "outputs": [],
   "source": [
    "wvec0 = np.zeros(nw)     # policy function\n",
    "vvec0 = np.zeros(nw)     # old value function\n",
    "vvec1 = np.zeros(nw)     # new value function\n",
    "\n",
    "diff = 1e+4\n",
    "\n",
    "while diff>1e-4: # while loop until the condition diff>1e-4 met\n",
    "\n",
    "    for iw in range(nw): # for each index of the current period, iw=0,...,nw-1    \n",
    "        # 1. find the index of the next period jw so as to maximize the value function\n",
    "        jw    = np.argmax(uu[iw,:] + β*vvec0)\n",
    "        vvec1[iw] = uu[iw,jw] + β*vvec0[jw]   # V*(W)\n",
    "        wvec0[iw] = wgrid[jw]                  # W'(W)\n",
    "\n",
    "    diff  = np.max(np.abs(vvec1-vvec0)) # the condition for convergence\n",
    "    # 2. update the value function\n",
    "    vvec0 = np.copy(vvec1)"
   ]
  },
  {
   "cell_type": "code",
   "execution_count": 2,
   "metadata": {
    "slideshow": {
     "slide_type": "skip"
    }
   },
   "outputs": [
    {
     "name": "stdout",
     "output_type": "stream",
     "text": [
      "2.3147549629211426\n"
     ]
    }
   ],
   "source": [
    "import numpy as np\n",
    "import time\n",
    "\n",
    "# parameter\n",
    "β = 0.9\n",
    "\n",
    "# set grid\n",
    "nw = 1001\n",
    "wgrid = np.linspace(0.0,1.0,nw)\n",
    "wgrid[0] = wgrid[1]/10     # avoid w=c=0\n",
    "\n",
    "# analytical solution\n",
    "B = 1/(1-β)\n",
    "A = (β*B*np.log(β*B)-(1+β*B)*np.log(1+β*B))/(1-β)\n",
    "vvec = A + B*np.log(wgrid) # value function\n",
    "wvec = β*wgrid             # policy function\n",
    "\n",
    "# numetical solution\n",
    "start = time.time()\n",
    "vvec0 = np.log(wgrid)      # initial (old) value function\n",
    "vvec0, wvec0 = vfi(vvec0,wgrid,β) # value function iteration\n",
    "eptime = time.time()-start\n",
    "print(eptime)"
   ]
  },
  {
   "cell_type": "code",
   "execution_count": 11,
   "metadata": {
    "slideshow": {
     "slide_type": "subslide"
    }
   },
   "outputs": [
    {
     "data": {
      "text/plain": [
       "[<matplotlib.lines.Line2D at 0x24ee4382f48>]"
      ]
     },
     "execution_count": 11,
     "metadata": {},
     "output_type": "execute_result"
    },
    {
     "data": {
      "image/png": "[encoded data removed]",
      "text/plain": [
       "<Figure size 1080x720 with 2 Axes>"
      ]
     },
     "metadata": {
      "needs_background": "light"
     },
     "output_type": "display_data"
    }
   ],
   "source": [
    "import matplotlib.pyplot as plt\n",
    "plt.rc('xtick',labelsize=20) \n",
    "plt.rc('ytick',labelsize=20) \n",
    "\n",
    "fig = plt.figure(figsize=(15.0,10.0))\n",
    "ax  = fig.add_subplot(2,1,1); ax.grid();\n",
    "ax.set_ylabel(\"$V(W)$\",size=24);\n",
    "ax.plot(wgrid,vvec,'b-')\n",
    "ax.plot(wgrid,vvec0,'r--')\n",
    "\n",
    "ax  = fig.add_subplot(2,1,2); ax.grid();\n",
    "ax.set_xlabel(\"$W$\",size=24);\n",
    "ax.set_ylabel(\"$W'(W)$\",size=24);\n",
    "ax.plot(wgrid,wvec,'b-')\n",
    "ax.plot(wgrid,wvec0,'r--')"
   ]
  },
  {
   "cell_type": "markdown",
   "metadata": {
    "slideshow": {
     "slide_type": "slide"
    }
   },
   "source": [
    "# Applying dynamic programming to RCK models\n",
    "\n",
    "- The individual solves the problem of\n",
    "\n",
    "$$\n",
    "\\begin{align}\n",
    "    & \\max_{\\{c_{t},k_{t+1}\\}}\\sum_{t=0}^{\\infty}\\beta^{t}\\log c_{t} \\\\\n",
    "    & \\text{subject to} \\\\\n",
    "    & c_{t}+k_{t+1}-(1-\\delta)k_{t}=f(k_{t}), \\\\\n",
    "    & k_{0} \\text{ is given}.\n",
    "\\end{align}\n",
    "$$\n",
    "\n",
    "- $k_{t}$ is the state variable. What is the control variable?"
   ]
  },
  {
   "cell_type": "markdown",
   "metadata": {
    "slideshow": {
     "slide_type": "subslide"
    }
   },
   "source": [
    "## Bellman equation\n",
    "\n",
    "- The value function is given by\n",
    "\n",
    "$$\n",
    "    V(k_{0})=\\max\\sum_{t=0}^{\\infty}\\beta^{t}u(f(k_{t})+(1-\\delta)k_{t}-k_{t+1})\n",
    "$$\n",
    "\n",
    "- It can be written recursively\n",
    "\n",
    "$$\n",
    "    V(k)=\\max_{k'}u(f(k)+(1-\\delta)k-k')+\\beta V(k').\n",
    "$$"
   ]
  },
  {
   "cell_type": "markdown",
   "metadata": {
    "slideshow": {
     "slide_type": "subslide"
    }
   },
   "source": [
    "## Solving the Bellman equation\n",
    "\n",
    "- The first order condition wrt $k'$ is given by\n",
    "\n",
    "$$\n",
    "u'(\\underbrace{f(k)+(1-\\delta)k-k'}_{c})=\\beta V'(k').\n",
    "$$"
   ]
  },
  {
   "cell_type": "markdown",
   "metadata": {
    "slideshow": {
     "slide_type": "fragment"
    }
   },
   "source": [
    "- The Benveniste-Scheinkman theorem yields\n",
    "\n",
    "$$\n",
    "V'(k)=u'(\\underbrace{f(k)+(1-\\delta)k-k'}_{c})\\left(f'(k)+1-\\delta\\right).\n",
    "$$"
   ]
  },
  {
   "cell_type": "markdown",
   "metadata": {
    "slideshow": {
     "slide_type": "fragment"
    }
   },
   "source": [
    "- which implies\n",
    "\n",
    "$$\n",
    "V'(k')=u'(\\underbrace{f(k')+(1-\\delta)k'-k''}_{c'})\\left(f'(k')+1-\\delta\\right).\n",
    "$$"
   ]
  },
  {
   "cell_type": "markdown",
   "metadata": {
    "slideshow": {
     "slide_type": "subslide"
    }
   },
   "source": [
    "- Substitution leads to the Euler equation:\n",
    "\n",
    "$$\n",
    "u'(c)=\\beta u'(c')\\left(f'(k')+1-\\delta\\right).\n",
    "$$"
   ]
  },
  {
   "cell_type": "markdown",
   "metadata": {
    "slideshow": {
     "slide_type": "subslide"
    }
   },
   "source": [
    "## Value function iteration\n",
    "\n",
    "- We use the value function iteration method to find an approximation of the value and policy functions."
   ]
  },
  {
   "cell_type": "markdown",
   "metadata": {
    "slideshow": {
     "slide_type": "fragment"
    }
   },
   "source": [
    "- Assume $u(c)=\\ln(c)$ and $f(k)=k^{\\theta}$. We write the Bellman equation as \n",
    "\n",
    "$$\n",
    "V^{*}(k)=\\max_{k'}\\left\\{ \\ln(k^{\\theta}+(1-\\delta)k-k')+\\beta V(k')\\right\\} ,\n",
    "$$\n",
    "\n",
    "given the function $V(k)$."
   ]
  },
  {
   "cell_type": "markdown",
   "metadata": {
    "slideshow": {
     "slide_type": "subslide"
    }
   },
   "source": [
    "- We update the value function iteratively until the function converges, i.e., $\\left\\Vert V^{*}(k)-V(k)\\right\\Vert \\leq\\epsilon$."
   ]
  },
  {
   "cell_type": "markdown",
   "metadata": {
    "slideshow": {
     "slide_type": "fragment"
    }
   },
   "source": [
    "- We need to approximate $V(k')$, and numerically solve the maximization problem with regard to $k'$."
   ]
  },
  {
   "cell_type": "markdown",
   "metadata": {
    "slideshow": {
     "slide_type": "skip"
    }
   },
   "source": [
    "## Successive approximation\n",
    "\n",
    "- Let $k_{i}\\in\\mathcal{K}=\\{k_{0},k_{1},...,k_{n_{k}-1}\\}$ where $k_{0}<k_{1}<...<k_{n_{k}-1}$. These are called grid points."
   ]
  },
  {
   "cell_type": "markdown",
   "metadata": {
    "slideshow": {
     "slide_type": "skip"
    }
   },
   "source": [
    "- $V(k)$ is approximated by a $(n_{k}\\times1)$ vector of $\\{V(k_{i})\\}_{i=0}^{n_{k}-1}$ on grid points."
   ]
  },
  {
   "cell_type": "markdown",
   "metadata": {
    "slideshow": {
     "slide_type": "skip"
    }
   },
   "source": [
    "- We can successively update the approximation as follows:"
   ]
  },
  {
   "cell_type": "markdown",
   "metadata": {
    "slideshow": {
     "slide_type": "skip"
    }
   },
   "source": [
    "1. Given $\\{V(k_{i})\\}_{i=0}^{n-1}$. \n",
    "  - Fix index $i$ s.t. $k_{i}\\in\\mathcal{K}$, and \n",
    "  - find the largest index $j_{\\text{max}}$ s.t. $c=k_{i}^{\\theta}+(1-\\delta)k_{i}-k_{j_{\\text{max}}}>0.$"
   ]
  },
  {
   "cell_type": "markdown",
   "metadata": {
    "slideshow": {
     "slide_type": "skip"
    }
   },
   "source": [
    "2. Let $\\mathbf{c}=[Y_{i}-k_{0},...,Y_{i}-k_{j},...Y_{i}-k_{j_{\\text{max}}}]$ and $\\mathbf{v}=[V(k_{0}),...,V(k_{j}),...,V(k_{j_{\\text{max}}})]$. \n",
    "  - Find the index j so as to maximize the value function\n",
    "$$\n",
    "    V^{*}(k_{i})=\\max_{j}\\left\\{ \\ln\\mathbf{c}+\\beta\\mathbf{v}\\right\\},\n",
    "$$\n",
    "for $i=0,1,...,n_{k}-1$. "
   ]
  },
  {
   "cell_type": "markdown",
   "metadata": {
    "slideshow": {
     "slide_type": "skip"
    }
   },
   "source": [
    "3. Update $\\{V(k_{i})\\}_{i=0}^{n_{k}-1}$ by $\\{V^{*}(k_{i})\\}_{i=0}^{n_{k}-1}$. Iterate 1-3 until convergence."
   ]
  },
  {
   "cell_type": "code",
   "execution_count": 1,
   "metadata": {
    "slideshow": {
     "slide_type": "skip"
    }
   },
   "outputs": [],
   "source": [
    "def find_jkmax_vec(kgrid,θ,δ):\n",
    "\n",
    "    nk = np.shape(kgrid)[0] # length of grid\n",
    "\n",
    "    jkmax_vec = np.ones(nk)\n",
    "    for ik in range(nk): # for each ik=0,...,nk-1 (current period)\n",
    "\n",
    "        # RHS of the resource constraint\n",
    "        know = kgrid[ik]\n",
    "        yterm = know**θ + (1-δ)*know\n",
    "\n",
    "        # c+kp=yterm and c>0 implies kp<yterm         \n",
    "        for jk in range(nk): # for each jk=0,...,nk-1 (next period)\n",
    "\n",
    "            kp = kgrid[jk] # next period's k\n",
    "            if kp>=yterm:  # if kp>=yterm, terminate the loop\n",
    "                break\n",
    "\n",
    "        jkmax_vec[ik] = jk-1 # pick up jk-1 so that kp<yterm holds\n",
    "        \n",
    "    return jkmax_vec"
   ]
  },
  {
   "cell_type": "code",
   "execution_count": null,
   "metadata": {
    "slideshow": {
     "slide_type": "skip"
    }
   },
   "outputs": [],
   "source": [
    "def vfi(vvec0,kgrid,β,θ,δ):\n",
    "\n",
    "    nk = np.shape(vvec0)[0]\n",
    "    gvec0 = np.zeros(nk)     # policy function\n",
    "    vvec1 = np.zeros(nk)     # new value function\n",
    "\n",
    "    diff = 1e+4\n",
    "    it = 0 # counter\n",
    "\n",
    "    while diff>1e-4: # while loop until the condition diff>1e-4 met\n",
    "\n",
    "        for ik in range(nk): # for each ik=0,...,nk-1\n",
    "\n",
    "            # 1. find jkmax\n",
    "            jkmax = int(jkmax_vec[ik])\n",
    "\n",
    "            # 2. find the index j so as to maximize the value function\n",
    "            # ...\n",
    "\n",
    "        diff  = np.max(np.abs(vvec1-vvec0))\n",
    "        # 3. update the value function       \n",
    "        vvec0 = np.copy(vvec1)\n",
    "        it    = it + 1\n",
    "        \n",
    "    return vvec0, gvec0"
   ]
  },
  {
   "cell_type": "code",
   "execution_count": 2,
   "metadata": {
    "slideshow": {
     "slide_type": "skip"
    }
   },
   "outputs": [],
   "source": [
    "def vfi(vvec0,kgrid,β,θ,δ):\n",
    "\n",
    "    nk = np.shape(vvec0)[0]  # length of grid\n",
    "    gvec0 = np.zeros(nk)     # policy function\n",
    "    vvec1 = np.zeros(nk)     # new value function\n",
    "\n",
    "    diff = 1e+4\n",
    "    it = 0 # counter\n",
    "\n",
    "    while diff>1e-4: # while loop until the condition diff>1e-4 met\n",
    "\n",
    "        for ik in range(nk): # for each ik=0,...,nk-1\n",
    "\n",
    "            # 1. find jkmax\n",
    "            jkmax = int(jkmax_vec[ik])\n",
    "\n",
    "            # 2. find the index j so as to maximize the value function\n",
    "            know = kgrid[ik]        # k      scalar\n",
    "            yterm = know**θ + (1-δ)*know # yterm scalar\n",
    "\n",
    "            kp = kgrid[0:jkmax+1]   # k'     (jkmax,1) vector\n",
    "            cc = yterm-kp           # c=yterm-k' (jkmax,1) vector\n",
    "            vp = vvec0[0:jkmax+1]   # v      (jkmax,1) vector\n",
    "            \n",
    "            jk = np.argmax(np.log(cc) + β*vp)\n",
    "\n",
    "            vvec1[ik] = np.log(cc[jk]) + β*vp[jk] # V*(k)\n",
    "            gvec0[ik] = kgrid[jk]                 # g(k)\n",
    "\n",
    "        diff  = np.max(np.abs(vvec1-vvec0)) # the condition for convergence\n",
    "        # 3. update the value function       \n",
    "        vvec0 = np.copy(vvec1)\n",
    "        \n",
    "    return vvec0, gvec0"
   ]
  },
  {
   "cell_type": "code",
   "execution_count": 21,
   "metadata": {
    "slideshow": {
     "slide_type": "skip"
    }
   },
   "outputs": [],
   "source": [
    "def vfi2(vvec0,kgrid,β,θ,δ):\n",
    "\n",
    "    nk = np.shape(vvec0)[0]  # length of grid\n",
    "    \n",
    "    # 1. construct the current utility\n",
    "    uu = np.zeros((nk,nk))\n",
    "    for ik in range(nk):\n",
    "        for jk in range(nk):\n",
    "            know = kgrid[ik]  # W\n",
    "            yterm = know**θ + (1-δ)*know # yterm scalar\n",
    "            kp = kgrid[jk]    # W'\n",
    "            cc = yterm-kp      # c=W-W'\n",
    "            if cc>0:\n",
    "                # if c >0, the utility value is log(c)\n",
    "                uu[ik,jk] = np.log(cc)\n",
    "            else:\n",
    "                # if c<=0, the utility value is set so that the index j is never chosen. \n",
    "                uu[ik,jk] = -1e+10\n",
    "\n",
    "                \n",
    "    gvec0 = np.zeros(nk)     # policy function\n",
    "    vvec1 = np.zeros(nk)     # new value function\n",
    "\n",
    "    diff = 1e+4\n",
    "    it = 0 # counter\n",
    "\n",
    "    while diff>1e-4: # while loop until the condition diff>1e-4 met\n",
    "\n",
    "        for ik in range(nk): # for each ik=0,...,nk-1\n",
    "\n",
    "#             # 1. find jkmax\n",
    "#             jkmax = int(jkmax_vec[ik])\n",
    "\n",
    "            # 2. find the index j so as to maximize the value function\n",
    "#             know = kgrid[ik]        # k      scalar\n",
    "#             yterm = know**θ + (1-δ)*know # yterm scalar\n",
    "\n",
    "#             kp = kgrid[0:jkmax+1]   # k'     (jkmax,1) vector\n",
    "#             cc = yterm-kp           # c=yterm-k' (jkmax,1) vector\n",
    "#             vp = vvec0[0:jkmax+1]   # v      (jkmax,1) vector\n",
    "            # 2. find the index j so as to maximize the value function\n",
    "            jk    = np.argmax(uu[ik,:] + β*vvec0)\n",
    "            vvec1[ik] = uu[ik,jk] + β*vvec0[jk]   # V*(k)\n",
    "            gvec0[ik] = kgrid[jk]                 # g(k)\n",
    "            \n",
    "        diff  = np.max(np.abs(vvec1-vvec0)) # the condition for convergence\n",
    "        # 3. update the value function       \n",
    "        vvec0 = np.copy(vvec1)\n",
    "        \n",
    "    return vvec0, gvec0"
   ]
  },
  {
   "cell_type": "code",
   "execution_count": 22,
   "metadata": {
    "slideshow": {
     "slide_type": "skip"
    }
   },
   "outputs": [
    {
     "name": "stdout",
     "output_type": "stream",
     "text": [
      "3.1063952445983887\n"
     ]
    }
   ],
   "source": [
    "import numpy as np\n",
    "import time\n",
    "\n",
    "# parameters\n",
    "β = 0.96\n",
    "θ = 0.36\n",
    "δ = 1.0\n",
    "\n",
    "# steady state\n",
    "kss = (θ*β/(1-β*(1-δ)))**(1/(1-θ))\n",
    "css = kss**θ-δ*kss\n",
    "\n",
    "# set grid\n",
    "nk = 1001;\n",
    "kgrid = np.linspace(0.3*kss,2.0*kss,nk)\n",
    "\n",
    "# analytical solution with del = 1\n",
    "B = θ/(1-θ*β)\n",
    "A = (np.log(1/(1+β*B))+β*B*np.log(β*B/(1+β*B)))/(1-β)\n",
    "vvec = A + B*np.log(kgrid)\n",
    "kvec = θ*β*kgrid**θ\n",
    "\n",
    "# numerical solution\n",
    "# jkmax_vec = find_jkmax_vec(kgrid,θ,δ) # find jkmax\n",
    "start = time.time()\n",
    "vvec0 = np.log(kgrid)      # initial (old) value function\n",
    "vvec0, kvec0 = vfi2(vvec0,kgrid,β,θ,δ) # value function iteration\n",
    "eptime = time.time()-start\n",
    "print(eptime)"
   ]
  },
  {
   "cell_type": "code",
   "execution_count": 23,
   "metadata": {
    "slideshow": {
     "slide_type": "skip"
    }
   },
   "outputs": [
    {
     "data": {
      "text/plain": [
       "[<matplotlib.lines.Line2D at 0x7f5fce202a90>]"
      ]
     },
     "execution_count": 23,
     "metadata": {},
     "output_type": "execute_result"
    },
    {
     "data": {
      "image/png": "[encoded data removed]",
      "text/plain": [
       "<Figure size 1080x720 with 2 Axes>"
      ]
     },
     "metadata": {
      "needs_background": "light"
     },
     "output_type": "display_data"
    }
   ],
   "source": [
    "import matplotlib.pyplot as plt\n",
    "plt.rc('xtick',labelsize=20) \n",
    "plt.rc('ytick',labelsize=20) \n",
    "\n",
    "fig = plt.figure(figsize=(15.0,10.0))\n",
    "ax  = fig.add_subplot(2,1,1); ax.grid();\n",
    "ax.set_ylabel(\"$V(k)$\",size=24);\n",
    "ax.plot(kgrid,vvec,'b-')\n",
    "ax.plot(kgrid,vvec0,'r--')\n",
    "\n",
    "ax  = fig.add_subplot(2,1,2); ax.grid();\n",
    "ax.set_xlabel(\"$k$\",size=24);\n",
    "ax.set_ylabel(\"$g(k)$\",size=24);\n",
    "ax.plot(kgrid,kvec,'b-')\n",
    "ax.plot(kgrid,kvec0,'r--')"
   ]
  }
 ],
 "metadata": {
  "@webio": {
   "lastCommId": null,
   "lastKernelId": null
  },
  "celltoolbar": "Slideshow",
  "kernelspec": {
   "display_name": "Python 3",
   "language": "python",
   "name": "python3"
  },
  "language_info": {
   "codemirror_mode": {
    "name": "ipython",
    "version": 3
   },
   "file_extension": ".py",
   "mimetype": "text/x-python",
   "name": "python",
   "nbconvert_exporter": "python",
   "pygments_lexer": "ipython3",
   "version": "3.8.5"
  },
  "rise": {
   "enable_chalkboard": true
  }
 },
 "nbformat": 4,
 "nbformat_minor": 4
}
