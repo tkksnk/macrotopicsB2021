{
 "cells": [
  {
   "cell_type": "markdown",
   "metadata": {
    "slideshow": {
     "slide_type": "slide"
    }
   },
   "source": [
    "# Advanced Macro: Dynamic Programming\n",
    "<br>\n",
    "<div style=\"text-align: center;\">\n",
    "June 2020, revised June 2021 Takeki Sunakawa\n",
    "<br>\n",
    "<div style=\"text-align: center;\">    \n",
    "Hitotsubashi University"
   ]
  },
  {
   "cell_type": "markdown",
   "metadata": {
    "slideshow": {
     "slide_type": "slide"
    }
   },
   "source": [
    "# Introduction\n",
    "\n",
    "- A dynamic optimization problem (such as the one for the RCK model) is often *recursive*."
   ]
  },
  {
   "cell_type": "markdown",
   "metadata": {
    "slideshow": {
     "slide_type": "fragment"
    }
   },
   "source": [
    "- That is, the problem does not depend on the period in which individuals make decisions."
   ]
  },
  {
   "cell_type": "markdown",
   "metadata": {
    "slideshow": {
     "slide_type": "fragment"
    }
   },
   "source": [
    "- Dynamic programming is a very powerful tool to solve recursive problems."
   ]
  },
  {
   "cell_type": "markdown",
   "metadata": {
    "slideshow": {
     "slide_type": "subslide"
    }
   },
   "source": [
    "- My lecture is based on a Russell Cooper's note dp_intro_may2013.pdf (which is a part of his book). McCandless Chs. 4 and 5 is also a good reference."
   ]
  },
  {
   "cell_type": "markdown",
   "metadata": {
    "slideshow": {
     "slide_type": "slide"
    }
   },
   "source": [
    "# Cake-eating problem\n",
    "\n",
    "- We have a cake of size $W_{1}$ at the beginning of period $t=1$."
   ]
  },
  {
   "cell_type": "markdown",
   "metadata": {
    "slideshow": {
     "slide_type": "fragment"
    }
   },
   "source": [
    "- At each point of time, $t=1,2,3,\\dots,T$, we can consume some of the cake and save the rest."
   ]
  },
  {
   "cell_type": "markdown",
   "metadata": {
    "slideshow": {
     "slide_type": "fragment"
    }
   },
   "source": [
    "- Let $c_{t}$ be consumption in period $t$ and let $u(c_{t})$ be the flow of utility from this consumption."
   ]
  },
  {
   "cell_type": "markdown",
   "metadata": {
    "slideshow": {
     "slide_type": "fragment"
    }
   },
   "source": [
    "- $u(c)$ satisfies the standard assumptions: It is differentiable, strictly increasing, and strictly concave. That is, $u_{c}=u'(c)>0$ and $u_{cc}=u''(c)<0$. Also $\\lim_{c\\rightarrow0}u'(c)=\\infty$ (Inada condition)."
   ]
  },
  {
   "cell_type": "markdown",
   "metadata": {
    "slideshow": {
     "slide_type": "subslide"
    }
   },
   "source": [
    "## Cake-eating problem defined\n",
    "\n",
    "- The lifetime utility is given by\n",
    "\n",
    "$$\n",
    "    \\sum_{t=1}^{T}\\beta^{t-1}u(c_{t})\n",
    "$$\n",
    "\n",
    "where $\\beta\\in(0,1)$ is discount factor."
   ]
  },
  {
   "cell_type": "markdown",
   "metadata": {
    "slideshow": {
     "slide_type": "fragment"
    }
   },
   "source": [
    "- The cake does not depreciate (melt) or grow. Hence, the evolution of the cake over time is governed by: \n",
    "\n",
    "$$\n",
    "W_{t+1}=W_{t}-c_{t}\n",
    "$$\n",
    "\n",
    "for $t=1,2,...,T$. "
   ]
  },
  {
   "cell_type": "markdown",
   "metadata": {
    "slideshow": {
     "slide_type": "fragment"
    }
   },
   "source": [
    "- How to find the optimal path of consumption, $\\{c_{t}\\}_{t=1}^{T}$?"
   ]
  },
  {
   "cell_type": "markdown",
   "metadata": {
    "slideshow": {
     "slide_type": "subslide"
    }
   },
   "source": [
    "## Direct attack\n",
    "\n",
    "- One approach is to solve the optimization problem directly. Consider the problem of\n",
    "\n",
    "$$\n",
    "    \\max_{\\{c_{t},W_{t+1}\\}_{t=1}^{T}}\\sum_{t=1}^{T}\\beta^{t-1}u(c_{t})\n",
    "$$\n",
    "\n",
    "subject to\n",
    "\n",
    "$$\n",
    "    W_{t+1}=W_{t}-c_{t}\n",
    "$$\n",
    "\n",
    "for $t=1,2,3,...,T$. Also, $c_{t}>0$ and $W_{t}>0$ for each $t$. $W_{1}$ is given. "
   ]
  },
  {
   "cell_type": "markdown",
   "metadata": {
    "slideshow": {
     "slide_type": "subslide"
    }
   },
   "source": [
    "- Alternatively, the constraint is recursively obtained as\n",
    "\n",
    "$$\n",
    "    \\sum_{t=1}^{T}c_{t}+W_{T+1}=W_{1}.\n",
    "$$"
   ]
  },
  {
   "cell_type": "markdown",
   "metadata": {
    "slideshow": {
     "slide_type": "fragment"
    }
   },
   "source": [
    "- For the moment, we assume the size of the cake after the last period T is greater than or equal to 0:\n",
    "\n",
    "$$\n",
    "    W_{T+1} \\geq 0.\n",
    "$$"
   ]
  },
  {
   "cell_type": "markdown",
   "metadata": {
    "slideshow": {
     "slide_type": "subslide"
    }
   },
   "source": [
    "- Let $\\lambda$ and $\\phi$ be the multiplier on the constraints. We set up the Lagrangean as\n",
    "\n",
    "$$\n",
    "    L_{0} = \\sum_{t=1}^{T}\\beta^{t-1}u(c_{t}) + \\lambda \\left(W_{1} - \\sum_{t=1}^{T}c_{t}-W_{T+1} \\right) + \\phi W_{T+1}\n",
    "$$"
   ]
  },
  {
   "cell_type": "markdown",
   "metadata": {
    "slideshow": {
     "slide_type": "fragment"
    }
   },
   "source": [
    "- The FOCs are\n",
    "\n",
    "$$\n",
    "\\beta^{t-1}u'(c_{t})=\\lambda\n",
    "$$\n",
    "\n",
    "for $t=1,2,...,T$ and $\\phi=\\lambda$. "
   ]
  },
  {
   "cell_type": "markdown",
   "metadata": {
    "slideshow": {
     "slide_type": "fragment"
    }
   },
   "source": [
    "- Combining equations, \n",
    "\n",
    "$$\n",
    "    u'(c_{t})=\\beta u'(c_{t+1})\n",
    "$$\n",
    "\n",
    "holds for $t=1,2,...,T-1$, which is an Euler equation."
   ]
  },
  {
   "cell_type": "markdown",
   "metadata": {
    "slideshow": {
     "slide_type": "subslide"
    }
   },
   "source": [
    "- Note that having the Euler equation is *necessary* but not *sufficient*."
   ]
  },
  {
   "cell_type": "markdown",
   "metadata": {
    "slideshow": {
     "slide_type": "fragment"
    }
   },
   "source": [
    "- Suppose $W_{T+1}>0$ so that there is cake left over. This is clearly an inefficient plan. This shows $W_{T+1}=0$ and $\\lambda=\\phi>0$ must hold."
   ]
  },
  {
   "cell_type": "markdown",
   "metadata": {
    "slideshow": {
     "slide_type": "fragment"
    }
   },
   "source": [
    "- So, in effect, the problem is pinned down by an initial and terminal condition."
   ]
  },
  {
   "cell_type": "markdown",
   "metadata": {
    "slideshow": {
     "slide_type": "subslide"
    }
   },
   "source": [
    "## Value function\n",
    "\n",
    "- Let\n",
    "\n",
    "$$\n",
    "    V_{1}(W_{1})=\\max_{\\{c_{t},W_{t+1}\\}_{t=1}^{T}}\\sum_{t=1}^{T}\\beta^{t-1}u(c_{t}),\n",
    "$$\n",
    "\n",
    "which is called a value function."
   ]
  },
  {
   "cell_type": "markdown",
   "metadata": {
    "slideshow": {
     "slide_type": "fragment"
    }
   },
   "source": [
    "- Note that\n",
    "\n",
    "$$\n",
    "    V'_{1}(W_{1})=\\lambda=\\beta^{t-1}u'(c_{t})\n",
    "$$\n",
    "\n",
    "for $t=1,2,...,T$, as $W_{1}=\\sum_{t=1}^{T}c_{t}+W_{T+1}$."
   ]
  },
  {
   "cell_type": "markdown",
   "metadata": {
    "slideshow": {
     "slide_type": "fragment"
    }
   },
   "source": [
    "- **The Benveniste-Scheinkman theorem**: An increase in the size of the cake leads to an increase in lifetime utility equal to the marginal utility in *any* period. It doesn't matter when the extra cake is eaten given that the consumer is acting optimally."
   ]
  },
  {
   "cell_type": "markdown",
   "metadata": {
    "slideshow": {
     "slide_type": "subslide"
    }
   },
   "source": [
    "## Adding period 0\n",
    "\n",
    "- We add a period 0 and give an initial cake of size $W_{0}$."
   ]
  },
  {
   "cell_type": "markdown",
   "metadata": {
    "slideshow": {
     "slide_type": "fragment"
    }
   },
   "source": [
    "- Dynamic programming converts a T+1 period problem (for t=0,1,2,...T) into a 2 period problem with rewriting of the objective function. It uses the value function obtained from solving a shorter horizon (T period) problem."
   ]
  },
  {
   "cell_type": "markdown",
   "metadata": {
    "slideshow": {
     "slide_type": "subslide"
    }
   },
   "source": [
    "## Dynamic programming\n",
    "\n",
    "- Given $W_{0}$, consider the problem of\n",
    "\n",
    "$$\n",
    "    \\max_{c_{0}}u(c_{0})+\\beta V_{1}(W_{1})\n",
    "$$\n",
    "\n",
    "where $W_{1}=W_{0}-c_{0}$.\n"
   ]
  },
  {
   "cell_type": "markdown",
   "metadata": {
    "slideshow": {
     "slide_type": "fragment"
    }
   },
   "source": [
    "- **The principle of optimality**: It doesn’t matter how the cake will be consumed after the initial period 0 (i.e., $c_{1},c_{2},...,c_{T}$). The agent will be acting optimally and thus generating $V_{1}(W_{1})$."
   ]
  },
  {
   "cell_type": "markdown",
   "metadata": {
    "slideshow": {
     "slide_type": "subslide"
    }
   },
   "source": [
    "- Note that\n",
    "\n",
    "$$\n",
    "    u'(c_{0})=\\beta V'_{1}(W_{1}).\n",
    "$$"
   ]
  },
  {
   "cell_type": "markdown",
   "metadata": {
    "slideshow": {
     "slide_type": "fragment"
    }
   },
   "source": [
    "- Also from the Benveniste-Scheinkman formula,\n",
    "\n",
    "$$\n",
    "    V'_{1}(W_{1})=u'(c_{1})=\\beta u'(c_{2})=\\cdots=\\beta^{t}u'(c_{t+1})\n",
    "$$\n",
    "\n",
    "for $t=1,2,...,T-1$."
   ]
  },
  {
   "cell_type": "markdown",
   "metadata": {
    "slideshow": {
     "slide_type": "fragment"
    }
   },
   "source": [
    "- These two conditions yields\n",
    "\n",
    "$$\n",
    "    u'(c_{t})=\\beta u'(c_{t+1})\n",
    "$$\n",
    "\n",
    "for $t=0,1,2,...,T-1$."
   ]
  },
  {
   "cell_type": "markdown",
   "metadata": {
    "slideshow": {
     "slide_type": "slide"
    }
   },
   "source": [
    "# Building the value function\n",
    "\n",
    "- The problem looks simple by pretending that we have $V_{1}(W_{1})$. But how do we get it?"
   ]
  },
  {
   "cell_type": "markdown",
   "metadata": {
    "slideshow": {
     "slide_type": "fragment"
    }
   },
   "source": [
    "- We will build $V_{T}(W_{T}),V_{T-1}(W_{T-1}),\\cdots,V_{1}(W_{1})$ recursively starting from the last period's problem (this is called backward induction)."
   ]
  },
  {
   "cell_type": "markdown",
   "metadata": {
    "slideshow": {
     "slide_type": "subslide"
    }
   },
   "source": [
    "## Three period example\n",
    "\n",
    "- Suppose the following sequence problem\n",
    "\n",
    "$$\n",
    "    \\max_{\\{c_{t},W_{t+1}\\}_{t=0}^{2}} u(c_{0}) + \\beta u(c_{1}) + \\beta^{2} u(c_{2})\n",
    "$$\n",
    "\n",
    "subject to\n",
    "\n",
    "$$\n",
    "    W_{t+1}=W_{t}-c_{t}\n",
    "$$\n",
    "\n",
    "for $t=0,1,2$, given $W_{0}$."
   ]
  },
  {
   "cell_type": "markdown",
   "metadata": {
    "slideshow": {
     "slide_type": "subslide"
    }
   },
   "source": [
    "- Assume $u(c)=\\ln(c)$."
   ]
  },
  {
   "cell_type": "markdown",
   "metadata": {
    "slideshow": {
     "slide_type": "fragment"
    }
   },
   "source": [
    "- For $t=T=2$, $W_{t+1}=W_{3}=0$, so $c_{2}=W_{2}$ and $V_{2}(W_{2})=\\ln(W_{2})$."
   ]
  },
  {
   "cell_type": "markdown",
   "metadata": {
    "slideshow": {
     "slide_type": "subslide"
    }
   },
   "source": [
    "- For $t=1$, the value function is \n",
    "\n",
    "$$\n",
    "    V_{1}(W_{1}) = \\max_{W_{2}} \\ln(W_{1}-W_{2})+\\beta V_{2}(W_{2}), \\\\\n",
    "$$"
   ]
  },
  {
   "cell_type": "markdown",
   "metadata": {
    "slideshow": {
     "slide_type": "fragment"
    }
   },
   "source": [
    "- The first-order condition and resource constraint are\n",
    "\n",
    "$$\n",
    "    1/c_{1}=\\beta V_{2}'(W_{2})=\\beta/W_{2}, \\\\\n",
    "    W_{1}=c_{1}+c_{2}.\n",
    "$$\n",
    "\n",
    "Note that we know $W_{2}=c_{2}$."
   ]
  },
  {
   "cell_type": "markdown",
   "metadata": {
    "slideshow": {
     "slide_type": "fragment"
    }
   },
   "source": [
    "- Then we have\n",
    "\n",
    "$$\n",
    "    c_{1}=\\frac{W_{1}}{1+\\beta},\\quad c_{2}=\\frac{\\beta W_{1}}{1+\\beta}.\n",
    "$$"
   ]
  },
  {
   "cell_type": "markdown",
   "metadata": {
    "slideshow": {
     "slide_type": "subslide"
    }
   },
   "source": [
    "- From this, we can solve for\n",
    "\n",
    "$$\n",
    "\\begin{align}\n",
    "    V_{1}(W_{1}) &=\t\\ln(c_{1})+\\beta\\ln(c_{2}), \\\\\n",
    "    &= \\ln(W_{1}/(1+\\beta)) + \\beta\\ln(\\beta W_{1}/(1+\\beta)), \\\\\n",
    "    &= \\ln(1/(1+\\beta)) + \\ln(W_{1}) + \\beta\\ln(\\beta/(1+\\beta)) + \\beta\\ln(W_{1}), \\\\\n",
    "\t&= A_{1}+B_{1}\\ln(W_{1}),\n",
    "\\end{align}\n",
    "$$\n",
    "\n",
    "where $A_{1}=\\ln(1/(1+\\beta))+\\beta\\ln(\\beta/(1+\\beta))$ and $B_{1}=1+\\beta$."
   ]
  },
  {
   "cell_type": "markdown",
   "metadata": {
    "slideshow": {
     "slide_type": "subslide"
    }
   },
   "source": [
    "- For $t=0$, the value function is\n",
    "\n",
    "$$\n",
    "    V_{0}(W_{0})=\\max_{W_{1}}\\ln(W_{0}-W_{1})+\\beta V_{1}(W_{1}).\n",
    "$$"
   ]
  },
  {
   "cell_type": "markdown",
   "metadata": {
    "slideshow": {
     "slide_type": "fragment"
    }
   },
   "source": [
    "- The first order condition and resorce constraint are\n",
    "\n",
    "$$\n",
    "\\begin{align}\n",
    "    1/c_{0}=\\beta V_{1}'(W_{1})=\\beta B_{1}/W_{1}, \\\\\n",
    "    W_{0} = c_{0} + W_{1},\n",
    "\\end{align}\n",
    "$$\n",
    "\n",
    "where $B_{1}=1+\\beta$."
   ]
  },
  {
   "cell_type": "markdown",
   "metadata": {
    "slideshow": {
     "slide_type": "fragment"
    }
   },
   "source": [
    "- Note that from the $t=1$ problem, we know $W_{1}=(1+\\beta)c_{1}$, then\n",
    "\n",
    "$$\n",
    "    1/c_{0}=\\beta/c_{1},\\\\\n",
    "    W_{0} = c_{0} + (1+\\beta)c_{1}.\n",
    "$$"
   ]
  },
  {
   "cell_type": "markdown",
   "metadata": {
    "slideshow": {
     "slide_type": "subslide"
    }
   },
   "source": [
    "- Then we have\n",
    "\n",
    "$$\n",
    "    c_{0}=\\frac{W_{0}}{1+\\beta+\\beta^{2}}, \\quad c_{1}=\\frac{\\beta W_{0}}{1+\\beta+\\beta^{2}}.\n",
    "$$"
   ]
  },
  {
   "cell_type": "markdown",
   "metadata": {
    "slideshow": {
     "slide_type": "fragment"
    }
   },
   "source": [
    "- Also we know from the $t=1$ problem,\n",
    "\n",
    "$$\n",
    "    1/c_{1}=\\beta/c_{2}.\n",
    "$$\n",
    "\n",
    "- Then,\n",
    "\n",
    "$$\n",
    "    c_{2}=\\frac{\\beta^{2}W_{0}}{1+\\beta+\\beta^{2}}.\n",
    "$$"
   ]
  },
  {
   "cell_type": "markdown",
   "metadata": {
    "slideshow": {
     "slide_type": "subslide"
    }
   },
   "source": [
    "- Finally, substituting into $V_{0}(W_{0})$ yields\n",
    "\n",
    "$$\n",
    "\\begin{align}\n",
    "    V_{0}(W_{0})&=\\ln(c_{0}) + \\beta\\ln(c_{1}) + \\beta^{2}\\ln(c_{2}), \\\\\n",
    "    &=\\ln(W_{0}/(1+\\beta+\\beta^{2})) + \\beta\\ln(\\beta W_{0}/(1+\\beta+\\beta^{2})) + \\beta^{2}\\ln(\\beta^{2}W_{0}/(1+\\beta+\\beta^{2})), \\\\\n",
    "    &=A_{0}+B_{0}\\ln(W_{0}), \\\\\n",
    "\\end{align}\n",
    "$$\n",
    "\n",
    "where\n",
    "\n",
    "$$\n",
    "\\begin{align}    A_{0}&=\\ln(1/(1+\\beta+\\beta^{2}))+\\beta\\ln(\\beta/(1+\\beta+\\beta^{2}))+\\beta^{2}\\ln(\\beta^{2}/(1+\\beta+\\beta^{2})), \\\\\n",
    "B_{0}&=1+\\beta+\\beta^{2}.\n",
    "\\end{align}\n",
    "$$"
   ]
  },
  {
   "cell_type": "markdown",
   "metadata": {
    "slideshow": {
     "slide_type": "subslide"
    }
   },
   "source": [
    "## Infinite horizon\n",
    "\n",
    "- Suppose the following infinite horizon sequence problem\n",
    "\n",
    "$$\n",
    "    \\max_{\\{c_{t},W_{t+1}\\}_{t=0}^{\\infty}}\\sum_{t=0}^{\\infty}\\beta^{t}u(c_{t})\n",
    "$$\n",
    "\n",
    "subject to\n",
    "\n",
    "$$\n",
    "    W_{t+1}=W_{t}-c_{t}\n",
    "$$\n",
    "\n",
    "for $t=0,1,2,...,\\infty$, given $W_{0}$."
   ]
  },
  {
   "cell_type": "markdown",
   "metadata": {
    "slideshow": {
     "slide_type": "subslide"
    }
   },
   "source": [
    "- Specifying this as a dynamic programming problem\n",
    "\n",
    "$$\n",
    "    V(W)=\\max_{c\\in[0,W]}u(c)+\\beta V(W-c).\n",
    "$$"
   ]
  },
  {
   "cell_type": "markdown",
   "metadata": {
    "slideshow": {
     "slide_type": "fragment"
    }
   },
   "source": [
    "- Alternatively, we specify the problem as choosing tomorrow's state\n",
    "\n",
    "$$\n",
    "    V(W)=\\max_{W'\\in[0,W]}u(W-W')+\\beta V(W').\n",
    "$$\n",
    "\n",
    "Either specification yields the same result. "
   ]
  },
  {
   "cell_type": "markdown",
   "metadata": {
    "slideshow": {
     "slide_type": "fragment"
    }
   },
   "source": [
    "- This is a functional equation called as a **Bellman equation**."
   ]
  },
  {
   "cell_type": "markdown",
   "metadata": {
    "slideshow": {
     "slide_type": "subslide"
    }
   },
   "source": [
    "## Analytical example\n",
    "\n",
    "- Sometimes there is the analytical solution. We use a guess and verify method."
   ]
  },
  {
   "cell_type": "markdown",
   "metadata": {
    "slideshow": {
     "slide_type": "fragment"
    }
   },
   "source": [
    "- Given the previous results in the three-period problem, we conjecture that the value function takes the form of:\n",
    "\n",
    "$$\n",
    "    V(W)=A+B\\ln W.\n",
    "$$"
   ]
  },
  {
   "cell_type": "markdown",
   "metadata": {
    "slideshow": {
     "slide_type": "fragment"
    }
   },
   "source": [
    "- Taking this guess, the functional equation becomes\n",
    "\n",
    "$$\n",
    "    A+B\\ln W = \\max_{W'}\\ln(W-W')+\\beta(A+B\\ln W')\n",
    "$$\n",
    "\n",
    "for all $W$."
   ]
  },
  {
   "cell_type": "markdown",
   "metadata": {
    "slideshow": {
     "slide_type": "subslide"
    }
   },
   "source": [
    "- After some algebra,\n",
    "\n",
    "$$\n",
    "    W'=\\frac{\\beta B}{1+\\beta B}W\n",
    "$$\n",
    "\n",
    "which implies\n",
    "\n",
    "$$\n",
    "    A+B\\ln W=\\ln\\frac{W}{1+\\beta B}+\\beta\\left[A+B\\ln\\left(\\frac{\\beta BW}{1+\\beta B}\\right)\\right]\n",
    "$$\n",
    "\n",
    "for all $W$. "
   ]
  },
  {
   "cell_type": "markdown",
   "metadata": {
    "slideshow": {
     "slide_type": "fragment"
    }
   },
   "source": [
    "- Collecting a constant and the terms related to $\\ln(W)$ in both sides,\n",
    "\n",
    "$$\n",
    "\\begin{align}\n",
    "    A&=\\beta A+\\beta B\\ln(\\beta B)-(1+\\beta B)\\ln(1+\\beta B), \\\\\n",
    "    B\\ln(W)&=\\ln(W)+\\beta B\\ln(W), \n",
    "\\end{align}\n",
    "$$\n",
    "\n",
    "which can be solved for $A$ and $B$."
   ]
  },
  {
   "cell_type": "markdown",
   "metadata": {
    "slideshow": {
     "slide_type": "subslide"
    }
   },
   "source": [
    "- Then we have\n",
    "\n",
    "$$\n",
    "\\begin{align}\n",
    "    A &= \\left(\\beta B\\ln(\\beta B)-(1+\\beta B)\\ln(1+\\beta B)\\right)/(1-\\beta), \\\\\n",
    "    B &= 1/(1-\\beta).\n",
    "\\end{align}\n",
    "$$"
   ]
  },
  {
   "cell_type": "markdown",
   "metadata": {
    "slideshow": {
     "slide_type": "fragment"
    }
   },
   "source": [
    "- With this solution, we also have\n",
    "\n",
    "$$\n",
    "    c=(1-\\beta)W, \\quad W'=\\beta W.\n",
    "$$\n",
    "\n",
    "The optimal policy is to save a constant fraction of the cake and eat the remaining fraction."
   ]
  },
  {
   "cell_type": "markdown",
   "metadata": {
    "slideshow": {
     "slide_type": "slide"
    }
   },
   "source": [
    "# Value function iteration\n",
    "\n",
    "- The above example can be solved numerically too. We use the value function iteration method with a successive approximation."
   ]
  },
  {
   "cell_type": "markdown",
   "metadata": {
    "slideshow": {
     "slide_type": "fragment"
    }
   },
   "source": [
    "- From the Bellman equation, we obtain the new value function $V^{*}(W)$\n",
    "\n",
    "$$\n",
    "    V^{*}(W) = \\max_{W'}\\left\\{ \\ln(W-W')+\\beta V(W')\\right\\},\n",
    "$$\n",
    "\n",
    "taking the old value function $V(W)$ as given."
   ]
  },
  {
   "cell_type": "markdown",
   "metadata": {
    "slideshow": {
     "slide_type": "subslide"
    }
   },
   "source": [
    "- We update the value function iteratively until the function converges, i.e., $\\left\\Vert V^{*}(W)-V(W)\\right\\Vert \\leq\\epsilon$."
   ]
  },
  {
   "cell_type": "markdown",
   "metadata": {
    "slideshow": {
     "slide_type": "fragment"
    }
   },
   "source": [
    "- We need to approximate $V(W')$, and numerically solve the maximization problem with regard to $W'$."
   ]
  },
  {
   "cell_type": "markdown",
   "metadata": {
    "slideshow": {
     "slide_type": "subslide"
    }
   },
   "source": [
    "## Successive approximation\n",
    "\n",
    "- $W$ is on a compact space $[0,\\bar{W}]$ and $V(W)$ is a function defined on the compact space."
   ]
  },
  {
   "cell_type": "markdown",
   "metadata": {
    "slideshow": {
     "slide_type": "fragment"
    }
   },
   "source": [
    "- Let $W_{i}\\in\\mathcal{W}=\\{W_{0},W_{1},...,W_{n-1}\\}$ where $W_{0}<W_{1}<...<W_{n-1}$. These are called *grid points*."
   ]
  },
  {
   "cell_type": "markdown",
   "metadata": {
    "slideshow": {
     "slide_type": "fragment"
    }
   },
   "source": [
    "- Then, $V(W)$ is approximated by a $(n\\times1)$ vector of the values $\\mathbf{v}=\\{V(W_{i})\\}_{i=0}^{n-1}$."
   ]
  },
  {
   "cell_type": "code",
   "execution_count": 1,
   "metadata": {
    "slideshow": {
     "slide_type": "subslide"
    }
   },
   "outputs": [
    {
     "data": {
      "text/plain": [
       "1001-element Vector{Float64}:\n",
       " 9.0e-5\n",
       " 0.0009000000000000001\n",
       " 0.0018000000000000002\n",
       " 0.0027\n",
       " 0.0036000000000000003\n",
       " 0.0045000000000000005\n",
       " 0.0054\n",
       " 0.0063\n",
       " 0.007200000000000001\n",
       " 0.0081\n",
       " 0.009000000000000001\n",
       " 0.009899999999999999\n",
       " 0.0108\n",
       " ⋮\n",
       " 0.8901\n",
       " 0.891\n",
       " 0.8919\n",
       " 0.8928\n",
       " 0.8937\n",
       " 0.8946000000000001\n",
       " 0.8955\n",
       " 0.8964\n",
       " 0.8973\n",
       " 0.8982\n",
       " 0.8991\n",
       " 0.9"
      ]
     },
     "execution_count": 1,
     "metadata": {},
     "output_type": "execute_result"
    }
   ],
   "source": [
    "# parameter\n",
    "β = 0.9                        # discount factor\n",
    "\n",
    "# set grid\n",
    "nw = 1001                      # number of grid points\n",
    "wgrid = collect(range(0.0,stop=1.0,length=nw)) # evenly spaced grid points from 0.0 to 1.0\n",
    "wgrid[1] = wgrid[2]/10         # avoid w=c=0\n",
    "\n",
    "# analytical solution\n",
    "B = 1/(1-β)\n",
    "A = (β*B*log(β*B)-(1+β*B)*log(1+β*B))/(1-β)\n",
    "vvec = A .+ B*log.(wgrid)      # value function\n",
    "wvec = β*wgrid                 # policy function"
   ]
  },
  {
   "cell_type": "markdown",
   "metadata": {
    "slideshow": {
     "slide_type": "subslide"
    }
   },
   "source": [
    "- We can successively update the approximation as follows:"
   ]
  },
  {
   "cell_type": "markdown",
   "metadata": {
    "slideshow": {
     "slide_type": "fragment"
    }
   },
   "source": [
    "0. Construct a matrix for the current utility $\\underset{(n \\times n)}{\\mathbf{U}}=\\{\\{u_{ij}\\}\\}$\n",
    "\n",
    "  - Let $i$ be the index for the current period's cake. That is, $W_{i}=W$.\n",
    "  \n",
    "  - Also let $j$ be the index for the next period's cake. That is, $W_{j}=W'$.\n",
    "  \n",
    "  - Then, if $c_{ij}=W_{i}-W_{j}>0$, set\n",
    "  $$\n",
    "    u_{ij} = \\ln c_{ij}\n",
    "  $$\n",
    "  Otherwise, set a large negative number (say -10000000000) to $u_{ij}$."
   ]
  },
  {
   "cell_type": "code",
   "execution_count": 2,
   "metadata": {
    "slideshow": {
     "slide_type": "subslide"
    }
   },
   "outputs": [
    {
     "data": {
      "text/plain": [
       "-9.210340371976182"
      ]
     },
     "execution_count": 2,
     "metadata": {},
     "output_type": "execute_result"
    }
   ],
   "source": [
    "# 0. construct the current utility\n",
    "umat = zeros(nw,nw)\n",
    "for iw in 1:nw\n",
    "    for jw in 1:nw\n",
    "        wnow = wgrid[iw]  # W\n",
    "        wp = wgrid[jw]    # W'\n",
    "        cnow = wnow-wp      # c=W-W'\n",
    "        if cnow>0\n",
    "            # if c >0, the utility value is log(c)\n",
    "            umat[iw,jw] = log(cnow)\n",
    "        else\n",
    "            # if c<=0, the utility value is set so that the index j is never chosen. \n",
    "            umat[iw,jw] = -1e+10 # -10000000000 (i.e., ten zeros)\n",
    "        end\n",
    "    end\n",
    "end\n",
    "\n",
    "# NOTE: to avoid log(0) when wnow=wp=0\n",
    "umat[1,1] = log(wgrid[1])"
   ]
  },
  {
   "cell_type": "markdown",
   "metadata": {
    "slideshow": {
     "slide_type": "subslide"
    }
   },
   "source": [
    "1. For each index of the current period $i=0,1,...,n-1$ and given a vector of the values $\\{V(W_{i})\\}_{i=0}^{n-1}$, \n",
    "\n",
    "  - Let $\\underset{(n \\times 1)}{\\mathbf{u}}=[u_{i0},...,u_{ij},...,u_{in-1}]$ and $\\underset{(n \\times 1)}{\\mathbf{v}}=[V(W_{0}),...,V(W_{j}),...V(W_{n-1})]$.\n",
    "\n",
    "  - Find the index of the next period $j$ so as to maximize the value function\n",
    "$$\n",
    "    V^{*}(W_{i})=\\max_{j}\\left\\{ \\mathbf{u}+\\beta\\mathbf{v}\\right\\}\n",
    "$$\n",
    "\n",
    "  - Then we obtain a vector of the values $\\{V^{*}(W_{i})\\}_{i=0}^{n-1}$, which approximate the (new) value function."
   ]
  },
  {
   "cell_type": "markdown",
   "metadata": {
    "slideshow": {
     "slide_type": "fragment"
    }
   },
   "source": [
    "2. Update the old value function $\\{V(W_{i})\\}_{i=0}^{n-1}$ with the new value function $\\{V^{*}(W_{i})\\}_{i=0}^{n-1}$. Iterate 1-2\n",
    "until convergence."
   ]
  },
  {
   "cell_type": "code",
   "execution_count": 3,
   "metadata": {
    "slideshow": {
     "slide_type": "subslide"
    }
   },
   "outputs": [],
   "source": [
    "wvec0 = zeros(nw)     # policy function\n",
    "vvec0 = zeros(nw)     # old value function\n",
    "vvec1 = zeros(nw)     # new value function\n",
    "\n",
    "diff = 1e+4\n",
    "\n",
    "while diff>1e-4 # while loop until the condition diff>1e-4 met\n",
    "\n",
    "    for iw in 1:nw # for each index of the current period, iw=0,...,nw-1    \n",
    "        # 1. find the index of the next period jw so as to maximize the value function\n",
    "        jw = argmax(umat[iw,:] + β*vvec0)\n",
    "        vvec1[iw] = umat[iw,jw] + β*vvec0[jw]   # V*(W)\n",
    "        wvec0[iw] = wgrid[jw]                   # W'(W)\n",
    "    end\n",
    "\n",
    "    diff  = maximum(abs.(vvec1-vvec0)) # the condition for convergence\n",
    "    # 2. update the value function\n",
    "    vvec0 = copy(vvec1)\n",
    "    \n",
    "end"
   ]
  },
  {
   "cell_type": "code",
   "execution_count": 5,
   "metadata": {
    "slideshow": {
     "slide_type": "subslide"
    }
   },
   "outputs": [
    {
     "data": {
      "image/svg+xml": [
       "<?xml version=\"1.0\" encoding=\"utf-8\"?>\n",
       "<svg xmlns=\"http://www.w3.org/2000/svg\" xmlns:xlink=\"http://www.w3.org/1999/xlink\" width=\"750\" height=\"500\" viewBox=\"0 0 3000 2000\">\n",
       "<defs>\n",
       "  <clipPath id=\"clip500\">\n",
       "    <rect x=\"0\" y=\"0\" width=\"3000\" height=\"2000\"/>\n",
       "  </clipPath>\n",
       "</defs>\n",
       "<path clip-path=\"url(#clip500)\" d=\"\n",
       "M0 2000 L3000 2000 L3000 0 L0 0  Z\n",
       "  \" fill=\"#ffffff\" fill-rule=\"evenodd\" fill-opacity=\"1\"/>\n",
       "<defs>\n",
       "  <clipPath id=\"clip501\">\n",
       "    <rect x=\"600\" y=\"0\" width=\"2101\" height=\"2000\"/>\n",
       "  </clipPath>\n",
       "</defs>\n",
       "<path clip-path=\"url(#clip500)\" d=\"\n",
       "M73.1206 955.612 L2988.19 955.612 L2988.19 11.811 L73.1206 11.811  Z\n",
       "  \" fill=\"#ffffff\" fill-rule=\"evenodd\" fill-opacity=\"1\"/>\n",
       "<defs>\n",
       "  <clipPath id=\"clip502\">\n",
       "    <rect x=\"73\" y=\"11\" width=\"2916\" height=\"945\"/>\n",
       "  </clipPath>\n",
       "</defs>\n",
       "<polyline clip-path=\"url(#clip502)\" style=\"stroke:#000000; stroke-width:0.5; stroke-opacity:0.1; fill:none\" points=\"\n",
       "  155.347,955.612 155.347,11.811 \n",
       "  \"/>\n",
       "<polyline clip-path=\"url(#clip502)\" style=\"stroke:#000000; stroke-width:0.5; stroke-opacity:0.1; fill:none\" points=\"\n",
       "  842.932,955.612 842.932,11.811 \n",
       "  \"/>\n",
       "<polyline clip-path=\"url(#clip502)\" style=\"stroke:#000000; stroke-width:0.5; stroke-opacity:0.1; fill:none\" points=\"\n",
       "  1530.52,955.612 1530.52,11.811 \n",
       "  \"/>\n",
       "<polyline clip-path=\"url(#clip502)\" style=\"stroke:#000000; stroke-width:0.5; stroke-opacity:0.1; fill:none\" points=\"\n",
       "  2218.1,955.612 2218.1,11.811 \n",
       "  \"/>\n",
       "<polyline clip-path=\"url(#clip502)\" style=\"stroke:#000000; stroke-width:0.5; stroke-opacity:0.1; fill:none\" points=\"\n",
       "  2905.69,955.612 2905.69,11.811 \n",
       "  \"/>\n",
       "<polyline clip-path=\"url(#clip500)\" style=\"stroke:#000000; stroke-width:1; stroke-opacity:1; fill:none\" points=\"\n",
       "  73.1206,955.612 2988.19,955.612 \n",
       "  \"/>\n",
       "<polyline clip-path=\"url(#clip500)\" style=\"stroke:#000000; stroke-width:1; stroke-opacity:1; fill:none\" points=\"\n",
       "  155.347,955.612 155.347,944.286 \n",
       "  \"/>\n",
       "<polyline clip-path=\"url(#clip500)\" style=\"stroke:#000000; stroke-width:1; stroke-opacity:1; fill:none\" points=\"\n",
       "  842.932,955.612 842.932,944.286 \n",
       "  \"/>\n",
       "<polyline clip-path=\"url(#clip500)\" style=\"stroke:#000000; stroke-width:1; stroke-opacity:1; fill:none\" points=\"\n",
       "  1530.52,955.612 1530.52,944.286 \n",
       "  \"/>\n",
       "<polyline clip-path=\"url(#clip500)\" style=\"stroke:#000000; stroke-width:1; stroke-opacity:1; fill:none\" points=\"\n",
       "  2218.1,955.612 2218.1,944.286 \n",
       "  \"/>\n",
       "<polyline clip-path=\"url(#clip500)\" style=\"stroke:#000000; stroke-width:1; stroke-opacity:1; fill:none\" points=\"\n",
       "  2905.69,955.612 2905.69,944.286 \n",
       "  \"/>\n",
       "<path clip-path=\"url(#clip500)\" d=\"M 0 0 M147.35 982.11 Q146.447 982.11 145.99 983.001 Q145.538 983.886 145.538 985.669 Q145.538 987.445 145.99 988.336 Q146.447 989.222 147.35 989.222 Q148.258 989.222 148.71 988.336 Q149.167 987.445 149.167 985.669 Q149.167 983.886 148.71 983.001 Q148.258 982.11 147.35 982.11 M147.35 981.184 Q148.802 981.184 149.566 982.335 Q150.336 983.481 150.336 985.669 Q150.336 987.85 149.566 989.002 Q148.802 990.148 147.35 990.148 Q145.897 990.148 145.128 989.002 Q144.364 987.85 144.364 985.669 Q144.364 983.481 145.128 982.335 Q145.897 981.184 147.35 981.184 Z\" fill=\"#000000\" fill-rule=\"evenodd\" fill-opacity=\"1\" /><path clip-path=\"url(#clip500)\" d=\"M 0 0 M151.603 988.51 L152.824 988.51 L152.824 989.98 L151.603 989.98 L151.603 988.51 Z\" fill=\"#000000\" fill-rule=\"evenodd\" fill-opacity=\"1\" /><path clip-path=\"url(#clip500)\" d=\"M 0 0 M156.592 982.11 Q155.689 982.11 155.232 983.001 Q154.78 983.886 154.78 985.669 Q154.78 987.445 155.232 988.336 Q155.689 989.222 156.592 989.222 Q157.5 989.222 157.952 988.336 Q158.409 987.445 158.409 985.669 Q158.409 983.886 157.952 983.001 Q157.5 982.11 156.592 982.11 M156.592 981.184 Q158.044 981.184 158.808 982.335 Q159.578 983.481 159.578 985.669 Q159.578 987.85 158.808 989.002 Q158.044 990.148 156.592 990.148 Q155.139 990.148 154.369 989.002 Q153.606 987.85 153.606 985.669 Q153.606 983.481 154.369 982.335 Q155.139 981.184 156.592 981.184 Z\" fill=\"#000000\" fill-rule=\"evenodd\" fill-opacity=\"1\" /><path clip-path=\"url(#clip500)\" d=\"M 0 0 M163.345 982.11 Q162.442 982.11 161.985 983.001 Q161.534 983.886 161.534 985.669 Q161.534 987.445 161.985 988.336 Q162.442 989.222 163.345 989.222 Q164.254 989.222 164.705 988.336 Q165.162 987.445 165.162 985.669 Q165.162 983.886 164.705 983.001 Q164.254 982.11 163.345 982.11 M163.345 981.184 Q164.798 981.184 165.562 982.335 Q166.331 983.481 166.331 985.669 Q166.331 987.85 165.562 989.002 Q164.798 990.148 163.345 990.148 Q161.893 990.148 161.123 989.002 Q160.359 987.85 160.359 985.669 Q160.359 983.481 161.123 982.335 Q161.893 981.184 163.345 981.184 Z\" fill=\"#000000\" fill-rule=\"evenodd\" fill-opacity=\"1\" /><path clip-path=\"url(#clip500)\" d=\"M 0 0 M835.259 982.11 Q834.356 982.11 833.899 983.001 Q833.447 983.886 833.447 985.669 Q833.447 987.445 833.899 988.336 Q834.356 989.222 835.259 989.222 Q836.167 989.222 836.619 988.336 Q837.076 987.445 837.076 985.669 Q837.076 983.886 836.619 983.001 Q836.167 982.11 835.259 982.11 M835.259 981.184 Q836.711 981.184 837.475 982.335 Q838.245 983.481 838.245 985.669 Q838.245 987.85 837.475 989.002 Q836.711 990.148 835.259 990.148 Q833.806 990.148 833.037 989.002 Q832.273 987.85 832.273 985.669 Q832.273 983.481 833.037 982.335 Q833.806 981.184 835.259 981.184 Z\" fill=\"#000000\" fill-rule=\"evenodd\" fill-opacity=\"1\" /><path clip-path=\"url(#clip500)\" d=\"M 0 0 M839.512 988.51 L840.733 988.51 L840.733 989.98 L839.512 989.98 L839.512 988.51 Z\" fill=\"#000000\" fill-rule=\"evenodd\" fill-opacity=\"1\" /><path clip-path=\"url(#clip500)\" d=\"M 0 0 M843.008 988.996 L847.087 988.996 L847.087 989.98 L841.601 989.98 L841.601 988.996 Q842.267 988.308 843.413 987.15 Q844.564 985.987 844.859 985.651 Q845.421 985.021 845.641 984.586 Q845.866 984.147 845.866 983.724 Q845.866 983.036 845.38 982.602 Q844.9 982.168 844.124 982.168 Q843.575 982.168 842.961 982.358 Q842.354 982.549 841.659 982.937 L841.659 981.757 Q842.365 981.473 842.979 981.328 Q843.592 981.184 844.101 981.184 Q845.444 981.184 846.243 981.855 Q847.041 982.526 847.041 983.649 Q847.041 984.181 846.839 984.662 Q846.642 985.136 846.115 985.784 Q845.971 985.952 845.195 986.757 Q844.42 987.555 843.008 988.996 Z\" fill=\"#000000\" fill-rule=\"evenodd\" fill-opacity=\"1\" /><path clip-path=\"url(#clip500)\" d=\"M 0 0 M848.366 981.34 L852.955 981.34 L852.955 982.324 L849.437 982.324 L849.437 984.442 Q849.692 984.355 849.946 984.314 Q850.201 984.268 850.455 984.268 Q851.902 984.268 852.747 985.061 Q853.592 985.854 853.592 987.208 Q853.592 988.603 852.724 989.378 Q851.856 990.148 850.276 990.148 Q849.732 990.148 849.165 990.055 Q848.604 989.963 848.002 989.777 L848.002 988.603 Q848.523 988.886 849.078 989.025 Q849.634 989.164 850.253 989.164 Q851.254 989.164 851.839 988.637 Q852.423 988.111 852.423 987.208 Q852.423 986.305 851.839 985.779 Q851.254 985.252 850.253 985.252 Q849.784 985.252 849.315 985.356 Q848.852 985.46 848.366 985.68 L848.366 981.34 Z\" fill=\"#000000\" fill-rule=\"evenodd\" fill-opacity=\"1\" /><path clip-path=\"url(#clip500)\" d=\"M 0 0 M1522.64 982.11 Q1521.74 982.11 1521.28 983.001 Q1520.83 983.886 1520.83 985.669 Q1520.83 987.445 1521.28 988.336 Q1521.74 989.222 1522.64 989.222 Q1523.55 989.222 1524 988.336 Q1524.46 987.445 1524.46 985.669 Q1524.46 983.886 1524 983.001 Q1523.55 982.11 1522.64 982.11 M1522.64 981.184 Q1524.1 981.184 1524.86 982.335 Q1525.63 983.481 1525.63 985.669 Q1525.63 987.85 1524.86 989.002 Q1524.1 990.148 1522.64 990.148 Q1521.19 990.148 1520.42 989.002 Q1519.66 987.85 1519.66 985.669 Q1519.66 983.481 1520.42 982.335 Q1521.19 981.184 1522.64 981.184 Z\" fill=\"#000000\" fill-rule=\"evenodd\" fill-opacity=\"1\" /><path clip-path=\"url(#clip500)\" d=\"M 0 0 M1526.9 988.51 L1528.12 988.51 L1528.12 989.98 L1526.9 989.98 L1526.9 988.51 Z\" fill=\"#000000\" fill-rule=\"evenodd\" fill-opacity=\"1\" /><path clip-path=\"url(#clip500)\" d=\"M 0 0 M1529.4 981.34 L1533.99 981.34 L1533.99 982.324 L1530.47 982.324 L1530.47 984.442 Q1530.72 984.355 1530.98 984.314 Q1531.23 984.268 1531.49 984.268 Q1532.93 984.268 1533.78 985.061 Q1534.62 985.854 1534.62 987.208 Q1534.62 988.603 1533.76 989.378 Q1532.89 990.148 1531.31 990.148 Q1530.76 990.148 1530.2 990.055 Q1529.63 989.963 1529.03 989.777 L1529.03 988.603 Q1529.55 988.886 1530.11 989.025 Q1530.66 989.164 1531.28 989.164 Q1532.29 989.164 1532.87 988.637 Q1533.45 988.111 1533.45 987.208 Q1533.45 986.305 1532.87 985.779 Q1532.29 985.252 1531.28 985.252 Q1530.82 985.252 1530.35 985.356 Q1529.88 985.46 1529.4 985.68 L1529.4 981.34 Z\" fill=\"#000000\" fill-rule=\"evenodd\" fill-opacity=\"1\" /><path clip-path=\"url(#clip500)\" d=\"M 0 0 M1538.39 982.11 Q1537.49 982.11 1537.03 983.001 Q1536.58 983.886 1536.58 985.669 Q1536.58 987.445 1537.03 988.336 Q1537.49 989.222 1538.39 989.222 Q1539.3 989.222 1539.75 988.336 Q1540.21 987.445 1540.21 985.669 Q1540.21 983.886 1539.75 983.001 Q1539.3 982.11 1538.39 982.11 M1538.39 981.184 Q1539.84 981.184 1540.61 982.335 Q1541.38 983.481 1541.38 985.669 Q1541.38 987.85 1540.61 989.002 Q1539.84 990.148 1538.39 990.148 Q1536.94 990.148 1536.17 989.002 Q1535.4 987.85 1535.4 985.669 Q1535.4 983.481 1536.17 982.335 Q1536.94 981.184 1538.39 981.184 Z\" fill=\"#000000\" fill-rule=\"evenodd\" fill-opacity=\"1\" /><path clip-path=\"url(#clip500)\" d=\"M 0 0 M2210.34 982.11 Q2209.44 982.11 2208.98 983.001 Q2208.53 983.886 2208.53 985.669 Q2208.53 987.445 2208.98 988.336 Q2209.44 989.222 2210.34 989.222 Q2211.25 989.222 2211.7 988.336 Q2212.16 987.445 2212.16 985.669 Q2212.16 983.886 2211.7 983.001 Q2211.25 982.11 2210.34 982.11 M2210.34 981.184 Q2211.79 981.184 2212.56 982.335 Q2213.33 983.481 2213.33 985.669 Q2213.33 987.85 2212.56 989.002 Q2211.79 990.148 2210.34 990.148 Q2208.89 990.148 2208.12 989.002 Q2207.36 987.85 2207.36 985.669 Q2207.36 983.481 2208.12 982.335 Q2208.89 981.184 2210.34 981.184 Z\" fill=\"#000000\" fill-rule=\"evenodd\" fill-opacity=\"1\" /><path clip-path=\"url(#clip500)\" d=\"M 0 0 M2214.6 988.51 L2215.82 988.51 L2215.82 989.98 L2214.6 989.98 L2214.6 988.51 Z\" fill=\"#000000\" fill-rule=\"evenodd\" fill-opacity=\"1\" /><path clip-path=\"url(#clip500)\" d=\"M 0 0 M2216.79 981.34 L2222.34 981.34 L2222.34 981.838 L2219.21 989.98 L2217.99 989.98 L2220.94 982.324 L2216.79 982.324 L2216.79 981.34 Z\" fill=\"#000000\" fill-rule=\"evenodd\" fill-opacity=\"1\" /><path clip-path=\"url(#clip500)\" d=\"M 0 0 M2223.62 981.34 L2228.21 981.34 L2228.21 982.324 L2224.69 982.324 L2224.69 984.442 Q2224.95 984.355 2225.2 984.314 Q2225.46 984.268 2225.71 984.268 Q2227.16 984.268 2228 985.061 Q2228.85 985.854 2228.85 987.208 Q2228.85 988.603 2227.98 989.378 Q2227.11 990.148 2225.53 990.148 Q2224.99 990.148 2224.42 990.055 Q2223.86 989.963 2223.26 989.777 L2223.26 988.603 Q2223.78 988.886 2224.33 989.025 Q2224.89 989.164 2225.51 989.164 Q2226.51 989.164 2227.1 988.637 Q2227.68 988.111 2227.68 987.208 Q2227.68 986.305 2227.1 985.779 Q2226.51 985.252 2225.51 985.252 Q2225.04 985.252 2224.57 985.356 Q2224.11 985.46 2223.62 985.68 L2223.62 981.34 Z\" fill=\"#000000\" fill-rule=\"evenodd\" fill-opacity=\"1\" /><path clip-path=\"url(#clip500)\" d=\"M 0 0 M2895.28 988.996 L2897.19 988.996 L2897.19 982.405 L2895.12 982.821 L2895.12 981.757 L2897.18 981.34 L2898.35 981.34 L2898.35 988.996 L2900.26 988.996 L2900.26 989.98 L2895.28 989.98 L2895.28 988.996 Z\" fill=\"#000000\" fill-rule=\"evenodd\" fill-opacity=\"1\" /><path clip-path=\"url(#clip500)\" d=\"M 0 0 M2901.53 988.51 L2902.75 988.51 L2902.75 989.98 L2901.53 989.98 L2901.53 988.51 Z\" fill=\"#000000\" fill-rule=\"evenodd\" fill-opacity=\"1\" /><path clip-path=\"url(#clip500)\" d=\"M 0 0 M2906.52 982.11 Q2905.61 982.11 2905.16 983.001 Q2904.71 983.886 2904.71 985.669 Q2904.71 987.445 2905.16 988.336 Q2905.61 989.222 2906.52 989.222 Q2907.43 989.222 2907.88 988.336 Q2908.33 987.445 2908.33 985.669 Q2908.33 983.886 2907.88 983.001 Q2907.43 982.11 2906.52 982.11 M2906.52 981.184 Q2907.97 981.184 2908.73 982.335 Q2909.5 983.481 2909.5 985.669 Q2909.5 987.85 2908.73 989.002 Q2907.97 990.148 2906.52 990.148 Q2905.06 990.148 2904.3 989.002 Q2903.53 987.85 2903.53 985.669 Q2903.53 983.481 2904.3 982.335 Q2905.06 981.184 2906.52 981.184 Z\" fill=\"#000000\" fill-rule=\"evenodd\" fill-opacity=\"1\" /><path clip-path=\"url(#clip500)\" d=\"M 0 0 M2913.27 982.11 Q2912.37 982.11 2911.91 983.001 Q2911.46 983.886 2911.46 985.669 Q2911.46 987.445 2911.91 988.336 Q2912.37 989.222 2913.27 989.222 Q2914.18 989.222 2914.63 988.336 Q2915.09 987.445 2915.09 985.669 Q2915.09 983.886 2914.63 983.001 Q2914.18 982.11 2913.27 982.11 M2913.27 981.184 Q2914.72 981.184 2915.49 982.335 Q2916.26 983.481 2916.26 985.669 Q2916.26 987.85 2915.49 989.002 Q2914.72 990.148 2913.27 990.148 Q2911.82 990.148 2911.05 989.002 Q2910.28 987.85 2910.28 985.669 Q2910.28 983.481 2911.05 982.335 Q2911.82 981.184 2913.27 981.184 Z\" fill=\"#000000\" fill-rule=\"evenodd\" fill-opacity=\"1\" /><polyline clip-path=\"url(#clip502)\" style=\"stroke:#000000; stroke-width:0.5; stroke-opacity:0.1; fill:none\" points=\"\n",
       "  73.1206,884.325 2988.19,884.325 \n",
       "  \"/>\n",
       "<polyline clip-path=\"url(#clip502)\" style=\"stroke:#000000; stroke-width:0.5; stroke-opacity:0.1; fill:none\" points=\"\n",
       "  73.1206,691.008 2988.19,691.008 \n",
       "  \"/>\n",
       "<polyline clip-path=\"url(#clip502)\" style=\"stroke:#000000; stroke-width:0.5; stroke-opacity:0.1; fill:none\" points=\"\n",
       "  73.1206,497.691 2988.19,497.691 \n",
       "  \"/>\n",
       "<polyline clip-path=\"url(#clip502)\" style=\"stroke:#000000; stroke-width:0.5; stroke-opacity:0.1; fill:none\" points=\"\n",
       "  73.1206,304.374 2988.19,304.374 \n",
       "  \"/>\n",
       "<polyline clip-path=\"url(#clip502)\" style=\"stroke:#000000; stroke-width:0.5; stroke-opacity:0.1; fill:none\" points=\"\n",
       "  73.1206,111.057 2988.19,111.057 \n",
       "  \"/>\n",
       "<polyline clip-path=\"url(#clip500)\" style=\"stroke:#000000; stroke-width:1; stroke-opacity:1; fill:none\" points=\"\n",
       "  73.1206,955.612 73.1206,11.811 \n",
       "  \"/>\n",
       "<polyline clip-path=\"url(#clip500)\" style=\"stroke:#000000; stroke-width:1; stroke-opacity:1; fill:none\" points=\"\n",
       "  73.1206,884.325 108.101,884.325 \n",
       "  \"/>\n",
       "<polyline clip-path=\"url(#clip500)\" style=\"stroke:#000000; stroke-width:1; stroke-opacity:1; fill:none\" points=\"\n",
       "  73.1206,691.008 108.101,691.008 \n",
       "  \"/>\n",
       "<polyline clip-path=\"url(#clip500)\" style=\"stroke:#000000; stroke-width:1; stroke-opacity:1; fill:none\" points=\"\n",
       "  73.1206,497.691 108.101,497.691 \n",
       "  \"/>\n",
       "<polyline clip-path=\"url(#clip500)\" style=\"stroke:#000000; stroke-width:1; stroke-opacity:1; fill:none\" points=\"\n",
       "  73.1206,304.374 108.101,304.374 \n",
       "  \"/>\n",
       "<polyline clip-path=\"url(#clip500)\" style=\"stroke:#000000; stroke-width:1; stroke-opacity:1; fill:none\" points=\"\n",
       "  73.1206,111.057 108.101,111.057 \n",
       "  \"/>\n",
       "<path clip-path=\"url(#clip500)\" d=\"M 0 0 M1.14733 884.437 L8.56628 884.437 L8.56628 885.421 L1.14733 885.421 L1.14733 884.437 Z\" fill=\"#000000\" fill-rule=\"evenodd\" fill-opacity=\"1\" /><path clip-path=\"url(#clip500)\" d=\"M 0 0 M10.0362 887.661 L11.9459 887.661 L11.9459 881.069 L9.86835 881.486 L9.86835 880.421 L11.9343 880.005 L13.1033 880.005 L13.1033 887.661 L15.013 887.661 L15.013 888.645 L10.0362 888.645 L10.0362 887.661 Z\" fill=\"#000000\" fill-rule=\"evenodd\" fill-opacity=\"1\" /><path clip-path=\"url(#clip500)\" d=\"M 0 0 M17.2873 887.661 L21.3671 887.661 L21.3671 888.645 L15.8811 888.645 L15.8811 887.661 Q16.5466 886.972 17.6924 885.815 Q18.844 884.652 19.1391 884.316 Q19.7005 883.685 19.9204 883.251 Q20.1461 882.811 20.1461 882.389 Q20.1461 881.7 19.66 881.266 Q19.1796 880.832 18.4042 880.832 Q17.8544 880.832 17.241 881.023 Q16.6334 881.214 15.9389 881.602 L15.9389 880.421 Q16.6449 880.138 17.2584 879.993 Q17.8718 879.848 18.381 879.848 Q19.7236 879.848 20.5222 880.52 Q21.3208 881.191 21.3208 882.314 Q21.3208 882.846 21.1183 883.326 Q20.9215 883.801 20.3949 884.449 Q20.2502 884.617 19.4748 885.421 Q18.6993 886.22 17.2873 887.661 Z\" fill=\"#000000\" fill-rule=\"evenodd\" fill-opacity=\"1\" /><path clip-path=\"url(#clip500)\" d=\"M 0 0 M25.1345 880.774 Q24.2317 880.774 23.7745 881.665 Q23.3231 882.551 23.3231 884.333 Q23.3231 886.11 23.7745 887.001 Q24.2317 887.887 25.1345 887.887 Q26.043 887.887 26.4944 887.001 Q26.9516 886.11 26.9516 884.333 Q26.9516 882.551 26.4944 881.665 Q26.043 880.774 25.1345 880.774 M25.1345 879.848 Q26.587 879.848 27.3509 881 Q28.1206 882.146 28.1206 884.333 Q28.1206 886.515 27.3509 887.667 Q26.587 888.812 25.1345 888.812 Q23.6819 888.812 22.9123 887.667 Q22.1484 886.515 22.1484 884.333 Q22.1484 882.146 22.9123 881 Q23.6819 879.848 25.1345 879.848 Z\" fill=\"#000000\" fill-rule=\"evenodd\" fill-opacity=\"1\" /><path clip-path=\"url(#clip500)\" d=\"M 0 0 M0.748031 691.12 L8.16697 691.12 L8.16697 692.104 L0.748031 692.104 L0.748031 691.12 Z\" fill=\"#000000\" fill-rule=\"evenodd\" fill-opacity=\"1\" /><path clip-path=\"url(#clip500)\" d=\"M 0 0 M9.63687 694.344 L11.5466 694.344 L11.5466 687.752 L9.46905 688.169 L9.46905 687.104 L11.535 686.688 L12.704 686.688 L12.704 694.344 L14.6137 694.344 L14.6137 695.328 L9.63687 695.328 L9.63687 694.344 Z\" fill=\"#000000\" fill-rule=\"evenodd\" fill-opacity=\"1\" /><path clip-path=\"url(#clip500)\" d=\"M 0 0 M18.381 687.457 Q17.4783 687.457 17.0211 688.348 Q16.5697 689.234 16.5697 691.016 Q16.5697 692.793 17.0211 693.684 Q17.4783 694.569 18.381 694.569 Q19.2896 694.569 19.741 693.684 Q20.1982 692.793 20.1982 691.016 Q20.1982 689.234 19.741 688.348 Q19.2896 687.457 18.381 687.457 M18.381 686.531 Q19.8336 686.531 20.5975 687.683 Q21.3671 688.829 21.3671 691.016 Q21.3671 693.198 20.5975 694.35 Q19.8336 695.495 18.381 695.495 Q16.9285 695.495 16.1588 694.35 Q15.3949 693.198 15.3949 691.016 Q15.3949 688.829 16.1588 687.683 Q16.9285 686.531 18.381 686.531 Z\" fill=\"#000000\" fill-rule=\"evenodd\" fill-opacity=\"1\" /><path clip-path=\"url(#clip500)\" d=\"M 0 0 M25.1345 687.457 Q24.2317 687.457 23.7745 688.348 Q23.3231 689.234 23.3231 691.016 Q23.3231 692.793 23.7745 693.684 Q24.2317 694.569 25.1345 694.569 Q26.043 694.569 26.4944 693.684 Q26.9516 692.793 26.9516 691.016 Q26.9516 689.234 26.4944 688.348 Q26.043 687.457 25.1345 687.457 M25.1345 686.531 Q26.587 686.531 27.3509 687.683 Q28.1206 688.829 28.1206 691.016 Q28.1206 693.198 27.3509 694.35 Q26.587 695.495 25.1345 695.495 Q23.6819 695.495 22.9123 694.35 Q22.1484 693.198 22.1484 691.016 Q22.1484 688.829 22.9123 687.683 Q23.6819 686.531 25.1345 686.531 Z\" fill=\"#000000\" fill-rule=\"evenodd\" fill-opacity=\"1\" /><path clip-path=\"url(#clip500)\" d=\"M 0 0 M7.2179 497.803 L14.6368 497.803 L14.6368 498.787 L7.2179 498.787 L7.2179 497.803 Z\" fill=\"#000000\" fill-rule=\"evenodd\" fill-opacity=\"1\" /><path clip-path=\"url(#clip500)\" d=\"M 0 0 M18.4042 497.908 Q17.5709 497.908 17.0905 498.353 Q16.616 498.799 16.616 499.58 Q16.616 500.361 17.0905 500.807 Q17.5709 501.252 18.4042 501.252 Q19.2375 501.252 19.7178 500.807 Q20.1982 500.355 20.1982 499.58 Q20.1982 498.799 19.7178 498.353 Q19.2433 497.908 18.4042 497.908 M17.2352 497.41 Q16.4829 497.225 16.0604 496.71 Q15.6438 496.195 15.6438 495.454 Q15.6438 494.418 16.3787 493.816 Q17.1195 493.214 18.4042 493.214 Q19.6947 493.214 20.4296 493.816 Q21.1646 494.418 21.1646 495.454 Q21.1646 496.195 20.7421 496.71 Q20.3255 497.225 19.5789 497.41 Q20.4239 497.607 20.8926 498.18 Q21.3671 498.752 21.3671 499.58 Q21.3671 500.836 20.5975 501.507 Q19.8336 502.178 18.4042 502.178 Q16.9748 502.178 16.2051 501.507 Q15.4412 500.836 15.4412 499.58 Q15.4412 498.752 15.9158 498.18 Q16.3903 497.607 17.2352 497.41 M16.807 495.564 Q16.807 496.235 17.2236 496.611 Q17.6461 496.987 18.4042 496.987 Q19.1565 496.987 19.5789 496.611 Q20.0072 496.235 20.0072 495.564 Q20.0072 494.893 19.5789 494.516 Q19.1565 494.14 18.4042 494.14 Q17.6461 494.14 17.2236 494.516 Q16.807 494.893 16.807 495.564 Z\" fill=\"#000000\" fill-rule=\"evenodd\" fill-opacity=\"1\" /><path clip-path=\"url(#clip500)\" d=\"M 0 0 M25.1345 494.14 Q24.2317 494.14 23.7745 495.031 Q23.3231 495.917 23.3231 497.699 Q23.3231 499.476 23.7745 500.367 Q24.2317 501.252 25.1345 501.252 Q26.043 501.252 26.4944 500.367 Q26.9516 499.476 26.9516 497.699 Q26.9516 495.917 26.4944 495.031 Q26.043 494.14 25.1345 494.14 M25.1345 493.214 Q26.587 493.214 27.3509 494.366 Q28.1206 495.512 28.1206 497.699 Q28.1206 499.881 27.3509 501.033 Q26.587 502.178 25.1345 502.178 Q23.6819 502.178 22.9123 501.033 Q22.1484 499.881 22.1484 497.699 Q22.1484 495.512 22.9123 494.366 Q23.6819 493.214 25.1345 493.214 Z\" fill=\"#000000\" fill-rule=\"evenodd\" fill-opacity=\"1\" /><path clip-path=\"url(#clip500)\" d=\"M 0 0 M7.15425 304.486 L14.5732 304.486 L14.5732 305.47 L7.15425 305.47 L7.15425 304.486 Z\" fill=\"#000000\" fill-rule=\"evenodd\" fill-opacity=\"1\" /><path clip-path=\"url(#clip500)\" d=\"M 0 0 M18.4852 303.908 Q17.6982 303.908 17.2352 304.446 Q16.778 304.984 16.778 305.922 Q16.778 306.853 17.2352 307.397 Q17.6982 307.935 18.4852 307.935 Q19.2722 307.935 19.7294 307.397 Q20.1924 306.853 20.1924 305.922 Q20.1924 304.984 19.7294 304.446 Q19.2722 303.908 18.4852 303.908 M20.8058 300.245 L20.8058 301.309 Q20.366 301.101 19.9146 300.991 Q19.469 300.881 19.0292 300.881 Q17.8718 300.881 17.2584 301.662 Q16.6507 302.444 16.5639 304.023 Q16.9054 303.52 17.4204 303.254 Q17.9354 302.982 18.5546 302.982 Q19.8567 302.982 20.609 303.775 Q21.3671 304.562 21.3671 305.922 Q21.3671 307.253 20.5801 308.057 Q19.7931 308.861 18.4852 308.861 Q16.9864 308.861 16.1936 307.716 Q15.4007 306.564 15.4007 304.382 Q15.4007 302.334 16.3729 301.118 Q17.3452 299.897 18.9829 299.897 Q19.4227 299.897 19.8683 299.984 Q20.3197 300.071 20.8058 300.245 Z\" fill=\"#000000\" fill-rule=\"evenodd\" fill-opacity=\"1\" /><path clip-path=\"url(#clip500)\" d=\"M 0 0 M25.1345 300.823 Q24.2317 300.823 23.7745 301.714 Q23.3231 302.6 23.3231 304.382 Q23.3231 306.159 23.7745 307.05 Q24.2317 307.935 25.1345 307.935 Q26.043 307.935 26.4944 307.05 Q26.9516 306.159 26.9516 304.382 Q26.9516 302.6 26.4944 301.714 Q26.043 300.823 25.1345 300.823 M25.1345 299.897 Q26.587 299.897 27.3509 301.049 Q28.1206 302.195 28.1206 304.382 Q28.1206 306.564 27.3509 307.716 Q26.587 308.861 25.1345 308.861 Q23.6819 308.861 22.9123 307.716 Q22.1484 306.564 22.1484 304.382 Q22.1484 302.195 22.9123 301.049 Q23.6819 299.897 25.1345 299.897 Z\" fill=\"#000000\" fill-rule=\"evenodd\" fill-opacity=\"1\" /><path clip-path=\"url(#clip500)\" d=\"M 0 0 M7.07323 111.169 L14.4922 111.169 L14.4922 112.153 L7.07323 112.153 L7.07323 111.169 Z\" fill=\"#000000\" fill-rule=\"evenodd\" fill-opacity=\"1\" /><path clip-path=\"url(#clip500)\" d=\"M 0 0 M18.9713 107.755 L16.0199 112.367 L18.9713 112.367 L18.9713 107.755 M18.6646 106.737 L20.1345 106.737 L20.1345 112.367 L21.3671 112.367 L21.3671 113.339 L20.1345 113.339 L20.1345 115.377 L18.9713 115.377 L18.9713 113.339 L15.0709 113.339 L15.0709 112.211 L18.6646 106.737 Z\" fill=\"#000000\" fill-rule=\"evenodd\" fill-opacity=\"1\" /><path clip-path=\"url(#clip500)\" d=\"M 0 0 M25.1345 107.506 Q24.2317 107.506 23.7745 108.397 Q23.3231 109.283 23.3231 111.065 Q23.3231 112.842 23.7745 113.733 Q24.2317 114.618 25.1345 114.618 Q26.043 114.618 26.4944 113.733 Q26.9516 112.842 26.9516 111.065 Q26.9516 109.283 26.4944 108.397 Q26.043 107.506 25.1345 107.506 M25.1345 106.58 Q26.587 106.58 27.3509 107.732 Q28.1206 108.878 28.1206 111.065 Q28.1206 113.247 27.3509 114.399 Q26.587 115.544 25.1345 115.544 Q23.6819 115.544 22.9123 114.399 Q22.1484 113.247 22.1484 111.065 Q22.1484 108.878 22.9123 107.732 Q23.6819 106.58 25.1345 106.58 Z\" fill=\"#000000\" fill-rule=\"evenodd\" fill-opacity=\"1\" /><polyline clip-path=\"url(#clip502)\" style=\"stroke:#009af9; stroke-width:1; stroke-opacity:1; fill:none\" points=\"\n",
       "  155.623,614.672 158.098,593.434 160.848,573.301 163.598,555.182 166.349,538.875 169.099,524.198 171.85,510.989 174.6,499.101 177.35,488.401 180.101,478.772 \n",
       "  182.851,470.106 185.601,462.306 188.352,455.286 191.102,448.586 193.852,442.268 196.603,436.238 199.353,430.552 202.103,425.125 204.854,420.008 207.604,415.124 \n",
       "  210.354,410.518 213.105,406.122 215.855,401.977 218.605,398.021 221.356,394.102 224.106,390.371 226.856,386.811 229.607,383.283 232.357,379.926 235.107,376.721 \n",
       "  237.858,373.547 240.608,370.525 243.358,367.641 246.109,364.784 248.859,362.003 251.609,359.284 254.36,356.688 257.11,354.116 259.86,351.614 262.611,349.166 \n",
       "  265.361,346.83 268.111,344.516 270.862,342.264 273.612,340.061 276.362,337.904 279.113,335.801 281.863,333.718 284.613,331.691 287.364,329.709 290.114,327.768 \n",
       "  292.864,325.875 295.615,324.001 298.365,322.176 301.115,320.392 303.866,318.63 306.616,316.883 309.366,315.18 312.117,313.493 314.867,311.851 317.618,310.245 \n",
       "  320.368,308.659 323.118,307.086 325.869,305.554 328.619,304.035 331.369,302.545 334.12,301.067 336.87,299.622 339.62,298.195 342.371,296.78 345.121,295.4 \n",
       "  347.871,294.034 350.622,292.693 353.372,291.363 356.122,290.062 358.873,288.771 361.623,287.486 364.373,286.213 367.124,284.971 369.874,283.741 372.624,282.534 \n",
       "  375.375,281.337 378.125,280.167 380.875,279.005 383.626,277.849 386.376,276.703 389.126,275.564 391.877,274.447 394.627,273.34 397.377,272.254 400.128,271.176 \n",
       "  402.878,270.123 405.628,269.077 408.379,268.037 411.129,267.005 413.879,265.98 416.63,264.962 419.38,263.956 422.13,262.96 424.881,261.983 427.631,261.013 \n",
       "  430.381,260.065 433.132,259.124 435.882,258.187 438.632,257.259 441.383,256.337 444.133,255.415 446.883,254.499 449.634,253.594 452.384,252.697 455.134,251.817 \n",
       "  457.885,250.945 460.635,250.091 463.386,249.245 466.136,248.402 468.886,247.561 471.637,246.725 474.387,245.895 477.137,245.066 479.888,244.241 482.638,243.427 \n",
       "  485.388,242.62 488.139,241.828 490.889,241.042 493.639,240.269 496.39,239.501 499.14,238.738 501.89,237.98 504.641,237.223 507.391,236.471 510.141,235.724 \n",
       "  512.892,234.978 515.642,234.235 518.392,233.502 521.143,232.776 523.893,232.06 526.643,231.347 529.394,230.64 532.144,229.944 534.894,229.253 537.645,228.567 \n",
       "  540.395,227.884 543.145,227.203 545.896,226.526 548.646,225.854 551.396,225.182 554.147,224.514 556.897,223.847 559.647,223.187 562.398,222.534 565.148,221.889 \n",
       "  567.898,221.247 570.649,220.611 573.399,219.985 576.149,219.361 578.9,218.739 581.65,218.121 584.4,217.507 587.151,216.894 589.901,216.285 592.651,215.68 \n",
       "  595.402,215.075 598.152,214.474 600.902,213.874 603.653,213.28 606.403,212.691 609.154,212.106 611.904,211.525 614.654,210.948 617.405,210.376 620.155,209.812 \n",
       "  622.905,209.25 625.656,208.69 628.406,208.135 631.156,207.581 633.907,207.029 636.657,206.477 639.407,205.929 642.158,205.384 644.908,204.84 647.658,204.299 \n",
       "  650.409,203.759 653.159,203.225 655.909,202.695 658.66,202.168 661.41,201.645 664.16,201.123 666.911,200.603 669.661,200.088 672.411,199.581 675.162,199.075 \n",
       "  677.912,198.571 680.662,198.071 683.413,197.574 686.163,197.076 688.913,196.58 691.664,196.084 694.414,195.591 697.164,195.1 699.915,194.611 702.665,194.124 \n",
       "  705.415,193.638 708.166,193.157 710.916,192.68 713.666,192.205 716.417,191.734 719.167,191.264 721.917,190.794 724.668,190.326 727.418,189.862 730.168,189.405 \n",
       "  732.919,188.951 735.669,188.497 738.419,188.047 741.17,187.597 743.92,187.149 746.67,186.702 749.421,186.255 752.171,185.809 754.921,185.365 757.672,184.924 \n",
       "  760.422,184.483 763.173,184.045 765.923,183.607 768.673,183.174 771.424,182.744 774.174,182.316 776.924,181.888 779.675,181.464 782.425,181.041 785.175,180.618 \n",
       "  787.926,180.197 790.676,179.78 793.426,179.368 796.177,178.957 798.927,178.548 801.677,178.14 804.428,177.734 807.178,177.33 809.928,176.927 812.679,176.524 \n",
       "  815.429,176.122 818.179,175.72 820.93,175.32 823.68,174.923 826.43,174.527 829.181,174.132 831.931,173.738 834.681,173.344 837.432,172.954 840.182,172.568 \n",
       "  842.932,172.182 845.683,171.797 848.433,171.415 851.183,171.034 853.934,170.654 856.684,170.274 859.434,169.896 862.185,169.52 864.935,169.15 867.685,168.78 \n",
       "  870.436,168.411 873.186,168.044 875.936,167.679 878.687,167.315 881.437,166.951 884.187,166.588 886.938,166.225 889.688,165.863 892.438,165.502 895.189,165.142 \n",
       "  897.939,164.785 900.689,164.428 903.44,164.073 906.19,163.718 908.941,163.363 911.691,163.012 914.441,162.661 917.192,162.313 919.942,161.966 922.692,161.62 \n",
       "  925.443,161.276 928.193,160.933 930.943,160.59 933.694,160.249 936.444,159.908 939.194,159.569 941.945,159.231 944.695,158.898 947.445,158.565 950.196,158.233 \n",
       "  952.946,157.903 955.696,157.574 958.447,157.246 961.197,156.918 963.947,156.591 966.698,156.264 969.448,155.938 972.198,155.612 974.949,155.287 977.699,154.963 \n",
       "  980.449,154.642 983.2,154.32 985.95,154.001 988.7,153.681 991.451,153.362 994.201,153.045 996.951,152.729 999.702,152.413 1002.45,152.1 1005.2,151.787 \n",
       "  1007.95,151.476 1010.7,151.167 1013.45,150.858 1016.2,150.55 1018.95,150.243 1021.7,149.936 1024.45,149.629 1027.21,149.324 1029.96,149.019 1032.71,148.72 \n",
       "  1035.46,148.42 1038.21,148.121 1040.96,147.824 1043.71,147.526 1046.46,147.231 1049.21,146.936 1051.96,146.641 1054.71,146.346 1057.46,146.052 1060.21,145.758 \n",
       "  1062.96,145.465 1065.71,145.172 1068.46,144.881 1071.21,144.591 1073.96,144.302 1076.71,144.014 1079.46,143.726 1082.21,143.439 1084.96,143.151 1087.71,142.866 \n",
       "  1090.46,142.581 1093.21,142.297 1095.96,142.016 1098.71,141.734 1101.46,141.454 1104.21,141.174 1106.96,140.895 1109.72,140.618 1112.47,140.34 1115.22,140.064 \n",
       "  1117.97,139.787 1120.72,139.511 1123.47,139.237 1126.22,138.963 1128.97,138.69 1131.72,138.421 1134.47,138.151 1137.22,137.882 1139.97,137.614 1142.72,137.347 \n",
       "  1145.47,137.081 1148.22,136.815 1150.97,136.55 1153.72,136.284 1156.47,136.019 1159.22,135.755 1161.97,135.491 1164.72,135.227 1167.47,134.963 1170.22,134.701 \n",
       "  1172.97,134.44 1175.72,134.18 1178.47,133.921 1181.22,133.662 1183.97,133.403 1186.72,133.144 1189.48,132.887 1192.23,132.63 1194.98,132.374 1197.73,132.118 \n",
       "  1200.48,131.864 1203.23,131.611 1205.98,131.359 1208.73,131.107 1211.48,130.856 1214.23,130.605 1216.98,130.355 1219.73,130.105 1222.48,129.857 1225.23,129.608 \n",
       "  1227.98,129.36 1230.73,129.112 1233.48,128.866 1236.23,128.621 1238.98,128.376 1241.73,128.133 1244.48,127.89 1247.23,127.649 1249.98,127.408 1252.73,127.167 \n",
       "  1255.48,126.927 1258.23,126.688 1260.98,126.449 1263.73,126.21 1266.48,125.972 1269.23,125.733 1271.99,125.495 1274.74,125.257 1277.49,125.02 1280.24,124.783 \n",
       "  1282.99,124.547 1285.74,124.312 1288.49,124.078 1291.24,123.844 1293.99,123.611 1296.74,123.378 1299.49,123.146 1302.24,122.913 1304.99,122.681 1307.74,122.45 \n",
       "  1310.49,122.219 1313.24,121.989 1315.99,121.761 1318.74,121.533 1321.49,121.306 1324.24,121.079 1326.99,120.852 1329.74,120.626 1332.49,120.4 1335.24,120.175 \n",
       "  1337.99,119.95 1340.74,119.726 1343.49,119.503 1346.24,119.279 1348.99,119.057 1351.75,118.834 1354.5,118.613 1357.25,118.392 1360,118.172 1362.75,117.953 \n",
       "  1365.5,117.735 1368.25,117.517 1371,117.3 1373.75,117.083 1376.5,116.866 1379.25,116.651 1382,116.435 1384.75,116.22 1387.5,116.005 1390.25,115.791 \n",
       "  1393,115.576 1395.75,115.362 1398.5,115.148 1401.25,114.934 1404,114.721 1406.75,114.508 1409.5,114.296 1412.25,114.085 1415,113.874 1417.75,113.664 \n",
       "  1420.5,113.454 1423.25,113.244 1426,113.035 1428.75,112.825 1431.51,112.617 1434.26,112.409 1437.01,112.201 1439.76,111.993 1442.51,111.786 1445.26,111.581 \n",
       "  1448.01,111.376 1450.76,111.171 1453.51,110.967 1456.26,110.762 1459.01,110.559 1461.76,110.355 1464.51,110.152 1467.26,109.95 1470.01,109.748 1472.76,109.546 \n",
       "  1475.51,109.345 1478.26,109.144 1481.01,108.943 1483.76,108.743 1486.51,108.544 1489.26,108.344 1492.01,108.146 1494.76,107.948 1497.51,107.751 1500.26,107.554 \n",
       "  1503.01,107.358 1505.76,107.163 1508.51,106.968 1511.26,106.772 1514.02,106.577 1516.77,106.383 1519.52,106.19 1522.27,105.996 1525.02,105.803 1527.77,105.609 \n",
       "  1530.52,105.416 1533.27,105.223 1536.02,105.031 1538.77,104.838 1541.52,104.646 1544.27,104.455 1547.02,104.264 1549.77,104.072 1552.52,103.883 1555.27,103.693 \n",
       "  1558.02,103.504 1560.77,103.315 1563.52,103.126 1566.27,102.938 1569.02,102.749 1571.77,102.561 1574.52,102.374 1577.27,102.186 1580.02,101.999 1582.77,101.813 \n",
       "  1585.52,101.626 1588.27,101.441 1591.02,101.257 1593.78,101.072 1596.53,100.888 1599.28,100.704 1602.03,100.521 1604.78,100.337 1607.53,100.154 1610.28,99.9717 \n",
       "  1613.03,99.7894 1615.78,99.6074 1618.53,99.426 1621.28,99.2448 1624.03,99.0637 1626.78,98.883 1629.53,98.7027 1632.28,98.5227 1635.03,98.3431 1637.78,98.1637 \n",
       "  1640.53,97.9851 1643.28,97.8067 1646.03,97.6293 1648.78,97.4522 1651.53,97.2752 1654.28,97.099 1657.03,96.9231 1659.78,96.7473 1662.53,96.5716 1665.28,96.396 \n",
       "  1668.03,96.2215 1670.78,96.0472 1673.53,95.873 1676.29,95.6988 1679.04,95.5246 1681.79,95.3507 1684.54,95.1769 1687.29,95.0033 1690.04,94.83 1692.79,94.6568 \n",
       "  1695.54,94.4839 1698.29,94.3117 1701.04,94.1396 1703.79,93.9675 1706.54,93.7965 1709.29,93.6256 1712.04,93.4549 1714.79,93.2845 1717.54,93.1146 1720.29,92.9448 \n",
       "  1723.04,92.775 1725.79,92.6055 1728.54,92.4364 1731.29,92.2674 1734.04,92.099 1736.79,91.9306 1739.54,91.7625 1742.29,91.5944 1745.04,91.4267 1747.79,91.2602 \n",
       "  1750.54,91.0941 1753.29,90.9283 1756.05,90.7626 1758.8,90.5971 1761.55,90.4316 1764.3,90.2664 1767.05,90.1015 1769.8,89.9368 1772.55,89.7724 1775.3,89.6084 \n",
       "  1778.05,89.4445 1780.8,89.2813 1783.55,89.1182 1786.3,88.9552 1789.05,88.7926 1791.8,88.6301 1794.55,88.4679 1797.3,88.3059 1800.05,88.1442 1802.8,87.9828 \n",
       "  1805.55,87.822 1808.3,87.6614 1811.05,87.5017 1813.8,87.342 1816.55,87.1827 1819.3,87.0234 1822.05,86.8648 1824.8,86.7064 1827.55,86.5483 1830.3,86.3901 \n",
       "  1833.05,86.2321 1835.8,86.0749 1838.56,85.9179 1841.31,85.7609 1844.06,85.6042 1846.81,85.4474 1849.56,85.2907 1852.31,85.1341 1855.06,84.9777 1857.81,84.8215 \n",
       "  1860.56,84.6655 1863.31,84.5096 1866.06,84.354 1868.81,84.199 1871.56,84.0441 1874.31,83.8893 1877.06,83.7346 1879.81,83.5806 1882.56,83.4269 1885.31,83.2732 \n",
       "  1888.06,83.1199 1890.81,82.967 1893.56,82.8141 1896.31,82.6613 1899.06,82.5088 1901.81,82.3565 1904.56,82.2043 1907.31,82.0523 1910.06,81.9007 1912.81,81.7492 \n",
       "  1915.56,81.5978 1918.32,81.4466 1921.07,81.2956 1923.82,81.1458 1926.57,80.9959 1929.32,80.8464 1932.07,80.6972 1934.82,80.5481 1937.57,80.3991 1940.32,80.2502 \n",
       "  1943.07,80.1015 1945.82,79.9531 1948.57,79.8049 1951.32,79.6569 1954.07,79.5093 1956.82,79.3617 1959.57,79.2142 1962.32,79.0674 1965.07,78.9206 1967.82,78.7739 \n",
       "  1970.57,78.6275 1973.32,78.4813 1976.07,78.3353 1978.82,78.1895 1981.57,78.044 1984.32,77.8986 1987.07,77.7533 1989.82,77.6086 1992.57,77.4641 1995.32,77.3203 \n",
       "  1998.07,77.1767 2000.83,77.0332 2003.58,76.8899 2006.33,76.7467 2009.08,76.6039 2011.83,76.4614 2014.58,76.3191 2017.33,76.1767 2020.08,76.0345 2022.83,75.893 \n",
       "  2025.58,75.7517 2028.33,75.6105 2031.08,75.4694 2033.83,75.3282 2036.58,75.1872 2039.33,75.0461 2042.08,74.9052 2044.83,74.7644 2047.58,74.6239 2050.33,74.4834 \n",
       "  2053.08,74.3432 2055.83,74.2031 2058.58,74.0636 2061.33,73.9242 2064.08,73.7849 2066.83,73.6457 2069.58,73.5066 2072.33,73.368 2075.08,73.2296 2077.83,73.0913 \n",
       "  2080.59,72.9533 2083.34,72.8157 2086.09,72.6782 2088.84,72.5406 2091.59,72.4033 2094.34,72.2662 2097.09,72.1292 2099.84,71.9922 2102.59,71.8554 2105.34,71.719 \n",
       "  2108.09,71.5826 2110.84,71.4464 2113.59,71.3102 2116.34,71.1744 2119.09,71.0392 2121.84,70.9043 2124.59,70.7695 2127.34,70.6349 2130.09,70.5006 2132.84,70.3664 \n",
       "  2135.59,70.2323 2138.34,70.0983 2141.09,69.9645 2143.84,69.831 2146.59,69.6975 2149.34,69.5642 2152.09,69.431 2154.84,69.2982 2157.59,69.1654 2160.35,69.0326 \n",
       "  2163.1,68.9004 2165.85,68.7683 2168.6,68.6363 2171.35,68.5046 2174.1,68.373 2176.85,68.2415 2179.6,68.1101 2182.35,67.9788 2185.1,67.8479 2187.85,67.7171 \n",
       "  2190.6,67.5863 2193.35,67.4561 2196.1,67.326 2198.85,67.1963 2201.6,67.0668 2204.35,66.9375 2207.1,66.8085 2209.85,66.6794 2212.6,66.5505 2215.35,66.4221 \n",
       "  2218.1,66.2938 2220.85,66.1657 2223.6,66.0376 2226.35,65.9096 2229.1,65.7816 2231.85,65.6543 2234.6,65.5271 2237.35,65.4 2240.1,65.273 2242.86,65.146 \n",
       "  2245.61,65.019 2248.36,64.892 2251.11,64.7652 2253.86,64.6385 2256.61,64.512 2259.36,64.3856 2262.11,64.2593 2264.86,64.133 2267.61,64.007 2270.36,63.8814 \n",
       "  2273.11,63.756 2275.86,63.6306 2278.61,63.5053 2281.36,63.3801 2284.11,63.2554 2286.86,63.1307 2289.61,63.0061 2292.36,62.8817 2295.11,62.7574 2297.86,62.6336 \n",
       "  2300.61,62.5098 2303.36,62.386 2306.11,62.2624 2308.86,62.1391 2311.61,62.0158 2314.36,61.8925 2317.11,61.7693 2319.86,61.6462 2322.62,61.5234 2325.37,61.4006 \n",
       "  2328.12,61.2781 2330.87,61.1555 2333.62,61.0333 2336.37,60.9116 2339.12,60.79 2341.87,60.6686 2344.62,60.5473 2347.37,60.4262 2350.12,60.3053 2352.87,60.1845 \n",
       "  2355.62,60.0638 2358.37,59.9432 2361.12,59.8228 2363.87,59.7026 2366.62,59.5825 2369.37,59.4624 2372.12,59.3425 2374.87,59.2226 2377.62,59.103 2380.37,58.9835 \n",
       "  2383.12,58.864 2385.87,58.7451 2388.62,58.6262 2391.37,58.5073 2394.12,58.3887 2396.87,58.2702 2399.62,58.1517 2402.37,58.0334 2405.13,57.9151 2407.88,57.797 \n",
       "  2410.63,57.6792 2413.38,57.5614 2416.13,57.4437 2418.88,57.3265 2421.63,57.2094 2424.38,57.0923 2427.13,56.9755 2429.88,56.8591 2432.63,56.7427 2435.38,56.6265 \n",
       "  2438.13,56.5104 2440.88,56.3944 2443.63,56.2786 2446.38,56.163 2449.13,56.0476 2451.88,55.9323 2454.63,55.817 2457.38,55.7018 2460.13,55.5865 2462.88,55.472 \n",
       "  2465.63,55.3575 2468.38,55.2431 2471.13,55.1287 2473.88,55.0144 2476.63,54.9001 2479.38,54.7858 2482.13,54.6716 2484.89,54.5574 2487.64,54.4434 2490.39,54.3296 \n",
       "  2493.14,54.2158 2495.89,54.1021 2498.64,53.9885 2501.39,53.8751 2504.14,53.762 2506.89,53.649 2509.64,53.5361 2512.39,53.4232 2515.14,53.3105 2517.89,53.1978 \n",
       "  2520.64,53.0856 2523.39,52.9733 2526.14,52.8612 2528.89,52.7492 2531.64,52.6374 2534.39,52.5257 2537.14,52.4142 2539.89,52.3028 2542.64,52.1914 2545.39,52.0802 \n",
       "  2548.14,51.9691 2550.89,51.8581 2553.64,51.7472 2556.39,51.6363 2559.14,51.5255 2561.89,51.415 2564.64,51.3045 2567.4,51.1941 2570.15,51.0838 2572.9,50.9735 \n",
       "  2575.65,50.8634 2578.4,50.7539 2581.15,50.6445 2583.9,50.5352 2586.65,50.426 2589.4,50.3168 2592.15,50.2078 2594.9,50.099 2597.65,49.9903 2600.4,49.8817 \n",
       "  2603.15,49.7732 2605.9,49.6648 2608.65,49.5566 2611.4,49.4485 2614.15,49.3405 2616.9,49.2325 2619.65,49.1245 2622.4,49.0166 2625.15,48.909 2627.9,48.8014 \n",
       "  2630.65,48.6939 2633.4,48.5868 2636.15,48.4798 2638.9,48.3729 2641.65,48.266 2644.4,48.1593 2647.16,48.0526 2649.91,47.946 2652.66,47.8395 2655.41,47.7331 \n",
       "  2658.16,47.6268 2660.91,47.5207 2663.66,47.4147 2666.41,47.3088 2669.16,47.2032 2671.91,47.0977 2674.66,46.9922 2677.41,46.8869 2680.16,46.7818 2682.91,46.677 \n",
       "  2685.66,46.5722 2688.41,46.4677 2691.16,46.3632 2693.91,46.2587 2696.66,46.1543 2699.41,46.0501 2702.16,45.9461 2704.91,45.8422 2707.66,45.7384 2710.41,45.6346 \n",
       "  2713.16,45.5309 2715.91,45.4272 2718.66,45.3238 2721.41,45.2207 2724.16,45.1177 2726.91,45.0147 2729.67,44.9118 2732.42,44.8089 2735.17,44.706 2737.92,44.6032 \n",
       "  2740.67,44.5004 2743.42,44.3976 2746.17,44.295 2748.92,44.1926 2751.67,44.0902 2754.42,43.9878 2757.17,43.8855 2759.92,43.7833 2762.67,43.6812 2765.42,43.5795 \n",
       "  2768.17,43.4777 2770.92,43.3761 2773.67,43.2745 2776.42,43.1731 2779.17,43.0717 2781.92,42.9705 2784.67,42.8694 2787.42,42.7684 2790.17,42.6675 2792.92,42.5667 \n",
       "  2795.67,42.4661 2798.42,42.3655 2801.17,42.2652 2803.92,42.1649 2806.67,42.0647 2809.43,41.9645 2812.18,41.8644 2814.93,41.7645 2817.68,41.6646 2820.43,41.5647 \n",
       "  2823.18,41.465 2825.93,41.3652 2828.68,41.2658 2831.43,41.1664 2834.18,41.0669 2836.93,40.9677 2839.68,40.8684 2842.43,40.7693 2845.18,40.6702 2847.93,40.5717 \n",
       "  2850.68,40.4732 2853.43,40.3749 2856.18,40.2766 2858.93,40.1783 2861.68,40.0801 2864.43,39.982 2867.18,39.8841 2869.93,39.7863 2872.68,39.6886 2875.43,39.5909 \n",
       "  2878.18,39.4933 2880.93,39.396 2883.68,39.2987 2886.43,39.2014 2889.19,39.1042 2891.94,39.007 2894.69,38.9099 2897.44,38.8128 2900.19,38.716 2902.94,38.6191 \n",
       "  2905.69,38.5224 \n",
       "  \"/>\n",
       "<polyline clip-path=\"url(#clip502)\" style=\"stroke:#e26f46; stroke-width:1; stroke-opacity:1; fill:none\" points=\"\n",
       "  155.623,928.901 158.098,706.336 160.848,639.338 163.598,600.146 166.349,572.339 169.099,550.77 171.85,533.147 174.6,518.247 177.35,505.34 180.101,493.956 \n",
       "  182.851,483.772 185.601,474.559 188.352,466.149 191.102,458.412 193.852,451.249 196.603,444.58 199.353,438.342 202.103,432.482 204.854,426.957 207.604,421.731 \n",
       "  210.354,416.773 213.105,412.057 215.855,407.561 218.605,403.264 221.356,399.15 224.106,395.204 226.856,391.413 229.607,387.765 232.357,384.25 235.107,380.858 \n",
       "  237.858,377.582 240.608,374.412 243.358,371.343 246.109,368.369 248.859,365.483 251.609,362.682 254.36,359.959 257.11,357.31 259.86,354.733 262.611,352.222 \n",
       "  265.361,349.775 268.111,347.388 270.862,345.059 273.612,342.784 276.362,340.562 279.113,338.39 281.863,336.265 284.613,334.187 287.364,332.152 290.114,330.159 \n",
       "  292.864,328.206 295.615,326.292 298.365,324.415 301.115,322.574 303.866,320.767 306.616,318.993 309.366,317.252 312.117,315.541 314.867,313.86 317.618,312.207 \n",
       "  320.368,310.583 323.118,308.985 325.869,307.414 328.619,305.867 331.369,304.345 334.12,302.846 336.87,301.37 339.62,299.917 342.371,298.485 345.121,297.074 \n",
       "  347.871,295.683 350.622,294.312 353.372,292.96 356.122,291.627 358.873,290.312 361.623,289.014 364.373,287.734 367.124,286.47 369.874,285.223 372.624,283.992 \n",
       "  375.375,282.776 378.125,281.575 380.875,280.389 383.626,279.218 386.376,278.06 389.126,276.916 391.877,275.786 394.627,274.668 397.377,273.563 400.128,272.471 \n",
       "  402.878,271.391 405.628,270.323 408.379,269.267 411.129,268.222 413.879,267.188 416.63,266.165 419.38,265.153 422.13,264.151 424.881,263.16 427.631,262.179 \n",
       "  430.381,261.207 433.132,260.245 435.882,259.293 438.632,258.35 441.383,257.416 444.133,256.491 446.883,255.575 449.634,254.667 452.384,253.768 455.134,252.877 \n",
       "  457.885,251.995 460.635,251.12 463.386,250.253 466.136,249.394 468.886,248.542 471.637,247.698 474.387,246.861 477.137,246.032 479.888,245.209 482.638,244.393 \n",
       "  485.388,243.584 488.139,242.782 490.889,241.987 493.639,241.198 496.39,240.415 499.14,239.639 501.89,238.868 504.641,238.104 507.391,237.346 510.141,236.594 \n",
       "  512.892,235.848 515.642,235.107 518.392,234.372 521.143,233.642 523.893,232.918 526.643,232.2 529.394,231.486 532.144,230.778 534.894,230.075 537.645,229.377 \n",
       "  540.395,228.684 543.145,227.996 545.896,227.313 548.646,226.635 551.396,225.961 554.147,225.293 556.897,224.628 559.647,223.968 562.398,223.313 565.148,222.662 \n",
       "  567.898,222.016 570.649,221.373 573.399,220.735 576.149,220.102 578.9,219.472 581.65,218.846 584.4,218.225 587.151,217.607 589.901,216.993 592.651,216.383 \n",
       "  595.402,215.777 598.152,215.175 600.902,214.577 603.653,213.982 606.403,213.391 609.154,212.803 611.904,212.219 614.654,211.639 617.405,211.061 620.155,210.488 \n",
       "  622.905,209.918 625.656,209.351 628.406,208.787 631.156,208.227 633.907,207.67 636.657,207.116 639.407,206.565 642.158,206.017 644.908,205.473 647.658,204.931 \n",
       "  650.409,204.393 653.159,203.857 655.909,203.325 658.66,202.795 661.41,202.268 664.16,201.744 666.911,201.223 669.661,200.705 672.411,200.189 675.162,199.677 \n",
       "  677.912,199.167 680.662,198.659 683.413,198.155 686.163,197.652 688.913,197.153 691.664,196.656 694.414,196.161 697.164,195.67 699.915,195.18 702.665,194.693 \n",
       "  705.415,194.209 708.166,193.727 710.916,193.247 713.666,192.77 716.417,192.295 719.167,191.822 721.917,191.352 724.668,190.884 727.418,190.418 730.168,189.954 \n",
       "  732.919,189.493 735.669,189.034 738.419,188.577 741.17,188.122 743.92,187.669 746.67,187.218 749.421,186.77 752.171,186.323 754.921,185.879 757.672,185.437 \n",
       "  760.422,184.996 763.173,184.558 765.923,184.121 768.673,183.687 771.424,183.255 774.174,182.824 776.924,182.395 779.675,181.969 782.425,181.544 785.175,181.121 \n",
       "  787.926,180.7 790.676,180.28 793.426,179.863 796.177,179.447 798.927,179.033 801.677,178.621 804.428,178.21 807.178,177.802 809.928,177.395 812.679,176.989 \n",
       "  815.429,176.586 818.179,176.184 820.93,175.784 823.68,175.385 826.43,174.988 829.181,174.593 831.931,174.199 834.681,173.807 837.432,173.416 840.182,173.027 \n",
       "  842.932,172.64 845.683,172.254 848.433,171.87 851.183,171.487 853.934,171.106 856.684,170.726 859.434,170.348 862.185,169.971 864.935,169.595 867.685,169.221 \n",
       "  870.436,168.849 873.186,168.478 875.936,168.108 878.687,167.74 881.437,167.373 884.187,167.008 886.938,166.644 889.688,166.281 892.438,165.92 895.189,165.56 \n",
       "  897.939,165.201 900.689,164.844 903.44,164.488 906.19,164.133 908.941,163.78 911.691,163.427 914.441,163.077 917.192,162.727 919.942,162.379 922.692,162.032 \n",
       "  925.443,161.686 928.193,161.341 930.943,160.998 933.694,160.656 936.444,160.315 939.194,159.975 941.945,159.636 944.695,159.299 947.445,158.963 950.196,158.628 \n",
       "  952.946,158.294 955.696,157.961 958.447,157.63 961.197,157.299 963.947,156.97 966.698,156.642 969.448,156.315 972.198,155.989 974.949,155.664 977.699,155.34 \n",
       "  980.449,155.017 983.2,154.695 985.95,154.375 988.7,154.055 991.451,153.737 994.201,153.419 996.951,153.103 999.702,152.788 1002.45,152.473 1005.2,152.16 \n",
       "  1007.95,151.848 1010.7,151.536 1013.45,151.226 1016.2,150.917 1018.95,150.608 1021.7,150.301 1024.45,149.995 1027.21,149.689 1029.96,149.385 1032.71,149.081 \n",
       "  1035.46,148.779 1038.21,148.477 1040.96,148.177 1043.71,147.877 1046.46,147.578 1049.21,147.28 1051.96,146.983 1054.71,146.687 1057.46,146.392 1060.21,146.098 \n",
       "  1062.96,145.805 1065.71,145.512 1068.46,145.22 1071.21,144.93 1073.96,144.64 1076.71,144.351 1079.46,144.063 1082.21,143.776 1084.96,143.489 1087.71,143.204 \n",
       "  1090.46,142.919 1093.21,142.635 1095.96,142.352 1098.71,142.07 1101.46,141.788 1104.21,141.508 1106.96,141.228 1109.72,140.949 1112.47,140.671 1115.22,140.394 \n",
       "  1117.97,140.117 1120.72,139.841 1123.47,139.566 1126.22,139.292 1128.97,139.019 1131.72,138.746 1134.47,138.474 1137.22,138.203 1139.97,137.933 1142.72,137.663 \n",
       "  1145.47,137.394 1148.22,137.126 1150.97,136.859 1153.72,136.592 1156.47,136.326 1159.22,136.061 1161.97,135.796 1164.72,135.533 1167.47,135.27 1170.22,135.007 \n",
       "  1172.97,134.746 1175.72,134.485 1178.47,134.225 1181.22,133.965 1183.97,133.706 1186.72,133.448 1189.48,133.191 1192.23,132.934 1194.98,132.678 1197.73,132.423 \n",
       "  1200.48,132.168 1203.23,131.914 1205.98,131.661 1208.73,131.408 1211.48,131.156 1214.23,130.905 1216.98,130.654 1219.73,130.404 1222.48,130.154 1225.23,129.905 \n",
       "  1227.98,129.657 1230.73,129.41 1233.48,129.163 1236.23,128.917 1238.98,128.671 1241.73,128.426 1244.48,128.182 1247.23,127.938 1249.98,127.695 1252.73,127.452 \n",
       "  1255.48,127.21 1258.23,126.969 1260.98,126.728 1263.73,126.488 1266.48,126.248 1269.23,126.009 1271.99,125.771 1274.74,125.533 1277.49,125.296 1280.24,125.059 \n",
       "  1282.99,124.823 1285.74,124.588 1288.49,124.353 1291.24,124.119 1293.99,123.885 1296.74,123.652 1299.49,123.419 1302.24,123.187 1304.99,122.956 1307.74,122.725 \n",
       "  1310.49,122.494 1313.24,122.264 1315.99,122.035 1318.74,121.806 1321.49,121.578 1324.24,121.35 1326.99,121.123 1329.74,120.896 1332.49,120.67 1335.24,120.445 \n",
       "  1337.99,120.22 1340.74,119.995 1343.49,119.771 1346.24,119.548 1348.99,119.325 1351.75,119.102 1354.5,118.88 1357.25,118.659 1360,118.438 1362.75,118.218 \n",
       "  1365.5,117.998 1368.25,117.778 1371,117.559 1373.75,117.341 1376.5,117.123 1379.25,116.905 1382,116.688 1384.75,116.472 1387.5,116.256 1390.25,116.04 \n",
       "  1393,115.825 1395.75,115.611 1398.5,115.397 1401.25,115.183 1404,114.97 1406.75,114.757 1409.5,114.545 1412.25,114.333 1415,114.122 1417.75,113.911 \n",
       "  1420.5,113.701 1423.25,113.491 1426,113.282 1428.75,113.073 1431.51,112.864 1434.26,112.656 1437.01,112.448 1439.76,112.241 1442.51,112.034 1445.26,111.828 \n",
       "  1448.01,111.622 1450.76,111.417 1453.51,111.212 1456.26,111.007 1459.01,110.803 1461.76,110.599 1464.51,110.396 1467.26,110.193 1470.01,109.991 1472.76,109.789 \n",
       "  1475.51,109.587 1478.26,109.386 1481.01,109.185 1483.76,108.985 1486.51,108.785 1489.26,108.586 1492.01,108.386 1494.76,108.188 1497.51,107.99 1500.26,107.792 \n",
       "  1503.01,107.594 1505.76,107.397 1508.51,107.2 1511.26,107.004 1514.02,106.808 1516.77,106.613 1519.52,106.418 1522.27,106.223 1525.02,106.029 1527.77,105.835 \n",
       "  1530.52,105.641 1533.27,105.448 1536.02,105.256 1538.77,105.063 1541.52,104.871 1544.27,104.68 1547.02,104.488 1549.77,104.298 1552.52,104.107 1555.27,103.917 \n",
       "  1558.02,103.727 1560.77,103.538 1563.52,103.349 1566.27,103.16 1569.02,102.972 1571.77,102.784 1574.52,102.597 1577.27,102.41 1580.02,102.223 1582.77,102.036 \n",
       "  1585.52,101.85 1588.27,101.665 1591.02,101.479 1593.78,101.294 1596.53,101.11 1599.28,100.925 1602.03,100.741 1604.78,100.558 1607.53,100.375 1610.28,100.192 \n",
       "  1613.03,100.009 1615.78,99.827 1618.53,99.6452 1621.28,99.4636 1624.03,99.2825 1626.78,99.1016 1629.53,98.9211 1632.28,98.741 1635.03,98.5611 1637.78,98.3816 \n",
       "  1640.53,98.2025 1643.28,98.0236 1646.03,97.8451 1648.78,97.667 1651.53,97.4891 1654.28,97.3116 1657.03,97.1344 1659.78,96.9575 1662.53,96.781 1665.28,96.6048 \n",
       "  1668.03,96.4289 1670.78,96.2533 1673.53,96.078 1676.29,95.9031 1679.04,95.7284 1681.79,95.5541 1684.54,95.3801 1687.29,95.2064 1690.04,95.0331 1692.79,94.86 \n",
       "  1695.54,94.6872 1698.29,94.5148 1701.04,94.3426 1703.79,94.1708 1706.54,93.9993 1709.29,93.828 1712.04,93.6571 1714.79,93.4865 1717.54,93.3162 1720.29,93.1461 \n",
       "  1723.04,92.9764 1725.79,92.807 1728.54,92.6379 1731.29,92.469 1734.04,92.3005 1736.79,92.1322 1739.54,91.9643 1742.29,91.7966 1745.04,91.6292 1747.79,91.4622 \n",
       "  1750.54,91.2954 1753.29,91.1288 1756.05,90.9626 1758.8,90.7967 1761.55,90.631 1764.3,90.4657 1767.05,90.3006 1769.8,90.1358 1772.55,89.9712 1775.3,89.807 \n",
       "  1778.05,89.643 1780.8,89.4793 1783.55,89.3159 1786.3,89.1528 1789.05,88.9899 1791.8,88.8273 1794.55,88.665 1797.3,88.503 1800.05,88.3412 1802.8,88.1797 \n",
       "  1805.55,88.0185 1808.3,87.8575 1811.05,87.6968 1813.8,87.5364 1816.55,87.3762 1819.3,87.2163 1822.05,87.0567 1824.8,86.8973 1827.55,86.7382 1830.3,86.5794 \n",
       "  1833.05,86.4208 1835.8,86.2625 1838.56,86.1044 1841.31,85.9466 1844.06,85.789 1846.81,85.6317 1849.56,85.4747 1852.31,85.3179 1855.06,85.1614 1857.81,85.0051 \n",
       "  1860.56,84.8491 1863.31,84.6933 1866.06,84.5378 1868.81,84.3825 1871.56,84.2275 1874.31,84.0727 1877.06,83.9182 1879.81,83.7639 1882.56,83.6098 1885.31,83.456 \n",
       "  1888.06,83.3025 1890.81,83.1492 1893.56,82.9961 1896.31,82.8433 1899.06,82.6907 1901.81,82.5384 1904.56,82.3863 1907.31,82.2344 1910.06,82.0828 1912.81,81.9314 \n",
       "  1915.56,81.7803 1918.32,81.6294 1921.07,81.4787 1923.82,81.3283 1926.57,81.178 1929.32,81.0281 1932.07,80.8783 1934.82,80.7288 1937.57,80.5795 1940.32,80.4305 \n",
       "  1943.07,80.2817 1945.82,80.1331 1948.57,79.9847 1951.32,79.8366 1954.07,79.6887 1956.82,79.541 1959.57,79.3935 1962.32,79.2463 1965.07,79.0993 1967.82,78.9525 \n",
       "  1970.57,78.8059 1973.32,78.6596 1976.07,78.5135 1978.82,78.3676 1981.57,78.2219 1984.32,78.0764 1987.07,77.9312 1989.82,77.7862 1992.57,77.6414 1995.32,77.4968 \n",
       "  1998.07,77.3524 2000.83,77.2082 2003.58,77.0643 2006.33,76.9206 2009.08,76.7771 2011.83,76.6337 2014.58,76.4907 2017.33,76.3478 2020.08,76.2051 2022.83,76.0626 \n",
       "  2025.58,75.9204 2028.33,75.7784 2031.08,75.6365 2033.83,75.4949 2036.58,75.3535 2039.33,75.2123 2042.08,75.0713 2044.83,74.9305 2047.58,74.7899 2050.33,74.6495 \n",
       "  2053.08,74.5093 2055.83,74.3693 2058.58,74.2295 2061.33,74.09 2064.08,73.9506 2066.83,73.8114 2069.58,73.6724 2072.33,73.5336 2075.08,73.3951 2077.83,73.2567 \n",
       "  2080.59,73.1185 2083.34,72.9805 2086.09,72.8427 2088.84,72.7051 2091.59,72.5677 2094.34,72.4305 2097.09,72.2935 2099.84,72.1567 2102.59,72.0201 2105.34,71.8837 \n",
       "  2108.09,71.7474 2110.84,71.6114 2113.59,71.4755 2116.34,71.3399 2119.09,71.2044 2121.84,71.0691 2124.59,70.934 2127.34,70.7991 2130.09,70.6644 2132.84,70.5299 \n",
       "  2135.59,70.3956 2138.34,70.2614 2141.09,70.1274 2143.84,69.9936 2146.59,69.86 2149.34,69.7266 2152.09,69.5934 2154.84,69.4604 2157.59,69.3275 2160.35,69.1948 \n",
       "  2163.1,69.0623 2165.85,68.93 2168.6,68.7979 2171.35,68.6659 2174.1,68.5341 2176.85,68.4025 2179.6,68.2711 2182.35,68.1399 2185.1,68.0088 2187.85,67.8779 \n",
       "  2190.6,67.7472 2193.35,67.6167 2196.1,67.4863 2198.85,67.3561 2201.6,67.2261 2204.35,67.0963 2207.1,66.9666 2209.85,66.8372 2212.6,66.7079 2215.35,66.5787 \n",
       "  2218.1,66.4498 2220.85,66.321 2223.6,66.1923 2226.35,66.0639 2229.1,65.9356 2231.85,65.8075 2234.6,65.6796 2237.35,65.5518 2240.1,65.4242 2242.86,65.2968 \n",
       "  2245.61,65.1695 2248.36,65.0424 2251.11,64.9155 2253.86,64.7887 2256.61,64.6621 2259.36,64.5357 2262.11,64.4094 2264.86,64.2833 2267.61,64.1574 2270.36,64.0316 \n",
       "  2273.11,63.906 2275.86,63.7805 2278.61,63.6552 2281.36,63.5301 2284.11,63.4051 2286.86,63.2803 2289.61,63.1557 2292.36,63.0312 2295.11,62.9069 2297.86,62.7827 \n",
       "  2300.61,62.6587 2303.36,62.5349 2306.11,62.4112 2308.86,62.2877 2311.61,62.1643 2314.36,62.0411 2317.11,61.9181 2319.86,61.7952 2322.62,61.6724 2325.37,61.5498 \n",
       "  2328.12,61.4274 2330.87,61.3051 2333.62,61.183 2336.37,61.061 2339.12,60.9392 2341.87,60.8176 2344.62,60.6961 2347.37,60.5747 2350.12,60.4535 2352.87,60.3325 \n",
       "  2355.62,60.2116 2358.37,60.0908 2361.12,59.9702 2363.87,59.8498 2366.62,59.7295 2369.37,59.6093 2372.12,59.4893 2374.87,59.3695 2377.62,59.2498 2380.37,59.1302 \n",
       "  2383.12,59.0108 2385.87,58.8916 2388.62,58.7724 2391.37,58.6535 2394.12,58.5347 2396.87,58.416 2399.62,58.2975 2402.37,58.1791 2405.13,58.0608 2407.88,57.9428 \n",
       "  2410.63,57.8248 2413.38,57.707 2416.13,57.5893 2418.88,57.4718 2421.63,57.3544 2424.38,57.2372 2427.13,57.1201 2429.88,57.0032 2432.63,56.8864 2435.38,56.7697 \n",
       "  2438.13,56.6532 2440.88,56.5368 2443.63,56.4205 2446.38,56.3044 2449.13,56.1885 2451.88,56.0726 2454.63,55.957 2457.38,55.8414 2460.13,55.726 2462.88,55.6107 \n",
       "  2465.63,55.4956 2468.38,55.3806 2471.13,55.2657 2473.88,55.151 2476.63,55.0364 2479.38,54.9219 2482.13,54.8076 2484.89,54.6934 2487.64,54.5794 2490.39,54.4655 \n",
       "  2493.14,54.3517 2495.89,54.238 2498.64,54.1245 2501.39,54.0111 2504.14,53.8979 2506.89,53.7848 2509.64,53.6718 2512.39,53.5589 2515.14,53.4462 2517.89,53.3336 \n",
       "  2520.64,53.2212 2523.39,53.1088 2526.14,52.9966 2528.89,52.8846 2531.64,52.7726 2534.39,52.6608 2537.14,52.5491 2539.89,52.4376 2542.64,52.3262 2545.39,52.2149 \n",
       "  2548.14,52.1037 2550.89,51.9927 2553.64,51.8818 2556.39,51.771 2559.14,51.6603 2561.89,51.5498 2564.64,51.4394 2567.4,51.3291 2570.15,51.2189 2572.9,51.1089 \n",
       "  2575.65,50.999 2578.4,50.8892 2581.15,50.7796 2583.9,50.6701 2586.65,50.5607 2589.4,50.4514 2592.15,50.3422 2594.9,50.2332 2597.65,50.1243 2600.4,50.0155 \n",
       "  2603.15,49.9068 2605.9,49.7983 2608.65,49.6899 2611.4,49.5816 2614.15,49.4734 2616.9,49.3653 2619.65,49.2574 2622.4,49.1496 2625.15,49.0419 2627.9,48.9343 \n",
       "  2630.65,48.8268 2633.4,48.7195 2636.15,48.6123 2638.9,48.5052 2641.65,48.3982 2644.4,48.2913 2647.16,48.1846 2649.91,48.0779 2652.66,47.9714 2655.41,47.865 \n",
       "  2658.16,47.7588 2660.91,47.6526 2663.66,47.5466 2666.41,47.4406 2669.16,47.3348 2671.91,47.2291 2674.66,47.1235 2677.41,47.0181 2680.16,46.9127 2682.91,46.8075 \n",
       "  2685.66,46.7024 2688.41,46.5974 2691.16,46.4925 2693.91,46.3877 2696.66,46.283 2699.41,46.1785 2702.16,46.074 2704.91,45.9697 2707.66,45.8655 2710.41,45.7614 \n",
       "  2713.16,45.6574 2715.91,45.5535 2718.66,45.4498 2721.41,45.3461 2724.16,45.2426 2726.91,45.1391 2729.67,45.0358 2732.42,44.9326 2735.17,44.8295 2737.92,44.7265 \n",
       "  2740.67,44.6236 2743.42,44.5208 2746.17,44.4182 2748.92,44.3156 2751.67,44.2132 2754.42,44.1108 2757.17,44.0086 2759.92,43.9065 2762.67,43.8045 2765.42,43.7026 \n",
       "  2768.17,43.6008 2770.92,43.4991 2773.67,43.3975 2776.42,43.296 2779.17,43.1946 2781.92,43.0934 2784.67,42.9922 2787.42,42.8912 2790.17,42.7902 2792.92,42.6894 \n",
       "  2795.67,42.5886 2798.42,42.488 2801.17,42.3875 2803.92,42.287 2806.67,42.1867 2809.43,42.0865 2812.18,41.9864 2814.93,41.8864 2817.68,41.7865 2820.43,41.6867 \n",
       "  2823.18,41.587 2825.93,41.4874 2828.68,41.3879 2831.43,41.2885 2834.18,41.1892 2836.93,41.09 2839.68,40.9909 2842.43,40.8919 2845.18,40.7931 2847.93,40.6943 \n",
       "  2850.68,40.5956 2853.43,40.497 2856.18,40.3985 2858.93,40.3002 2861.68,40.2019 2864.43,40.1037 2867.18,40.0056 2869.93,39.9076 2872.68,39.8098 2875.43,39.712 \n",
       "  2878.18,39.6143 2880.93,39.5167 2883.68,39.4192 2886.43,39.3218 2889.19,39.2245 2891.94,39.1273 2894.69,39.0302 2897.44,38.9332 2900.19,38.8363 2902.94,38.7395 \n",
       "  2905.69,38.6428 \n",
       "  \"/>\n",
       "<path clip-path=\"url(#clip500)\" d=\"\n",
       "M2554.37 88.6311 L2891.02 88.6311 L2891.02 43.2711 L2554.37 43.2711  Z\n",
       "  \" fill=\"#ffffff\" fill-rule=\"evenodd\" fill-opacity=\"1\"/>\n",
       "<polyline clip-path=\"url(#clip500)\" style=\"stroke:#000000; stroke-width:1; stroke-opacity:1; fill:none\" points=\"\n",
       "  2554.37,88.6311 2891.02,88.6311 2891.02,43.2711 2554.37,43.2711 2554.37,88.6311 \n",
       "  \"/>\n",
       "<polyline clip-path=\"url(#clip500)\" style=\"stroke:#009af9; stroke-width:1; stroke-opacity:1; fill:none\" points=\"\n",
       "  2586.76,58.3911 2781.1,58.3911 \n",
       "  \"/>\n",
       "<path clip-path=\"url(#clip500)\" d=\"M 0 0 M2816.95 63.3129 Q2816.5 64.4703 2816.07 64.8233 Q2815.64 65.1763 2814.92 65.1763 L2814.07 65.1763 L2814.07 64.2851 L2814.7 64.2851 Q2815.14 64.2851 2815.38 64.0768 Q2815.62 63.8685 2815.92 63.093 L2816.11 62.6069 L2813.49 56.2296 L2814.61 56.2296 L2816.64 61.299 L2818.67 56.2296 L2819.79 56.2296 L2816.95 63.3129 Z\" fill=\"#000000\" fill-rule=\"evenodd\" fill-opacity=\"1\" /><path clip-path=\"url(#clip500)\" d=\"M 0 0 M2821.26 61.7273 L2823.17 61.7273 L2823.17 55.1359 L2821.1 55.5525 L2821.1 54.4877 L2823.16 54.0711 L2824.33 54.0711 L2824.33 61.7273 L2826.24 61.7273 L2826.24 62.7111 L2821.26 62.7111 L2821.26 61.7273 Z\" fill=\"#000000\" fill-rule=\"evenodd\" fill-opacity=\"1\" /><polyline clip-path=\"url(#clip500)\" style=\"stroke:#e26f46; stroke-width:1; stroke-opacity:1; fill:none\" points=\"\n",
       "  2586.76,73.5111 2781.1,73.5111 \n",
       "  \"/>\n",
       "<path clip-path=\"url(#clip500)\" d=\"M 0 0 M2816.95 78.4329 Q2816.5 79.5903 2816.07 79.9433 Q2815.64 80.2963 2814.92 80.2963 L2814.07 80.2963 L2814.07 79.4051 L2814.7 79.4051 Q2815.14 79.4051 2815.38 79.1968 Q2815.62 78.9885 2815.92 78.213 L2816.11 77.7269 L2813.49 71.3496 L2814.61 71.3496 L2816.64 76.419 L2818.67 71.3496 L2819.79 71.3496 L2816.95 78.4329 Z\" fill=\"#000000\" fill-rule=\"evenodd\" fill-opacity=\"1\" /><path clip-path=\"url(#clip500)\" d=\"M 0 0 M2822.07 76.8473 L2826.15 76.8473 L2826.15 77.8311 L2820.66 77.8311 L2820.66 76.8473 Q2821.33 76.1586 2822.47 75.0012 Q2823.63 73.838 2823.92 73.5024 Q2824.48 72.8716 2824.7 72.4376 Q2824.93 71.9978 2824.93 71.5753 Q2824.93 70.8866 2824.44 70.4526 Q2823.96 70.0186 2823.19 70.0186 Q2822.64 70.0186 2822.02 70.2096 Q2821.41 70.4005 2820.72 70.7883 L2820.72 69.6077 Q2821.43 69.3242 2822.04 69.1795 Q2822.65 69.0348 2823.16 69.0348 Q2824.5 69.0348 2825.3 69.7061 Q2826.1 70.3774 2826.1 71.5001 Q2826.1 72.0325 2825.9 72.5128 Q2825.7 72.9873 2825.18 73.6355 Q2825.03 73.8033 2824.26 74.6077 Q2823.48 75.4063 2822.07 76.8473 Z\" fill=\"#000000\" fill-rule=\"evenodd\" fill-opacity=\"1\" /><path clip-path=\"url(#clip500)\" d=\"\n",
       "M73.1206 1955.61 L2988.19 1955.61 L2988.19 1011.81 L73.1206 1011.81  Z\n",
       "  \" fill=\"#ffffff\" fill-rule=\"evenodd\" fill-opacity=\"1\"/>\n",
       "<defs>\n",
       "  <clipPath id=\"clip503\">\n",
       "    <rect x=\"73\" y=\"1011\" width=\"2916\" height=\"945\"/>\n",
       "  </clipPath>\n",
       "</defs>\n",
       "<polyline clip-path=\"url(#clip503)\" style=\"stroke:#000000; stroke-width:0.5; stroke-opacity:0.1; fill:none\" points=\"\n",
       "  155.347,1955.61 155.347,1011.81 \n",
       "  \"/>\n",
       "<polyline clip-path=\"url(#clip503)\" style=\"stroke:#000000; stroke-width:0.5; stroke-opacity:0.1; fill:none\" points=\"\n",
       "  842.932,1955.61 842.932,1011.81 \n",
       "  \"/>\n",
       "<polyline clip-path=\"url(#clip503)\" style=\"stroke:#000000; stroke-width:0.5; stroke-opacity:0.1; fill:none\" points=\"\n",
       "  1530.52,1955.61 1530.52,1011.81 \n",
       "  \"/>\n",
       "<polyline clip-path=\"url(#clip503)\" style=\"stroke:#000000; stroke-width:0.5; stroke-opacity:0.1; fill:none\" points=\"\n",
       "  2218.1,1955.61 2218.1,1011.81 \n",
       "  \"/>\n",
       "<polyline clip-path=\"url(#clip503)\" style=\"stroke:#000000; stroke-width:0.5; stroke-opacity:0.1; fill:none\" points=\"\n",
       "  2905.69,1955.61 2905.69,1011.81 \n",
       "  \"/>\n",
       "<polyline clip-path=\"url(#clip500)\" style=\"stroke:#000000; stroke-width:1; stroke-opacity:1; fill:none\" points=\"\n",
       "  73.1206,1955.61 2988.19,1955.61 \n",
       "  \"/>\n",
       "<polyline clip-path=\"url(#clip500)\" style=\"stroke:#000000; stroke-width:1; stroke-opacity:1; fill:none\" points=\"\n",
       "  155.347,1955.61 155.347,1944.29 \n",
       "  \"/>\n",
       "<polyline clip-path=\"url(#clip500)\" style=\"stroke:#000000; stroke-width:1; stroke-opacity:1; fill:none\" points=\"\n",
       "  842.932,1955.61 842.932,1944.29 \n",
       "  \"/>\n",
       "<polyline clip-path=\"url(#clip500)\" style=\"stroke:#000000; stroke-width:1; stroke-opacity:1; fill:none\" points=\"\n",
       "  1530.52,1955.61 1530.52,1944.29 \n",
       "  \"/>\n",
       "<polyline clip-path=\"url(#clip500)\" style=\"stroke:#000000; stroke-width:1; stroke-opacity:1; fill:none\" points=\"\n",
       "  2218.1,1955.61 2218.1,1944.29 \n",
       "  \"/>\n",
       "<polyline clip-path=\"url(#clip500)\" style=\"stroke:#000000; stroke-width:1; stroke-opacity:1; fill:none\" points=\"\n",
       "  2905.69,1955.61 2905.69,1944.29 \n",
       "  \"/>\n",
       "<path clip-path=\"url(#clip500)\" d=\"M 0 0 M147.35 1982.11 Q146.447 1982.11 145.99 1983 Q145.538 1983.89 145.538 1985.67 Q145.538 1987.45 145.99 1988.34 Q146.447 1989.22 147.35 1989.22 Q148.258 1989.22 148.71 1988.34 Q149.167 1987.45 149.167 1985.67 Q149.167 1983.89 148.71 1983 Q148.258 1982.11 147.35 1982.11 M147.35 1981.18 Q148.802 1981.18 149.566 1982.34 Q150.336 1983.48 150.336 1985.67 Q150.336 1987.85 149.566 1989 Q148.802 1990.15 147.35 1990.15 Q145.897 1990.15 145.128 1989 Q144.364 1987.85 144.364 1985.67 Q144.364 1983.48 145.128 1982.34 Q145.897 1981.18 147.35 1981.18 Z\" fill=\"#000000\" fill-rule=\"evenodd\" fill-opacity=\"1\" /><path clip-path=\"url(#clip500)\" d=\"M 0 0 M151.603 1988.51 L152.824 1988.51 L152.824 1989.98 L151.603 1989.98 L151.603 1988.51 Z\" fill=\"#000000\" fill-rule=\"evenodd\" fill-opacity=\"1\" /><path clip-path=\"url(#clip500)\" d=\"M 0 0 M156.592 1982.11 Q155.689 1982.11 155.232 1983 Q154.78 1983.89 154.78 1985.67 Q154.78 1987.45 155.232 1988.34 Q155.689 1989.22 156.592 1989.22 Q157.5 1989.22 157.952 1988.34 Q158.409 1987.45 158.409 1985.67 Q158.409 1983.89 157.952 1983 Q157.5 1982.11 156.592 1982.11 M156.592 1981.18 Q158.044 1981.18 158.808 1982.34 Q159.578 1983.48 159.578 1985.67 Q159.578 1987.85 158.808 1989 Q158.044 1990.15 156.592 1990.15 Q155.139 1990.15 154.369 1989 Q153.606 1987.85 153.606 1985.67 Q153.606 1983.48 154.369 1982.34 Q155.139 1981.18 156.592 1981.18 Z\" fill=\"#000000\" fill-rule=\"evenodd\" fill-opacity=\"1\" /><path clip-path=\"url(#clip500)\" d=\"M 0 0 M163.345 1982.11 Q162.442 1982.11 161.985 1983 Q161.534 1983.89 161.534 1985.67 Q161.534 1987.45 161.985 1988.34 Q162.442 1989.22 163.345 1989.22 Q164.254 1989.22 164.705 1988.34 Q165.162 1987.45 165.162 1985.67 Q165.162 1983.89 164.705 1983 Q164.254 1982.11 163.345 1982.11 M163.345 1981.18 Q164.798 1981.18 165.562 1982.34 Q166.331 1983.48 166.331 1985.67 Q166.331 1987.85 165.562 1989 Q164.798 1990.15 163.345 1990.15 Q161.893 1990.15 161.123 1989 Q160.359 1987.85 160.359 1985.67 Q160.359 1983.48 161.123 1982.34 Q161.893 1981.18 163.345 1981.18 Z\" fill=\"#000000\" fill-rule=\"evenodd\" fill-opacity=\"1\" /><path clip-path=\"url(#clip500)\" d=\"M 0 0 M835.259 1982.11 Q834.356 1982.11 833.899 1983 Q833.447 1983.89 833.447 1985.67 Q833.447 1987.45 833.899 1988.34 Q834.356 1989.22 835.259 1989.22 Q836.167 1989.22 836.619 1988.34 Q837.076 1987.45 837.076 1985.67 Q837.076 1983.89 836.619 1983 Q836.167 1982.11 835.259 1982.11 M835.259 1981.18 Q836.711 1981.18 837.475 1982.34 Q838.245 1983.48 838.245 1985.67 Q838.245 1987.85 837.475 1989 Q836.711 1990.15 835.259 1990.15 Q833.806 1990.15 833.037 1989 Q832.273 1987.85 832.273 1985.67 Q832.273 1983.48 833.037 1982.34 Q833.806 1981.18 835.259 1981.18 Z\" fill=\"#000000\" fill-rule=\"evenodd\" fill-opacity=\"1\" /><path clip-path=\"url(#clip500)\" d=\"M 0 0 M839.512 1988.51 L840.733 1988.51 L840.733 1989.98 L839.512 1989.98 L839.512 1988.51 Z\" fill=\"#000000\" fill-rule=\"evenodd\" fill-opacity=\"1\" /><path clip-path=\"url(#clip500)\" d=\"M 0 0 M843.008 1989 L847.087 1989 L847.087 1989.98 L841.601 1989.98 L841.601 1989 Q842.267 1988.31 843.413 1987.15 Q844.564 1985.99 844.859 1985.65 Q845.421 1985.02 845.641 1984.59 Q845.866 1984.15 845.866 1983.72 Q845.866 1983.04 845.38 1982.6 Q844.9 1982.17 844.124 1982.17 Q843.575 1982.17 842.961 1982.36 Q842.354 1982.55 841.659 1982.94 L841.659 1981.76 Q842.365 1981.47 842.979 1981.33 Q843.592 1981.18 844.101 1981.18 Q845.444 1981.18 846.243 1981.86 Q847.041 1982.53 847.041 1983.65 Q847.041 1984.18 846.839 1984.66 Q846.642 1985.14 846.115 1985.78 Q845.971 1985.95 845.195 1986.76 Q844.42 1987.56 843.008 1989 Z\" fill=\"#000000\" fill-rule=\"evenodd\" fill-opacity=\"1\" /><path clip-path=\"url(#clip500)\" d=\"M 0 0 M848.366 1981.34 L852.955 1981.34 L852.955 1982.32 L849.437 1982.32 L849.437 1984.44 Q849.692 1984.35 849.946 1984.31 Q850.201 1984.27 850.455 1984.27 Q851.902 1984.27 852.747 1985.06 Q853.592 1985.85 853.592 1987.21 Q853.592 1988.6 852.724 1989.38 Q851.856 1990.15 850.276 1990.15 Q849.732 1990.15 849.165 1990.06 Q848.604 1989.96 848.002 1989.78 L848.002 1988.6 Q848.523 1988.89 849.078 1989.03 Q849.634 1989.16 850.253 1989.16 Q851.254 1989.16 851.839 1988.64 Q852.423 1988.11 852.423 1987.21 Q852.423 1986.31 851.839 1985.78 Q851.254 1985.25 850.253 1985.25 Q849.784 1985.25 849.315 1985.36 Q848.852 1985.46 848.366 1985.68 L848.366 1981.34 Z\" fill=\"#000000\" fill-rule=\"evenodd\" fill-opacity=\"1\" /><path clip-path=\"url(#clip500)\" d=\"M 0 0 M1522.64 1982.11 Q1521.74 1982.11 1521.28 1983 Q1520.83 1983.89 1520.83 1985.67 Q1520.83 1987.45 1521.28 1988.34 Q1521.74 1989.22 1522.64 1989.22 Q1523.55 1989.22 1524 1988.34 Q1524.46 1987.45 1524.46 1985.67 Q1524.46 1983.89 1524 1983 Q1523.55 1982.11 1522.64 1982.11 M1522.64 1981.18 Q1524.1 1981.18 1524.86 1982.34 Q1525.63 1983.48 1525.63 1985.67 Q1525.63 1987.85 1524.86 1989 Q1524.1 1990.15 1522.64 1990.15 Q1521.19 1990.15 1520.42 1989 Q1519.66 1987.85 1519.66 1985.67 Q1519.66 1983.48 1520.42 1982.34 Q1521.19 1981.18 1522.64 1981.18 Z\" fill=\"#000000\" fill-rule=\"evenodd\" fill-opacity=\"1\" /><path clip-path=\"url(#clip500)\" d=\"M 0 0 M1526.9 1988.51 L1528.12 1988.51 L1528.12 1989.98 L1526.9 1989.98 L1526.9 1988.51 Z\" fill=\"#000000\" fill-rule=\"evenodd\" fill-opacity=\"1\" /><path clip-path=\"url(#clip500)\" d=\"M 0 0 M1529.4 1981.34 L1533.99 1981.34 L1533.99 1982.32 L1530.47 1982.32 L1530.47 1984.44 Q1530.72 1984.35 1530.98 1984.31 Q1531.23 1984.27 1531.49 1984.27 Q1532.93 1984.27 1533.78 1985.06 Q1534.62 1985.85 1534.62 1987.21 Q1534.62 1988.6 1533.76 1989.38 Q1532.89 1990.15 1531.31 1990.15 Q1530.76 1990.15 1530.2 1990.06 Q1529.63 1989.96 1529.03 1989.78 L1529.03 1988.6 Q1529.55 1988.89 1530.11 1989.03 Q1530.66 1989.16 1531.28 1989.16 Q1532.29 1989.16 1532.87 1988.64 Q1533.45 1988.11 1533.45 1987.21 Q1533.45 1986.31 1532.87 1985.78 Q1532.29 1985.25 1531.28 1985.25 Q1530.82 1985.25 1530.35 1985.36 Q1529.88 1985.46 1529.4 1985.68 L1529.4 1981.34 Z\" fill=\"#000000\" fill-rule=\"evenodd\" fill-opacity=\"1\" /><path clip-path=\"url(#clip500)\" d=\"M 0 0 M1538.39 1982.11 Q1537.49 1982.11 1537.03 1983 Q1536.58 1983.89 1536.58 1985.67 Q1536.58 1987.45 1537.03 1988.34 Q1537.49 1989.22 1538.39 1989.22 Q1539.3 1989.22 1539.75 1988.34 Q1540.21 1987.45 1540.21 1985.67 Q1540.21 1983.89 1539.75 1983 Q1539.3 1982.11 1538.39 1982.11 M1538.39 1981.18 Q1539.84 1981.18 1540.61 1982.34 Q1541.38 1983.48 1541.38 1985.67 Q1541.38 1987.85 1540.61 1989 Q1539.84 1990.15 1538.39 1990.15 Q1536.94 1990.15 1536.17 1989 Q1535.4 1987.85 1535.4 1985.67 Q1535.4 1983.48 1536.17 1982.34 Q1536.94 1981.18 1538.39 1981.18 Z\" fill=\"#000000\" fill-rule=\"evenodd\" fill-opacity=\"1\" /><path clip-path=\"url(#clip500)\" d=\"M 0 0 M2210.34 1982.11 Q2209.44 1982.11 2208.98 1983 Q2208.53 1983.89 2208.53 1985.67 Q2208.53 1987.45 2208.98 1988.34 Q2209.44 1989.22 2210.34 1989.22 Q2211.25 1989.22 2211.7 1988.34 Q2212.16 1987.45 2212.16 1985.67 Q2212.16 1983.89 2211.7 1983 Q2211.25 1982.11 2210.34 1982.11 M2210.34 1981.18 Q2211.79 1981.18 2212.56 1982.34 Q2213.33 1983.48 2213.33 1985.67 Q2213.33 1987.85 2212.56 1989 Q2211.79 1990.15 2210.34 1990.15 Q2208.89 1990.15 2208.12 1989 Q2207.36 1987.85 2207.36 1985.67 Q2207.36 1983.48 2208.12 1982.34 Q2208.89 1981.18 2210.34 1981.18 Z\" fill=\"#000000\" fill-rule=\"evenodd\" fill-opacity=\"1\" /><path clip-path=\"url(#clip500)\" d=\"M 0 0 M2214.6 1988.51 L2215.82 1988.51 L2215.82 1989.98 L2214.6 1989.98 L2214.6 1988.51 Z\" fill=\"#000000\" fill-rule=\"evenodd\" fill-opacity=\"1\" /><path clip-path=\"url(#clip500)\" d=\"M 0 0 M2216.79 1981.34 L2222.34 1981.34 L2222.34 1981.84 L2219.21 1989.98 L2217.99 1989.98 L2220.94 1982.32 L2216.79 1982.32 L2216.79 1981.34 Z\" fill=\"#000000\" fill-rule=\"evenodd\" fill-opacity=\"1\" /><path clip-path=\"url(#clip500)\" d=\"M 0 0 M2223.62 1981.34 L2228.21 1981.34 L2228.21 1982.32 L2224.69 1982.32 L2224.69 1984.44 Q2224.95 1984.35 2225.2 1984.31 Q2225.46 1984.27 2225.71 1984.27 Q2227.16 1984.27 2228 1985.06 Q2228.85 1985.85 2228.85 1987.21 Q2228.85 1988.6 2227.98 1989.38 Q2227.11 1990.15 2225.53 1990.15 Q2224.99 1990.15 2224.42 1990.06 Q2223.86 1989.96 2223.26 1989.78 L2223.26 1988.6 Q2223.78 1988.89 2224.33 1989.03 Q2224.89 1989.16 2225.51 1989.16 Q2226.51 1989.16 2227.1 1988.64 Q2227.68 1988.11 2227.68 1987.21 Q2227.68 1986.31 2227.1 1985.78 Q2226.51 1985.25 2225.51 1985.25 Q2225.04 1985.25 2224.57 1985.36 Q2224.11 1985.46 2223.62 1985.68 L2223.62 1981.34 Z\" fill=\"#000000\" fill-rule=\"evenodd\" fill-opacity=\"1\" /><path clip-path=\"url(#clip500)\" d=\"M 0 0 M2895.28 1989 L2897.19 1989 L2897.19 1982.4 L2895.12 1982.82 L2895.12 1981.76 L2897.18 1981.34 L2898.35 1981.34 L2898.35 1989 L2900.26 1989 L2900.26 1989.98 L2895.28 1989.98 L2895.28 1989 Z\" fill=\"#000000\" fill-rule=\"evenodd\" fill-opacity=\"1\" /><path clip-path=\"url(#clip500)\" d=\"M 0 0 M2901.53 1988.51 L2902.75 1988.51 L2902.75 1989.98 L2901.53 1989.98 L2901.53 1988.51 Z\" fill=\"#000000\" fill-rule=\"evenodd\" fill-opacity=\"1\" /><path clip-path=\"url(#clip500)\" d=\"M 0 0 M2906.52 1982.11 Q2905.61 1982.11 2905.16 1983 Q2904.71 1983.89 2904.71 1985.67 Q2904.71 1987.45 2905.16 1988.34 Q2905.61 1989.22 2906.52 1989.22 Q2907.43 1989.22 2907.88 1988.34 Q2908.33 1987.45 2908.33 1985.67 Q2908.33 1983.89 2907.88 1983 Q2907.43 1982.11 2906.52 1982.11 M2906.52 1981.18 Q2907.97 1981.18 2908.73 1982.34 Q2909.5 1983.48 2909.5 1985.67 Q2909.5 1987.85 2908.73 1989 Q2907.97 1990.15 2906.52 1990.15 Q2905.06 1990.15 2904.3 1989 Q2903.53 1987.85 2903.53 1985.67 Q2903.53 1983.48 2904.3 1982.34 Q2905.06 1981.18 2906.52 1981.18 Z\" fill=\"#000000\" fill-rule=\"evenodd\" fill-opacity=\"1\" /><path clip-path=\"url(#clip500)\" d=\"M 0 0 M2913.27 1982.11 Q2912.37 1982.11 2911.91 1983 Q2911.46 1983.89 2911.46 1985.67 Q2911.46 1987.45 2911.91 1988.34 Q2912.37 1989.22 2913.27 1989.22 Q2914.18 1989.22 2914.63 1988.34 Q2915.09 1987.45 2915.09 1985.67 Q2915.09 1983.89 2914.63 1983 Q2914.18 1982.11 2913.27 1982.11 M2913.27 1981.18 Q2914.72 1981.18 2915.49 1982.34 Q2916.26 1983.48 2916.26 1985.67 Q2916.26 1987.85 2915.49 1989 Q2914.72 1990.15 2913.27 1990.15 Q2911.82 1990.15 2911.05 1989 Q2910.28 1987.85 2910.28 1985.67 Q2910.28 1983.48 2911.05 1982.34 Q2911.82 1981.18 2913.27 1981.18 Z\" fill=\"#000000\" fill-rule=\"evenodd\" fill-opacity=\"1\" /><polyline clip-path=\"url(#clip503)\" style=\"stroke:#000000; stroke-width:0.5; stroke-opacity:0.1; fill:none\" points=\"\n",
       "  73.1206,1928.99 2988.19,1928.99 \n",
       "  \"/>\n",
       "<polyline clip-path=\"url(#clip503)\" style=\"stroke:#000000; stroke-width:0.5; stroke-opacity:0.1; fill:none\" points=\"\n",
       "  73.1206,1731.11 2988.19,1731.11 \n",
       "  \"/>\n",
       "<polyline clip-path=\"url(#clip503)\" style=\"stroke:#000000; stroke-width:0.5; stroke-opacity:0.1; fill:none\" points=\"\n",
       "  73.1206,1533.23 2988.19,1533.23 \n",
       "  \"/>\n",
       "<polyline clip-path=\"url(#clip503)\" style=\"stroke:#000000; stroke-width:0.5; stroke-opacity:0.1; fill:none\" points=\"\n",
       "  73.1206,1335.34 2988.19,1335.34 \n",
       "  \"/>\n",
       "<polyline clip-path=\"url(#clip503)\" style=\"stroke:#000000; stroke-width:0.5; stroke-opacity:0.1; fill:none\" points=\"\n",
       "  73.1206,1137.46 2988.19,1137.46 \n",
       "  \"/>\n",
       "<polyline clip-path=\"url(#clip500)\" style=\"stroke:#000000; stroke-width:1; stroke-opacity:1; fill:none\" points=\"\n",
       "  73.1206,1955.61 73.1206,1011.81 \n",
       "  \"/>\n",
       "<polyline clip-path=\"url(#clip500)\" style=\"stroke:#000000; stroke-width:1; stroke-opacity:1; fill:none\" points=\"\n",
       "  73.1206,1928.99 108.101,1928.99 \n",
       "  \"/>\n",
       "<polyline clip-path=\"url(#clip500)\" style=\"stroke:#000000; stroke-width:1; stroke-opacity:1; fill:none\" points=\"\n",
       "  73.1206,1731.11 108.101,1731.11 \n",
       "  \"/>\n",
       "<polyline clip-path=\"url(#clip500)\" style=\"stroke:#000000; stroke-width:1; stroke-opacity:1; fill:none\" points=\"\n",
       "  73.1206,1533.23 108.101,1533.23 \n",
       "  \"/>\n",
       "<polyline clip-path=\"url(#clip500)\" style=\"stroke:#000000; stroke-width:1; stroke-opacity:1; fill:none\" points=\"\n",
       "  73.1206,1335.34 108.101,1335.34 \n",
       "  \"/>\n",
       "<polyline clip-path=\"url(#clip500)\" style=\"stroke:#000000; stroke-width:1; stroke-opacity:1; fill:none\" points=\"\n",
       "  73.1206,1137.46 108.101,1137.46 \n",
       "  \"/>\n",
       "<path clip-path=\"url(#clip500)\" d=\"M 0 0 M15.8926 1925.44 Q14.9899 1925.44 14.5327 1926.33 Q14.0813 1927.22 14.0813 1929 Q14.0813 1930.77 14.5327 1931.67 Q14.9899 1932.55 15.8926 1932.55 Q16.8012 1932.55 17.2526 1931.67 Q17.7097 1930.77 17.7097 1929 Q17.7097 1927.22 17.2526 1926.33 Q16.8012 1925.44 15.8926 1925.44 M15.8926 1924.51 Q17.3452 1924.51 18.109 1925.67 Q18.8787 1926.81 18.8787 1929 Q18.8787 1931.18 18.109 1932.33 Q17.3452 1933.48 15.8926 1933.48 Q14.4401 1933.48 13.6704 1932.33 Q12.9065 1931.18 12.9065 1929 Q12.9065 1926.81 13.6704 1925.67 Q14.4401 1924.51 15.8926 1924.51 Z\" fill=\"#000000\" fill-rule=\"evenodd\" fill-opacity=\"1\" /><path clip-path=\"url(#clip500)\" d=\"M 0 0 M20.1461 1931.84 L21.3671 1931.84 L21.3671 1933.31 L20.1461 1933.31 L20.1461 1931.84 Z\" fill=\"#000000\" fill-rule=\"evenodd\" fill-opacity=\"1\" /><path clip-path=\"url(#clip500)\" d=\"M 0 0 M25.1345 1925.44 Q24.2317 1925.44 23.7745 1926.33 Q23.3231 1927.22 23.3231 1929 Q23.3231 1930.77 23.7745 1931.67 Q24.2317 1932.55 25.1345 1932.55 Q26.043 1932.55 26.4944 1931.67 Q26.9516 1930.77 26.9516 1929 Q26.9516 1927.22 26.4944 1926.33 Q26.043 1925.44 25.1345 1925.44 M25.1345 1924.51 Q26.587 1924.51 27.3509 1925.67 Q28.1206 1926.81 28.1206 1929 Q28.1206 1931.18 27.3509 1932.33 Q26.587 1933.48 25.1345 1933.48 Q23.6819 1933.48 22.9123 1932.33 Q22.1484 1931.18 22.1484 1929 Q22.1484 1926.81 22.9123 1925.67 Q23.6819 1924.51 25.1345 1924.51 Z\" fill=\"#000000\" fill-rule=\"evenodd\" fill-opacity=\"1\" /><path clip-path=\"url(#clip500)\" d=\"M 0 0 M16.2919 1727.56 Q15.3892 1727.56 14.932 1728.45 Q14.4806 1729.33 14.4806 1731.12 Q14.4806 1732.89 14.932 1733.78 Q15.3892 1734.67 16.2919 1734.67 Q17.2005 1734.67 17.6519 1733.78 Q18.109 1732.89 18.109 1731.12 Q18.109 1729.33 17.6519 1728.45 Q17.2005 1727.56 16.2919 1727.56 M16.2919 1726.63 Q17.7445 1726.63 18.5084 1727.78 Q19.278 1728.93 19.278 1731.12 Q19.278 1733.3 18.5084 1734.45 Q17.7445 1735.6 16.2919 1735.6 Q14.8394 1735.6 14.0697 1734.45 Q13.3058 1733.3 13.3058 1731.12 Q13.3058 1728.93 14.0697 1727.78 Q14.8394 1726.63 16.2919 1726.63 Z\" fill=\"#000000\" fill-rule=\"evenodd\" fill-opacity=\"1\" /><path clip-path=\"url(#clip500)\" d=\"M 0 0 M20.5454 1733.96 L21.7664 1733.96 L21.7664 1735.43 L20.5454 1735.43 L20.5454 1733.96 Z\" fill=\"#000000\" fill-rule=\"evenodd\" fill-opacity=\"1\" /><path clip-path=\"url(#clip500)\" d=\"M 0 0 M24.0407 1734.44 L28.1206 1734.44 L28.1206 1735.43 L22.6345 1735.43 L22.6345 1734.44 Q23.3 1733.76 24.4458 1732.6 Q25.5974 1731.44 25.8926 1731.1 Q26.4539 1730.47 26.6738 1730.03 Q26.8995 1729.59 26.8995 1729.17 Q26.8995 1728.48 26.4134 1728.05 Q25.9331 1727.62 25.1576 1727.62 Q24.6079 1727.62 23.9944 1727.81 Q23.3868 1728 22.6924 1728.39 L22.6924 1727.2 Q23.3984 1726.92 24.0118 1726.78 Q24.6252 1726.63 25.1345 1726.63 Q26.4771 1726.63 27.2757 1727.3 Q28.0743 1727.97 28.0743 1729.1 Q28.0743 1729.63 27.8717 1730.11 Q27.675 1730.58 27.1484 1731.23 Q27.0037 1731.4 26.2282 1732.2 Q25.4528 1733 24.0407 1734.44 Z\" fill=\"#000000\" fill-rule=\"evenodd\" fill-opacity=\"1\" /><path clip-path=\"url(#clip500)\" d=\"M 0 0 M15.7711 1529.68 Q14.8683 1529.68 14.4112 1530.57 Q13.9598 1531.45 13.9598 1533.24 Q13.9598 1535.01 14.4112 1535.9 Q14.8683 1536.79 15.7711 1536.79 Q16.6797 1536.79 17.131 1535.9 Q17.5882 1535.01 17.5882 1533.24 Q17.5882 1531.45 17.131 1530.57 Q16.6797 1529.68 15.7711 1529.68 M15.7711 1528.75 Q17.2236 1528.75 17.9875 1529.9 Q18.7572 1531.05 18.7572 1533.24 Q18.7572 1535.42 17.9875 1536.57 Q17.2236 1537.71 15.7711 1537.71 Q14.3186 1537.71 13.5489 1536.57 Q12.785 1535.42 12.785 1533.24 Q12.785 1531.05 13.5489 1529.9 Q14.3186 1528.75 15.7711 1528.75 Z\" fill=\"#000000\" fill-rule=\"evenodd\" fill-opacity=\"1\" /><path clip-path=\"url(#clip500)\" d=\"M 0 0 M20.0245 1536.08 L21.2456 1536.08 L21.2456 1537.55 L20.0245 1537.55 L20.0245 1536.08 Z\" fill=\"#000000\" fill-rule=\"evenodd\" fill-opacity=\"1\" /><path clip-path=\"url(#clip500)\" d=\"M 0 0 M25.7247 1529.92 L22.7734 1534.54 L25.7247 1534.54 L25.7247 1529.92 M25.418 1528.91 L26.8879 1528.91 L26.8879 1534.54 L28.1206 1534.54 L28.1206 1535.51 L26.8879 1535.51 L26.8879 1537.55 L25.7247 1537.55 L25.7247 1535.51 L21.8243 1535.51 L21.8243 1534.38 L25.418 1528.91 Z\" fill=\"#000000\" fill-rule=\"evenodd\" fill-opacity=\"1\" /><path clip-path=\"url(#clip500)\" d=\"M 0 0 M15.8521 1331.79 Q14.9493 1331.79 14.4922 1332.69 Q14.0408 1333.57 14.0408 1335.35 Q14.0408 1337.13 14.4922 1338.02 Q14.9493 1338.91 15.8521 1338.91 Q16.7607 1338.91 17.2121 1338.02 Q17.6692 1337.13 17.6692 1335.35 Q17.6692 1333.57 17.2121 1332.69 Q16.7607 1331.79 15.8521 1331.79 M15.8521 1330.87 Q17.3047 1330.87 18.0685 1332.02 Q18.8382 1333.17 18.8382 1335.35 Q18.8382 1337.54 18.0685 1338.69 Q17.3047 1339.83 15.8521 1339.83 Q14.3996 1339.83 13.6299 1338.69 Q12.866 1337.54 12.866 1335.35 Q12.866 1333.17 13.6299 1332.02 Q14.3996 1330.87 15.8521 1330.87 Z\" fill=\"#000000\" fill-rule=\"evenodd\" fill-opacity=\"1\" /><path clip-path=\"url(#clip500)\" d=\"M 0 0 M20.1056 1338.19 L21.3266 1338.19 L21.3266 1339.66 L20.1056 1339.66 L20.1056 1338.19 Z\" fill=\"#000000\" fill-rule=\"evenodd\" fill-opacity=\"1\" /><path clip-path=\"url(#clip500)\" d=\"M 0 0 M25.2386 1334.88 Q24.4516 1334.88 23.9886 1335.42 Q23.5315 1335.96 23.5315 1336.89 Q23.5315 1337.82 23.9886 1338.37 Q24.4516 1338.91 25.2386 1338.91 Q26.0257 1338.91 26.4828 1338.37 Q26.9458 1337.82 26.9458 1336.89 Q26.9458 1335.96 26.4828 1335.42 Q26.0257 1334.88 25.2386 1334.88 M27.5592 1331.22 L27.5592 1332.28 Q27.1194 1332.07 26.668 1331.96 Q26.2224 1331.85 25.7826 1331.85 Q24.6252 1331.85 24.0118 1332.63 Q23.4042 1333.41 23.3174 1334.99 Q23.6588 1334.49 24.1738 1334.23 Q24.6889 1333.95 25.3081 1333.95 Q26.6102 1333.95 27.3625 1334.75 Q28.1206 1335.53 28.1206 1336.89 Q28.1206 1338.22 27.3335 1339.03 Q26.5465 1339.83 25.2386 1339.83 Q23.7398 1339.83 22.947 1338.69 Q22.1542 1337.54 22.1542 1335.35 Q22.1542 1333.3 23.1264 1332.09 Q24.0986 1330.87 25.7363 1330.87 Q26.1761 1330.87 26.6217 1330.96 Q27.0731 1331.04 27.5592 1331.22 Z\" fill=\"#000000\" fill-rule=\"evenodd\" fill-opacity=\"1\" /><path clip-path=\"url(#clip500)\" d=\"M 0 0 M15.9158 1133.91 Q15.013 1133.91 14.5558 1134.8 Q14.1044 1135.69 14.1044 1137.47 Q14.1044 1139.25 14.5558 1140.14 Q15.013 1141.03 15.9158 1141.03 Q16.8243 1141.03 17.2757 1140.14 Q17.7329 1139.25 17.7329 1137.47 Q17.7329 1135.69 17.2757 1134.8 Q16.8243 1133.91 15.9158 1133.91 M15.9158 1132.99 Q17.3683 1132.99 18.1322 1134.14 Q18.9019 1135.28 18.9019 1137.47 Q18.9019 1139.65 18.1322 1140.81 Q17.3683 1141.95 15.9158 1141.95 Q14.4632 1141.95 13.6936 1140.81 Q12.9297 1139.65 12.9297 1137.47 Q12.9297 1135.28 13.6936 1134.14 Q14.4632 1132.99 15.9158 1132.99 Z\" fill=\"#000000\" fill-rule=\"evenodd\" fill-opacity=\"1\" /><path clip-path=\"url(#clip500)\" d=\"M 0 0 M20.1692 1140.31 L21.3903 1140.31 L21.3903 1141.78 L20.1692 1141.78 L20.1692 1140.31 Z\" fill=\"#000000\" fill-rule=\"evenodd\" fill-opacity=\"1\" /><path clip-path=\"url(#clip500)\" d=\"M 0 0 M25.1576 1137.68 Q24.3243 1137.68 23.844 1138.13 Q23.3694 1138.57 23.3694 1139.35 Q23.3694 1140.13 23.844 1140.58 Q24.3243 1141.03 25.1576 1141.03 Q25.991 1141.03 26.4713 1140.58 Q26.9516 1140.13 26.9516 1139.35 Q26.9516 1138.57 26.4713 1138.13 Q25.9967 1137.68 25.1576 1137.68 M23.9886 1137.18 Q23.2363 1137 22.8139 1136.48 Q22.3972 1135.97 22.3972 1135.23 Q22.3972 1134.19 23.1322 1133.59 Q23.8729 1132.99 25.1576 1132.99 Q26.4481 1132.99 27.1831 1133.59 Q27.918 1134.19 27.918 1135.23 Q27.918 1135.97 27.4956 1136.48 Q27.0789 1137 26.3324 1137.18 Q27.1773 1137.38 27.646 1137.95 Q28.1206 1138.53 28.1206 1139.35 Q28.1206 1140.61 27.3509 1141.28 Q26.587 1141.95 25.1576 1141.95 Q23.7282 1141.95 22.9586 1141.28 Q22.1947 1140.61 22.1947 1139.35 Q22.1947 1138.53 22.6692 1137.95 Q23.1437 1137.38 23.9886 1137.18 M23.5604 1135.34 Q23.5604 1136.01 23.9771 1136.38 Q24.3995 1136.76 25.1576 1136.76 Q25.9099 1136.76 26.3324 1136.38 Q26.7606 1136.01 26.7606 1135.34 Q26.7606 1134.67 26.3324 1134.29 Q25.9099 1133.91 25.1576 1133.91 Q24.3995 1133.91 23.9771 1134.29 Q23.5604 1134.67 23.5604 1135.34 Z\" fill=\"#000000\" fill-rule=\"evenodd\" fill-opacity=\"1\" /><polyline clip-path=\"url(#clip503)\" style=\"stroke:#009af9; stroke-width:1; stroke-opacity:1; fill:none\" points=\"\n",
       "  155.623,1928.89 158.098,1928.89 160.848,1928 163.598,1927.01 166.349,1926.02 169.099,1925.03 171.85,1924.04 174.6,1923.05 177.35,1922.06 180.101,1921.07 \n",
       "  182.851,1920.08 185.601,1919.1 188.352,1918.11 191.102,1918.11 193.852,1917.12 196.603,1916.13 199.353,1915.14 202.103,1914.15 204.854,1913.16 207.604,1912.17 \n",
       "  210.354,1911.18 213.105,1910.19 215.855,1909.2 218.605,1908.21 221.356,1908.21 224.106,1907.22 226.856,1906.23 229.607,1905.24 232.357,1904.25 235.107,1903.27 \n",
       "  237.858,1902.28 240.608,1901.29 243.358,1900.3 246.109,1899.31 248.859,1899.31 251.609,1898.32 254.36,1897.33 257.11,1896.34 259.86,1895.35 262.611,1894.36 \n",
       "  265.361,1893.37 268.111,1892.38 270.862,1891.39 273.612,1890.4 276.362,1890.4 279.113,1889.41 281.863,1888.42 284.613,1887.43 287.364,1886.45 290.114,1885.46 \n",
       "  292.864,1884.47 295.615,1883.48 298.365,1882.49 301.115,1881.5 303.866,1881.5 306.616,1880.51 309.366,1879.52 312.117,1878.53 314.867,1877.54 317.618,1876.55 \n",
       "  320.368,1875.56 323.118,1874.57 325.869,1873.58 328.619,1872.59 331.369,1872.59 334.12,1871.6 336.87,1870.61 339.62,1869.63 342.371,1868.64 345.121,1867.65 \n",
       "  347.871,1866.66 350.622,1865.67 353.372,1864.68 356.122,1863.69 358.873,1863.69 361.623,1862.7 364.373,1861.71 367.124,1860.72 369.874,1859.73 372.624,1858.74 \n",
       "  375.375,1857.75 378.125,1856.76 380.875,1855.77 383.626,1854.78 386.376,1853.79 389.126,1853.79 391.877,1852.81 394.627,1851.82 397.377,1850.83 400.128,1849.84 \n",
       "  402.878,1848.85 405.628,1847.86 408.379,1846.87 411.129,1845.88 413.879,1844.89 416.63,1844.89 419.38,1843.9 422.13,1842.91 424.881,1841.92 427.631,1840.93 \n",
       "  430.381,1839.94 433.132,1838.95 435.882,1837.96 438.632,1836.97 441.383,1835.99 444.133,1835.99 446.883,1835 449.634,1834.01 452.384,1833.02 455.134,1832.03 \n",
       "  457.885,1831.04 460.635,1830.05 463.386,1829.06 466.136,1828.07 468.886,1828.07 471.637,1827.08 474.387,1826.09 477.137,1825.1 479.888,1824.11 482.638,1823.12 \n",
       "  485.388,1822.13 488.139,1821.14 490.889,1820.15 493.639,1820.15 496.39,1819.17 499.14,1818.18 501.89,1817.19 504.641,1816.2 507.391,1815.21 510.141,1814.22 \n",
       "  512.892,1813.23 515.642,1812.24 518.392,1811.25 521.143,1810.26 523.893,1810.26 526.643,1809.27 529.394,1808.28 532.144,1807.29 534.894,1806.3 537.645,1805.31 \n",
       "  540.395,1804.32 543.145,1803.33 545.896,1802.35 548.646,1801.36 551.396,1800.37 554.147,1799.38 556.897,1799.38 559.647,1798.39 562.398,1797.4 565.148,1796.41 \n",
       "  567.898,1795.42 570.649,1794.43 573.399,1793.44 576.149,1793.44 578.9,1792.45 581.65,1791.46 584.4,1790.47 587.151,1789.48 589.901,1788.49 592.651,1787.5 \n",
       "  595.402,1786.51 598.152,1785.53 600.902,1784.54 603.653,1783.55 606.403,1782.56 609.154,1782.56 611.904,1781.57 614.654,1780.58 617.405,1779.59 620.155,1778.6 \n",
       "  622.905,1777.61 625.656,1776.62 628.406,1775.63 631.156,1774.64 633.907,1774.64 636.657,1773.65 639.407,1772.66 642.158,1771.67 644.908,1770.68 647.658,1769.69 \n",
       "  650.409,1768.71 653.159,1767.72 655.909,1766.73 658.66,1765.74 661.41,1765.74 664.16,1764.75 666.911,1763.76 669.661,1762.77 672.411,1761.78 675.162,1760.79 \n",
       "  677.912,1759.8 680.662,1758.81 683.413,1757.82 686.163,1756.83 688.913,1755.84 691.664,1755.84 694.414,1754.85 697.164,1753.86 699.915,1752.88 702.665,1751.89 \n",
       "  705.415,1750.9 708.166,1749.91 710.916,1748.92 713.666,1747.93 716.417,1747.93 719.167,1746.94 721.917,1745.95 724.668,1744.96 727.418,1743.97 730.168,1742.98 \n",
       "  732.919,1741.99 735.669,1741 738.419,1740.01 741.17,1740.01 743.92,1739.02 746.67,1738.03 749.421,1737.04 752.171,1736.06 754.921,1735.07 757.672,1734.08 \n",
       "  760.422,1733.09 763.173,1732.1 765.923,1731.11 768.673,1730.12 771.424,1730.12 774.174,1729.13 776.924,1728.14 779.675,1727.15 782.425,1726.16 785.175,1725.17 \n",
       "  787.926,1724.18 790.676,1723.19 793.426,1723.19 796.177,1722.2 798.927,1721.21 801.677,1720.22 804.428,1719.24 807.178,1718.25 809.928,1717.26 812.679,1716.27 \n",
       "  815.429,1715.28 818.179,1714.29 820.93,1713.3 823.68,1712.31 826.43,1711.32 829.181,1711.32 831.931,1710.33 834.681,1709.34 837.432,1708.35 840.182,1707.36 \n",
       "  842.932,1706.37 845.683,1705.38 848.433,1704.39 851.183,1703.4 853.934,1702.42 856.684,1702.42 859.434,1701.43 862.185,1700.44 864.935,1699.45 867.685,1698.46 \n",
       "  870.436,1697.47 873.186,1696.48 875.936,1696.48 878.687,1695.49 881.437,1694.5 884.187,1693.51 886.938,1692.52 889.688,1691.53 892.438,1690.54 895.189,1689.55 \n",
       "  897.939,1688.56 900.689,1687.57 903.44,1686.58 906.19,1685.6 908.941,1684.61 911.691,1684.61 914.441,1683.62 917.192,1682.63 919.942,1681.64 922.692,1680.65 \n",
       "  925.443,1679.66 928.193,1678.67 930.943,1677.68 933.694,1676.69 936.444,1675.7 939.194,1675.7 941.945,1674.71 944.695,1673.72 947.445,1672.73 950.196,1671.74 \n",
       "  952.946,1670.75 955.696,1669.76 958.447,1668.78 961.197,1667.79 963.947,1667.79 966.698,1666.8 969.448,1665.81 972.198,1664.82 974.949,1663.83 977.699,1662.84 \n",
       "  980.449,1661.85 983.2,1660.86 985.95,1659.87 988.7,1658.88 991.451,1657.89 994.201,1657.89 996.951,1656.9 999.702,1655.91 1002.45,1654.92 1005.2,1653.93 \n",
       "  1007.95,1652.94 1010.7,1651.96 1013.45,1650.97 1016.2,1649.98 1018.95,1648.99 1021.7,1648.99 1024.45,1648 1027.21,1647.01 1029.96,1646.02 1032.71,1645.03 \n",
       "  1035.46,1644.04 1038.21,1643.05 1040.96,1642.06 1043.71,1642.06 1046.46,1641.07 1049.21,1640.08 1051.96,1639.09 1054.71,1638.1 1057.46,1637.11 1060.21,1636.12 \n",
       "  1062.96,1635.14 1065.71,1634.15 1068.46,1633.16 1071.21,1632.17 1073.96,1631.18 1076.71,1631.18 1079.46,1630.19 1082.21,1629.2 1084.96,1628.21 1087.71,1627.22 \n",
       "  1090.46,1626.23 1093.21,1625.24 1095.96,1624.25 1098.71,1623.26 1101.46,1622.27 1104.21,1622.27 1106.96,1621.28 1109.72,1620.29 1112.47,1619.3 1115.22,1618.32 \n",
       "  1117.97,1617.33 1120.72,1616.34 1123.47,1615.35 1126.22,1614.36 1128.97,1614.36 1131.72,1613.37 1134.47,1612.38 1137.22,1611.39 1139.97,1610.4 1142.72,1609.41 \n",
       "  1145.47,1608.42 1148.22,1607.43 1150.97,1606.44 1153.72,1605.45 1156.47,1605.45 1159.22,1604.46 1161.97,1603.47 1164.72,1602.48 1167.47,1601.5 1170.22,1600.51 \n",
       "  1172.97,1599.52 1175.72,1598.53 1178.47,1597.54 1181.22,1596.55 1183.97,1595.56 1186.72,1594.57 1189.48,1594.57 1192.23,1593.58 1194.98,1592.59 1197.73,1591.6 \n",
       "  1200.48,1590.61 1203.23,1589.62 1205.98,1588.63 1208.73,1587.64 1211.48,1587.64 1214.23,1586.65 1216.98,1585.67 1219.73,1584.68 1222.48,1583.69 1225.23,1582.7 \n",
       "  1227.98,1581.71 1230.73,1580.72 1233.48,1579.73 1236.23,1578.74 1238.98,1578.74 1241.73,1577.75 1244.48,1576.76 1247.23,1575.77 1249.98,1574.78 1252.73,1573.79 \n",
       "  1255.48,1572.8 1258.23,1571.81 1260.98,1570.82 1263.73,1569.83 1266.48,1569.83 1269.23,1568.85 1271.99,1567.86 1274.74,1566.87 1277.49,1565.88 1280.24,1564.89 \n",
       "  1282.99,1563.9 1285.74,1562.91 1288.49,1561.92 1291.24,1560.93 1293.99,1559.94 1296.74,1558.95 1299.49,1558.95 1302.24,1557.96 1304.99,1556.97 1307.74,1555.98 \n",
       "  1310.49,1554.99 1313.24,1554 1315.99,1553.01 1318.74,1552.03 1321.49,1552.03 1324.24,1551.04 1326.99,1550.05 1329.74,1549.06 1332.49,1548.07 1335.24,1547.08 \n",
       "  1337.99,1546.09 1340.74,1545.1 1343.49,1544.11 1346.24,1543.12 1348.99,1542.13 1351.75,1542.13 1354.5,1541.14 1357.25,1540.15 1360,1539.16 1362.75,1538.17 \n",
       "  1365.5,1537.18 1368.25,1536.19 1371,1536.19 1373.75,1535.21 1376.5,1534.22 1379.25,1533.23 1382,1532.24 1384.75,1531.25 1387.5,1530.26 1390.25,1529.27 \n",
       "  1393,1528.28 1395.75,1527.29 1398.5,1526.3 1401.25,1525.31 1404,1524.32 1406.75,1524.32 1409.5,1523.33 1412.25,1522.34 1415,1521.35 1417.75,1520.36 \n",
       "  1420.5,1519.37 1423.25,1518.39 1426,1517.4 1428.75,1516.41 1431.51,1515.42 1434.26,1514.43 1437.01,1514.43 1439.76,1513.44 1442.51,1512.45 1445.26,1511.46 \n",
       "  1448.01,1510.47 1450.76,1509.48 1453.51,1508.49 1456.26,1507.5 1459.01,1507.5 1461.76,1506.51 1464.51,1505.52 1467.26,1504.53 1470.01,1503.54 1472.76,1502.55 \n",
       "  1475.51,1501.57 1478.26,1500.58 1481.01,1499.59 1483.76,1498.6 1486.51,1497.61 1489.26,1497.61 1492.01,1496.62 1494.76,1495.63 1497.51,1494.64 1500.26,1493.65 \n",
       "  1503.01,1492.66 1505.76,1491.67 1508.51,1491.67 1511.26,1490.68 1514.02,1489.69 1516.77,1488.7 1519.52,1487.71 1522.27,1486.72 1525.02,1485.73 1527.77,1484.75 \n",
       "  1530.52,1483.76 1533.27,1482.77 1536.02,1481.78 1538.77,1480.79 1541.52,1479.8 1544.27,1479.8 1547.02,1478.81 1549.77,1477.82 1552.52,1476.83 1555.27,1475.84 \n",
       "  1558.02,1474.85 1560.77,1473.86 1563.52,1472.87 1566.27,1471.88 1569.02,1470.89 1571.77,1469.9 1574.52,1469.9 1577.27,1468.91 1580.02,1467.93 1582.77,1466.94 \n",
       "  1585.52,1465.95 1588.27,1464.96 1591.02,1463.97 1593.78,1462.98 1596.53,1462.98 1599.28,1461.99 1602.03,1461 1604.78,1460.01 1607.53,1459.02 1610.28,1458.03 \n",
       "  1613.03,1457.04 1615.78,1456.05 1618.53,1455.06 1621.28,1454.07 1624.03,1453.08 1626.78,1453.08 1629.53,1452.09 1632.28,1451.11 1635.03,1450.12 1637.78,1449.13 \n",
       "  1640.53,1448.14 1643.28,1447.15 1646.03,1447.15 1648.78,1446.16 1651.53,1445.17 1654.28,1444.18 1657.03,1443.19 1659.78,1442.2 1662.53,1441.21 1665.28,1440.22 \n",
       "  1668.03,1439.23 1670.78,1438.24 1673.53,1437.25 1676.29,1437.25 1679.04,1436.26 1681.79,1435.28 1684.54,1434.29 1687.29,1433.3 1690.04,1432.31 1692.79,1431.32 \n",
       "  1695.54,1430.33 1698.29,1429.34 1701.04,1428.35 1703.79,1427.36 1706.54,1427.36 1709.29,1426.37 1712.04,1425.38 1714.79,1424.39 1717.54,1423.4 1720.29,1422.41 \n",
       "  1723.04,1421.42 1725.79,1420.43 1728.54,1419.44 1731.29,1418.46 1734.04,1417.47 1736.79,1416.48 1739.54,1415.49 1742.29,1415.49 1745.04,1414.5 1747.79,1413.51 \n",
       "  1750.54,1412.52 1753.29,1411.53 1756.05,1410.54 1758.8,1409.55 1761.55,1408.56 1764.3,1408.56 1767.05,1407.57 1769.8,1406.58 1772.55,1405.59 1775.3,1404.6 \n",
       "  1778.05,1403.61 1780.8,1402.62 1783.55,1401.64 1786.3,1400.65 1789.05,1399.66 1791.8,1399.66 1794.55,1398.67 1797.3,1397.68 1800.05,1396.69 1802.8,1395.7 \n",
       "  1805.55,1394.71 1808.3,1393.72 1811.05,1393.72 1813.8,1392.73 1816.55,1391.74 1819.3,1390.75 1822.05,1389.76 1824.8,1388.77 1827.55,1387.78 1830.3,1386.79 \n",
       "  1833.05,1385.8 1835.8,1385.8 1838.56,1384.82 1841.31,1383.83 1844.06,1382.84 1846.81,1381.85 1849.56,1380.86 1852.31,1379.87 1855.06,1378.88 1857.81,1377.89 \n",
       "  1860.56,1376.9 1863.31,1375.91 1866.06,1374.92 1868.81,1373.93 1871.56,1372.94 1874.31,1371.95 1877.06,1371.95 1879.81,1370.96 1882.56,1369.97 1885.31,1368.98 \n",
       "  1888.06,1368 1890.81,1367.01 1893.56,1366.02 1896.31,1365.03 1899.06,1364.04 1901.81,1364.04 1904.56,1363.05 1907.31,1362.06 1910.06,1361.07 1912.81,1360.08 \n",
       "  1915.56,1359.09 1918.32,1358.1 1921.07,1357.11 1923.82,1357.11 1926.57,1356.12 1929.32,1355.13 1932.07,1354.14 1934.82,1353.15 1937.57,1352.16 1940.32,1351.18 \n",
       "  1943.07,1350.19 1945.82,1349.2 1948.57,1348.21 1951.32,1347.22 1954.07,1346.23 1956.82,1346.23 1959.57,1345.24 1962.32,1344.25 1965.07,1343.26 1967.82,1342.27 \n",
       "  1970.57,1341.28 1973.32,1340.29 1976.07,1339.3 1978.82,1338.31 1981.57,1337.32 1984.32,1337.32 1987.07,1336.33 1989.82,1335.34 1992.57,1334.36 1995.32,1333.37 \n",
       "  1998.07,1332.38 2000.83,1331.39 2003.58,1330.4 2006.33,1330.4 2009.08,1329.41 2011.83,1328.42 2014.58,1327.43 2017.33,1326.44 2020.08,1325.45 2022.83,1324.46 \n",
       "  2025.58,1323.47 2028.33,1322.48 2031.08,1322.48 2033.83,1321.49 2036.58,1320.5 2039.33,1319.51 2042.08,1318.52 2044.83,1317.54 2047.58,1316.55 2050.33,1315.56 \n",
       "  2053.08,1314.57 2055.83,1313.58 2058.58,1312.59 2061.33,1311.6 2064.08,1310.61 2066.83,1309.62 2069.58,1309.62 2072.33,1308.63 2075.08,1307.64 2077.83,1306.65 \n",
       "  2080.59,1305.66 2083.34,1304.67 2086.09,1303.68 2088.84,1302.69 2091.59,1301.7 2094.34,1301.7 2097.09,1300.72 2099.84,1299.73 2102.59,1298.74 2105.34,1297.75 \n",
       "  2108.09,1296.76 2110.84,1295.77 2113.59,1294.78 2116.34,1293.79 2119.09,1293.79 2121.84,1292.8 2124.59,1291.81 2127.34,1290.82 2130.09,1289.83 2132.84,1288.84 \n",
       "  2135.59,1287.85 2138.34,1286.86 2141.09,1285.87 2143.84,1284.88 2146.59,1283.9 2149.34,1283.9 2152.09,1282.91 2154.84,1281.92 2157.59,1280.93 2160.35,1279.94 \n",
       "  2163.1,1278.95 2165.85,1277.96 2168.6,1276.97 2171.35,1275.98 2174.1,1274.99 2176.85,1274.99 2179.6,1274 2182.35,1273.01 2185.1,1272.02 2187.85,1271.03 \n",
       "  2190.6,1270.04 2193.35,1269.05 2196.1,1268.07 2198.85,1268.07 2201.6,1267.08 2204.35,1266.09 2207.1,1265.1 2209.85,1264.11 2212.6,1263.12 2215.35,1262.13 \n",
       "  2218.1,1261.14 2220.85,1260.15 2223.6,1259.16 2226.35,1258.17 2229.1,1258.17 2231.85,1257.18 2234.6,1256.19 2237.35,1255.2 2240.1,1254.21 2242.86,1253.22 \n",
       "  2245.61,1252.23 2248.36,1251.25 2251.11,1250.26 2253.86,1249.27 2256.61,1248.28 2259.36,1247.29 2262.11,1247.29 2264.86,1246.3 2267.61,1245.31 2270.36,1244.32 \n",
       "  2273.11,1243.33 2275.86,1242.34 2278.61,1241.35 2281.36,1240.36 2284.11,1240.36 2286.86,1239.37 2289.61,1238.38 2292.36,1237.39 2295.11,1236.4 2297.86,1235.41 \n",
       "  2300.61,1234.43 2303.36,1233.44 2306.11,1232.45 2308.86,1231.46 2311.61,1230.47 2314.36,1229.48 2317.11,1228.49 2319.86,1228.49 2322.62,1227.5 2325.37,1226.51 \n",
       "  2328.12,1225.52 2330.87,1224.53 2333.62,1223.54 2336.37,1222.55 2339.12,1222.55 2341.87,1221.56 2344.62,1220.57 2347.37,1219.58 2350.12,1218.59 2352.87,1217.61 \n",
       "  2355.62,1216.62 2358.37,1215.63 2361.12,1214.64 2363.87,1213.65 2366.62,1212.66 2369.37,1212.66 2372.12,1211.67 2374.87,1210.68 2377.62,1209.69 2380.37,1208.7 \n",
       "  2383.12,1207.71 2385.87,1206.72 2388.62,1205.73 2391.37,1204.74 2394.12,1204.74 2396.87,1203.75 2399.62,1202.76 2402.37,1201.77 2405.13,1200.79 2407.88,1199.8 \n",
       "  2410.63,1198.81 2413.38,1197.82 2416.13,1196.83 2418.88,1195.84 2421.63,1195.84 2424.38,1194.85 2427.13,1193.86 2429.88,1192.87 2432.63,1191.88 2435.38,1190.89 \n",
       "  2438.13,1189.9 2440.88,1188.91 2443.63,1188.91 2446.38,1187.92 2449.13,1186.93 2451.88,1185.94 2454.63,1184.95 2457.38,1183.97 2460.13,1182.98 2462.88,1181.99 \n",
       "  2465.63,1181 2468.38,1180.01 2471.13,1180.01 2473.88,1179.02 2476.63,1178.03 2479.38,1177.04 2482.13,1176.05 2484.89,1175.06 2487.64,1174.07 2490.39,1173.08 \n",
       "  2493.14,1172.09 2495.89,1171.1 2498.64,1170.11 2501.39,1169.12 2504.14,1169.12 2506.89,1168.13 2509.64,1167.15 2512.39,1166.16 2515.14,1165.17 2517.89,1164.18 \n",
       "  2520.64,1163.19 2523.39,1162.2 2526.14,1161.21 2528.89,1160.22 2531.64,1159.23 2534.39,1159.23 2537.14,1158.24 2539.89,1157.25 2542.64,1156.26 2545.39,1155.27 \n",
       "  2548.14,1154.28 2550.89,1153.29 2553.64,1152.3 2556.39,1151.31 2559.14,1150.33 2561.89,1149.34 2564.64,1148.35 2567.4,1148.35 2570.15,1147.36 2572.9,1146.37 \n",
       "  2575.65,1145.38 2578.4,1144.39 2581.15,1143.4 2583.9,1142.41 2586.65,1142.41 2589.4,1141.42 2592.15,1140.43 2594.9,1139.44 2597.65,1138.45 2600.4,1137.46 \n",
       "  2603.15,1136.47 2605.9,1135.48 2608.65,1134.49 2611.4,1133.51 2614.15,1132.52 2616.9,1132.52 2619.65,1131.53 2622.4,1130.54 2625.15,1129.55 2627.9,1128.56 \n",
       "  2630.65,1127.57 2633.4,1126.58 2636.15,1125.59 2638.9,1124.6 2641.65,1124.6 2644.4,1123.61 2647.16,1122.62 2649.91,1121.63 2652.66,1120.64 2655.41,1119.65 \n",
       "  2658.16,1118.66 2660.91,1117.68 2663.66,1116.69 2666.41,1115.7 2669.16,1115.7 2671.91,1114.71 2674.66,1113.72 2677.41,1112.73 2680.16,1111.74 2682.91,1110.75 \n",
       "  2685.66,1109.76 2688.41,1108.77 2691.16,1107.78 2693.91,1107.78 2696.66,1106.79 2699.41,1105.8 2702.16,1104.81 2704.91,1103.82 2707.66,1102.83 2710.41,1101.84 \n",
       "  2713.16,1100.86 2715.91,1099.87 2718.66,1099.87 2721.41,1098.88 2724.16,1097.89 2726.91,1096.9 2729.67,1095.91 2732.42,1094.92 2735.17,1093.93 2737.92,1092.94 \n",
       "  2740.67,1091.95 2743.42,1090.96 2746.17,1089.97 2748.92,1088.98 2751.67,1087.99 2754.42,1087 2757.17,1087 2759.92,1086.01 2762.67,1085.02 2765.42,1084.04 \n",
       "  2768.17,1083.05 2770.92,1082.06 2773.67,1081.07 2776.42,1080.08 2779.17,1079.09 2781.92,1079.09 2784.67,1078.1 2787.42,1077.11 2790.17,1076.12 2792.92,1075.13 \n",
       "  2795.67,1074.14 2798.42,1073.15 2801.17,1072.16 2803.92,1071.17 2806.67,1070.18 2809.43,1070.18 2812.18,1069.19 2814.93,1068.2 2817.68,1067.22 2820.43,1066.23 \n",
       "  2823.18,1065.24 2825.93,1064.25 2828.68,1063.26 2831.43,1062.27 2834.18,1061.28 2836.93,1060.29 2839.68,1059.3 2842.43,1059.3 2845.18,1058.31 2847.93,1057.32 \n",
       "  2850.68,1056.33 2853.43,1055.34 2856.18,1054.35 2858.93,1053.36 2861.68,1053.36 2864.43,1052.37 2867.18,1051.38 2869.93,1050.4 2872.68,1049.41 2875.43,1048.42 \n",
       "  2878.18,1047.43 2880.93,1046.44 2883.68,1045.45 2886.43,1044.46 2889.19,1043.47 2891.94,1042.48 2894.69,1042.48 2897.44,1041.49 2900.19,1040.5 2902.94,1039.51 \n",
       "  2905.69,1038.52 \n",
       "  \"/>\n",
       "<polyline clip-path=\"url(#clip503)\" style=\"stroke:#e26f46; stroke-width:1; stroke-opacity:1; fill:none\" points=\"\n",
       "  155.623,1928.9 158.098,1928.1 160.848,1927.21 163.598,1926.32 166.349,1925.43 169.099,1924.54 171.85,1923.65 174.6,1922.76 177.35,1921.87 180.101,1920.98 \n",
       "  182.851,1920.08 185.601,1919.19 188.352,1918.3 191.102,1917.41 193.852,1916.52 196.603,1915.63 199.353,1914.74 202.103,1913.85 204.854,1912.96 207.604,1912.07 \n",
       "  210.354,1911.18 213.105,1910.29 215.855,1909.4 218.605,1908.51 221.356,1907.62 224.106,1906.73 226.856,1905.84 229.607,1904.95 232.357,1904.06 235.107,1903.17 \n",
       "  237.858,1902.28 240.608,1901.39 243.358,1900.49 246.109,1899.6 248.859,1898.71 251.609,1897.82 254.36,1896.93 257.11,1896.04 259.86,1895.15 262.611,1894.26 \n",
       "  265.361,1893.37 268.111,1892.48 270.862,1891.59 273.612,1890.7 276.362,1889.81 279.113,1888.92 281.863,1888.03 284.613,1887.14 287.364,1886.25 290.114,1885.36 \n",
       "  292.864,1884.47 295.615,1883.58 298.365,1882.69 301.115,1881.79 303.866,1880.9 306.616,1880.01 309.366,1879.12 312.117,1878.23 314.867,1877.34 317.618,1876.45 \n",
       "  320.368,1875.56 323.118,1874.67 325.869,1873.78 328.619,1872.89 331.369,1872 334.12,1871.11 336.87,1870.22 339.62,1869.33 342.371,1868.44 345.121,1867.55 \n",
       "  347.871,1866.66 350.622,1865.77 353.372,1864.88 356.122,1863.99 358.873,1863.1 361.623,1862.2 364.373,1861.31 367.124,1860.42 369.874,1859.53 372.624,1858.64 \n",
       "  375.375,1857.75 378.125,1856.86 380.875,1855.97 383.626,1855.08 386.376,1854.19 389.126,1853.3 391.877,1852.41 394.627,1851.52 397.377,1850.63 400.128,1849.74 \n",
       "  402.878,1848.85 405.628,1847.96 408.379,1847.07 411.129,1846.18 413.879,1845.29 416.63,1844.4 419.38,1843.5 422.13,1842.61 424.881,1841.72 427.631,1840.83 \n",
       "  430.381,1839.94 433.132,1839.05 435.882,1838.16 438.632,1837.27 441.383,1836.38 444.133,1835.49 446.883,1834.6 449.634,1833.71 452.384,1832.82 455.134,1831.93 \n",
       "  457.885,1831.04 460.635,1830.15 463.386,1829.26 466.136,1828.37 468.886,1827.48 471.637,1826.59 474.387,1825.7 477.137,1824.8 479.888,1823.91 482.638,1823.02 \n",
       "  485.388,1822.13 488.139,1821.24 490.889,1820.35 493.639,1819.46 496.39,1818.57 499.14,1817.68 501.89,1816.79 504.641,1815.9 507.391,1815.01 510.141,1814.12 \n",
       "  512.892,1813.23 515.642,1812.34 518.392,1811.45 521.143,1810.56 523.893,1809.67 526.643,1808.78 529.394,1807.89 532.144,1807 534.894,1806.11 537.645,1805.21 \n",
       "  540.395,1804.32 543.145,1803.43 545.896,1802.54 548.646,1801.65 551.396,1800.76 554.147,1799.87 556.897,1798.98 559.647,1798.09 562.398,1797.2 565.148,1796.31 \n",
       "  567.898,1795.42 570.649,1794.53 573.399,1793.64 576.149,1792.75 578.9,1791.86 581.65,1790.97 584.4,1790.08 587.151,1789.19 589.901,1788.3 592.651,1787.41 \n",
       "  595.402,1786.51 598.152,1785.62 600.902,1784.73 603.653,1783.84 606.403,1782.95 609.154,1782.06 611.904,1781.17 614.654,1780.28 617.405,1779.39 620.155,1778.5 \n",
       "  622.905,1777.61 625.656,1776.72 628.406,1775.83 631.156,1774.94 633.907,1774.05 636.657,1773.16 639.407,1772.27 642.158,1771.38 644.908,1770.49 647.658,1769.6 \n",
       "  650.409,1768.71 653.159,1767.82 655.909,1766.92 658.66,1766.03 661.41,1765.14 664.16,1764.25 666.911,1763.36 669.661,1762.47 672.411,1761.58 675.162,1760.69 \n",
       "  677.912,1759.8 680.662,1758.91 683.413,1758.02 686.163,1757.13 688.913,1756.24 691.664,1755.35 694.414,1754.46 697.164,1753.57 699.915,1752.68 702.665,1751.79 \n",
       "  705.415,1750.9 708.166,1750.01 710.916,1749.12 713.666,1748.22 716.417,1747.33 719.167,1746.44 721.917,1745.55 724.668,1744.66 727.418,1743.77 730.168,1742.88 \n",
       "  732.919,1741.99 735.669,1741.1 738.419,1740.21 741.17,1739.32 743.92,1738.43 746.67,1737.54 749.421,1736.65 752.171,1735.76 754.921,1734.87 757.672,1733.98 \n",
       "  760.422,1733.09 763.173,1732.2 765.923,1731.31 768.673,1730.42 771.424,1729.52 774.174,1728.63 776.924,1727.74 779.675,1726.85 782.425,1725.96 785.175,1725.07 \n",
       "  787.926,1724.18 790.676,1723.29 793.426,1722.4 796.177,1721.51 798.927,1720.62 801.677,1719.73 804.428,1718.84 807.178,1717.95 809.928,1717.06 812.679,1716.17 \n",
       "  815.429,1715.28 818.179,1714.39 820.93,1713.5 823.68,1712.61 826.43,1711.72 829.181,1710.83 831.931,1709.93 834.681,1709.04 837.432,1708.15 840.182,1707.26 \n",
       "  842.932,1706.37 845.683,1705.48 848.433,1704.59 851.183,1703.7 853.934,1702.81 856.684,1701.92 859.434,1701.03 862.185,1700.14 864.935,1699.25 867.685,1698.36 \n",
       "  870.436,1697.47 873.186,1696.58 875.936,1695.69 878.687,1694.8 881.437,1693.91 884.187,1693.02 886.938,1692.13 889.688,1691.23 892.438,1690.34 895.189,1689.45 \n",
       "  897.939,1688.56 900.689,1687.67 903.44,1686.78 906.19,1685.89 908.941,1685 911.691,1684.11 914.441,1683.22 917.192,1682.33 919.942,1681.44 922.692,1680.55 \n",
       "  925.443,1679.66 928.193,1678.77 930.943,1677.88 933.694,1676.99 936.444,1676.1 939.194,1675.21 941.945,1674.32 944.695,1673.43 947.445,1672.54 950.196,1671.64 \n",
       "  952.946,1670.75 955.696,1669.86 958.447,1668.97 961.197,1668.08 963.947,1667.19 966.698,1666.3 969.448,1665.41 972.198,1664.52 974.949,1663.63 977.699,1662.74 \n",
       "  980.449,1661.85 983.2,1660.96 985.95,1660.07 988.7,1659.18 991.451,1658.29 994.201,1657.4 996.951,1656.51 999.702,1655.62 1002.45,1654.73 1005.2,1653.84 \n",
       "  1007.95,1652.94 1010.7,1652.05 1013.45,1651.16 1016.2,1650.27 1018.95,1649.38 1021.7,1648.49 1024.45,1647.6 1027.21,1646.71 1029.96,1645.82 1032.71,1644.93 \n",
       "  1035.46,1644.04 1038.21,1643.15 1040.96,1642.26 1043.71,1641.37 1046.46,1640.48 1049.21,1639.59 1051.96,1638.7 1054.71,1637.81 1057.46,1636.92 1060.21,1636.03 \n",
       "  1062.96,1635.14 1065.71,1634.24 1068.46,1633.35 1071.21,1632.46 1073.96,1631.57 1076.71,1630.68 1079.46,1629.79 1082.21,1628.9 1084.96,1628.01 1087.71,1627.12 \n",
       "  1090.46,1626.23 1093.21,1625.34 1095.96,1624.45 1098.71,1623.56 1101.46,1622.67 1104.21,1621.78 1106.96,1620.89 1109.72,1620 1112.47,1619.11 1115.22,1618.22 \n",
       "  1117.97,1617.33 1120.72,1616.44 1123.47,1615.55 1126.22,1614.65 1128.97,1613.76 1131.72,1612.87 1134.47,1611.98 1137.22,1611.09 1139.97,1610.2 1142.72,1609.31 \n",
       "  1145.47,1608.42 1148.22,1607.53 1150.97,1606.64 1153.72,1605.75 1156.47,1604.86 1159.22,1603.97 1161.97,1603.08 1164.72,1602.19 1167.47,1601.3 1170.22,1600.41 \n",
       "  1172.97,1599.52 1175.72,1598.63 1178.47,1597.74 1181.22,1596.85 1183.97,1595.95 1186.72,1595.06 1189.48,1594.17 1192.23,1593.28 1194.98,1592.39 1197.73,1591.5 \n",
       "  1200.48,1590.61 1203.23,1589.72 1205.98,1588.83 1208.73,1587.94 1211.48,1587.05 1214.23,1586.16 1216.98,1585.27 1219.73,1584.38 1222.48,1583.49 1225.23,1582.6 \n",
       "  1227.98,1581.71 1230.73,1580.82 1233.48,1579.93 1236.23,1579.04 1238.98,1578.15 1241.73,1577.26 1244.48,1576.36 1247.23,1575.47 1249.98,1574.58 1252.73,1573.69 \n",
       "  1255.48,1572.8 1258.23,1571.91 1260.98,1571.02 1263.73,1570.13 1266.48,1569.24 1269.23,1568.35 1271.99,1567.46 1274.74,1566.57 1277.49,1565.68 1280.24,1564.79 \n",
       "  1282.99,1563.9 1285.74,1563.01 1288.49,1562.12 1291.24,1561.23 1293.99,1560.34 1296.74,1559.45 1299.49,1558.56 1302.24,1557.66 1304.99,1556.77 1307.74,1555.88 \n",
       "  1310.49,1554.99 1313.24,1554.1 1315.99,1553.21 1318.74,1552.32 1321.49,1551.43 1324.24,1550.54 1326.99,1549.65 1329.74,1548.76 1332.49,1547.87 1335.24,1546.98 \n",
       "  1337.99,1546.09 1340.74,1545.2 1343.49,1544.31 1346.24,1543.42 1348.99,1542.53 1351.75,1541.64 1354.5,1540.75 1357.25,1539.86 1360,1538.96 1362.75,1538.07 \n",
       "  1365.5,1537.18 1368.25,1536.29 1371,1535.4 1373.75,1534.51 1376.5,1533.62 1379.25,1532.73 1382,1531.84 1384.75,1530.95 1387.5,1530.06 1390.25,1529.17 \n",
       "  1393,1528.28 1395.75,1527.39 1398.5,1526.5 1401.25,1525.61 1404,1524.72 1406.75,1523.83 1409.5,1522.94 1412.25,1522.05 1415,1521.16 1417.75,1520.27 \n",
       "  1420.5,1519.37 1423.25,1518.48 1426,1517.59 1428.75,1516.7 1431.51,1515.81 1434.26,1514.92 1437.01,1514.03 1439.76,1513.14 1442.51,1512.25 1445.26,1511.36 \n",
       "  1448.01,1510.47 1450.76,1509.58 1453.51,1508.69 1456.26,1507.8 1459.01,1506.91 1461.76,1506.02 1464.51,1505.13 1467.26,1504.24 1470.01,1503.35 1472.76,1502.46 \n",
       "  1475.51,1501.57 1478.26,1500.67 1481.01,1499.78 1483.76,1498.89 1486.51,1498 1489.26,1497.11 1492.01,1496.22 1494.76,1495.33 1497.51,1494.44 1500.26,1493.55 \n",
       "  1503.01,1492.66 1505.76,1491.77 1508.51,1490.88 1511.26,1489.99 1514.02,1489.1 1516.77,1488.21 1519.52,1487.32 1522.27,1486.43 1525.02,1485.54 1527.77,1484.65 \n",
       "  1530.52,1483.76 1533.27,1482.87 1536.02,1481.98 1538.77,1481.08 1541.52,1480.19 1544.27,1479.3 1547.02,1478.41 1549.77,1477.52 1552.52,1476.63 1555.27,1475.74 \n",
       "  1558.02,1474.85 1560.77,1473.96 1563.52,1473.07 1566.27,1472.18 1569.02,1471.29 1571.77,1470.4 1574.52,1469.51 1577.27,1468.62 1580.02,1467.73 1582.77,1466.84 \n",
       "  1585.52,1465.95 1588.27,1465.06 1591.02,1464.17 1593.78,1463.28 1596.53,1462.38 1599.28,1461.49 1602.03,1460.6 1604.78,1459.71 1607.53,1458.82 1610.28,1457.93 \n",
       "  1613.03,1457.04 1615.78,1456.15 1618.53,1455.26 1621.28,1454.37 1624.03,1453.48 1626.78,1452.59 1629.53,1451.7 1632.28,1450.81 1635.03,1449.92 1637.78,1449.03 \n",
       "  1640.53,1448.14 1643.28,1447.25 1646.03,1446.36 1648.78,1445.47 1651.53,1444.58 1654.28,1443.68 1657.03,1442.79 1659.78,1441.9 1662.53,1441.01 1665.28,1440.12 \n",
       "  1668.03,1439.23 1670.78,1438.34 1673.53,1437.45 1676.29,1436.56 1679.04,1435.67 1681.79,1434.78 1684.54,1433.89 1687.29,1433 1690.04,1432.11 1692.79,1431.22 \n",
       "  1695.54,1430.33 1698.29,1429.44 1701.04,1428.55 1703.79,1427.66 1706.54,1426.77 1709.29,1425.88 1712.04,1424.99 1714.79,1424.09 1717.54,1423.2 1720.29,1422.31 \n",
       "  1723.04,1421.42 1725.79,1420.53 1728.54,1419.64 1731.29,1418.75 1734.04,1417.86 1736.79,1416.97 1739.54,1416.08 1742.29,1415.19 1745.04,1414.3 1747.79,1413.41 \n",
       "  1750.54,1412.52 1753.29,1411.63 1756.05,1410.74 1758.8,1409.85 1761.55,1408.96 1764.3,1408.07 1767.05,1407.18 1769.8,1406.29 1772.55,1405.39 1775.3,1404.5 \n",
       "  1778.05,1403.61 1780.8,1402.72 1783.55,1401.83 1786.3,1400.94 1789.05,1400.05 1791.8,1399.16 1794.55,1398.27 1797.3,1397.38 1800.05,1396.49 1802.8,1395.6 \n",
       "  1805.55,1394.71 1808.3,1393.82 1811.05,1392.93 1813.8,1392.04 1816.55,1391.15 1819.3,1390.26 1822.05,1389.37 1824.8,1388.48 1827.55,1387.59 1830.3,1386.7 \n",
       "  1833.05,1385.8 1835.8,1384.91 1838.56,1384.02 1841.31,1383.13 1844.06,1382.24 1846.81,1381.35 1849.56,1380.46 1852.31,1379.57 1855.06,1378.68 1857.81,1377.79 \n",
       "  1860.56,1376.9 1863.31,1376.01 1866.06,1375.12 1868.81,1374.23 1871.56,1373.34 1874.31,1372.45 1877.06,1371.56 1879.81,1370.67 1882.56,1369.78 1885.31,1368.89 \n",
       "  1888.06,1368 1890.81,1367.1 1893.56,1366.21 1896.31,1365.32 1899.06,1364.43 1901.81,1363.54 1904.56,1362.65 1907.31,1361.76 1910.06,1360.87 1912.81,1359.98 \n",
       "  1915.56,1359.09 1918.32,1358.2 1921.07,1357.31 1923.82,1356.42 1926.57,1355.53 1929.32,1354.64 1932.07,1353.75 1934.82,1352.86 1937.57,1351.97 1940.32,1351.08 \n",
       "  1943.07,1350.19 1945.82,1349.3 1948.57,1348.4 1951.32,1347.51 1954.07,1346.62 1956.82,1345.73 1959.57,1344.84 1962.32,1343.95 1965.07,1343.06 1967.82,1342.17 \n",
       "  1970.57,1341.28 1973.32,1340.39 1976.07,1339.5 1978.82,1338.61 1981.57,1337.72 1984.32,1336.83 1987.07,1335.94 1989.82,1335.05 1992.57,1334.16 1995.32,1333.27 \n",
       "  1998.07,1332.38 2000.83,1331.49 2003.58,1330.6 2006.33,1329.71 2009.08,1328.81 2011.83,1327.92 2014.58,1327.03 2017.33,1326.14 2020.08,1325.25 2022.83,1324.36 \n",
       "  2025.58,1323.47 2028.33,1322.58 2031.08,1321.69 2033.83,1320.8 2036.58,1319.91 2039.33,1319.02 2042.08,1318.13 2044.83,1317.24 2047.58,1316.35 2050.33,1315.46 \n",
       "  2053.08,1314.57 2055.83,1313.68 2058.58,1312.79 2061.33,1311.9 2064.08,1311.01 2066.83,1310.11 2069.58,1309.22 2072.33,1308.33 2075.08,1307.44 2077.83,1306.55 \n",
       "  2080.59,1305.66 2083.34,1304.77 2086.09,1303.88 2088.84,1302.99 2091.59,1302.1 2094.34,1301.21 2097.09,1300.32 2099.84,1299.43 2102.59,1298.54 2105.34,1297.65 \n",
       "  2108.09,1296.76 2110.84,1295.87 2113.59,1294.98 2116.34,1294.09 2119.09,1293.2 2121.84,1292.31 2124.59,1291.42 2127.34,1290.52 2130.09,1289.63 2132.84,1288.74 \n",
       "  2135.59,1287.85 2138.34,1286.96 2141.09,1286.07 2143.84,1285.18 2146.59,1284.29 2149.34,1283.4 2152.09,1282.51 2154.84,1281.62 2157.59,1280.73 2160.35,1279.84 \n",
       "  2163.1,1278.95 2165.85,1278.06 2168.6,1277.17 2171.35,1276.28 2174.1,1275.39 2176.85,1274.5 2179.6,1273.61 2182.35,1272.72 2185.1,1271.82 2187.85,1270.93 \n",
       "  2190.6,1270.04 2193.35,1269.15 2196.1,1268.26 2198.85,1267.37 2201.6,1266.48 2204.35,1265.59 2207.1,1264.7 2209.85,1263.81 2212.6,1262.92 2215.35,1262.03 \n",
       "  2218.1,1261.14 2220.85,1260.25 2223.6,1259.36 2226.35,1258.47 2229.1,1257.58 2231.85,1256.69 2234.6,1255.8 2237.35,1254.91 2240.1,1254.02 2242.86,1253.12 \n",
       "  2245.61,1252.23 2248.36,1251.34 2251.11,1250.45 2253.86,1249.56 2256.61,1248.67 2259.36,1247.78 2262.11,1246.89 2264.86,1246 2267.61,1245.11 2270.36,1244.22 \n",
       "  2273.11,1243.33 2275.86,1242.44 2278.61,1241.55 2281.36,1240.66 2284.11,1239.77 2286.86,1238.88 2289.61,1237.99 2292.36,1237.1 2295.11,1236.21 2297.86,1235.32 \n",
       "  2300.61,1234.43 2303.36,1233.53 2306.11,1232.64 2308.86,1231.75 2311.61,1230.86 2314.36,1229.97 2317.11,1229.08 2319.86,1228.19 2322.62,1227.3 2325.37,1226.41 \n",
       "  2328.12,1225.52 2330.87,1224.63 2333.62,1223.74 2336.37,1222.85 2339.12,1221.96 2341.87,1221.07 2344.62,1220.18 2347.37,1219.29 2350.12,1218.4 2352.87,1217.51 \n",
       "  2355.62,1216.62 2358.37,1215.73 2361.12,1214.83 2363.87,1213.94 2366.62,1213.05 2369.37,1212.16 2372.12,1211.27 2374.87,1210.38 2377.62,1209.49 2380.37,1208.6 \n",
       "  2383.12,1207.71 2385.87,1206.82 2388.62,1205.93 2391.37,1205.04 2394.12,1204.15 2396.87,1203.26 2399.62,1202.37 2402.37,1201.48 2405.13,1200.59 2407.88,1199.7 \n",
       "  2410.63,1198.81 2413.38,1197.92 2416.13,1197.03 2418.88,1196.14 2421.63,1195.24 2424.38,1194.35 2427.13,1193.46 2429.88,1192.57 2432.63,1191.68 2435.38,1190.79 \n",
       "  2438.13,1189.9 2440.88,1189.01 2443.63,1188.12 2446.38,1187.23 2449.13,1186.34 2451.88,1185.45 2454.63,1184.56 2457.38,1183.67 2460.13,1182.78 2462.88,1181.89 \n",
       "  2465.63,1181 2468.38,1180.11 2471.13,1179.22 2473.88,1178.33 2476.63,1177.44 2479.38,1176.54 2482.13,1175.65 2484.89,1174.76 2487.64,1173.87 2490.39,1172.98 \n",
       "  2493.14,1172.09 2495.89,1171.2 2498.64,1170.31 2501.39,1169.42 2504.14,1168.53 2506.89,1167.64 2509.64,1166.75 2512.39,1165.86 2515.14,1164.97 2517.89,1164.08 \n",
       "  2520.64,1163.19 2523.39,1162.3 2526.14,1161.41 2528.89,1160.52 2531.64,1159.63 2534.39,1158.74 2537.14,1157.84 2539.89,1156.95 2542.64,1156.06 2545.39,1155.17 \n",
       "  2548.14,1154.28 2550.89,1153.39 2553.64,1152.5 2556.39,1151.61 2559.14,1150.72 2561.89,1149.83 2564.64,1148.94 2567.4,1148.05 2570.15,1147.16 2572.9,1146.27 \n",
       "  2575.65,1145.38 2578.4,1144.49 2581.15,1143.6 2583.9,1142.71 2586.65,1141.82 2589.4,1140.93 2592.15,1140.04 2594.9,1139.15 2597.65,1138.25 2600.4,1137.36 \n",
       "  2603.15,1136.47 2605.9,1135.58 2608.65,1134.69 2611.4,1133.8 2614.15,1132.91 2616.9,1132.02 2619.65,1131.13 2622.4,1130.24 2625.15,1129.35 2627.9,1128.46 \n",
       "  2630.65,1127.57 2633.4,1126.68 2636.15,1125.79 2638.9,1124.9 2641.65,1124.01 2644.4,1123.12 2647.16,1122.23 2649.91,1121.34 2652.66,1120.45 2655.41,1119.55 \n",
       "  2658.16,1118.66 2660.91,1117.77 2663.66,1116.88 2666.41,1115.99 2669.16,1115.1 2671.91,1114.21 2674.66,1113.32 2677.41,1112.43 2680.16,1111.54 2682.91,1110.65 \n",
       "  2685.66,1109.76 2688.41,1108.87 2691.16,1107.98 2693.91,1107.09 2696.66,1106.2 2699.41,1105.31 2702.16,1104.42 2704.91,1103.53 2707.66,1102.64 2710.41,1101.75 \n",
       "  2713.16,1100.86 2715.91,1099.96 2718.66,1099.07 2721.41,1098.18 2724.16,1097.29 2726.91,1096.4 2729.67,1095.51 2732.42,1094.62 2735.17,1093.73 2737.92,1092.84 \n",
       "  2740.67,1091.95 2743.42,1091.06 2746.17,1090.17 2748.92,1089.28 2751.67,1088.39 2754.42,1087.5 2757.17,1086.61 2759.92,1085.72 2762.67,1084.83 2765.42,1083.94 \n",
       "  2768.17,1083.05 2770.92,1082.16 2773.67,1081.26 2776.42,1080.37 2779.17,1079.48 2781.92,1078.59 2784.67,1077.7 2787.42,1076.81 2790.17,1075.92 2792.92,1075.03 \n",
       "  2795.67,1074.14 2798.42,1073.25 2801.17,1072.36 2803.92,1071.47 2806.67,1070.58 2809.43,1069.69 2812.18,1068.8 2814.93,1067.91 2817.68,1067.02 2820.43,1066.13 \n",
       "  2823.18,1065.24 2825.93,1064.35 2828.68,1063.46 2831.43,1062.56 2834.18,1061.67 2836.93,1060.78 2839.68,1059.89 2842.43,1059 2845.18,1058.11 2847.93,1057.22 \n",
       "  2850.68,1056.33 2853.43,1055.44 2856.18,1054.55 2858.93,1053.66 2861.68,1052.77 2864.43,1051.88 2867.18,1050.99 2869.93,1050.1 2872.68,1049.21 2875.43,1048.32 \n",
       "  2878.18,1047.43 2880.93,1046.54 2883.68,1045.65 2886.43,1044.76 2889.19,1043.87 2891.94,1042.97 2894.69,1042.08 2897.44,1041.19 2900.19,1040.3 2902.94,1039.41 \n",
       "  2905.69,1038.52 \n",
       "  \"/>\n",
       "<path clip-path=\"url(#clip500)\" d=\"\n",
       "M2554.37 1088.63 L2891.02 1088.63 L2891.02 1043.27 L2554.37 1043.27  Z\n",
       "  \" fill=\"#ffffff\" fill-rule=\"evenodd\" fill-opacity=\"1\"/>\n",
       "<polyline clip-path=\"url(#clip500)\" style=\"stroke:#000000; stroke-width:1; stroke-opacity:1; fill:none\" points=\"\n",
       "  2554.37,1088.63 2891.02,1088.63 2891.02,1043.27 2554.37,1043.27 2554.37,1088.63 \n",
       "  \"/>\n",
       "<polyline clip-path=\"url(#clip500)\" style=\"stroke:#009af9; stroke-width:1; stroke-opacity:1; fill:none\" points=\"\n",
       "  2586.76,1058.39 2781.1,1058.39 \n",
       "  \"/>\n",
       "<path clip-path=\"url(#clip500)\" d=\"M 0 0 M2816.95 1063.31 Q2816.5 1064.47 2816.07 1064.82 Q2815.64 1065.18 2814.92 1065.18 L2814.07 1065.18 L2814.07 1064.29 L2814.7 1064.29 Q2815.14 1064.29 2815.38 1064.08 Q2815.62 1063.87 2815.92 1063.09 L2816.11 1062.61 L2813.49 1056.23 L2814.61 1056.23 L2816.64 1061.3 L2818.67 1056.23 L2819.79 1056.23 L2816.95 1063.31 Z\" fill=\"#000000\" fill-rule=\"evenodd\" fill-opacity=\"1\" /><path clip-path=\"url(#clip500)\" d=\"M 0 0 M2821.26 1061.73 L2823.17 1061.73 L2823.17 1055.14 L2821.1 1055.55 L2821.1 1054.49 L2823.16 1054.07 L2824.33 1054.07 L2824.33 1061.73 L2826.24 1061.73 L2826.24 1062.71 L2821.26 1062.71 L2821.26 1061.73 Z\" fill=\"#000000\" fill-rule=\"evenodd\" fill-opacity=\"1\" /><polyline clip-path=\"url(#clip500)\" style=\"stroke:#e26f46; stroke-width:1; stroke-opacity:1; fill:none\" points=\"\n",
       "  2586.76,1073.51 2781.1,1073.51 \n",
       "  \"/>\n",
       "<path clip-path=\"url(#clip500)\" d=\"M 0 0 M2816.95 1078.43 Q2816.5 1079.59 2816.07 1079.94 Q2815.64 1080.3 2814.92 1080.3 L2814.07 1080.3 L2814.07 1079.41 L2814.7 1079.41 Q2815.14 1079.41 2815.38 1079.2 Q2815.62 1078.99 2815.92 1078.21 L2816.11 1077.73 L2813.49 1071.35 L2814.61 1071.35 L2816.64 1076.42 L2818.67 1071.35 L2819.79 1071.35 L2816.95 1078.43 Z\" fill=\"#000000\" fill-rule=\"evenodd\" fill-opacity=\"1\" /><path clip-path=\"url(#clip500)\" d=\"M 0 0 M2822.07 1076.85 L2826.15 1076.85 L2826.15 1077.83 L2820.66 1077.83 L2820.66 1076.85 Q2821.33 1076.16 2822.47 1075 Q2823.63 1073.84 2823.92 1073.5 Q2824.48 1072.87 2824.7 1072.44 Q2824.93 1072 2824.93 1071.58 Q2824.93 1070.89 2824.44 1070.45 Q2823.96 1070.02 2823.19 1070.02 Q2822.64 1070.02 2822.02 1070.21 Q2821.41 1070.4 2820.72 1070.79 L2820.72 1069.61 Q2821.43 1069.32 2822.04 1069.18 Q2822.65 1069.03 2823.16 1069.03 Q2824.5 1069.03 2825.3 1069.71 Q2826.1 1070.38 2826.1 1071.5 Q2826.1 1072.03 2825.9 1072.51 Q2825.7 1072.99 2825.18 1073.64 Q2825.03 1073.8 2824.26 1074.61 Q2823.48 1075.41 2822.07 1076.85 Z\" fill=\"#000000\" fill-rule=\"evenodd\" fill-opacity=\"1\" /></svg>\n"
      ]
     },
     "execution_count": 5,
     "metadata": {},
     "output_type": "execute_result"
    }
   ],
   "source": [
    "# import matplotlib.pyplot as plt\n",
    "# plt.rc('xtick',labelsize=20) \n",
    "# plt.rc('ytick',labelsize=20) \n",
    "\n",
    "# fig = plt.figure(figsize=(15.0,10.0))\n",
    "# ax  = fig.add_subplot(2,1,1); ax.grid();\n",
    "# ax.set_ylabel(\"$V(W)$\",size=24);\n",
    "# ax.plot(wgrid,vvec,'b-')\n",
    "# ax.plot(wgrid,vvec0,'r--')\n",
    "\n",
    "# ax  = fig.add_subplot(2,1,2); ax.grid();\n",
    "# ax.set_xlabel(\"$W$\",size=24);\n",
    "# ax.set_ylabel(\"$W'(W)$\",size=24);\n",
    "# ax.plot(wgrid,wvec,'b-')\n",
    "# ax.plot(wgrid,wvec0,'r--')\n",
    "\n",
    "using Plots\n",
    "plot(\n",
    "    plot([wgrid wgrid],[vvec0 vvec]),\n",
    "    plot([wgrid wgrid],[wvec0 wvec]),\n",
    "    layout=(2,1),size=(3000,2000))"
   ]
  },
  {
   "cell_type": "markdown",
   "metadata": {
    "slideshow": {
     "slide_type": "slide"
    }
   },
   "source": [
    "# Applying dynamic programming to RCK models\n",
    "\n",
    "- The individual solves the problem of\n",
    "\n",
    "$$\n",
    "\\begin{align}\n",
    "    & \\max_{\\{c_{t},k_{t+1}\\}}\\sum_{t=0}^{\\infty}\\beta^{t}\\log c_{t} \\\\\n",
    "    & \\text{subject to} \\\\\n",
    "    & c_{t}+k_{t+1}-(1-\\delta)k_{t}=f(k_{t}), \\\\\n",
    "    & k_{0} \\text{ is given}.\n",
    "\\end{align}\n",
    "$$\n",
    "\n",
    "- $k_{t}$ is the state variable. What is the control variable?"
   ]
  },
  {
   "cell_type": "markdown",
   "metadata": {
    "slideshow": {
     "slide_type": "subslide"
    }
   },
   "source": [
    "## Bellman equation\n",
    "\n",
    "- The value function is given by\n",
    "\n",
    "$$\n",
    "    V(k_{0})=\\max\\sum_{t=0}^{\\infty}\\beta^{t}u(f(k_{t})+(1-\\delta)k_{t}-k_{t+1})\n",
    "$$\n",
    "\n",
    "- It can be written recursively\n",
    "\n",
    "$$\n",
    "    V(k)=\\max_{k'}u(f(k)+(1-\\delta)k-k')+\\beta V(k').\n",
    "$$"
   ]
  },
  {
   "cell_type": "markdown",
   "metadata": {
    "slideshow": {
     "slide_type": "subslide"
    }
   },
   "source": [
    "## Solving the Bellman equation\n",
    "\n",
    "- The first order condition wrt $k'$ is given by\n",
    "\n",
    "$$\n",
    "u'(\\underbrace{f(k)+(1-\\delta)k-k'}_{c})=\\beta V'(k').\n",
    "$$"
   ]
  },
  {
   "cell_type": "markdown",
   "metadata": {
    "slideshow": {
     "slide_type": "fragment"
    }
   },
   "source": [
    "- The Benveniste-Scheinkman theorem yields\n",
    "\n",
    "$$\n",
    "V'(k)=u'(\\underbrace{f(k)+(1-\\delta)k-k'}_{c})\\left(f'(k)+1-\\delta\\right).\n",
    "$$"
   ]
  },
  {
   "cell_type": "markdown",
   "metadata": {
    "slideshow": {
     "slide_type": "fragment"
    }
   },
   "source": [
    "- which implies\n",
    "\n",
    "$$\n",
    "V'(k')=u'(\\underbrace{f(k')+(1-\\delta)k'-k''}_{c'})\\left(f'(k')+1-\\delta\\right).\n",
    "$$"
   ]
  },
  {
   "cell_type": "markdown",
   "metadata": {
    "slideshow": {
     "slide_type": "subslide"
    }
   },
   "source": [
    "- Substitution leads to the Euler equation:\n",
    "\n",
    "$$\n",
    "u'(c)=\\beta u'(c')\\left(f'(k')+1-\\delta\\right).\n",
    "$$"
   ]
  },
  {
   "cell_type": "markdown",
   "metadata": {
    "slideshow": {
     "slide_type": "subslide"
    }
   },
   "source": [
    "## Value function iteration\n",
    "\n",
    "- We use the value function iteration method to find an approximation of the value and policy functions."
   ]
  },
  {
   "cell_type": "markdown",
   "metadata": {
    "slideshow": {
     "slide_type": "fragment"
    }
   },
   "source": [
    "- Assume $u(c)=\\ln(c)$ and $f(k)=k^{\\theta}$. We write the Bellman equation as \n",
    "\n",
    "$$\n",
    "V^{*}(k)=\\max_{k'}\\left\\{ \\ln(k^{\\theta}+(1-\\delta)k-k')+\\beta V(k')\\right\\} ,\n",
    "$$\n",
    "\n",
    "given the function $V(k)$."
   ]
  },
  {
   "cell_type": "markdown",
   "metadata": {
    "slideshow": {
     "slide_type": "subslide"
    }
   },
   "source": [
    "- We update the value function iteratively until the function converges, i.e., $\\left\\Vert V^{*}(k)-V(k)\\right\\Vert \\leq\\epsilon$."
   ]
  },
  {
   "cell_type": "markdown",
   "metadata": {
    "slideshow": {
     "slide_type": "fragment"
    }
   },
   "source": [
    "- We need to approximate $V(k')$, and numerically solve the maximization problem with regard to $k'$."
   ]
  }
 ],
 "metadata": {
  "@webio": {
   "lastCommId": null,
   "lastKernelId": null
  },
  "celltoolbar": "Slideshow",
  "kernelspec": {
   "display_name": "Julia 1.6.1",
   "language": "julia",
   "name": "julia-1.6"
  },
  "language_info": {
   "file_extension": ".jl",
   "mimetype": "application/julia",
   "name": "julia",
   "version": "1.6.1"
  },
  "rise": {
   "enable_chalkboard": true
  }
 },
 "nbformat": 4,
 "nbformat_minor": 4
}
