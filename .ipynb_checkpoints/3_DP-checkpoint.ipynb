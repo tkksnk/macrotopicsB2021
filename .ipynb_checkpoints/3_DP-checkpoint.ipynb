{
 "cells": [
  {
   "cell_type": "markdown",
   "metadata": {
    "slideshow": {
     "slide_type": "slide"
    }
   },
   "source": [
    "# Advanced Macro: Dynamic Programming\n",
    "<br>\n",
    "<div style=\"text-align: center;\">\n",
    "June 2020, revised June 2021 Takeki Sunakawa\n",
    "<br>\n",
    "<div style=\"text-align: center;\">    \n",
    "Hitotsubashi University"
   ]
  },
  {
   "cell_type": "markdown",
   "metadata": {
    "slideshow": {
     "slide_type": "slide"
    }
   },
   "source": [
    "# Introduction\n",
    "\n",
    "- A dynamic optimization problem (such as the one for the RCK model) is often *recursive*."
   ]
  },
  {
   "cell_type": "markdown",
   "metadata": {
    "slideshow": {
     "slide_type": "fragment"
    }
   },
   "source": [
    "- That is, the problem does not depend on the period in which individuals make decisions."
   ]
  },
  {
   "cell_type": "markdown",
   "metadata": {
    "slideshow": {
     "slide_type": "fragment"
    }
   },
   "source": [
    "- Dynamic programming is a very powerful tool to solve recursive problems."
   ]
  },
  {
   "cell_type": "markdown",
   "metadata": {
    "slideshow": {
     "slide_type": "subslide"
    }
   },
   "source": [
    "- My lecture is based on a Russell Cooper's note dp_intro_may2013.pdf (which is a part of his book). McCandless Chs. 4 and 5 is also a good reference."
   ]
  },
  {
   "cell_type": "markdown",
   "metadata": {
    "slideshow": {
     "slide_type": "slide"
    }
   },
   "source": [
    "# Cake-eating problem\n",
    "\n",
    "- We have a cake of size $W_{1}$ at the beginning of period $t=1$."
   ]
  },
  {
   "cell_type": "markdown",
   "metadata": {
    "slideshow": {
     "slide_type": "fragment"
    }
   },
   "source": [
    "- At each point of time, $t=1,2,3,\\dots,T$, we can consume some of the cake and save the rest."
   ]
  },
  {
   "cell_type": "markdown",
   "metadata": {
    "slideshow": {
     "slide_type": "fragment"
    }
   },
   "source": [
    "- Let $c_{t}$ be consumption in period $t$ and let $u(c_{t})$ be the flow of utility from this consumption."
   ]
  },
  {
   "cell_type": "markdown",
   "metadata": {
    "slideshow": {
     "slide_type": "fragment"
    }
   },
   "source": [
    "- $u(c)$ satisfies the standard assumptions: It is differentiable, strictly increasing, and strictly concave. That is, $u_{c}=u'(c)>0$ and $u_{cc}=u''(c)<0$. Also $\\lim_{c\\rightarrow0}u'(c)=\\infty$ (Inada condition)."
   ]
  },
  {
   "cell_type": "markdown",
   "metadata": {
    "slideshow": {
     "slide_type": "subslide"
    }
   },
   "source": [
    "## Cake-eating problem defined\n",
    "\n",
    "- The lifetime utility is given by\n",
    "\n",
    "$$\n",
    "    \\sum_{t=1}^{T}\\beta^{t-1}u(c_{t})\n",
    "$$\n",
    "\n",
    "where $\\beta\\in(0,1)$ is discount factor."
   ]
  },
  {
   "cell_type": "markdown",
   "metadata": {
    "slideshow": {
     "slide_type": "fragment"
    }
   },
   "source": [
    "- The cake does not depreciate (melt) or grow. Hence, the evolution of the cake over time is governed by: \n",
    "\n",
    "$$\n",
    "W_{t+1}=W_{t}-c_{t}\n",
    "$$\n",
    "\n",
    "for $t=1,2,...,T$. "
   ]
  },
  {
   "cell_type": "markdown",
   "metadata": {
    "slideshow": {
     "slide_type": "fragment"
    }
   },
   "source": [
    "- How to find the optimal path of consumption, $\\{c_{t}\\}_{t=1}^{T}$?\n",
    "\n",
    "- We will obtain the Euler equation that characterizes the optimal path of consumption by two different methods."
   ]
  },
  {
   "cell_type": "markdown",
   "metadata": {
    "slideshow": {
     "slide_type": "subslide"
    }
   },
   "source": [
    "## Direct attack\n",
    "\n",
    "- One approach is to solve the optimization problem directly. Consider the problem of\n",
    "\n",
    "$$\n",
    "    \\max_{\\{c_{t},W_{t+1}\\}_{t=1}^{T}}\\sum_{t=1}^{T}\\beta^{t-1}u(c_{t})\n",
    "$$\n",
    "\n",
    "subject to\n",
    "\n",
    "$$\n",
    "    W_{t+1}=W_{t}-c_{t}>0\n",
    "$$\n",
    "\n",
    "for $t=1,2,3,...,T$. $W_{1}>0$ is given. "
   ]
  },
  {
   "cell_type": "markdown",
   "metadata": {
    "slideshow": {
     "slide_type": "subslide"
    }
   },
   "source": [
    "- Or\n",
    "\n",
    "$$\n",
    "    \\max_{\\{c_{t},W_{t+1}\\}_{t=1}^{T}} u(c_{1}) + \\beta u(c_{2}) + \\beta^2 u(c_{3}) + \\dots + \\beta^{T-1} u(c_{T})\n",
    "$$\n",
    "\n",
    "subject to\n",
    "\n",
    "$$\n",
    "    W_{2}=W_{1}-c_{1}>0, \\\\\n",
    "    W_{3}=W_{2}-c_{2}>0, \\\\\n",
    "    \\vdots, \\\\\n",
    "    W_{T+1}=W_{T}-c_{T}>0.\n",
    "$$\n",
    "\n",
    "$W_{1}>0$ is given. "
   ]
  },
  {
   "cell_type": "markdown",
   "metadata": {
    "slideshow": {
     "slide_type": "subslide"
    }
   },
   "source": [
    "- Alternatively, the constraint is recursively obtained as\n",
    "\n",
    "$$\n",
    "    W_{2}=W_{1}-c_{1}, \\\\\n",
    "    W_{3}=W_{1}-c_{1}-c_{2}, \\\\\n",
    "    \\vdots, \\\\\n",
    "    W_{T+1}=W_{1}-c_{1}-c_{2}-\\dots-c_{T},\n",
    "$$\n",
    "\n",
    "$$\n",
    "    \\Leftrightarrow W_{T+1}=W_{1}-\\sum_{t=1}^{T}c_{t}, \\\\\n",
    "    \\therefore \\sum_{t=1}^{T}c_{t}+W_{T+1}=W_{1}.\n",
    "$$"
   ]
  },
  {
   "cell_type": "markdown",
   "metadata": {
    "slideshow": {
     "slide_type": "fragment"
    }
   },
   "source": [
    "- For the moment, we assume the size of the cake after the last period T is greater than or equal to 0:\n",
    "\n",
    "$$\n",
    "    W_{T+1} \\geq 0.\n",
    "$$"
   ]
  },
  {
   "cell_type": "markdown",
   "metadata": {
    "slideshow": {
     "slide_type": "subslide"
    }
   },
   "source": [
    "- Let $\\lambda$ and $\\phi$ be the multiplier on the constraints. We set up the Lagrangean as\n",
    "\n",
    "\\begin{align*}\n",
    "    L_{0} &= u(c_{1}) + \\beta u(c_{2}) + \\beta^2 u(c_{3}) + \\dots + \\beta^{T-1} u(c_{T}) \\\\\n",
    "    &+ \\lambda \\left(W_{1}-c_{1}-c_{2}-\\dots-c_{T}-W_{T+1}\\right) \\\\\n",
    "    &+ \\phi W_{T+1} \\\\\n",
    "    &= \\sum_{t=1}^{T}\\beta^{t-1}u(c_{t}) + \\lambda \\left(W_{1} - \\sum_{t=1}^{T}c_{t}-W_{T+1} \\right) + \\phi W_{T+1}\n",
    "\\end{align*}"
   ]
  },
  {
   "cell_type": "markdown",
   "metadata": {
    "slideshow": {
     "slide_type": "fragment"
    }
   },
   "source": [
    "- The FOCs are\n",
    "\n",
    "$$\n",
    "\\beta^{t-1}u'(c_{t})=\\lambda\n",
    "$$\n",
    "\n",
    "for $t=1,2,...,T$ \n",
    "\n",
    "and \n",
    "\n",
    "$$\n",
    "\\phi=\\lambda.\n",
    "$$"
   ]
  },
  {
   "cell_type": "markdown",
   "metadata": {
    "slideshow": {
     "slide_type": "fragment"
    }
   },
   "source": [
    "- Combining equations, \n",
    "\n",
    "$$\n",
    "    u'(c_{t})=\\beta u'(c_{t+1})\n",
    "$$\n",
    "\n",
    "holds for $t=1,2,...,T-1$, which is an Euler equation."
   ]
  },
  {
   "cell_type": "markdown",
   "metadata": {
    "slideshow": {
     "slide_type": "subslide"
    }
   },
   "source": [
    "- Note that having the Euler equation is *necessary* but not *sufficient*."
   ]
  },
  {
   "cell_type": "markdown",
   "metadata": {
    "slideshow": {
     "slide_type": "fragment"
    }
   },
   "source": [
    "- Suppose $W_{T+1}>0$ so that there is cake left over. This is clearly an inefficient plan. This shows $W_{T+1}=0$ and $\\lambda=\\phi>0$ must hold.\n",
    "    - Karush-Kuhn-Tucker condition applies: $W_{T+1}=0$ and $\\phi>0$ or $W_{T+1}>0$ and $\\phi=0$ hold."
   ]
  },
  {
   "cell_type": "markdown",
   "metadata": {
    "slideshow": {
     "slide_type": "fragment"
    }
   },
   "source": [
    "- So, in effect, the problem is pinned down by an initial and terminal condition."
   ]
  },
  {
   "cell_type": "markdown",
   "metadata": {
    "slideshow": {
     "slide_type": "subslide"
    }
   },
   "source": [
    "## Value function\n",
    "\n",
    "- Now we want to obtain the Euler equation in a different way.\n",
    "\n",
    "- Let\n",
    "\n",
    "$$\n",
    "    V_{1}(W_{1})=\\max_{\\{c_{t},W_{t+1}\\}_{t=1}^{T}}\\sum_{t=1}^{T}\\beta^{t-1}u(c_{t}),\n",
    "$$\n",
    "\n",
    "which is called a value function."
   ]
  },
  {
   "cell_type": "markdown",
   "metadata": {
    "slideshow": {
     "slide_type": "fragment"
    }
   },
   "source": [
    "- Note that, by taking the derivative of $W_{1}$ in the both side,\n",
    "\n",
    "$$\n",
    "    V'_{1}(W_{1})=\\beta^{t-1}u'(c_{t})\n",
    "$$\n",
    "\n",
    "for $t=1,2,...,T$, as $W_{1}=\\sum_{t=1}^{T}c_{t}+W_{T+1}$."
   ]
  },
  {
   "cell_type": "markdown",
   "metadata": {
    "slideshow": {
     "slide_type": "fragment"
    }
   },
   "source": [
    "- **The Benveniste-Scheinkman theorem**: An increase in the size of the cake leads to an increase in lifetime utility equal to the marginal utility in *any* period. It doesn't matter when the extra cake is eaten given that the consumer is acting optimally."
   ]
  },
  {
   "cell_type": "markdown",
   "metadata": {
    "slideshow": {
     "slide_type": "subslide"
    }
   },
   "source": [
    "## Adding period 0\n",
    "\n",
    "- We add a period 0 and give an initial cake of size $W_{0}$."
   ]
  },
  {
   "cell_type": "markdown",
   "metadata": {
    "slideshow": {
     "slide_type": "fragment"
    }
   },
   "source": [
    "- Dynamic programming converts a T+1 period problem (for t=0,1,2,...T) into a 2 period problem with rewriting of the objective function. It uses the value function obtained from solving a shorter horizon (T period) problem."
   ]
  },
  {
   "cell_type": "markdown",
   "metadata": {
    "slideshow": {
     "slide_type": "subslide"
    }
   },
   "source": [
    "## Dynamic programming\n",
    "\n",
    "- Given $W_{0}$, consider the problem of\n",
    "\n",
    "$$\n",
    "    \\max_{c_{0},c_{1},...,c_{T}} u(c_{0}) + \\underbrace{\\beta u(c_{1}) + \\beta^2 u(c_{2}) + \\beta^3 u(c_{3}) + \\dots + \\beta^{T} u(c_{T})}_{\\beta V_{1}(W_{1})} \\\\\n",
    "    \\Leftrightarrow \\max_{c_{0}}u(c_{0}) + \\beta V_{1}(W_{1})\n",
    "$$\n",
    "\n",
    "where $W_{1}=W_{0}-c_{0}$.\n"
   ]
  },
  {
   "cell_type": "markdown",
   "metadata": {
    "slideshow": {
     "slide_type": "fragment"
    }
   },
   "source": [
    "- **The principle of optimality**: It doesn’t matter how the cake will be consumed after the initial period 0 (i.e., $c_{1},c_{2},...,c_{T}$). The agent will be acting optimally and thus generating $V_{1}(W_{1})$."
   ]
  },
  {
   "cell_type": "markdown",
   "metadata": {
    "slideshow": {
     "slide_type": "subslide"
    }
   },
   "source": [
    "- Note that\n",
    "\n",
    "$$\n",
    "    u'(c_{0})=\\beta V'_{1}(W_{1})\n",
    "$$\n",
    "\n",
    "where $W_{1}=W_{0}-c_{0}$."
   ]
  },
  {
   "cell_type": "markdown",
   "metadata": {
    "slideshow": {
     "slide_type": "fragment"
    }
   },
   "source": [
    "- Also from the Benveniste-Scheinkman formula,\n",
    "\n",
    "$$\n",
    "    V'_{1}(W_{1})=u'(c_{1})=\\beta u'(c_{2})=\\cdots=\\beta^{t}u'(c_{t+1})\n",
    "$$\n",
    "\n",
    "for $t=1,2,...,T-1$."
   ]
  },
  {
   "cell_type": "markdown",
   "metadata": {
    "slideshow": {
     "slide_type": "fragment"
    }
   },
   "source": [
    "- These two conditions yields\n",
    "\n",
    "$$\n",
    "    u'(c_{t})=\\beta u'(c_{t+1})\n",
    "$$\n",
    "\n",
    "for $t=0,1,2,...,T-1$. We obtained the same Euler equation!"
   ]
  },
  {
   "cell_type": "markdown",
   "metadata": {
    "slideshow": {
     "slide_type": "slide"
    }
   },
   "source": [
    "# Building the value function\n",
    "\n",
    "- The problem looks simple by pretending that we have $V_{1}(W_{1})$. But how do we get it?"
   ]
  },
  {
   "cell_type": "markdown",
   "metadata": {
    "slideshow": {
     "slide_type": "fragment"
    }
   },
   "source": [
    "- We will build $V_{T}(W_{T}),V_{T-1}(W_{T-1}),\\cdots,V_{1}(W_{1})$ recursively starting from the last period's problem (this is called backward induction)."
   ]
  },
  {
   "cell_type": "markdown",
   "metadata": {
    "slideshow": {
     "slide_type": "subslide"
    }
   },
   "source": [
    "## Three period example\n",
    "\n",
    "- Suppose the following sequence problem\n",
    "\n",
    "$$\n",
    "    \\max_{\\{c_{t},W_{t+1}\\}_{t=0}^{2}} u(c_{0}) + \\beta u(c_{1}) + \\beta^{2} u(c_{2})\n",
    "$$\n",
    "\n",
    "subject to\n",
    "\n",
    "$$\n",
    "    W_{t+1}=W_{t}-c_{t}\n",
    "$$\n",
    "\n",
    "for $t=0,1,2$, given $W_{0}$."
   ]
  },
  {
   "cell_type": "markdown",
   "metadata": {
    "slideshow": {
     "slide_type": "subslide"
    }
   },
   "source": [
    "- Assume $u(c)=\\ln(c)$."
   ]
  },
  {
   "cell_type": "markdown",
   "metadata": {
    "slideshow": {
     "slide_type": "fragment"
    }
   },
   "source": [
    "- For $t=T=2$, $W_{t+1}=W_{3}=0$, so $c_{2}=W_{2}$ and $V_{2}(W_{2})=\\ln(W_{2})$."
   ]
  },
  {
   "cell_type": "markdown",
   "metadata": {
    "slideshow": {
     "slide_type": "subslide"
    }
   },
   "source": [
    "- For $t=1$, the value function is \n",
    "\n",
    "$$\n",
    "    V_{1}(W_{1}) = \\max_{W_{2}} \\ln(W_{1}-W_{2})+\\beta V_{2}(W_{2}), \\\\\n",
    "$$"
   ]
  },
  {
   "cell_type": "markdown",
   "metadata": {
    "slideshow": {
     "slide_type": "fragment"
    }
   },
   "source": [
    "- The first-order condition and resource constraint are\n",
    "\n",
    "$$\n",
    "    1/c_{1}=\\beta V_{2}'(W_{2})=\\beta/W_{2}, \\\\\n",
    "    W_{1}=c_{1}+c_{2}.\n",
    "$$\n",
    "\n",
    "Note that we know $W_{2}=c_{2}$."
   ]
  },
  {
   "cell_type": "markdown",
   "metadata": {
    "slideshow": {
     "slide_type": "fragment"
    }
   },
   "source": [
    "- Then we have\n",
    "\n",
    "$$\n",
    "    c_{1}=\\frac{W_{1}}{1+\\beta},\\quad c_{2}=\\frac{\\beta W_{1}}{1+\\beta}.\n",
    "$$"
   ]
  },
  {
   "cell_type": "markdown",
   "metadata": {
    "slideshow": {
     "slide_type": "subslide"
    }
   },
   "source": [
    "- From this, we can solve for\n",
    "\n",
    "$$\n",
    "\\begin{align}\n",
    "    V_{1}(W_{1}) &=\t\\ln(c_{1})+\\beta\\ln(c_{2}), \\\\\n",
    "    &= \\ln(W_{1}/(1+\\beta)) + \\beta\\ln(\\beta W_{1}/(1+\\beta)), \\\\\n",
    "    &= \\ln(1/(1+\\beta)) + \\ln(W_{1}) + \\beta\\ln(\\beta/(1+\\beta)) + \\beta\\ln(W_{1}), \\\\\n",
    "\t&= A_{1}+B_{1}\\ln(W_{1}),\n",
    "\\end{align}\n",
    "$$\n",
    "\n",
    "where $A_{1}=\\ln(1/(1+\\beta))+\\beta\\ln(\\beta/(1+\\beta))$ and $B_{1}=1+\\beta$."
   ]
  },
  {
   "cell_type": "markdown",
   "metadata": {
    "slideshow": {
     "slide_type": "subslide"
    }
   },
   "source": [
    "- For $t=0$, the value function is\n",
    "\n",
    "$$\n",
    "    V_{0}(W_{0})=\\max_{W_{1}}\\ln(W_{0}-W_{1})+\\beta V_{1}(W_{1}).\n",
    "$$"
   ]
  },
  {
   "cell_type": "markdown",
   "metadata": {
    "slideshow": {
     "slide_type": "fragment"
    }
   },
   "source": [
    "- The first order condition and resorce constraint are\n",
    "\n",
    "$$\n",
    "\\begin{align}\n",
    "    1/c_{0}=\\beta V_{1}'(W_{1})=\\beta B_{1}/W_{1}, \\\\\n",
    "    W_{0} = c_{0} + W_{1},\n",
    "\\end{align}\n",
    "$$\n",
    "\n",
    "where $B_{1}=1+\\beta$."
   ]
  },
  {
   "cell_type": "markdown",
   "metadata": {
    "slideshow": {
     "slide_type": "fragment"
    }
   },
   "source": [
    "- Note that from the $t=1$ problem, we know $W_{1}=(1+\\beta)c_{1}$, then\n",
    "\n",
    "$$\n",
    "    1/c_{0}=\\beta/c_{1},\\\\\n",
    "    W_{0} = c_{0} + (1+\\beta)c_{1}.\n",
    "$$"
   ]
  },
  {
   "cell_type": "markdown",
   "metadata": {
    "slideshow": {
     "slide_type": "subslide"
    }
   },
   "source": [
    "- Then we have\n",
    "\n",
    "$$\n",
    "    c_{0}=\\frac{W_{0}}{1+\\beta+\\beta^{2}}, \\quad c_{1}=\\frac{\\beta W_{0}}{1+\\beta+\\beta^{2}}.\n",
    "$$"
   ]
  },
  {
   "cell_type": "markdown",
   "metadata": {
    "slideshow": {
     "slide_type": "fragment"
    }
   },
   "source": [
    "- Also we know from the $t=1$ problem,\n",
    "\n",
    "$$\n",
    "    1/c_{1}=\\beta/c_{2}.\n",
    "$$\n",
    "\n",
    "- Then,\n",
    "\n",
    "$$\n",
    "    c_{2}=\\frac{\\beta^{2}W_{0}}{1+\\beta+\\beta^{2}}.\n",
    "$$"
   ]
  },
  {
   "cell_type": "markdown",
   "metadata": {
    "slideshow": {
     "slide_type": "subslide"
    }
   },
   "source": [
    "- Finally, substituting into $V_{0}(W_{0})$ yields\n",
    "\n",
    "$$\n",
    "\\begin{align}\n",
    "    V_{0}(W_{0})&=\\ln(c_{0}) + \\beta\\ln(c_{1}) + \\beta^{2}\\ln(c_{2}), \\\\\n",
    "    &=\\ln(W_{0}/(1+\\beta+\\beta^{2})) + \\beta\\ln(\\beta W_{0}/(1+\\beta+\\beta^{2})) + \\beta^{2}\\ln(\\beta^{2}W_{0}/(1+\\beta+\\beta^{2})), \\\\\n",
    "    &=A_{0}+B_{0}\\ln(W_{0}), \\\\\n",
    "\\end{align}\n",
    "$$\n",
    "\n",
    "where\n",
    "\n",
    "$$\n",
    "\\begin{align}    A_{0}&=\\ln(1/(1+\\beta+\\beta^{2}))+\\beta\\ln(\\beta/(1+\\beta+\\beta^{2}))+\\beta^{2}\\ln(\\beta^{2}/(1+\\beta+\\beta^{2})), \\\\\n",
    "B_{0}&=1+\\beta+\\beta^{2}.\n",
    "\\end{align}\n",
    "$$"
   ]
  },
  {
   "cell_type": "markdown",
   "metadata": {
    "slideshow": {
     "slide_type": "subslide"
    }
   },
   "source": [
    "## Infinite horizon\n",
    "\n",
    "- Suppose the following infinite horizon sequence problem\n",
    "\n",
    "$$\n",
    "    \\max_{\\{c_{t},W_{t+1}\\}_{t=0}^{\\infty}}\\sum_{t=0}^{\\infty}\\beta^{t}u(c_{t})\n",
    "$$\n",
    "\n",
    "subject to\n",
    "\n",
    "$$\n",
    "    W_{t+1}=W_{t}-c_{t}\n",
    "$$\n",
    "\n",
    "for $t=0,1,2,...,\\infty$, given $W_{0}$."
   ]
  },
  {
   "cell_type": "markdown",
   "metadata": {
    "slideshow": {
     "slide_type": "subslide"
    }
   },
   "source": [
    "- Specifying this as a dynamic programming problem\n",
    "\n",
    "$$\n",
    "    V(W)=\\max_{c\\in[0,W]}u(c)+\\beta V(W-c).\n",
    "$$"
   ]
  },
  {
   "cell_type": "markdown",
   "metadata": {
    "slideshow": {
     "slide_type": "fragment"
    }
   },
   "source": [
    "- Alternatively, we specify the problem as choosing tomorrow's state\n",
    "\n",
    "$$\n",
    "    V(W)=\\max_{W'\\in[0,W]}u(W-W')+\\beta V(W').\n",
    "$$\n",
    "\n",
    "Either specification yields the same result. "
   ]
  },
  {
   "cell_type": "markdown",
   "metadata": {
    "slideshow": {
     "slide_type": "fragment"
    }
   },
   "source": [
    "- This is a functional equation called as a **Bellman equation**."
   ]
  },
  {
   "cell_type": "markdown",
   "metadata": {
    "slideshow": {
     "slide_type": "subslide"
    }
   },
   "source": [
    "## Analytical example\n",
    "\n",
    "- Sometimes there is the analytical solution. We use a guess and verify method."
   ]
  },
  {
   "cell_type": "markdown",
   "metadata": {
    "slideshow": {
     "slide_type": "fragment"
    }
   },
   "source": [
    "- Given the previous results in the three-period problem, we conjecture that the value function takes the form of:\n",
    "\n",
    "$$\n",
    "    V(W)=A+B\\ln W.\n",
    "$$"
   ]
  },
  {
   "cell_type": "markdown",
   "metadata": {
    "slideshow": {
     "slide_type": "fragment"
    }
   },
   "source": [
    "- Taking this guess, the functional equation becomes\n",
    "\n",
    "$$\n",
    "    A+B\\ln W = \\max_{W'}\\ln(W-W')+\\beta(A+B\\ln W')\n",
    "$$\n",
    "\n",
    "for all $W$."
   ]
  },
  {
   "cell_type": "markdown",
   "metadata": {
    "slideshow": {
     "slide_type": "subslide"
    }
   },
   "source": [
    "- After some algebra,\n",
    "\n",
    "$$\n",
    "    W'=\\frac{\\beta B}{1+\\beta B}W\n",
    "$$\n",
    "\n",
    "which implies\n",
    "\n",
    "$$\n",
    "    A+B\\ln W=\\ln\\frac{W}{1+\\beta B}+\\beta\\left[A+B\\ln\\left(\\frac{\\beta BW}{1+\\beta B}\\right)\\right]\n",
    "$$\n",
    "\n",
    "for all $W$. "
   ]
  },
  {
   "cell_type": "markdown",
   "metadata": {
    "slideshow": {
     "slide_type": "fragment"
    }
   },
   "source": [
    "- Collecting a constant and the terms related to $\\ln(W)$ in both sides,\n",
    "\n",
    "$$\n",
    "\\begin{align}\n",
    "    A&=\\beta A+\\beta B\\ln(\\beta B)-(1+\\beta B)\\ln(1+\\beta B), \\\\\n",
    "    B\\ln(W)&=\\ln(W)+\\beta B\\ln(W), \n",
    "\\end{align}\n",
    "$$\n",
    "\n",
    "which can be solved for $A$ and $B$."
   ]
  },
  {
   "cell_type": "markdown",
   "metadata": {
    "slideshow": {
     "slide_type": "subslide"
    }
   },
   "source": [
    "- Then we have\n",
    "\n",
    "$$\n",
    "\\begin{align}\n",
    "    A &= \\left(\\beta B\\ln(\\beta B)-(1+\\beta B)\\ln(1+\\beta B)\\right)/(1-\\beta), \\\\\n",
    "    B &= 1/(1-\\beta).\n",
    "\\end{align}\n",
    "$$"
   ]
  },
  {
   "cell_type": "markdown",
   "metadata": {
    "slideshow": {
     "slide_type": "fragment"
    }
   },
   "source": [
    "- With this solution, we also have\n",
    "\n",
    "$$\n",
    "    c=(1-\\beta)W, \\quad W'=\\beta W.\n",
    "$$\n",
    "\n",
    "The optimal policy is to save a constant fraction of the cake and eat the remaining fraction."
   ]
  },
  {
   "cell_type": "markdown",
   "metadata": {
    "slideshow": {
     "slide_type": "slide"
    }
   },
   "source": [
    "# Value function iteration\n",
    "\n",
    "- The above example can be solved numerically too. We use the value function iteration method with a successive approximation."
   ]
  },
  {
   "cell_type": "markdown",
   "metadata": {
    "slideshow": {
     "slide_type": "fragment"
    }
   },
   "source": [
    "- From the Bellman equation, we obtain the new value function $V^{*}(W)$\n",
    "\n",
    "$$\n",
    "    V^{*}(W) = \\max_{W'}\\left\\{ \\ln(W-W')+\\beta V(W')\\right\\},\n",
    "$$\n",
    "\n",
    "taking the old value function $V(W)$ as given."
   ]
  },
  {
   "cell_type": "markdown",
   "metadata": {
    "slideshow": {
     "slide_type": "subslide"
    }
   },
   "source": [
    "- We update the value function iteratively until the function converges, i.e., $\\left\\Vert V^{*}(W)-V(W)\\right\\Vert \\leq\\epsilon$."
   ]
  },
  {
   "cell_type": "markdown",
   "metadata": {
    "slideshow": {
     "slide_type": "fragment"
    }
   },
   "source": [
    "- We need to approximate $V(W')$, and numerically solve the maximization problem with regard to $W'$."
   ]
  },
  {
   "cell_type": "markdown",
   "metadata": {
    "slideshow": {
     "slide_type": "subslide"
    }
   },
   "source": [
    "## Successive approximation\n",
    "\n",
    "- $W$ is on a compact space $[0,\\bar{W}]$ and $V(W)$ is a function defined on the compact space."
   ]
  },
  {
   "cell_type": "markdown",
   "metadata": {
    "slideshow": {
     "slide_type": "fragment"
    }
   },
   "source": [
    "- Let $W_{i}\\in\\mathcal{W}=\\{W_{1},W_{2},...,W_{n}\\}$ where $W_{1}<W_{2}<...<W_{n}$. These are called *grid points*."
   ]
  },
  {
   "cell_type": "markdown",
   "metadata": {
    "slideshow": {
     "slide_type": "fragment"
    }
   },
   "source": [
    "- Then, $V(W)$ is approximated by a $(n\\times1)$ vector of the values $\\mathbf{v}=\\{V(W_{i})\\}_{i=1}^{n}$."
   ]
  },
  {
   "cell_type": "markdown",
   "metadata": {
    "slideshow": {
     "slide_type": "subslide"
    }
   },
   "source": [
    "- Recap: The value function is analytically obtained by $V(W) = A + B\\ln W$ where\n",
    "\n",
    "$$\n",
    "\\begin{align}\n",
    "    A &= \\left(\\beta B\\ln(\\beta B)-(1+\\beta B)\\ln(1+\\beta B)\\right)/(1-\\beta), \\\\\n",
    "    B &= 1/(1-\\beta).\n",
    "\\end{align}\n",
    "$$\n",
    "\n",
    "- We calculate the value of $V(W_{i})$ at each grid point."
   ]
  },
  {
   "cell_type": "code",
   "execution_count": 2,
   "metadata": {
    "slideshow": {
     "slide_type": "fragment"
    }
   },
   "outputs": [
    {
     "data": {
      "text/plain": [
       "1001-element Vector{Float64}:\n",
       " 9.0e-5\n",
       " 0.0009000000000000001\n",
       " 0.0018000000000000002\n",
       " 0.0027\n",
       " 0.0036000000000000003\n",
       " 0.0045000000000000005\n",
       " 0.0054\n",
       " 0.0063\n",
       " 0.007200000000000001\n",
       " 0.0081\n",
       " 0.009000000000000001\n",
       " 0.009899999999999999\n",
       " 0.0108\n",
       " ⋮\n",
       " 0.8901\n",
       " 0.891\n",
       " 0.8919\n",
       " 0.8928\n",
       " 0.8937\n",
       " 0.8946000000000001\n",
       " 0.8955\n",
       " 0.8964\n",
       " 0.8973\n",
       " 0.8982\n",
       " 0.8991\n",
       " 0.9"
      ]
     },
     "execution_count": 2,
     "metadata": {},
     "output_type": "execute_result"
    }
   ],
   "source": [
    "# parameter\n",
    "β = 0.9                        # discount factor\n",
    "\n",
    "# set grid\n",
    "nw = 1001                      # number of grid points\n",
    "wgrid = collect(range(0.0,stop=1.0,length=nw)) # evenly spaced grid points from 0.0 to 1.0\n",
    "wgrid[1] = wgrid[2]/10         # avoid w=c=0\n",
    "\n",
    "# analytical solution\n",
    "B = 1/(1-β)\n",
    "A = (β*B*log(β*B)-(1+β*B)*log(1+β*B))/(1-β)\n",
    "vvec = A .+ B*log.(wgrid)      # value function\n",
    "wvec = β*wgrid                 # policy function"
   ]
  },
  {
   "cell_type": "markdown",
   "metadata": {
    "slideshow": {
     "slide_type": "subslide"
    }
   },
   "source": [
    "- Now we want to solve for the value function numerically.\n",
    "\n",
    "- We can successively update the approximation as follows:"
   ]
  },
  {
   "cell_type": "markdown",
   "metadata": {
    "slideshow": {
     "slide_type": "fragment"
    }
   },
   "source": [
    "0. Construct a matrix for the current utility $\\underset{(n \\times n)}{\\mathbf{U}}=\\{\\{u_{ij}\\}\\}$\n",
    "\n",
    "  - Let $i$ be the index for the current period's cake. That is, $W_{i}=W$.\n",
    "  \n",
    "  - Also let $j$ be the index for the next period's cake. That is, $W_{j}=W'$.\n",
    "  \n",
    "  - The utility matrix is given by\n",
    "  \n",
    "  $$\n",
    "U = \\left[\n",
    "\\begin{array}{ccccc}\n",
    "u_{11} & \\cdots & u_{1j} & \\cdots & u_{1n}\\\\\n",
    "\\vdots & \\ddots &        &        & \\vdots \\\\\n",
    "u_{i1} &        & u_{ij} &        & u_{in} \\\\\n",
    "\\vdots &        &        & \\ddots & \\vdots \\\\\n",
    "u_{n1} & \\cdots & u_{nj} & \\cdots & u_{nn}\n",
    "\\end{array}\n",
    "\\right]\n",
    "  $$\n",
    "  \n",
    "  - Then, if $c_{ij}=W_{i}-W_{j}>0$, set\n",
    "  $$\n",
    "    u_{ij} = \\ln c_{ij}\n",
    "  $$\n",
    "  Otherwise, set a large negative number (say -10000000000) to $u_{ij}$."
   ]
  },
  {
   "cell_type": "code",
   "execution_count": 3,
   "metadata": {
    "slideshow": {
     "slide_type": "subslide"
    }
   },
   "outputs": [
    {
     "data": {
      "text/plain": [
       "-9.210340371976182"
      ]
     },
     "execution_count": 3,
     "metadata": {},
     "output_type": "execute_result"
    }
   ],
   "source": [
    "# 0. construct the current utility\n",
    "umat = zeros(nw,nw)\n",
    "for iw in 1:nw\n",
    "    for jw in 1:nw\n",
    "        wnow = wgrid[iw]  # W\n",
    "        wp = wgrid[jw]    # W'\n",
    "        cnow = wnow-wp      # c=W-W'\n",
    "        if cnow>0\n",
    "            # if c >0, the utility value is log(c)\n",
    "            umat[iw,jw] = log(cnow)\n",
    "        else\n",
    "            # if c<=0, the utility value is set so that the index j is never chosen. \n",
    "            umat[iw,jw] = -1e+10 # -10000000000 (i.e., ten zeros)\n",
    "        end\n",
    "    end\n",
    "end\n",
    "\n",
    "# NOTE: to avoid log(0) when wnow=wp=0\n",
    "umat[1,1] = log(wgrid[1])"
   ]
  },
  {
   "cell_type": "markdown",
   "metadata": {
    "slideshow": {
     "slide_type": "subslide"
    }
   },
   "source": [
    "1. For each index of the current period $i=1,...,n$ and given a vector of the values $\\{V(W_{i})\\}_{i=0}^{n-1}$ (the old value function), \n",
    "\n",
    "<!--   - Let $\\underset{(n \\times 1)}{\\mathbf{u}}=[u_{i1},...,u_{ij},...,u_{in}]$ and $\\underset{(n \\times 1)}{\\mathbf{v}}=[V(W_{1}),...,V(W_{j}),...V(W_{n})]$.\n",
    " -->\n",
    "  - Find the index of the next period $j$ so as to maximize the value function\n",
    "$$\n",
    "    V^{*}(W_{i})=\\max_{j}\\left\\{\n",
    "    \\left[\n",
    "    \\begin{array}{c}\n",
    "    u_{i1}\\\\\n",
    "    \\vdots\\\\\n",
    "    u_{ij}\\\\\n",
    "    \\vdots\\\\\n",
    "    u_{in}\n",
    "    \\end{array}\n",
    "    \\right]+\n",
    "    \\beta\n",
    "    \\left[\n",
    "    \\begin{array}{c}\n",
    "    V(W_{1})\\\\\n",
    "    \\vdots\\\\\n",
    "    V(W_{j})\\\\\n",
    "    \\vdots\\\\\n",
    "    V(W_{n})\n",
    "    \\end{array}\n",
    "    \\right]\n",
    "    \\right\\}\n",
    "$$\n",
    "\n",
    "  - Then we obtain a vector of the values $[V^{*}(W_{1}),...,V^{*}(W_{j}),...V^{*}(W_{n})]$, which approximate the (new) value function."
   ]
  },
  {
   "cell_type": "markdown",
   "metadata": {
    "slideshow": {
     "slide_type": "fragment"
    }
   },
   "source": [
    "2. Update the old value function $\\{V(W_{i})\\}_{i=0}^{n-1}$ with the new value function $\\{V^{*}(W_{i})\\}_{i=0}^{n-1}$. Iterate 1-2\n",
    "until convergence."
   ]
  },
  {
   "cell_type": "code",
   "execution_count": 4,
   "metadata": {
    "slideshow": {
     "slide_type": "subslide"
    }
   },
   "outputs": [],
   "source": [
    "wvec0 = zeros(nw)     # policy function\n",
    "vvec0 = zeros(nw)     # old value function\n",
    "vvec1 = zeros(nw)     # new value function\n",
    "\n",
    "diff = 1e+4\n",
    "\n",
    "while diff>1e-4 # while loop until the condition diff>1e-4 met\n",
    "\n",
    "    for iw in 1:nw # for each index of the current period, iw=0,...,nw-1    \n",
    "        # 1. find the index of the next period jw so as to maximize the value function\n",
    "        jw = argmax(umat[iw,:] + β*vvec0)\n",
    "        vvec1[iw] = umat[iw,jw] + β*vvec0[jw]   # V*(W)\n",
    "        wvec0[iw] = wgrid[jw]                   # W'(W)\n",
    "    end\n",
    "\n",
    "    diff  = maximum(abs.(vvec1-vvec0)) # the condition for convergence\n",
    "    # 2. update the value function\n",
    "    vvec0 = copy(vvec1)\n",
    "    \n",
    "end"
   ]
  },
  {
   "cell_type": "code",
   "execution_count": 5,
   "metadata": {
    "slideshow": {
     "slide_type": "subslide"
    }
   },
   "outputs": [
    {
     "data": {
      "image/svg+xml": [
       "<?xml version=\"1.0\" encoding=\"utf-8\"?>\n",
       "<svg xmlns=\"http://www.w3.org/2000/svg\" xmlns:xlink=\"http://www.w3.org/1999/xlink\" width=\"200\" height=\"150\" viewBox=\"0 0 800 600\">\n",
       "<defs>\n",
       "  <clipPath id=\"clip060\">\n",
       "    <rect x=\"0\" y=\"0\" width=\"800\" height=\"600\"/>\n",
       "  </clipPath>\n",
       "</defs>\n",
       "<path clip-path=\"url(#clip060)\" d=\"\n",
       "M0 600 L800 600 L800 0 L0 0  Z\n",
       "  \" fill=\"#ffffff\" fill-rule=\"evenodd\" fill-opacity=\"1\"/>\n",
       "<defs>\n",
       "  <clipPath id=\"clip061\">\n",
       "    <rect x=\"160\" y=\"0\" width=\"561\" height=\"561\"/>\n",
       "  </clipPath>\n",
       "</defs>\n",
       "<path clip-path=\"url(#clip060)\" d=\"\n",
       "M51.1206 268.532 L788.189 268.532 L788.189 11.811 L51.1206 11.811  Z\n",
       "  \" fill=\"#ffffff\" fill-rule=\"evenodd\" fill-opacity=\"1\"/>\n",
       "<defs>\n",
       "  <clipPath id=\"clip062\">\n",
       "    <rect x=\"51\" y=\"11\" width=\"738\" height=\"258\"/>\n",
       "  </clipPath>\n",
       "</defs>\n",
       "<polyline clip-path=\"url(#clip062)\" style=\"stroke:#000000; stroke-width:0.5; stroke-opacity:0.1; fill:none\" points=\"\n",
       "  71.9115,268.532 71.9115,11.811 \n",
       "  \"/>\n",
       "<polyline clip-path=\"url(#clip062)\" style=\"stroke:#000000; stroke-width:0.5; stroke-opacity:0.1; fill:none\" points=\"\n",
       "  245.766,268.532 245.766,11.811 \n",
       "  \"/>\n",
       "<polyline clip-path=\"url(#clip062)\" style=\"stroke:#000000; stroke-width:0.5; stroke-opacity:0.1; fill:none\" points=\"\n",
       "  419.62,268.532 419.62,11.811 \n",
       "  \"/>\n",
       "<polyline clip-path=\"url(#clip062)\" style=\"stroke:#000000; stroke-width:0.5; stroke-opacity:0.1; fill:none\" points=\"\n",
       "  593.474,268.532 593.474,11.811 \n",
       "  \"/>\n",
       "<polyline clip-path=\"url(#clip062)\" style=\"stroke:#000000; stroke-width:0.5; stroke-opacity:0.1; fill:none\" points=\"\n",
       "  767.329,268.532 767.329,11.811 \n",
       "  \"/>\n",
       "<polyline clip-path=\"url(#clip060)\" style=\"stroke:#000000; stroke-width:1; stroke-opacity:1; fill:none\" points=\"\n",
       "  51.1206,268.532 788.189,268.532 \n",
       "  \"/>\n",
       "<polyline clip-path=\"url(#clip060)\" style=\"stroke:#000000; stroke-width:1; stroke-opacity:1; fill:none\" points=\"\n",
       "  71.9115,268.532 71.9115,265.451 \n",
       "  \"/>\n",
       "<polyline clip-path=\"url(#clip060)\" style=\"stroke:#000000; stroke-width:1; stroke-opacity:1; fill:none\" points=\"\n",
       "  245.766,268.532 245.766,265.451 \n",
       "  \"/>\n",
       "<polyline clip-path=\"url(#clip060)\" style=\"stroke:#000000; stroke-width:1; stroke-opacity:1; fill:none\" points=\"\n",
       "  419.62,268.532 419.62,265.451 \n",
       "  \"/>\n",
       "<polyline clip-path=\"url(#clip060)\" style=\"stroke:#000000; stroke-width:1; stroke-opacity:1; fill:none\" points=\"\n",
       "  593.474,268.532 593.474,265.451 \n",
       "  \"/>\n",
       "<polyline clip-path=\"url(#clip060)\" style=\"stroke:#000000; stroke-width:1; stroke-opacity:1; fill:none\" points=\"\n",
       "  767.329,268.532 767.329,265.451 \n",
       "  \"/>\n",
       "<path clip-path=\"url(#clip060)\" d=\"M 0 0 M63.9138 277.43 Q63.011 277.43 62.5539 278.321 Q62.1025 279.206 62.1025 280.989 Q62.1025 282.765 62.5539 283.656 Q63.011 284.542 63.9138 284.542 Q64.8224 284.542 65.2738 283.656 Q65.7309 282.765 65.7309 280.989 Q65.7309 279.206 65.2738 278.321 Q64.8224 277.43 63.9138 277.43 M63.9138 276.504 Q65.3664 276.504 66.1302 277.655 Q66.8999 278.801 66.8999 280.989 Q66.8999 283.17 66.1302 284.322 Q65.3664 285.468 63.9138 285.468 Q62.4613 285.468 61.6916 284.322 Q60.9277 283.17 60.9277 280.989 Q60.9277 278.801 61.6916 277.655 Q62.4613 276.504 63.9138 276.504 Z\" fill=\"#000000\" fill-rule=\"evenodd\" fill-opacity=\"1\" /><path clip-path=\"url(#clip060)\" d=\"M 0 0 M68.1673 283.83 L69.3883 283.83 L69.3883 285.3 L68.1673 285.3 L68.1673 283.83 Z\" fill=\"#000000\" fill-rule=\"evenodd\" fill-opacity=\"1\" /><path clip-path=\"url(#clip060)\" d=\"M 0 0 M73.1557 277.43 Q72.2529 277.43 71.7957 278.321 Q71.3443 279.206 71.3443 280.989 Q71.3443 282.765 71.7957 283.656 Q72.2529 284.542 73.1557 284.542 Q74.0642 284.542 74.5156 283.656 Q74.9728 282.765 74.9728 280.989 Q74.9728 279.206 74.5156 278.321 Q74.0642 277.43 73.1557 277.43 M73.1557 276.504 Q74.6082 276.504 75.3721 277.655 Q76.1418 278.801 76.1418 280.989 Q76.1418 283.17 75.3721 284.322 Q74.6082 285.468 73.1557 285.468 Q71.7031 285.468 70.9335 284.322 Q70.1696 283.17 70.1696 280.989 Q70.1696 278.801 70.9335 277.655 Q71.7031 276.504 73.1557 276.504 Z\" fill=\"#000000\" fill-rule=\"evenodd\" fill-opacity=\"1\" /><path clip-path=\"url(#clip060)\" d=\"M 0 0 M79.9091 277.43 Q79.0063 277.43 78.5492 278.321 Q78.0978 279.206 78.0978 280.989 Q78.0978 282.765 78.5492 283.656 Q79.0063 284.542 79.9091 284.542 Q80.8177 284.542 81.269 283.656 Q81.7262 282.765 81.7262 280.989 Q81.7262 279.206 81.269 278.321 Q80.8177 277.43 79.9091 277.43 M79.9091 276.504 Q81.3616 276.504 82.1255 277.655 Q82.8952 278.801 82.8952 280.989 Q82.8952 283.17 82.1255 284.322 Q81.3616 285.468 79.9091 285.468 Q78.4566 285.468 77.6869 284.322 Q76.923 283.17 76.923 280.989 Q76.923 278.801 77.6869 277.655 Q78.4566 276.504 79.9091 276.504 Z\" fill=\"#000000\" fill-rule=\"evenodd\" fill-opacity=\"1\" /><path clip-path=\"url(#clip060)\" d=\"M 0 0 M238.092 277.43 Q237.189 277.43 236.732 278.321 Q236.281 279.206 236.281 280.989 Q236.281 282.765 236.732 283.656 Q237.189 284.542 238.092 284.542 Q239.001 284.542 239.452 283.656 Q239.909 282.765 239.909 280.989 Q239.909 279.206 239.452 278.321 Q239.001 277.43 238.092 277.43 M238.092 276.504 Q239.545 276.504 240.309 277.655 Q241.078 278.801 241.078 280.989 Q241.078 283.17 240.309 284.322 Q239.545 285.468 238.092 285.468 Q236.64 285.468 235.87 284.322 Q235.106 283.17 235.106 280.989 Q235.106 278.801 235.87 277.655 Q236.64 276.504 238.092 276.504 Z\" fill=\"#000000\" fill-rule=\"evenodd\" fill-opacity=\"1\" /><path clip-path=\"url(#clip060)\" d=\"M 0 0 M242.346 283.83 L243.567 283.83 L243.567 285.3 L242.346 285.3 L242.346 283.83 Z\" fill=\"#000000\" fill-rule=\"evenodd\" fill-opacity=\"1\" /><path clip-path=\"url(#clip060)\" d=\"M 0 0 M245.841 284.316 L249.921 284.316 L249.921 285.3 L244.435 285.3 L244.435 284.316 Q245.1 283.628 246.246 282.47 Q247.398 281.307 247.693 280.971 Q248.254 280.341 248.474 279.906 Q248.7 279.467 248.7 279.044 Q248.7 278.356 248.214 277.922 Q247.733 277.488 246.958 277.488 Q246.408 277.488 245.795 277.678 Q245.187 277.869 244.493 278.257 L244.493 277.077 Q245.199 276.793 245.812 276.648 Q246.425 276.504 246.935 276.504 Q248.277 276.504 249.076 277.175 Q249.875 277.846 249.875 278.969 Q249.875 279.501 249.672 279.982 Q249.475 280.456 248.949 281.104 Q248.804 281.272 248.028 282.077 Q247.253 282.875 245.841 284.316 Z\" fill=\"#000000\" fill-rule=\"evenodd\" fill-opacity=\"1\" /><path clip-path=\"url(#clip060)\" d=\"M 0 0 M251.2 276.66 L255.789 276.66 L255.789 277.644 L252.27 277.644 L252.27 279.762 Q252.525 279.675 252.78 279.634 Q253.034 279.588 253.289 279.588 Q254.736 279.588 255.58 280.381 Q256.425 281.174 256.425 282.528 Q256.425 283.923 255.557 284.698 Q254.689 285.468 253.109 285.468 Q252.565 285.468 251.998 285.375 Q251.437 285.283 250.835 285.097 L250.835 283.923 Q251.356 284.206 251.912 284.345 Q252.467 284.484 253.086 284.484 Q254.087 284.484 254.672 283.957 Q255.256 283.431 255.256 282.528 Q255.256 281.625 254.672 281.099 Q254.087 280.572 253.086 280.572 Q252.618 280.572 252.149 280.676 Q251.686 280.78 251.2 281 L251.2 276.66 Z\" fill=\"#000000\" fill-rule=\"evenodd\" fill-opacity=\"1\" /><path clip-path=\"url(#clip060)\" d=\"M 0 0 M411.747 277.43 Q410.844 277.43 410.387 278.321 Q409.935 279.206 409.935 280.989 Q409.935 282.765 410.387 283.656 Q410.844 284.542 411.747 284.542 Q412.655 284.542 413.107 283.656 Q413.564 282.765 413.564 280.989 Q413.564 279.206 413.107 278.321 Q412.655 277.43 411.747 277.43 M411.747 276.504 Q413.199 276.504 413.963 277.655 Q414.733 278.801 414.733 280.989 Q414.733 283.17 413.963 284.322 Q413.199 285.468 411.747 285.468 Q410.294 285.468 409.525 284.322 Q408.761 283.17 408.761 280.989 Q408.761 278.801 409.525 277.655 Q410.294 276.504 411.747 276.504 Z\" fill=\"#000000\" fill-rule=\"evenodd\" fill-opacity=\"1\" /><path clip-path=\"url(#clip060)\" d=\"M 0 0 M416 283.83 L417.221 283.83 L417.221 285.3 L416 285.3 L416 283.83 Z\" fill=\"#000000\" fill-rule=\"evenodd\" fill-opacity=\"1\" /><path clip-path=\"url(#clip060)\" d=\"M 0 0 M418.5 276.66 L423.089 276.66 L423.089 277.644 L419.571 277.644 L419.571 279.762 Q419.825 279.675 420.08 279.634 Q420.335 279.588 420.589 279.588 Q422.036 279.588 422.881 280.381 Q423.726 281.174 423.726 282.528 Q423.726 283.923 422.858 284.698 Q421.99 285.468 420.41 285.468 Q419.866 285.468 419.299 285.375 Q418.737 285.283 418.136 285.097 L418.136 283.923 Q418.656 284.206 419.212 284.345 Q419.768 284.484 420.387 284.484 Q421.388 284.484 421.972 283.957 Q422.557 283.431 422.557 282.528 Q422.557 281.625 421.972 281.099 Q421.388 280.572 420.387 280.572 Q419.918 280.572 419.449 280.676 Q418.986 280.78 418.5 281 L418.5 276.66 Z\" fill=\"#000000\" fill-rule=\"evenodd\" fill-opacity=\"1\" /><path clip-path=\"url(#clip060)\" d=\"M 0 0 M427.493 277.43 Q426.59 277.43 426.133 278.321 Q425.682 279.206 425.682 280.989 Q425.682 282.765 426.133 283.656 Q426.59 284.542 427.493 284.542 Q428.402 284.542 428.853 283.656 Q429.31 282.765 429.31 280.989 Q429.31 279.206 428.853 278.321 Q428.402 277.43 427.493 277.43 M427.493 276.504 Q428.946 276.504 429.71 277.655 Q430.479 278.801 430.479 280.989 Q430.479 283.17 429.71 284.322 Q428.946 285.468 427.493 285.468 Q426.041 285.468 425.271 284.322 Q424.507 283.17 424.507 280.989 Q424.507 278.801 425.271 277.655 Q426.041 276.504 427.493 276.504 Z\" fill=\"#000000\" fill-rule=\"evenodd\" fill-opacity=\"1\" /><path clip-path=\"url(#clip060)\" d=\"M 0 0 M585.714 277.43 Q584.811 277.43 584.354 278.321 Q583.903 279.206 583.903 280.989 Q583.903 282.765 584.354 283.656 Q584.811 284.542 585.714 284.542 Q586.622 284.542 587.074 283.656 Q587.531 282.765 587.531 280.989 Q587.531 279.206 587.074 278.321 Q586.622 277.43 585.714 277.43 M585.714 276.504 Q587.166 276.504 587.93 277.655 Q588.7 278.801 588.7 280.989 Q588.7 283.17 587.93 284.322 Q587.166 285.468 585.714 285.468 Q584.261 285.468 583.492 284.322 Q582.728 283.17 582.728 280.989 Q582.728 278.801 583.492 277.655 Q584.261 276.504 585.714 276.504 Z\" fill=\"#000000\" fill-rule=\"evenodd\" fill-opacity=\"1\" /><path clip-path=\"url(#clip060)\" d=\"M 0 0 M589.967 283.83 L591.188 283.83 L591.188 285.3 L589.967 285.3 L589.967 283.83 Z\" fill=\"#000000\" fill-rule=\"evenodd\" fill-opacity=\"1\" /><path clip-path=\"url(#clip060)\" d=\"M 0 0 M592.161 276.66 L597.716 276.66 L597.716 277.158 L594.58 285.3 L593.359 285.3 L596.31 277.644 L592.161 277.644 L592.161 276.66 Z\" fill=\"#000000\" fill-rule=\"evenodd\" fill-opacity=\"1\" /><path clip-path=\"url(#clip060)\" d=\"M 0 0 M598.995 276.66 L603.584 276.66 L603.584 277.644 L600.066 277.644 L600.066 279.762 Q600.32 279.675 600.575 279.634 Q600.83 279.588 601.084 279.588 Q602.531 279.588 603.376 280.381 Q604.221 281.174 604.221 282.528 Q604.221 283.923 603.353 284.698 Q602.485 285.468 600.905 285.468 Q600.361 285.468 599.794 285.375 Q599.232 285.283 598.63 285.097 L598.63 283.923 Q599.151 284.206 599.707 284.345 Q600.262 284.484 600.882 284.484 Q601.883 284.484 602.467 283.957 Q603.052 283.431 603.052 282.528 Q603.052 281.625 602.467 281.099 Q601.883 280.572 600.882 280.572 Q600.413 280.572 599.944 280.676 Q599.481 280.78 598.995 281 L598.995 276.66 Z\" fill=\"#000000\" fill-rule=\"evenodd\" fill-opacity=\"1\" /><path clip-path=\"url(#clip060)\" d=\"M 0 0 M756.926 284.316 L758.836 284.316 L758.836 277.725 L756.759 278.141 L756.759 277.077 L758.825 276.66 L759.994 276.66 L759.994 284.316 L761.903 284.316 L761.903 285.3 L756.926 285.3 L756.926 284.316 Z\" fill=\"#000000\" fill-rule=\"evenodd\" fill-opacity=\"1\" /><path clip-path=\"url(#clip060)\" d=\"M 0 0 M763.171 283.83 L764.392 283.83 L764.392 285.3 L763.171 285.3 L763.171 283.83 Z\" fill=\"#000000\" fill-rule=\"evenodd\" fill-opacity=\"1\" /><path clip-path=\"url(#clip060)\" d=\"M 0 0 M768.159 277.43 Q767.256 277.43 766.799 278.321 Q766.348 279.206 766.348 280.989 Q766.348 282.765 766.799 283.656 Q767.256 284.542 768.159 284.542 Q769.068 284.542 769.519 283.656 Q769.976 282.765 769.976 280.989 Q769.976 279.206 769.519 278.321 Q769.068 277.43 768.159 277.43 M768.159 276.504 Q769.612 276.504 770.375 277.655 Q771.145 278.801 771.145 280.989 Q771.145 283.17 770.375 284.322 Q769.612 285.468 768.159 285.468 Q766.706 285.468 765.937 284.322 Q765.173 283.17 765.173 280.989 Q765.173 278.801 765.937 277.655 Q766.706 276.504 768.159 276.504 Z\" fill=\"#000000\" fill-rule=\"evenodd\" fill-opacity=\"1\" /><path clip-path=\"url(#clip060)\" d=\"M 0 0 M774.912 277.43 Q774.01 277.43 773.552 278.321 Q773.101 279.206 773.101 280.989 Q773.101 282.765 773.552 283.656 Q774.01 284.542 774.912 284.542 Q775.821 284.542 776.272 283.656 Q776.73 282.765 776.73 280.989 Q776.73 279.206 776.272 278.321 Q775.821 277.43 774.912 277.43 M774.912 276.504 Q776.365 276.504 777.129 277.655 Q777.899 278.801 777.899 280.989 Q777.899 283.17 777.129 284.322 Q776.365 285.468 774.912 285.468 Q773.46 285.468 772.69 284.322 Q771.926 283.17 771.926 280.989 Q771.926 278.801 772.69 277.655 Q773.46 276.504 774.912 276.504 Z\" fill=\"#000000\" fill-rule=\"evenodd\" fill-opacity=\"1\" /><polyline clip-path=\"url(#clip062)\" style=\"stroke:#000000; stroke-width:0.5; stroke-opacity:0.1; fill:none\" points=\"\n",
       "  51.1206,249.141 788.189,249.141 \n",
       "  \"/>\n",
       "<polyline clip-path=\"url(#clip062)\" style=\"stroke:#000000; stroke-width:0.5; stroke-opacity:0.1; fill:none\" points=\"\n",
       "  51.1206,196.558 788.189,196.558 \n",
       "  \"/>\n",
       "<polyline clip-path=\"url(#clip062)\" style=\"stroke:#000000; stroke-width:0.5; stroke-opacity:0.1; fill:none\" points=\"\n",
       "  51.1206,143.974 788.189,143.974 \n",
       "  \"/>\n",
       "<polyline clip-path=\"url(#clip062)\" style=\"stroke:#000000; stroke-width:0.5; stroke-opacity:0.1; fill:none\" points=\"\n",
       "  51.1206,91.3902 788.189,91.3902 \n",
       "  \"/>\n",
       "<polyline clip-path=\"url(#clip062)\" style=\"stroke:#000000; stroke-width:0.5; stroke-opacity:0.1; fill:none\" points=\"\n",
       "  51.1206,38.8065 788.189,38.8065 \n",
       "  \"/>\n",
       "<polyline clip-path=\"url(#clip060)\" style=\"stroke:#000000; stroke-width:1; stroke-opacity:1; fill:none\" points=\"\n",
       "  51.1206,268.532 51.1206,11.811 \n",
       "  \"/>\n",
       "<polyline clip-path=\"url(#clip060)\" style=\"stroke:#000000; stroke-width:1; stroke-opacity:1; fill:none\" points=\"\n",
       "  51.1206,249.141 59.9654,249.141 \n",
       "  \"/>\n",
       "<polyline clip-path=\"url(#clip060)\" style=\"stroke:#000000; stroke-width:1; stroke-opacity:1; fill:none\" points=\"\n",
       "  51.1206,196.558 59.9654,196.558 \n",
       "  \"/>\n",
       "<polyline clip-path=\"url(#clip060)\" style=\"stroke:#000000; stroke-width:1; stroke-opacity:1; fill:none\" points=\"\n",
       "  51.1206,143.974 59.9654,143.974 \n",
       "  \"/>\n",
       "<polyline clip-path=\"url(#clip060)\" style=\"stroke:#000000; stroke-width:1; stroke-opacity:1; fill:none\" points=\"\n",
       "  51.1206,91.3902 59.9654,91.3902 \n",
       "  \"/>\n",
       "<polyline clip-path=\"url(#clip060)\" style=\"stroke:#000000; stroke-width:1; stroke-opacity:1; fill:none\" points=\"\n",
       "  51.1206,38.8065 59.9654,38.8065 \n",
       "  \"/>\n",
       "<path clip-path=\"url(#clip060)\" d=\"M 0 0 M12.1473 249.254 L19.5663 249.254 L19.5663 250.238 L12.1473 250.238 L12.1473 249.254 Z\" fill=\"#000000\" fill-rule=\"evenodd\" fill-opacity=\"1\" /><path clip-path=\"url(#clip060)\" d=\"M 0 0 M21.0362 252.477 L22.9459 252.477 L22.9459 245.886 L20.8684 246.303 L20.8684 245.238 L22.9343 244.821 L24.1033 244.821 L24.1033 252.477 L26.013 252.477 L26.013 253.461 L21.0362 253.461 L21.0362 252.477 Z\" fill=\"#000000\" fill-rule=\"evenodd\" fill-opacity=\"1\" /><path clip-path=\"url(#clip060)\" d=\"M 0 0 M28.2873 252.477 L32.3671 252.477 L32.3671 253.461 L26.8811 253.461 L26.8811 252.477 Q27.5466 251.789 28.6924 250.631 Q29.844 249.468 30.1391 249.133 Q30.7005 248.502 30.9204 248.068 Q31.1461 247.628 31.1461 247.206 Q31.1461 246.517 30.66 246.083 Q30.1796 245.649 29.4042 245.649 Q28.8544 245.649 28.241 245.84 Q27.6334 246.031 26.9389 246.418 L26.9389 245.238 Q27.6449 244.954 28.2584 244.81 Q28.8718 244.665 29.381 244.665 Q30.7236 244.665 31.5222 245.336 Q32.3208 246.008 32.3208 247.13 Q32.3208 247.663 32.1183 248.143 Q31.9215 248.618 31.3949 249.266 Q31.2502 249.434 30.4748 250.238 Q29.6993 251.037 28.2873 252.477 Z\" fill=\"#000000\" fill-rule=\"evenodd\" fill-opacity=\"1\" /><path clip-path=\"url(#clip060)\" d=\"M 0 0 M36.1345 245.591 Q35.2317 245.591 34.7745 246.482 Q34.3231 247.368 34.3231 249.15 Q34.3231 250.927 34.7745 251.818 Q35.2317 252.703 36.1345 252.703 Q37.043 252.703 37.4944 251.818 Q37.9516 250.927 37.9516 249.15 Q37.9516 247.368 37.4944 246.482 Q37.043 245.591 36.1345 245.591 M36.1345 244.665 Q37.587 244.665 38.3509 245.817 Q39.1206 246.962 39.1206 249.15 Q39.1206 251.332 38.3509 252.483 Q37.587 253.629 36.1345 253.629 Q34.6819 253.629 33.9123 252.483 Q33.1484 251.332 33.1484 249.15 Q33.1484 246.962 33.9123 245.817 Q34.6819 244.665 36.1345 244.665 Z\" fill=\"#000000\" fill-rule=\"evenodd\" fill-opacity=\"1\" /><path clip-path=\"url(#clip060)\" d=\"M 0 0 M11.748 196.67 L19.167 196.67 L19.167 197.654 L11.748 197.654 L11.748 196.67 Z\" fill=\"#000000\" fill-rule=\"evenodd\" fill-opacity=\"1\" /><path clip-path=\"url(#clip060)\" d=\"M 0 0 M20.6369 199.894 L22.5466 199.894 L22.5466 193.302 L20.469 193.719 L20.469 192.654 L22.535 192.238 L23.704 192.238 L23.704 199.894 L25.6137 199.894 L25.6137 200.878 L20.6369 200.878 L20.6369 199.894 Z\" fill=\"#000000\" fill-rule=\"evenodd\" fill-opacity=\"1\" /><path clip-path=\"url(#clip060)\" d=\"M 0 0 M29.381 193.007 Q28.4783 193.007 28.0211 193.898 Q27.5697 194.784 27.5697 196.566 Q27.5697 198.343 28.0211 199.234 Q28.4783 200.119 29.381 200.119 Q30.2896 200.119 30.741 199.234 Q31.1982 198.343 31.1982 196.566 Q31.1982 194.784 30.741 193.898 Q30.2896 193.007 29.381 193.007 M29.381 192.081 Q30.8336 192.081 31.5975 193.233 Q32.3671 194.379 32.3671 196.566 Q32.3671 198.748 31.5975 199.9 Q30.8336 201.045 29.381 201.045 Q27.9285 201.045 27.1588 199.9 Q26.3949 198.748 26.3949 196.566 Q26.3949 194.379 27.1588 193.233 Q27.9285 192.081 29.381 192.081 Z\" fill=\"#000000\" fill-rule=\"evenodd\" fill-opacity=\"1\" /><path clip-path=\"url(#clip060)\" d=\"M 0 0 M36.1345 193.007 Q35.2317 193.007 34.7745 193.898 Q34.3231 194.784 34.3231 196.566 Q34.3231 198.343 34.7745 199.234 Q35.2317 200.119 36.1345 200.119 Q37.043 200.119 37.4944 199.234 Q37.9516 198.343 37.9516 196.566 Q37.9516 194.784 37.4944 193.898 Q37.043 193.007 36.1345 193.007 M36.1345 192.081 Q37.587 192.081 38.3509 193.233 Q39.1206 194.379 39.1206 196.566 Q39.1206 198.748 38.3509 199.9 Q37.587 201.045 36.1345 201.045 Q34.6819 201.045 33.9123 199.9 Q33.1484 198.748 33.1484 196.566 Q33.1484 194.379 33.9123 193.233 Q34.6819 192.081 36.1345 192.081 Z\" fill=\"#000000\" fill-rule=\"evenodd\" fill-opacity=\"1\" /><path clip-path=\"url(#clip060)\" d=\"M 0 0 M18.2179 144.087 L25.6368 144.087 L25.6368 145.071 L18.2179 145.071 L18.2179 144.087 Z\" fill=\"#000000\" fill-rule=\"evenodd\" fill-opacity=\"1\" /><path clip-path=\"url(#clip060)\" d=\"M 0 0 M29.4042 144.191 Q28.5709 144.191 28.0905 144.637 Q27.616 145.082 27.616 145.863 Q27.616 146.645 28.0905 147.09 Q28.5709 147.536 29.4042 147.536 Q30.2375 147.536 30.7178 147.09 Q31.1982 146.639 31.1982 145.863 Q31.1982 145.082 30.7178 144.637 Q30.2433 144.191 29.4042 144.191 M28.2352 143.693 Q27.4829 143.508 27.0604 142.993 Q26.6438 142.478 26.6438 141.737 Q26.6438 140.701 27.3787 140.1 Q28.1195 139.498 29.4042 139.498 Q30.6947 139.498 31.4296 140.1 Q32.1646 140.701 32.1646 141.737 Q32.1646 142.478 31.7421 142.993 Q31.3255 143.508 30.5789 143.693 Q31.4239 143.89 31.8926 144.463 Q32.3671 145.036 32.3671 145.863 Q32.3671 147.119 31.5975 147.79 Q30.8336 148.462 29.4042 148.462 Q27.9748 148.462 27.2051 147.79 Q26.4412 147.119 26.4412 145.863 Q26.4412 145.036 26.9158 144.463 Q27.3903 143.89 28.2352 143.693 M27.807 141.847 Q27.807 142.518 28.2236 142.895 Q28.6461 143.271 29.4042 143.271 Q30.1565 143.271 30.5789 142.895 Q31.0072 142.518 31.0072 141.847 Q31.0072 141.176 30.5789 140.8 Q30.1565 140.424 29.4042 140.424 Q28.6461 140.424 28.2236 140.8 Q27.807 141.176 27.807 141.847 Z\" fill=\"#000000\" fill-rule=\"evenodd\" fill-opacity=\"1\" /><path clip-path=\"url(#clip060)\" d=\"M 0 0 M36.1345 140.424 Q35.2317 140.424 34.7745 141.315 Q34.3231 142.2 34.3231 143.983 Q34.3231 145.759 34.7745 146.65 Q35.2317 147.536 36.1345 147.536 Q37.043 147.536 37.4944 146.65 Q37.9516 145.759 37.9516 143.983 Q37.9516 142.2 37.4944 141.315 Q37.043 140.424 36.1345 140.424 M36.1345 139.498 Q37.587 139.498 38.3509 140.649 Q39.1206 141.795 39.1206 143.983 Q39.1206 146.164 38.3509 147.316 Q37.587 148.462 36.1345 148.462 Q34.6819 148.462 33.9123 147.316 Q33.1484 146.164 33.1484 143.983 Q33.1484 141.795 33.9123 140.649 Q34.6819 139.498 36.1345 139.498 Z\" fill=\"#000000\" fill-rule=\"evenodd\" fill-opacity=\"1\" /><path clip-path=\"url(#clip060)\" d=\"M 0 0 M18.1542 91.5031 L25.5732 91.5031 L25.5732 92.4869 L18.1542 92.4869 L18.1542 91.5031 Z\" fill=\"#000000\" fill-rule=\"evenodd\" fill-opacity=\"1\" /><path clip-path=\"url(#clip060)\" d=\"M 0 0 M29.4852 90.9244 Q28.6982 90.9244 28.2352 91.4626 Q27.778 92.0008 27.778 92.9382 Q27.778 93.87 28.2352 94.4139 Q28.6982 94.9521 29.4852 94.9521 Q30.2722 94.9521 30.7294 94.4139 Q31.1924 93.87 31.1924 92.9382 Q31.1924 92.0008 30.7294 91.4626 Q30.2722 90.9244 29.4852 90.9244 M31.8058 87.2612 L31.8058 88.326 Q31.366 88.1177 30.9146 88.0077 Q30.469 87.8978 30.0292 87.8978 Q28.8718 87.8978 28.2584 88.679 Q27.6507 89.4603 27.5639 91.0401 Q27.9054 90.5366 28.4204 90.2704 Q28.9354 89.9985 29.5546 89.9985 Q30.8567 89.9985 31.609 90.7913 Q32.3671 91.5783 32.3671 92.9382 Q32.3671 94.2693 31.5801 95.0737 Q30.7931 95.878 29.4852 95.878 Q27.9864 95.878 27.1936 94.7322 Q26.4007 93.5806 26.4007 91.3989 Q26.4007 89.3503 27.3729 88.135 Q28.3452 86.914 29.9829 86.914 Q30.4227 86.914 30.8683 87.0008 Q31.3197 87.0876 31.8058 87.2612 Z\" fill=\"#000000\" fill-rule=\"evenodd\" fill-opacity=\"1\" /><path clip-path=\"url(#clip060)\" d=\"M 0 0 M36.1345 87.8399 Q35.2317 87.8399 34.7745 88.7311 Q34.3231 89.6165 34.3231 91.3989 Q34.3231 93.1755 34.7745 94.0667 Q35.2317 94.9521 36.1345 94.9521 Q37.043 94.9521 37.4944 94.0667 Q37.9516 93.1755 37.9516 91.3989 Q37.9516 89.6165 37.4944 88.7311 Q37.043 87.8399 36.1345 87.8399 M36.1345 86.914 Q37.587 86.914 38.3509 88.0656 Q39.1206 89.2114 39.1206 91.3989 Q39.1206 93.5806 38.3509 94.7322 Q37.587 95.878 36.1345 95.878 Q34.6819 95.878 33.9123 94.7322 Q33.1484 93.5806 33.1484 91.3989 Q33.1484 89.2114 33.9123 88.0656 Q34.6819 86.914 36.1345 86.914 Z\" fill=\"#000000\" fill-rule=\"evenodd\" fill-opacity=\"1\" /><path clip-path=\"url(#clip060)\" d=\"M 0 0 M18.0732 38.9194 L25.4922 38.9194 L25.4922 39.9032 L18.0732 39.9032 L18.0732 38.9194 Z\" fill=\"#000000\" fill-rule=\"evenodd\" fill-opacity=\"1\" /><path clip-path=\"url(#clip060)\" d=\"M 0 0 M29.9713 35.5051 L27.0199 40.1173 L29.9713 40.1173 L29.9713 35.5051 M29.6646 34.4865 L31.1345 34.4865 L31.1345 40.1173 L32.3671 40.1173 L32.3671 41.0895 L31.1345 41.0895 L31.1345 43.1265 L29.9713 43.1265 L29.9713 41.0895 L26.0709 41.0895 L26.0709 39.9611 L29.6646 34.4865 Z\" fill=\"#000000\" fill-rule=\"evenodd\" fill-opacity=\"1\" /><path clip-path=\"url(#clip060)\" d=\"M 0 0 M36.1345 35.2562 Q35.2317 35.2562 34.7745 36.1474 Q34.3231 37.0328 34.3231 38.8152 Q34.3231 40.5918 34.7745 41.483 Q35.2317 42.3684 36.1345 42.3684 Q37.043 42.3684 37.4944 41.483 Q37.9516 40.5918 37.9516 38.8152 Q37.9516 37.0328 37.4944 36.1474 Q37.043 35.2562 36.1345 35.2562 M36.1345 34.3303 Q37.587 34.3303 38.3509 35.4819 Q39.1206 36.6277 39.1206 38.8152 Q39.1206 40.9969 38.3509 42.1485 Q37.587 43.2944 36.1345 43.2944 Q34.6819 43.2944 33.9123 42.1485 Q33.1484 40.9969 33.1484 38.8152 Q33.1484 36.6277 33.9123 35.4819 Q34.6819 34.3303 36.1345 34.3303 Z\" fill=\"#000000\" fill-rule=\"evenodd\" fill-opacity=\"1\" /><polyline clip-path=\"url(#clip062)\" style=\"stroke:#009af9; stroke-width:1; stroke-opacity:1; fill:none\" points=\"\n",
       "  71.981,175.794 72.6069,170.017 73.3023,164.541 73.9977,159.612 74.6931,155.176 75.3885,151.184 76.084,147.591 76.7794,144.357 77.4748,141.447 78.1702,138.828 \n",
       "  78.8656,136.471 79.561,134.349 80.2565,132.44 80.9519,130.617 81.6473,128.899 82.3427,127.258 83.0381,125.712 83.7335,124.236 84.429,122.844 85.1244,121.515 \n",
       "  85.8198,120.262 86.5152,119.067 87.2106,117.939 87.906,116.863 88.6015,115.797 89.2969,114.782 89.9923,113.814 90.6877,112.854 91.3831,111.941 92.0786,111.069 \n",
       "  92.774,110.206 93.4694,109.384 94.1648,108.599 94.8602,107.822 95.5556,107.066 96.2511,106.326 96.9465,105.62 97.6419,104.921 98.3373,104.24 99.0327,103.574 \n",
       "  99.7281,102.939 100.424,102.309 101.119,101.697 101.814,101.097 102.51,100.511 103.205,99.9388 103.901,99.3723 104.596,98.8209 105.291,98.2816 105.987,97.7536 \n",
       "  106.682,97.2389 107.378,96.729 108.073,96.2327 108.769,95.7474 109.464,95.268 110.159,94.7928 110.855,94.3296 111.55,93.8707 112.246,93.424 112.941,92.9872 \n",
       "  113.636,92.5558 114.332,92.1281 115.027,91.7112 115.723,91.2982 116.418,90.8929 117.114,90.4909 117.809,90.0978 118.504,89.7095 119.2,89.3246 119.895,88.9494 \n",
       "  120.591,88.5777 121.286,88.2129 121.981,87.8511 122.677,87.4973 123.372,87.1462 124.068,86.7968 124.763,86.4504 125.459,86.1127 126.154,85.7781 126.849,85.4498 \n",
       "  127.545,85.1242 128.24,84.8058 128.936,84.4898 129.631,84.1753 130.326,83.8635 131.022,83.5539 131.717,83.2499 132.413,82.9489 133.108,82.6534 133.804,82.3604 \n",
       "  134.499,82.0738 135.194,81.7894 135.89,81.5063 136.585,81.2257 137.281,80.947 137.976,80.67 138.671,80.3965 139.367,80.1255 140.062,79.8596 140.758,79.5959 \n",
       "  141.453,79.3379 142.149,79.082 142.844,78.8272 143.539,78.5747 144.235,78.3239 144.93,78.0733 145.626,77.824 146.321,77.5778 147.017,77.3339 147.712,77.0946 \n",
       "  148.407,76.8572 149.103,76.6251 149.798,76.3947 150.494,76.1655 151.189,75.9367 151.884,75.7094 152.58,75.4836 153.275,75.2581 153.971,75.0337 154.666,74.8122 \n",
       "  155.362,74.5927 156.057,74.3773 156.752,74.1637 157.448,73.9532 158.143,73.7443 158.839,73.537 159.534,73.3306 160.229,73.1248 160.925,72.9202 161.62,72.717 \n",
       "  162.316,72.514 163.011,72.3121 163.707,72.1127 164.402,71.9151 165.097,71.7203 165.793,71.5265 166.488,71.3342 167.184,71.1448 167.879,70.9568 168.574,70.7702 \n",
       "  169.27,70.5845 169.965,70.3992 170.661,70.2151 171.356,70.0322 172.052,69.8495 172.747,69.6678 173.442,69.4864 174.138,69.3069 174.833,69.1291 175.529,68.9538 \n",
       "  176.224,68.7793 176.919,68.6063 177.615,68.4358 178.31,68.2661 179.006,68.0969 179.701,67.929 180.397,67.7618 181.092,67.5951 181.787,67.4294 182.483,67.2648 \n",
       "  183.178,67.1004 183.874,66.9368 184.569,66.7735 185.264,66.612 185.96,66.452 186.655,66.2926 187.351,66.1348 188.046,65.9778 188.742,65.8221 189.437,65.6686 \n",
       "  190.132,65.5159 190.828,65.3636 191.523,65.2125 192.219,65.0621 192.914,64.9118 193.609,64.7617 194.305,64.6126 195,64.4644 195.696,64.3165 196.391,64.1693 \n",
       "  197.087,64.0223 197.782,63.877 198.477,63.733 199.173,63.5895 199.868,63.4473 200.564,63.3053 201.259,63.164 201.954,63.0238 202.65,62.8858 203.345,62.7483 \n",
       "  204.041,62.6112 204.736,62.4752 205.432,62.3398 206.127,62.2046 206.822,62.0695 207.518,61.9346 208.213,61.8004 208.909,61.6671 209.604,61.5339 210.299,61.4015 \n",
       "  210.995,61.2692 211.69,61.1384 212.386,61.0088 213.081,60.8797 213.777,60.7514 214.472,60.6235 215.167,60.4956 215.863,60.3684 216.558,60.2423 217.254,60.118 \n",
       "  217.949,59.9943 218.644,59.871 219.34,59.7485 220.035,59.6262 220.731,59.5044 221.426,59.3827 222.122,59.2611 222.817,59.1397 223.512,59.0189 224.208,58.8989 \n",
       "  224.903,58.7791 225.599,58.6598 226.294,58.5408 226.989,58.4231 227.685,58.3062 228.38,58.1896 229.076,58.0734 229.771,57.9579 230.467,57.8428 231.162,57.7277 \n",
       "  231.857,57.6133 232.553,57.4997 233.248,57.3878 233.944,57.276 234.639,57.1647 235.334,57.0536 236.03,56.9435 236.725,56.8334 237.421,56.7237 238.116,56.6142 \n",
       "  238.812,56.5047 239.507,56.3955 240.202,56.2868 240.898,56.1788 241.593,56.0709 242.289,55.9636 242.984,55.8563 243.679,55.7492 244.375,55.6432 245.07,55.538 \n",
       "  245.766,55.433 246.461,55.3285 247.157,55.2246 247.852,55.1209 248.547,55.0174 249.243,54.9143 249.938,54.8112 250.634,54.7091 251.329,54.6084 252.024,54.5077 \n",
       "  252.72,54.4075 253.415,54.3076 254.111,54.2084 254.806,54.1092 255.502,54.0101 256.197,53.9114 256.892,53.8128 257.588,53.7144 258.283,53.616 258.979,53.5182 \n",
       "  259.674,53.421 260.369,53.3239 261.065,53.2273 261.76,53.1308 262.456,53.0344 263.151,52.9387 263.847,52.8434 264.542,52.7487 265.237,52.6542 265.933,52.5601 \n",
       "  266.628,52.4666 267.324,52.3733 268.019,52.2801 268.714,52.1873 269.41,52.0946 270.105,52.0023 270.801,51.9104 271.496,51.8197 272.192,51.7292 272.887,51.639 \n",
       "  273.582,51.549 274.278,51.4597 274.973,51.3705 275.669,51.2813 276.364,51.1922 277.059,51.1034 277.755,51.0146 278.45,50.926 279.146,50.8375 279.841,50.7495 \n",
       "  280.537,50.662 281.232,50.5746 281.927,50.4877 282.623,50.4008 283.318,50.314 284.014,50.2278 284.709,50.1417 285.405,50.0559 286.1,49.9707 286.795,49.8857 \n",
       "  287.491,49.801 288.186,49.7168 288.882,49.6329 289.577,49.549 290.272,49.4655 290.968,49.382 291.663,49.2985 292.359,49.2155 293.054,49.1327 293.75,49.0512 \n",
       "  294.445,48.9696 295.14,48.8885 295.836,48.8075 296.531,48.7266 297.227,48.6463 297.922,48.5659 298.617,48.4857 299.313,48.4055 300.008,48.3255 300.704,48.2457 \n",
       "  301.399,48.1659 302.095,48.0863 302.79,48.007 303.485,47.9283 304.181,47.8497 304.876,47.7712 305.572,47.6929 306.267,47.6147 306.962,47.5366 307.658,47.459 \n",
       "  308.353,47.3816 309.049,47.3043 309.744,47.2276 310.44,47.1511 311.135,47.0749 311.83,46.9986 312.526,46.9229 313.221,46.8474 313.917,46.7719 314.612,46.6967 \n",
       "  315.307,46.6216 316.003,46.5465 316.698,46.4717 317.394,46.3973 318.089,46.3232 318.785,46.2498 319.48,46.1764 320.175,46.1033 320.871,46.0305 321.566,45.9577 \n",
       "  322.262,45.8854 322.957,45.8131 323.652,45.7408 324.348,45.6686 325.043,45.5966 325.739,45.5247 326.434,45.4528 327.13,45.381 327.825,45.3093 328.52,45.238 \n",
       "  329.216,45.1672 329.911,45.0964 330.607,45.0257 331.302,44.9553 331.997,44.8849 332.693,44.8146 333.388,44.7445 334.084,44.6747 334.779,44.605 335.475,44.5355 \n",
       "  336.17,44.4664 336.865,44.3976 337.561,44.3289 338.256,44.2604 338.952,44.1921 339.647,44.1239 340.342,44.0559 341.038,43.988 341.733,43.9203 342.429,43.8527 \n",
       "  343.124,43.7851 343.82,43.7178 344.515,43.6508 345.21,43.5841 345.906,43.5176 346.601,43.4515 347.297,43.3855 347.992,43.3197 348.687,43.2542 349.383,43.1886 \n",
       "  350.078,43.1235 350.774,43.0585 351.469,42.9935 352.165,42.9285 352.86,42.8636 353.555,42.7987 354.251,42.734 354.946,42.6693 355.642,42.6047 356.337,42.5402 \n",
       "  357.032,42.476 357.728,42.4122 358.423,42.3485 359.119,42.285 359.814,42.2216 360.51,42.1582 361.205,42.0948 361.9,42.0316 362.596,41.9685 363.291,41.9056 \n",
       "  363.987,41.8429 364.682,41.7803 365.377,41.7182 366.073,41.6562 366.768,41.5944 367.464,41.5326 368.159,41.4709 368.855,41.4094 369.55,41.3481 370.245,41.2869 \n",
       "  370.941,41.2257 371.636,41.1648 372.332,41.104 373.027,41.0432 373.722,40.9826 374.418,40.9222 375.113,40.8618 375.809,40.8019 376.504,40.7419 377.2,40.6825 \n",
       "  377.895,40.623 378.59,40.5639 379.286,40.5048 379.981,40.4458 380.677,40.3868 381.372,40.3282 382.067,40.2697 382.763,40.2112 383.458,40.1527 384.154,40.0943 \n",
       "  384.849,40.0359 385.545,39.9776 386.24,39.9194 386.935,39.8613 387.631,39.8032 388.326,39.7454 389.022,39.6876 389.717,39.6303 390.412,39.5729 391.108,39.5157 \n",
       "  391.803,39.4587 392.499,39.4016 393.194,39.3446 393.89,39.2877 394.585,39.2309 395.28,39.1743 395.976,39.1178 396.671,39.0613 397.367,39.005 398.062,38.9491 \n",
       "  398.757,38.8933 399.453,38.8376 400.148,38.7821 400.844,38.7265 401.539,38.6712 402.235,38.6158 402.93,38.5606 403.625,38.5055 404.321,38.4505 405.016,38.3957 \n",
       "  405.712,38.3409 406.407,38.2862 407.102,38.2317 407.798,38.1773 408.493,38.123 409.189,38.0688 409.884,38.0148 410.58,37.9609 411.275,37.9074 411.97,37.8539 \n",
       "  412.666,37.8006 413.361,37.7475 414.057,37.6943 414.752,37.6412 415.447,37.5881 416.143,37.5354 416.838,37.4827 417.534,37.4301 418.229,37.3774 418.925,37.3249 \n",
       "  419.62,37.2723 420.315,37.2199 421.011,37.1675 421.706,37.1152 422.402,37.0629 423.097,37.0108 423.793,36.9588 424.488,36.9068 425.183,36.8552 425.879,36.8036 \n",
       "  426.574,36.7521 427.27,36.7008 427.965,36.6494 428.66,36.5981 429.356,36.5469 430.051,36.4958 430.747,36.4447 431.442,36.3938 432.138,36.3429 432.833,36.2921 \n",
       "  433.528,36.2414 434.224,36.1911 434.919,36.1409 435.615,36.0908 436.31,36.0407 437.005,35.9907 437.701,35.9407 438.396,35.8909 439.092,35.8411 439.787,35.7914 \n",
       "  440.483,35.7418 441.178,35.6923 441.873,35.643 442.569,35.5937 443.264,35.5444 443.96,35.4953 444.655,35.4462 445.35,35.3973 446.046,35.3484 446.741,35.2996 \n",
       "  447.437,35.251 448.132,35.2025 448.828,35.1542 449.523,35.1061 450.218,35.0579 450.914,35.01 451.609,34.9621 452.305,34.9143 453,34.8665 453.695,34.8188 \n",
       "  454.391,34.7713 455.086,34.7239 455.782,34.6765 456.477,34.6291 457.173,34.5818 457.868,34.5344 458.563,34.4872 459.259,34.44 459.954,34.3928 460.65,34.3457 \n",
       "  461.345,34.2987 462.04,34.2518 462.736,34.205 463.431,34.1582 464.127,34.1117 464.822,34.0652 465.518,34.0188 466.213,33.9724 466.908,33.9262 467.604,33.88 \n",
       "  468.299,33.8338 468.995,33.7877 469.69,33.7417 470.385,33.6958 471.081,33.65 471.776,33.6042 472.472,33.5584 473.167,33.5127 473.863,33.4671 474.558,33.4218 \n",
       "  475.253,33.3766 475.949,33.3315 476.644,33.2864 477.34,33.2414 478.035,33.1964 478.73,33.1515 479.426,33.1066 480.121,33.0618 480.817,33.0171 481.512,32.9725 \n",
       "  482.208,32.9279 482.903,32.8835 483.598,32.8392 484.294,32.7948 484.989,32.7506 485.685,32.7064 486.38,32.6623 487.075,32.6182 487.771,32.5742 488.466,32.5303 \n",
       "  489.162,32.4866 489.857,32.4429 490.553,32.3994 491.248,32.356 491.943,32.3127 492.639,32.2693 493.334,32.2262 494.03,32.1831 494.725,32.1401 495.42,32.0971 \n",
       "  496.116,32.0541 496.811,32.0114 497.507,31.9686 498.202,31.926 498.898,31.8833 499.593,31.8407 500.288,31.798 500.984,31.7554 501.679,31.7129 502.375,31.6704 \n",
       "  503.07,31.628 503.765,31.5856 504.461,31.5433 505.156,31.5011 505.852,31.459 506.547,31.4169 507.243,31.3748 507.938,31.3329 508.633,31.2911 509.329,31.2493 \n",
       "  510.024,31.2076 510.72,31.166 511.415,31.1244 512.11,31.0828 512.806,31.0413 513.501,30.9999 514.197,30.9585 514.892,30.9172 515.588,30.8759 516.283,30.8347 \n",
       "  516.978,30.7936 517.674,30.7524 518.369,30.7114 519.065,30.6706 519.76,30.6298 520.455,30.5892 521.151,30.5486 521.846,30.508 522.542,30.4675 523.237,30.427 \n",
       "  523.933,30.3865 524.628,30.3462 525.323,30.3059 526.019,30.2656 526.714,30.2255 527.41,30.1853 528.105,30.1452 528.8,30.1053 529.496,30.0653 530.191,30.0254 \n",
       "  530.887,29.9856 531.582,29.9458 532.278,29.9061 532.973,29.8665 533.668,29.8269 534.364,29.7873 535.059,29.7478 535.755,29.7085 536.45,29.6692 537.145,29.63 \n",
       "  537.841,29.591 538.536,29.5519 539.232,29.513 539.927,29.474 540.623,29.4352 541.318,29.3964 542.013,29.3577 542.709,29.319 543.404,29.2803 544.1,29.2418 \n",
       "  544.795,29.2034 545.49,29.165 546.186,29.1266 546.881,29.0882 547.577,29.0498 548.272,29.0114 548.968,28.9731 549.663,28.9348 550.358,28.8966 551.054,28.8584 \n",
       "  551.749,28.8202 552.445,28.7821 553.14,28.7442 553.836,28.7063 554.531,28.6684 555.226,28.6305 555.922,28.5927 556.617,28.555 557.313,28.5173 558.008,28.4797 \n",
       "  558.703,28.4422 559.399,28.4048 560.094,28.3673 560.79,28.3299 561.485,28.2926 562.181,28.2553 562.876,28.218 563.571,28.1808 564.267,28.1435 564.962,28.1064 \n",
       "  565.658,28.0693 566.353,28.0323 567.048,27.9953 567.744,27.9583 568.439,27.9215 569.135,27.8848 569.83,27.8482 570.526,27.8116 571.221,27.775 571.916,27.7385 \n",
       "  572.612,27.7021 573.307,27.6656 574.003,27.6292 574.698,27.5929 575.393,27.5566 576.089,27.5203 576.784,27.4841 577.48,27.448 578.175,27.4118 578.871,27.3757 \n",
       "  579.566,27.3398 580.261,27.3038 580.957,27.2679 581.652,27.2321 582.348,27.1963 583.043,27.1605 583.738,27.1248 584.434,27.0891 585.129,27.0535 585.825,27.0179 \n",
       "  586.52,26.9823 587.216,26.9469 587.911,26.9115 588.606,26.8762 589.302,26.841 589.997,26.8059 590.693,26.7707 591.388,26.7356 592.083,26.7006 592.779,26.6656 \n",
       "  593.474,26.6308 594.17,26.5959 594.865,26.5611 595.561,26.5262 596.256,26.4914 596.951,26.4568 597.647,26.4222 598.342,26.3876 599.038,26.3531 599.733,26.3185 \n",
       "  600.428,26.284 601.124,26.2495 601.819,26.215 602.515,26.1805 603.21,26.1461 603.906,26.1117 604.601,26.0773 605.296,26.043 605.992,26.0087 606.687,25.9746 \n",
       "  607.383,25.9404 608.078,25.9063 608.773,25.8723 609.469,25.8382 610.164,25.8043 610.86,25.7704 611.555,25.7365 612.251,25.7026 612.946,25.6688 613.641,25.6352 \n",
       "  614.337,25.6015 615.032,25.5678 615.728,25.5342 616.423,25.5006 617.118,25.4671 617.814,25.4336 618.509,25.4001 619.205,25.3666 619.9,25.3332 620.596,25.2998 \n",
       "  621.291,25.2664 621.986,25.2331 622.682,25.1998 623.377,25.1667 624.073,25.1337 624.768,25.1007 625.463,25.0677 626.159,25.0347 626.854,25.0018 627.55,24.969 \n",
       "  628.245,24.9362 628.941,24.9033 629.636,24.8706 630.331,24.8379 631.027,24.8052 631.722,24.7726 632.418,24.7399 633.113,24.7073 633.808,24.6748 634.504,24.6423 \n",
       "  635.199,24.6098 635.895,24.5774 636.59,24.5451 637.286,24.5128 637.981,24.4805 638.676,24.4483 639.372,24.416 640.067,24.3839 640.763,24.3517 641.458,24.3196 \n",
       "  642.153,24.2875 642.849,24.2555 643.544,24.2235 644.24,24.1916 644.935,24.1597 645.631,24.1279 646.326,24.0961 647.021,24.0644 647.717,24.0328 648.412,24.0012 \n",
       "  649.108,23.9696 649.803,23.938 650.498,23.9065 651.194,23.8751 651.889,23.8437 652.585,23.8123 653.28,23.781 653.976,23.7496 654.671,23.7183 655.366,23.6871 \n",
       "  656.062,23.656 656.757,23.6249 657.453,23.5938 658.148,23.5627 658.843,23.5316 659.539,23.5005 660.234,23.4694 660.93,23.4384 661.625,23.4074 662.321,23.3764 \n",
       "  663.016,23.3454 663.711,23.3145 664.407,23.2836 665.102,23.2528 665.798,23.222 666.493,23.1913 667.188,23.1606 667.884,23.1298 668.579,23.0992 669.275,23.0685 \n",
       "  669.97,23.038 670.666,23.0075 671.361,22.977 672.056,22.9465 672.752,22.9161 673.447,22.8857 674.143,22.8554 674.838,22.8251 675.533,22.7948 676.229,22.7645 \n",
       "  676.924,22.7343 677.62,22.7041 678.315,22.674 679.011,22.6438 679.706,22.6137 680.401,22.5836 681.097,22.5536 681.792,22.5235 682.488,22.4935 683.183,22.4635 \n",
       "  683.878,22.4336 684.574,22.4038 685.269,22.374 685.965,22.3443 686.66,22.3146 687.356,22.2849 688.051,22.2552 688.746,22.2256 689.442,22.1961 690.137,22.1665 \n",
       "  690.833,22.137 691.528,22.1075 692.224,22.0781 692.919,22.0487 693.614,22.0193 694.31,21.9899 695.005,21.9606 695.701,21.9312 696.396,21.9019 697.091,21.8727 \n",
       "  697.787,21.8434 698.482,21.8143 699.178,21.7852 699.873,21.7561 700.569,21.7271 701.264,21.698 701.959,21.669 702.655,21.64 703.35,21.611 704.046,21.5821 \n",
       "  704.741,21.5532 705.436,21.5243 706.132,21.4955 706.827,21.4667 707.523,21.438 708.218,21.4093 708.914,21.3806 709.609,21.3519 710.304,21.3233 711,21.2948 \n",
       "  711.695,21.2663 712.391,21.2379 713.086,21.2095 713.781,21.181 714.477,21.1526 715.172,21.1243 715.868,21.096 716.563,21.0677 717.259,21.0395 717.954,21.0113 \n",
       "  718.649,20.9831 719.345,20.9549 720.04,20.9268 720.736,20.8987 721.431,20.8707 722.126,20.8427 722.822,20.8147 723.517,20.7867 724.213,20.7587 724.908,20.7307 \n",
       "  725.604,20.7028 726.299,20.6748 726.994,20.6469 727.69,20.619 728.385,20.5912 729.081,20.5634 729.776,20.5355 730.471,20.5077 731.167,20.48 731.862,20.4523 \n",
       "  732.558,20.4246 733.253,20.397 733.949,20.3693 734.644,20.3417 735.339,20.3142 736.035,20.2866 736.73,20.2591 737.426,20.2317 738.121,20.2042 738.816,20.1768 \n",
       "  739.512,20.1494 740.207,20.1221 740.903,20.0948 741.598,20.0675 742.294,20.0402 742.989,20.013 743.684,19.9858 744.38,19.9586 745.075,19.9314 745.771,19.9043 \n",
       "  746.466,19.8771 747.161,19.85 747.857,19.8229 748.552,19.7959 749.248,19.7689 749.943,19.7418 750.639,19.7148 751.334,19.6879 752.029,19.6609 752.725,19.6341 \n",
       "  753.42,19.6073 754.116,19.5806 754.811,19.5539 755.506,19.5271 756.202,19.5004 756.897,19.4738 757.593,19.4471 758.288,19.4205 758.984,19.3939 759.679,19.3673 \n",
       "  760.374,19.3408 761.07,19.3143 761.765,19.2879 762.461,19.2614 763.156,19.235 763.851,19.2085 764.547,19.1821 765.242,19.1557 765.938,19.1294 766.633,19.103 \n",
       "  767.329,19.0767 \n",
       "  \"/>\n",
       "<polyline clip-path=\"url(#clip062)\" style=\"stroke:#e26f46; stroke-width:1; stroke-opacity:1; fill:none\" points=\"\n",
       "  71.981,261.266 72.6069,200.727 73.3023,182.503 73.9977,171.843 74.6931,164.279 75.3885,158.412 76.084,153.618 76.7794,149.566 77.4748,146.055 78.1702,142.958 \n",
       "  78.8656,140.188 79.561,137.682 80.2565,135.394 80.9519,133.29 81.6473,131.341 82.3427,129.527 83.0381,127.831 83.7335,126.237 84.429,124.734 85.1244,123.312 \n",
       "  85.8198,121.964 86.5152,120.681 87.2106,119.458 87.906,118.289 88.6015,117.17 89.2969,116.097 89.9923,115.066 90.6877,114.073 91.3831,113.117 92.0786,112.195 \n",
       "  92.774,111.303 93.4694,110.441 94.1648,109.607 94.8602,108.797 95.5556,108.013 96.2511,107.25 96.9465,106.51 97.6419,105.789 98.3373,105.088 99.0327,104.405 \n",
       "  99.7281,103.74 100.424,103.09 101.119,102.457 101.814,101.838 102.51,101.234 103.205,100.643 103.901,100.065 104.596,99.4996 105.291,98.9461 105.987,98.404 \n",
       "  106.682,97.8728 107.378,97.3521 108.073,96.8416 108.769,96.3408 109.464,95.8493 110.159,95.3669 110.855,94.8932 111.55,94.4278 112.246,93.9706 112.941,93.5211 \n",
       "  113.636,93.0792 114.332,92.6446 115.027,92.2171 115.723,91.7964 116.418,91.3824 117.114,90.9748 117.809,90.5733 118.504,90.178 119.2,89.7885 119.895,89.4046 \n",
       "  120.591,89.0263 121.286,88.6534 121.981,88.2857 122.677,87.923 123.372,87.5653 124.068,87.2124 124.763,86.8641 125.459,86.5204 126.154,86.1812 126.849,85.8463 \n",
       "  127.545,85.5155 128.24,85.1889 128.936,84.8663 129.631,84.5476 130.326,84.2328 131.022,83.9216 131.717,83.6141 132.413,83.3101 133.108,83.0097 133.804,82.7126 \n",
       "  134.499,82.4188 135.194,82.1283 135.89,81.8409 136.585,81.5567 137.281,81.2755 137.976,80.9973 138.671,80.722 139.367,80.4495 140.062,80.1798 140.758,79.9129 \n",
       "  141.453,79.6487 142.149,79.3871 142.844,79.128 143.539,78.8715 144.235,78.6175 144.93,78.3659 145.626,78.1167 146.321,77.8698 147.017,77.6252 147.712,77.3829 \n",
       "  148.407,77.1428 149.103,76.9049 149.798,76.6691 150.494,76.4354 151.189,76.2037 151.884,75.9741 152.58,75.7464 153.275,75.5208 153.971,75.297 154.666,75.0751 \n",
       "  155.362,74.8551 156.057,74.6369 156.752,74.4205 157.448,74.2059 158.143,73.993 158.839,73.7818 159.534,73.5723 160.229,73.3645 160.925,73.1583 161.62,72.9537 \n",
       "  162.316,72.7506 163.011,72.5492 163.707,72.3492 164.402,72.1508 165.097,71.9539 165.793,71.7584 166.488,71.5643 167.184,71.3717 167.879,71.1805 168.574,70.9907 \n",
       "  169.27,70.8022 169.965,70.6151 170.661,70.4293 171.356,70.2448 172.052,70.0615 172.747,69.8796 173.442,69.6989 174.138,69.5194 174.833,69.3412 175.529,69.1641 \n",
       "  176.224,68.9883 176.919,68.8136 177.615,68.64 178.31,68.4676 179.006,68.2963 179.701,68.1262 180.397,67.9571 181.092,67.7891 181.787,67.6221 182.483,67.4563 \n",
       "  183.178,67.2914 183.874,67.1276 184.569,66.9648 185.264,66.803 185.96,66.6422 186.655,66.4824 187.351,66.3235 188.046,66.1656 188.742,66.0086 189.437,65.8526 \n",
       "  190.132,65.6975 190.828,65.5433 191.523,65.39 192.219,65.2376 192.914,65.086 193.609,64.9353 194.305,64.7855 195,64.6366 195.696,64.4885 196.391,64.3412 \n",
       "  197.087,64.1947 197.782,64.049 198.477,63.9042 199.173,63.7601 199.868,63.6168 200.564,63.4743 201.259,63.3326 201.954,63.1916 202.65,63.0514 203.345,62.9119 \n",
       "  204.041,62.7732 204.736,62.6351 205.432,62.4978 206.127,62.3613 206.822,62.2254 207.518,62.0902 208.213,61.9557 208.909,61.8219 209.604,61.6888 210.299,61.5564 \n",
       "  210.995,61.4246 211.69,61.2934 212.386,61.163 213.081,61.0331 213.777,60.9039 214.472,60.7753 215.167,60.6474 215.863,60.5201 216.558,60.3934 217.254,60.2673 \n",
       "  217.949,60.1418 218.644,60.0169 219.34,59.8926 220.035,59.7688 220.731,59.6457 221.426,59.5231 222.122,59.4011 222.817,59.2797 223.512,59.1588 224.208,59.0385 \n",
       "  224.903,58.9187 225.599,58.7994 226.294,58.6807 226.989,58.5626 227.685,58.4449 228.38,58.3278 229.076,58.2112 229.771,58.0952 230.467,57.9796 231.162,57.8645 \n",
       "  231.857,57.75 232.553,57.6359 233.248,57.5223 233.944,57.4092 234.639,57.2966 235.334,57.1845 236.03,57.0729 236.725,56.9617 237.421,56.851 238.116,56.7408 \n",
       "  238.812,56.631 239.507,56.5217 240.202,56.4128 240.898,56.3044 241.593,56.1964 242.289,56.0889 242.984,55.9818 243.679,55.8751 244.375,55.7689 245.07,55.6631 \n",
       "  245.766,55.5577 246.461,55.4528 247.157,55.3482 247.852,55.2441 248.547,55.1404 249.243,55.0371 249.938,54.9342 250.634,54.8317 251.329,54.7296 252.024,54.6278 \n",
       "  252.72,54.5265 253.415,54.4256 254.111,54.3251 254.806,54.2249 255.502,54.1251 256.197,54.0257 256.892,53.9267 257.588,53.828 258.283,53.7297 258.979,53.6318 \n",
       "  259.674,53.5343 260.369,53.4371 261.065,53.3402 261.76,53.2437 262.456,53.1476 263.151,53.0518 263.847,52.9564 264.542,52.8613 265.237,52.7666 265.933,52.6722 \n",
       "  266.628,52.5781 267.324,52.4844 268.019,52.391 268.714,52.2979 269.41,52.2051 270.105,52.1127 270.801,52.0206 271.496,51.9289 272.192,51.8374 272.887,51.7463 \n",
       "  273.582,51.6555 274.278,51.565 274.973,51.4748 275.669,51.3849 276.364,51.2953 277.059,51.206 277.755,51.1171 278.45,51.0284 279.146,50.94 279.841,50.8519 \n",
       "  280.537,50.7641 281.232,50.6766 281.927,50.5894 282.623,50.5025 283.318,50.4159 284.014,50.3296 284.709,50.2435 285.405,50.1577 286.1,50.0722 286.795,49.987 \n",
       "  287.491,49.902 288.186,49.8174 288.882,49.733 289.577,49.6488 290.272,49.565 290.968,49.4814 291.663,49.398 292.359,49.315 293.054,49.2321 293.75,49.1496 \n",
       "  294.445,49.0673 295.14,48.9853 295.836,48.9035 296.531,48.822 297.227,48.7407 297.922,48.6597 298.617,48.5789 299.313,48.4984 300.008,48.4181 300.704,48.3381 \n",
       "  301.399,48.2583 302.095,48.1787 302.79,48.0994 303.485,48.0203 304.181,47.9415 304.876,47.8629 305.572,47.7845 306.267,47.7064 306.962,47.6285 307.658,47.5508 \n",
       "  308.353,47.4734 309.049,47.3962 309.744,47.3192 310.44,47.2424 311.135,47.1659 311.83,47.0895 312.526,47.0134 313.221,46.9376 313.917,46.8619 314.612,46.7865 \n",
       "  315.307,46.7112 316.003,46.6362 316.698,46.5614 317.394,46.4868 318.089,46.4125 318.785,46.3383 319.48,46.2643 320.175,46.1906 320.871,46.117 321.566,46.0437 \n",
       "  322.262,45.9706 322.957,45.8976 323.652,45.8249 324.348,45.7524 325.043,45.68 325.739,45.6079 326.434,45.536 327.13,45.4642 327.825,45.3927 328.52,45.3214 \n",
       "  329.216,45.2502 329.911,45.1792 330.607,45.1085 331.302,45.0379 331.997,44.9675 332.693,44.8973 333.388,44.8273 334.084,44.7574 334.779,44.6878 335.475,44.6183 \n",
       "  336.17,44.549 336.865,44.4799 337.561,44.411 338.256,44.3423 338.952,44.2737 339.647,44.2054 340.342,44.1372 341.038,44.0691 341.733,44.0013 342.429,43.9336 \n",
       "  343.124,43.8661 343.82,43.7988 344.515,43.7316 345.21,43.6646 345.906,43.5978 346.601,43.5312 347.297,43.4647 347.992,43.3984 348.687,43.3322 349.383,43.2663 \n",
       "  350.078,43.2004 350.774,43.1348 351.469,43.0693 352.165,43.004 352.86,42.9388 353.555,42.8738 354.251,42.809 354.946,42.7443 355.642,42.6798 356.337,42.6154 \n",
       "  357.032,42.5512 357.728,42.4872 358.423,42.4233 359.119,42.3596 359.814,42.296 360.51,42.2325 361.205,42.1693 361.9,42.1061 362.596,42.0432 363.291,41.9803 \n",
       "  363.987,41.9177 364.682,41.8551 365.377,41.7928 366.073,41.7305 366.768,41.6685 367.464,41.6065 368.159,41.5447 368.855,41.4831 369.55,41.4216 370.245,41.3602 \n",
       "  370.941,41.299 371.636,41.2379 372.332,41.177 373.027,41.1162 373.722,41.0556 374.418,40.995 375.113,40.9347 375.809,40.8744 376.504,40.8143 377.2,40.7544 \n",
       "  377.895,40.6946 378.59,40.6349 379.286,40.5753 379.981,40.5159 380.677,40.4566 381.372,40.3975 382.067,40.3385 382.763,40.2796 383.458,40.2208 384.154,40.1622 \n",
       "  384.849,40.1037 385.545,40.0454 386.24,39.9871 386.935,39.929 387.631,39.871 388.326,39.8132 389.022,39.7555 389.717,39.6979 390.412,39.6404 391.108,39.5831 \n",
       "  391.803,39.5258 392.499,39.4688 393.194,39.4118 393.89,39.3549 394.585,39.2982 395.28,39.2416 395.976,39.1851 396.671,39.1288 397.367,39.0725 398.062,39.0164 \n",
       "  398.757,38.9604 399.453,38.9045 400.148,38.8488 400.844,38.7931 401.539,38.7376 402.235,38.6822 402.93,38.6269 403.625,38.5717 404.321,38.5167 405.016,38.4617 \n",
       "  405.712,38.4069 406.407,38.3522 407.102,38.2976 407.798,38.2431 408.493,38.1887 409.189,38.1344 409.884,38.0803 410.58,38.0262 411.275,37.9723 411.97,37.9185 \n",
       "  412.666,37.8648 413.361,37.8112 414.057,37.7577 414.752,37.7043 415.447,37.651 416.143,37.5978 416.838,37.5448 417.534,37.4918 418.229,37.439 418.925,37.3862 \n",
       "  419.62,37.3336 420.315,37.2811 421.011,37.2286 421.706,37.1763 422.402,37.1241 423.097,37.072 423.793,37.02 424.488,36.9681 425.183,36.9163 425.879,36.8645 \n",
       "  426.574,36.8129 427.27,36.7614 427.965,36.71 428.66,36.6587 429.356,36.6075 430.051,36.5564 430.747,36.5054 431.442,36.4545 432.138,36.4037 432.833,36.353 \n",
       "  433.528,36.3024 434.224,36.2519 434.919,36.2015 435.615,36.1512 436.31,36.1009 437.005,36.0508 437.701,36.0008 438.396,35.9508 439.092,35.901 439.787,35.8513 \n",
       "  440.483,35.8016 441.178,35.752 441.873,35.7026 442.569,35.6532 443.264,35.6039 443.96,35.5547 444.655,35.5056 445.35,35.4566 446.046,35.4077 446.741,35.3589 \n",
       "  447.437,35.3101 448.132,35.2615 448.828,35.2129 449.523,35.1645 450.218,35.1161 450.914,35.0678 451.609,35.0196 452.305,34.9715 453,34.9235 453.695,34.8756 \n",
       "  454.391,34.8277 455.086,34.78 455.782,34.7323 456.477,34.6847 457.173,34.6372 457.868,34.5898 458.563,34.5424 459.259,34.4952 459.954,34.448 460.65,34.401 \n",
       "  461.345,34.354 462.04,34.3071 462.736,34.2602 463.431,34.2135 464.127,34.1668 464.822,34.1203 465.518,34.0738 466.213,34.0274 466.908,33.981 467.604,33.9348 \n",
       "  468.299,33.8886 468.995,33.8425 469.69,33.7965 470.385,33.7506 471.081,33.7048 471.776,33.659 472.472,33.6133 473.167,33.5677 473.863,33.5222 474.558,33.4767 \n",
       "  475.253,33.4314 475.949,33.3861 476.644,33.3409 477.34,33.2957 478.035,33.2507 478.73,33.2057 479.426,33.1608 480.121,33.1159 480.817,33.0712 481.512,33.0265 \n",
       "  482.208,32.9819 482.903,32.9374 483.598,32.8929 484.294,32.8486 484.989,32.8043 485.685,32.76 486.38,32.7159 487.075,32.6718 487.771,32.6278 488.466,32.5839 \n",
       "  489.162,32.54 489.857,32.4962 490.553,32.4525 491.248,32.4089 491.943,32.3653 492.639,32.3218 493.334,32.2784 494.03,32.2351 494.725,32.1918 495.42,32.1486 \n",
       "  496.116,32.1054 496.811,32.0624 497.507,32.0194 498.202,31.9765 498.898,31.9336 499.593,31.8908 500.288,31.8481 500.984,31.8054 501.679,31.7629 502.375,31.7204 \n",
       "  503.07,31.6779 503.765,31.6355 504.461,31.5932 505.156,31.551 505.852,31.5088 506.547,31.4667 507.243,31.4247 507.938,31.3827 508.633,31.3408 509.329,31.299 \n",
       "  510.024,31.2572 510.72,31.2155 511.415,31.1739 512.11,31.1323 512.806,31.0908 513.501,31.0494 514.197,31.008 514.892,30.9667 515.588,30.9255 516.283,30.8843 \n",
       "  516.978,30.8432 517.674,30.8021 518.369,30.7612 519.065,30.7202 519.76,30.6794 520.455,30.6386 521.151,30.5978 521.846,30.5572 522.542,30.5166 523.237,30.476 \n",
       "  523.933,30.4356 524.628,30.3951 525.323,30.3548 526.019,30.3145 526.714,30.2743 527.41,30.2341 528.105,30.194 528.8,30.1539 529.496,30.1139 530.191,30.074 \n",
       "  530.887,30.0341 531.582,29.9943 532.278,29.9546 532.973,29.9149 533.668,29.8753 534.364,29.8357 535.059,29.7962 535.755,29.7568 536.45,29.7174 537.145,29.678 \n",
       "  537.841,29.6388 538.536,29.5996 539.232,29.5604 539.927,29.5213 540.623,29.4823 541.318,29.4433 542.013,29.4044 542.709,29.3655 543.404,29.3267 544.1,29.2879 \n",
       "  544.795,29.2493 545.49,29.2106 546.186,29.172 546.881,29.1335 547.577,29.095 548.272,29.0566 548.968,29.0183 549.663,28.98 550.358,28.9417 551.054,28.9036 \n",
       "  551.749,28.8654 552.445,28.8273 553.14,28.7893 553.836,28.7514 554.531,28.7134 555.226,28.6756 555.922,28.6378 556.617,28.6 557.313,28.5623 558.008,28.5247 \n",
       "  558.703,28.4871 559.399,28.4496 560.094,28.4121 560.79,28.3747 561.485,28.3373 562.181,28.3 562.876,28.2627 563.571,28.2255 564.267,28.1883 564.962,28.1512 \n",
       "  565.658,28.1142 566.353,28.0772 567.048,28.0402 567.744,28.0033 568.439,27.9665 569.135,27.9297 569.83,27.8929 570.526,27.8562 571.221,27.8196 571.916,27.783 \n",
       "  572.612,27.7465 573.307,27.71 574.003,27.6735 574.698,27.6371 575.393,27.6008 576.089,27.5645 576.784,27.5283 577.48,27.4921 578.175,27.4559 578.871,27.4198 \n",
       "  579.566,27.3838 580.261,27.3478 580.957,27.3119 581.652,27.276 582.348,27.2401 583.043,27.2043 583.738,27.1686 584.434,27.1329 585.129,27.0972 585.825,27.0616 \n",
       "  586.52,27.0261 587.216,26.9906 587.911,26.9551 588.606,26.9197 589.302,26.8843 589.997,26.849 590.693,26.8138 591.388,26.7785 592.083,26.7434 592.779,26.7082 \n",
       "  593.474,26.6732 594.17,26.6381 594.865,26.6032 595.561,26.5682 596.256,26.5333 596.951,26.4985 597.647,26.4637 598.342,26.4289 599.038,26.3942 599.733,26.3595 \n",
       "  600.428,26.3249 601.124,26.2904 601.819,26.2558 602.515,26.2213 603.21,26.1869 603.906,26.1525 604.601,26.1182 605.296,26.0839 605.992,26.0496 606.687,26.0154 \n",
       "  607.383,25.9812 608.078,25.9471 608.773,25.913 609.469,25.879 610.164,25.845 610.86,25.8111 611.555,25.7772 612.251,25.7433 612.946,25.7095 613.641,25.6757 \n",
       "  614.337,25.642 615.032,25.6083 615.728,25.5747 616.423,25.5411 617.118,25.5075 617.814,25.474 618.509,25.4405 619.205,25.4071 619.9,25.3737 620.596,25.3404 \n",
       "  621.291,25.3071 621.986,25.2738 622.682,25.2406 623.377,25.2074 624.073,25.1743 624.768,25.1412 625.463,25.1081 626.159,25.0751 626.854,25.0421 627.55,25.0092 \n",
       "  628.245,24.9763 628.941,24.9435 629.636,24.9107 630.331,24.8779 631.027,24.8452 631.722,24.8125 632.418,24.7799 633.113,24.7473 633.808,24.7147 634.504,24.6822 \n",
       "  635.199,24.6497 635.895,24.6173 636.59,24.5849 637.286,24.5525 637.981,24.5202 638.676,24.4879 639.372,24.4557 640.067,24.4235 640.763,24.3913 641.458,24.3592 \n",
       "  642.153,24.3271 642.849,24.2951 643.544,24.2631 644.24,24.2311 644.935,24.1992 645.631,24.1673 646.326,24.1354 647.021,24.1036 647.717,24.0719 648.412,24.0401 \n",
       "  649.108,24.0084 649.803,23.9768 650.498,23.9451 651.194,23.9136 651.889,23.882 652.585,23.8505 653.28,23.819 653.976,23.7876 654.671,23.7562 655.366,23.7249 \n",
       "  656.062,23.6935 656.757,23.6623 657.453,23.631 658.148,23.5998 658.843,23.5686 659.539,23.5375 660.234,23.5064 660.93,23.4754 661.625,23.4443 662.321,23.4133 \n",
       "  663.016,23.3824 663.711,23.3515 664.407,23.3206 665.102,23.2898 665.798,23.259 666.493,23.2282 667.188,23.1975 667.884,23.1668 668.579,23.1361 669.275,23.1055 \n",
       "  669.97,23.0749 670.666,23.0443 671.361,23.0138 672.056,22.9833 672.752,22.9529 673.447,22.9225 674.143,22.8921 674.838,22.8618 675.533,22.8314 676.229,22.8012 \n",
       "  676.924,22.7709 677.62,22.7407 678.315,22.7106 679.011,22.6804 679.706,22.6503 680.401,22.6203 681.097,22.5902 681.792,22.5602 682.488,22.5303 683.183,22.5003 \n",
       "  683.878,22.4705 684.574,22.4406 685.269,22.4108 685.965,22.381 686.66,22.3512 687.356,22.3215 688.051,22.2918 688.746,22.2621 689.442,22.2325 690.137,22.2029 \n",
       "  690.833,22.1734 691.528,22.1438 692.224,22.1144 692.919,22.0849 693.614,22.0555 694.31,22.0261 695.005,21.9967 695.701,21.9674 696.396,21.9381 697.091,21.9088 \n",
       "  697.787,21.8796 698.482,21.8504 699.178,21.8212 699.873,21.7921 700.569,21.763 701.264,21.7339 701.959,21.7049 702.655,21.6759 703.35,21.6469 704.046,21.618 \n",
       "  704.741,21.5891 705.436,21.5602 706.132,21.5314 706.827,21.5025 707.523,21.4738 708.218,21.445 708.914,21.4163 709.609,21.3876 710.304,21.359 711,21.3303 \n",
       "  711.695,21.3017 712.391,21.2732 713.086,21.2446 713.781,21.2161 714.477,21.1877 715.172,21.1592 715.868,21.1308 716.563,21.1024 717.259,21.0741 717.954,21.0458 \n",
       "  718.649,21.0175 719.345,20.9892 720.04,20.961 720.736,20.9328 721.431,20.9047 722.126,20.8765 722.822,20.8484 723.517,20.8203 724.213,20.7923 724.908,20.7643 \n",
       "  725.604,20.7363 726.299,20.7083 726.994,20.6804 727.69,20.6525 728.385,20.6247 729.081,20.5968 729.776,20.569 730.471,20.5412 731.167,20.5135 731.862,20.4858 \n",
       "  732.558,20.4581 733.253,20.4304 733.949,20.4028 734.644,20.3752 735.339,20.3476 736.035,20.3201 736.73,20.2925 737.426,20.2651 738.121,20.2376 738.816,20.2102 \n",
       "  739.512,20.1828 740.207,20.1554 740.903,20.128 741.598,20.1007 742.294,20.0734 742.989,20.0462 743.684,20.019 744.38,19.9917 745.075,19.9646 745.771,19.9374 \n",
       "  746.466,19.9103 747.161,19.8832 747.857,19.8562 748.552,19.8291 749.248,19.8021 749.943,19.7751 750.639,19.7482 751.334,19.7213 752.029,19.6944 752.725,19.6675 \n",
       "  753.42,19.6406 754.116,19.6138 754.811,19.587 755.506,19.5603 756.202,19.5335 756.897,19.5068 757.593,19.4802 758.288,19.4535 758.984,19.4269 759.679,19.4003 \n",
       "  760.374,19.3737 761.07,19.3472 761.765,19.3207 762.461,19.2942 763.156,19.2677 763.851,19.2413 764.547,19.2149 765.242,19.1885 765.938,19.1621 766.633,19.1358 \n",
       "  767.329,19.1095 \n",
       "  \"/>\n",
       "<path clip-path=\"url(#clip060)\" d=\"\n",
       "M668.969 65.7284 L763.62 65.7284 L763.62 20.3684 L668.969 20.3684  Z\n",
       "  \" fill=\"#ffffff\" fill-rule=\"evenodd\" fill-opacity=\"1\"/>\n",
       "<polyline clip-path=\"url(#clip060)\" style=\"stroke:#000000; stroke-width:1; stroke-opacity:1; fill:none\" points=\"\n",
       "  668.969,65.7284 763.62,65.7284 763.62,20.3684 668.969,20.3684 668.969,65.7284 \n",
       "  \"/>\n",
       "<polyline clip-path=\"url(#clip060)\" style=\"stroke:#009af9; stroke-width:1; stroke-opacity:1; fill:none\" points=\"\n",
       "  677.159,35.4884 726.297,35.4884 \n",
       "  \"/>\n",
       "<path clip-path=\"url(#clip060)\" d=\"M 0 0 M737.947 40.4102 Q737.495 41.5676 737.067 41.9206 Q736.639 42.2737 735.921 42.2737 L735.071 42.2737 L735.071 41.3825 L735.696 41.3825 Q736.135 41.3825 736.379 41.1741 Q736.622 40.9658 736.917 40.1903 L737.108 39.7042 L734.486 33.3269 L735.615 33.3269 L737.64 38.3964 L739.666 33.3269 L740.794 33.3269 L737.947 40.4102 Z\" fill=\"#000000\" fill-rule=\"evenodd\" fill-opacity=\"1\" /><path clip-path=\"url(#clip060)\" d=\"M 0 0 M742.264 38.8246 L744.174 38.8246 L744.174 32.2332 L742.096 32.6499 L742.096 31.5851 L744.162 31.1684 L745.331 31.1684 L745.331 38.8246 L747.241 38.8246 L747.241 39.8084 L742.264 39.8084 L742.264 38.8246 Z\" fill=\"#000000\" fill-rule=\"evenodd\" fill-opacity=\"1\" /><polyline clip-path=\"url(#clip060)\" style=\"stroke:#e26f46; stroke-width:1; stroke-opacity:1; fill:none\" points=\"\n",
       "  677.159,50.6084 726.297,50.6084 \n",
       "  \"/>\n",
       "<path clip-path=\"url(#clip060)\" d=\"M 0 0 M737.947 55.5302 Q737.495 56.6876 737.067 57.0406 Q736.639 57.3937 735.921 57.3937 L735.071 57.3937 L735.071 56.5025 L735.696 56.5025 Q736.135 56.5025 736.379 56.2941 Q736.622 56.0858 736.917 55.3103 L737.108 54.8242 L734.486 48.4469 L735.615 48.4469 L737.64 53.5164 L739.666 48.4469 L740.794 48.4469 L737.947 55.5302 Z\" fill=\"#000000\" fill-rule=\"evenodd\" fill-opacity=\"1\" /><path clip-path=\"url(#clip060)\" d=\"M 0 0 M743.068 53.9446 L747.148 53.9446 L747.148 54.9284 L741.662 54.9284 L741.662 53.9446 Q742.328 53.2559 743.473 52.0985 Q744.625 50.9354 744.92 50.5997 Q745.481 49.9689 745.701 49.5349 Q745.927 49.0951 745.927 48.6726 Q745.927 47.984 745.441 47.55 Q744.961 47.1159 744.185 47.1159 Q743.635 47.1159 743.022 47.3069 Q742.414 47.4979 741.72 47.8856 L741.72 46.7051 Q742.426 46.4215 743.039 46.2768 Q743.653 46.1321 744.162 46.1321 Q745.505 46.1321 746.303 46.8034 Q747.102 47.4747 747.102 48.5974 Q747.102 49.1298 746.899 49.6101 Q746.703 50.0847 746.176 50.7328 Q746.031 50.9006 745.256 51.705 Q744.48 52.5036 743.068 53.9446 Z\" fill=\"#000000\" fill-rule=\"evenodd\" fill-opacity=\"1\" /><path clip-path=\"url(#clip060)\" d=\"\n",
       "M51.1206 568.532 L788.189 568.532 L788.189 311.811 L51.1206 311.811  Z\n",
       "  \" fill=\"#ffffff\" fill-rule=\"evenodd\" fill-opacity=\"1\"/>\n",
       "<defs>\n",
       "  <clipPath id=\"clip063\">\n",
       "    <rect x=\"51\" y=\"311\" width=\"738\" height=\"258\"/>\n",
       "  </clipPath>\n",
       "</defs>\n",
       "<polyline clip-path=\"url(#clip063)\" style=\"stroke:#000000; stroke-width:0.5; stroke-opacity:0.1; fill:none\" points=\"\n",
       "  71.9115,568.532 71.9115,311.811 \n",
       "  \"/>\n",
       "<polyline clip-path=\"url(#clip063)\" style=\"stroke:#000000; stroke-width:0.5; stroke-opacity:0.1; fill:none\" points=\"\n",
       "  245.766,568.532 245.766,311.811 \n",
       "  \"/>\n",
       "<polyline clip-path=\"url(#clip063)\" style=\"stroke:#000000; stroke-width:0.5; stroke-opacity:0.1; fill:none\" points=\"\n",
       "  419.62,568.532 419.62,311.811 \n",
       "  \"/>\n",
       "<polyline clip-path=\"url(#clip063)\" style=\"stroke:#000000; stroke-width:0.5; stroke-opacity:0.1; fill:none\" points=\"\n",
       "  593.474,568.532 593.474,311.811 \n",
       "  \"/>\n",
       "<polyline clip-path=\"url(#clip063)\" style=\"stroke:#000000; stroke-width:0.5; stroke-opacity:0.1; fill:none\" points=\"\n",
       "  767.329,568.532 767.329,311.811 \n",
       "  \"/>\n",
       "<polyline clip-path=\"url(#clip060)\" style=\"stroke:#000000; stroke-width:1; stroke-opacity:1; fill:none\" points=\"\n",
       "  51.1206,568.532 788.189,568.532 \n",
       "  \"/>\n",
       "<polyline clip-path=\"url(#clip060)\" style=\"stroke:#000000; stroke-width:1; stroke-opacity:1; fill:none\" points=\"\n",
       "  71.9115,568.532 71.9115,565.451 \n",
       "  \"/>\n",
       "<polyline clip-path=\"url(#clip060)\" style=\"stroke:#000000; stroke-width:1; stroke-opacity:1; fill:none\" points=\"\n",
       "  245.766,568.532 245.766,565.451 \n",
       "  \"/>\n",
       "<polyline clip-path=\"url(#clip060)\" style=\"stroke:#000000; stroke-width:1; stroke-opacity:1; fill:none\" points=\"\n",
       "  419.62,568.532 419.62,565.451 \n",
       "  \"/>\n",
       "<polyline clip-path=\"url(#clip060)\" style=\"stroke:#000000; stroke-width:1; stroke-opacity:1; fill:none\" points=\"\n",
       "  593.474,568.532 593.474,565.451 \n",
       "  \"/>\n",
       "<polyline clip-path=\"url(#clip060)\" style=\"stroke:#000000; stroke-width:1; stroke-opacity:1; fill:none\" points=\"\n",
       "  767.329,568.532 767.329,565.451 \n",
       "  \"/>\n",
       "<path clip-path=\"url(#clip060)\" d=\"M 0 0 M63.9138 577.43 Q63.011 577.43 62.5539 578.321 Q62.1025 579.206 62.1025 580.989 Q62.1025 582.765 62.5539 583.656 Q63.011 584.542 63.9138 584.542 Q64.8224 584.542 65.2738 583.656 Q65.7309 582.765 65.7309 580.989 Q65.7309 579.206 65.2738 578.321 Q64.8224 577.43 63.9138 577.43 M63.9138 576.504 Q65.3664 576.504 66.1302 577.655 Q66.8999 578.801 66.8999 580.989 Q66.8999 583.17 66.1302 584.322 Q65.3664 585.468 63.9138 585.468 Q62.4613 585.468 61.6916 584.322 Q60.9277 583.17 60.9277 580.989 Q60.9277 578.801 61.6916 577.655 Q62.4613 576.504 63.9138 576.504 Z\" fill=\"#000000\" fill-rule=\"evenodd\" fill-opacity=\"1\" /><path clip-path=\"url(#clip060)\" d=\"M 0 0 M68.1673 583.83 L69.3883 583.83 L69.3883 585.3 L68.1673 585.3 L68.1673 583.83 Z\" fill=\"#000000\" fill-rule=\"evenodd\" fill-opacity=\"1\" /><path clip-path=\"url(#clip060)\" d=\"M 0 0 M73.1557 577.43 Q72.2529 577.43 71.7957 578.321 Q71.3443 579.206 71.3443 580.989 Q71.3443 582.765 71.7957 583.656 Q72.2529 584.542 73.1557 584.542 Q74.0642 584.542 74.5156 583.656 Q74.9728 582.765 74.9728 580.989 Q74.9728 579.206 74.5156 578.321 Q74.0642 577.43 73.1557 577.43 M73.1557 576.504 Q74.6082 576.504 75.3721 577.655 Q76.1418 578.801 76.1418 580.989 Q76.1418 583.17 75.3721 584.322 Q74.6082 585.468 73.1557 585.468 Q71.7031 585.468 70.9335 584.322 Q70.1696 583.17 70.1696 580.989 Q70.1696 578.801 70.9335 577.655 Q71.7031 576.504 73.1557 576.504 Z\" fill=\"#000000\" fill-rule=\"evenodd\" fill-opacity=\"1\" /><path clip-path=\"url(#clip060)\" d=\"M 0 0 M79.9091 577.43 Q79.0063 577.43 78.5492 578.321 Q78.0978 579.206 78.0978 580.989 Q78.0978 582.765 78.5492 583.656 Q79.0063 584.542 79.9091 584.542 Q80.8177 584.542 81.269 583.656 Q81.7262 582.765 81.7262 580.989 Q81.7262 579.206 81.269 578.321 Q80.8177 577.43 79.9091 577.43 M79.9091 576.504 Q81.3616 576.504 82.1255 577.655 Q82.8952 578.801 82.8952 580.989 Q82.8952 583.17 82.1255 584.322 Q81.3616 585.468 79.9091 585.468 Q78.4566 585.468 77.6869 584.322 Q76.923 583.17 76.923 580.989 Q76.923 578.801 77.6869 577.655 Q78.4566 576.504 79.9091 576.504 Z\" fill=\"#000000\" fill-rule=\"evenodd\" fill-opacity=\"1\" /><path clip-path=\"url(#clip060)\" d=\"M 0 0 M238.092 577.43 Q237.189 577.43 236.732 578.321 Q236.281 579.206 236.281 580.989 Q236.281 582.765 236.732 583.656 Q237.189 584.542 238.092 584.542 Q239.001 584.542 239.452 583.656 Q239.909 582.765 239.909 580.989 Q239.909 579.206 239.452 578.321 Q239.001 577.43 238.092 577.43 M238.092 576.504 Q239.545 576.504 240.309 577.655 Q241.078 578.801 241.078 580.989 Q241.078 583.17 240.309 584.322 Q239.545 585.468 238.092 585.468 Q236.64 585.468 235.87 584.322 Q235.106 583.17 235.106 580.989 Q235.106 578.801 235.87 577.655 Q236.64 576.504 238.092 576.504 Z\" fill=\"#000000\" fill-rule=\"evenodd\" fill-opacity=\"1\" /><path clip-path=\"url(#clip060)\" d=\"M 0 0 M242.346 583.83 L243.567 583.83 L243.567 585.3 L242.346 585.3 L242.346 583.83 Z\" fill=\"#000000\" fill-rule=\"evenodd\" fill-opacity=\"1\" /><path clip-path=\"url(#clip060)\" d=\"M 0 0 M245.841 584.316 L249.921 584.316 L249.921 585.3 L244.435 585.3 L244.435 584.316 Q245.1 583.628 246.246 582.47 Q247.398 581.307 247.693 580.971 Q248.254 580.341 248.474 579.906 Q248.7 579.467 248.7 579.044 Q248.7 578.356 248.214 577.922 Q247.733 577.488 246.958 577.488 Q246.408 577.488 245.795 577.678 Q245.187 577.869 244.493 578.257 L244.493 577.077 Q245.199 576.793 245.812 576.648 Q246.425 576.504 246.935 576.504 Q248.277 576.504 249.076 577.175 Q249.875 577.846 249.875 578.969 Q249.875 579.501 249.672 579.982 Q249.475 580.456 248.949 581.104 Q248.804 581.272 248.028 582.077 Q247.253 582.875 245.841 584.316 Z\" fill=\"#000000\" fill-rule=\"evenodd\" fill-opacity=\"1\" /><path clip-path=\"url(#clip060)\" d=\"M 0 0 M251.2 576.66 L255.789 576.66 L255.789 577.644 L252.27 577.644 L252.27 579.762 Q252.525 579.675 252.78 579.634 Q253.034 579.588 253.289 579.588 Q254.736 579.588 255.58 580.381 Q256.425 581.174 256.425 582.528 Q256.425 583.923 255.557 584.698 Q254.689 585.468 253.109 585.468 Q252.565 585.468 251.998 585.375 Q251.437 585.283 250.835 585.097 L250.835 583.923 Q251.356 584.206 251.912 584.345 Q252.467 584.484 253.086 584.484 Q254.087 584.484 254.672 583.957 Q255.256 583.431 255.256 582.528 Q255.256 581.625 254.672 581.099 Q254.087 580.572 253.086 580.572 Q252.618 580.572 252.149 580.676 Q251.686 580.78 251.2 581 L251.2 576.66 Z\" fill=\"#000000\" fill-rule=\"evenodd\" fill-opacity=\"1\" /><path clip-path=\"url(#clip060)\" d=\"M 0 0 M411.747 577.43 Q410.844 577.43 410.387 578.321 Q409.935 579.206 409.935 580.989 Q409.935 582.765 410.387 583.656 Q410.844 584.542 411.747 584.542 Q412.655 584.542 413.107 583.656 Q413.564 582.765 413.564 580.989 Q413.564 579.206 413.107 578.321 Q412.655 577.43 411.747 577.43 M411.747 576.504 Q413.199 576.504 413.963 577.655 Q414.733 578.801 414.733 580.989 Q414.733 583.17 413.963 584.322 Q413.199 585.468 411.747 585.468 Q410.294 585.468 409.525 584.322 Q408.761 583.17 408.761 580.989 Q408.761 578.801 409.525 577.655 Q410.294 576.504 411.747 576.504 Z\" fill=\"#000000\" fill-rule=\"evenodd\" fill-opacity=\"1\" /><path clip-path=\"url(#clip060)\" d=\"M 0 0 M416 583.83 L417.221 583.83 L417.221 585.3 L416 585.3 L416 583.83 Z\" fill=\"#000000\" fill-rule=\"evenodd\" fill-opacity=\"1\" /><path clip-path=\"url(#clip060)\" d=\"M 0 0 M418.5 576.66 L423.089 576.66 L423.089 577.644 L419.571 577.644 L419.571 579.762 Q419.825 579.675 420.08 579.634 Q420.335 579.588 420.589 579.588 Q422.036 579.588 422.881 580.381 Q423.726 581.174 423.726 582.528 Q423.726 583.923 422.858 584.698 Q421.99 585.468 420.41 585.468 Q419.866 585.468 419.299 585.375 Q418.737 585.283 418.136 585.097 L418.136 583.923 Q418.656 584.206 419.212 584.345 Q419.768 584.484 420.387 584.484 Q421.388 584.484 421.972 583.957 Q422.557 583.431 422.557 582.528 Q422.557 581.625 421.972 581.099 Q421.388 580.572 420.387 580.572 Q419.918 580.572 419.449 580.676 Q418.986 580.78 418.5 581 L418.5 576.66 Z\" fill=\"#000000\" fill-rule=\"evenodd\" fill-opacity=\"1\" /><path clip-path=\"url(#clip060)\" d=\"M 0 0 M427.493 577.43 Q426.59 577.43 426.133 578.321 Q425.682 579.206 425.682 580.989 Q425.682 582.765 426.133 583.656 Q426.59 584.542 427.493 584.542 Q428.402 584.542 428.853 583.656 Q429.31 582.765 429.31 580.989 Q429.31 579.206 428.853 578.321 Q428.402 577.43 427.493 577.43 M427.493 576.504 Q428.946 576.504 429.71 577.655 Q430.479 578.801 430.479 580.989 Q430.479 583.17 429.71 584.322 Q428.946 585.468 427.493 585.468 Q426.041 585.468 425.271 584.322 Q424.507 583.17 424.507 580.989 Q424.507 578.801 425.271 577.655 Q426.041 576.504 427.493 576.504 Z\" fill=\"#000000\" fill-rule=\"evenodd\" fill-opacity=\"1\" /><path clip-path=\"url(#clip060)\" d=\"M 0 0 M585.714 577.43 Q584.811 577.43 584.354 578.321 Q583.903 579.206 583.903 580.989 Q583.903 582.765 584.354 583.656 Q584.811 584.542 585.714 584.542 Q586.622 584.542 587.074 583.656 Q587.531 582.765 587.531 580.989 Q587.531 579.206 587.074 578.321 Q586.622 577.43 585.714 577.43 M585.714 576.504 Q587.166 576.504 587.93 577.655 Q588.7 578.801 588.7 580.989 Q588.7 583.17 587.93 584.322 Q587.166 585.468 585.714 585.468 Q584.261 585.468 583.492 584.322 Q582.728 583.17 582.728 580.989 Q582.728 578.801 583.492 577.655 Q584.261 576.504 585.714 576.504 Z\" fill=\"#000000\" fill-rule=\"evenodd\" fill-opacity=\"1\" /><path clip-path=\"url(#clip060)\" d=\"M 0 0 M589.967 583.83 L591.188 583.83 L591.188 585.3 L589.967 585.3 L589.967 583.83 Z\" fill=\"#000000\" fill-rule=\"evenodd\" fill-opacity=\"1\" /><path clip-path=\"url(#clip060)\" d=\"M 0 0 M592.161 576.66 L597.716 576.66 L597.716 577.158 L594.58 585.3 L593.359 585.3 L596.31 577.644 L592.161 577.644 L592.161 576.66 Z\" fill=\"#000000\" fill-rule=\"evenodd\" fill-opacity=\"1\" /><path clip-path=\"url(#clip060)\" d=\"M 0 0 M598.995 576.66 L603.584 576.66 L603.584 577.644 L600.066 577.644 L600.066 579.762 Q600.32 579.675 600.575 579.634 Q600.83 579.588 601.084 579.588 Q602.531 579.588 603.376 580.381 Q604.221 581.174 604.221 582.528 Q604.221 583.923 603.353 584.698 Q602.485 585.468 600.905 585.468 Q600.361 585.468 599.794 585.375 Q599.232 585.283 598.63 585.097 L598.63 583.923 Q599.151 584.206 599.707 584.345 Q600.262 584.484 600.882 584.484 Q601.883 584.484 602.467 583.957 Q603.052 583.431 603.052 582.528 Q603.052 581.625 602.467 581.099 Q601.883 580.572 600.882 580.572 Q600.413 580.572 599.944 580.676 Q599.481 580.78 598.995 581 L598.995 576.66 Z\" fill=\"#000000\" fill-rule=\"evenodd\" fill-opacity=\"1\" /><path clip-path=\"url(#clip060)\" d=\"M 0 0 M756.926 584.316 L758.836 584.316 L758.836 577.725 L756.759 578.141 L756.759 577.077 L758.825 576.66 L759.994 576.66 L759.994 584.316 L761.903 584.316 L761.903 585.3 L756.926 585.3 L756.926 584.316 Z\" fill=\"#000000\" fill-rule=\"evenodd\" fill-opacity=\"1\" /><path clip-path=\"url(#clip060)\" d=\"M 0 0 M763.171 583.83 L764.392 583.83 L764.392 585.3 L763.171 585.3 L763.171 583.83 Z\" fill=\"#000000\" fill-rule=\"evenodd\" fill-opacity=\"1\" /><path clip-path=\"url(#clip060)\" d=\"M 0 0 M768.159 577.43 Q767.256 577.43 766.799 578.321 Q766.348 579.206 766.348 580.989 Q766.348 582.765 766.799 583.656 Q767.256 584.542 768.159 584.542 Q769.068 584.542 769.519 583.656 Q769.976 582.765 769.976 580.989 Q769.976 579.206 769.519 578.321 Q769.068 577.43 768.159 577.43 M768.159 576.504 Q769.612 576.504 770.375 577.655 Q771.145 578.801 771.145 580.989 Q771.145 583.17 770.375 584.322 Q769.612 585.468 768.159 585.468 Q766.706 585.468 765.937 584.322 Q765.173 583.17 765.173 580.989 Q765.173 578.801 765.937 577.655 Q766.706 576.504 768.159 576.504 Z\" fill=\"#000000\" fill-rule=\"evenodd\" fill-opacity=\"1\" /><path clip-path=\"url(#clip060)\" d=\"M 0 0 M774.912 577.43 Q774.01 577.43 773.552 578.321 Q773.101 579.206 773.101 580.989 Q773.101 582.765 773.552 583.656 Q774.01 584.542 774.912 584.542 Q775.821 584.542 776.272 583.656 Q776.73 582.765 776.73 580.989 Q776.73 579.206 776.272 578.321 Q775.821 577.43 774.912 577.43 M774.912 576.504 Q776.365 576.504 777.129 577.655 Q777.899 578.801 777.899 580.989 Q777.899 583.17 777.129 584.322 Q776.365 585.468 774.912 585.468 Q773.46 585.468 772.69 584.322 Q771.926 583.17 771.926 580.989 Q771.926 578.801 772.69 577.655 Q773.46 576.504 774.912 576.504 Z\" fill=\"#000000\" fill-rule=\"evenodd\" fill-opacity=\"1\" /><polyline clip-path=\"url(#clip063)\" style=\"stroke:#000000; stroke-width:0.5; stroke-opacity:0.1; fill:none\" points=\"\n",
       "  51.1206,561.291 788.189,561.291 \n",
       "  \"/>\n",
       "<polyline clip-path=\"url(#clip063)\" style=\"stroke:#000000; stroke-width:0.5; stroke-opacity:0.1; fill:none\" points=\"\n",
       "  51.1206,507.465 788.189,507.465 \n",
       "  \"/>\n",
       "<polyline clip-path=\"url(#clip063)\" style=\"stroke:#000000; stroke-width:0.5; stroke-opacity:0.1; fill:none\" points=\"\n",
       "  51.1206,453.64 788.189,453.64 \n",
       "  \"/>\n",
       "<polyline clip-path=\"url(#clip063)\" style=\"stroke:#000000; stroke-width:0.5; stroke-opacity:0.1; fill:none\" points=\"\n",
       "  51.1206,399.815 788.189,399.815 \n",
       "  \"/>\n",
       "<polyline clip-path=\"url(#clip063)\" style=\"stroke:#000000; stroke-width:0.5; stroke-opacity:0.1; fill:none\" points=\"\n",
       "  51.1206,345.989 788.189,345.989 \n",
       "  \"/>\n",
       "<polyline clip-path=\"url(#clip060)\" style=\"stroke:#000000; stroke-width:1; stroke-opacity:1; fill:none\" points=\"\n",
       "  51.1206,568.532 51.1206,311.811 \n",
       "  \"/>\n",
       "<polyline clip-path=\"url(#clip060)\" style=\"stroke:#000000; stroke-width:1; stroke-opacity:1; fill:none\" points=\"\n",
       "  51.1206,561.291 59.9654,561.291 \n",
       "  \"/>\n",
       "<polyline clip-path=\"url(#clip060)\" style=\"stroke:#000000; stroke-width:1; stroke-opacity:1; fill:none\" points=\"\n",
       "  51.1206,507.465 59.9654,507.465 \n",
       "  \"/>\n",
       "<polyline clip-path=\"url(#clip060)\" style=\"stroke:#000000; stroke-width:1; stroke-opacity:1; fill:none\" points=\"\n",
       "  51.1206,453.64 59.9654,453.64 \n",
       "  \"/>\n",
       "<polyline clip-path=\"url(#clip060)\" style=\"stroke:#000000; stroke-width:1; stroke-opacity:1; fill:none\" points=\"\n",
       "  51.1206,399.815 59.9654,399.815 \n",
       "  \"/>\n",
       "<polyline clip-path=\"url(#clip060)\" style=\"stroke:#000000; stroke-width:1; stroke-opacity:1; fill:none\" points=\"\n",
       "  51.1206,345.989 59.9654,345.989 \n",
       "  \"/>\n",
       "<path clip-path=\"url(#clip060)\" d=\"M 0 0 M26.8926 557.74 Q25.9899 557.74 25.5327 558.631 Q25.0813 559.517 25.0813 561.299 Q25.0813 563.076 25.5327 563.967 Q25.9899 564.852 26.8926 564.852 Q27.8012 564.852 28.2526 563.967 Q28.7097 563.076 28.7097 561.299 Q28.7097 559.517 28.2526 558.631 Q27.8012 557.74 26.8926 557.74 M26.8926 556.814 Q28.3452 556.814 29.109 557.966 Q29.8787 559.112 29.8787 561.299 Q29.8787 563.481 29.109 564.632 Q28.3452 565.778 26.8926 565.778 Q25.4401 565.778 24.6704 564.632 Q23.9065 563.481 23.9065 561.299 Q23.9065 559.112 24.6704 557.966 Q25.4401 556.814 26.8926 556.814 Z\" fill=\"#000000\" fill-rule=\"evenodd\" fill-opacity=\"1\" /><path clip-path=\"url(#clip060)\" d=\"M 0 0 M31.1461 564.141 L32.3671 564.141 L32.3671 565.611 L31.1461 565.611 L31.1461 564.141 Z\" fill=\"#000000\" fill-rule=\"evenodd\" fill-opacity=\"1\" /><path clip-path=\"url(#clip060)\" d=\"M 0 0 M36.1345 557.74 Q35.2317 557.74 34.7745 558.631 Q34.3231 559.517 34.3231 561.299 Q34.3231 563.076 34.7745 563.967 Q35.2317 564.852 36.1345 564.852 Q37.043 564.852 37.4944 563.967 Q37.9516 563.076 37.9516 561.299 Q37.9516 559.517 37.4944 558.631 Q37.043 557.74 36.1345 557.74 M36.1345 556.814 Q37.587 556.814 38.3509 557.966 Q39.1206 559.112 39.1206 561.299 Q39.1206 563.481 38.3509 564.632 Q37.587 565.778 36.1345 565.778 Q34.6819 565.778 33.9123 564.632 Q33.1484 563.481 33.1484 561.299 Q33.1484 559.112 33.9123 557.966 Q34.6819 556.814 36.1345 556.814 Z\" fill=\"#000000\" fill-rule=\"evenodd\" fill-opacity=\"1\" /><path clip-path=\"url(#clip060)\" d=\"M 0 0 M27.2919 503.915 Q26.3892 503.915 25.932 504.806 Q25.4806 505.691 25.4806 507.474 Q25.4806 509.251 25.932 510.142 Q26.3892 511.027 27.2919 511.027 Q28.2005 511.027 28.6519 510.142 Q29.109 509.251 29.109 507.474 Q29.109 505.691 28.6519 504.806 Q28.2005 503.915 27.2919 503.915 M27.2919 502.989 Q28.7445 502.989 29.5084 504.141 Q30.278 505.286 30.278 507.474 Q30.278 509.656 29.5084 510.807 Q28.7445 511.953 27.2919 511.953 Q25.8394 511.953 25.0697 510.807 Q24.3058 509.656 24.3058 507.474 Q24.3058 505.286 25.0697 504.141 Q25.8394 502.989 27.2919 502.989 Z\" fill=\"#000000\" fill-rule=\"evenodd\" fill-opacity=\"1\" /><path clip-path=\"url(#clip060)\" d=\"M 0 0 M31.5454 510.315 L32.7664 510.315 L32.7664 511.785 L31.5454 511.785 L31.5454 510.315 Z\" fill=\"#000000\" fill-rule=\"evenodd\" fill-opacity=\"1\" /><path clip-path=\"url(#clip060)\" d=\"M 0 0 M35.0407 510.801 L39.1206 510.801 L39.1206 511.785 L33.6345 511.785 L33.6345 510.801 Q34.3 510.113 35.4458 508.955 Q36.5974 507.792 36.8926 507.457 Q37.4539 506.826 37.6738 506.392 Q37.8995 505.952 37.8995 505.529 Q37.8995 504.841 37.4134 504.407 Q36.9331 503.973 36.1576 503.973 Q35.6079 503.973 34.9944 504.164 Q34.3868 504.355 33.6924 504.742 L33.6924 503.562 Q34.3984 503.278 35.0118 503.134 Q35.6252 502.989 36.1345 502.989 Q37.4771 502.989 38.2757 503.66 Q39.0743 504.332 39.0743 505.454 Q39.0743 505.987 38.8717 506.467 Q38.675 506.941 38.1484 507.59 Q38.0037 507.757 37.2282 508.562 Q36.4528 509.36 35.0407 510.801 Z\" fill=\"#000000\" fill-rule=\"evenodd\" fill-opacity=\"1\" /><path clip-path=\"url(#clip060)\" d=\"M 0 0 M26.7711 450.09 Q25.8683 450.09 25.4112 450.981 Q24.9598 451.866 24.9598 453.649 Q24.9598 455.425 25.4112 456.316 Q25.8683 457.202 26.7711 457.202 Q27.6797 457.202 28.131 456.316 Q28.5882 455.425 28.5882 453.649 Q28.5882 451.866 28.131 450.981 Q27.6797 450.09 26.7711 450.09 M26.7711 449.164 Q28.2236 449.164 28.9875 450.315 Q29.7572 451.461 29.7572 453.649 Q29.7572 455.83 28.9875 456.982 Q28.2236 458.128 26.7711 458.128 Q25.3186 458.128 24.5489 456.982 Q23.785 455.83 23.785 453.649 Q23.785 451.461 24.5489 450.315 Q25.3186 449.164 26.7711 449.164 Z\" fill=\"#000000\" fill-rule=\"evenodd\" fill-opacity=\"1\" /><path clip-path=\"url(#clip060)\" d=\"M 0 0 M31.0245 456.49 L32.2456 456.49 L32.2456 457.96 L31.0245 457.96 L31.0245 456.49 Z\" fill=\"#000000\" fill-rule=\"evenodd\" fill-opacity=\"1\" /><path clip-path=\"url(#clip060)\" d=\"M 0 0 M36.7247 450.338 L33.7734 454.951 L36.7247 454.951 L36.7247 450.338 M36.418 449.32 L37.8879 449.32 L37.8879 454.951 L39.1206 454.951 L39.1206 455.923 L37.8879 455.923 L37.8879 457.96 L36.7247 457.96 L36.7247 455.923 L32.8243 455.923 L32.8243 454.794 L36.418 449.32 Z\" fill=\"#000000\" fill-rule=\"evenodd\" fill-opacity=\"1\" /><path clip-path=\"url(#clip060)\" d=\"M 0 0 M26.8521 396.264 Q25.9493 396.264 25.4922 397.156 Q25.0408 398.041 25.0408 399.823 Q25.0408 401.6 25.4922 402.491 Q25.9493 403.377 26.8521 403.377 Q27.7607 403.377 28.2121 402.491 Q28.6692 401.6 28.6692 399.823 Q28.6692 398.041 28.2121 397.156 Q27.7607 396.264 26.8521 396.264 M26.8521 395.338 Q28.3047 395.338 29.0685 396.49 Q29.8382 397.636 29.8382 399.823 Q29.8382 402.005 29.0685 403.157 Q28.3047 404.302 26.8521 404.302 Q25.3996 404.302 24.6299 403.157 Q23.866 402.005 23.866 399.823 Q23.866 397.636 24.6299 396.49 Q25.3996 395.338 26.8521 395.338 Z\" fill=\"#000000\" fill-rule=\"evenodd\" fill-opacity=\"1\" /><path clip-path=\"url(#clip060)\" d=\"M 0 0 M31.1056 402.665 L32.3266 402.665 L32.3266 404.135 L31.1056 404.135 L31.1056 402.665 Z\" fill=\"#000000\" fill-rule=\"evenodd\" fill-opacity=\"1\" /><path clip-path=\"url(#clip060)\" d=\"M 0 0 M36.2386 399.349 Q35.4516 399.349 34.9886 399.887 Q34.5315 400.425 34.5315 401.363 Q34.5315 402.294 34.9886 402.838 Q35.4516 403.377 36.2386 403.377 Q37.0257 403.377 37.4828 402.838 Q37.9458 402.294 37.9458 401.363 Q37.9458 400.425 37.4828 399.887 Q37.0257 399.349 36.2386 399.349 M38.5592 395.686 L38.5592 396.75 Q38.1194 396.542 37.668 396.432 Q37.2224 396.322 36.7826 396.322 Q35.6252 396.322 35.0118 397.103 Q34.4042 397.885 34.3174 399.465 Q34.6588 398.961 35.1738 398.695 Q35.6889 398.423 36.3081 398.423 Q37.6102 398.423 38.3625 399.216 Q39.1206 400.003 39.1206 401.363 Q39.1206 402.694 38.3335 403.498 Q37.5465 404.302 36.2386 404.302 Q34.7398 404.302 33.947 403.157 Q33.1542 402.005 33.1542 399.823 Q33.1542 397.775 34.1264 396.559 Q35.0986 395.338 36.7363 395.338 Q37.1761 395.338 37.6217 395.425 Q38.0731 395.512 38.5592 395.686 Z\" fill=\"#000000\" fill-rule=\"evenodd\" fill-opacity=\"1\" /><path clip-path=\"url(#clip060)\" d=\"M 0 0 M26.9158 342.439 Q26.013 342.439 25.5558 343.33 Q25.1044 344.216 25.1044 345.998 Q25.1044 347.775 25.5558 348.666 Q26.013 349.551 26.9158 349.551 Q27.8243 349.551 28.2757 348.666 Q28.7329 347.775 28.7329 345.998 Q28.7329 344.216 28.2757 343.33 Q27.8243 342.439 26.9158 342.439 M26.9158 341.513 Q28.3683 341.513 29.1322 342.665 Q29.9019 343.811 29.9019 345.998 Q29.9019 348.18 29.1322 349.331 Q28.3683 350.477 26.9158 350.477 Q25.4632 350.477 24.6936 349.331 Q23.9297 348.18 23.9297 345.998 Q23.9297 343.811 24.6936 342.665 Q25.4632 341.513 26.9158 341.513 Z\" fill=\"#000000\" fill-rule=\"evenodd\" fill-opacity=\"1\" /><path clip-path=\"url(#clip060)\" d=\"M 0 0 M31.1692 348.839 L32.3903 348.839 L32.3903 350.309 L31.1692 350.309 L31.1692 348.839 Z\" fill=\"#000000\" fill-rule=\"evenodd\" fill-opacity=\"1\" /><path clip-path=\"url(#clip060)\" d=\"M 0 0 M36.1576 346.206 Q35.3243 346.206 34.844 346.652 Q34.3694 347.098 34.3694 347.879 Q34.3694 348.66 34.844 349.106 Q35.3243 349.551 36.1576 349.551 Q36.991 349.551 37.4713 349.106 Q37.9516 348.654 37.9516 347.879 Q37.9516 347.098 37.4713 346.652 Q36.9967 346.206 36.1576 346.206 M34.9886 345.709 Q34.2363 345.524 33.8139 345.008 Q33.3972 344.493 33.3972 343.753 Q33.3972 342.717 34.1322 342.115 Q34.8729 341.513 36.1576 341.513 Q37.4481 341.513 38.1831 342.115 Q38.918 342.717 38.918 343.753 Q38.918 344.493 38.4956 345.008 Q38.0789 345.524 37.3324 345.709 Q38.1773 345.905 38.646 346.478 Q39.1206 347.051 39.1206 347.879 Q39.1206 349.135 38.3509 349.806 Q37.587 350.477 36.1576 350.477 Q34.7282 350.477 33.9586 349.806 Q33.1947 349.135 33.1947 347.879 Q33.1947 347.051 33.6692 346.478 Q34.1437 345.905 34.9886 345.709 M34.5604 343.863 Q34.5604 344.534 34.9771 344.91 Q35.3995 345.286 36.1576 345.286 Q36.9099 345.286 37.3324 344.91 Q37.7606 344.534 37.7606 343.863 Q37.7606 343.191 37.3324 342.815 Q36.9099 342.439 36.1576 342.439 Q35.3995 342.439 34.9771 342.815 Q34.5604 343.191 34.5604 343.863 Z\" fill=\"#000000\" fill-rule=\"evenodd\" fill-opacity=\"1\" /><polyline clip-path=\"url(#clip063)\" style=\"stroke:#009af9; stroke-width:1; stroke-opacity:1; fill:none\" points=\"\n",
       "  71.981,561.264 72.6069,561.264 73.3023,561.021 73.9977,560.752 74.6931,560.483 75.3885,560.214 76.084,559.945 76.7794,559.676 77.4748,559.407 78.1702,559.137 \n",
       "  78.8656,558.868 79.561,558.599 80.2565,558.33 80.9519,558.33 81.6473,558.061 82.3427,557.792 83.0381,557.523 83.7335,557.254 84.429,556.984 85.1244,556.715 \n",
       "  85.8198,556.446 86.5152,556.177 87.2106,555.908 87.906,555.639 88.6015,555.639 89.2969,555.37 89.9923,555.101 90.6877,554.831 91.3831,554.562 92.0786,554.293 \n",
       "  92.774,554.024 93.4694,553.755 94.1648,553.486 94.8602,553.217 95.5556,553.217 96.2511,552.948 96.9465,552.678 97.6419,552.409 98.3373,552.14 99.0327,551.871 \n",
       "  99.7281,551.602 100.424,551.333 101.119,551.064 101.814,550.795 102.51,550.795 103.205,550.525 103.901,550.256 104.596,549.987 105.291,549.718 105.987,549.449 \n",
       "  106.682,549.18 107.378,548.911 108.073,548.642 108.769,548.372 109.464,548.372 110.159,548.103 110.855,547.834 111.55,547.565 112.246,547.296 112.941,547.027 \n",
       "  113.636,546.758 114.332,546.489 115.027,546.219 115.723,545.95 116.418,545.95 117.114,545.681 117.809,545.412 118.504,545.143 119.2,544.874 119.895,544.605 \n",
       "  120.591,544.336 121.286,544.066 121.981,543.797 122.677,543.528 123.372,543.528 124.068,543.259 124.763,542.99 125.459,542.721 126.154,542.452 126.849,542.183 \n",
       "  127.545,541.913 128.24,541.644 128.936,541.375 129.631,541.106 130.326,540.837 131.022,540.837 131.717,540.568 132.413,540.299 133.108,540.03 133.804,539.76 \n",
       "  134.499,539.491 135.194,539.222 135.89,538.953 136.585,538.684 137.281,538.415 137.976,538.415 138.671,538.146 139.367,537.877 140.062,537.607 140.758,537.338 \n",
       "  141.453,537.069 142.149,536.8 142.844,536.531 143.539,536.262 144.235,535.993 144.93,535.993 145.626,535.723 146.321,535.454 147.017,535.185 147.712,534.916 \n",
       "  148.407,534.647 149.103,534.378 149.798,534.109 150.494,533.84 151.189,533.84 151.884,533.57 152.58,533.301 153.275,533.032 153.971,532.763 154.666,532.494 \n",
       "  155.362,532.225 156.057,531.956 156.752,531.687 157.448,531.687 158.143,531.417 158.839,531.148 159.534,530.879 160.229,530.61 160.925,530.341 161.62,530.072 \n",
       "  162.316,529.803 163.011,529.534 163.707,529.264 164.402,528.995 165.097,528.995 165.793,528.726 166.488,528.457 167.184,528.188 167.879,527.919 168.574,527.65 \n",
       "  169.27,527.381 169.965,527.111 170.661,526.842 171.356,526.573 172.052,526.304 172.747,526.035 173.442,526.035 174.138,525.766 174.833,525.497 175.529,525.228 \n",
       "  176.224,524.958 176.919,524.689 177.615,524.42 178.31,524.42 179.006,524.151 179.701,523.882 180.397,523.613 181.092,523.344 181.787,523.075 182.483,522.805 \n",
       "  183.178,522.536 183.874,522.267 184.569,521.998 185.264,521.729 185.96,521.46 186.655,521.46 187.351,521.191 188.046,520.922 188.742,520.652 189.437,520.383 \n",
       "  190.132,520.114 190.828,519.845 191.523,519.576 192.219,519.307 192.914,519.307 193.609,519.038 194.305,518.769 195,518.499 195.696,518.23 196.391,517.961 \n",
       "  197.087,517.692 197.782,517.423 198.477,517.154 199.173,516.885 199.868,516.885 200.564,516.616 201.259,516.346 201.954,516.077 202.65,515.808 203.345,515.539 \n",
       "  204.041,515.27 204.736,515.001 205.432,514.732 206.127,514.463 206.822,514.193 207.518,514.193 208.213,513.924 208.909,513.655 209.604,513.386 210.299,513.117 \n",
       "  210.995,512.848 211.69,512.579 212.386,512.309 213.081,512.04 213.777,512.04 214.472,511.771 215.167,511.502 215.863,511.233 216.558,510.964 217.254,510.695 \n",
       "  217.949,510.426 218.644,510.156 219.34,509.887 220.035,509.887 220.731,509.618 221.426,509.349 222.122,509.08 222.817,508.811 223.512,508.542 224.208,508.273 \n",
       "  224.903,508.003 225.599,507.734 226.294,507.465 226.989,507.196 227.685,507.196 228.38,506.927 229.076,506.658 229.771,506.389 230.467,506.12 231.162,505.85 \n",
       "  231.857,505.581 232.553,505.312 233.248,505.312 233.944,505.043 234.639,504.774 235.334,504.505 236.03,504.236 236.725,503.967 237.421,503.697 238.116,503.428 \n",
       "  238.812,503.159 239.507,502.89 240.202,502.621 240.898,502.352 241.593,502.083 242.289,502.083 242.984,501.814 243.679,501.544 244.375,501.275 245.07,501.006 \n",
       "  245.766,500.737 246.461,500.468 247.157,500.199 247.852,499.93 248.547,499.661 249.243,499.661 249.938,499.391 250.634,499.122 251.329,498.853 252.024,498.584 \n",
       "  252.72,498.315 253.415,498.046 254.111,498.046 254.806,497.777 255.502,497.508 256.197,497.238 256.892,496.969 257.588,496.7 258.283,496.431 258.979,496.162 \n",
       "  259.674,495.893 260.369,495.624 261.065,495.355 261.76,495.085 262.456,494.816 263.151,494.816 263.847,494.547 264.542,494.278 265.237,494.009 265.933,493.74 \n",
       "  266.628,493.471 267.324,493.202 268.019,492.932 268.714,492.663 269.41,492.394 270.105,492.394 270.801,492.125 271.496,491.856 272.192,491.587 272.887,491.318 \n",
       "  273.582,491.049 274.278,490.779 274.973,490.51 275.669,490.241 276.364,490.241 277.059,489.972 277.755,489.703 278.45,489.434 279.146,489.165 279.841,488.895 \n",
       "  280.537,488.626 281.232,488.357 281.927,488.088 282.623,487.819 283.318,487.55 284.014,487.55 284.709,487.281 285.405,487.012 286.1,486.742 286.795,486.473 \n",
       "  287.491,486.204 288.186,485.935 288.882,485.666 289.577,485.397 290.272,485.128 290.968,485.128 291.663,484.859 292.359,484.589 293.054,484.32 293.75,484.051 \n",
       "  294.445,483.782 295.14,483.513 295.836,483.244 296.531,483.244 297.227,482.975 297.922,482.706 298.617,482.436 299.313,482.167 300.008,481.898 300.704,481.629 \n",
       "  301.399,481.36 302.095,481.091 302.79,480.822 303.485,480.553 304.181,480.283 304.876,480.283 305.572,480.014 306.267,479.745 306.962,479.476 307.658,479.207 \n",
       "  308.353,478.938 309.049,478.669 309.744,478.4 310.44,478.13 311.135,477.861 311.83,477.861 312.526,477.592 313.221,477.323 313.917,477.054 314.612,476.785 \n",
       "  315.307,476.516 316.003,476.247 316.698,475.977 317.394,475.708 318.089,475.708 318.785,475.439 319.48,475.17 320.175,474.901 320.871,474.632 321.566,474.363 \n",
       "  322.262,474.094 322.957,473.824 323.652,473.555 324.348,473.286 325.043,473.286 325.739,473.017 326.434,472.748 327.13,472.479 327.825,472.21 328.52,471.941 \n",
       "  329.216,471.671 329.911,471.402 330.607,471.133 331.302,470.864 331.997,470.595 332.693,470.326 333.388,470.326 334.084,470.057 334.779,469.788 335.475,469.518 \n",
       "  336.17,469.249 336.865,468.98 337.561,468.711 338.256,468.442 338.952,468.442 339.647,468.173 340.342,467.904 341.038,467.635 341.733,467.365 342.429,467.096 \n",
       "  343.124,466.827 343.82,466.558 344.515,466.289 345.21,466.02 345.906,466.02 346.601,465.751 347.297,465.481 347.992,465.212 348.687,464.943 349.383,464.674 \n",
       "  350.078,464.405 350.774,464.136 351.469,463.867 352.165,463.598 352.86,463.598 353.555,463.328 354.251,463.059 354.946,462.79 355.642,462.521 356.337,462.252 \n",
       "  357.032,461.983 357.728,461.714 358.423,461.445 359.119,461.175 359.814,460.906 360.51,460.637 361.205,460.637 361.9,460.368 362.596,460.099 363.291,459.83 \n",
       "  363.987,459.561 364.682,459.292 365.377,459.022 366.073,458.753 366.768,458.753 367.464,458.484 368.159,458.215 368.855,457.946 369.55,457.677 370.245,457.408 \n",
       "  370.941,457.139 371.636,456.869 372.332,456.6 373.027,456.331 373.722,456.062 374.418,456.062 375.113,455.793 375.809,455.524 376.504,455.255 377.2,454.986 \n",
       "  377.895,454.716 378.59,454.447 379.286,454.447 379.981,454.178 380.677,453.909 381.372,453.64 382.067,453.371 382.763,453.102 383.458,452.833 384.154,452.563 \n",
       "  384.849,452.294 385.545,452.025 386.24,451.756 386.935,451.487 387.631,451.218 388.326,451.218 389.022,450.949 389.717,450.68 390.412,450.41 391.108,450.141 \n",
       "  391.803,449.872 392.499,449.603 393.194,449.334 393.89,449.065 394.585,448.796 395.28,448.527 395.976,448.527 396.671,448.257 397.367,447.988 398.062,447.719 \n",
       "  398.757,447.45 399.453,447.181 400.148,446.912 400.844,446.643 401.539,446.643 402.235,446.374 402.93,446.104 403.625,445.835 404.321,445.566 405.016,445.297 \n",
       "  405.712,445.028 406.407,444.759 407.102,444.49 407.798,444.221 408.493,443.951 409.189,443.951 409.884,443.682 410.58,443.413 411.275,443.144 411.97,442.875 \n",
       "  412.666,442.606 413.361,442.337 414.057,442.337 414.752,442.067 415.447,441.798 416.143,441.529 416.838,441.26 417.534,440.991 418.229,440.722 418.925,440.453 \n",
       "  419.62,440.184 420.315,439.914 421.011,439.645 421.706,439.376 422.402,439.107 423.097,439.107 423.793,438.838 424.488,438.569 425.183,438.3 425.879,438.031 \n",
       "  426.574,437.761 427.27,437.492 427.965,437.223 428.66,436.954 429.356,436.685 430.051,436.416 430.747,436.416 431.442,436.147 432.138,435.878 432.833,435.608 \n",
       "  433.528,435.339 434.224,435.07 434.919,434.801 435.615,434.532 436.31,434.532 437.005,434.263 437.701,433.994 438.396,433.725 439.092,433.455 439.787,433.186 \n",
       "  440.483,432.917 441.178,432.648 441.873,432.379 442.569,432.11 443.264,431.841 443.96,431.841 444.655,431.572 445.35,431.302 446.046,431.033 446.741,430.764 \n",
       "  447.437,430.495 448.132,430.226 448.828,430.226 449.523,429.957 450.218,429.688 450.914,429.419 451.609,429.149 452.305,428.88 453,428.611 453.695,428.342 \n",
       "  454.391,428.073 455.086,427.804 455.782,427.535 456.477,427.535 457.173,427.266 457.868,426.996 458.563,426.727 459.259,426.458 459.954,426.189 460.65,425.92 \n",
       "  461.345,425.651 462.04,425.382 462.736,425.113 463.431,424.843 464.127,424.843 464.822,424.574 465.518,424.305 466.213,424.036 466.908,423.767 467.604,423.498 \n",
       "  468.299,423.229 468.995,422.96 469.69,422.69 470.385,422.421 471.081,422.152 471.776,421.883 472.472,421.614 473.167,421.614 473.863,421.345 474.558,421.076 \n",
       "  475.253,420.807 475.949,420.537 476.644,420.268 477.34,419.999 478.035,419.73 478.73,419.73 479.426,419.461 480.121,419.192 480.817,418.923 481.512,418.653 \n",
       "  482.208,418.384 482.903,418.115 483.598,417.846 484.294,417.577 484.989,417.308 485.685,417.308 486.38,417.039 487.075,416.77 487.771,416.5 488.466,416.231 \n",
       "  489.162,415.962 489.857,415.693 490.553,415.693 491.248,415.424 491.943,415.155 492.639,414.886 493.334,414.617 494.03,414.347 494.725,414.078 495.42,413.809 \n",
       "  496.116,413.54 496.811,413.54 497.507,413.271 498.202,413.002 498.898,412.733 499.593,412.464 500.288,412.194 500.984,411.925 501.679,411.656 502.375,411.387 \n",
       "  503.07,411.118 503.765,410.849 504.461,410.58 505.156,410.311 505.852,410.041 506.547,409.772 507.243,409.772 507.938,409.503 508.633,409.234 509.329,408.965 \n",
       "  510.024,408.696 510.72,408.427 511.415,408.158 512.11,407.888 512.806,407.619 513.501,407.619 514.197,407.35 514.892,407.081 515.588,406.812 516.283,406.543 \n",
       "  516.978,406.274 517.674,406.005 518.369,405.735 519.065,405.735 519.76,405.466 520.455,405.197 521.151,404.928 521.846,404.659 522.542,404.39 523.237,404.121 \n",
       "  523.933,403.852 524.628,403.582 525.323,403.313 526.019,403.044 526.714,402.775 527.41,402.775 528.105,402.506 528.8,402.237 529.496,401.968 530.191,401.699 \n",
       "  530.887,401.429 531.582,401.16 532.278,400.891 532.973,400.622 533.668,400.353 534.364,400.353 535.059,400.084 535.755,399.815 536.45,399.546 537.145,399.276 \n",
       "  537.841,399.007 538.536,398.738 539.232,398.469 539.927,398.469 540.623,398.2 541.318,397.931 542.013,397.662 542.709,397.393 543.404,397.123 544.1,396.854 \n",
       "  544.795,396.585 545.49,396.316 546.186,396.316 546.881,396.047 547.577,395.778 548.272,395.509 548.968,395.239 549.663,394.97 550.358,394.701 551.054,394.432 \n",
       "  551.749,394.163 552.445,393.894 553.14,393.625 553.836,393.356 554.531,393.086 555.226,392.817 555.922,392.817 556.617,392.548 557.313,392.279 558.008,392.01 \n",
       "  558.703,391.741 559.399,391.472 560.094,391.203 560.79,390.933 561.485,390.664 562.181,390.664 562.876,390.395 563.571,390.126 564.267,389.857 564.962,389.588 \n",
       "  565.658,389.319 566.353,389.05 567.048,388.78 567.744,388.511 568.439,388.511 569.135,388.242 569.83,387.973 570.526,387.704 571.221,387.435 571.916,387.166 \n",
       "  572.612,386.897 573.307,386.627 574.003,386.358 574.698,386.089 575.393,385.82 576.089,385.82 576.784,385.551 577.48,385.282 578.175,385.013 578.871,384.744 \n",
       "  579.566,384.474 580.261,384.205 580.957,383.936 581.652,383.667 582.348,383.398 583.043,383.398 583.738,383.129 584.434,382.86 585.129,382.591 585.825,382.321 \n",
       "  586.52,382.052 587.216,381.783 587.911,381.514 588.606,381.514 589.302,381.245 589.997,380.976 590.693,380.707 591.388,380.438 592.083,380.168 592.779,379.899 \n",
       "  593.474,379.63 594.17,379.361 594.865,379.092 595.561,378.823 596.256,378.823 596.951,378.554 597.647,378.285 598.342,378.015 599.038,377.746 599.733,377.477 \n",
       "  600.428,377.208 601.124,376.939 601.819,376.67 602.515,376.401 603.21,376.132 603.906,375.862 604.601,375.862 605.296,375.593 605.992,375.324 606.687,375.055 \n",
       "  607.383,374.786 608.078,374.517 608.773,374.248 609.469,373.979 610.164,373.979 610.86,373.709 611.555,373.44 612.251,373.171 612.946,372.902 613.641,372.633 \n",
       "  614.337,372.364 615.032,372.095 615.728,371.825 616.423,371.556 617.118,371.287 617.814,371.018 618.509,370.749 619.205,370.749 619.9,370.48 620.596,370.211 \n",
       "  621.291,369.942 621.986,369.672 622.682,369.403 623.377,369.134 624.073,369.134 624.768,368.865 625.463,368.596 626.159,368.327 626.854,368.058 627.55,367.789 \n",
       "  628.245,367.519 628.941,367.25 629.636,366.981 630.331,366.712 631.027,366.443 631.722,366.443 632.418,366.174 633.113,365.905 633.808,365.636 634.504,365.366 \n",
       "  635.199,365.097 635.895,364.828 636.59,364.559 637.286,364.29 637.981,364.29 638.676,364.021 639.372,363.752 640.067,363.483 640.763,363.213 641.458,362.944 \n",
       "  642.153,362.675 642.849,362.406 643.544,362.137 644.24,361.868 644.935,361.868 645.631,361.599 646.326,361.33 647.021,361.06 647.717,360.791 648.412,360.522 \n",
       "  649.108,360.253 649.803,359.984 650.498,359.984 651.194,359.715 651.889,359.446 652.585,359.177 653.28,358.907 653.976,358.638 654.671,358.369 655.366,358.1 \n",
       "  656.062,357.831 656.757,357.562 657.453,357.562 658.148,357.293 658.843,357.024 659.539,356.754 660.234,356.485 660.93,356.216 661.625,355.947 662.321,355.678 \n",
       "  663.016,355.409 663.711,355.14 664.407,354.871 665.102,354.601 665.798,354.601 666.493,354.332 667.188,354.063 667.884,353.794 668.579,353.525 669.275,353.256 \n",
       "  669.97,352.987 670.666,352.718 671.361,352.448 672.056,352.179 672.752,351.91 673.447,351.91 674.143,351.641 674.838,351.372 675.533,351.103 676.229,350.834 \n",
       "  676.924,350.565 677.62,350.295 678.315,350.026 679.011,349.757 679.706,349.488 680.401,349.219 681.097,348.95 681.792,348.95 682.488,348.681 683.183,348.411 \n",
       "  683.878,348.142 684.574,347.873 685.269,347.604 685.965,347.335 686.66,347.335 687.356,347.066 688.051,346.797 688.746,346.528 689.442,346.258 690.137,345.989 \n",
       "  690.833,345.72 691.528,345.451 692.224,345.182 692.919,344.913 693.614,344.644 694.31,344.644 695.005,344.375 695.701,344.105 696.396,343.836 697.091,343.567 \n",
       "  697.787,343.298 698.482,343.029 699.178,342.76 699.873,342.491 700.569,342.491 701.264,342.222 701.959,341.952 702.655,341.683 703.35,341.414 704.046,341.145 \n",
       "  704.741,340.876 705.436,340.607 706.132,340.338 706.827,340.069 707.523,340.069 708.218,339.799 708.914,339.53 709.609,339.261 710.304,338.992 711,338.723 \n",
       "  711.695,338.454 712.391,338.185 713.086,337.916 713.781,337.916 714.477,337.646 715.172,337.377 715.868,337.108 716.563,336.839 717.259,336.57 717.954,336.301 \n",
       "  718.649,336.032 719.345,335.763 720.04,335.763 720.736,335.493 721.431,335.224 722.126,334.955 722.822,334.686 723.517,334.417 724.213,334.148 724.908,333.879 \n",
       "  725.604,333.61 726.299,333.34 726.994,333.071 727.69,332.802 728.385,332.533 729.081,332.264 729.776,332.264 730.471,331.995 731.167,331.726 731.862,331.457 \n",
       "  732.558,331.187 733.253,330.918 733.949,330.649 734.644,330.38 735.339,330.111 736.035,330.111 736.73,329.842 737.426,329.573 738.121,329.304 738.816,329.034 \n",
       "  739.512,328.765 740.207,328.496 740.903,328.227 741.598,327.958 742.294,327.689 742.989,327.689 743.684,327.42 744.38,327.151 745.075,326.881 745.771,326.612 \n",
       "  746.466,326.343 747.161,326.074 747.857,325.805 748.552,325.536 749.248,325.267 749.943,324.997 750.639,324.728 751.334,324.728 752.029,324.459 752.725,324.19 \n",
       "  753.42,323.921 754.116,323.652 754.811,323.383 755.506,323.114 756.202,323.114 756.897,322.844 757.593,322.575 758.288,322.306 758.984,322.037 759.679,321.768 \n",
       "  760.374,321.499 761.07,321.23 761.765,320.961 762.461,320.691 763.156,320.422 763.851,320.153 764.547,320.153 765.242,319.884 765.938,319.615 766.633,319.346 \n",
       "  767.329,319.077 \n",
       "  \"/>\n",
       "<polyline clip-path=\"url(#clip063)\" style=\"stroke:#e26f46; stroke-width:1; stroke-opacity:1; fill:none\" points=\"\n",
       "  71.981,561.266 72.6069,561.048 73.3023,560.806 73.9977,560.564 74.6931,560.322 75.3885,560.079 76.084,559.837 76.7794,559.595 77.4748,559.353 78.1702,559.111 \n",
       "  78.8656,558.868 79.561,558.626 80.2565,558.384 80.9519,558.142 81.6473,557.9 82.3427,557.657 83.0381,557.415 83.7335,557.173 84.429,556.931 85.1244,556.688 \n",
       "  85.8198,556.446 86.5152,556.204 87.2106,555.962 87.906,555.72 88.6015,555.477 89.2969,555.235 89.9923,554.993 90.6877,554.751 91.3831,554.509 92.0786,554.266 \n",
       "  92.774,554.024 93.4694,553.782 94.1648,553.54 94.8602,553.297 95.5556,553.055 96.2511,552.813 96.9465,552.571 97.6419,552.329 98.3373,552.086 99.0327,551.844 \n",
       "  99.7281,551.602 100.424,551.36 101.119,551.118 101.814,550.875 102.51,550.633 103.205,550.391 103.901,550.149 104.596,549.906 105.291,549.664 105.987,549.422 \n",
       "  106.682,549.18 107.378,548.938 108.073,548.695 108.769,548.453 109.464,548.211 110.159,547.969 110.855,547.727 111.55,547.484 112.246,547.242 112.941,547 \n",
       "  113.636,546.758 114.332,546.515 115.027,546.273 115.723,546.031 116.418,545.789 117.114,545.547 117.809,545.304 118.504,545.062 119.2,544.82 119.895,544.578 \n",
       "  120.591,544.336 121.286,544.093 121.981,543.851 122.677,543.609 123.372,543.367 124.068,543.124 124.763,542.882 125.459,542.64 126.154,542.398 126.849,542.156 \n",
       "  127.545,541.913 128.24,541.671 128.936,541.429 129.631,541.187 130.326,540.945 131.022,540.702 131.717,540.46 132.413,540.218 133.108,539.976 133.804,539.733 \n",
       "  134.499,539.491 135.194,539.249 135.89,539.007 136.585,538.765 137.281,538.522 137.976,538.28 138.671,538.038 139.367,537.796 140.062,537.554 140.758,537.311 \n",
       "  141.453,537.069 142.149,536.827 142.844,536.585 143.539,536.342 144.235,536.1 144.93,535.858 145.626,535.616 146.321,535.374 147.017,535.131 147.712,534.889 \n",
       "  148.407,534.647 149.103,534.405 149.798,534.163 150.494,533.92 151.189,533.678 151.884,533.436 152.58,533.194 153.275,532.951 153.971,532.709 154.666,532.467 \n",
       "  155.362,532.225 156.057,531.983 156.752,531.74 157.448,531.498 158.143,531.256 158.839,531.014 159.534,530.772 160.229,530.529 160.925,530.287 161.62,530.045 \n",
       "  162.316,529.803 163.011,529.56 163.707,529.318 164.402,529.076 165.097,528.834 165.793,528.592 166.488,528.349 167.184,528.107 167.879,527.865 168.574,527.623 \n",
       "  169.27,527.381 169.965,527.138 170.661,526.896 171.356,526.654 172.052,526.412 172.747,526.17 173.442,525.927 174.138,525.685 174.833,525.443 175.529,525.201 \n",
       "  176.224,524.958 176.919,524.716 177.615,524.474 178.31,524.232 179.006,523.99 179.701,523.747 180.397,523.505 181.092,523.263 181.787,523.021 182.483,522.779 \n",
       "  183.178,522.536 183.874,522.294 184.569,522.052 185.264,521.81 185.96,521.567 186.655,521.325 187.351,521.083 188.046,520.841 188.742,520.599 189.437,520.356 \n",
       "  190.132,520.114 190.828,519.872 191.523,519.63 192.219,519.388 192.914,519.145 193.609,518.903 194.305,518.661 195,518.419 195.696,518.176 196.391,517.934 \n",
       "  197.087,517.692 197.782,517.45 198.477,517.208 199.173,516.965 199.868,516.723 200.564,516.481 201.259,516.239 201.954,515.997 202.65,515.754 203.345,515.512 \n",
       "  204.041,515.27 204.736,515.028 205.432,514.785 206.127,514.543 206.822,514.301 207.518,514.059 208.213,513.817 208.909,513.574 209.604,513.332 210.299,513.09 \n",
       "  210.995,512.848 211.69,512.606 212.386,512.363 213.081,512.121 213.777,511.879 214.472,511.637 215.167,511.394 215.863,511.152 216.558,510.91 217.254,510.668 \n",
       "  217.949,510.426 218.644,510.183 219.34,509.941 220.035,509.699 220.731,509.457 221.426,509.215 222.122,508.972 222.817,508.73 223.512,508.488 224.208,508.246 \n",
       "  224.903,508.003 225.599,507.761 226.294,507.519 226.989,507.277 227.685,507.035 228.38,506.792 229.076,506.55 229.771,506.308 230.467,506.066 231.162,505.824 \n",
       "  231.857,505.581 232.553,505.339 233.248,505.097 233.944,504.855 234.639,504.612 235.334,504.37 236.03,504.128 236.725,503.886 237.421,503.644 238.116,503.401 \n",
       "  238.812,503.159 239.507,502.917 240.202,502.675 240.898,502.433 241.593,502.19 242.289,501.948 242.984,501.706 243.679,501.464 244.375,501.221 245.07,500.979 \n",
       "  245.766,500.737 246.461,500.495 247.157,500.253 247.852,500.01 248.547,499.768 249.243,499.526 249.938,499.284 250.634,499.042 251.329,498.799 252.024,498.557 \n",
       "  252.72,498.315 253.415,498.073 254.111,497.83 254.806,497.588 255.502,497.346 256.197,497.104 256.892,496.862 257.588,496.619 258.283,496.377 258.979,496.135 \n",
       "  259.674,495.893 260.369,495.651 261.065,495.408 261.76,495.166 262.456,494.924 263.151,494.682 263.847,494.439 264.542,494.197 265.237,493.955 265.933,493.713 \n",
       "  266.628,493.471 267.324,493.228 268.019,492.986 268.714,492.744 269.41,492.502 270.105,492.26 270.801,492.017 271.496,491.775 272.192,491.533 272.887,491.291 \n",
       "  273.582,491.049 274.278,490.806 274.973,490.564 275.669,490.322 276.364,490.08 277.059,489.837 277.755,489.595 278.45,489.353 279.146,489.111 279.841,488.869 \n",
       "  280.537,488.626 281.232,488.384 281.927,488.142 282.623,487.9 283.318,487.658 284.014,487.415 284.709,487.173 285.405,486.931 286.1,486.689 286.795,486.446 \n",
       "  287.491,486.204 288.186,485.962 288.882,485.72 289.577,485.478 290.272,485.235 290.968,484.993 291.663,484.751 292.359,484.509 293.054,484.267 293.75,484.024 \n",
       "  294.445,483.782 295.14,483.54 295.836,483.298 296.531,483.055 297.227,482.813 297.922,482.571 298.617,482.329 299.313,482.087 300.008,481.844 300.704,481.602 \n",
       "  301.399,481.36 302.095,481.118 302.79,480.876 303.485,480.633 304.181,480.391 304.876,480.149 305.572,479.907 306.267,479.664 306.962,479.422 307.658,479.18 \n",
       "  308.353,478.938 309.049,478.696 309.744,478.453 310.44,478.211 311.135,477.969 311.83,477.727 312.526,477.485 313.221,477.242 313.917,477 314.612,476.758 \n",
       "  315.307,476.516 316.003,476.273 316.698,476.031 317.394,475.789 318.089,475.547 318.785,475.305 319.48,475.062 320.175,474.82 320.871,474.578 321.566,474.336 \n",
       "  322.262,474.094 322.957,473.851 323.652,473.609 324.348,473.367 325.043,473.125 325.739,472.882 326.434,472.64 327.13,472.398 327.825,472.156 328.52,471.914 \n",
       "  329.216,471.671 329.911,471.429 330.607,471.187 331.302,470.945 331.997,470.703 332.693,470.46 333.388,470.218 334.084,469.976 334.779,469.734 335.475,469.491 \n",
       "  336.17,469.249 336.865,469.007 337.561,468.765 338.256,468.523 338.952,468.28 339.647,468.038 340.342,467.796 341.038,467.554 341.733,467.312 342.429,467.069 \n",
       "  343.124,466.827 343.82,466.585 344.515,466.343 345.21,466.1 345.906,465.858 346.601,465.616 347.297,465.374 347.992,465.132 348.687,464.889 349.383,464.647 \n",
       "  350.078,464.405 350.774,464.163 351.469,463.921 352.165,463.678 352.86,463.436 353.555,463.194 354.251,462.952 354.946,462.709 355.642,462.467 356.337,462.225 \n",
       "  357.032,461.983 357.728,461.741 358.423,461.498 359.119,461.256 359.814,461.014 360.51,460.772 361.205,460.53 361.9,460.287 362.596,460.045 363.291,459.803 \n",
       "  363.987,459.561 364.682,459.318 365.377,459.076 366.073,458.834 366.768,458.592 367.464,458.35 368.159,458.107 368.855,457.865 369.55,457.623 370.245,457.381 \n",
       "  370.941,457.139 371.636,456.896 372.332,456.654 373.027,456.412 373.722,456.17 374.418,455.928 375.113,455.685 375.809,455.443 376.504,455.201 377.2,454.959 \n",
       "  377.895,454.716 378.59,454.474 379.286,454.232 379.981,453.99 380.677,453.748 381.372,453.505 382.067,453.263 382.763,453.021 383.458,452.779 384.154,452.537 \n",
       "  384.849,452.294 385.545,452.052 386.24,451.81 386.935,451.568 387.631,451.325 388.326,451.083 389.022,450.841 389.717,450.599 390.412,450.357 391.108,450.114 \n",
       "  391.803,449.872 392.499,449.63 393.194,449.388 393.89,449.146 394.585,448.903 395.28,448.661 395.976,448.419 396.671,448.177 397.367,447.934 398.062,447.692 \n",
       "  398.757,447.45 399.453,447.208 400.148,446.966 400.844,446.723 401.539,446.481 402.235,446.239 402.93,445.997 403.625,445.755 404.321,445.512 405.016,445.27 \n",
       "  405.712,445.028 406.407,444.786 407.102,444.543 407.798,444.301 408.493,444.059 409.189,443.817 409.884,443.575 410.58,443.332 411.275,443.09 411.97,442.848 \n",
       "  412.666,442.606 413.361,442.364 414.057,442.121 414.752,441.879 415.447,441.637 416.143,441.395 416.838,441.152 417.534,440.91 418.229,440.668 418.925,440.426 \n",
       "  419.62,440.184 420.315,439.941 421.011,439.699 421.706,439.457 422.402,439.215 423.097,438.973 423.793,438.73 424.488,438.488 425.183,438.246 425.879,438.004 \n",
       "  426.574,437.761 427.27,437.519 427.965,437.277 428.66,437.035 429.356,436.793 430.051,436.55 430.747,436.308 431.442,436.066 432.138,435.824 432.833,435.582 \n",
       "  433.528,435.339 434.224,435.097 434.919,434.855 435.615,434.613 436.31,434.37 437.005,434.128 437.701,433.886 438.396,433.644 439.092,433.402 439.787,433.159 \n",
       "  440.483,432.917 441.178,432.675 441.873,432.433 442.569,432.191 443.264,431.948 443.96,431.706 444.655,431.464 445.35,431.222 446.046,430.979 446.741,430.737 \n",
       "  447.437,430.495 448.132,430.253 448.828,430.011 449.523,429.768 450.218,429.526 450.914,429.284 451.609,429.042 452.305,428.8 453,428.557 453.695,428.315 \n",
       "  454.391,428.073 455.086,427.831 455.782,427.588 456.477,427.346 457.173,427.104 457.868,426.862 458.563,426.62 459.259,426.377 459.954,426.135 460.65,425.893 \n",
       "  461.345,425.651 462.04,425.409 462.736,425.166 463.431,424.924 464.127,424.682 464.822,424.44 465.518,424.197 466.213,423.955 466.908,423.713 467.604,423.471 \n",
       "  468.299,423.229 468.995,422.986 469.69,422.744 470.385,422.502 471.081,422.26 471.776,422.018 472.472,421.775 473.167,421.533 473.863,421.291 474.558,421.049 \n",
       "  475.253,420.807 475.949,420.564 476.644,420.322 477.34,420.08 478.035,419.838 478.73,419.595 479.426,419.353 480.121,419.111 480.817,418.869 481.512,418.627 \n",
       "  482.208,418.384 482.903,418.142 483.598,417.9 484.294,417.658 484.989,417.416 485.685,417.173 486.38,416.931 487.075,416.689 487.771,416.447 488.466,416.204 \n",
       "  489.162,415.962 489.857,415.72 490.553,415.478 491.248,415.236 491.943,414.993 492.639,414.751 493.334,414.509 494.03,414.267 494.725,414.025 495.42,413.782 \n",
       "  496.116,413.54 496.811,413.298 497.507,413.056 498.202,412.813 498.898,412.571 499.593,412.329 500.288,412.087 500.984,411.845 501.679,411.602 502.375,411.36 \n",
       "  503.07,411.118 503.765,410.876 504.461,410.634 505.156,410.391 505.852,410.149 506.547,409.907 507.243,409.665 507.938,409.422 508.633,409.18 509.329,408.938 \n",
       "  510.024,408.696 510.72,408.454 511.415,408.211 512.11,407.969 512.806,407.727 513.501,407.485 514.197,407.243 514.892,407 515.588,406.758 516.283,406.516 \n",
       "  516.978,406.274 517.674,406.031 518.369,405.789 519.065,405.547 519.76,405.305 520.455,405.063 521.151,404.82 521.846,404.578 522.542,404.336 523.237,404.094 \n",
       "  523.933,403.852 524.628,403.609 525.323,403.367 526.019,403.125 526.714,402.883 527.41,402.64 528.105,402.398 528.8,402.156 529.496,401.914 530.191,401.672 \n",
       "  530.887,401.429 531.582,401.187 532.278,400.945 532.973,400.703 533.668,400.461 534.364,400.218 535.059,399.976 535.755,399.734 536.45,399.492 537.145,399.249 \n",
       "  537.841,399.007 538.536,398.765 539.232,398.523 539.927,398.281 540.623,398.038 541.318,397.796 542.013,397.554 542.709,397.312 543.404,397.07 544.1,396.827 \n",
       "  544.795,396.585 545.49,396.343 546.186,396.101 546.881,395.858 547.577,395.616 548.272,395.374 548.968,395.132 549.663,394.89 550.358,394.647 551.054,394.405 \n",
       "  551.749,394.163 552.445,393.921 553.14,393.679 553.836,393.436 554.531,393.194 555.226,392.952 555.922,392.71 556.617,392.467 557.313,392.225 558.008,391.983 \n",
       "  558.703,391.741 559.399,391.499 560.094,391.256 560.79,391.014 561.485,390.772 562.181,390.53 562.876,390.288 563.571,390.045 564.267,389.803 564.962,389.561 \n",
       "  565.658,389.319 566.353,389.076 567.048,388.834 567.744,388.592 568.439,388.35 569.135,388.108 569.83,387.865 570.526,387.623 571.221,387.381 571.916,387.139 \n",
       "  572.612,386.897 573.307,386.654 574.003,386.412 574.698,386.17 575.393,385.928 576.089,385.686 576.784,385.443 577.48,385.201 578.175,384.959 578.871,384.717 \n",
       "  579.566,384.474 580.261,384.232 580.957,383.99 581.652,383.748 582.348,383.506 583.043,383.263 583.738,383.021 584.434,382.779 585.129,382.537 585.825,382.295 \n",
       "  586.52,382.052 587.216,381.81 587.911,381.568 588.606,381.326 589.302,381.083 589.997,380.841 590.693,380.599 591.388,380.357 592.083,380.115 592.779,379.872 \n",
       "  593.474,379.63 594.17,379.388 594.865,379.146 595.561,378.904 596.256,378.661 596.951,378.419 597.647,378.177 598.342,377.935 599.038,377.692 599.733,377.45 \n",
       "  600.428,377.208 601.124,376.966 601.819,376.724 602.515,376.481 603.21,376.239 603.906,375.997 604.601,375.755 605.296,375.513 605.992,375.27 606.687,375.028 \n",
       "  607.383,374.786 608.078,374.544 608.773,374.301 609.469,374.059 610.164,373.817 610.86,373.575 611.555,373.333 612.251,373.09 612.946,372.848 613.641,372.606 \n",
       "  614.337,372.364 615.032,372.122 615.728,371.879 616.423,371.637 617.118,371.395 617.814,371.153 618.509,370.91 619.205,370.668 619.9,370.426 620.596,370.184 \n",
       "  621.291,369.942 621.986,369.699 622.682,369.457 623.377,369.215 624.073,368.973 624.768,368.731 625.463,368.488 626.159,368.246 626.854,368.004 627.55,367.762 \n",
       "  628.245,367.519 628.941,367.277 629.636,367.035 630.331,366.793 631.027,366.551 631.722,366.308 632.418,366.066 633.113,365.824 633.808,365.582 634.504,365.34 \n",
       "  635.199,365.097 635.895,364.855 636.59,364.613 637.286,364.371 637.981,364.128 638.676,363.886 639.372,363.644 640.067,363.402 640.763,363.16 641.458,362.917 \n",
       "  642.153,362.675 642.849,362.433 643.544,362.191 644.24,361.949 644.935,361.706 645.631,361.464 646.326,361.222 647.021,360.98 647.717,360.737 648.412,360.495 \n",
       "  649.108,360.253 649.803,360.011 650.498,359.769 651.194,359.526 651.889,359.284 652.585,359.042 653.28,358.8 653.976,358.558 654.671,358.315 655.366,358.073 \n",
       "  656.062,357.831 656.757,357.589 657.453,357.346 658.148,357.104 658.843,356.862 659.539,356.62 660.234,356.378 660.93,356.135 661.625,355.893 662.321,355.651 \n",
       "  663.016,355.409 663.711,355.167 664.407,354.924 665.102,354.682 665.798,354.44 666.493,354.198 667.188,353.955 667.884,353.713 668.579,353.471 669.275,353.229 \n",
       "  669.97,352.987 670.666,352.744 671.361,352.502 672.056,352.26 672.752,352.018 673.447,351.776 674.143,351.533 674.838,351.291 675.533,351.049 676.229,350.807 \n",
       "  676.924,350.565 677.62,350.322 678.315,350.08 679.011,349.838 679.706,349.596 680.401,349.353 681.097,349.111 681.792,348.869 682.488,348.627 683.183,348.385 \n",
       "  683.878,348.142 684.574,347.9 685.269,347.658 685.965,347.416 686.66,347.174 687.356,346.931 688.051,346.689 688.746,346.447 689.442,346.205 690.137,345.962 \n",
       "  690.833,345.72 691.528,345.478 692.224,345.236 692.919,344.994 693.614,344.751 694.31,344.509 695.005,344.267 695.701,344.025 696.396,343.783 697.091,343.54 \n",
       "  697.787,343.298 698.482,343.056 699.178,342.814 699.873,342.571 700.569,342.329 701.264,342.087 701.959,341.845 702.655,341.603 703.35,341.36 704.046,341.118 \n",
       "  704.741,340.876 705.436,340.634 706.132,340.392 706.827,340.149 707.523,339.907 708.218,339.665 708.914,339.423 709.609,339.18 710.304,338.938 711,338.696 \n",
       "  711.695,338.454 712.391,338.212 713.086,337.969 713.781,337.727 714.477,337.485 715.172,337.243 715.868,337.001 716.563,336.758 717.259,336.516 717.954,336.274 \n",
       "  718.649,336.032 719.345,335.789 720.04,335.547 720.736,335.305 721.431,335.063 722.126,334.821 722.822,334.578 723.517,334.336 724.213,334.094 724.908,333.852 \n",
       "  725.604,333.61 726.299,333.367 726.994,333.125 727.69,332.883 728.385,332.641 729.081,332.398 729.776,332.156 730.471,331.914 731.167,331.672 731.862,331.43 \n",
       "  732.558,331.187 733.253,330.945 733.949,330.703 734.644,330.461 735.339,330.219 736.035,329.976 736.73,329.734 737.426,329.492 738.121,329.25 738.816,329.007 \n",
       "  739.512,328.765 740.207,328.523 740.903,328.281 741.598,328.039 742.294,327.796 742.989,327.554 743.684,327.312 744.38,327.07 745.075,326.828 745.771,326.585 \n",
       "  746.466,326.343 747.161,326.101 747.857,325.859 748.552,325.616 749.248,325.374 749.943,325.132 750.639,324.89 751.334,324.648 752.029,324.405 752.725,324.163 \n",
       "  753.42,323.921 754.116,323.679 754.811,323.437 755.506,323.194 756.202,322.952 756.897,322.71 757.593,322.468 758.288,322.225 758.984,321.983 759.679,321.741 \n",
       "  760.374,321.499 761.07,321.257 761.765,321.014 762.461,320.772 763.156,320.53 763.851,320.288 764.547,320.046 765.242,319.803 765.938,319.561 766.633,319.319 \n",
       "  767.329,319.077 \n",
       "  \"/>\n",
       "<path clip-path=\"url(#clip060)\" d=\"\n",
       "M668.969 365.728 L763.62 365.728 L763.62 320.368 L668.969 320.368  Z\n",
       "  \" fill=\"#ffffff\" fill-rule=\"evenodd\" fill-opacity=\"1\"/>\n",
       "<polyline clip-path=\"url(#clip060)\" style=\"stroke:#000000; stroke-width:1; stroke-opacity:1; fill:none\" points=\"\n",
       "  668.969,365.728 763.62,365.728 763.62,320.368 668.969,320.368 668.969,365.728 \n",
       "  \"/>\n",
       "<polyline clip-path=\"url(#clip060)\" style=\"stroke:#009af9; stroke-width:1; stroke-opacity:1; fill:none\" points=\"\n",
       "  677.159,335.488 726.297,335.488 \n",
       "  \"/>\n",
       "<path clip-path=\"url(#clip060)\" d=\"M 0 0 M737.947 340.41 Q737.495 341.568 737.067 341.921 Q736.639 342.274 735.921 342.274 L735.071 342.274 L735.071 341.382 L735.696 341.382 Q736.135 341.382 736.379 341.174 Q736.622 340.966 736.917 340.19 L737.108 339.704 L734.486 333.327 L735.615 333.327 L737.64 338.396 L739.666 333.327 L740.794 333.327 L737.947 340.41 Z\" fill=\"#000000\" fill-rule=\"evenodd\" fill-opacity=\"1\" /><path clip-path=\"url(#clip060)\" d=\"M 0 0 M742.264 338.825 L744.174 338.825 L744.174 332.233 L742.096 332.65 L742.096 331.585 L744.162 331.168 L745.331 331.168 L745.331 338.825 L747.241 338.825 L747.241 339.808 L742.264 339.808 L742.264 338.825 Z\" fill=\"#000000\" fill-rule=\"evenodd\" fill-opacity=\"1\" /><polyline clip-path=\"url(#clip060)\" style=\"stroke:#e26f46; stroke-width:1; stroke-opacity:1; fill:none\" points=\"\n",
       "  677.159,350.608 726.297,350.608 \n",
       "  \"/>\n",
       "<path clip-path=\"url(#clip060)\" d=\"M 0 0 M737.947 355.53 Q737.495 356.688 737.067 357.041 Q736.639 357.394 735.921 357.394 L735.071 357.394 L735.071 356.502 L735.696 356.502 Q736.135 356.502 736.379 356.294 Q736.622 356.086 736.917 355.31 L737.108 354.824 L734.486 348.447 L735.615 348.447 L737.64 353.516 L739.666 348.447 L740.794 348.447 L737.947 355.53 Z\" fill=\"#000000\" fill-rule=\"evenodd\" fill-opacity=\"1\" /><path clip-path=\"url(#clip060)\" d=\"M 0 0 M743.068 353.945 L747.148 353.945 L747.148 354.928 L741.662 354.928 L741.662 353.945 Q742.328 353.256 743.473 352.099 Q744.625 350.935 744.92 350.6 Q745.481 349.969 745.701 349.535 Q745.927 349.095 745.927 348.673 Q745.927 347.984 745.441 347.55 Q744.961 347.116 744.185 347.116 Q743.635 347.116 743.022 347.307 Q742.414 347.498 741.72 347.886 L741.72 346.705 Q742.426 346.421 743.039 346.277 Q743.653 346.132 744.162 346.132 Q745.505 346.132 746.303 346.803 Q747.102 347.475 747.102 348.597 Q747.102 349.13 746.899 349.61 Q746.703 350.085 746.176 350.733 Q746.031 350.901 745.256 351.705 Q744.48 352.504 743.068 353.945 Z\" fill=\"#000000\" fill-rule=\"evenodd\" fill-opacity=\"1\" /></svg>\n"
      ]
     },
     "execution_count": 5,
     "metadata": {},
     "output_type": "execute_result"
    }
   ],
   "source": [
    "# import matplotlib.pyplot as plt\n",
    "# plt.rc('xtick',labelsize=20) \n",
    "# plt.rc('ytick',labelsize=20) \n",
    "\n",
    "# fig = plt.figure(figsize=(15.0,10.0))\n",
    "# ax  = fig.add_subplot(2,1,1); ax.grid();\n",
    "# ax.set_ylabel(\"$V(W)$\",size=24);\n",
    "# ax.plot(wgrid,vvec,'b-')\n",
    "# ax.plot(wgrid,vvec0,'r--')\n",
    "\n",
    "# ax  = fig.add_subplot(2,1,2); ax.grid();\n",
    "# ax.set_xlabel(\"$W$\",size=24);\n",
    "# ax.set_ylabel(\"$W'(W)$\",size=24);\n",
    "# ax.plot(wgrid,wvec,'b-')\n",
    "# ax.plot(wgrid,wvec0,'r--')\n",
    "\n",
    "using Plots\n",
    "plot(\n",
    "    plot([wgrid wgrid],[vvec0 vvec]),\n",
    "    plot([wgrid wgrid],[wvec0 wvec]),\n",
    "    layout=(2,1),size=(800,600))"
   ]
  },
  {
   "cell_type": "markdown",
   "metadata": {
    "slideshow": {
     "slide_type": "slide"
    }
   },
   "source": [
    "# Applying dynamic programming to RCK models\n",
    "\n",
    "- The individual solves the problem of\n",
    "\n",
    "$$\n",
    "\\begin{align}\n",
    "    & \\max_{\\{c_{t},k_{t+1}\\}}\\sum_{t=0}^{\\infty}\\beta^{t}\\log c_{t} \\\\\n",
    "    & \\text{subject to} \\\\\n",
    "    & c_{t}+k_{t+1}-(1-\\delta)k_{t}=f(k_{t}), \\\\\n",
    "    & k_{0} \\text{ is given}.\n",
    "\\end{align}\n",
    "$$\n",
    "\n",
    "- $k_{t}$ is the state variable. What is the control variable?"
   ]
  },
  {
   "cell_type": "markdown",
   "metadata": {
    "slideshow": {
     "slide_type": "subslide"
    }
   },
   "source": [
    "## Bellman equation\n",
    "\n",
    "- The value function is given by\n",
    "\n",
    "$$\n",
    "    V(k_{0})=\\max\\sum_{t=0}^{\\infty}\\beta^{t}u(f(k_{t})+(1-\\delta)k_{t}-k_{t+1})\n",
    "$$\n",
    "\n",
    "- It can be written recursively\n",
    "\n",
    "$$\n",
    "    V(k)=\\max_{k'}u(f(k)+(1-\\delta)k-k')+\\beta V(k').\n",
    "$$"
   ]
  },
  {
   "cell_type": "markdown",
   "metadata": {
    "slideshow": {
     "slide_type": "subslide"
    }
   },
   "source": [
    "## Solving the Bellman equation\n",
    "\n",
    "- The first order condition wrt $k'$ is given by\n",
    "\n",
    "$$\n",
    "u'(\\underbrace{f(k)+(1-\\delta)k-k'}_{c})=\\beta V'(k').\n",
    "$$"
   ]
  },
  {
   "cell_type": "markdown",
   "metadata": {
    "slideshow": {
     "slide_type": "fragment"
    }
   },
   "source": [
    "- The Benveniste-Scheinkman theorem yields\n",
    "\n",
    "$$\n",
    "V'(k)=u'(\\underbrace{f(k)+(1-\\delta)k-k'}_{c})\\left(f'(k)+1-\\delta\\right).\n",
    "$$"
   ]
  },
  {
   "cell_type": "markdown",
   "metadata": {
    "slideshow": {
     "slide_type": "fragment"
    }
   },
   "source": [
    "- which implies\n",
    "\n",
    "$$\n",
    "V'(k')=u'(\\underbrace{f(k')+(1-\\delta)k'-k''}_{c'})\\left(f'(k')+1-\\delta\\right).\n",
    "$$"
   ]
  },
  {
   "cell_type": "markdown",
   "metadata": {
    "slideshow": {
     "slide_type": "subslide"
    }
   },
   "source": [
    "- Substitution leads to the Euler equation:\n",
    "\n",
    "$$\n",
    "u'(c)=\\beta u'(c')\\left(f'(k')+1-\\delta\\right).\n",
    "$$"
   ]
  },
  {
   "cell_type": "markdown",
   "metadata": {
    "slideshow": {
     "slide_type": "subslide"
    }
   },
   "source": [
    "## Value function iteration\n",
    "\n",
    "- We use the value function iteration method to find an approximation of the value and policy functions."
   ]
  },
  {
   "cell_type": "markdown",
   "metadata": {
    "slideshow": {
     "slide_type": "fragment"
    }
   },
   "source": [
    "- Assume $u(c)=\\ln(c)$ and $f(k)=k^{\\theta}$. We write the Bellman equation as \n",
    "\n",
    "$$\n",
    "V^{*}(k)=\\max_{k'}\\left\\{ \\ln(k^{\\theta}+(1-\\delta)k-k')+\\beta V(k')\\right\\} ,\n",
    "$$\n",
    "\n",
    "given the function $V(k)$."
   ]
  },
  {
   "cell_type": "markdown",
   "metadata": {
    "slideshow": {
     "slide_type": "subslide"
    }
   },
   "source": [
    "- We update the value function iteratively until the function converges, i.e., $\\left\\Vert V^{*}(k)-V(k)\\right\\Vert \\leq\\epsilon$."
   ]
  },
  {
   "cell_type": "markdown",
   "metadata": {
    "slideshow": {
     "slide_type": "fragment"
    }
   },
   "source": [
    "- We need to approximate $V(k')$, and numerically solve the maximization problem with regard to $k'$."
   ]
  }
 ],
 "metadata": {
  "@webio": {
   "lastCommId": null,
   "lastKernelId": null
  },
  "celltoolbar": "Slideshow",
  "kernelspec": {
   "display_name": "Julia 1.6.1",
   "language": "julia",
   "name": "julia-1.6"
  },
  "language_info": {
   "file_extension": ".jl",
   "mimetype": "application/julia",
   "name": "julia",
   "version": "1.6.1"
  },
  "rise": {
   "enable_chalkboard": true
  }
 },
 "nbformat": 4,
 "nbformat_minor": 4
}
