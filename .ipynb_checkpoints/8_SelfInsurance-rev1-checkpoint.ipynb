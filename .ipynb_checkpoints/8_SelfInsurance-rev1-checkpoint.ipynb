{
 "cells": [
  {
   "cell_type": "markdown",
   "metadata": {
    "slideshow": {
     "slide_type": "slide"
    }
   },
   "source": [
    "# Incomplete market and self insurance\n",
    "<br>\n",
    "<div style=\"text-align: center;\">\n",
    "July 2020, revised June 2021 Takeki Sunakawa\n",
    "<br>\n",
    "<div style=\"text-align: center;\">    \n",
    "Hitotsubashi University"
   ]
  },
  {
   "cell_type": "markdown",
   "metadata": {
    "slideshow": {
     "slide_type": "subslide"
    }
   },
   "source": [
    "## Introduction\n",
    "\n",
    "- So far we have considered complete markets and any individual risk is insured."
   ]
  },
  {
   "cell_type": "markdown",
   "metadata": {
    "slideshow": {
     "slide_type": "fragment"
    }
   },
   "source": [
    "- However, if markets are incomplete, risk is not insured."
   ]
  },
  {
   "cell_type": "markdown",
   "metadata": {
    "slideshow": {
     "slide_type": "fragment"
    }
   },
   "source": [
    "- Let $q$ be the price of a risk-free bond and $\\beta$ be the discount factor. In general equilibrium, \n",
    "  - $q=\\beta$ holds with complete markets, and\n",
    "  - $q>\\beta$ holds with incomplete markets."
   ]
  },
  {
   "cell_type": "markdown",
   "metadata": {
    "slideshow": {
     "slide_type": "fragment"
    }
   },
   "source": [
    "- In partial equilibrium, $q=\\beta$ and incomplete markets with uncertainty may lead to a *divergence* of the consumption sequence."
   ]
  },
  {
   "cell_type": "markdown",
   "metadata": {
    "slideshow": {
     "slide_type": "subslide"
    }
   },
   "source": [
    "- My lecture is based on LS ch.8 and ch.17. I also found that Chris Edmond's teaching notes are useful (available at http://www.chrisedmond.net/teaching.html)."
   ]
  },
  {
   "cell_type": "markdown",
   "metadata": {
    "slideshow": {
     "slide_type": "subslide"
    }
   },
   "source": [
    "## Recap: Risk-sharing in two-period, two-state model\n",
    "\n",
    "- The individual $i\\in\\{1,2\\}$ maximizes \n",
    "\n",
    "$$\n",
    "    u(c_{1}^{i}) + \\beta \\left\\{\\pi(1)u(c_{2}^{i}(1))+\\pi(2)u(c_{2}^{i}(2))\\right\\} \n",
    "$$\n",
    "\n",
    "$\\beta\\in(0,1)$ is discount factor and $u(c)$ satisfies the standard assumptions: $u_{c}>0$ and $u_{cc}<0$."
   ]
  },
  {
   "cell_type": "markdown",
   "metadata": {
    "slideshow": {
     "slide_type": "fragment"
    }
   },
   "source": [
    "- There are two states of the economy in period 2. The probability of state 1 is $\\pi(1)$ and that of state 2 is $\\pi(2)$."
   ]
  },
  {
   "cell_type": "markdown",
   "metadata": {
    "slideshow": {
     "slide_type": "fragment"
    }
   },
   "source": [
    "- $c_{1}^{i}$ is consumption in period 1. $(c_{2}^{i}(1),c_{2}^{i}(2))$ is a pair of consumption for each state in period 2."
   ]
  },
  {
   "cell_type": "markdown",
   "metadata": {
    "slideshow": {
     "slide_type": "fragment"
    }
   },
   "source": [
    "- The individual $i$'s endowment in period 2 takes either of $(y_{2}^{i}(1),y_{2}^{i}(2))$, depending on the state."
   ]
  },
  {
   "cell_type": "markdown",
   "metadata": {
    "slideshow": {
     "slide_type": "subslide"
    }
   },
   "source": [
    "- Budget constraints of the individual $i$ are given by (period 1 good is numeraire)\n",
    "\n",
    "$$\n",
    "\\begin{align}\n",
    "    c_{1}^{i} + q(1)b_{2}^{i}(1) + q(2)b_{2}^{i}(2) &\\leq y_{1}^{i}, \\\\\n",
    "    c_{2}^{i}(1) &\\leq y_{2}^{i}(1) + b_{2}^{i}(1), \\\\\n",
    "    c_{2}^{i}(2) &\\leq y_{2}^{i}(2) + b_{2}^{i}(2), \\\\\n",
    "\\end{align}\n",
    "$$\n",
    "\n",
    "where "
   ]
  },
  {
   "cell_type": "markdown",
   "metadata": {
    "slideshow": {
     "slide_type": "fragment"
    }
   },
   "source": [
    "- $q(j)$ is the price of an **Arrow-Debreu security** for each state $j$, which returns 1 unit of resources if the state in period 2 is $j$."
   ]
  },
  {
   "cell_type": "markdown",
   "metadata": {
    "slideshow": {
     "slide_type": "fragment"
    }
   },
   "source": [
    "- $b_{2}^{i}(j)$ is the purchased amount of the security by the individual $i$ for each state $j$."
   ]
  },
  {
   "cell_type": "markdown",
   "metadata": {
    "slideshow": {
     "slide_type": "fragment"
    }
   },
   "source": [
    "- These constraints can be summarized into a single budget constraint:\n",
    "\n",
    "$$\n",
    "    c_{1}^{i} + q(1)c_{2}^{i}(1) + q(2)c_{2}^{i}(2) \\leq y_{1} + q(1)y_{2}^{i}(1) + q(2)y_{2}^{i}(2).\n",
    "$$"
   ]
  },
  {
   "cell_type": "markdown",
   "metadata": {
    "slideshow": {
     "slide_type": "subslide"
    }
   },
   "source": [
    "- The Lagrangean is given by\n",
    "\n",
    "$$\n",
    "\\begin{align}\n",
    "    L^{i} &= u(c_{1}^{i}) + \\beta \\left\\{\\pi(1)u(c_{2}^{i}(1))+\\pi(2)u(c_{2}^{i}(2))\\right\\} \\\\\n",
    "    &-\\mu^{i}\\left( c_{1}^{i} + q(1)c_{2}^{i}(1) + q(2)c_{2}^{i}(2) - y_{1} - q(1)y_{2}^{i}(1) - q(2)y_{2}^{i}(2) \\right).\n",
    "\\end{align}\n",
    "$$"
   ]
  },
  {
   "cell_type": "markdown",
   "metadata": {
    "slideshow": {
     "slide_type": "fragment"
    }
   },
   "source": [
    "- The FONCs are\n",
    "\n",
    "$$\n",
    "\\begin{align}\n",
    "    u'(c_{1}^{i}) &= \\mu^{i}, \\\\\n",
    "    \\beta \\pi(1) u'(c_{2}^{i}(1)) &= \\mu^{i} q(1), \\\\\n",
    "    \\beta \\pi(2) u'(c_{2}^{i}(2)) &= \\mu^{i} q(2).\n",
    "\\end{align}\n",
    "$$"
   ]
  },
  {
   "cell_type": "markdown",
   "metadata": {
    "slideshow": {
     "slide_type": "subslide"
    }
   },
   "source": [
    "- By using the FONCs for individuals $i=1,2$,\n",
    "\n",
    "$$\n",
    "    \\frac{\\mu^{1}}{\\mu^{2}}=\\frac{u'(c_{1}^{1})}{u'(c_{1}^{2})} = \\frac{u'(c_{2}^{1}(j))}{u'(c_{2}^{2}(j))} \\tag{1}\n",
    "$$\n",
    "\n",
    "holds for each state $j=1,2$. \n",
    "\n",
    "**Consumption risk is insured** so that the ratio of the marginal utilities is constant over time and across states."
   ]
  },
  {
   "cell_type": "markdown",
   "metadata": {
    "slideshow": {
     "slide_type": "subslide"
    }
   },
   "source": [
    "### Closing the model\n",
    "\n",
    "- The asset markets clear:\n",
    "\n",
    "$$\n",
    "\\begin{align}\n",
    "    & b_{2}^{1}(1) + b_{2}^{2}(1) = 0, \\\\\n",
    "    & b_{2}^{1}(2) + b_{2}^{2}(2) = 0.  \n",
    "\\end{align}\n",
    "$$\n",
    "\n",
    "<!--We have 6+2+4=12 eqs and 6+4+2=12 vars $(c_{1}^{i},c_{2}^{i}(1),c_{2}^{i}(2),b_{2}^{i}(1),b_{2}^{i}(2))$ and $(q(1),q(2))$.-->"
   ]
  },
  {
   "cell_type": "markdown",
   "metadata": {
    "slideshow": {
     "slide_type": "fragment"
    }
   },
   "source": [
    "- Then the good markets clear in each state in each period. That is, the resource constraints are obtained from the budget constraints\n",
    "\n",
    "$$\n",
    "\\begin{align}\n",
    "    c_{1}^{1} + c_{1}^{2} &= y_{1}^{1} + y_{1}^{2}, \\\\\n",
    "    c_{2}^{1}(1) + c_{2}^{2}(1) &= y_{2}^{1}(1) + y_{2}^{2}(1), \\\\\n",
    "    c_{2}^{1}(2) + c_{2}^{2}(2) &= y_{2}^{1}(2) + y_{2}^{2}(2).\n",
    "\\end{align}\n",
    "$$"
   ]
  },
  {
   "cell_type": "markdown",
   "metadata": {
    "slideshow": {
     "slide_type": "subslide"
    }
   },
   "source": [
    "- From equation (1)\n",
    "\n",
    "$$\n",
    "    c_{2}^{2}(j)=u'^{-1}\\left\\{u'[c_{2}^{1}(j)]\\frac{\\mu^{2}}{\\mu^{1}}\\right\\}.\n",
    "$$"
   ]
  },
  {
   "cell_type": "markdown",
   "metadata": {
    "slideshow": {
     "slide_type": "fragment"
    }
   },
   "source": [
    "- From the resource constraint for each state $j=1,2$ in period 2, we have\n",
    "\n",
    "$$\n",
    "    c_{2}^{1}(j)+u'^{-1}\\left\\{u'[c_{2}^{1}(j)]\\frac{\\mu^{2}}{\\mu^{1}}\\right\\} \\leq y_{2}^{1}(j)+y_{2}^{2}(j). \\tag{2}\n",
    "$$"
   ]
  },
  {
   "cell_type": "markdown",
   "metadata": {
    "slideshow": {
     "slide_type": "fragment"
    }
   },
   "source": [
    "- Similarly, from the resource constraint in period 1, we have\n",
    "\n",
    "$$\n",
    "    c_{1}^{1}+u'^{-1}\\left\\{u'(c_{1}^{1})\\frac{\\mu^{2}}{\\mu^{1}}\\right\\} \\leq y_{1}^{1}+y_{1}^{2}. \\tag{3}\n",
    "$$"
   ]
  },
  {
   "cell_type": "markdown",
   "metadata": {
    "slideshow": {
     "slide_type": "subslide"
    }
   },
   "source": [
    "### Idiosyncratic shocks\n",
    "\n",
    "- If the shocks are idiosyncratic, i.e., there is no aggregate uncertainty, $y_{2}^{1}(j)+y_{2}^{2}(j)=y_{1}^{1}+y_{1}^{2}$ holds."
   ]
  },
  {
   "cell_type": "markdown",
   "metadata": {
    "slideshow": {
     "slide_type": "fragment"
    }
   },
   "source": [
    "- For example, $y_{2}^{1}(1)>y_{2}^{1}(2)$ and $y_{2}^{2}(1)<y_{2}^{2}(2)$ hold. "
   ]
  },
  {
   "cell_type": "markdown",
   "metadata": {
    "slideshow": {
     "slide_type": "fragment"
    }
   },
   "source": [
    "- Then equation (2) and (3) implies that $c_{1}^{1}=c_{2}^{1}(j)=\\bar{c}^{1}$ is constant over time and across states."
   ]
  },
  {
   "cell_type": "markdown",
   "metadata": {
    "slideshow": {
     "slide_type": "fragment"
    }
   },
   "source": [
    "- $c_{1}^{2}=c_{2}^{2}(j)=\\bar{c}^{2}$ is also satisfied."
   ]
  },
  {
   "cell_type": "markdown",
   "metadata": {
    "slideshow": {
     "slide_type": "subslide"
    }
   },
   "source": [
    "- From the Euler equations,\n",
    "\n",
    "$$\n",
    "    q(j) = \\beta \\pi(j)\n",
    "$$\n",
    "\n",
    "holds for $j=1,2$."
   ]
  },
  {
   "cell_type": "markdown",
   "metadata": {
    "slideshow": {
     "slide_type": "fragment"
    }
   },
   "source": [
    "- The budget constraint for each individual $i$ implies\n",
    "\n",
    "$$\n",
    "    \\bar{c}^{i} = \\frac{y_{1}^{i}+\\beta\\pi(1)y_{2}^{i}(1)+\\beta\\pi(2)y_{2}^{i}(2)}{1+\\beta}\n",
    "$$"
   ]
  },
  {
   "cell_type": "markdown",
   "metadata": {
    "slideshow": {
     "slide_type": "fragment"
    }
   },
   "source": [
    "- The price of a risk-free bond is given by\n",
    "\n",
    "$$\n",
    "    q \\equiv q(1)+q(2) = \\beta\n",
    "$$\n",
    "\n",
    "That is, $1=\\beta(1+r)$ holds, where $r=q^{-1}-1$ is the risk-free rate."
   ]
  },
  {
   "cell_type": "markdown",
   "metadata": {
    "slideshow": {
     "slide_type": "subslide"
    }
   },
   "source": [
    "## Non-state-contingent bond\n",
    "\n",
    "- Let $q$ be the price of a non-state-contingent bond, which returns 1 unit of resources regardless of the state."
   ]
  },
  {
   "cell_type": "markdown",
   "metadata": {
    "slideshow": {
     "slide_type": "fragment"
    }
   },
   "source": [
    "- $b_{2}^{i}$ is the amount of the bond purchased by the individual $i$."
   ]
  },
  {
   "cell_type": "markdown",
   "metadata": {
    "slideshow": {
     "slide_type": "fragment"
    }
   },
   "source": [
    "- Budget constraints of the individual $i$ are given by\n",
    "\n",
    "$$\n",
    "\\begin{align}\n",
    "    c_{1}^{i} + qb_{2}^{i} &\\leq y_{1}^{i}, \\\\\n",
    "    c_{2}^{i}(1) &\\leq y_{2}^{i}(1) + b_{2}^{i}, \\\\\n",
    "    c_{2}^{i}(2) &\\leq y_{2}^{i}(2) + b_{2}^{i}. \\\\\n",
    "\\end{align}\n",
    "$$"
   ]
  },
  {
   "cell_type": "markdown",
   "metadata": {
    "slideshow": {
     "slide_type": "fragment"
    }
   },
   "source": [
    "- These constraints can be summarized as\n",
    "\n",
    "$$\n",
    "\\begin{align}\n",
    "    c_{1}^{i} + qc_{2}^{i}(1) \\leq y_{1}^{i} + qy_{2}^{i}(1), \\\\\n",
    "    c_{1}^{i} + qc_{2}^{i}(2) \\leq y_{1}^{i} + qy_{2}^{i}(2). \\\\\n",
    "\\end{align}\n",
    "$$"
   ]
  },
  {
   "cell_type": "markdown",
   "metadata": {
    "slideshow": {
     "slide_type": "subslide"
    }
   },
   "source": [
    "- The Lagrangean is\n",
    "\n",
    "$$\n",
    "\\begin{align}\n",
    "    L^{i} &= u(c_{1}^{i}) + \\beta \\left\\{\\pi(1)u(c_{2}^{i}(1))+\\pi(2)u(c_{2}^{i}(2))\\right\\} \\\\\n",
    "    &-\\mu^{i}(1)\\left( c_{1}^{i} + qc_{2}^{i}(1) - y_{1} - q(1)y_{2}^{i}(1) \\right) \\\\\n",
    "    &-\\mu^{i}(2)\\left( c_{1}^{i} + qc_{2}^{i}(2) - y_{1} - q(2)y_{2}^{i}(2) \\right).\n",
    "\\end{align}\n",
    "$$"
   ]
  },
  {
   "cell_type": "markdown",
   "metadata": {
    "slideshow": {
     "slide_type": "fragment"
    }
   },
   "source": [
    "- The FONCs are\n",
    "\n",
    "$$\n",
    "\\begin{align}\n",
    "    u'(c_{1}^{i}) = \\mu^{i}(1) + \\mu^{i}(2), \\\\\n",
    "    \\beta \\pi(1) u'(c_{2}^{i}(1)) = \\mu^{i}(1)q, \\\\\n",
    "    \\beta \\pi(2) u'(c_{2}^{i}(2)) = \\mu^{i}(2)q.\n",
    "\\end{align}\n",
    "$$"
   ]
  },
  {
   "cell_type": "markdown",
   "metadata": {
    "slideshow": {
     "slide_type": "subslide"
    }
   },
   "source": [
    "- By using the FONCs for individuals $i=1,2$, we have\n",
    "\n",
    "$$\n",
    "\\begin{align}\n",
    "  q u'(c_{1}^{1}) = \\beta \\left\\{ \\pi(1) u'(c_{2}^{1}(1)) + \\pi(2) u'(c_{2}^{1}(2))\\right\\}, \\\\\n",
    "  q u'(c_{2}^{1}) = \\beta \\left\\{ \\pi(1) u'(c_{2}^{2}(1)) + \\pi(2) u'(c_{2}^{2}(2))\\right\\}.\n",
    "\\end{align}\n",
    "$$"
   ]
  },
  {
   "cell_type": "markdown",
   "metadata": {
    "slideshow": {
     "slide_type": "fragment"
    }
   },
   "source": [
    "- Then we have\n",
    "\n",
    "$$\n",
    "    \\frac{u'(c_{1}^{1})}{u'(c_{1}^{2})} = \\frac{\\pi(1) u'(c_{2}^{1}(1)) + \\pi(2) u'(c_{2}^{1}(2))}{\\pi(1) u'(c_{2}^{2}(1)) + \\pi(2) u'(c_{2}^{2}(2))}. \\tag{4}\n",
    "$$\n",
    "\n",
    "**Consumption risk is only partially insured** so that the ratio of the marginal utilities is equalized **only ex-ante**."
   ]
  },
  {
   "cell_type": "markdown",
   "metadata": {
    "slideshow": {
     "slide_type": "subslide"
    }
   },
   "source": [
    "### Closing the model\n",
    "\n",
    "- The asset markets clear. That is,\n",
    "\n",
    "$$\n",
    "    b_{2}^{1} + b_{2}^{2} = 0\n",
    "$$\n",
    "\n",
    "so that the resource constraints are obtained from the budget constraints."
   ]
  },
  {
   "cell_type": "markdown",
   "metadata": {
    "slideshow": {
     "slide_type": "fragment"
    }
   },
   "source": [
    "- In this case, consumption for each individual $i=1,2$ and each state $j=1,2$ in period 2 $(c_{1}^{i},c_{2}^{i}(j))$ varies over time and across states."
   ]
  },
  {
   "cell_type": "markdown",
   "metadata": {
    "slideshow": {
     "slide_type": "fragment"
    }
   },
   "source": [
    "- If the shocks are idiosyncratic, for example, $y_{2}^{1}(2)<y_{2}^{1}(1)$ and $y_{2}^{2}(1)<y_{2}^{2}(2)$ hold. Then\n",
    "\n",
    "$$\n",
    "\\begin{align}\n",
    "    c_{2}^{1}(2) \\leq c_{1}^{1} \\leq c_{2}^{1}(1), \\\\\n",
    "    c_{2}^{2}(1) \\leq c_{1}^{2} \\leq c_{2}^{2}(2).\n",
    "\\end{align}\n",
    "$$"
   ]
  },
  {
   "cell_type": "markdown",
   "metadata": {
    "slideshow": {
     "slide_type": "subslide"
    }
   },
   "source": [
    "$q>\\beta$ holds because\n",
    "\n",
    "$$\n",
    "  \\frac{q}{\\beta} = \\frac{\\pi(1) u'(c_{2}^{i}(1)) + \\pi(2) u'(c_{2}^{i}(2))}{u'(c_{1}^{i})}>1 \\\\\n",
    "$$\n",
    "\n",
    "due to the concavity of the utility function (note that we assume $c_{1}^{i} \\approx \\pi(1)c_{2}^{i}(1) + \\pi(2)c_{2}^{i}(2)$).\n",
    "<div align=\"center\">\n",
    "<img src=\"./aiyagari2.PNG\",width=\"600\",height=\"400\">\n",
    "</div>"
   ]
  },
  {
   "cell_type": "markdown",
   "metadata": {
    "slideshow": {
     "slide_type": "subslide"
    }
   },
   "source": [
    "## Financial auterky\n",
    "\n",
    "- Borrowings are constrained so that $b_{2}^{i} \\leq \\phi$ for each $i=1,2$. "
   ]
  },
  {
   "cell_type": "markdown",
   "metadata": {
    "slideshow": {
     "slide_type": "fragment"
    }
   },
   "source": [
    "- If the individual $1$'s constraint is binding in some state $j$, That is, $b_{2}^{1} = \\phi$ and $b_{2}^{2} = -b_{2}^{1} = -\\phi$. Then\n",
    "\n",
    "$$\n",
    "\\begin{align}\n",
    "    c_{2}^{1}(j)=y_{2}^{1}(j) + \\phi, \\\\\n",
    "    c_{2}^{2}(j)=y_{2}^{2}(j) - \\phi, \\\\\n",
    "\\end{align}\n",
    "$$\n",
    "\n",
    "hold."
   ]
  },
  {
   "cell_type": "markdown",
   "metadata": {
    "slideshow": {
     "slide_type": "fragment"
    }
   },
   "source": [
    "- It is called *auterky* when $\\phi=0$. Risk sharing is constrained."
   ]
  },
  {
   "cell_type": "code",
   "execution_count": 6,
   "metadata": {
    "slideshow": {
     "slide_type": "skip"
    }
   },
   "outputs": [
    {
     "name": "stdout",
     "output_type": "stream",
     "text": [
      "0.903300910071515\n",
      "-0.04187070745336681\n",
      "0.041868946172477474\n",
      "[0.0677188 1.        1.1       0.9      ]\n",
      "[0.06912114 1.03782185 1.05812929 0.85812929 1.03812929]\n",
      "[-0.0767641  1.         0.9        1.1      ]\n",
      "[-0.07512423  0.96217974  0.94186895  1.14186895  0.96186895]\n"
     ]
    }
   ],
   "source": [
    "import numpy as np\n",
    "import scipy.optimize\n",
    "from functools import partial\n",
    "\n",
    "# parameters\n",
    "y11 = 1\n",
    "y12 = 1\n",
    "d = 0.1\n",
    "y211 = 1+d\n",
    "y212 = 1-d\n",
    "y221 = 1-d\n",
    "y222 = 1+d\n",
    "pi1 = .9\n",
    "pi2 = .1\n",
    "β = .9\n",
    "\n",
    "# given q,\n",
    "q = .9\n",
    "# given b21\n",
    "def Euler1(y11,y211,y212,β,q,b21):\n",
    "    c11 = y11-q*b21\n",
    "    c211 = y211 + b21\n",
    "    c212 = y212 + b21\n",
    "    f = -q/c11 + β*(pi1/c211+pi2/c212)\n",
    "    return f\n",
    "# given b22\n",
    "def Euler2(y12,y221,y222,β,q,b22):\n",
    "    c12 = y12-q*b22\n",
    "    c221 = y221 + b22\n",
    "    c222 = y222 + b22\n",
    "    f = -q/c12 + β*(pi1/c221+pi2/c222)\n",
    "    return f\n",
    "\n",
    "def market(y11,y211,y212,y12,y221,y222,β,q):\n",
    "    pEuler1 = partial(Euler1,y11,y211,y212,β,q)\n",
    "    b21 = scipy.optimize.broyden1(pEuler1,0,f_tol=1e-15)\n",
    "    pEuler2 = partial(Euler2,y12,y221,y222,β,q)\n",
    "    b22 = scipy.optimize.broyden1(pEuler2,0,f_tol=1e-15)\n",
    "#     print(b21)\n",
    "#     print(b22)\n",
    "    f = b21+b22\n",
    "    return f\n",
    "\n",
    "pmarket = partial(market,y11,y211,y212,y12,y221,y222,β)\n",
    "q = scipy.optimize.broyden1(pmarket,β,f_tol=1e-15)\n",
    "print(q)\n",
    "pEuler1 = partial(Euler1,y11,y211,y212,β,q)\n",
    "b21 = scipy.optimize.broyden1(pEuler1,0)\n",
    "pEuler2 = partial(Euler2,y12,y221,y222,β,q)\n",
    "b22 = scipy.optimize.broyden1(pEuler2,0)\n",
    "print(b21)\n",
    "print(b22)\n",
    "c11 = y11-q*b21\n",
    "c211 = y211 + b21\n",
    "c212 = y212 + b21\n",
    "u1const = np.log(y11) + β*(pi1*np.log(y211)+pi2*np.log(y212))\n",
    "u1 = np.log(c11) + β*(pi1*np.log(c211)+pi2*np.log(c212))\n",
    "c12 = y12-q*b22\n",
    "c221 = y221 + b22\n",
    "c222 = y222 + b22\n",
    "u2const = np.log(y12) + β*(pi1*np.log(y221)+pi2*np.log(y222))\n",
    "u2 = np.log(c12) + β*(pi1*np.log(c221)+pi2*np.log(c222))\n",
    "print(np.array([u1const,y11,y211,y212]))\n",
    "print(np.array([u1,c11,c211,c212,pi1*c211+pi2*c212]))\n",
    "print(np.array([u2const,y12,y221,y222]))\n",
    "print(np.array([u2,c12,c221,c222,pi1*c221+pi2*c222]))"
   ]
  },
  {
   "cell_type": "markdown",
   "metadata": {
    "slideshow": {
     "slide_type": "slide"
    }
   },
   "source": [
    "## Saving problem\n",
    "\n",
    "- An individual chooses a sequence of consumption $\\{c_{t}\\}_{t=0}^{\\infty}$ maximizes\n",
    "\n",
    "$$\n",
    "    E_{0} \\sum_{t=0}^{\\infty} \\beta^{t} u(c_{t}).\n",
    "$$\n",
    "\n",
    "where $\\beta\\in(0,1)$ is discount factor and $u(c)$ satisfies the standard assumptions."
   ]
  },
  {
   "cell_type": "markdown",
   "metadata": {
    "slideshow": {
     "slide_type": "fragment"
    }
   },
   "source": [
    "- The individual is endowed with $\\{y_{t}\\}_{t=0}^{\\infty}$. \n",
    "  - Each $y_{t}$ takes a value in the set of possible endowments $\\bar{y}_{1}<\\bar{y}_2$. \n",
    "  - $\\text{Prob}(y=\\bar{y}_{j})=\\pi(j)$ for $j=1,2$ and $\\pi(1)+\\pi(2)=1$."
   ]
  },
  {
   "cell_type": "markdown",
   "metadata": {
    "slideshow": {
     "slide_type": "subslide"
    }
   },
   "source": [
    "- The budget constraints are given by\n",
    "\n",
    "$$\n",
    "    c_{t} + q \\tilde{b}_{t+1} \\leq y_{t} + \\tilde{b}_{t},\n",
    "$$\n",
    "\n",
    "where\n",
    "- $q$ is the price of a non-state-contingent bond which returns 1 unit of resources in the next period, and *is exogenously given*. \n",
    "- $\\tilde{b}_{t+1}$ is the amount of the bond purchased in period $t$."
   ]
  },
  {
   "cell_type": "markdown",
   "metadata": {
    "slideshow": {
     "slide_type": "fragment"
    }
   },
   "source": [
    "- Or, \n",
    "\n",
    "$$\n",
    "    c_{t} - q b_{t+1} \\leq y_{t} - b_{t}.\n",
    "$$\n",
    "\n",
    "where $b_{t}=-\\tilde{b}_{t}$ is the debt at the beginning of period $t$. "
   ]
  },
  {
   "cell_type": "markdown",
   "metadata": {
    "slideshow": {
     "slide_type": "subslide"
    }
   },
   "source": [
    "- Or,\n",
    "\n",
    "$$\n",
    "    a_{t+1} \\leq q^{-1} \\left( a_{t} - c_{t} \\right) + y_{t+1}.\n",
    "$$\n",
    "\n",
    "where $a_{t}=y_{t}-b_{t}$ is the agent's asset after realization of $y_{t}$."
   ]
  },
  {
   "cell_type": "markdown",
   "metadata": {
    "slideshow": {
     "slide_type": "fragment"
    }
   },
   "source": [
    "- We assume the borrowing constraint $\\tilde{b}_{t+1}>0$ or $b_{t+1}<0$ holds, which implies $a_{t}>c_{t}$.\n",
    "\n",
    "<!--$y_{t}-b_{t}>c_{t}$ and $y_{t}+\\tilde{b}_{t}>c_{t}=y_{t}+\\tilde{b}_{t}-q\\tilde{b}_{t+1}$ and .-->"
   ]
  },
  {
   "cell_type": "markdown",
   "metadata": {
    "slideshow": {
     "slide_type": "subslide"
    }
   },
   "source": [
    "- The Bellman equation is given by\n",
    "\n",
    "$$\n",
    "\\begin{align}\n",
    "    V(a) &= \\max_{c,a'} \\left\\{ u(c) + \\beta \\pi(1)V(a') + \\beta \\pi(2)V(a') \\right\\} \\\\\n",
    "    &= \\max_{c} \\left\\{ u(c) + \\beta \\pi(1)V\\right[q^{-1}(a-c)+\\bar{y}_{1}\\left] + \\beta \\pi(2)V\\right[q^{-1}(a-c)+\\bar{y}_{2}\\left] \\right\\}\n",
    "\\end{align}\n",
    "$$\n",
    "\n",
    "subject to $0 \\leq c \\leq a$."
   ]
  },
  {
   "cell_type": "markdown",
   "metadata": {
    "slideshow": {
     "slide_type": "subslide"
    }
   },
   "source": [
    "## Deterministic case\n",
    "\n",
    "- Hereafter we assume that $q=\\beta$ holds."
   ]
  },
  {
   "cell_type": "markdown",
   "metadata": {
    "slideshow": {
     "slide_type": "fragment"
    }
   },
   "source": [
    "- The budget constraint is given by\n",
    "\n",
    "$$\n",
    "    c_{t} + b_{t} \\leq \\beta b_{t+1} + y_{t}.\n",
    "$$"
   ]
  },
  {
   "cell_type": "markdown",
   "metadata": {
    "slideshow": {
     "slide_type": "subslide"
    }
   },
   "source": [
    "- *The natural borrowing constraint* is found by solving the budget constraint forward with $c_{t}=0$:\n",
    "\n",
    "$$\n",
    "    b_{t} \\leq \\sum_{j=0}^{\\infty} \\beta^{j} y_{t+j} \\equiv \\bar{b}_{t}.\n",
    "$$\n",
    "\n",
    "$\\bar{b}_{t}$ is the present value of the endowment, which is the maximal amount to repay at time $t$."
   ]
  },
  {
   "cell_type": "markdown",
   "metadata": {
    "slideshow": {
     "slide_type": "fragment"
    }
   },
   "source": [
    "- Solving the budget constraint forward and impose $b_0=0$ and $\\lim_{T \\rightarrow \\infty}\\beta^{T+1}b_{T+1}=0$:\n",
    "\n",
    "$$\n",
    "    \\sum_{t=0}^{\\infty} \\beta^{t} c_{t} \\leq \\sum_{t=0}^{\\infty} \\beta^{t} y_{t}.\n",
    "$$"
   ]
  },
  {
   "cell_type": "markdown",
   "metadata": {
    "slideshow": {
     "slide_type": "subslide"
    }
   },
   "source": [
    "- The Lagrangean is given by\n",
    "\n",
    "$$\n",
    "    L \\equiv \\sum_{t=0}^{\\infty} \\beta^{t} u(c_{t}) - \\lambda \\left( \\sum_{t=0}^{\\infty} \\beta^{t} c_{t} - \\sum_{t=0}^{\\infty} \\beta^{t} y_{t} \\right).\n",
    "$$"
   ]
  },
  {
   "cell_type": "markdown",
   "metadata": {
    "slideshow": {
     "slide_type": "fragment"
    }
   },
   "source": [
    "- The FONC is\n",
    "\n",
    "$$\n",
    "    u'(c_{t}) \\geq u'(c_{t+1}),\n",
    "$$\n",
    "\n",
    "where the equality ($=$) holds if $b_{t+1}<\\bar{b}_{t+1}$ for all $t\\geq0$."
   ]
  },
  {
   "cell_type": "markdown",
   "metadata": {
    "slideshow": {
     "slide_type": "subslide"
    }
   },
   "source": [
    "- If the borrowing constraint $b_{t+1}=\\bar{b}_{t+1}$ is binding, the Euler equation becomes slack. The household wants to consume more by borrowing, but the borrowing constraint prevents the household from doing so."
   ]
  },
  {
   "cell_type": "markdown",
   "metadata": {
    "slideshow": {
     "slide_type": "fragment"
    }
   },
   "source": [
    "- If the borrowing constraint never binds,\n",
    "\n",
    "$$\n",
    "    c_{t} = \\bar{c} = (1-\\beta)\\sum_{t=0}^{\\infty} \\beta^{t} y_{t}\n",
    "$$\n",
    "\n",
    "holds for all $t\\geq0$.\n",
    "<!--Note that the natural debt limits allow $b_t>0$.???-->"
   ]
  },
  {
   "cell_type": "markdown",
   "metadata": {
    "slideshow": {
     "slide_type": "subslide"
    }
   },
   "source": [
    "- The sequence of budget constraints from period $t$ implies\n",
    "\n",
    "$$\n",
    "    \\sum_{j=0}^{\\infty} \\beta^{j} c_{t+j} + b_{t} = \\sum_{j=0}^{\\infty} \\beta^{j} y_{t+j}.\n",
    "$$"
   ]
  },
  {
   "cell_type": "markdown",
   "metadata": {
    "slideshow": {
     "slide_type": "fragment"
    }
   },
   "source": [
    "- Under the consumption-smoothing policy $c_{t}=\\bar{c}$,\n",
    "\n",
    "$$\n",
    "\\begin{align}\n",
    "    b_{t} &= \\sum_{j=0}^{\\infty} \\beta^{j} y_{t+j} - \\sum_{j=0}^{\\infty} \\beta^{j} \\bar{c}, \\\\\n",
    "    &= \\bar{b}_{t} - \\frac{\\bar{c}}{1-\\beta}.\n",
    "\\end{align}\n",
    "$$\n",
    "\n",
    "which implies that the natural borrowing constraint $b_{t} \\leq \\bar{b}_{t}$ is always slack."
   ]
  },
  {
   "cell_type": "markdown",
   "metadata": {
    "slideshow": {
     "slide_type": "subslide"
    }
   },
   "source": [
    "- Now we study a more severe no-borrowing constraint $b_{t+1}\\leq0$."
   ]
  },
  {
   "cell_type": "markdown",
   "metadata": {
    "slideshow": {
     "slide_type": "fragment"
    }
   },
   "source": [
    "- The FONC is\n",
    "\n",
    "$$\n",
    "    u'(c_{t}) \\geq u'(c_{t+1}), \\quad = \\text{ if } c_{t} < a_{t}\n",
    "$$\n",
    "\n",
    "for $t\\geq0$. <!--Note that $c_{t} < a_{t} \\Leftrightarrow b_{t+1} > 0$.-->"
   ]
  },
  {
   "cell_type": "markdown",
   "metadata": {
    "slideshow": {
     "slide_type": "fragment"
    }
   },
   "source": [
    "- Along the optimal path, it must be true either"
   ]
  },
  {
   "cell_type": "markdown",
   "metadata": {
    "slideshow": {
     "slide_type": "fragment"
    }
   },
   "source": [
    "1. $c_{t} = c_{t+1}$; or"
   ]
  },
  {
   "cell_type": "markdown",
   "metadata": {
    "slideshow": {
     "slide_type": "fragment"
    }
   },
   "source": [
    "2. $c_{t}<c_{t+1}$ and $c_{t} = a_{t}$, and hence $a_{t+1}=y_{t+1}$ (Note that $a_{t+1} \\leq q^{-1} \\left( a_{t} - c_{t} \\right) + y_{t+1}$)."
   ]
  },
  {
   "cell_type": "markdown",
   "metadata": {
    "slideshow": {
     "slide_type": "subslide"
    }
   },
   "source": [
    "- The latter states that the no-borrowing constraint binds only when the consumer (wants to) shifts consumption from the future to the present. He will do that only when his endowment is growing."
   ]
  },
  {
   "cell_type": "markdown",
   "metadata": {
    "slideshow": {
     "slide_type": "fragment"
    }
   },
   "source": [
    "- Let $y_{t}<y_{t+1}$. Then we have\n",
    "\n",
    "$$\n",
    "    u'(y_{t}) > u'(y_{t+1}).\n",
    "$$"
   ]
  },
  {
   "cell_type": "markdown",
   "metadata": {
    "slideshow": {
     "slide_type": "fragment"
    }
   },
   "source": [
    "- The individual wants to reduce $c_{t+1}<y_{t+1}$ and increase $c_{t}>y_{t}$ until $u'(c_{t}) = u'(c_{t+1})$ holds."
   ]
  },
  {
   "cell_type": "markdown",
   "metadata": {
    "slideshow": {
     "slide_type": "fragment"
    }
   },
   "source": [
    "- However, the borrowing constraint prevents the household from doing so."
   ]
  },
  {
   "cell_type": "markdown",
   "metadata": {
    "slideshow": {
     "slide_type": "subslide"
    }
   },
   "source": [
    "- Solving the budget constraint at equality forward\n",
    "\n",
    "$$\n",
    "    \\sum_{j=0}^{\\infty} \\beta^{j} c_{t+j} = a_{t} + \\sum_{j=1}^{\\infty} \\beta^{j} y_{t+j}.\n",
    "$$"
   ]
  },
  {
   "cell_type": "markdown",
   "metadata": {
    "slideshow": {
     "slide_type": "fragment"
    }
   },
   "source": [
    "- If the no-borrowing constraint is binding at period $t-1$,\n",
    "\n",
    "$$\n",
    "    \\sum_{j=0}^{\\infty} \\beta^{j} c_{t+j} = \\sum_{j=0}^{\\infty} \\beta^{j} y_{t+j}.\n",
    "$$\n",
    "\n",
    "as $a_{t}=y_{t}$ holds."
   ]
  },
  {
   "cell_type": "markdown",
   "metadata": {
    "slideshow": {
     "slide_type": "fragment"
    }
   },
   "source": [
    "- After the last date $\\bar{t}-1$ at which the no-borrowing costraint binding, consumption will be constant at $\\tilde{c} = (1-\\beta)\\sum_{j=0}^{\\infty} \\beta^{j} y_{\\bar{t}+j}$.\n"
   ]
  },
  {
   "cell_type": "markdown",
   "metadata": {
    "slideshow": {
     "slide_type": "subslide"
    }
   },
   "source": [
    "- Proposition: Given a borrowing constraint and a nonstochastic endowment stream, the limit of the nondecreasing optimal consumption path is $\\sup_{t} x_{t}$ where\n",
    "\n",
    "$$\n",
    "x_{t} = (1-\\beta)\\sum_{j=0}^{\\infty} \\beta^{j} y_{t+j}\n",
    "$$"
   ]
  },
  {
   "cell_type": "markdown",
   "metadata": {
    "slideshow": {
     "slide_type": "fragment"
    }
   },
   "source": [
    "- See the textbook for a proof."
   ]
  },
  {
   "cell_type": "markdown",
   "metadata": {
    "slideshow": {
     "slide_type": "fragment"
    }
   },
   "source": [
    "- Under certainty, the optimal consumption sequence converges to a finite limit as long as the discounted value of future income is bounded across all starting date $t$."
   ]
  },
  {
   "cell_type": "markdown",
   "metadata": {
    "slideshow": {
     "slide_type": "subslide"
    }
   },
   "source": [
    "## Stochastic endowment process: i.i.d. case\n",
    "\n",
    "- The Bellman equation is\n",
    "\n",
    "$$\n",
    "    V(a) = \\max_{c} \\left\\{ u(c) + \\beta \\pi(1)V\\right[q^{-1}(a-c)+\\bar{y}_{1}\\left] + \\beta \\pi(2)V\\right[q^{-1}(a-c)+\\bar{y}_{2}\\left] \\right\\}\n",
    "$$\n",
    "\n",
    "subject to $0 \\leq c \\leq a$."
   ]
  },
  {
   "cell_type": "markdown",
   "metadata": {
    "slideshow": {
     "slide_type": "fragment"
    }
   },
   "source": [
    "- The first-order condition is \n",
    "\n",
    "$$\n",
    "    u'(c) \\geq \\beta q^{-1} \\sum_{j=1,2} \\pi(j)V'[q^{-1}(a-c)+\\bar{y}_{j}].\n",
    "$$"
   ]
  },
  {
   "cell_type": "markdown",
   "metadata": {
    "slideshow": {
     "slide_type": "subslide"
    }
   },
   "source": [
    "- The Benveniste-Scheinkman formula implies $u'(c)=V'(a)$, so it can be written as (note that $\\beta=q$)\n",
    "\n",
    "$$\n",
    "    V'(a) \\geq \\sum_{j=1,2} \\pi(j)V'(a'_{j})\n",
    "$$\n",
    "\n",
    "which means that $V'(a)$ is a *nonnegative supermargingale*."
   ]
  },
  {
   "cell_type": "markdown",
   "metadata": {
    "slideshow": {
     "slide_type": "fragment"
    }
   },
   "source": [
    "- Then, *supermartingale convergence theorem* suggests that $V'(a)$ converges to a particular number."
   ]
  },
  {
   "cell_type": "markdown",
   "metadata": {
    "slideshow": {
     "slide_type": "skip"
    }
   },
   "source": [
    "- Think about a realization of the sequence $\\{y_{t}\\}$ via a computer simulation."
   ]
  },
  {
   "cell_type": "markdown",
   "metadata": {
    "slideshow": {
     "slide_type": "skip"
    }
   },
   "source": [
    "- For each sample realization of $\\{y_{t}\\}$, the sequence $\\{V'(a_{t})\\}$ converges to a particular number $\\lim_{t\\rightarrow\\infty}V'(a_{t})$"
   ]
  },
  {
   "cell_type": "markdown",
   "metadata": {
    "slideshow": {
     "slide_type": "subslide"
    }
   },
   "source": [
    "In our case, $\\lim_{t\\rightarrow\\infty}V'(a_{t})=0$ because of the following argument.\n"
   ]
  },
  {
   "cell_type": "markdown",
   "metadata": {
    "slideshow": {
     "slide_type": "fragment"
    }
   },
   "source": [
    "- Suppose $\\lim_{t\\rightarrow\\infty}V'(a_{t})$ converges to a strictly positive limit."
   ]
  },
  {
   "cell_type": "markdown",
   "metadata": {
    "slideshow": {
     "slide_type": "fragment"
    }
   },
   "source": [
    "- Then $a$ converges to a finite positive value."
   ]
  },
  {
   "cell_type": "markdown",
   "metadata": {
    "slideshow": {
     "slide_type": "fragment"
    }
   },
   "source": [
    "- But this is contradicted by the budget constraint\n",
    "\n",
    "$$\n",
    "a_{t+1} = q^{-1}(a_{t}-c_{t}) + y_{t+1}\n",
    "$$\n",
    "\n",
    "and a random nature of $y_{t+1}$."
   ]
  },
  {
   "cell_type": "markdown",
   "metadata": {
    "slideshow": {
     "slide_type": "skip"
    }
   },
   "source": [
    "- Then assets diverge to infinity, so does consumption."
   ]
  },
  {
   "cell_type": "markdown",
   "metadata": {
    "slideshow": {
     "slide_type": "subslide"
    }
   },
   "source": [
    "- Also the Euler equation becomes\n",
    "\n",
    "$$\n",
    "    u'(c) \\geq \\sum_{j=1,2} \\pi(j)u'(c'_{j})\n",
    "$$"
   ]
  },
  {
   "cell_type": "markdown",
   "metadata": {
    "slideshow": {
     "slide_type": "fragment"
    }
   },
   "source": [
    "- The individual will never choose a time-invariant consumption level for the indefinite future."
   ]
  },
  {
   "cell_type": "markdown",
   "metadata": {
    "slideshow": {
     "slide_type": "fragment"
    }
   },
   "source": [
    "- Under uncertainty, the optimal consumption sequence diverges to infinity."
   ]
  },
  {
   "cell_type": "markdown",
   "metadata": {
    "slideshow": {
     "slide_type": "subslide"
    }
   },
   "source": [
    "- If $u'(c_{t})=Eu'(c_{t+1})$, $c_{t}<Ec_{t+1}$ holds (due to concavity of the utility function). \n",
    "<div align=\"center\">\n",
    "<img src=\"./aiyagari1.PNG\",width=\"1000\",height=\"400\">\n",
    "</div>"
   ]
  }
 ],
 "metadata": {
  "celltoolbar": "Slideshow",
  "kernelspec": {
   "display_name": "Python 3",
   "language": "python",
   "name": "python3"
  },
  "language_info": {
   "codemirror_mode": {
    "name": "ipython",
    "version": 3
   },
   "file_extension": ".py",
   "mimetype": "text/x-python",
   "name": "python",
   "nbconvert_exporter": "python",
   "pygments_lexer": "ipython3",
   "version": "3.8.5"
  }
 },
 "nbformat": 4,
 "nbformat_minor": 2
}
