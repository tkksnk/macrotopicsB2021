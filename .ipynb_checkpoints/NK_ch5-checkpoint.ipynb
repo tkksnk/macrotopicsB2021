{
 "cells": [
  {
   "cell_type": "markdown",
   "metadata": {
    "slideshow": {
     "slide_type": "slide"
    }
   },
   "source": [
    "<div style=\"text-align: center;\">\n",
    "# マクロ経済特論B\n",
    "<div style=\"text-align: center;\">\n",
    "「ニューケインジアン・モデルの新展開」\n",
    "<br>\n",
    "<br>\n",
    "<div style=\"text-align: center;\">    \n",
    "2020年11月; 2021年6月改定\n",
    "<div style=\"text-align: center;\">   \n",
    "一橋大学　砂川武貴"
   ]
  },
  {
   "cell_type": "markdown",
   "metadata": {
    "slideshow": {
     "slide_type": "slide"
    }
   },
   "source": [
    "# イントロダクション\n",
    "\n",
    "- 連載第4回では、時間反復法を用いて新古典派成長モデルを数値的に解く方法を示した\n",
    "\n",
    "- 時間反復法では、競争均衡解の必要条件である均衡条件(First-order necessary condition, FONC)を連立方程式とみなしてモデルの解を求める\n",
    "\n",
    "- 均衡条件を求めること自体は比較的容易なため、この方法の汎用性は高く、たとえば、金融政策分析に使われるニューケインジアン・モデルを、非線形性を考慮して解くのによく使われる"
   ]
  },
  {
   "cell_type": "markdown",
   "metadata": {
    "slideshow": {
     "slide_type": "subslide"
    }
   },
   "source": [
    "- ニューケインジアン・モデルとしてよく知られているのは、以下の3本の線形差分方程式であろう\n",
    "  - 消費のオイラー方程式(consumption Euler equation)\n",
    "  - ニューケインジアン・フィリップス曲線(New Keynesian Phillips curve)\n",
    "  - テイラー・ルール(Taylor rule)"
   ]
  },
  {
   "cell_type": "markdown",
   "metadata": {
    "slideshow": {
     "slide_type": "fragment"
    }
   },
   "source": [
    "- この3本の式の線形モデルでも、ゼロ金利制約(zero lower bound on nominal interest rates)を導入するとモデルは非線形になり、解析解がある特殊なケースを除いては、数値解を求める必要がある"
   ]
  },
  {
   "cell_type": "markdown",
   "metadata": {
    "slideshow": {
     "slide_type": "subslide"
    }
   },
   "source": [
    "- これまでは、モデルに不確実な要素のない確定的なケースのみを扱ってきた\n",
    "\n",
    "- 今回はモデルに確率的なショックを導入する\n",
    "\n",
    "- より一般的なケースでは、連続的空間においてショックが自己回帰過程に従うことも考えられる\n",
    "\n",
    "- Tauchen(1986)等の手法を使うことで、$N$個の離散的な値をとるマルコフ連鎖で自己回帰過程を近似することができる"
   ]
  },
  {
   "cell_type": "markdown",
   "metadata": {
    "slideshow": {
     "slide_type": "subslide"
    }
   },
   "source": [
    "- 時間反復法は、最適金融政策の分析にも適用可能である\n",
    "\n",
    "- 最適金融政策は、均衡条件を制約として社会厚生を最大化するような配分を求めるが、このような動学最適化問題の1階の必要条件から解を求めることができる\n",
    "\n",
    "- また、ゼロ金利制約以外の非線形性についても、時間反復法を用いて完全に非線形なケースを考えることができる"
   ]
  },
  {
   "cell_type": "markdown",
   "metadata": {
    "slideshow": {
     "slide_type": "slide"
    }
   },
   "source": [
    "# 2状態モデル\n",
    "## 準線形モデル\n",
    "\n",
    "- 標準的な線形ニューケインジアン・モデルにゼロ金利制約を追加した準線形(quasi-linear)モデルを考える\n",
    "\n",
    "- 外生的なショック$s_{t}\\in\\{s_{H},s_{L}\\}$は$N=2$個だけの値をとると仮定しよう\n",
    "  - $s_{t}$はモデルの状態変数(state variable)であり、ここでは自然利子率(natural rate of interest)とする\n",
    "  - $s_{H}>s_{L}$として、添字$\\{H,L\\}$はそれぞれ状態(state)がHighもしくはLowであることを示す\n"
   ]
  },
  {
   "cell_type": "markdown",
   "metadata": {
    "slideshow": {
     "slide_type": "subslide"
    }
   },
   "source": [
    "- 状態は、$H$と$L$の間を、ある確率過程にしたがって時間とともに動く\n",
    "\n",
    "- ここで、今期の状態がいずれかになる確率は、前期の状態にのみ依存するという仮定を置く。すなわち、確率過程は以下の遷移行列を持つマルコフ連鎖によって表される\n",
    "\n",
    "$$\n",
    "  P = \\left[\\begin{array}{cc}\n",
    "  1-p_{H} & p_{H} \\\\ \n",
    "  1-p_{L} & p_{L} \\end{array}\\right]\n",
    "$$\n",
    "\n",
    "- $p_{H}$：危機の発生確率=今期の状態が$H$のとき、次期の状態が$L$になる確率\n",
    "\n",
    "- $p_{L}$：危機の持続確率=今期の状態が$L$のとき、次期の状態が$L$になる確率"
   ]
  },
  {
   "cell_type": "markdown",
   "metadata": {
    "slideshow": {
     "slide_type": "subslide"
    }
   },
   "source": [
    "- モデルの均衡条件は、以下の3つの式からなる連立方程式で与えられる\n",
    "\n",
    "\\begin{align*}\n",
    "  y_{t} &= \\mathbb{E}_{t}y_{t+1} - \\left(r_{n,t}-\\mathbb{E}_{t}\\pi_{t+1}-s_{t}\\right) \\tag{1} \\\\\n",
    "  \\pi_{t} &= \\kappa y_{t} + \\beta \\mathbb{E}_{t}\\pi_{t+1} \\tag{2} \\\\\n",
    "  r_{n,t}^{*} &= r^{*} + \\phi_{\\pi} \\mathbb{E}_{t}\\pi_{t+1} \\tag{3}\n",
    "\\end{align*}"
   ]
  },
  {
   "cell_type": "markdown",
   "metadata": {
    "slideshow": {
     "slide_type": "fragment"
    }
   },
   "source": [
    "- これらの式は、家計や企業の最適化問題から導出された均衡条件を対数線形近似したものであり、それぞれ、消費のオイラー方程式、ニューケインジアン・フィリップス曲線、テイラー型の金融政策ルールと呼ばれる\n",
    "\n",
    "- $y_{t}$は生産ギャップ、$\\pi_{t}$はインフレ率、$r_{n,t}$は名目金利。$\\mathbb{E}_{t}$は合理的期待を表す期待オペレータ\n",
    "\n",
    "- $(\\beta,\\phi_{\\pi},\\kappa,r^{*})$はパラメータ：家計や企業の最適化行動のミクロ的基礎付けのある非線形モデルに基づく"
   ]
  },
  {
   "cell_type": "markdown",
   "metadata": {
    "slideshow": {
     "slide_type": "subslide"
    }
   },
   "source": [
    "- $r_{n,t}^{*}$はシャドーレートと呼ばれ、ゼロ金利制約がなければ名目金利と一致する\n",
    "\n",
    "- このとき、3つの未知数$(y_{t},\\pi_{t},r_{n,t})$に対して3本の方程式があるので、通常の線形モデルを解く手続きにしたがって、解を求めることができる"
   ]
  },
  {
   "cell_type": "markdown",
   "metadata": {
    "slideshow": {
     "slide_type": "fragment"
    }
   },
   "source": [
    "- ここで、名目金利はゼロを下回ることができないという制約を明示的に考えると、\n",
    "\n",
    "$$\n",
    "  r_{n,t} = \\max \\{r_{n,t}^{*}, 0\\} \\tag{4}\n",
    "$$\n",
    "\n",
    "この制約の下では、モデルの解は非線形となり、通常の線形モデルの解法はそのままでは使えない"
   ]
  },
  {
   "cell_type": "markdown",
   "metadata": {
    "slideshow": {
     "slide_type": "subslide"
    }
   },
   "source": [
    "## 準線形モデルの解析解\n",
    "\n",
    "- $N=2$の場合、準線形モデルの解析解は比較的容易に導出できる\n",
    "\n",
    "- モデルの解は以下のような関数となる\n",
    "\n",
    "$$\n",
    "  y = \\varsigma_{y}(s), \\quad \\pi = \\varsigma_{\\pi}(s), \\quad r_{n} = \\varsigma_{r_{n}}(s) \n",
    "$$"
   ]
  },
  {
   "cell_type": "markdown",
   "metadata": {
    "slideshow": {
     "slide_type": "fragment"
    }
   },
   "source": [
    "- さらに、$N=2$のとき、$s$のとりうる値は2つだけなので、これらの関数も2つの値のいずれかをとる。すなわち、\n",
    "\n",
    "$$\n",
    "  y\\in\\{y_{H},y_{L}\\}, \\quad \\pi\\in\\{\\pi_{H},\\pi_{L}\\}, \\quad r_{n}\\in\\{r_{n,H},r_{n,L}\\}\n",
    "$$\n",
    "\n",
    "の6つの未知数がモデルの解となる\n",
    "\n",
    "- 以下では、$r_{n,H}>0, r_{n,L}=0$という仮定を置く"
   ]
  },
  {
   "cell_type": "markdown",
   "metadata": {
    "slideshow": {
     "slide_type": "subslide"
    }
   },
   "source": [
    "- ここで、\n",
    "\n",
    "\\begin{align*}\n",
    "  \\mathbb{E}_{t}y_{t+1} &= (1-p_{i})y_{H} + p_{i}y_{L} \\\\\n",
    "  \\mathbb{E}_{t}\\pi_{t+1} &= (1-p_{i})\\pi_{H} + p_{i}\\pi_{L}\n",
    "\\end{align*}\n",
    "\n",
    "をそれぞれの状態$i\\in\\{H,L\\}$における均衡条件に代入すると、\n",
    "\n",
    "\\begin{align*}\n",
    "  y_{H} &= (1-p_{H})y_{H} + p_{H}y_{L} - \\left(r_{n,t}-[(1-p_{H})\\pi_{H} + p_{H}\\pi_{L}]-s_{H}\\right) \\\\\n",
    "  \\pi_{H} &= \\kappa y_{H} + \\beta [(1-p_{H})\\pi_{H} + p_{H}\\pi_{L}] \\\\\n",
    "  r_{n,H} &= r^{*} + \\phi_{\\pi} [(1-p_{H})\\pi_{H} + p_{H}\\pi_{L}] \\\\\n",
    "  y_{L} &= (1-p_{L})y_{H} + p_{L}y_{L} - \\left(r_{n,t}-[(1-p_{L})\\pi_{H} + p_{L}\\pi_{L}]-s_{L}\\right) \\\\\n",
    "  \\pi_{L} &= \\kappa y_{L} + \\beta [(1-p_{L})\\pi_{H} + p_{L}\\pi_{L}] \\\\\n",
    "  r_{n,L} &= 0  \n",
    "\\end{align*}\n",
    "\n",
    "6つの未知数に対して6つの線形の方程式があるため、未知数を解析的に求めることができる"
   ]
  },
  {
   "cell_type": "markdown",
   "metadata": {
    "slideshow": {
     "slide_type": "subslide"
    }
   },
   "source": [
    "## 時間反復法による数値解\n",
    "\n",
    "- 準線形モデルは、時間反復法を使っても解くことができる\n",
    "\n",
    "- $N$が大きい場合は解析解を求めるのが非常に煩雑になるため、このアプローチが有用"
   ]
  },
  {
   "cell_type": "markdown",
   "metadata": {
    "slideshow": {
     "slide_type": "subslide"
    }
   },
   "source": [
    "### アルゴリズム\n",
    "\n",
    "\n",
    "1. グリッド生成：状態空間の評価点を有限個のグリッドに区切る。この場合、$\\{s_{H},s_{L}\\}$はすでに与えられている\n",
    "\n",
    "2. 収束の基準：収束の基準になるパラメータ$\\varepsilon$を与える"
   ]
  },
  {
   "cell_type": "markdown",
   "metadata": {
    "slideshow": {
     "slide_type": "subslide"
    }
   },
   "source": [
    "3. 最適化：古い政策関数$y = \\varsigma_{y}^{(n-1)}(s),\\pi = \\varsigma_{\\pi}^{(n-1)}(s)$およびグリッドにおける$s_{i}$の値を所与として、以下の式を$(y_{t},\\pi_{t},r_{n,t})$について解く\n",
    "\n",
    "\\begin{align*}\n",
    "  y_{i} &= y_{i}^{e} - \\left(r_{n,i}-\\pi_{i}^{e}-s_{i}\\right) \\\\\n",
    "  \\pi_{i} &= \\kappa y_{i} + \\beta \\pi_{i}^{e} \\\\\n",
    "  r_{n,i} &= \\max\\{r^{*} + \\phi_{\\pi} \\pi_{i}^{e}, 0\\}\n",
    "\\end{align*}\n",
    "\n",
    "ここで、\n",
    "\n",
    "\\begin{align*}\n",
    "  y_{i}^{e} &= (1-p_{i})\\varsigma_{y}^{(n-1)}(s_{H}) + p_{i}\\varsigma_{y}^{(n-1)}(s_{L}) \\\\\n",
    "  \\pi_{i}^{e} &= (1-p_{i})\\varsigma_{\\pi}^{(n-1)}(s_{H}) + p_{i}\\varsigma_{\\pi}^{(n-1)}(s_{L})\n",
    "\\end{align*}\n",
    "\n",
    "であり、期待値は古い政策関数から求められる"
   ]
  },
  {
   "cell_type": "markdown",
   "metadata": {
    "slideshow": {
     "slide_type": "subslide"
    }
   },
   "source": [
    "このステップで、それぞれのグリッド上の政策関数の値、すなわち新しい政策関数\n",
    "\n",
    "\\begin{align*}\n",
    "\\varsigma^{(n)}(s_{i}) &= (\\varsigma_{y}^{(n)}(s_{i}),\\varsigma_{\\pi}^{(n)}(s_{i}),\\varsigma_{R}^{(n)}(s_{i})) \\\\\n",
    " &= ((y_{H}^{(n)},y_{L}^{(n)}),(\\pi_{H}^{(n)},\\pi_{L}^{(n)}),(R_{H}^{(n)},R_{L}^{(n)}))\n",
    "\\end{align*}\n",
    "\n",
    "を得る\n",
    "\n",
    "4. 全ての$s_{i}$について$\\|\\varsigma^{(n)}(s_{i})-\\varsigma^{(n-1)}(s_{i})\\|<\\varepsilon$であればストップ。そうでなければ、$\\varsigma^{(n)}(s_{i})$を$\\varsigma^{(n-1)}(s_{i})$に代入して、ステップ3-4を繰り返す"
   ]
  },
  {
   "cell_type": "code",
   "execution_count": 1,
   "metadata": {
    "slideshow": {
     "slide_type": "subslide"
    }
   },
   "outputs": [
    {
     "data": {
      "text/plain": [
       "dist (generic function with 1 method)"
      ]
     },
     "execution_count": 1,
     "metadata": {},
     "output_type": "execute_result"
    }
   ],
   "source": [
    "# カリブレーションに用いる関数\n",
    "function dist(x0,β,ϕ,rstar,sH,pH,pL,yLtar,piLtar)\n",
    "\n",
    "    sL = x0[1]\n",
    "    κ = x0[2]\n",
    "\n",
    "    # 解析的解\n",
    "    A = [-1+(1-pH) pH -(ϕ-1)*(1-pH) -(ϕ-1)*pH;\n",
    "    κ 0 -1+β*(1-pH) β*pH;\n",
    "    (1-pL) -1+pL (1-pL) pL;\n",
    "    0 κ β*(1-pL) -1+β*pL]\n",
    "    b = [rstar-sH;0;-sL;0]\n",
    "    x = A\\b\n",
    "    yH  = x[1]\n",
    "    yL  = x[2]\n",
    "    piH = x[3]\n",
    "    piL = x[4]\n",
    "    rH = rstar + ϕ*((1-pH)*piH + pH*piL)\n",
    "\n",
    "    # データの値とモデルの値の間の距離を最小化\n",
    "    f = (yL-yLtar)^2 + (piL-piLtar)^2\n",
    "\n",
    "    return f\n",
    "    \n",
    "end"
   ]
  },
  {
   "cell_type": "code",
   "execution_count": 2,
   "metadata": {
    "slideshow": {
     "slide_type": "subslide"
    }
   },
   "outputs": [
    {
     "name": "stdout",
     "output_type": "stream",
     "text": [
      "[0.00912668190392673 -1.5625167241936313]\n"
     ]
    },
    {
     "data": {
      "text/plain": [
       "1.0e-5"
      ]
     },
     "execution_count": 2,
     "metadata": {},
     "output_type": "execute_result"
    }
   ],
   "source": [
    "# ライブラリの読み込み\n",
    "using Optim # 最適化関数（カリブレーションに使用）\n",
    "using Plots # グラフのプロット\n",
    "using SpecialFunctions # for erfc\n",
    "using LinearAlgebra # for dot\n",
    "\n",
    "# Juliaにおいて、関数の外に書かれる変数はすべてグローバル変数（関数の中からもアクセスできる）\n",
    "\n",
    "rstar = 0.75 # pH=0のときの、定常状態での名目金利の値\n",
    "β = 1/(1+rstar/100) # 割引率(オイラー方程式の定常状態より)\n",
    "ϕ = 5.0  # テイラー係数(注: 小さいとiL=0にならない)\n",
    "pL = 0.75  # 危機の継続確率\n",
    "sH = rstar # 状態Hでの自然利子率の値\n",
    "\n",
    "# カリブレーション\n",
    "# yLとpiLのターゲットにpH=0のときのモデルの値を合わせるように、sLとkapの値をセット\n",
    "\n",
    "pH = 0.0 # 危機が起こる確率\n",
    "x0 = [-2.0, 0.01] # sLとkapの初期値\n",
    "\n",
    "# yLとpiLのターゲット\n",
    "yLtar = -7.0\n",
    "piLtar = -1.0/4\n",
    "\n",
    "# 最小化関数(Juliaの場合NelderMead())を用いる\n",
    "dist!(x0) = dist(x0,β,ϕ,rstar,sH,pH,pL,yLtar,piLtar)\n",
    "res = optimize(dist!,x0,NelderMead())\n",
    "\n",
    "# カリブレートしたパラメータをセット\n",
    "sL = res.minimizer[1]  # 状態Lでの自然利子率の値\n",
    "κ = res.minimizer[2] # フィリップス曲線の傾き\n",
    "println([κ sL])\n",
    "\n",
    "maxiter = 2000 # 繰り返し回数の最大値\n",
    "tol = 1e-5 # 許容誤差"
   ]
  },
  {
   "cell_type": "code",
   "execution_count": 4,
   "metadata": {
    "slideshow": {
     "slide_type": "subslide"
    }
   },
   "outputs": [],
   "source": [
    "struct Model{TI<:Integer, TF<:AbstractFloat}\n",
    "    β::TF       # 割引率\n",
    "    κ::TF       # フィリップス曲線の傾き\n",
    "    ϕ::TF       # テイラー係数\n",
    "    rstar::TF   # pH=0のときの、定常状態での名目金利の値\n",
    "    sH::TF      # 状態Hでの自然利子率の値\n",
    "    sL::TF      # 状態Lでの自然利子率の値\n",
    "    pH::TF      # 危機が起こる確率\n",
    "    pL::TF      # 危機の継続確率\n",
    "    maxiter::TI # 繰り返し回数の最大値\n",
    "    tol::TF     # 許容誤差\n",
    "end"
   ]
  },
  {
   "cell_type": "code",
   "execution_count": 3,
   "metadata": {
    "slideshow": {
     "slide_type": "subslide"
    }
   },
   "outputs": [
    {
     "data": {
      "text/plain": [
       "ti (generic function with 1 method)"
      ]
     },
     "execution_count": 3,
     "metadata": {},
     "output_type": "execute_result"
    }
   ],
   "source": [
    "# time iterationを行う関数\n",
    "function ti(m)\n",
    "\n",
    "    β = m.β\n",
    "    κ = m.κ\n",
    "    ϕ = m.ϕ\n",
    "    rstar = m.rstar\n",
    "    sH = m.sH\n",
    "    sL = m.sL\n",
    "    pH = m.pH\n",
    "    pL = m.pL\n",
    "    \n",
    "    ## STEP 1.a: グリッド生成\n",
    "    Gs = [sH; sL]\n",
    "    Ps = [1.0-pH pH; \n",
    "        1.0-pL pL]\n",
    "    \n",
    "    # 解析的解\n",
    "    A = [-1+(1-pH) pH -(ϕ-1)*(1-pH) -(ϕ-1)*pH;\n",
    "    κ 0 -1+β*(1-pH) β*pH;\n",
    "    (1-pL) -1+pL (1-pL) pL;\n",
    "    0 κ β*(1-pL) -1+β*pL]\n",
    "    b = [rstar-sH;0;-sL;0]\n",
    "    x = A\\b\n",
    "    yH  = x[1]\n",
    "    yL  = x[2]\n",
    "    piH = x[3]\n",
    "    piL = x[4]\n",
    "    rH = rstar + ϕ*((1-pH)*piH + pH*piL)\n",
    "\n",
    "    ## STEP 1.b: 政策関数の初期値を当て推量\n",
    "    Ns = 2\n",
    "    # 解析的解を初期値とする(1回の繰り返しで収束)\n",
    "    yvec0 = [yH; yL]\n",
    "    pvec0 = [piH; piL]\n",
    "    rvec0 = [rH; 0]\n",
    "    # 適当な初期値\n",
    "    #yvec0 = zeros(Ns)\n",
    "    #pvec0 = zeros(Ns)\n",
    "    #rvec0 = zeros(Ns)\n",
    "    \n",
    "    yvec1 = zeros(Ns)\n",
    "    pvec1 = zeros(Ns)\n",
    "    rvec1 = zeros(Ns)\n",
    "    \n",
    "    ## STEP 4: 政策関数を繰り返し計算\n",
    "    diff = 1e+4\n",
    "    iter = 1\n",
    "\n",
    "    while(diff > m.tol && iter < m.maxiter)\n",
    "\n",
    "        ## STEP 3: 各グリッドごとに最適化\n",
    "        for is = 1:Ns\n",
    "\n",
    "            # ショックの値\n",
    "            s0 = Gs[is]\n",
    "\n",
    "            # 古い政策関数から期待値(ye,pie)を計算\n",
    "            ye = Ps[is,1]*yvec0[1] + Ps[is,2]*yvec0[2]\n",
    "            pie = Ps[is,1]*pvec0[1] + Ps[is,2]*pvec0[2]\n",
    "\n",
    "            # 期待値を所与として(y0,pi0,r0)を計算\n",
    "            r0 = max(rstar + ϕ*pie, 0)\n",
    "            y0 = ye - (r0 - pie - s0)\n",
    "            pi0 = κ*y0 + β*pie\n",
    "\n",
    "            # 新しい政策関数を保存\n",
    "            yvec1[is] = y0\n",
    "            pvec1[is] = pi0\n",
    "            rvec1[is] = r0\n",
    "\n",
    "        end\n",
    "        \n",
    "        # 繰り返し計算誤差を確認\n",
    "        ydiff = maximum(abs.(yvec1-yvec0))\n",
    "        pdiff = maximum(abs.(pvec1-pvec0))\n",
    "        rdiff = maximum(abs.(rvec1-rvec0))\n",
    "        diff = maximum([ydiff pdiff rdiff])\n",
    "\n",
    "        println([iter diff])\n",
    "\n",
    "        # 政策関数をアップデート\n",
    "        # 注意：Juliaで配列の代入はポインタ渡し\n",
    "        yvec0 = copy(yvec1)\n",
    "        pvec0 = copy(pvec1)\n",
    "        rvec0 = copy(rvec1)\n",
    "        \n",
    "        iter = iter + 1\n",
    "\n",
    "    end\n",
    "    \n",
    "    return yvec0, pvec0, rvec0\n",
    "    \n",
    "end"
   ]
  },
  {
   "cell_type": "code",
   "execution_count": 5,
   "metadata": {
    "slideshow": {
     "slide_type": "subslide"
    }
   },
   "outputs": [
    {
     "name": "stdout",
     "output_type": "stream",
     "text": [
      "[1.0 2.7755575615628914e-17]\n",
      "  0.279958 seconds (451.68 k allocations: 23.789 MiB)\n"
     ]
    },
    {
     "data": {
      "text/plain": [
       "([-8.881784197001252e-16, -6.999956498203862], [-8.106121910535373e-18, -0.24996320047644555], [0.75, 0.0])"
      ]
     },
     "execution_count": 5,
     "metadata": {},
     "output_type": "execute_result"
    }
   ],
   "source": [
    "pH = 0.0\n",
    "# 構造体にパラメータを格納\n",
    "m = Model(β,κ,ϕ,rstar,sH,sL,pH,pL,maxiter,tol)\n",
    "@time yvec0, pvec0, rvec0 = ti(m)"
   ]
  },
  {
   "cell_type": "code",
   "execution_count": 6,
   "metadata": {
    "slideshow": {
     "slide_type": "fragment"
    }
   },
   "outputs": [
    {
     "name": "stdout",
     "output_type": "stream",
     "text": [
      "[1.0 8.881784197001252e-16]\n",
      "  0.000292 seconds (307 allocations: 18.562 KiB)\n"
     ]
    },
    {
     "data": {
      "text/plain": [
       "([0.5966221205094636, -6.500827012098151], [-0.03858366046226398, -0.26959952512360896], [0.528204714606012, 0.0])"
      ]
     },
     "execution_count": 6,
     "metadata": {},
     "output_type": "execute_result"
    }
   ],
   "source": [
    "pH = 0.025\n",
    "m = Model(β,κ,ϕ,rstar,sH,sL,pH,pL,maxiter,tol)\n",
    "@time yvec1, pvec1, rvec1 = ti(m)"
   ]
  },
  {
   "cell_type": "code",
   "execution_count": 7,
   "metadata": {
    "slideshow": {
     "slide_type": "subslide"
    }
   },
   "outputs": [
    {
     "data": {
      "image/svg+xml": [
       "<?xml version=\"1.0\" encoding=\"utf-8\"?>\n",
       "<svg xmlns=\"http://www.w3.org/2000/svg\" xmlns:xlink=\"http://www.w3.org/1999/xlink\" width=\"800\" height=\"400\" viewBox=\"0 0 3200 1600\">\n",
       "<defs>\n",
       "  <clipPath id=\"clip970\">\n",
       "    <rect x=\"0\" y=\"0\" width=\"3200\" height=\"1600\"/>\n",
       "  </clipPath>\n",
       "</defs>\n",
       "<path clip-path=\"url(#clip970)\" d=\"\n",
       "M0 1600 L3200 1600 L3200 0 L0 0  Z\n",
       "  \" fill=\"#ffffff\" fill-rule=\"evenodd\" fill-opacity=\"1\"/>\n",
       "<defs>\n",
       "  <clipPath id=\"clip971\">\n",
       "    <rect x=\"640\" y=\"0\" width=\"2241\" height=\"1600\"/>\n",
       "  </clipPath>\n",
       "</defs>\n",
       "<path clip-path=\"url(#clip970)\" d=\"\n",
       "M152.168 1495.09 L1009.68 1495.09 L1009.68 108.352 L152.168 108.352  Z\n",
       "  \" fill=\"#ffffff\" fill-rule=\"evenodd\" fill-opacity=\"1\"/>\n",
       "<defs>\n",
       "  <clipPath id=\"clip972\">\n",
       "    <rect x=\"152\" y=\"108\" width=\"859\" height=\"1388\"/>\n",
       "  </clipPath>\n",
       "</defs>\n",
       "<polyline clip-path=\"url(#clip972)\" style=\"stroke:#000000; stroke-width:2; stroke-opacity:0.1; fill:none\" points=\"\n",
       "  176.437,1495.09 176.437,108.352 \n",
       "  \"/>\n",
       "<polyline clip-path=\"url(#clip972)\" style=\"stroke:#000000; stroke-width:2; stroke-opacity:0.1; fill:none\" points=\"\n",
       "  985.416,1495.09 985.416,108.352 \n",
       "  \"/>\n",
       "<polyline clip-path=\"url(#clip970)\" style=\"stroke:#000000; stroke-width:4; stroke-opacity:1; fill:none\" points=\"\n",
       "  152.168,1495.09 1009.68,1495.09 \n",
       "  \"/>\n",
       "<polyline clip-path=\"url(#clip970)\" style=\"stroke:#000000; stroke-width:4; stroke-opacity:1; fill:none\" points=\"\n",
       "  176.437,1495.09 176.437,1478.45 \n",
       "  \"/>\n",
       "<polyline clip-path=\"url(#clip970)\" style=\"stroke:#000000; stroke-width:4; stroke-opacity:1; fill:none\" points=\"\n",
       "  985.416,1495.09 985.416,1478.45 \n",
       "  \"/>\n",
       "<path clip-path=\"url(#clip970)\" d=\"M 0 0 M163.266 1527.6 L167.942 1527.6 L167.942 1541.77 L184.932 1541.77 L184.932 1527.6 L189.608 1527.6 L189.608 1562.16 L184.932 1562.16 L184.932 1545.7 L167.942 1545.7 L167.942 1562.16 L163.266 1562.16 L163.266 1527.6 Z\" fill=\"#000000\" fill-rule=\"evenodd\" fill-opacity=\"1\" /><path clip-path=\"url(#clip970)\" d=\"M 0 0 M974.663 1527.6 L979.339 1527.6 L979.339 1558.22 L996.168 1558.22 L996.168 1562.16 L974.663 1562.16 L974.663 1527.6 Z\" fill=\"#000000\" fill-rule=\"evenodd\" fill-opacity=\"1\" /><polyline clip-path=\"url(#clip972)\" style=\"stroke:#000000; stroke-width:2; stroke-opacity:0.1; fill:none\" points=\"\n",
       "  152.168,1283.63 1009.68,1283.63 \n",
       "  \"/>\n",
       "<polyline clip-path=\"url(#clip972)\" style=\"stroke:#000000; stroke-width:2; stroke-opacity:0.1; fill:none\" points=\"\n",
       "  152.168,939.205 1009.68,939.205 \n",
       "  \"/>\n",
       "<polyline clip-path=\"url(#clip972)\" style=\"stroke:#000000; stroke-width:2; stroke-opacity:0.1; fill:none\" points=\"\n",
       "  152.168,594.775 1009.68,594.775 \n",
       "  \"/>\n",
       "<polyline clip-path=\"url(#clip972)\" style=\"stroke:#000000; stroke-width:2; stroke-opacity:0.1; fill:none\" points=\"\n",
       "  152.168,250.346 1009.68,250.346 \n",
       "  \"/>\n",
       "<polyline clip-path=\"url(#clip970)\" style=\"stroke:#000000; stroke-width:4; stroke-opacity:1; fill:none\" points=\"\n",
       "  152.168,1495.09 152.168,108.352 \n",
       "  \"/>\n",
       "<polyline clip-path=\"url(#clip970)\" style=\"stroke:#000000; stroke-width:4; stroke-opacity:1; fill:none\" points=\"\n",
       "  152.168,1283.63 162.458,1283.63 \n",
       "  \"/>\n",
       "<polyline clip-path=\"url(#clip970)\" style=\"stroke:#000000; stroke-width:4; stroke-opacity:1; fill:none\" points=\"\n",
       "  152.168,939.205 162.458,939.205 \n",
       "  \"/>\n",
       "<polyline clip-path=\"url(#clip970)\" style=\"stroke:#000000; stroke-width:4; stroke-opacity:1; fill:none\" points=\"\n",
       "  152.168,594.775 162.458,594.775 \n",
       "  \"/>\n",
       "<polyline clip-path=\"url(#clip970)\" style=\"stroke:#000000; stroke-width:4; stroke-opacity:1; fill:none\" points=\"\n",
       "  152.168,250.346 162.458,250.346 \n",
       "  \"/>\n",
       "<path clip-path=\"url(#clip970)\" d=\"M 0 0 M47.3162 1284.08 L76.992 1284.08 L76.992 1288.02 L47.3162 1288.02 L47.3162 1284.08 Z\" fill=\"#000000\" fill-rule=\"evenodd\" fill-opacity=\"1\" /><path clip-path=\"url(#clip970)\" d=\"M 0 0 M92.64 1281.77 Q89.4919 1281.77 87.6401 1283.92 Q85.8114 1286.08 85.8114 1289.83 Q85.8114 1293.55 87.6401 1295.73 Q89.4919 1297.88 92.64 1297.88 Q95.7882 1297.88 97.6169 1295.73 Q99.4687 1293.55 99.4687 1289.83 Q99.4687 1286.08 97.6169 1283.92 Q95.7882 1281.77 92.64 1281.77 M101.922 1267.12 L101.922 1271.38 Q100.163 1270.54 98.3576 1270.1 Q96.5752 1269.66 94.8159 1269.66 Q90.1863 1269.66 87.7326 1272.79 Q85.3021 1275.91 84.9549 1282.23 Q86.3206 1280.22 88.3808 1279.15 Q90.441 1278.07 92.9178 1278.07 Q98.1261 1278.07 101.135 1281.24 Q104.168 1284.39 104.168 1289.83 Q104.168 1295.15 101.02 1298.37 Q97.8715 1301.58 92.64 1301.58 Q86.6447 1301.58 83.4734 1297 Q80.3021 1292.4 80.3021 1283.67 Q80.3021 1275.47 84.191 1270.61 Q88.0799 1265.73 94.6308 1265.73 Q96.39 1265.73 98.1724 1266.08 Q99.978 1266.42 101.922 1267.12 Z\" fill=\"#000000\" fill-rule=\"evenodd\" fill-opacity=\"1\" /><path clip-path=\"url(#clip970)\" d=\"M 0 0 M46.9921 939.656 L76.6679 939.656 L76.6679 943.591 L46.9921 943.591 L46.9921 939.656 Z\" fill=\"#000000\" fill-rule=\"evenodd\" fill-opacity=\"1\" /><path clip-path=\"url(#clip970)\" d=\"M 0 0 M94.5845 925.999 L82.779 944.448 L94.5845 944.448 L94.5845 925.999 M93.3576 921.925 L99.2372 921.925 L99.2372 944.448 L104.168 944.448 L104.168 948.336 L99.2372 948.336 L99.2372 956.485 L94.5845 956.485 L94.5845 948.336 L78.9827 948.336 L78.9827 943.823 L93.3576 921.925 Z\" fill=\"#000000\" fill-rule=\"evenodd\" fill-opacity=\"1\" /><path clip-path=\"url(#clip970)\" d=\"M 0 0 M49.0754 595.227 L78.7512 595.227 L78.7512 599.162 L49.0754 599.162 L49.0754 595.227 Z\" fill=\"#000000\" fill-rule=\"evenodd\" fill-opacity=\"1\" /><path clip-path=\"url(#clip970)\" d=\"M 0 0 M87.8484 608.12 L104.168 608.12 L104.168 612.055 L82.2234 612.055 L82.2234 608.12 Q84.8854 605.366 89.4688 600.736 Q94.0752 596.083 95.2558 594.741 Q97.5011 592.218 98.3807 590.481 Q99.2835 588.722 99.2835 587.032 Q99.2835 584.278 97.3391 582.542 Q95.4178 580.806 92.316 580.806 Q90.1169 580.806 87.6632 581.569 Q85.2327 582.333 82.4549 583.884 L82.4549 579.162 Q85.279 578.028 87.7326 577.449 Q90.1863 576.87 92.2234 576.87 Q97.5937 576.87 100.788 579.556 Q103.983 582.241 103.983 586.732 Q103.983 588.861 103.172 590.782 Q102.385 592.681 100.279 595.273 Q99.7002 595.944 96.5983 599.162 Q93.4965 602.356 87.8484 608.12 Z\" fill=\"#000000\" fill-rule=\"evenodd\" fill-opacity=\"1\" /><path clip-path=\"url(#clip970)\" d=\"M 0 0 M92.2234 236.145 Q88.6123 236.145 86.7836 239.71 Q84.978 243.251 84.978 250.381 Q84.978 257.488 86.7836 261.052 Q88.6123 264.594 92.2234 264.594 Q95.8576 264.594 97.6632 261.052 Q99.4918 257.488 99.4918 250.381 Q99.4918 243.251 97.6632 239.71 Q95.8576 236.145 92.2234 236.145 M92.2234 232.441 Q98.0335 232.441 101.089 237.048 Q104.168 241.631 104.168 250.381 Q104.168 259.108 101.089 263.714 Q98.0335 268.298 92.2234 268.298 Q86.4132 268.298 83.3345 263.714 Q80.279 259.108 80.279 250.381 Q80.279 241.631 83.3345 237.048 Q86.4132 232.441 92.2234 232.441 Z\" fill=\"#000000\" fill-rule=\"evenodd\" fill-opacity=\"1\" /><path clip-path=\"url(#clip970)\" d=\"M 0 0 M481.315 17.6457 Q472.403 17.6457 467.136 24.2892 Q461.911 30.9327 461.911 42.3968 Q461.911 53.8203 467.136 60.4638 Q472.403 67.1073 481.315 67.1073 Q490.227 67.1073 495.412 60.4638 Q500.637 53.8203 500.637 42.3968 Q500.637 30.9327 495.412 24.2892 Q490.227 17.6457 481.315 17.6457 M481.315 11.0023 Q494.034 11.0023 501.65 19.5497 Q509.266 28.0566 509.266 42.3968 Q509.266 56.6965 501.65 65.2439 Q494.034 73.7508 481.315 73.7508 Q468.554 73.7508 460.898 65.2439 Q453.282 56.737 453.282 42.3968 Q453.282 28.0566 460.898 19.5497 Q468.554 11.0023 481.315 11.0023 Z\" fill=\"#000000\" fill-rule=\"evenodd\" fill-opacity=\"1\" /><path clip-path=\"url(#clip970)\" d=\"M 0 0 M516.314 54.671 L516.314 27.2059 L523.768 27.2059 L523.768 54.3874 Q523.768 60.8284 526.28 64.0691 Q528.791 67.2693 533.814 67.2693 Q539.85 67.2693 543.334 63.421 Q546.858 59.5726 546.858 52.9291 L546.858 27.2059 L554.312 27.2059 L554.312 72.576 L546.858 72.576 L546.858 65.6084 Q544.144 69.7404 540.539 71.7658 Q536.974 73.7508 532.234 73.7508 Q524.416 73.7508 520.365 68.8897 Q516.314 64.0286 516.314 54.671 M535.07 26.1121 L535.07 26.1121 Z\" fill=\"#000000\" fill-rule=\"evenodd\" fill-opacity=\"1\" /><path clip-path=\"url(#clip970)\" d=\"M 0 0 M569.503 14.324 L569.503 27.2059 L584.856 27.2059 L584.856 32.9987 L569.503 32.9987 L569.503 57.6282 Q569.503 63.1779 571.002 64.7578 Q572.541 66.3376 577.2 66.3376 L584.856 66.3376 L584.856 72.576 L577.2 72.576 Q568.571 72.576 565.29 69.3758 Q562.009 66.1351 562.009 57.6282 L562.009 32.9987 L556.54 32.9987 L556.54 27.2059 L562.009 27.2059 L562.009 14.324 L569.503 14.324 Z\" fill=\"#000000\" fill-rule=\"evenodd\" fill-opacity=\"1\" /><path clip-path=\"url(#clip970)\" d=\"M 0 0 M599.885 65.7705 L599.885 89.8329 L592.39 89.8329 L592.39 27.2059 L599.885 27.2059 L599.885 34.0924 Q602.234 30.0415 605.799 28.0971 Q609.404 26.1121 614.387 26.1121 Q622.651 26.1121 627.795 32.6746 Q632.98 39.2371 632.98 49.9314 Q632.98 60.6258 627.795 67.1883 Q622.651 73.7508 614.387 73.7508 Q609.404 73.7508 605.799 71.8063 Q602.234 69.8214 599.885 65.7705 M625.243 49.9314 Q625.243 41.7081 621.84 37.0496 Q618.478 32.3505 612.564 32.3505 Q606.65 32.3505 603.247 37.0496 Q599.885 41.7081 599.885 49.9314 Q599.885 58.1548 603.247 62.8538 Q606.65 67.5124 612.564 67.5124 Q618.478 67.5124 621.84 62.8538 Q625.243 58.1548 625.243 49.9314 Z\" fill=\"#000000\" fill-rule=\"evenodd\" fill-opacity=\"1\" /><path clip-path=\"url(#clip970)\" d=\"M 0 0 M640.029 54.671 L640.029 27.2059 L647.483 27.2059 L647.483 54.3874 Q647.483 60.8284 649.994 64.0691 Q652.506 67.2693 657.529 67.2693 Q663.565 67.2693 667.049 63.421 Q670.573 59.5726 670.573 52.9291 L670.573 27.2059 L678.027 27.2059 L678.027 72.576 L670.573 72.576 L670.573 65.6084 Q667.859 69.7404 664.253 71.7658 Q660.689 73.7508 655.949 73.7508 Q648.131 73.7508 644.08 68.8897 Q640.029 64.0286 640.029 54.671 M658.785 26.1121 L658.785 26.1121 Z\" fill=\"#000000\" fill-rule=\"evenodd\" fill-opacity=\"1\" /><path clip-path=\"url(#clip970)\" d=\"M 0 0 M693.217 14.324 L693.217 27.2059 L708.57 27.2059 L708.57 32.9987 L693.217 32.9987 L693.217 57.6282 Q693.217 63.1779 694.716 64.7578 Q696.256 66.3376 700.914 66.3376 L708.57 66.3376 L708.57 72.576 L700.914 72.576 Q692.286 72.576 689.004 69.3758 Q685.723 66.1351 685.723 57.6282 L685.723 32.9987 L680.255 32.9987 L680.255 27.2059 L685.723 27.2059 L685.723 14.324 L693.217 14.324 Z\" fill=\"#000000\" fill-rule=\"evenodd\" fill-opacity=\"1\" /><polyline clip-path=\"url(#clip972)\" style=\"stroke:#000000; stroke-width:8; stroke-opacity:1; fill:none\" points=\"\n",
       "  176.437,250.346 985.416,1455.84 \n",
       "  \"/>\n",
       "<circle clip-path=\"url(#clip972)\" cx=\"176.437\" cy=\"250.346\" r=\"14\" fill=\"#000000\" fill-rule=\"evenodd\" fill-opacity=\"1\" stroke=\"none\"/>\n",
       "<circle clip-path=\"url(#clip972)\" cx=\"985.416\" cy=\"1455.84\" r=\"14\" fill=\"#000000\" fill-rule=\"evenodd\" fill-opacity=\"1\" stroke=\"none\"/>\n",
       "<polyline clip-path=\"url(#clip972)\" style=\"stroke:#000000; stroke-width:8; stroke-opacity:1; fill:none\" stroke-dasharray=\"32, 20\" points=\"\n",
       "  176.437,147.599 985.416,1369.88 \n",
       "  \"/>\n",
       "<circle clip-path=\"url(#clip972)\" cx=\"176.437\" cy=\"147.599\" r=\"14\" fill=\"#000000\" fill-rule=\"evenodd\" fill-opacity=\"1\" stroke=\"none\"/>\n",
       "<circle clip-path=\"url(#clip972)\" cx=\"985.416\" cy=\"1369.88\" r=\"14\" fill=\"#000000\" fill-rule=\"evenodd\" fill-opacity=\"1\" stroke=\"none\"/>\n",
       "<path clip-path=\"url(#clip970)\" d=\"\n",
       "M1271.6 1495.09 L2129.11 1495.09 L2129.11 108.352 L1271.6 108.352  Z\n",
       "  \" fill=\"#ffffff\" fill-rule=\"evenodd\" fill-opacity=\"1\"/>\n",
       "<defs>\n",
       "  <clipPath id=\"clip973\">\n",
       "    <rect x=\"1271\" y=\"108\" width=\"859\" height=\"1388\"/>\n",
       "  </clipPath>\n",
       "</defs>\n",
       "<polyline clip-path=\"url(#clip973)\" style=\"stroke:#000000; stroke-width:2; stroke-opacity:0.1; fill:none\" points=\"\n",
       "  1295.87,1495.09 1295.87,108.352 \n",
       "  \"/>\n",
       "<polyline clip-path=\"url(#clip973)\" style=\"stroke:#000000; stroke-width:2; stroke-opacity:0.1; fill:none\" points=\"\n",
       "  2104.84,1495.09 2104.84,108.352 \n",
       "  \"/>\n",
       "<polyline clip-path=\"url(#clip970)\" style=\"stroke:#000000; stroke-width:4; stroke-opacity:1; fill:none\" points=\"\n",
       "  1271.6,1495.09 2129.11,1495.09 \n",
       "  \"/>\n",
       "<polyline clip-path=\"url(#clip970)\" style=\"stroke:#000000; stroke-width:4; stroke-opacity:1; fill:none\" points=\"\n",
       "  1295.87,1495.09 1295.87,1478.45 \n",
       "  \"/>\n",
       "<polyline clip-path=\"url(#clip970)\" style=\"stroke:#000000; stroke-width:4; stroke-opacity:1; fill:none\" points=\"\n",
       "  2104.84,1495.09 2104.84,1478.45 \n",
       "  \"/>\n",
       "<path clip-path=\"url(#clip970)\" d=\"M 0 0 M1282.69 1527.6 L1287.37 1527.6 L1287.37 1541.77 L1304.36 1541.77 L1304.36 1527.6 L1309.04 1527.6 L1309.04 1562.16 L1304.36 1562.16 L1304.36 1545.7 L1287.37 1545.7 L1287.37 1562.16 L1282.69 1562.16 L1282.69 1527.6 Z\" fill=\"#000000\" fill-rule=\"evenodd\" fill-opacity=\"1\" /><path clip-path=\"url(#clip970)\" d=\"M 0 0 M2094.09 1527.6 L2098.77 1527.6 L2098.77 1558.22 L2115.6 1558.22 L2115.6 1562.16 L2094.09 1562.16 L2094.09 1527.6 Z\" fill=\"#000000\" fill-rule=\"evenodd\" fill-opacity=\"1\" /><polyline clip-path=\"url(#clip973)\" style=\"stroke:#000000; stroke-width:2; stroke-opacity:0.1; fill:none\" points=\"\n",
       "  1271.6,1360.73 2129.11,1360.73 \n",
       "  \"/>\n",
       "<polyline clip-path=\"url(#clip973)\" style=\"stroke:#000000; stroke-width:2; stroke-opacity:0.1; fill:none\" points=\"\n",
       "  1271.6,1057.45 2129.11,1057.45 \n",
       "  \"/>\n",
       "<polyline clip-path=\"url(#clip973)\" style=\"stroke:#000000; stroke-width:2; stroke-opacity:0.1; fill:none\" points=\"\n",
       "  1271.6,754.166 2129.11,754.166 \n",
       "  \"/>\n",
       "<polyline clip-path=\"url(#clip973)\" style=\"stroke:#000000; stroke-width:2; stroke-opacity:0.1; fill:none\" points=\"\n",
       "  1271.6,450.883 2129.11,450.883 \n",
       "  \"/>\n",
       "<polyline clip-path=\"url(#clip973)\" style=\"stroke:#000000; stroke-width:2; stroke-opacity:0.1; fill:none\" points=\"\n",
       "  1271.6,147.599 2129.11,147.599 \n",
       "  \"/>\n",
       "<polyline clip-path=\"url(#clip970)\" style=\"stroke:#000000; stroke-width:4; stroke-opacity:1; fill:none\" points=\"\n",
       "  1271.6,1495.09 1271.6,108.352 \n",
       "  \"/>\n",
       "<polyline clip-path=\"url(#clip970)\" style=\"stroke:#000000; stroke-width:4; stroke-opacity:1; fill:none\" points=\"\n",
       "  1271.6,1360.73 1281.89,1360.73 \n",
       "  \"/>\n",
       "<polyline clip-path=\"url(#clip970)\" style=\"stroke:#000000; stroke-width:4; stroke-opacity:1; fill:none\" points=\"\n",
       "  1271.6,1057.45 1281.89,1057.45 \n",
       "  \"/>\n",
       "<polyline clip-path=\"url(#clip970)\" style=\"stroke:#000000; stroke-width:4; stroke-opacity:1; fill:none\" points=\"\n",
       "  1271.6,754.166 1281.89,754.166 \n",
       "  \"/>\n",
       "<polyline clip-path=\"url(#clip970)\" style=\"stroke:#000000; stroke-width:4; stroke-opacity:1; fill:none\" points=\"\n",
       "  1271.6,450.883 1281.89,450.883 \n",
       "  \"/>\n",
       "<polyline clip-path=\"url(#clip970)\" style=\"stroke:#000000; stroke-width:4; stroke-opacity:1; fill:none\" points=\"\n",
       "  1271.6,147.599 1281.89,147.599 \n",
       "  \"/>\n",
       "<path clip-path=\"url(#clip970)\" d=\"M 0 0 M1104.15 1361.18 L1133.83 1361.18 L1133.83 1365.12 L1104.15 1365.12 L1104.15 1361.18 Z\" fill=\"#000000\" fill-rule=\"evenodd\" fill-opacity=\"1\" /><path clip-path=\"url(#clip970)\" d=\"M 0 0 M1139.71 1374.08 L1147.35 1374.08 L1147.35 1347.71 L1139.04 1349.38 L1139.04 1345.12 L1147.3 1343.45 L1151.98 1343.45 L1151.98 1374.08 L1159.62 1374.08 L1159.62 1378.01 L1139.71 1378.01 L1139.71 1374.08 Z\" fill=\"#000000\" fill-rule=\"evenodd\" fill-opacity=\"1\" /><path clip-path=\"url(#clip970)\" d=\"M 0 0 M1164.68 1372.13 L1169.57 1372.13 L1169.57 1378.01 L1164.68 1378.01 L1164.68 1372.13 Z\" fill=\"#000000\" fill-rule=\"evenodd\" fill-opacity=\"1\" /><path clip-path=\"url(#clip970)\" d=\"M 0 0 M1184.64 1346.53 Q1181.03 1346.53 1179.2 1350.1 Q1177.39 1353.64 1177.39 1360.77 Q1177.39 1367.87 1179.2 1371.44 Q1181.03 1374.98 1184.64 1374.98 Q1188.27 1374.98 1190.08 1371.44 Q1191.91 1367.87 1191.91 1360.77 Q1191.91 1353.64 1190.08 1350.1 Q1188.27 1346.53 1184.64 1346.53 M1184.64 1342.83 Q1190.45 1342.83 1193.5 1347.43 Q1196.58 1352.02 1196.58 1360.77 Q1196.58 1369.49 1193.5 1374.1 Q1190.45 1378.68 1184.64 1378.68 Q1178.83 1378.68 1175.75 1374.1 Q1172.69 1369.49 1172.69 1360.77 Q1172.69 1352.02 1175.75 1347.43 Q1178.83 1342.83 1184.64 1342.83 Z\" fill=\"#000000\" fill-rule=\"evenodd\" fill-opacity=\"1\" /><path clip-path=\"url(#clip970)\" d=\"M 0 0 M1211.65 1346.53 Q1208.04 1346.53 1206.21 1350.1 Q1204.41 1353.64 1204.41 1360.77 Q1204.41 1367.87 1206.21 1371.44 Q1208.04 1374.98 1211.65 1374.98 Q1215.29 1374.98 1217.09 1371.44 Q1218.92 1367.87 1218.92 1360.77 Q1218.92 1353.64 1217.09 1350.1 Q1215.29 1346.53 1211.65 1346.53 M1211.65 1342.83 Q1217.46 1342.83 1220.52 1347.43 Q1223.6 1352.02 1223.6 1360.77 Q1223.6 1369.49 1220.52 1374.1 Q1217.46 1378.68 1211.65 1378.68 Q1205.84 1378.68 1202.76 1374.1 Q1199.71 1369.49 1199.71 1360.77 Q1199.71 1352.02 1202.76 1347.43 Q1205.84 1342.83 1211.65 1342.83 Z\" fill=\"#000000\" fill-rule=\"evenodd\" fill-opacity=\"1\" /><path clip-path=\"url(#clip970)\" d=\"M 0 0 M1104.82 1057.9 L1134.5 1057.9 L1134.5 1061.84 L1104.82 1061.84 L1104.82 1057.9 Z\" fill=\"#000000\" fill-rule=\"evenodd\" fill-opacity=\"1\" /><path clip-path=\"url(#clip970)\" d=\"M 0 0 M1149.57 1043.25 Q1145.96 1043.25 1144.13 1046.81 Q1142.32 1050.35 1142.32 1057.48 Q1142.32 1064.59 1144.13 1068.16 Q1145.96 1071.7 1149.57 1071.7 Q1153.2 1071.7 1155.01 1068.16 Q1156.84 1064.59 1156.84 1057.48 Q1156.84 1050.35 1155.01 1046.81 Q1153.2 1043.25 1149.57 1043.25 M1149.57 1039.54 Q1155.38 1039.54 1158.43 1044.15 Q1161.51 1048.73 1161.51 1057.48 Q1161.51 1066.21 1158.43 1070.82 Q1155.38 1075.4 1149.57 1075.4 Q1143.76 1075.4 1140.68 1070.82 Q1137.62 1066.21 1137.62 1057.48 Q1137.62 1048.73 1140.68 1044.15 Q1143.76 1039.54 1149.57 1039.54 Z\" fill=\"#000000\" fill-rule=\"evenodd\" fill-opacity=\"1\" /><path clip-path=\"url(#clip970)\" d=\"M 0 0 M1166.58 1068.85 L1171.47 1068.85 L1171.47 1074.73 L1166.58 1074.73 L1166.58 1068.85 Z\" fill=\"#000000\" fill-rule=\"evenodd\" fill-opacity=\"1\" /><path clip-path=\"url(#clip970)\" d=\"M 0 0 M1175.36 1040.17 L1197.58 1040.17 L1197.58 1042.16 L1185.03 1074.73 L1180.15 1074.73 L1191.95 1044.1 L1175.36 1044.1 L1175.36 1040.17 Z\" fill=\"#000000\" fill-rule=\"evenodd\" fill-opacity=\"1\" /><path clip-path=\"url(#clip970)\" d=\"M 0 0 M1202.69 1040.17 L1221.05 1040.17 L1221.05 1044.1 L1206.98 1044.1 L1206.98 1052.58 Q1207.99 1052.23 1209.01 1052.07 Q1210.03 1051.88 1211.05 1051.88 Q1216.84 1051.88 1220.22 1055.05 Q1223.6 1058.23 1223.6 1063.64 Q1223.6 1069.22 1220.12 1072.32 Q1216.65 1075.4 1210.33 1075.4 Q1208.16 1075.4 1205.89 1075.03 Q1203.64 1074.66 1201.24 1073.92 L1201.24 1069.22 Q1203.32 1070.35 1205.54 1070.91 Q1207.76 1071.47 1210.24 1071.47 Q1214.24 1071.47 1216.58 1069.36 Q1218.92 1067.25 1218.92 1063.64 Q1218.92 1060.03 1216.58 1057.92 Q1214.24 1055.82 1210.24 1055.82 Q1208.37 1055.82 1206.49 1056.23 Q1204.64 1056.65 1202.69 1057.53 L1202.69 1040.17 Z\" fill=\"#000000\" fill-rule=\"evenodd\" fill-opacity=\"1\" /><path clip-path=\"url(#clip970)\" d=\"M 0 0 M1103.92 754.618 L1133.6 754.618 L1133.6 758.553 L1103.92 758.553 L1103.92 754.618 Z\" fill=\"#000000\" fill-rule=\"evenodd\" fill-opacity=\"1\" /><path clip-path=\"url(#clip970)\" d=\"M 0 0 M1148.67 739.965 Q1145.06 739.965 1143.23 743.53 Q1141.42 747.071 1141.42 754.201 Q1141.42 761.307 1143.23 764.872 Q1145.06 768.414 1148.67 768.414 Q1152.3 768.414 1154.11 764.872 Q1155.93 761.307 1155.93 754.201 Q1155.93 747.071 1154.11 743.53 Q1152.3 739.965 1148.67 739.965 M1148.67 736.261 Q1154.48 736.261 1157.53 740.868 Q1160.61 745.451 1160.61 754.201 Q1160.61 762.928 1157.53 767.534 Q1154.48 772.118 1148.67 772.118 Q1142.86 772.118 1139.78 767.534 Q1136.72 762.928 1136.72 754.201 Q1136.72 745.451 1139.78 740.868 Q1142.86 736.261 1148.67 736.261 Z\" fill=\"#000000\" fill-rule=\"evenodd\" fill-opacity=\"1\" /><path clip-path=\"url(#clip970)\" d=\"M 0 0 M1165.68 765.567 L1170.56 765.567 L1170.56 771.446 L1165.68 771.446 L1165.68 765.567 Z\" fill=\"#000000\" fill-rule=\"evenodd\" fill-opacity=\"1\" /><path clip-path=\"url(#clip970)\" d=\"M 0 0 M1175.68 736.886 L1194.04 736.886 L1194.04 740.821 L1179.96 740.821 L1179.96 749.294 Q1180.98 748.946 1182 748.784 Q1183.02 748.599 1184.04 748.599 Q1189.82 748.599 1193.2 751.77 Q1196.58 754.942 1196.58 760.358 Q1196.58 765.937 1193.11 769.039 Q1189.64 772.118 1183.32 772.118 Q1181.14 772.118 1178.87 771.747 Q1176.63 771.377 1174.22 770.636 L1174.22 765.937 Q1176.31 767.071 1178.53 767.627 Q1180.75 768.182 1183.23 768.182 Q1187.23 768.182 1189.57 766.076 Q1191.91 763.969 1191.91 760.358 Q1191.91 756.747 1189.57 754.641 Q1187.23 752.534 1183.23 752.534 Q1181.35 752.534 1179.48 752.951 Q1177.62 753.368 1175.68 754.247 L1175.68 736.886 Z\" fill=\"#000000\" fill-rule=\"evenodd\" fill-opacity=\"1\" /><path clip-path=\"url(#clip970)\" d=\"M 0 0 M1211.65 739.965 Q1208.04 739.965 1206.21 743.53 Q1204.41 747.071 1204.41 754.201 Q1204.41 761.307 1206.21 764.872 Q1208.04 768.414 1211.65 768.414 Q1215.29 768.414 1217.09 764.872 Q1218.92 761.307 1218.92 754.201 Q1218.92 747.071 1217.09 743.53 Q1215.29 739.965 1211.65 739.965 M1211.65 736.261 Q1217.46 736.261 1220.52 740.868 Q1223.6 745.451 1223.6 754.201 Q1223.6 762.928 1220.52 767.534 Q1217.46 772.118 1211.65 772.118 Q1205.84 772.118 1202.76 767.534 Q1199.71 762.928 1199.71 754.201 Q1199.71 745.451 1202.76 740.868 Q1205.84 736.261 1211.65 736.261 Z\" fill=\"#000000\" fill-rule=\"evenodd\" fill-opacity=\"1\" /><path clip-path=\"url(#clip970)\" d=\"M 0 0 M1105.52 451.334 L1135.19 451.334 L1135.19 455.269 L1105.52 455.269 L1105.52 451.334 Z\" fill=\"#000000\" fill-rule=\"evenodd\" fill-opacity=\"1\" /><path clip-path=\"url(#clip970)\" d=\"M 0 0 M1150.26 436.682 Q1146.65 436.682 1144.82 440.246 Q1143.02 443.788 1143.02 450.918 Q1143.02 458.024 1144.82 461.589 Q1146.65 465.13 1150.26 465.13 Q1153.9 465.13 1155.7 461.589 Q1157.53 458.024 1157.53 450.918 Q1157.53 443.788 1155.7 440.246 Q1153.9 436.682 1150.26 436.682 M1150.26 432.978 Q1156.07 432.978 1159.13 437.584 Q1162.21 442.168 1162.21 450.918 Q1162.21 459.644 1159.13 464.251 Q1156.07 468.834 1150.26 468.834 Q1144.45 468.834 1141.37 464.251 Q1138.32 459.644 1138.32 450.918 Q1138.32 442.168 1141.37 437.584 Q1144.45 432.978 1150.26 432.978 Z\" fill=\"#000000\" fill-rule=\"evenodd\" fill-opacity=\"1\" /><path clip-path=\"url(#clip970)\" d=\"M 0 0 M1167.28 462.283 L1172.16 462.283 L1172.16 468.163 L1167.28 468.163 L1167.28 462.283 Z\" fill=\"#000000\" fill-rule=\"evenodd\" fill-opacity=\"1\" /><path clip-path=\"url(#clip970)\" d=\"M 0 0 M1181.26 464.228 L1197.58 464.228 L1197.58 468.163 L1175.63 468.163 L1175.63 464.228 Q1178.3 461.473 1182.88 456.843 Q1187.49 452.191 1188.67 450.848 Q1190.91 448.325 1191.79 446.589 Q1192.69 444.83 1192.69 443.14 Q1192.69 440.385 1190.75 438.649 Q1188.83 436.913 1185.73 436.913 Q1183.53 436.913 1181.07 437.677 Q1178.64 438.441 1175.87 439.992 L1175.87 435.269 Q1178.69 434.135 1181.14 433.557 Q1183.6 432.978 1185.63 432.978 Q1191 432.978 1194.2 435.663 Q1197.39 438.348 1197.39 442.839 Q1197.39 444.969 1196.58 446.89 Q1195.8 448.788 1193.69 451.381 Q1193.11 452.052 1190.01 455.269 Q1186.91 458.464 1181.26 464.228 Z\" fill=\"#000000\" fill-rule=\"evenodd\" fill-opacity=\"1\" /><path clip-path=\"url(#clip970)\" d=\"M 0 0 M1202.69 433.603 L1221.05 433.603 L1221.05 437.538 L1206.98 437.538 L1206.98 446.01 Q1207.99 445.663 1209.01 445.501 Q1210.03 445.316 1211.05 445.316 Q1216.84 445.316 1220.22 448.487 Q1223.6 451.658 1223.6 457.075 Q1223.6 462.654 1220.12 465.755 Q1216.65 468.834 1210.33 468.834 Q1208.16 468.834 1205.89 468.464 Q1203.64 468.093 1201.24 467.353 L1201.24 462.654 Q1203.32 463.788 1205.54 464.343 Q1207.76 464.899 1210.24 464.899 Q1214.24 464.899 1216.58 462.792 Q1218.92 460.686 1218.92 457.075 Q1218.92 453.464 1216.58 451.357 Q1214.24 449.251 1210.24 449.251 Q1208.37 449.251 1206.49 449.668 Q1204.64 450.084 1202.69 450.964 L1202.69 433.603 Z\" fill=\"#000000\" fill-rule=\"evenodd\" fill-opacity=\"1\" /><path clip-path=\"url(#clip970)\" d=\"M 0 0 M1147.67 133.398 Q1144.06 133.398 1142.23 136.963 Q1140.43 140.504 1140.43 147.634 Q1140.43 154.741 1142.23 158.305 Q1144.06 161.847 1147.67 161.847 Q1151.31 161.847 1153.11 158.305 Q1154.94 154.741 1154.94 147.634 Q1154.94 140.504 1153.11 136.963 Q1151.31 133.398 1147.67 133.398 M1147.67 129.694 Q1153.48 129.694 1156.54 134.301 Q1159.62 138.884 1159.62 147.634 Q1159.62 156.361 1156.54 160.967 Q1153.48 165.551 1147.67 165.551 Q1141.86 165.551 1138.78 160.967 Q1135.73 156.361 1135.73 147.634 Q1135.73 138.884 1138.78 134.301 Q1141.86 129.694 1147.67 129.694 Z\" fill=\"#000000\" fill-rule=\"evenodd\" fill-opacity=\"1\" /><path clip-path=\"url(#clip970)\" d=\"M 0 0 M1164.68 159 L1169.57 159 L1169.57 164.879 L1164.68 164.879 L1164.68 159 Z\" fill=\"#000000\" fill-rule=\"evenodd\" fill-opacity=\"1\" /><path clip-path=\"url(#clip970)\" d=\"M 0 0 M1184.64 133.398 Q1181.03 133.398 1179.2 136.963 Q1177.39 140.504 1177.39 147.634 Q1177.39 154.741 1179.2 158.305 Q1181.03 161.847 1184.64 161.847 Q1188.27 161.847 1190.08 158.305 Q1191.91 154.741 1191.91 147.634 Q1191.91 140.504 1190.08 136.963 Q1188.27 133.398 1184.64 133.398 M1184.64 129.694 Q1190.45 129.694 1193.5 134.301 Q1196.58 138.884 1196.58 147.634 Q1196.58 156.361 1193.5 160.967 Q1190.45 165.551 1184.64 165.551 Q1178.83 165.551 1175.75 160.967 Q1172.69 156.361 1172.69 147.634 Q1172.69 138.884 1175.75 134.301 Q1178.83 129.694 1184.64 129.694 Z\" fill=\"#000000\" fill-rule=\"evenodd\" fill-opacity=\"1\" /><path clip-path=\"url(#clip970)\" d=\"M 0 0 M1211.65 133.398 Q1208.04 133.398 1206.21 136.963 Q1204.41 140.504 1204.41 147.634 Q1204.41 154.741 1206.21 158.305 Q1208.04 161.847 1211.65 161.847 Q1215.29 161.847 1217.09 158.305 Q1218.92 154.741 1218.92 147.634 Q1218.92 140.504 1217.09 136.963 Q1215.29 133.398 1211.65 133.398 M1211.65 129.694 Q1217.46 129.694 1220.52 134.301 Q1223.6 138.884 1223.6 147.634 Q1223.6 156.361 1220.52 160.967 Q1217.46 165.551 1211.65 165.551 Q1205.84 165.551 1202.76 160.967 Q1199.71 156.361 1199.71 147.634 Q1199.71 138.884 1202.76 134.301 Q1205.84 129.694 1211.65 129.694 Z\" fill=\"#000000\" fill-rule=\"evenodd\" fill-opacity=\"1\" /><path clip-path=\"url(#clip970)\" d=\"M 0 0 M1560.03 12.096 L1568.21 12.096 L1568.21 72.576 L1560.03 72.576 L1560.03 12.096 Z\" fill=\"#000000\" fill-rule=\"evenodd\" fill-opacity=\"1\" /><path clip-path=\"url(#clip970)\" d=\"M 0 0 M1613.75 45.1919 L1613.75 72.576 L1606.29 72.576 L1606.29 45.4349 Q1606.29 38.994 1603.78 35.7938 Q1601.27 32.5936 1596.25 32.5936 Q1590.21 32.5936 1586.73 36.4419 Q1583.24 40.2903 1583.24 46.9338 L1583.24 72.576 L1575.75 72.576 L1575.75 27.2059 L1583.24 27.2059 L1583.24 34.2544 Q1585.92 30.163 1589.52 28.1376 Q1593.17 26.1121 1597.91 26.1121 Q1605.73 26.1121 1609.74 30.9732 Q1613.75 35.7938 1613.75 45.1919 Z\" fill=\"#000000\" fill-rule=\"evenodd\" fill-opacity=\"1\" /><path clip-path=\"url(#clip970)\" d=\"M 0 0 M1644.53 9.54393 L1644.53 15.7418 L1637.4 15.7418 Q1633.39 15.7418 1631.81 17.3622 Q1630.27 18.9825 1630.27 23.1955 L1630.27 27.2059 L1642.55 27.2059 L1642.55 32.9987 L1630.27 32.9987 L1630.27 72.576 L1622.78 72.576 L1622.78 32.9987 L1615.65 32.9987 L1615.65 27.2059 L1622.78 27.2059 L1622.78 24.0462 Q1622.78 16.471 1626.3 13.0277 Q1629.83 9.54393 1637.49 9.54393 L1644.53 9.54393 Z\" fill=\"#000000\" fill-rule=\"evenodd\" fill-opacity=\"1\" /><path clip-path=\"url(#clip970)\" d=\"M 0 0 M1652.35 9.54393 L1659.81 9.54393 L1659.81 72.576 L1652.35 72.576 L1652.35 9.54393 Z\" fill=\"#000000\" fill-rule=\"evenodd\" fill-opacity=\"1\" /><path clip-path=\"url(#clip970)\" d=\"M 0 0 M1688.24 49.7694 Q1679.21 49.7694 1675.73 51.8354 Q1672.24 53.9013 1672.24 58.8839 Q1672.24 62.8538 1674.83 65.2034 Q1677.47 67.5124 1681.96 67.5124 Q1688.16 67.5124 1691.89 63.1374 Q1695.66 58.7219 1695.66 51.4303 L1695.66 49.7694 L1688.24 49.7694 M1703.11 46.6907 L1703.11 72.576 L1695.66 72.576 L1695.66 65.6895 Q1693.1 69.8214 1689.3 71.8063 Q1685.49 73.7508 1679.98 73.7508 Q1673.01 73.7508 1668.88 69.8619 Q1664.79 65.9325 1664.79 59.3701 Q1664.79 51.7138 1669.89 47.825 Q1675.04 43.9361 1685.2 43.9361 L1695.66 43.9361 L1695.66 43.2069 Q1695.66 38.0623 1692.25 35.2672 Q1688.89 32.4315 1682.77 32.4315 Q1678.89 32.4315 1675.2 33.3632 Q1671.51 34.295 1668.11 36.1584 L1668.11 29.2718 Q1672.2 27.692 1676.05 26.9223 Q1679.9 26.1121 1683.54 26.1121 Q1693.39 26.1121 1698.25 31.2163 Q1703.11 36.3204 1703.11 46.6907 Z\" fill=\"#000000\" fill-rule=\"evenodd\" fill-opacity=\"1\" /><path clip-path=\"url(#clip970)\" d=\"M 0 0 M1718.3 14.324 L1718.3 27.2059 L1733.65 27.2059 L1733.65 32.9987 L1718.3 32.9987 L1718.3 57.6282 Q1718.3 63.1779 1719.8 64.7578 Q1721.34 66.3376 1726 66.3376 L1733.65 66.3376 L1733.65 72.576 L1726 72.576 Q1717.37 72.576 1714.09 69.3758 Q1710.81 66.1351 1710.81 57.6282 L1710.81 32.9987 L1705.34 32.9987 L1705.34 27.2059 L1710.81 27.2059 L1710.81 14.324 L1718.3 14.324 Z\" fill=\"#000000\" fill-rule=\"evenodd\" fill-opacity=\"1\" /><path clip-path=\"url(#clip970)\" d=\"M 0 0 M1741.47 27.2059 L1748.93 27.2059 L1748.93 72.576 L1741.47 72.576 L1741.47 27.2059 M1741.47 9.54393 L1748.93 9.54393 L1748.93 18.9825 L1741.47 18.9825 L1741.47 9.54393 Z\" fill=\"#000000\" fill-rule=\"evenodd\" fill-opacity=\"1\" /><path clip-path=\"url(#clip970)\" d=\"M 0 0 M1774.32 32.4315 Q1768.33 32.4315 1764.85 37.1306 Q1761.36 41.7891 1761.36 49.9314 Q1761.36 58.0738 1764.8 62.7728 Q1768.29 67.4314 1774.32 67.4314 Q1780.28 67.4314 1783.76 62.7323 Q1787.25 58.0333 1787.25 49.9314 Q1787.25 41.8701 1783.76 37.1711 Q1780.28 32.4315 1774.32 32.4315 M1774.32 26.1121 Q1784.05 26.1121 1789.6 32.4315 Q1795.15 38.7509 1795.15 49.9314 Q1795.15 61.0714 1789.6 67.4314 Q1784.05 73.7508 1774.32 73.7508 Q1764.56 73.7508 1759.01 67.4314 Q1753.5 61.0714 1753.5 49.9314 Q1753.5 38.7509 1759.01 32.4315 Q1764.56 26.1121 1774.32 26.1121 Z\" fill=\"#000000\" fill-rule=\"evenodd\" fill-opacity=\"1\" /><path clip-path=\"url(#clip970)\" d=\"M 0 0 M1840.68 45.1919 L1840.68 72.576 L1833.22 72.576 L1833.22 45.4349 Q1833.22 38.994 1830.71 35.7938 Q1828.2 32.5936 1823.18 32.5936 Q1817.14 32.5936 1813.66 36.4419 Q1810.18 40.2903 1810.18 46.9338 L1810.18 72.576 L1802.68 72.576 L1802.68 27.2059 L1810.18 27.2059 L1810.18 34.2544 Q1812.85 30.163 1816.45 28.1376 Q1820.1 26.1121 1824.84 26.1121 Q1832.66 26.1121 1836.67 30.9732 Q1840.68 35.7938 1840.68 45.1919 Z\" fill=\"#000000\" fill-rule=\"evenodd\" fill-opacity=\"1\" /><polyline clip-path=\"url(#clip973)\" style=\"stroke:#000000; stroke-width:8; stroke-opacity:1; fill:none\" points=\"\n",
       "  1295.87,147.599 2104.84,1360.55 \n",
       "  \"/>\n",
       "<circle clip-path=\"url(#clip973)\" cx=\"1295.87\" cy=\"147.599\" r=\"14\" fill=\"#000000\" fill-rule=\"evenodd\" fill-opacity=\"1\" stroke=\"none\"/>\n",
       "<circle clip-path=\"url(#clip973)\" cx=\"2104.84\" cy=\"1360.55\" r=\"14\" fill=\"#000000\" fill-rule=\"evenodd\" fill-opacity=\"1\" stroke=\"none\"/>\n",
       "<polyline clip-path=\"url(#clip973)\" style=\"stroke:#000000; stroke-width:8; stroke-opacity:1; fill:none\" stroke-dasharray=\"32, 20\" points=\"\n",
       "  1295.87,334.828 2104.84,1455.84 \n",
       "  \"/>\n",
       "<circle clip-path=\"url(#clip973)\" cx=\"1295.87\" cy=\"334.828\" r=\"14\" fill=\"#000000\" fill-rule=\"evenodd\" fill-opacity=\"1\" stroke=\"none\"/>\n",
       "<circle clip-path=\"url(#clip973)\" cx=\"2104.84\" cy=\"1455.84\" r=\"14\" fill=\"#000000\" fill-rule=\"evenodd\" fill-opacity=\"1\" stroke=\"none\"/>\n",
       "<path clip-path=\"url(#clip970)\" d=\"\n",
       "M1300.18 1448.86 L1623.93 1448.86 L1623.93 1267.42 L1300.18 1267.42  Z\n",
       "  \" fill=\"#ffffff\" fill-rule=\"evenodd\" fill-opacity=\"1\"/>\n",
       "<polyline clip-path=\"url(#clip970)\" style=\"stroke:#000000; stroke-width:4; stroke-opacity:1; fill:none\" points=\"\n",
       "  1300.18,1448.86 1623.93,1448.86 1623.93,1267.42 1300.18,1267.42 1300.18,1448.86 \n",
       "  \"/>\n",
       "<polyline clip-path=\"url(#clip970)\" style=\"stroke:#000000; stroke-width:4; stroke-opacity:1; fill:none\" points=\"\n",
       "  1309.71,1327.9 1366.88,1327.9 \n",
       "  \"/>\n",
       "<circle clip-path=\"url(#clip970)\" cx=\"1338.29\" cy=\"1327.9\" r=\"23\" fill=\"#000000\" fill-rule=\"evenodd\" fill-opacity=\"1\" stroke=\"none\"/>\n",
       "<path clip-path=\"url(#clip970)\" d=\"M 0 0 M1380.69 1341.29 L1380.69 1355.04 L1376.4 1355.04 L1376.4 1319.26 L1380.69 1319.26 L1380.69 1323.19 Q1382.03 1320.88 1384.07 1319.77 Q1386.13 1318.63 1388.97 1318.63 Q1393.7 1318.63 1396.64 1322.38 Q1399.6 1326.13 1399.6 1332.24 Q1399.6 1338.35 1396.64 1342.1 Q1393.7 1345.85 1388.97 1345.85 Q1386.13 1345.85 1384.07 1344.74 Q1382.03 1343.61 1380.69 1341.29 M1395.18 1332.24 Q1395.18 1327.54 1393.23 1324.88 Q1391.31 1322.2 1387.93 1322.2 Q1384.55 1322.2 1382.61 1324.88 Q1380.69 1327.54 1380.69 1332.24 Q1380.69 1336.94 1382.61 1339.63 Q1384.55 1342.29 1387.93 1342.29 Q1391.31 1342.29 1393.23 1339.63 Q1395.18 1336.94 1395.18 1332.24 Z\" fill=\"#000000\" fill-rule=\"evenodd\" fill-opacity=\"1\" /><path clip-path=\"url(#clip970)\" d=\"M 0 0 M1423.76 1353.05 L1423.76 1356.36 L1399.14 1356.36 L1399.14 1353.05 L1423.76 1353.05 Z\" fill=\"#000000\" fill-rule=\"evenodd\" fill-opacity=\"1\" /><path clip-path=\"url(#clip970)\" d=\"M 0 0 M1428.42 1310.62 L1433.09 1310.62 L1433.09 1324.79 L1450.08 1324.79 L1450.08 1310.62 L1454.76 1310.62 L1454.76 1345.18 L1450.08 1345.18 L1450.08 1328.73 L1433.09 1328.73 L1433.09 1345.18 L1428.42 1345.18 L1428.42 1310.62 Z\" fill=\"#000000\" fill-rule=\"evenodd\" fill-opacity=\"1\" /><path clip-path=\"url(#clip970)\" d=\"M 0 0 M1459.78 1323.66 L1489.46 1323.66 L1489.46 1327.54 L1459.78 1327.54 L1459.78 1323.66 M1459.78 1333.1 L1489.46 1333.1 L1489.46 1337.04 L1459.78 1337.04 L1459.78 1333.1 Z\" fill=\"#000000\" fill-rule=\"evenodd\" fill-opacity=\"1\" /><path clip-path=\"url(#clip970)\" d=\"M 0 0 M1504.53 1313.7 Q1500.92 1313.7 1499.09 1317.27 Q1497.28 1320.81 1497.28 1327.94 Q1497.28 1335.04 1499.09 1338.61 Q1500.92 1342.15 1504.53 1342.15 Q1508.16 1342.15 1509.97 1338.61 Q1511.8 1335.04 1511.8 1327.94 Q1511.8 1320.81 1509.97 1317.27 Q1508.16 1313.7 1504.53 1313.7 M1504.53 1310 Q1510.34 1310 1513.39 1314.6 Q1516.47 1319.19 1516.47 1327.94 Q1516.47 1336.66 1513.39 1341.27 Q1510.34 1345.85 1504.53 1345.85 Q1498.72 1345.85 1495.64 1341.27 Q1492.58 1336.66 1492.58 1327.94 Q1492.58 1319.19 1495.64 1314.6 Q1498.72 1310 1504.53 1310 Z\" fill=\"#000000\" fill-rule=\"evenodd\" fill-opacity=\"1\" /><path clip-path=\"url(#clip970)\" d=\"M 0 0 M1521.54 1339.3 L1526.43 1339.3 L1526.43 1345.18 L1521.54 1345.18 L1521.54 1339.3 Z\" fill=\"#000000\" fill-rule=\"evenodd\" fill-opacity=\"1\" /><path clip-path=\"url(#clip970)\" d=\"M 0 0 M1541.5 1313.7 Q1537.88 1313.7 1536.06 1317.27 Q1534.25 1320.81 1534.25 1327.94 Q1534.25 1335.04 1536.06 1338.61 Q1537.88 1342.15 1541.5 1342.15 Q1545.13 1342.15 1546.94 1338.61 Q1548.76 1335.04 1548.76 1327.94 Q1548.76 1320.81 1546.94 1317.27 Q1545.13 1313.7 1541.5 1313.7 M1541.5 1310 Q1547.31 1310 1550.36 1314.6 Q1553.44 1319.19 1553.44 1327.94 Q1553.44 1336.66 1550.36 1341.27 Q1547.31 1345.85 1541.5 1345.85 Q1535.69 1345.85 1532.61 1341.27 Q1529.55 1336.66 1529.55 1327.94 Q1529.55 1319.19 1532.61 1314.6 Q1535.69 1310 1541.5 1310 Z\" fill=\"#000000\" fill-rule=\"evenodd\" fill-opacity=\"1\" /><polyline clip-path=\"url(#clip970)\" style=\"stroke:#000000; stroke-width:4; stroke-opacity:1; fill:none\" stroke-dasharray=\"16, 10\" points=\"\n",
       "  1309.71,1388.38 1366.88,1388.38 \n",
       "  \"/>\n",
       "<circle clip-path=\"url(#clip970)\" cx=\"1338.29\" cy=\"1388.38\" r=\"23\" fill=\"#000000\" fill-rule=\"evenodd\" fill-opacity=\"1\" stroke=\"none\"/>\n",
       "<path clip-path=\"url(#clip970)\" d=\"M 0 0 M1380.69 1401.77 L1380.69 1415.52 L1376.4 1415.52 L1376.4 1379.74 L1380.69 1379.74 L1380.69 1383.67 Q1382.03 1381.36 1384.07 1380.25 Q1386.13 1379.11 1388.97 1379.11 Q1393.7 1379.11 1396.64 1382.86 Q1399.6 1386.61 1399.6 1392.72 Q1399.6 1398.83 1396.64 1402.58 Q1393.7 1406.33 1388.97 1406.33 Q1386.13 1406.33 1384.07 1405.22 Q1382.03 1404.09 1380.69 1401.77 M1395.18 1392.72 Q1395.18 1388.02 1393.23 1385.36 Q1391.31 1382.68 1387.93 1382.68 Q1384.55 1382.68 1382.61 1385.36 Q1380.69 1388.02 1380.69 1392.72 Q1380.69 1397.42 1382.61 1400.11 Q1384.55 1402.77 1387.93 1402.77 Q1391.31 1402.77 1393.23 1400.11 Q1395.18 1397.42 1395.18 1392.72 Z\" fill=\"#000000\" fill-rule=\"evenodd\" fill-opacity=\"1\" /><path clip-path=\"url(#clip970)\" d=\"M 0 0 M1423.76 1413.53 L1423.76 1416.84 L1399.14 1416.84 L1399.14 1413.53 L1423.76 1413.53 Z\" fill=\"#000000\" fill-rule=\"evenodd\" fill-opacity=\"1\" /><path clip-path=\"url(#clip970)\" d=\"M 0 0 M1428.42 1371.1 L1433.09 1371.1 L1433.09 1385.27 L1450.08 1385.27 L1450.08 1371.1 L1454.76 1371.1 L1454.76 1405.66 L1450.08 1405.66 L1450.08 1389.21 L1433.09 1389.21 L1433.09 1405.66 L1428.42 1405.66 L1428.42 1371.1 Z\" fill=\"#000000\" fill-rule=\"evenodd\" fill-opacity=\"1\" /><path clip-path=\"url(#clip970)\" d=\"M 0 0 M1459.78 1384.14 L1489.46 1384.14 L1489.46 1388.02 L1459.78 1388.02 L1459.78 1384.14 M1459.78 1393.58 L1489.46 1393.58 L1489.46 1397.52 L1459.78 1397.52 L1459.78 1393.58 Z\" fill=\"#000000\" fill-rule=\"evenodd\" fill-opacity=\"1\" /><path clip-path=\"url(#clip970)\" d=\"M 0 0 M1504.53 1374.18 Q1500.92 1374.18 1499.09 1377.75 Q1497.28 1381.29 1497.28 1388.42 Q1497.28 1395.52 1499.09 1399.09 Q1500.92 1402.63 1504.53 1402.63 Q1508.16 1402.63 1509.97 1399.09 Q1511.8 1395.52 1511.8 1388.42 Q1511.8 1381.29 1509.97 1377.75 Q1508.16 1374.18 1504.53 1374.18 M1504.53 1370.48 Q1510.34 1370.48 1513.39 1375.08 Q1516.47 1379.67 1516.47 1388.42 Q1516.47 1397.14 1513.39 1401.75 Q1510.34 1406.33 1504.53 1406.33 Q1498.72 1406.33 1495.64 1401.75 Q1492.58 1397.14 1492.58 1388.42 Q1492.58 1379.67 1495.64 1375.08 Q1498.72 1370.48 1504.53 1370.48 Z\" fill=\"#000000\" fill-rule=\"evenodd\" fill-opacity=\"1\" /><path clip-path=\"url(#clip970)\" d=\"M 0 0 M1521.54 1399.78 L1526.43 1399.78 L1526.43 1405.66 L1521.54 1405.66 L1521.54 1399.78 Z\" fill=\"#000000\" fill-rule=\"evenodd\" fill-opacity=\"1\" /><path clip-path=\"url(#clip970)\" d=\"M 0 0 M1541.5 1374.18 Q1537.88 1374.18 1536.06 1377.75 Q1534.25 1381.29 1534.25 1388.42 Q1534.25 1395.52 1536.06 1399.09 Q1537.88 1402.63 1541.5 1402.63 Q1545.13 1402.63 1546.94 1399.09 Q1548.76 1395.52 1548.76 1388.42 Q1548.76 1381.29 1546.94 1377.75 Q1545.13 1374.18 1541.5 1374.18 M1541.5 1370.48 Q1547.31 1370.48 1550.36 1375.08 Q1553.44 1379.67 1553.44 1388.42 Q1553.44 1397.14 1550.36 1401.75 Q1547.31 1406.33 1541.5 1406.33 Q1535.69 1406.33 1532.61 1401.75 Q1529.55 1397.14 1529.55 1388.42 Q1529.55 1379.67 1532.61 1375.08 Q1535.69 1370.48 1541.5 1370.48 Z\" fill=\"#000000\" fill-rule=\"evenodd\" fill-opacity=\"1\" /><path clip-path=\"url(#clip970)\" d=\"M 0 0 M1562.54 1401.73 L1578.86 1401.73 L1578.86 1405.66 L1556.91 1405.66 L1556.91 1401.73 Q1559.57 1398.97 1564.16 1394.34 Q1568.76 1389.69 1569.94 1388.35 Q1572.19 1385.83 1573.07 1384.09 Q1573.97 1382.33 1573.97 1380.64 Q1573.97 1377.89 1572.03 1376.15 Q1570.11 1374.41 1567 1374.41 Q1564.81 1374.41 1562.35 1375.18 Q1559.92 1375.94 1557.14 1377.49 L1557.14 1372.77 Q1559.97 1371.64 1562.42 1371.06 Q1564.88 1370.48 1566.91 1370.48 Q1572.28 1370.48 1575.48 1373.16 Q1578.67 1375.85 1578.67 1380.34 Q1578.67 1382.47 1577.86 1384.39 Q1577.07 1386.29 1574.97 1388.88 Q1574.39 1389.55 1571.29 1392.77 Q1568.19 1395.96 1562.54 1401.73 Z\" fill=\"#000000\" fill-rule=\"evenodd\" fill-opacity=\"1\" /><path clip-path=\"url(#clip970)\" d=\"M 0 0 M1583.97 1371.1 L1602.33 1371.1 L1602.33 1375.04 L1588.25 1375.04 L1588.25 1383.51 Q1589.27 1383.16 1590.29 1383 Q1591.31 1382.82 1592.33 1382.82 Q1598.12 1382.82 1601.5 1385.99 Q1604.88 1389.16 1604.88 1394.58 Q1604.88 1400.15 1601.4 1403.26 Q1597.93 1406.33 1591.61 1406.33 Q1589.44 1406.33 1587.17 1405.96 Q1584.92 1405.59 1582.51 1404.85 L1582.51 1400.15 Q1584.6 1401.29 1586.82 1401.84 Q1589.04 1402.4 1591.52 1402.4 Q1595.52 1402.4 1597.86 1400.29 Q1600.2 1398.19 1600.2 1394.58 Q1600.2 1390.96 1597.86 1388.86 Q1595.52 1386.75 1591.52 1386.75 Q1589.64 1386.75 1587.77 1387.17 Q1585.92 1387.58 1583.97 1388.46 L1583.97 1371.1 Z\" fill=\"#000000\" fill-rule=\"evenodd\" fill-opacity=\"1\" /><path clip-path=\"url(#clip970)\" d=\"\n",
       "M2295.24 1495.09 L3152.76 1495.09 L3152.76 108.352 L2295.24 108.352  Z\n",
       "  \" fill=\"#ffffff\" fill-rule=\"evenodd\" fill-opacity=\"1\"/>\n",
       "<defs>\n",
       "  <clipPath id=\"clip974\">\n",
       "    <rect x=\"2295\" y=\"108\" width=\"859\" height=\"1388\"/>\n",
       "  </clipPath>\n",
       "</defs>\n",
       "<polyline clip-path=\"url(#clip974)\" style=\"stroke:#000000; stroke-width:2; stroke-opacity:0.1; fill:none\" points=\"\n",
       "  2319.51,1495.09 2319.51,108.352 \n",
       "  \"/>\n",
       "<polyline clip-path=\"url(#clip974)\" style=\"stroke:#000000; stroke-width:2; stroke-opacity:0.1; fill:none\" points=\"\n",
       "  3128.49,1495.09 3128.49,108.352 \n",
       "  \"/>\n",
       "<polyline clip-path=\"url(#clip970)\" style=\"stroke:#000000; stroke-width:4; stroke-opacity:1; fill:none\" points=\"\n",
       "  2295.24,1495.09 3152.76,1495.09 \n",
       "  \"/>\n",
       "<polyline clip-path=\"url(#clip970)\" style=\"stroke:#000000; stroke-width:4; stroke-opacity:1; fill:none\" points=\"\n",
       "  2319.51,1495.09 2319.51,1478.45 \n",
       "  \"/>\n",
       "<polyline clip-path=\"url(#clip970)\" style=\"stroke:#000000; stroke-width:4; stroke-opacity:1; fill:none\" points=\"\n",
       "  3128.49,1495.09 3128.49,1478.45 \n",
       "  \"/>\n",
       "<path clip-path=\"url(#clip970)\" d=\"M 0 0 M2306.34 1527.6 L2311.01 1527.6 L2311.01 1541.77 L2328 1541.77 L2328 1527.6 L2332.68 1527.6 L2332.68 1562.16 L2328 1562.16 L2328 1545.7 L2311.01 1545.7 L2311.01 1562.16 L2306.34 1562.16 L2306.34 1527.6 Z\" fill=\"#000000\" fill-rule=\"evenodd\" fill-opacity=\"1\" /><path clip-path=\"url(#clip970)\" d=\"M 0 0 M3117.73 1527.6 L3122.41 1527.6 L3122.41 1558.22 L3139.24 1558.22 L3139.24 1562.16 L3117.73 1562.16 L3117.73 1527.6 Z\" fill=\"#000000\" fill-rule=\"evenodd\" fill-opacity=\"1\" /><polyline clip-path=\"url(#clip974)\" style=\"stroke:#000000; stroke-width:2; stroke-opacity:0.1; fill:none\" points=\"\n",
       "  2295.24,1455.84 3152.76,1455.84 \n",
       "  \"/>\n",
       "<polyline clip-path=\"url(#clip974)\" style=\"stroke:#000000; stroke-width:2; stroke-opacity:0.1; fill:none\" points=\"\n",
       "  2295.24,1019.76 3152.76,1019.76 \n",
       "  \"/>\n",
       "<polyline clip-path=\"url(#clip974)\" style=\"stroke:#000000; stroke-width:2; stroke-opacity:0.1; fill:none\" points=\"\n",
       "  2295.24,583.68 3152.76,583.68 \n",
       "  \"/>\n",
       "<polyline clip-path=\"url(#clip974)\" style=\"stroke:#000000; stroke-width:2; stroke-opacity:0.1; fill:none\" points=\"\n",
       "  2295.24,147.599 3152.76,147.599 \n",
       "  \"/>\n",
       "<polyline clip-path=\"url(#clip970)\" style=\"stroke:#000000; stroke-width:4; stroke-opacity:1; fill:none\" points=\"\n",
       "  2295.24,1495.09 2295.24,108.352 \n",
       "  \"/>\n",
       "<polyline clip-path=\"url(#clip970)\" style=\"stroke:#000000; stroke-width:4; stroke-opacity:1; fill:none\" points=\"\n",
       "  2295.24,1455.84 2305.53,1455.84 \n",
       "  \"/>\n",
       "<polyline clip-path=\"url(#clip970)\" style=\"stroke:#000000; stroke-width:4; stroke-opacity:1; fill:none\" points=\"\n",
       "  2295.24,1019.76 2305.53,1019.76 \n",
       "  \"/>\n",
       "<polyline clip-path=\"url(#clip970)\" style=\"stroke:#000000; stroke-width:4; stroke-opacity:1; fill:none\" points=\"\n",
       "  2295.24,583.68 2305.53,583.68 \n",
       "  \"/>\n",
       "<polyline clip-path=\"url(#clip970)\" style=\"stroke:#000000; stroke-width:4; stroke-opacity:1; fill:none\" points=\"\n",
       "  2295.24,147.599 2305.53,147.599 \n",
       "  \"/>\n",
       "<path clip-path=\"url(#clip970)\" d=\"M 0 0 M2235.29 1441.64 Q2231.68 1441.64 2229.85 1445.2 Q2228.05 1448.75 2228.05 1455.88 Q2228.05 1462.98 2229.85 1466.55 Q2231.68 1470.09 2235.29 1470.09 Q2238.93 1470.09 2240.73 1466.55 Q2242.56 1462.98 2242.56 1455.88 Q2242.56 1448.75 2240.73 1445.2 Q2238.93 1441.64 2235.29 1441.64 M2235.29 1437.94 Q2241.1 1437.94 2244.16 1442.54 Q2247.24 1447.13 2247.24 1455.88 Q2247.24 1464.6 2244.16 1469.21 Q2241.1 1473.79 2235.29 1473.79 Q2229.48 1473.79 2226.41 1469.21 Q2223.35 1464.6 2223.35 1455.88 Q2223.35 1447.13 2226.41 1442.54 Q2229.48 1437.94 2235.29 1437.94 Z\" fill=\"#000000\" fill-rule=\"evenodd\" fill-opacity=\"1\" /><path clip-path=\"url(#clip970)\" d=\"M 0 0 M2227.33 1033.11 L2234.97 1033.11 L2234.97 1006.74 L2226.66 1008.41 L2226.66 1004.15 L2234.92 1002.48 L2239.6 1002.48 L2239.6 1033.11 L2247.24 1033.11 L2247.24 1037.04 L2227.33 1037.04 L2227.33 1033.11 Z\" fill=\"#000000\" fill-rule=\"evenodd\" fill-opacity=\"1\" /><path clip-path=\"url(#clip970)\" d=\"M 0 0 M2230.92 597.025 L2247.24 597.025 L2247.24 600.96 L2225.29 600.96 L2225.29 597.025 Q2227.96 594.27 2232.54 589.64 Q2237.15 584.988 2238.33 583.645 Q2240.57 581.122 2241.45 579.386 Q2242.35 577.627 2242.35 575.937 Q2242.35 573.182 2240.41 571.446 Q2238.49 569.71 2235.39 569.71 Q2233.19 569.71 2230.73 570.474 Q2228.3 571.238 2225.53 572.789 L2225.53 568.066 Q2228.35 566.932 2230.8 566.353 Q2233.26 565.775 2235.29 565.775 Q2240.66 565.775 2243.86 568.46 Q2247.05 571.145 2247.05 575.636 Q2247.05 577.765 2246.24 579.687 Q2245.46 581.585 2243.35 584.177 Q2242.77 584.849 2239.67 588.066 Q2236.57 591.261 2230.92 597.025 Z\" fill=\"#000000\" fill-rule=\"evenodd\" fill-opacity=\"1\" /><path clip-path=\"url(#clip970)\" d=\"M 0 0 M2240.11 146.245 Q2243.47 146.963 2245.34 149.231 Q2247.24 151.5 2247.24 154.833 Q2247.24 159.949 2243.72 162.75 Q2240.2 165.551 2233.72 165.551 Q2231.54 165.551 2229.23 165.111 Q2226.94 164.694 2224.48 163.838 L2224.48 159.324 Q2226.43 160.458 2228.74 161.037 Q2231.06 161.615 2233.58 161.615 Q2237.98 161.615 2240.27 159.879 Q2242.59 158.143 2242.59 154.833 Q2242.59 151.778 2240.43 150.065 Q2238.3 148.329 2234.48 148.329 L2230.46 148.329 L2230.46 144.486 L2234.67 144.486 Q2238.12 144.486 2239.95 143.12 Q2241.78 141.731 2241.78 139.139 Q2241.78 136.477 2239.88 135.065 Q2238 133.63 2234.48 133.63 Q2232.56 133.63 2230.36 134.046 Q2228.16 134.463 2225.53 135.342 L2225.53 131.176 Q2228.19 130.435 2230.5 130.065 Q2232.84 129.694 2234.9 129.694 Q2240.22 129.694 2243.33 132.125 Q2246.43 134.532 2246.43 138.653 Q2246.43 141.523 2244.78 143.514 Q2243.14 145.481 2240.11 146.245 Z\" fill=\"#000000\" fill-rule=\"evenodd\" fill-opacity=\"1\" /><path clip-path=\"url(#clip970)\" d=\"M 0 0 M2532.07 18.8205 L2532.07 41.5461 L2542.35 41.5461 Q2548.07 41.5461 2551.19 38.5889 Q2554.3 35.6318 2554.3 30.163 Q2554.3 24.7348 2551.19 21.7777 Q2548.07 18.8205 2542.35 18.8205 L2532.07 18.8205 M2523.88 12.096 L2542.35 12.096 Q2552.52 12.096 2557.71 16.714 Q2562.93 21.2916 2562.93 30.163 Q2562.93 39.1155 2557.71 43.6931 Q2552.52 48.2706 2542.35 48.2706 L2532.07 48.2706 L2532.07 72.576 L2523.88 72.576 L2523.88 12.096 Z\" fill=\"#000000\" fill-rule=\"evenodd\" fill-opacity=\"1\" /><path clip-path=\"url(#clip970)\" d=\"M 0 0 M2585.38 32.4315 Q2579.38 32.4315 2575.9 37.1306 Q2572.41 41.7891 2572.41 49.9314 Q2572.41 58.0738 2575.86 62.7728 Q2579.34 67.4314 2585.38 67.4314 Q2591.33 67.4314 2594.81 62.7323 Q2598.3 58.0333 2598.3 49.9314 Q2598.3 41.8701 2594.81 37.1711 Q2591.33 32.4315 2585.38 32.4315 M2585.38 26.1121 Q2595.1 26.1121 2600.65 32.4315 Q2606.2 38.7509 2606.2 49.9314 Q2606.2 61.0714 2600.65 67.4314 Q2595.1 73.7508 2585.38 73.7508 Q2575.61 73.7508 2570.06 67.4314 Q2564.55 61.0714 2564.55 49.9314 Q2564.55 38.7509 2570.06 32.4315 Q2575.61 26.1121 2585.38 26.1121 Z\" fill=\"#000000\" fill-rule=\"evenodd\" fill-opacity=\"1\" /><path clip-path=\"url(#clip970)\" d=\"M 0 0 M2614.02 9.54393 L2621.47 9.54393 L2621.47 72.576 L2614.02 72.576 L2614.02 9.54393 Z\" fill=\"#000000\" fill-rule=\"evenodd\" fill-opacity=\"1\" /><path clip-path=\"url(#clip970)\" d=\"M 0 0 M2629.29 27.2059 L2636.74 27.2059 L2636.74 72.576 L2629.29 72.576 L2629.29 27.2059 M2629.29 9.54393 L2636.74 9.54393 L2636.74 18.9825 L2629.29 18.9825 L2629.29 9.54393 Z\" fill=\"#000000\" fill-rule=\"evenodd\" fill-opacity=\"1\" /><path clip-path=\"url(#clip970)\" d=\"M 0 0 M2677.21 28.9478 L2677.21 35.9153 Q2674.05 34.1734 2670.85 33.3227 Q2667.69 32.4315 2664.45 32.4315 Q2657.2 32.4315 2653.19 37.0496 Q2649.18 41.6271 2649.18 49.9314 Q2649.18 58.2358 2653.19 62.8538 Q2657.2 67.4314 2664.45 67.4314 Q2667.69 67.4314 2670.85 66.5807 Q2674.05 65.6895 2677.21 63.9476 L2677.21 70.8341 Q2674.09 72.2924 2670.73 73.0216 Q2667.41 73.7508 2663.64 73.7508 Q2653.39 73.7508 2647.35 67.3098 Q2641.32 60.8689 2641.32 49.9314 Q2641.32 38.832 2647.39 32.472 Q2653.51 26.1121 2664.12 26.1121 Q2667.57 26.1121 2670.85 26.8413 Q2674.13 27.5299 2677.21 28.9478 Z\" fill=\"#000000\" fill-rule=\"evenodd\" fill-opacity=\"1\" /><path clip-path=\"url(#clip970)\" d=\"M 0 0 M2703.9 76.7889 Q2700.75 84.8907 2697.75 87.3618 Q2694.75 89.8329 2689.73 89.8329 L2683.77 89.8329 L2683.77 83.5945 L2688.15 83.5945 Q2691.23 83.5945 2692.93 82.1361 Q2694.63 80.6778 2696.69 75.2496 L2698.03 71.8468 L2679.68 27.2059 L2687.58 27.2059 L2701.76 62.6918 L2715.94 27.2059 L2723.84 27.2059 L2703.9 76.7889 Z\" fill=\"#000000\" fill-rule=\"evenodd\" fill-opacity=\"1\" /><path clip-path=\"url(#clip970)\" d=\"M 0 0 M2787.03 44.2197 Q2789.66 45.1109 2792.13 48.0275 Q2794.65 50.9442 2797.16 56.0483 L2805.46 72.576 L2796.67 72.576 L2788.93 57.061 Q2785.94 50.9847 2783.1 48.9997 Q2780.3 47.0148 2775.44 47.0148 L2766.53 47.0148 L2766.53 72.576 L2758.35 72.576 L2758.35 12.096 L2776.82 12.096 Q2787.19 12.096 2792.3 16.4305 Q2797.4 20.7649 2797.4 29.5149 Q2797.4 35.2267 2794.73 38.994 Q2792.09 42.7613 2787.03 44.2197 M2766.53 18.8205 L2766.53 40.2903 L2776.82 40.2903 Q2782.74 40.2903 2785.73 37.5762 Q2788.77 34.8216 2788.77 29.5149 Q2788.77 24.2082 2785.73 21.5346 Q2782.74 18.8205 2776.82 18.8205 L2766.53 18.8205 Z\" fill=\"#000000\" fill-rule=\"evenodd\" fill-opacity=\"1\" /><path clip-path=\"url(#clip970)\" d=\"M 0 0 M2832.08 49.7694 Q2823.04 49.7694 2819.56 51.8354 Q2816.07 53.9013 2816.07 58.8839 Q2816.07 62.8538 2818.67 65.2034 Q2821.3 67.5124 2825.8 67.5124 Q2831.99 67.5124 2835.72 63.1374 Q2839.49 58.7219 2839.49 51.4303 L2839.49 49.7694 L2832.08 49.7694 M2846.94 46.6907 L2846.94 72.576 L2839.49 72.576 L2839.49 65.6895 Q2836.94 69.8214 2833.13 71.8063 Q2829.32 73.7508 2823.81 73.7508 Q2816.84 73.7508 2812.71 69.8619 Q2808.62 65.9325 2808.62 59.3701 Q2808.62 51.7138 2813.72 47.825 Q2818.87 43.9361 2829.04 43.9361 L2839.49 43.9361 L2839.49 43.2069 Q2839.49 38.0623 2836.09 35.2672 Q2832.72 32.4315 2826.61 32.4315 Q2822.72 32.4315 2819.03 33.3632 Q2815.35 34.295 2811.94 36.1584 L2811.94 29.2718 Q2816.03 27.692 2819.88 26.9223 Q2823.73 26.1121 2827.38 26.1121 Q2837.22 26.1121 2842.08 31.2163 Q2846.94 36.3204 2846.94 46.6907 Z\" fill=\"#000000\" fill-rule=\"evenodd\" fill-opacity=\"1\" /><path clip-path=\"url(#clip970)\" d=\"M 0 0 M2862.13 14.324 L2862.13 27.2059 L2877.49 27.2059 L2877.49 32.9987 L2862.13 32.9987 L2862.13 57.6282 Q2862.13 63.1779 2863.63 64.7578 Q2865.17 66.3376 2869.83 66.3376 L2877.49 66.3376 L2877.49 72.576 L2869.83 72.576 Q2861.2 72.576 2857.92 69.3758 Q2854.64 66.1351 2854.64 57.6282 L2854.64 32.9987 L2849.17 32.9987 L2849.17 27.2059 L2854.64 27.2059 L2854.64 14.324 L2862.13 14.324 Z\" fill=\"#000000\" fill-rule=\"evenodd\" fill-opacity=\"1\" /><path clip-path=\"url(#clip970)\" d=\"M 0 0 M2924.11 48.0275 L2924.11 51.6733 L2889.84 51.6733 Q2890.33 59.3701 2894.46 63.421 Q2898.63 67.4314 2906.04 67.4314 Q2910.34 67.4314 2914.35 66.3781 Q2918.4 65.3249 2922.37 63.2184 L2922.37 70.267 Q2918.36 71.9684 2914.15 72.8596 Q2909.93 73.7508 2905.6 73.7508 Q2894.74 73.7508 2888.38 67.4314 Q2882.06 61.1119 2882.06 50.3365 Q2882.06 39.1965 2888.06 32.6746 Q2894.09 26.1121 2904.3 26.1121 Q2913.46 26.1121 2918.76 32.0264 Q2924.11 37.9003 2924.11 48.0275 M2916.66 45.84 Q2916.58 39.7232 2913.22 36.0774 Q2909.89 32.4315 2904.38 32.4315 Q2898.15 32.4315 2894.38 35.9558 Q2890.65 39.4801 2890.08 45.8805 L2916.66 45.84 Z\" fill=\"#000000\" fill-rule=\"evenodd\" fill-opacity=\"1\" /><polyline clip-path=\"url(#clip974)\" style=\"stroke:#000000; stroke-width:8; stroke-opacity:1; fill:none\" points=\"\n",
       "  2319.51,147.599 3128.49,1455.84 \n",
       "  \"/>\n",
       "<circle clip-path=\"url(#clip974)\" cx=\"2319.51\" cy=\"147.599\" r=\"14\" fill=\"#000000\" fill-rule=\"evenodd\" fill-opacity=\"1\" stroke=\"none\"/>\n",
       "<circle clip-path=\"url(#clip974)\" cx=\"3128.49\" cy=\"1455.84\" r=\"14\" fill=\"#000000\" fill-rule=\"evenodd\" fill-opacity=\"1\" stroke=\"none\"/>\n",
       "<polyline clip-path=\"url(#clip974)\" style=\"stroke:#000000; stroke-width:8; stroke-opacity:1; fill:none\" stroke-dasharray=\"32, 20\" points=\"\n",
       "  2319.51,534.482 3128.49,1455.84 \n",
       "  \"/>\n",
       "<circle clip-path=\"url(#clip974)\" cx=\"2319.51\" cy=\"534.482\" r=\"14\" fill=\"#000000\" fill-rule=\"evenodd\" fill-opacity=\"1\" stroke=\"none\"/>\n",
       "<circle clip-path=\"url(#clip974)\" cx=\"3128.49\" cy=\"1455.84\" r=\"14\" fill=\"#000000\" fill-rule=\"evenodd\" fill-opacity=\"1\" stroke=\"none\"/>\n",
       "</svg>\n"
      ]
     },
     "execution_count": 7,
     "metadata": {},
     "output_type": "execute_result"
    }
   ],
   "source": [
    "x1 = [1 2; 1 2]\n",
    "x2 = x1\n",
    "x3 = x1\n",
    "y1 = [rvec0'*4; rvec1'*4]\n",
    "y2 = [yvec0'; yvec1']\n",
    "y3 = [pvec0'*4; pvec1'*4]\n",
    "cl = [:black :black]\n",
    "ls = [:solid :dash]\n",
    "\n",
    "plot(\n",
    "    plot(x2',y2',title=\"Output\",color=cl,linestyle=ls,legend=false), #,markershape=msh,markersize=msz),\n",
    "    plot(x3',y3',title=\"Inflation\",color=cl,linestyle=ls,legend=:bottomleft,label=[\"p_H=0.0\" \"p_H=0.025\"]), #,linewidth=lw,color=cl,markershape=msh,markersize=msz),\n",
    "    plot(x1',y1',title=\"Policy Rate\",color=cl,linestyle=ls,legend=false), #,markershape=msh,markersize=msz),\n",
    "    layout=(1,3),size=(800,400),linewidth=2,markershape=:circle,markersize=4,xticks=([1 2],[\"H\" \"L\"])\n",
    ")"
   ]
  },
  {
   "cell_type": "markdown",
   "metadata": {
    "slideshow": {
     "slide_type": "subslide"
    }
   },
   "source": [
    "- $p_{H}=0$の場合、状態$H$は吸収状態(absorbing state)：一度状態が$H$になった後は動かない\n",
    "\n",
    "- ここで、状態$H$では、政策金利（名目金利）はプラスになっており、産出ギャップ、インフレ率の値はゼロである"
   ]
  },
  {
   "cell_type": "markdown",
   "metadata": {
    "slideshow": {
     "slide_type": "fragment"
    }
   },
   "source": [
    "- $p_{H}>0$の場合、状態$H$で政策金利が下がり、インフレ率が状態$H$と状態$L$の両方で下がる\n",
    "\n",
    "- これは、ゼロ金利制約による不確実性の非中立性(non-neutrality of uncertainty)と呼ばれ、非線形モデルによってのみ分析が可能である\n",
    "    - 通常の線形モデルでは、確実性等価（certainty equivalence）が成り立つ"
   ]
  },
  {
   "cell_type": "markdown",
   "metadata": {
    "slideshow": {
     "slide_type": "slide"
    }
   },
   "source": [
    "# N状態モデル\n",
    "## 自己回帰確率過程の離散近似\n",
    "\n",
    "- 前節では、マルコフ連鎖の取り得る値$s$や遷移確率$p_{ij}$は既に与えられていた\n",
    "\n",
    "- Tauchen(1986)は、連続的(continuous)な値をとる、１階の自己回帰(first-order auto-regressive, AR(1))確率過程を、マルコフ連鎖で離散的(discrete)に近似する方法を考案した\n",
    "\n",
    "- 変数$x\\in\\mathbb{R}$が、以下のようなAR(1)過程に従うとする\n",
    "\n",
    "$$\n",
    "  x' = c + \\rho x + \\varepsilon', \\quad \\varepsilon' \\sim N(0,\\sigma_{\\varepsilon}^{2}) \n",
    "$$\n",
    "\n",
    "$c$は定数、$\\rho$は慣性についてのパラメータ、$\\varepsilon'$は平均$0$、分散$\\sigma_{\\varepsilon}^{2}$の正規分布に従う確率変数"
   ]
  },
  {
   "cell_type": "markdown",
   "metadata": {
    "slideshow": {
     "slide_type": "subslide"
    }
   },
   "source": [
    "- この確率過程を、$N$個の状態変数を持つマルコフ連鎖で近似する\n",
    "\n",
    "- そのために、まず、$x$のとる値についてグリッドを定める\n",
    "\n",
    "$$\n",
    "  x_{i} \\in \\mathcal{X} = \\{x_{1},x_{2},...,x_{N}\\}\n",
    "$$"
   ]
  },
  {
   "cell_type": "markdown",
   "metadata": {
    "slideshow": {
     "slide_type": "subslide"
    }
   },
   "source": [
    "- 例えば、以下のような等間隔のグリッドを考える\n",
    "\n",
    "\\begin{align*}\n",
    "  x_{1} &= \\frac{-m\\sigma_{\\varepsilon}}{\\sqrt{1-\\rho^{2}}} \\\\\n",
    "  x_{N} &= \\frac{m\\sigma_{\\varepsilon}}{\\sqrt{1-\\rho^{2}}} \\\\\n",
    "  x_{i} &= x_{i-1} + w \\text{ for }i=2,...,N-1\n",
    "\\end{align*}\n",
    "\n",
    "ここで、$w=\\frac{x_{N}-x_{1}}{N-1}$\n",
    "\n",
    "- 平均値ゼロから上下それぞれ標準偏差$\\frac{\\sigma_{\\varepsilon}}{\\sqrt{1-\\rho^{2}}}$の$m$倍の範囲に等間隔にグリッドを定める"
   ]
  },
  {
   "cell_type": "markdown",
   "metadata": {
    "slideshow": {
     "slide_type": "subslide"
    }
   },
   "source": [
    "- グリッドを定めたら、次にグリッドの集合に含まれる一つの点から別の点に移る確率を求める\n",
    "\n",
    "- ここで、$\\varepsilon'$は正規分布に従うので、\n",
    "\n",
    "$$\n",
    "  \\varepsilon' = x' - c - \\rho x \\sim N(0,\\sigma_{\\varepsilon}^{2})\n",
    "$$"
   ]
  },
  {
   "cell_type": "markdown",
   "metadata": {
    "slideshow": {
     "slide_type": "subslide"
    }
   },
   "source": [
    "- すると、$x_{i}$を所与として、$x'$が$x_{j}$の近傍にある確率は、以下のように近似できる\n",
    "\n",
    "\\begin{align*}\n",
    "  p_{i1} &= \\Phi\\left(x'+\\frac{w}{2}-c-\\rho x_{i}\\right), \\text{ for } x'=x_{1} \\\\\n",
    "  p_{ij} &= \\Phi\\left(x'+\\frac{w}{2}-c-\\rho x_{i}\\right) \\\\\n",
    "  &-\\Phi\\left(x'-\\frac{w}{2}-c-\\rho x_{i}\\right), \\text{ for } x'=x_{j}, j=2,3,...,N-1 \\\\\n",
    "  p_{iN} &= 1-\\Phi\\left(x'-\\frac{w}{2}-c-\\rho x_{i}\\right), \\text{ for } x'=x_{N}\n",
    "\\end{align*}\n",
    "\n",
    "ここで、$\\Phi(\\cdot)$は正規分布$N(0,\\sigma_{\\varepsilon}^{2})$の累積分布関数である\n",
    "\n",
    "$x'$がグリッドの端にある場合に注意"
   ]
  },
  {
   "cell_type": "markdown",
   "metadata": {
    "slideshow": {
     "slide_type": "subslide"
    }
   },
   "source": [
    "- 全ての$i,j=1,...,N$について確率$p_{ij}$を計算すると、以下の遷移行列が求まる\n",
    "\n",
    "$$\n",
    "  P = \\left[\\begin{array}{cccc}\n",
    "  p_{11} & \\cdots & \\cdots & p_{1N} \\\\\n",
    "  \\vdots & \\ddots &        & \\vdots \\\\\n",
    "  \\vdots &        & \\ddots & \\vdots \\\\\n",
    "  p_{N1} & \\cdots & \\cdots & p_{NN}\n",
    "  \\end{array}\\right]\n",
    "$$"
   ]
  },
  {
   "cell_type": "code",
   "execution_count": 13,
   "metadata": {
    "slideshow": {
     "slide_type": "subslide"
    }
   },
   "outputs": [
    {
     "data": {
      "text/plain": [
       "cdf_normal (generic function with 1 method)"
      ]
     },
     "execution_count": 13,
     "metadata": {},
     "output_type": "execute_result"
    }
   ],
   "source": [
    "using SpecialFunctions\n",
    "# 正規分布の累積分布関数\n",
    "function cdf_normal(x)\n",
    "\n",
    "    c = 0.5*erfc(-x/sqrt(2))\n",
    "    return c\n",
    "\n",
    "end"
   ]
  },
  {
   "cell_type": "code",
   "execution_count": 15,
   "metadata": {
    "slideshow": {
     "slide_type": "fragment"
    }
   },
   "outputs": [
    {
     "data": {
      "text/plain": [
       "tauchen (generic function with 1 method)"
      ]
     },
     "execution_count": 15,
     "metadata": {},
     "output_type": "execute_result"
    }
   ],
   "source": [
    "function tauchen(N,μ,ρ,σ,m)\n",
    "    \n",
    "    Z = zeros(N) # グリッド\n",
    "    Zprob = zeros(N,N) # 遷移確率の行列\n",
    "    c = (1.0-ρ)*μ # 定数項\n",
    "    \n",
    "    # 等間隔のグリッドを定める\n",
    "    # 最大値と最小値\n",
    "    zmax = m*sqrt(σ^2/(1.0-ρ^2))\n",
    "    zmin = -zmax\n",
    "    # グリッド間の間隔\n",
    "    w = (zmax-zmin)/(N-1)\n",
    "    \n",
    "    Z = collect(LinRange(zmin,zmax,N))\n",
    "    # 定常状態はmu\n",
    "    Z = Z .+ μ\n",
    "\n",
    "    # グリッドを所与として、遷移確率を求める\n",
    "    for j in 1:N\n",
    "        for k in 1:N\n",
    "            if (k==1)\n",
    "                Zprob[j,k] = cdf_normal((Z[1]-c-ρ*Z[j]+w/2.0)/σ)\n",
    "            elseif (k==N)\n",
    "                Zprob[j,k] = 1.0 - cdf_normal((Z[N]-c-ρ*Z[j]-w/2.0)/σ)\n",
    "            else\n",
    "                Zprob[j,k] = cdf_normal((Z[k]-c-ρ*Z[j]+w/2.0)/σ) - cdf_normal((Z[k]-c-ρ*Z[j]-w/2.0)/σ)\n",
    "            end\n",
    "        end\n",
    "    end\n",
    "    \n",
    "    return Z,Zprob\n",
    "    \n",
    "end"
   ]
  },
  {
   "cell_type": "code",
   "execution_count": 17,
   "metadata": {},
   "outputs": [
    {
     "name": "stdout",
     "output_type": "stream",
     "text": [
      "[0.5987063256829237 0.3983139110820215 0.0029796871854493867 7.604960061691202e-8 4.551914400963142e-15; 0.04005915686381709 0.7333134907593148 0.22605032733447739 0.000577020580218357 4.462172409347431e-9; 8.841728520080383e-5 0.10556135638165451 0.7887004526662895 0.10556135638165454 8.841728520081471e-5; 4.4621724539016125e-9 0.0005770205802183133 0.2260503273344774 0.7333134907593148 0.040059156863817114; 4.5946274357785126e-15 7.604960057025982e-8 0.0029796871854493897 0.3983139110820216 0.5987063256829237]\n"
     ]
    }
   ],
   "source": [
    "Z,Zprob = tauchen(5,0,0.8,0.01,3)\n",
    "println(Zprob)"
   ]
  },
  {
   "cell_type": "markdown",
   "metadata": {
    "slideshow": {
     "slide_type": "subslide"
    }
   },
   "source": [
    "- $p_{ij}$の計算についてのグラフ\n",
    "\n",
    "- $x'=\\rho x_{i}$のとき、$\\varepsilon' = x' - \\rho x = 0$になり、確率密度関数$\\phi(\\varepsilon')=\\phi(x' - \\rho x_{i})=\\phi(0)$は最大値をとる\n",
    "\n",
    "- ここで、$x' = x_{j}$のときの確率密度関数$\\phi(x_{j} - \\rho x_{i})$は、$\\Phi\\left(x'+\\frac{w}{2}-c-\\rho x_{i}\\right)-\\Phi\\left(x'-\\frac{w}{2}-c-\\rho x_{i}\\right)$で近似できる"
   ]
  },
  {
   "cell_type": "markdown",
   "metadata": {
    "slideshow": {
     "slide_type": "slide"
    }
   },
   "source": [
    "## 準線形モデルにおける最適金融政策\n",
    "\n",
    "- 時間反復法を使った実際の応用例として、準線形モデルを用いて、ゼロ金利制約下での最適金融政策を考えたAdam and Billi(2006; 2007)を紹介する\n",
    "\n",
    "- ニューケインジアン・モデルにおいては、価格の硬直性により相対価格に歪みがあるため、一般には、社会計画者問題における最適配分を実現できない\n",
    "\n",
    "- 最適金融政策とは、社会計画者問題における配分にできるだけ近い配分を達成するような金融政策のことである\n",
    "  - 代表的家計の価値関数を2次関数で近似した目的関数を社会厚生とみなして、線形近似した均衡条件を制約として最大化するような配分を求める"
   ]
  },
  {
   "cell_type": "markdown",
   "metadata": {
    "slideshow": {
     "slide_type": "subslide"
    }
   },
   "source": [
    "- 動学最適化問題において、政策決定者が現在だけでなく将来の変数についても操作し、将来の経路にコミットできるとき、これを最適コミットメント政策という\n",
    "\n",
    "- そのようなコミットができない場合は、政策決定者は毎期ごとの社会厚生を最大化するように変数を選ぶことになり、これを最適裁量政策という"
   ]
  },
  {
   "cell_type": "markdown",
   "metadata": {
    "slideshow": {
     "slide_type": "subslide"
    }
   },
   "source": [
    "- 政策決定者は、以下の社会厚生を最大化するように$\\{y_{t},\\pi_{t},r_{n,t}\\}_{t=0}^{\\infty}$の流列を求める\n",
    "\n",
    "$$\n",
    "  \\max_{\\{y_{t},\\pi_{t},r_{n,t}\\}_{t=0}^{\\infty}} -\\mathbb{E}_{0}\\sum_{t=0}^{\\infty}\\beta^{t}\\left(\\pi_{t}^{2} + \\lambda y_{t}^{2}\\right)\n",
    "$$\n",
    "\n",
    "subject to\n",
    "\n",
    "\\begin{align*}\n",
    "  y_{t} &= \\mathbb{E}_{t}y_{t+1} - \\left(r_{n,t}-\\mathbb{E}_{t}\\pi_{t+1}\\right) + g_{t} \\\\\n",
    "  \\pi_{t} &= \\kappa y_{t} + \\beta \\mathbb{E}_{t}\\pi_{t+1} +u_{t} \\\\\n",
    "  r_{n,t} &\\geq 0\n",
    "\\end{align*}"
   ]
  },
  {
   "cell_type": "markdown",
   "metadata": {
    "slideshow": {
     "slide_type": "fragment"
    }
   },
   "source": [
    "- 社会厚生は、現在から無限先の将来にわたっての、産出ギャップとインフレ率の2乗の加重和の割引現在価値で与えられる\n",
    "\n",
    "- 政策決定者は、名目金利だけでなくその他の変数も直接選ぶことに注意"
   ]
  },
  {
   "cell_type": "markdown",
   "metadata": {
    "slideshow": {
     "slide_type": "subslide"
    }
   },
   "source": [
    "- $(g_{t},u_{t})$は外生的なショックであり、それぞれ以下のAR(1)過程に従う\n",
    "\n",
    "\\begin{align*}\n",
    "  g_{t+1} = (1-\\rho_{g})g + \\rho_{g}g_{t} + \\varepsilon_{g,t+1}, &\\quad \\varepsilon_{g,t+1} \\sim N(0,\\sigma_{g}^{2}) \\\\ \n",
    "  u_{t+1} = \\rho_{u}u_{t} + \\varepsilon_{u,t+1}, &\\quad \\varepsilon_{u,t+1} \\sim N(0,\\sigma_{u}^{2})\n",
    "\\end{align*}\n",
    "\n",
    "$g_{t}$は需要面に対するショック（財政支出など）、$u_{t}$は供給面に対するショック（価格マークアップなど）と考えることができる\n",
    "\n",
    "- またこの場合、$g_{t}$は定常状態で自然利子率の定常値に一致する($g=r^{*}$)"
   ]
  },
  {
   "cell_type": "markdown",
   "metadata": {
    "slideshow": {
     "slide_type": "subslide"
    }
   },
   "source": [
    "- 政策決定者の動学最適化問題は、動的ラグランジュアンとその1階の必要条件を用いて解くことができる\n",
    "\n",
    "\\begin{align*}\n",
    "  \\mathcal{L}_{0} \\equiv & \\mathbb{E}_{0}\\sum_{t=0}^{\\infty}\\{\\beta^{t}\\left(\\pi_{t}^{2} + \\lambda y_{t}^{2}\\right) \\\\\n",
    "  & + 2\\phi_{PC,t}\\left(-\\pi_{t} + \\kappa y_{t} + \\beta \\mathbb{E}_{t}\\pi_{t+1} +u_{t}\\right) \\\\\n",
    "  & + 2\\phi_{EE,t}\\left(-y_{t} + \\mathbb{E}_{t}y_{t+1} - \\left(r_{n,t}-\\mathbb{E}_{t}\\pi_{t+1}\\right) + g_{t}\\right) \\\\\n",
    "  & + 2\\phi_{ZLB,t}r_{n,t}\\}\n",
    "\\end{align*}\n",
    "\n",
    "ここで、$\\{\\phi_{PC,t},\\phi_{EE,t},\\phi_{ZLB,t}\\}_{t=0}^{\\infty}$はそれぞれの均衡条件にかかるラグランジュ乗数である"
   ]
  },
  {
   "cell_type": "markdown",
   "metadata": {
    "slideshow": {
     "slide_type": "subslide"
    }
   },
   "source": [
    "### 最適裁量政策\n",
    "\n",
    "- 最適裁量政策では、政策決定者は将来の変数にコミットできず、毎期ごとにその時点の変数を社会厚生を最大化するように選ぶ\n",
    "\n",
    "- この場合、$(\\mathbb{E}_{t}y_{t+1},\\mathbb{E}_{t}\\pi_{t+1})$を所与とした動的ラグランジュアンの1階条件から、解となる政策関数を求めることができる。すなわち、\n",
    "\n",
    "\\begin{align*}\n",
    "  \\pi_{t}: & \\pi_{t} - \\phi_{PC,t} = 0 \\\\ \n",
    "  y_{t}: & \\lambda y_{t} + \\kappa \\phi_{PC,t} - \\phi_{EE,t} = 0 \\\\ \n",
    "  r_{n,t}: & -\\phi_{EE,t} + \\phi_{ZLB,t} = 0 \n",
    "\\end{align*}\n"
   ]
  },
  {
   "cell_type": "markdown",
   "metadata": {
    "slideshow": {
     "slide_type": "subslide"
    }
   },
   "source": [
    "- ここで、$\\phi_{ZLB,t}$はゼロ金利制約にかかるラグランジュ乗数であり、ゼロ金利制約がバインドしない限りはゼロになる\n",
    "\n",
    "- このことは以下の相補スラック条件にまとめられる\n",
    "\n",
    "$$\n",
    "  \\phi_{ZLB,t} r_{n,t} = 0, \\quad \\phi_{ZLB,t} \\geq 0, \\quad r_{n,t} \\geq 0\n",
    "$$\n",
    "\n",
    "- すなわち、$\\phi_{ZLB,t} > 0$あるいは$r_{n,t} > 0$のいずれかが成り立ち、均衡条件は$r_{n,t}$の値によって場合分けされる"
   ]
  },
  {
   "cell_type": "markdown",
   "metadata": {
    "slideshow": {
     "slide_type": "subslide"
    }
   },
   "source": [
    "- 相補スラック条件より、もし$r_{n,t} > 0$であれば、$\\phi_{ZLB,t} = 0$である。このとき均衡条件は、\n",
    "\n",
    "\\begin{align*}\n",
    "  r_{n,t} &= -y_{t} + \\mathbb{E}_{t}y_{t+1} + \\mathbb{E}_{t}\\pi_{t+1} + g_{t} \\\\\n",
    "  \\pi_{t} &= \\kappa y_{t} + \\beta \\mathbb{E}_{t}\\pi_{t+1} +u_{t} = 0 \\\\\n",
    "  0 &= \\lambda y_{t} + \\kappa \\pi_{t}\n",
    "\\end{align*}"
   ]
  },
  {
   "cell_type": "markdown",
   "metadata": {
    "slideshow": {
     "slide_type": "fragment"
    }
   },
   "source": [
    "- あるいは、もし$r_{n,t}=0$であれば、$\\phi_{ZLB,t} = \\phi_{EE,t} > 0$である。このとき均衡条件は、\n",
    "\n",
    "\\begin{align*}\n",
    "  0 &= -y_{t} + \\mathbb{E}_{t}y_{t+1} + \\mathbb{E}_{t}\\pi_{t+1} + g_{t} \\\\\n",
    "  \\pi_{t} &= \\kappa y_{t} + \\beta \\mathbb{E}_{t}\\pi_{t+1} +u_{t} = 0 \\\\\n",
    "  \\phi_{EE,t} &= \\lambda y_{t} + \\kappa \\pi_{t}\n",
    "\\end{align*}"
   ]
  },
  {
   "cell_type": "markdown",
   "metadata": {
    "slideshow": {
     "slide_type": "fragment"
    }
   },
   "source": [
    "- モデルの解は以下のような関数となる\n",
    "\n",
    "$$\n",
    "  y = \\varsigma_{y}(s), \\quad \\pi = \\varsigma_{\\pi}(s), \\quad R = \\varsigma_{R}(s) \n",
    "$$"
   ]
  },
  {
   "cell_type": "markdown",
   "metadata": {
    "slideshow": {
     "slide_type": "subslide"
    }
   },
   "source": [
    "### 最適コミットメント政策\n",
    "\n",
    "- 最適コミットメント政策では、政策決定者は、時点0で現在から将来にわたる変数について社会厚生を最大化するように選ぶ\n",
    "\n",
    "- このとき、動的ラグランジュアンの1階の必要条件は\n",
    "\n",
    "\\begin{align*}\n",
    "  \\pi_{t}: & \\pi_{t} - \\phi_{PC,t} + \\phi_{PC,t-1} + \\beta^{-1}\\phi_{EE,t-1} = 0 \\\\ \n",
    "  y_{t}: & \\lambda y_{t} + \\kappa \\phi_{PC,t} - \\phi_{EE,t} + \\beta^{-1}\\phi_{EE,t-1} = 0 \\\\ \n",
    "  r_{n,t}: & -\\phi_{EE,t} + \\phi_{ZLB,t} = 0 \n",
    "\\end{align*}\n",
    "\n",
    "となる"
   ]
  },
  {
   "cell_type": "markdown",
   "metadata": {
    "slideshow": {
     "slide_type": "subslide"
    }
   },
   "source": [
    "- ここで、$(\\phi_{EE,t-1},\\phi_{PC,t-1})$は内生状態変数である\n",
    "\n",
    "- モデルの解は以下のような関数となる：政策関数は、外生的なショックのほかに内生状態変数にも依存する\n",
    "\n",
    "$$\n",
    "  y = \\varsigma_{y}(\\phi_{EE,-1},\\phi_{PC,-1},s), \\quad \\pi = \\varsigma_{\\pi}(\\phi_{EE,-1},\\phi_{PC,-1},s), \\quad R = \\varsigma_{R}(\\phi_{EE,-1},\\phi_{PC,-1},s) \\\\\n",
    "  \\phi_{EE} = \\varsigma_{y}(\\phi_{EE,-1},\\phi_{PC,-1},s), \\quad \\phi_{PC} = \\varsigma_{\\pi}(\\phi_{EE,-1},\\phi_{PC,-1},s)\n",
    "$$"
   ]
  },
  {
   "cell_type": "markdown",
   "metadata": {
    "slideshow": {
     "slide_type": "subslide"
    }
   },
   "source": [
    "## 時間反復法による最適裁量政策の数値計算\n",
    "\n",
    "- ここでは、時間反復法を用いてAdam and Billi(2007)の結果を再現してみよう\n",
    "\n",
    "- 最適裁量政策においては、2状態モデルと同じように、モデルの状態変数が外生的なショック以外に存在しないため、外生変数をグリッドとしてそれぞれのグリッドの点で均衡条件を解けばよい"
   ]
  },
  {
   "cell_type": "markdown",
   "metadata": {
    "slideshow": {
     "slide_type": "subslide"
    }
   },
   "source": [
    "- まず、外生的なショックの確率過程をTauchen(1986)の方法を用いてマルコフ連鎖で近似する\n",
    "\n",
    "- 各変数のグリッドは以下で与えられる\n",
    "\n",
    "\\begin{align*}\n",
    "  g \\in \\{g_{1},g_{2},...,g_{N_{g}}\\} \\\\\n",
    "  u \\in \\{u_{1},u_{2},...,u_{N_{u}}\\}\n",
    "\\end{align*}\n",
    "\n"
   ]
  },
  {
   "cell_type": "markdown",
   "metadata": {
    "slideshow": {
     "slide_type": "fragment"
    }
   },
   "source": [
    "- また、遷移確率は、それぞれ、\n",
    "\n",
    "$$\n",
    "  P^{g} = \\left[\\begin{array}{cccc}\n",
    "  p_{11}^{g} & \\cdots & \\cdots & p_{1N}^{g} \\\\\n",
    "  \\vdots & \\ddots &        & \\vdots \\\\\n",
    "  \\vdots &        & \\ddots & \\vdots \\\\\n",
    "  p_{N1}^{g} & \\cdots & \\cdots & p_{NN}^{g}\n",
    "  \\end{array}\\right]\n",
    "  , \\quad\n",
    "  P^{u} = \\left[\\begin{array}{cccc}\n",
    "  p_{11}^{u} & \\cdots & \\cdots & p_{1N}^{u} \\\\\n",
    "  \\vdots & \\ddots &        & \\vdots \\\\\n",
    "  \\vdots &        & \\ddots & \\vdots \\\\\n",
    "  p_{N1}^{u} & \\cdots & \\cdots & p_{NN}^{u}\n",
    "  \\end{array}\\right]\n",
    "$$"
   ]
  },
  {
   "cell_type": "markdown",
   "metadata": {
    "slideshow": {
     "slide_type": "subslide"
    }
   },
   "source": [
    "- これらの2つのマルコフ連鎖を結合して1つのマルコフ連鎖として考えるために、2次元のグリッドの座標$(g,u)$を1次元のベクトル$s$に集約する"
   ]
  },
  {
   "cell_type": "markdown",
   "metadata": {
    "slideshow": {
     "slide_type": "fragment"
    }
   },
   "source": [
    "- 例えば、$N_{g}=N_{u}=2$の場合、$g$と$u$の組み合わせは以下の$N_{g} \\times N_{u}=4$個のベクトルで与えられる\n",
    "\n",
    "\\begin{align*}\n",
    "  s_{1} &= (g_{1},u_{1}) \\\\ \n",
    "  s_{2} &= (g_{1},u_{2}) \\\\ \n",
    "  s_{3} &= (g_{2},u_{1}) \\\\ \n",
    "  s_{4} &= (g_{2},u_{2})\n",
    "\\end{align*}\n",
    "\n",
    "- ここで、ベクトル$s$のインデックス$i \\in \\{1,2,3,4\\}$は、それぞれのショックのインデックスの組に対応しており、\n",
    "\n",
    "$$\n",
    "  s_{i} = (g_{k(i)},u_{l(i)})\n",
    "$$\n",
    "\n",
    "のように書ける"
   ]
  },
  {
   "cell_type": "markdown",
   "metadata": {
    "slideshow": {
     "slide_type": "subslide"
    }
   },
   "source": [
    "- また、それぞれの遷移行列のクロネッカー積、$P=P^{g} \\otimes P^{u}$が、結合されたマルコフ連鎖の遷移行列となる\n",
    "\n",
    "- 例えば、$N_{g}=N_{u}=2$の場合、\n",
    "\n",
    "$$\n",
    "  P = \\left[\\begin{array}{cccc}\n",
    "  p_{11}^{g}p_{11}^{u} & p_{11}^{g}p_{11}^{u} & p_{12}^{g}p_{11}^{u} & p_{12}^{g}p_{12}^{u} \\\\\n",
    "  p_{11}^{g}p_{21}^{u} & p_{11}^{g}p_{22}^{u} & p_{12}^{g}p_{21}^{u} & p_{12}^{g}p_{22}^{u} \\\\\n",
    "  p_{21}^{g}p_{11}^{u} & p_{21}^{g}p_{11}^{u} & p_{22}^{g}p_{11}^{u} & p_{22}^{g}p_{12}^{u} \\\\\n",
    "  p_{21}^{g}p_{21}^{u} & p_{21}^{g}p_{22}^{u} & p_{22}^{g}p_{21}^{u} & p_{22}^{g}p_{22}^{u} \\\\\n",
    "  \\end{array}\\right]\n",
    "$$"
   ]
  },
  {
   "cell_type": "markdown",
   "metadata": {
    "slideshow": {
     "slide_type": "subslide"
    }
   },
   "source": [
    "- 数値計算のアルゴリズムは以前の2状態モデルとほぼ同じである"
   ]
  },
  {
   "cell_type": "markdown",
   "metadata": {
    "slideshow": {
     "slide_type": "fragment"
    }
   },
   "source": [
    "- アルゴリズム（再掲）\n",
    "\n",
    "\n",
    "1. グリッド生成：状態空間の評価点を有限個のグリッドに区切る。この場合、$(s_{1},...,s_{N_{g}N_{u}})$はすでに与えられている\n",
    "\n",
    "2. 収束の基準：収束の基準になるパラメータ$\\varepsilon$を与える"
   ]
  },
  {
   "cell_type": "markdown",
   "metadata": {
    "slideshow": {
     "slide_type": "subslide"
    }
   },
   "source": [
    "3. 最適化：古い政策関数$y = \\varsigma_{y}^{(n-1)}(s),\\pi = \\varsigma_{\\pi}^{(n-1)}(s)$およびグリッドにおける$s_{i}$の値を所与として、以下の3本の式を$(y_{i},\\pi_{i},r_{n,i})$について解く\n",
    "\n",
    "\\begin{align*}\n",
    "  r_{n,i} &= -y_{i} + y_{i}^{e} + \\pi_{i}^{e} + g_{k(i)} \\\\\n",
    "  \\pi_{i} &= \\kappa y_{i} + \\beta \\pi_{i}^{e} + u_{l(i)} \\\\\n",
    "  0 &= \\lambda y_{i} + \\kappa \\pi_{i}\n",
    "\\end{align*}\n",
    "\n",
    "ここで、\n",
    "\n",
    "\\begin{align*}\n",
    "  y_{i}^{e} &= \\sum_{j=1}^{N}p_{ij}\\varsigma_{y}^{(n-1)}(s_{j}) \\\\\n",
    "  \\pi_{i}^{e} &= \\sum_{j=1}^{N}p_{ij}\\varsigma_{\\pi}^{(n-1)}(s_{j})\n",
    "\\end{align*}\n",
    "\n",
    "であり、期待値は古い政策関数から求められる"
   ]
  },
  {
   "cell_type": "markdown",
   "metadata": {
    "slideshow": {
     "slide_type": "subslide"
    }
   },
   "source": [
    "$r_{n,i} > 0$が満たされているかをチェックし、そうでなければ、$r_{n,i}=0$として、以下の2本の式を$(y_{i},\\pi_{i})$について解く\n",
    "\n",
    "\\begin{align*}\n",
    "  0 &= -y_{i} + y_{i}^{e} + \\pi_{i}^{e} + g_{k(i)} \\\\\n",
    "  \\pi_{i} &= \\kappa y_{i} + \\beta \\pi_{i}^{e} + u_{l(i)} \\\\\n",
    "\\end{align*}\n",
    "\n",
    "このステップで、それぞれのグリッド上の政策関数の値、すなわち新しい政策関数\n",
    "\n",
    "\\begin{align*}\n",
    "\\varsigma^{(n)}(s_{i}) &= (\\varsigma_{y}^{(n)}(s_{i}),\\varsigma_{\\pi}^{(n)}(s_{i}),\\varsigma_{r_{n}}^{(n)}(s_{i}))\n",
    "\\end{align*}\n",
    "\n",
    "を得る\n",
    "\n",
    "4. 全ての$s_{i}$について$\\|\\varsigma^{(n)}(s_{i})-\\varsigma^{(n-1)}(s_{i})\\|<\\varepsilon$であればストップ。そうでなければ、$\\varsigma^{(n)}(s_{i})$を$\\varsigma^{(n-1)}(s_{i})$に代入して、ステップ3-4を繰り返す"
   ]
  },
  {
   "cell_type": "code",
   "execution_count": 22,
   "metadata": {
    "slideshow": {
     "slide_type": "subslide"
    }
   },
   "outputs": [],
   "source": [
    "struct Model_disc1{TI<:Integer, TF<:AbstractFloat}\n",
    "    β::TF       # 割引率\n",
    "    σ::TF       # IES\n",
    "    κ::TF       # フィリップス曲線の傾き\n",
    "    λ::TF       # \n",
    "    rstar::TF   # pH=0のときの、定常状態での名目金利の値\n",
    "    Ng::TI\n",
    "    ρg::TF\n",
    "    σg::TF\n",
    "    Nu::TI\n",
    "    ρu::TF\n",
    "    σu::TF\n",
    "    maxiter::TI # 繰り返し回数の最大値\n",
    "    tol::TF     # 許容誤差\n",
    "end"
   ]
  },
  {
   "cell_type": "code",
   "execution_count": 37,
   "metadata": {
    "slideshow": {
     "slide_type": "subslide"
    }
   },
   "outputs": [
    {
     "data": {
      "text/plain": [
       "ti (generic function with 1 method)"
      ]
     },
     "execution_count": 37,
     "metadata": {},
     "output_type": "execute_result"
    }
   ],
   "source": [
    "# time iterationを行う関数\n",
    "function ti(m)\n",
    "\n",
    "    β = m.β\n",
    "    σ = m.σ\n",
    "    κ = m.κ\n",
    "    λ = m.λ\n",
    "    rstar = m.rstar\n",
    "    Ng = m.Ng\n",
    "    ρg = m.ρg\n",
    "    σg = m.σg\n",
    "    Nu = m.Nu\n",
    "    ρu = m.ρu\n",
    "    σu = m.σu\n",
    "\n",
    "#     % disp('')\n",
    "#     % disp('-+- Solve a two-state model with time iteration -+-');\n",
    "\n",
    "    ## STEP 1(a): グリッド生成\n",
    "    Gg,Pg = tauchen(Ng,σ*rstar,ρg,σg,3.0)\n",
    "    Gu,Pu = tauchen(Nu,0,ρu,σu,3.0)\n",
    "\n",
    "    Ns = Ng*Nu\n",
    "    Gs = zeros(Ns,2)\n",
    "\n",
    "    for ig in 1:Ng\n",
    "\n",
    "        for iu in 1:Nu\n",
    "\n",
    "            Gs[Nu*(ig-1)+iu,1] = Gg[ig]\n",
    "            Gs[Nu*(ig-1)+iu,2] = Gu[iu]\n",
    "\n",
    "        end\n",
    "\n",
    "    end\n",
    "\n",
    "    Ps = kron(Pg,Pu)\n",
    "    \n",
    "    ## STEP 1(b): 政策関数の初期値を当て推量\n",
    "    # 適当な初期値\n",
    "    yvec0 = zeros(Ns,1)\n",
    "    pvec0 = zeros(Ns,1)\n",
    "    rvec0 = zeros(Ns,1)    \n",
    "    yvec1 = zeros(Ns,1)\n",
    "    pvec1 = zeros(Ns,1)\n",
    "    rvec1 = zeros(Ns,1)\n",
    "    \n",
    "    ## STEP 4: 政策関数を繰り返し計算\n",
    "    diff = 1e+4 # 政策関数の繰り返し誤差\n",
    "    iter = 1 # ループ・カウンター\n",
    "\n",
    "    while(diff > m.tol && iter < m.maxiter)\n",
    "\n",
    "        ## STEP 3: 各グリッドごとに最適化\n",
    "        for is = 1:Ns\n",
    "\n",
    "            # ショックの値\n",
    "            g0 = Gs[is,1]\n",
    "            u0 = Gs[is,2]\n",
    "\n",
    "            # 古い政策関数から期待値(ye, pie)を計算\n",
    "            ye  = dot(Ps[is,:],yvec0)\n",
    "            pie = dot(Ps[is,:],pvec0)\n",
    "\n",
    "            # 期待値を所与として最適化\n",
    "            p0 = (β*pie+u0)/(1.0+κ^2/λ)\n",
    "            y0 = (-κ/λ)*p0\n",
    "            r0 = (1.0/σ)*(ye - y0 + g0) + pie\n",
    "\n",
    "            if (r0<0)\n",
    "                y0 = ye - σ*(0 - pie) + g0\n",
    "                p0 = κ*y0 + β*pie + u0\n",
    "                r0 = 0\n",
    "            end\n",
    "\n",
    "            # 新しい政策関数を保存\n",
    "            yvec1[is] = y0\n",
    "            pvec1[is] = p0\n",
    "            rvec1[is] = r0\n",
    "\n",
    "        end\n",
    "        \n",
    "        # 繰り返し計算誤差を確認\n",
    "        ydiff = maximum(abs.(yvec1-yvec0))\n",
    "        pdiff = maximum(abs.(pvec1-pvec0))\n",
    "        rdiff = maximum(abs.(rvec1-rvec0))\n",
    "        diff = maximum([ydiff pdiff rdiff])\n",
    "\n",
    "        println([iter diff])\n",
    "\n",
    "        # 政策関数をアップデート\n",
    "        # 注意：Juliaで配列の代入はポインタ渡し\n",
    "        yvec0 = copy(yvec1)\n",
    "        pvec0 = copy(pvec1)\n",
    "        rvec0 = copy(rvec1)\n",
    "        \n",
    "        iter = iter + 1\n",
    "\n",
    "    end\n",
    "    \n",
    "    return yvec0, pvec0, rvec0, Gg, Gu\n",
    "    \n",
    "end"
   ]
  },
  {
   "cell_type": "code",
   "execution_count": 28,
   "metadata": {
    "slideshow": {
     "slide_type": "subslide"
    }
   },
   "outputs": [
    {
     "data": {
      "text/plain": [
       "Model_disc1{Int64,Float64}(0.9913258983890954, 6.25, 0.02439099324170912, 0.003, 0.875, 31, 0.8, 1.524, 31, 0.0, 0.154, 2000, 1.0e-5)"
      ]
     },
     "execution_count": 28,
     "metadata": {},
     "output_type": "execute_result"
    }
   ],
   "source": [
    "rstar = 3.5/4.0 # pH=0のときの、定常状態での名目金利の値\n",
    "β = 1.0/(1.0+rstar/100.0) # 割引率(オイラー方程式の定常状態より)\n",
    "σ = 6.25\n",
    "α = 0.66\n",
    "θ = 7.66\n",
    "ω = 0.47\n",
    "κ = (1.0-α)*(1.0-α*β)/α*(1.0/σ+ω)/(1.0+ω*θ) # 0.024\n",
    "λ = 0.048/16.0 # 0.003\n",
    "\n",
    "# joint shock process\n",
    "Ng = 31\n",
    "ρg = 0.8\n",
    "σg = 1.524\n",
    "Nu = 31\n",
    "ρu = 0.0\n",
    "σu = 0.154\n",
    "\n",
    "maxiter = 2000 # 繰り返し回数の最大値\n",
    "tol = 1e-5 # 許容誤差\n",
    "\n",
    "m = Model_disc1(β,σ,κ,λ,rstar,Ng,ρg,σg,Nu,ρu,σu,maxiter,tol)"
   ]
  },
  {
   "cell_type": "code",
   "execution_count": 38,
   "metadata": {
    "slideshow": {
     "slide_type": "subslide"
    }
   },
   "outputs": [
    {
     "name": "stdout",
     "output_type": "stream",
     "text": [
      "[1.0 3.134600255224286]\n",
      "[2.0 1.1184816973835172]\n",
      "[3.0 0.64304686001288]\n",
      "[4.0 0.41701344571970944]\n",
      "[5.0 0.29347062139032243]\n",
      "[6.0 0.21820711119997416]\n",
      "[7.0 0.1682350357065312]\n",
      "[8.0 0.13310913708480232]\n",
      "[9.0 0.10694765724396582]\n",
      "[10.0 0.08712963176343891]\n",
      "[11.0 0.0719494059581196]\n",
      "[12.0 0.059861270506388564]\n",
      "[13.0 0.050069053122567375]\n",
      "[14.0 0.042086452721477485]\n",
      "[15.0 0.0354773565047779]\n",
      "[16.0 0.029974270755451116]\n",
      "[17.0 0.02539452824152555]\n",
      "[18.0 0.021583795527074123]\n",
      "[19.0 0.018422504929965555]\n",
      "[20.0 0.015800501171901793]\n",
      "[21.0 0.013584750654432654]\n",
      "[22.0 0.011693128570572142]\n",
      "[23.0 0.010073162317494777]\n",
      "[24.0 0.008684249416249123]\n",
      "[25.0 0.007492310656077805]\n",
      "[26.0 0.006468430506164857]\n",
      "[27.0 0.005593263784614777]\n",
      "[28.0 0.004862513323251605]\n",
      "[29.0 0.0042378960372744245]\n",
      "[30.0 0.0036951613406417394]\n",
      "[31.0 0.003222066401532331]\n",
      "[32.0 0.0028095892221191576]\n",
      "[33.0 0.0024500268852500895]\n",
      "[34.0 0.0021366252403671737]\n",
      "[35.0 0.0018634611114167754]\n",
      "[36.0 0.0016253556414227432]\n",
      "[37.0 0.0014177908629555702]\n",
      "[38.0 0.0012368303945624604]\n",
      "[39.0 0.0010790467629071543]\n",
      "[40.0 0.0009414563827405686]\n",
      "[41.0 0.0008214621802871136]\n",
      "[42.0 0.0007168033444120425]\n",
      "[43.0 0.0006255115034576875]\n",
      "[44.0 0.0005458725925926444]\n",
      "[45.0 0.00047639371170760114]\n",
      "[46.0 0.0004157743362007693]\n",
      "[47.0 0.0003628813128857544]\n",
      "[48.0 0.00031672714189934226]\n",
      "[49.0 0.0002764511089408117]\n",
      "[50.0 0.00024130288926027532]\n",
      "[51.0 0.0002106282950746774]\n",
      "[52.0 0.00018385688218369722]\n",
      "[53.0 0.00016049116965533017]\n",
      "[54.0 0.00014009725973629372]\n",
      "[55.0 0.00012229667358010232]\n",
      "[56.0 0.00010675924323333419]\n",
      "[57.0 9.319692158182846e-5]\n",
      "[58.0 8.135839041578663e-5]\n",
      "[59.0 7.102436263117795e-5]\n",
      "[60.0 6.200348843510284e-5]\n",
      "[61.0 5.412878718136227e-5]\n",
      "[62.0 4.7254536865715124e-5]\n",
      "[63.0 4.1253562152121503e-5]\n",
      "[64.0 3.601486956661404e-5]\n",
      "[65.0 3.144158510881567e-5]\n",
      "[66.0 2.7449155498793232e-5]\n",
      "[67.0 2.3963779101521254e-5]\n",
      "[68.0 2.092103715600757e-5]\n",
      "[69.0 1.8264699593650846e-5]\n",
      "[70.0 1.5945683118800957e-5]\n",
      "[71.0 1.3921142102191197e-5]\n",
      "[72.0 1.2153675246651119e-5]\n",
      "[73.0 1.0610633317753582e-5]\n",
      "[74.0 9.263514982649212e-6]\n",
      "  0.688216 seconds (302.71 k allocations: 1.062 GiB, 8.85% gc time)\n"
     ]
    },
    {
     "data": {
      "text/plain": [
       "([-5.8090709319256035; -5.8090709319256035; … ; -2.9122921359046767; -3.121265486252962], [-0.7611820597079317; -0.7303820597079318; … ; 0.3582009277413838; 0.3839038601653414], [0.0; 0.0; … ; 2.5607632042586084; 2.594198940314334], [-2.151250000000001, -1.6432500000000019, -1.135250000000001, -0.627250000000001, -0.11925000000000097, 0.38874999999999815, 0.896749999999999, 1.40475, 1.912749999999999, 2.4207499999999995  …  8.51675, 9.02475, 9.532750000000002, 10.040750000000001, 10.548750000000002, 11.056750000000001, 11.564750000000002, 12.072750000000001, 12.580750000000002, 13.088750000000001], [-0.46199999999999997, -0.43119999999999997, -0.4004, -0.3696, -0.3388, -0.30800000000000005, -0.2772, -0.24639999999999995, -0.2156, -0.1848  …  0.18479999999999996, 0.2155999999999999, 0.24640000000000006, 0.2772, 0.30800000000000005, 0.3388, 0.36960000000000004, 0.4004, 0.4312, 0.46199999999999997])"
      ]
     },
     "execution_count": 38,
     "metadata": {},
     "output_type": "execute_result"
    }
   ],
   "source": [
    "@time yvec0, pvec0, rvec0, Gg, Gu = ti(m)"
   ]
  },
  {
   "cell_type": "code",
   "execution_count": 42,
   "metadata": {
    "slideshow": {
     "slide_type": "subslide"
    }
   },
   "outputs": [
    {
     "data": {
      "text/plain": [
       "16"
      ]
     },
     "execution_count": 42,
     "metadata": {},
     "output_type": "execute_result"
    }
   ],
   "source": [
    "# replicate Figures 4-5 in the paper\n",
    "ymat0 = zeros(Ng,Nu)\n",
    "pmat0 = zeros(Ng,Nu)\n",
    "rmat0 = zeros(Ng,Nu)\n",
    "\n",
    "for ig in 1:Ng\n",
    "    \n",
    "    for iu in 1:Nu\n",
    "        \n",
    "        ymat0[ig,iu] = yvec0[Nu*(ig-1)+iu]\n",
    "        pmat0[ig,iu] = pvec0[Nu*(ig-1)+iu]\n",
    "        rmat0[ig,iu] = rvec0[Nu*(ig-1)+iu]\n",
    "        \n",
    "    end\n",
    "    \n",
    "end\n",
    "\n",
    "rmat0 = rmat0 #; %-rstar;\n",
    "Gg = Gg #; %-sig*rstar;\n",
    "idu = Int(ceil(Nu/2.0))\n",
    "stg = 1\n",
    "edg = Int(ceil(Ng/2.0))"
   ]
  },
  {
   "cell_type": "code",
   "execution_count": 55,
   "metadata": {
    "slideshow": {
     "slide_type": "subslide"
    }
   },
   "outputs": [
    {
     "data": {
      "image/svg+xml": [
       "<?xml version=\"1.0\" encoding=\"utf-8\"?>\n",
       "<svg xmlns=\"http://www.w3.org/2000/svg\" xmlns:xlink=\"http://www.w3.org/1999/xlink\" width=\"600\" height=\"400\" viewBox=\"0 0 2400 1600\">\n",
       "<defs>\n",
       "  <clipPath id=\"clip290\">\n",
       "    <rect x=\"0\" y=\"0\" width=\"2400\" height=\"1600\"/>\n",
       "  </clipPath>\n",
       "</defs>\n",
       "<path clip-path=\"url(#clip290)\" d=\"\n",
       "M0 1600 L2400 1600 L2400 0 L0 0  Z\n",
       "  \" fill=\"#ffffff\" fill-rule=\"evenodd\" fill-opacity=\"1\"/>\n",
       "<defs>\n",
       "  <clipPath id=\"clip291\">\n",
       "    <rect x=\"480\" y=\"0\" width=\"1681\" height=\"1600\"/>\n",
       "  </clipPath>\n",
       "</defs>\n",
       "<path clip-path=\"url(#clip290)\" d=\"\n",
       "M206.667 419.781 L2352.76 419.781 L2352.76 123.472 L206.667 123.472  Z\n",
       "  \" fill=\"#ffffff\" fill-rule=\"evenodd\" fill-opacity=\"1\"/>\n",
       "<defs>\n",
       "  <clipPath id=\"clip292\">\n",
       "    <rect x=\"206\" y=\"123\" width=\"2147\" height=\"297\"/>\n",
       "  </clipPath>\n",
       "</defs>\n",
       "<polyline clip-path=\"url(#clip292)\" style=\"stroke:#000000; stroke-width:2; stroke-opacity:0.1; fill:none\" points=\"\n",
       "  307.592,419.781 307.592,123.472 \n",
       "  \"/>\n",
       "<polyline clip-path=\"url(#clip292)\" style=\"stroke:#000000; stroke-width:2; stroke-opacity:0.1; fill:none\" points=\"\n",
       "  838.987,419.781 838.987,123.472 \n",
       "  \"/>\n",
       "<polyline clip-path=\"url(#clip292)\" style=\"stroke:#000000; stroke-width:2; stroke-opacity:0.1; fill:none\" points=\"\n",
       "  1370.38,419.781 1370.38,123.472 \n",
       "  \"/>\n",
       "<polyline clip-path=\"url(#clip292)\" style=\"stroke:#000000; stroke-width:2; stroke-opacity:0.1; fill:none\" points=\"\n",
       "  1901.77,419.781 1901.77,123.472 \n",
       "  \"/>\n",
       "<polyline clip-path=\"url(#clip290)\" style=\"stroke:#000000; stroke-width:4; stroke-opacity:1; fill:none\" points=\"\n",
       "  206.667,419.781 2352.76,419.781 \n",
       "  \"/>\n",
       "<polyline clip-path=\"url(#clip290)\" style=\"stroke:#000000; stroke-width:4; stroke-opacity:1; fill:none\" points=\"\n",
       "  307.592,419.781 307.592,416.225 \n",
       "  \"/>\n",
       "<polyline clip-path=\"url(#clip290)\" style=\"stroke:#000000; stroke-width:4; stroke-opacity:1; fill:none\" points=\"\n",
       "  838.987,419.781 838.987,416.225 \n",
       "  \"/>\n",
       "<polyline clip-path=\"url(#clip290)\" style=\"stroke:#000000; stroke-width:4; stroke-opacity:1; fill:none\" points=\"\n",
       "  1370.38,419.781 1370.38,416.225 \n",
       "  \"/>\n",
       "<polyline clip-path=\"url(#clip290)\" style=\"stroke:#000000; stroke-width:4; stroke-opacity:1; fill:none\" points=\"\n",
       "  1901.77,419.781 1901.77,416.225 \n",
       "  \"/>\n",
       "<path clip-path=\"url(#clip290)\" d=\"M 0 0 M280.046 463.625 L309.722 463.625 L309.722 467.56 L280.046 467.56 L280.046 463.625 Z\" fill=\"#000000\" fill-rule=\"evenodd\" fill-opacity=\"1\" /><path clip-path=\"url(#clip290)\" d=\"M 0 0 M318.819 476.518 L335.139 476.518 L335.139 480.453 L313.194 480.453 L313.194 476.518 Q315.856 473.763 320.44 469.134 Q325.046 464.481 326.227 463.138 Q328.472 460.615 329.352 458.879 Q330.254 457.12 330.254 455.43 Q330.254 452.676 328.31 450.939 Q326.389 449.203 323.287 449.203 Q321.088 449.203 318.634 449.967 Q316.204 450.731 313.426 452.282 L313.426 447.56 Q316.25 446.426 318.703 445.847 Q321.157 445.268 323.194 445.268 Q328.565 445.268 331.759 447.953 Q334.953 450.639 334.953 455.129 Q334.953 457.259 334.143 459.18 Q333.356 461.078 331.25 463.671 Q330.671 464.342 327.569 467.56 Q324.467 470.754 318.819 476.518 Z\" fill=\"#000000\" fill-rule=\"evenodd\" fill-opacity=\"1\" /><path clip-path=\"url(#clip290)\" d=\"M 0 0 M838.987 448.972 Q835.376 448.972 833.547 452.537 Q831.741 456.078 831.741 463.208 Q831.741 470.314 833.547 473.879 Q835.376 477.421 838.987 477.421 Q842.621 477.421 844.426 473.879 Q846.255 470.314 846.255 463.208 Q846.255 456.078 844.426 452.537 Q842.621 448.972 838.987 448.972 M838.987 445.268 Q844.797 445.268 847.852 449.875 Q850.931 454.458 850.931 463.208 Q850.931 471.935 847.852 476.541 Q844.797 481.125 838.987 481.125 Q833.176 481.125 830.098 476.541 Q827.042 471.935 827.042 463.208 Q827.042 454.458 830.098 449.875 Q833.176 445.268 838.987 445.268 Z\" fill=\"#000000\" fill-rule=\"evenodd\" fill-opacity=\"1\" /><path clip-path=\"url(#clip290)\" d=\"M 0 0 M1365.03 476.518 L1381.35 476.518 L1381.35 480.453 L1359.41 480.453 L1359.41 476.518 Q1362.07 473.763 1366.65 469.134 Q1371.26 464.481 1372.44 463.138 Q1374.69 460.615 1375.57 458.879 Q1376.47 457.12 1376.47 455.43 Q1376.47 452.676 1374.52 450.939 Q1372.6 449.203 1369.5 449.203 Q1367.3 449.203 1364.85 449.967 Q1362.42 450.731 1359.64 452.282 L1359.64 447.56 Q1362.46 446.426 1364.92 445.847 Q1367.37 445.268 1369.41 445.268 Q1374.78 445.268 1377.97 447.953 Q1381.17 450.639 1381.17 455.129 Q1381.17 457.259 1380.36 459.18 Q1379.57 461.078 1377.46 463.671 Q1376.89 464.342 1373.78 467.56 Q1370.68 470.754 1365.03 476.518 Z\" fill=\"#000000\" fill-rule=\"evenodd\" fill-opacity=\"1\" /><path clip-path=\"url(#clip290)\" d=\"M 0 0 M1904.78 449.967 L1892.98 468.416 L1904.78 468.416 L1904.78 449.967 M1903.56 445.893 L1909.44 445.893 L1909.44 468.416 L1914.37 468.416 L1914.37 472.305 L1909.44 472.305 L1909.44 480.453 L1904.78 480.453 L1904.78 472.305 L1889.18 472.305 L1889.18 467.791 L1903.56 445.893 Z\" fill=\"#000000\" fill-rule=\"evenodd\" fill-opacity=\"1\" /><polyline clip-path=\"url(#clip292)\" style=\"stroke:#000000; stroke-width:2; stroke-opacity:0.1; fill:none\" points=\"\n",
       "  206.667,374.267 2352.76,374.267 \n",
       "  \"/>\n",
       "<polyline clip-path=\"url(#clip292)\" style=\"stroke:#000000; stroke-width:2; stroke-opacity:0.1; fill:none\" points=\"\n",
       "  206.667,328.378 2352.76,328.378 \n",
       "  \"/>\n",
       "<polyline clip-path=\"url(#clip292)\" style=\"stroke:#000000; stroke-width:2; stroke-opacity:0.1; fill:none\" points=\"\n",
       "  206.667,282.488 2352.76,282.488 \n",
       "  \"/>\n",
       "<polyline clip-path=\"url(#clip292)\" style=\"stroke:#000000; stroke-width:2; stroke-opacity:0.1; fill:none\" points=\"\n",
       "  206.667,236.599 2352.76,236.599 \n",
       "  \"/>\n",
       "<polyline clip-path=\"url(#clip292)\" style=\"stroke:#000000; stroke-width:2; stroke-opacity:0.1; fill:none\" points=\"\n",
       "  206.667,190.709 2352.76,190.709 \n",
       "  \"/>\n",
       "<polyline clip-path=\"url(#clip292)\" style=\"stroke:#000000; stroke-width:2; stroke-opacity:0.1; fill:none\" points=\"\n",
       "  206.667,144.82 2352.76,144.82 \n",
       "  \"/>\n",
       "<polyline clip-path=\"url(#clip290)\" style=\"stroke:#000000; stroke-width:4; stroke-opacity:1; fill:none\" points=\"\n",
       "  206.667,419.781 206.667,123.472 \n",
       "  \"/>\n",
       "<polyline clip-path=\"url(#clip290)\" style=\"stroke:#000000; stroke-width:4; stroke-opacity:1; fill:none\" points=\"\n",
       "  206.667,374.267 232.42,374.267 \n",
       "  \"/>\n",
       "<polyline clip-path=\"url(#clip290)\" style=\"stroke:#000000; stroke-width:4; stroke-opacity:1; fill:none\" points=\"\n",
       "  206.667,328.378 232.42,328.378 \n",
       "  \"/>\n",
       "<polyline clip-path=\"url(#clip290)\" style=\"stroke:#000000; stroke-width:4; stroke-opacity:1; fill:none\" points=\"\n",
       "  206.667,282.488 232.42,282.488 \n",
       "  \"/>\n",
       "<polyline clip-path=\"url(#clip290)\" style=\"stroke:#000000; stroke-width:4; stroke-opacity:1; fill:none\" points=\"\n",
       "  206.667,236.599 232.42,236.599 \n",
       "  \"/>\n",
       "<polyline clip-path=\"url(#clip290)\" style=\"stroke:#000000; stroke-width:4; stroke-opacity:1; fill:none\" points=\"\n",
       "  206.667,190.709 232.42,190.709 \n",
       "  \"/>\n",
       "<polyline clip-path=\"url(#clip290)\" style=\"stroke:#000000; stroke-width:4; stroke-opacity:1; fill:none\" points=\"\n",
       "  206.667,144.82 232.42,144.82 \n",
       "  \"/>\n",
       "<path clip-path=\"url(#clip290)\" d=\"M 0 0 M114.973 374.719 L144.649 374.719 L144.649 378.654 L114.973 378.654 L114.973 374.719 Z\" fill=\"#000000\" fill-rule=\"evenodd\" fill-opacity=\"1\" /><path clip-path=\"url(#clip290)\" d=\"M 0 0 M149.765 356.987 L168.121 356.987 L168.121 360.922 L154.047 360.922 L154.047 369.395 Q155.066 369.047 156.084 368.885 Q157.103 368.7 158.121 368.7 Q163.908 368.7 167.288 371.871 Q170.667 375.043 170.667 380.459 Q170.667 386.038 167.195 389.14 Q163.723 392.219 157.404 392.219 Q155.228 392.219 152.959 391.848 Q150.714 391.478 148.306 390.737 L148.306 386.038 Q150.39 387.172 152.612 387.728 Q154.834 388.283 157.311 388.283 Q161.316 388.283 163.654 386.177 Q165.992 384.07 165.992 380.459 Q165.992 376.848 163.654 374.742 Q161.316 372.635 157.311 372.635 Q155.436 372.635 153.561 373.052 Q151.709 373.469 149.765 374.348 L149.765 356.987 Z\" fill=\"#000000\" fill-rule=\"evenodd\" fill-opacity=\"1\" /><path clip-path=\"url(#clip290)\" d=\"M 0 0 M113.492 328.829 L143.168 328.829 L143.168 332.764 L113.492 332.764 L113.492 328.829 Z\" fill=\"#000000\" fill-rule=\"evenodd\" fill-opacity=\"1\" /><path clip-path=\"url(#clip290)\" d=\"M 0 0 M161.084 315.172 L149.279 333.621 L161.084 333.621 L161.084 315.172 M159.857 311.098 L165.737 311.098 L165.737 333.621 L170.667 333.621 L170.667 337.51 L165.737 337.51 L165.737 345.658 L161.084 345.658 L161.084 337.51 L145.482 337.51 L145.482 332.996 L159.857 311.098 Z\" fill=\"#000000\" fill-rule=\"evenodd\" fill-opacity=\"1\" /><path clip-path=\"url(#clip290)\" d=\"M 0 0 M114.626 282.94 L144.302 282.94 L144.302 286.875 L114.626 286.875 L114.626 282.94 Z\" fill=\"#000000\" fill-rule=\"evenodd\" fill-opacity=\"1\" /><path clip-path=\"url(#clip290)\" d=\"M 0 0 M163.538 281.134 Q166.894 281.852 168.769 284.12 Q170.667 286.389 170.667 289.722 Q170.667 294.838 167.149 297.639 Q163.63 300.44 157.149 300.44 Q154.973 300.44 152.658 300 Q150.367 299.583 147.913 298.727 L147.913 294.213 Q149.857 295.347 152.172 295.926 Q154.487 296.504 157.01 296.504 Q161.408 296.504 163.7 294.768 Q166.015 293.032 166.015 289.722 Q166.015 286.667 163.862 284.954 Q161.732 283.217 157.913 283.217 L153.885 283.217 L153.885 279.375 L158.098 279.375 Q161.547 279.375 163.376 278.009 Q165.204 276.62 165.204 274.028 Q165.204 271.366 163.306 269.954 Q161.431 268.518 157.913 268.518 Q155.992 268.518 153.793 268.935 Q151.593 269.352 148.955 270.231 L148.955 266.065 Q151.617 265.324 153.931 264.954 Q156.269 264.583 158.33 264.583 Q163.654 264.583 166.755 267.014 Q169.857 269.421 169.857 273.542 Q169.857 276.412 168.214 278.403 Q166.57 280.37 163.538 281.134 Z\" fill=\"#000000\" fill-rule=\"evenodd\" fill-opacity=\"1\" /><path clip-path=\"url(#clip290)\" d=\"M 0 0 M115.575 237.05 L145.251 237.05 L145.251 240.985 L115.575 240.985 L115.575 237.05 Z\" fill=\"#000000\" fill-rule=\"evenodd\" fill-opacity=\"1\" /><path clip-path=\"url(#clip290)\" d=\"M 0 0 M154.348 249.944 L170.667 249.944 L170.667 253.879 L148.723 253.879 L148.723 249.944 Q151.385 247.189 155.968 242.559 Q160.575 237.907 161.755 236.564 Q164.001 234.041 164.88 232.305 Q165.783 230.546 165.783 228.856 Q165.783 226.101 163.839 224.365 Q161.917 222.629 158.816 222.629 Q156.617 222.629 154.163 223.393 Q151.732 224.157 148.955 225.708 L148.955 220.986 Q151.779 219.851 154.232 219.273 Q156.686 218.694 158.723 218.694 Q164.093 218.694 167.288 221.379 Q170.482 224.064 170.482 228.555 Q170.482 230.685 169.672 232.606 Q168.885 234.504 166.779 237.097 Q166.2 237.768 163.098 240.985 Q159.996 244.18 154.348 249.944 Z\" fill=\"#000000\" fill-rule=\"evenodd\" fill-opacity=\"1\" /><path clip-path=\"url(#clip290)\" d=\"M 0 0 M115.205 191.161 L144.881 191.161 L144.881 195.096 L115.205 195.096 L115.205 191.161 Z\" fill=\"#000000\" fill-rule=\"evenodd\" fill-opacity=\"1\" /><path clip-path=\"url(#clip290)\" d=\"M 0 0 M150.76 204.054 L158.399 204.054 L158.399 177.689 L150.089 179.355 L150.089 175.096 L158.353 173.429 L163.029 173.429 L163.029 204.054 L170.667 204.054 L170.667 207.989 L150.76 207.989 L150.76 204.054 Z\" fill=\"#000000\" fill-rule=\"evenodd\" fill-opacity=\"1\" /><path clip-path=\"url(#clip290)\" d=\"M 0 0 M158.723 130.619 Q155.112 130.619 153.283 134.183 Q151.478 137.725 151.478 144.855 Q151.478 151.961 153.283 155.526 Q155.112 159.068 158.723 159.068 Q162.357 159.068 164.163 155.526 Q165.992 151.961 165.992 144.855 Q165.992 137.725 164.163 134.183 Q162.357 130.619 158.723 130.619 M158.723 126.915 Q164.533 126.915 167.589 131.521 Q170.667 136.105 170.667 144.855 Q170.667 153.581 167.589 158.188 Q164.533 162.771 158.723 162.771 Q152.913 162.771 149.834 158.188 Q146.779 153.581 146.779 144.855 Q146.779 136.105 149.834 131.521 Q152.913 126.915 158.723 126.915 Z\" fill=\"#000000\" fill-rule=\"evenodd\" fill-opacity=\"1\" /><path clip-path=\"url(#clip290)\" d=\"M 0 0 M1180.1 17.6457 Q1171.19 17.6457 1165.92 24.2892 Q1160.7 30.9327 1160.7 42.3968 Q1160.7 53.8203 1165.92 60.4638 Q1171.19 67.1073 1180.1 67.1073 Q1189.01 67.1073 1194.2 60.4638 Q1199.42 53.8203 1199.42 42.3968 Q1199.42 30.9327 1194.2 24.2892 Q1189.01 17.6457 1180.1 17.6457 M1180.1 11.0023 Q1192.82 11.0023 1200.44 19.5497 Q1208.05 28.0566 1208.05 42.3968 Q1208.05 56.6965 1200.44 65.2439 Q1192.82 73.7508 1180.1 73.7508 Q1167.34 73.7508 1159.68 65.2439 Q1152.07 56.737 1152.07 42.3968 Q1152.07 28.0566 1159.68 19.5497 Q1167.34 11.0023 1180.1 11.0023 Z\" fill=\"#000000\" fill-rule=\"evenodd\" fill-opacity=\"1\" /><path clip-path=\"url(#clip290)\" d=\"M 0 0 M1215.1 54.671 L1215.1 27.2059 L1222.55 27.2059 L1222.55 54.3874 Q1222.55 60.8284 1225.06 64.0691 Q1227.58 67.2693 1232.6 67.2693 Q1238.64 67.2693 1242.12 63.421 Q1245.64 59.5726 1245.64 52.9291 L1245.64 27.2059 L1253.1 27.2059 L1253.1 72.576 L1245.64 72.576 L1245.64 65.6084 Q1242.93 69.7404 1239.32 71.7658 Q1235.76 73.7508 1231.02 73.7508 Q1223.2 73.7508 1219.15 68.8897 Q1215.1 64.0286 1215.1 54.671 M1233.86 26.1121 L1233.86 26.1121 Z\" fill=\"#000000\" fill-rule=\"evenodd\" fill-opacity=\"1\" /><path clip-path=\"url(#clip290)\" d=\"M 0 0 M1268.29 14.324 L1268.29 27.2059 L1283.64 27.2059 L1283.64 32.9987 L1268.29 32.9987 L1268.29 57.6282 Q1268.29 63.1779 1269.79 64.7578 Q1271.33 66.3376 1275.98 66.3376 L1283.64 66.3376 L1283.64 72.576 L1275.98 72.576 Q1267.36 72.576 1264.08 69.3758 Q1260.79 66.1351 1260.79 57.6282 L1260.79 32.9987 L1255.33 32.9987 L1255.33 27.2059 L1260.79 27.2059 L1260.79 14.324 L1268.29 14.324 Z\" fill=\"#000000\" fill-rule=\"evenodd\" fill-opacity=\"1\" /><path clip-path=\"url(#clip290)\" d=\"M 0 0 M1298.67 65.7705 L1298.67 89.8329 L1291.18 89.8329 L1291.18 27.2059 L1298.67 27.2059 L1298.67 34.0924 Q1301.02 30.0415 1304.58 28.0971 Q1308.19 26.1121 1313.17 26.1121 Q1321.44 26.1121 1326.58 32.6746 Q1331.77 39.2371 1331.77 49.9314 Q1331.77 60.6258 1326.58 67.1883 Q1321.44 73.7508 1313.17 73.7508 Q1308.19 73.7508 1304.58 71.8063 Q1301.02 69.8214 1298.67 65.7705 M1324.03 49.9314 Q1324.03 41.7081 1320.63 37.0496 Q1317.26 32.3505 1311.35 32.3505 Q1305.43 32.3505 1302.03 37.0496 Q1298.67 41.7081 1298.67 49.9314 Q1298.67 58.1548 1302.03 62.8538 Q1305.43 67.5124 1311.35 67.5124 Q1317.26 67.5124 1320.63 62.8538 Q1324.03 58.1548 1324.03 49.9314 Z\" fill=\"#000000\" fill-rule=\"evenodd\" fill-opacity=\"1\" /><path clip-path=\"url(#clip290)\" d=\"M 0 0 M1338.81 54.671 L1338.81 27.2059 L1346.27 27.2059 L1346.27 54.3874 Q1346.27 60.8284 1348.78 64.0691 Q1351.29 67.2693 1356.31 67.2693 Q1362.35 67.2693 1365.83 63.421 Q1369.36 59.5726 1369.36 52.9291 L1369.36 27.2059 L1376.81 27.2059 L1376.81 72.576 L1369.36 72.576 L1369.36 65.6084 Q1366.64 69.7404 1363.04 71.7658 Q1359.47 73.7508 1354.73 73.7508 Q1346.92 73.7508 1342.87 68.8897 Q1338.81 64.0286 1338.81 54.671 M1357.57 26.1121 L1357.57 26.1121 Z\" fill=\"#000000\" fill-rule=\"evenodd\" fill-opacity=\"1\" /><path clip-path=\"url(#clip290)\" d=\"M 0 0 M1392 14.324 L1392 27.2059 L1407.36 27.2059 L1407.36 32.9987 L1392 32.9987 L1392 57.6282 Q1392 63.1779 1393.5 64.7578 Q1395.04 66.3376 1399.7 66.3376 L1407.36 66.3376 L1407.36 72.576 L1399.7 72.576 Q1391.07 72.576 1387.79 69.3758 Q1384.51 66.1351 1384.51 57.6282 L1384.51 32.9987 L1379.04 32.9987 L1379.04 27.2059 L1384.51 27.2059 L1384.51 14.324 L1392 14.324 Z\" fill=\"#000000\" fill-rule=\"evenodd\" fill-opacity=\"1\" /><polyline clip-path=\"url(#clip292)\" style=\"stroke:#009af9; stroke-width:4; stroke-opacity:1; fill:none\" points=\"\n",
       "  267.406,411.395 402.38,356.963 537.354,304.577 672.328,255.374 807.302,210.071 942.276,168.94 1077.25,131.858 1212.22,134.11 1347.2,136.494 1482.17,138.304 \n",
       "  1617.15,139.659 1752.12,140.669 1887.1,141.421 2022.07,141.987 2157.04,142.417 2292.02,142.75 \n",
       "  \"/>\n",
       "<path clip-path=\"url(#clip290)\" d=\"\n",
       "M206.667 953.115 L2352.76 953.115 L2352.76 656.805 L206.667 656.805  Z\n",
       "  \" fill=\"#ffffff\" fill-rule=\"evenodd\" fill-opacity=\"1\"/>\n",
       "<defs>\n",
       "  <clipPath id=\"clip293\">\n",
       "    <rect x=\"206\" y=\"656\" width=\"2147\" height=\"297\"/>\n",
       "  </clipPath>\n",
       "</defs>\n",
       "<polyline clip-path=\"url(#clip293)\" style=\"stroke:#000000; stroke-width:2; stroke-opacity:0.1; fill:none\" points=\"\n",
       "  307.592,953.115 307.592,656.805 \n",
       "  \"/>\n",
       "<polyline clip-path=\"url(#clip293)\" style=\"stroke:#000000; stroke-width:2; stroke-opacity:0.1; fill:none\" points=\"\n",
       "  838.987,953.115 838.987,656.805 \n",
       "  \"/>\n",
       "<polyline clip-path=\"url(#clip293)\" style=\"stroke:#000000; stroke-width:2; stroke-opacity:0.1; fill:none\" points=\"\n",
       "  1370.38,953.115 1370.38,656.805 \n",
       "  \"/>\n",
       "<polyline clip-path=\"url(#clip293)\" style=\"stroke:#000000; stroke-width:2; stroke-opacity:0.1; fill:none\" points=\"\n",
       "  1901.77,953.115 1901.77,656.805 \n",
       "  \"/>\n",
       "<polyline clip-path=\"url(#clip290)\" style=\"stroke:#000000; stroke-width:4; stroke-opacity:1; fill:none\" points=\"\n",
       "  206.667,953.115 2352.76,953.115 \n",
       "  \"/>\n",
       "<polyline clip-path=\"url(#clip290)\" style=\"stroke:#000000; stroke-width:4; stroke-opacity:1; fill:none\" points=\"\n",
       "  307.592,953.115 307.592,949.559 \n",
       "  \"/>\n",
       "<polyline clip-path=\"url(#clip290)\" style=\"stroke:#000000; stroke-width:4; stroke-opacity:1; fill:none\" points=\"\n",
       "  838.987,953.115 838.987,949.559 \n",
       "  \"/>\n",
       "<polyline clip-path=\"url(#clip290)\" style=\"stroke:#000000; stroke-width:4; stroke-opacity:1; fill:none\" points=\"\n",
       "  1370.38,953.115 1370.38,949.559 \n",
       "  \"/>\n",
       "<polyline clip-path=\"url(#clip290)\" style=\"stroke:#000000; stroke-width:4; stroke-opacity:1; fill:none\" points=\"\n",
       "  1901.77,953.115 1901.77,949.559 \n",
       "  \"/>\n",
       "<path clip-path=\"url(#clip290)\" d=\"M 0 0 M280.046 996.958 L309.722 996.958 L309.722 1000.89 L280.046 1000.89 L280.046 996.958 Z\" fill=\"#000000\" fill-rule=\"evenodd\" fill-opacity=\"1\" /><path clip-path=\"url(#clip290)\" d=\"M 0 0 M318.819 1009.85 L335.139 1009.85 L335.139 1013.79 L313.194 1013.79 L313.194 1009.85 Q315.856 1007.1 320.44 1002.47 Q325.046 997.814 326.227 996.472 Q328.472 993.949 329.352 992.213 Q330.254 990.453 330.254 988.764 Q330.254 986.009 328.31 984.273 Q326.389 982.537 323.287 982.537 Q321.088 982.537 318.634 983.301 Q316.204 984.064 313.426 985.615 L313.426 980.893 Q316.25 979.759 318.703 979.18 Q321.157 978.602 323.194 978.602 Q328.565 978.602 331.759 981.287 Q334.953 983.972 334.953 988.463 Q334.953 990.592 334.143 992.514 Q333.356 994.412 331.25 997.004 Q330.671 997.676 327.569 1000.89 Q324.467 1004.09 318.819 1009.85 Z\" fill=\"#000000\" fill-rule=\"evenodd\" fill-opacity=\"1\" /><path clip-path=\"url(#clip290)\" d=\"M 0 0 M838.987 982.305 Q835.376 982.305 833.547 985.87 Q831.741 989.412 831.741 996.541 Q831.741 1003.65 833.547 1007.21 Q835.376 1010.75 838.987 1010.75 Q842.621 1010.75 844.426 1007.21 Q846.255 1003.65 846.255 996.541 Q846.255 989.412 844.426 985.87 Q842.621 982.305 838.987 982.305 M838.987 978.602 Q844.797 978.602 847.852 983.208 Q850.931 987.791 850.931 996.541 Q850.931 1005.27 847.852 1009.87 Q844.797 1014.46 838.987 1014.46 Q833.176 1014.46 830.098 1009.87 Q827.042 1005.27 827.042 996.541 Q827.042 987.791 830.098 983.208 Q833.176 978.602 838.987 978.602 Z\" fill=\"#000000\" fill-rule=\"evenodd\" fill-opacity=\"1\" /><path clip-path=\"url(#clip290)\" d=\"M 0 0 M1365.03 1009.85 L1381.35 1009.85 L1381.35 1013.79 L1359.41 1013.79 L1359.41 1009.85 Q1362.07 1007.1 1366.65 1002.47 Q1371.26 997.814 1372.44 996.472 Q1374.69 993.949 1375.57 992.213 Q1376.47 990.453 1376.47 988.764 Q1376.47 986.009 1374.52 984.273 Q1372.6 982.537 1369.5 982.537 Q1367.3 982.537 1364.85 983.301 Q1362.42 984.064 1359.64 985.615 L1359.64 980.893 Q1362.46 979.759 1364.92 979.18 Q1367.37 978.602 1369.41 978.602 Q1374.78 978.602 1377.97 981.287 Q1381.17 983.972 1381.17 988.463 Q1381.17 990.592 1380.36 992.514 Q1379.57 994.412 1377.46 997.004 Q1376.89 997.676 1373.78 1000.89 Q1370.68 1004.09 1365.03 1009.85 Z\" fill=\"#000000\" fill-rule=\"evenodd\" fill-opacity=\"1\" /><path clip-path=\"url(#clip290)\" d=\"M 0 0 M1904.78 983.301 L1892.98 1001.75 L1904.78 1001.75 L1904.78 983.301 M1903.56 979.227 L1909.44 979.227 L1909.44 1001.75 L1914.37 1001.75 L1914.37 1005.64 L1909.44 1005.64 L1909.44 1013.79 L1904.78 1013.79 L1904.78 1005.64 L1889.18 1005.64 L1889.18 1001.12 L1903.56 979.227 Z\" fill=\"#000000\" fill-rule=\"evenodd\" fill-opacity=\"1\" /><polyline clip-path=\"url(#clip293)\" style=\"stroke:#000000; stroke-width:2; stroke-opacity:0.1; fill:none\" points=\"\n",
       "  206.667,897.908 2352.76,897.908 \n",
       "  \"/>\n",
       "<polyline clip-path=\"url(#clip293)\" style=\"stroke:#000000; stroke-width:2; stroke-opacity:0.1; fill:none\" points=\"\n",
       "  206.667,838.408 2352.76,838.408 \n",
       "  \"/>\n",
       "<polyline clip-path=\"url(#clip293)\" style=\"stroke:#000000; stroke-width:2; stroke-opacity:0.1; fill:none\" points=\"\n",
       "  206.667,778.909 2352.76,778.909 \n",
       "  \"/>\n",
       "<polyline clip-path=\"url(#clip293)\" style=\"stroke:#000000; stroke-width:2; stroke-opacity:0.1; fill:none\" points=\"\n",
       "  206.667,719.41 2352.76,719.41 \n",
       "  \"/>\n",
       "<polyline clip-path=\"url(#clip293)\" style=\"stroke:#000000; stroke-width:2; stroke-opacity:0.1; fill:none\" points=\"\n",
       "  206.667,659.91 2352.76,659.91 \n",
       "  \"/>\n",
       "<polyline clip-path=\"url(#clip290)\" style=\"stroke:#000000; stroke-width:4; stroke-opacity:1; fill:none\" points=\"\n",
       "  206.667,953.115 206.667,656.805 \n",
       "  \"/>\n",
       "<polyline clip-path=\"url(#clip290)\" style=\"stroke:#000000; stroke-width:4; stroke-opacity:1; fill:none\" points=\"\n",
       "  206.667,897.908 232.42,897.908 \n",
       "  \"/>\n",
       "<polyline clip-path=\"url(#clip290)\" style=\"stroke:#000000; stroke-width:4; stroke-opacity:1; fill:none\" points=\"\n",
       "  206.667,838.408 232.42,838.408 \n",
       "  \"/>\n",
       "<polyline clip-path=\"url(#clip290)\" style=\"stroke:#000000; stroke-width:4; stroke-opacity:1; fill:none\" points=\"\n",
       "  206.667,778.909 232.42,778.909 \n",
       "  \"/>\n",
       "<polyline clip-path=\"url(#clip290)\" style=\"stroke:#000000; stroke-width:4; stroke-opacity:1; fill:none\" points=\"\n",
       "  206.667,719.41 232.42,719.41 \n",
       "  \"/>\n",
       "<polyline clip-path=\"url(#clip290)\" style=\"stroke:#000000; stroke-width:4; stroke-opacity:1; fill:none\" points=\"\n",
       "  206.667,659.91 232.42,659.91 \n",
       "  \"/>\n",
       "<path clip-path=\"url(#clip290)\" d=\"M 0 0 M51.2236 898.359 L80.8994 898.359 L80.8994 902.294 L51.2236 902.294 L51.2236 898.359 Z\" fill=\"#000000\" fill-rule=\"evenodd\" fill-opacity=\"1\" /><path clip-path=\"url(#clip290)\" d=\"M 0 0 M86.779 911.252 L94.4178 911.252 L94.4178 884.887 L86.1077 886.554 L86.1077 882.294 L94.3715 880.628 L99.0474 880.628 L99.0474 911.252 L106.686 911.252 L106.686 915.188 L86.779 915.188 L86.779 911.252 Z\" fill=\"#000000\" fill-rule=\"evenodd\" fill-opacity=\"1\" /><path clip-path=\"url(#clip290)\" d=\"M 0 0 M111.756 909.308 L116.64 909.308 L116.64 915.188 L111.756 915.188 L111.756 909.308 Z\" fill=\"#000000\" fill-rule=\"evenodd\" fill-opacity=\"1\" /><path clip-path=\"url(#clip290)\" d=\"M 0 0 M131.709 883.706 Q128.098 883.706 126.27 887.271 Q124.464 890.813 124.464 897.942 Q124.464 905.049 126.27 908.614 Q128.098 912.155 131.709 912.155 Q135.344 912.155 137.149 908.614 Q138.978 905.049 138.978 897.942 Q138.978 890.813 137.149 887.271 Q135.344 883.706 131.709 883.706 M131.709 880.003 Q137.519 880.003 140.575 884.609 Q143.654 889.192 143.654 897.942 Q143.654 906.669 140.575 911.276 Q137.519 915.859 131.709 915.859 Q125.899 915.859 122.82 911.276 Q119.765 906.669 119.765 897.942 Q119.765 889.192 122.82 884.609 Q125.899 880.003 131.709 880.003 Z\" fill=\"#000000\" fill-rule=\"evenodd\" fill-opacity=\"1\" /><path clip-path=\"url(#clip290)\" d=\"M 0 0 M158.723 883.706 Q155.112 883.706 153.283 887.271 Q151.478 890.813 151.478 897.942 Q151.478 905.049 153.283 908.614 Q155.112 912.155 158.723 912.155 Q162.357 912.155 164.163 908.614 Q165.992 905.049 165.992 897.942 Q165.992 890.813 164.163 887.271 Q162.357 883.706 158.723 883.706 M158.723 880.003 Q164.533 880.003 167.589 884.609 Q170.667 889.192 170.667 897.942 Q170.667 906.669 167.589 911.276 Q164.533 915.859 158.723 915.859 Q152.913 915.859 149.834 911.276 Q146.779 906.669 146.779 897.942 Q146.779 889.192 149.834 884.609 Q152.913 880.003 158.723 880.003 Z\" fill=\"#000000\" fill-rule=\"evenodd\" fill-opacity=\"1\" /><path clip-path=\"url(#clip290)\" d=\"M 0 0 M51.8949 838.86 L81.5707 838.86 L81.5707 842.795 L51.8949 842.795 L51.8949 838.86 Z\" fill=\"#000000\" fill-rule=\"evenodd\" fill-opacity=\"1\" /><path clip-path=\"url(#clip290)\" d=\"M 0 0 M96.64 824.207 Q93.0289 824.207 91.2002 827.772 Q89.3947 831.313 89.3947 838.443 Q89.3947 845.549 91.2002 849.114 Q93.0289 852.656 96.64 852.656 Q100.274 852.656 102.08 849.114 Q103.909 845.549 103.909 838.443 Q103.909 831.313 102.08 827.772 Q100.274 824.207 96.64 824.207 M96.64 820.503 Q102.45 820.503 105.506 825.11 Q108.584 829.693 108.584 838.443 Q108.584 847.17 105.506 851.776 Q102.45 856.36 96.64 856.36 Q90.8299 856.36 87.7512 851.776 Q84.6956 847.17 84.6956 838.443 Q84.6956 829.693 87.7512 825.11 Q90.8299 820.503 96.64 820.503 Z\" fill=\"#000000\" fill-rule=\"evenodd\" fill-opacity=\"1\" /><path clip-path=\"url(#clip290)\" d=\"M 0 0 M113.654 849.809 L118.538 849.809 L118.538 855.688 L113.654 855.688 L113.654 849.809 Z\" fill=\"#000000\" fill-rule=\"evenodd\" fill-opacity=\"1\" /><path clip-path=\"url(#clip290)\" d=\"M 0 0 M122.427 821.128 L144.649 821.128 L144.649 823.119 L132.103 855.688 L127.219 855.688 L139.024 825.063 L122.427 825.063 L122.427 821.128 Z\" fill=\"#000000\" fill-rule=\"evenodd\" fill-opacity=\"1\" /><path clip-path=\"url(#clip290)\" d=\"M 0 0 M149.765 821.128 L168.121 821.128 L168.121 825.063 L154.047 825.063 L154.047 833.536 Q155.066 833.188 156.084 833.026 Q157.103 832.841 158.121 832.841 Q163.908 832.841 167.288 836.012 Q170.667 839.184 170.667 844.6 Q170.667 850.179 167.195 853.281 Q163.723 856.36 157.404 856.36 Q155.228 856.36 152.959 855.989 Q150.714 855.619 148.306 854.878 L148.306 850.179 Q150.39 851.313 152.612 851.869 Q154.834 852.424 157.311 852.424 Q161.316 852.424 163.654 850.318 Q165.992 848.211 165.992 844.6 Q165.992 840.989 163.654 838.883 Q161.316 836.776 157.311 836.776 Q155.436 836.776 153.561 837.193 Q151.709 837.61 149.765 838.489 L149.765 821.128 Z\" fill=\"#000000\" fill-rule=\"evenodd\" fill-opacity=\"1\" /><path clip-path=\"url(#clip290)\" d=\"M 0 0 M50.9921 779.36 L80.6679 779.36 L80.6679 783.296 L50.9921 783.296 L50.9921 779.36 Z\" fill=\"#000000\" fill-rule=\"evenodd\" fill-opacity=\"1\" /><path clip-path=\"url(#clip290)\" d=\"M 0 0 M95.7373 764.708 Q92.1262 764.708 90.2975 768.272 Q88.4919 771.814 88.4919 778.944 Q88.4919 786.05 90.2975 789.615 Q92.1262 793.157 95.7373 793.157 Q99.3715 793.157 101.177 789.615 Q103.006 786.05 103.006 778.944 Q103.006 771.814 101.177 768.272 Q99.3715 764.708 95.7373 764.708 M95.7373 761.004 Q101.547 761.004 104.603 765.61 Q107.682 770.194 107.682 778.944 Q107.682 787.67 104.603 792.277 Q101.547 796.86 95.7373 796.86 Q89.9271 796.86 86.8484 792.277 Q83.7929 787.67 83.7929 778.944 Q83.7929 770.194 86.8484 765.61 Q89.9271 761.004 95.7373 761.004 Z\" fill=\"#000000\" fill-rule=\"evenodd\" fill-opacity=\"1\" /><path clip-path=\"url(#clip290)\" d=\"M 0 0 M112.751 790.309 L117.635 790.309 L117.635 796.189 L112.751 796.189 L112.751 790.309 Z\" fill=\"#000000\" fill-rule=\"evenodd\" fill-opacity=\"1\" /><path clip-path=\"url(#clip290)\" d=\"M 0 0 M122.751 761.629 L141.107 761.629 L141.107 765.564 L127.033 765.564 L127.033 774.036 Q128.052 773.689 129.07 773.527 Q130.089 773.342 131.107 773.342 Q136.894 773.342 140.274 776.513 Q143.654 779.684 143.654 785.101 Q143.654 790.68 140.181 793.782 Q136.709 796.86 130.39 796.86 Q128.214 796.86 125.945 796.49 Q123.7 796.12 121.293 795.379 L121.293 790.68 Q123.376 791.814 125.598 792.37 Q127.82 792.925 130.297 792.925 Q134.302 792.925 136.64 790.819 Q138.978 788.712 138.978 785.101 Q138.978 781.49 136.64 779.383 Q134.302 777.277 130.297 777.277 Q128.422 777.277 126.547 777.694 Q124.695 778.11 122.751 778.99 L122.751 761.629 Z\" fill=\"#000000\" fill-rule=\"evenodd\" fill-opacity=\"1\" /><path clip-path=\"url(#clip290)\" d=\"M 0 0 M158.723 764.708 Q155.112 764.708 153.283 768.272 Q151.478 771.814 151.478 778.944 Q151.478 786.05 153.283 789.615 Q155.112 793.157 158.723 793.157 Q162.357 793.157 164.163 789.615 Q165.992 786.05 165.992 778.944 Q165.992 771.814 164.163 768.272 Q162.357 764.708 158.723 764.708 M158.723 761.004 Q164.533 761.004 167.589 765.61 Q170.667 770.194 170.667 778.944 Q170.667 787.67 167.589 792.277 Q164.533 796.86 158.723 796.86 Q152.913 796.86 149.834 792.277 Q146.779 787.67 146.779 778.944 Q146.779 770.194 149.834 765.61 Q152.913 761.004 158.723 761.004 Z\" fill=\"#000000\" fill-rule=\"evenodd\" fill-opacity=\"1\" /><path clip-path=\"url(#clip290)\" d=\"M 0 0 M52.5893 719.861 L82.2651 719.861 L82.2651 723.796 L52.5893 723.796 L52.5893 719.861 Z\" fill=\"#000000\" fill-rule=\"evenodd\" fill-opacity=\"1\" /><path clip-path=\"url(#clip290)\" d=\"M 0 0 M97.3345 705.208 Q93.7234 705.208 91.8947 708.773 Q90.0891 712.315 90.0891 719.444 Q90.0891 726.551 91.8947 730.116 Q93.7234 733.657 97.3345 733.657 Q100.969 733.657 102.774 730.116 Q104.603 726.551 104.603 719.444 Q104.603 712.315 102.774 708.773 Q100.969 705.208 97.3345 705.208 M97.3345 701.505 Q103.145 701.505 106.2 706.111 Q109.279 710.694 109.279 719.444 Q109.279 728.171 106.2 732.778 Q103.145 737.361 97.3345 737.361 Q91.5243 737.361 88.4456 732.778 Q85.3901 728.171 85.3901 719.444 Q85.3901 710.694 88.4456 706.111 Q91.5243 701.505 97.3345 701.505 Z\" fill=\"#000000\" fill-rule=\"evenodd\" fill-opacity=\"1\" /><path clip-path=\"url(#clip290)\" d=\"M 0 0 M114.348 730.81 L119.233 730.81 L119.233 736.69 L114.348 736.69 L114.348 730.81 Z\" fill=\"#000000\" fill-rule=\"evenodd\" fill-opacity=\"1\" /><path clip-path=\"url(#clip290)\" d=\"M 0 0 M128.33 732.754 L144.649 732.754 L144.649 736.69 L122.705 736.69 L122.705 732.754 Q125.367 730 129.95 725.37 Q134.556 720.717 135.737 719.375 Q137.982 716.852 138.862 715.116 Q139.765 713.356 139.765 711.667 Q139.765 708.912 137.82 707.176 Q135.899 705.44 132.797 705.44 Q130.598 705.44 128.144 706.204 Q125.714 706.968 122.936 708.518 L122.936 703.796 Q125.76 702.662 128.214 702.083 Q130.668 701.505 132.705 701.505 Q138.075 701.505 141.269 704.19 Q144.464 706.875 144.464 711.366 Q144.464 713.495 143.654 715.417 Q142.867 717.315 140.76 719.907 Q140.181 720.579 137.08 723.796 Q133.978 726.991 128.33 732.754 Z\" fill=\"#000000\" fill-rule=\"evenodd\" fill-opacity=\"1\" /><path clip-path=\"url(#clip290)\" d=\"M 0 0 M149.765 702.13 L168.121 702.13 L168.121 706.065 L154.047 706.065 L154.047 714.537 Q155.066 714.19 156.084 714.028 Q157.103 713.843 158.121 713.843 Q163.908 713.843 167.288 717.014 Q170.667 720.185 170.667 725.602 Q170.667 731.18 167.195 734.282 Q163.723 737.361 157.404 737.361 Q155.228 737.361 152.959 736.991 Q150.714 736.62 148.306 735.879 L148.306 731.18 Q150.39 732.315 152.612 732.87 Q154.834 733.426 157.311 733.426 Q161.316 733.426 163.654 731.319 Q165.992 729.213 165.992 725.602 Q165.992 721.991 163.654 719.884 Q161.316 717.778 157.311 717.778 Q155.436 717.778 153.561 718.194 Q151.709 718.611 149.765 719.491 L149.765 702.13 Z\" fill=\"#000000\" fill-rule=\"evenodd\" fill-opacity=\"1\" /><path clip-path=\"url(#clip290)\" d=\"M 0 0 M94.7419 645.709 Q91.1308 645.709 89.3021 649.274 Q87.4966 652.815 87.4966 659.945 Q87.4966 667.051 89.3021 670.616 Q91.1308 674.158 94.7419 674.158 Q98.3761 674.158 100.182 670.616 Q102.01 667.051 102.01 659.945 Q102.01 652.815 100.182 649.274 Q98.3761 645.709 94.7419 645.709 M94.7419 642.005 Q100.552 642.005 103.608 646.612 Q106.686 651.195 106.686 659.945 Q106.686 668.672 103.608 673.278 Q100.552 677.862 94.7419 677.862 Q88.9317 677.862 85.8531 673.278 Q82.7975 668.672 82.7975 659.945 Q82.7975 651.195 85.8531 646.612 Q88.9317 642.005 94.7419 642.005 Z\" fill=\"#000000\" fill-rule=\"evenodd\" fill-opacity=\"1\" /><path clip-path=\"url(#clip290)\" d=\"M 0 0 M111.756 671.311 L116.64 671.311 L116.64 677.19 L111.756 677.19 L111.756 671.311 Z\" fill=\"#000000\" fill-rule=\"evenodd\" fill-opacity=\"1\" /><path clip-path=\"url(#clip290)\" d=\"M 0 0 M131.709 645.709 Q128.098 645.709 126.27 649.274 Q124.464 652.815 124.464 659.945 Q124.464 667.051 126.27 670.616 Q128.098 674.158 131.709 674.158 Q135.344 674.158 137.149 670.616 Q138.978 667.051 138.978 659.945 Q138.978 652.815 137.149 649.274 Q135.344 645.709 131.709 645.709 M131.709 642.005 Q137.519 642.005 140.575 646.612 Q143.654 651.195 143.654 659.945 Q143.654 668.672 140.575 673.278 Q137.519 677.862 131.709 677.862 Q125.899 677.862 122.82 673.278 Q119.765 668.672 119.765 659.945 Q119.765 651.195 122.82 646.612 Q125.899 642.005 131.709 642.005 Z\" fill=\"#000000\" fill-rule=\"evenodd\" fill-opacity=\"1\" /><path clip-path=\"url(#clip290)\" d=\"M 0 0 M158.723 645.709 Q155.112 645.709 153.283 649.274 Q151.478 652.815 151.478 659.945 Q151.478 667.051 153.283 670.616 Q155.112 674.158 158.723 674.158 Q162.357 674.158 164.163 670.616 Q165.992 667.051 165.992 659.945 Q165.992 652.815 164.163 649.274 Q162.357 645.709 158.723 645.709 M158.723 642.005 Q164.533 642.005 167.589 646.612 Q170.667 651.195 170.667 659.945 Q170.667 668.672 167.589 673.278 Q164.533 677.862 158.723 677.862 Q152.913 677.862 149.834 673.278 Q146.779 668.672 146.779 659.945 Q146.779 651.195 149.834 646.612 Q152.913 642.005 158.723 642.005 Z\" fill=\"#000000\" fill-rule=\"evenodd\" fill-opacity=\"1\" /><path clip-path=\"url(#clip290)\" d=\"M 0 0 M1139.39 545.429 L1147.57 545.429 L1147.57 605.909 L1139.39 605.909 L1139.39 545.429 Z\" fill=\"#000000\" fill-rule=\"evenodd\" fill-opacity=\"1\" /><path clip-path=\"url(#clip290)\" d=\"M 0 0 M1193.1 578.525 L1193.1 605.909 L1185.65 605.909 L1185.65 578.768 Q1185.65 572.327 1183.14 569.127 Q1180.63 565.927 1175.6 565.927 Q1169.57 565.927 1166.08 569.775 Q1162.6 573.624 1162.6 580.267 L1162.6 605.909 L1155.11 605.909 L1155.11 560.539 L1162.6 560.539 L1162.6 567.588 Q1165.27 563.496 1168.88 561.471 Q1172.52 559.445 1177.26 559.445 Q1185.08 559.445 1189.09 564.307 Q1193.1 569.127 1193.1 578.525 Z\" fill=\"#000000\" fill-rule=\"evenodd\" fill-opacity=\"1\" /><path clip-path=\"url(#clip290)\" d=\"M 0 0 M1223.89 542.877 L1223.89 549.075 L1216.76 549.075 Q1212.75 549.075 1211.17 550.696 Q1209.63 552.316 1209.63 556.529 L1209.63 560.539 L1221.91 560.539 L1221.91 566.332 L1209.63 566.332 L1209.63 605.909 L1202.14 605.909 L1202.14 566.332 L1195.01 566.332 L1195.01 560.539 L1202.14 560.539 L1202.14 557.38 Q1202.14 549.804 1205.66 546.361 Q1209.19 542.877 1216.84 542.877 L1223.89 542.877 Z\" fill=\"#000000\" fill-rule=\"evenodd\" fill-opacity=\"1\" /><path clip-path=\"url(#clip290)\" d=\"M 0 0 M1231.71 542.877 L1239.16 542.877 L1239.16 605.909 L1231.71 605.909 L1231.71 542.877 Z\" fill=\"#000000\" fill-rule=\"evenodd\" fill-opacity=\"1\" /><path clip-path=\"url(#clip290)\" d=\"M 0 0 M1267.6 583.103 Q1258.57 583.103 1255.08 585.169 Q1251.6 587.235 1251.6 592.217 Q1251.6 596.187 1254.19 598.537 Q1256.82 600.846 1261.32 600.846 Q1267.52 600.846 1271.25 596.471 Q1275.01 592.055 1275.01 584.764 L1275.01 583.103 L1267.6 583.103 M1282.47 580.024 L1282.47 605.909 L1275.01 605.909 L1275.01 599.023 Q1272.46 603.155 1268.65 605.14 Q1264.84 607.084 1259.34 607.084 Q1252.37 607.084 1248.24 603.195 Q1244.14 599.266 1244.14 592.703 Q1244.14 585.047 1249.25 581.158 Q1254.39 577.269 1264.56 577.269 L1275.01 577.269 L1275.01 576.54 Q1275.01 571.396 1271.61 568.601 Q1268.25 565.765 1262.13 565.765 Q1258.24 565.765 1254.56 566.697 Q1250.87 567.628 1247.47 569.492 L1247.47 562.605 Q1251.56 561.025 1255.41 560.256 Q1259.25 559.445 1262.9 559.445 Q1272.74 559.445 1277.61 564.55 Q1282.47 569.654 1282.47 580.024 Z\" fill=\"#000000\" fill-rule=\"evenodd\" fill-opacity=\"1\" /><path clip-path=\"url(#clip290)\" d=\"M 0 0 M1297.66 547.657 L1297.66 560.539 L1313.01 560.539 L1313.01 566.332 L1297.66 566.332 L1297.66 590.961 Q1297.66 596.511 1299.16 598.091 Q1300.7 599.671 1305.35 599.671 L1313.01 599.671 L1313.01 605.909 L1305.35 605.909 Q1296.73 605.909 1293.44 602.709 Q1290.16 599.468 1290.16 590.961 L1290.16 566.332 L1284.69 566.332 L1284.69 560.539 L1290.16 560.539 L1290.16 547.657 L1297.66 547.657 Z\" fill=\"#000000\" fill-rule=\"evenodd\" fill-opacity=\"1\" /><path clip-path=\"url(#clip290)\" d=\"M 0 0 M1320.83 560.539 L1328.28 560.539 L1328.28 605.909 L1320.83 605.909 L1320.83 560.539 M1320.83 542.877 L1328.28 542.877 L1328.28 552.316 L1320.83 552.316 L1320.83 542.877 Z\" fill=\"#000000\" fill-rule=\"evenodd\" fill-opacity=\"1\" /><path clip-path=\"url(#clip290)\" d=\"M 0 0 M1353.68 565.765 Q1347.69 565.765 1344.2 570.464 Q1340.72 575.122 1340.72 583.265 Q1340.72 591.407 1344.16 596.106 Q1347.65 600.765 1353.68 600.765 Q1359.64 600.765 1363.12 596.066 Q1366.6 591.367 1366.6 583.265 Q1366.6 575.203 1363.12 570.504 Q1359.64 565.765 1353.68 565.765 M1353.68 559.445 Q1363.4 559.445 1368.95 565.765 Q1374.5 572.084 1374.5 583.265 Q1374.5 594.405 1368.95 600.765 Q1363.4 607.084 1353.68 607.084 Q1343.92 607.084 1338.37 600.765 Q1332.86 594.405 1332.86 583.265 Q1332.86 572.084 1338.37 565.765 Q1343.92 559.445 1353.68 559.445 Z\" fill=\"#000000\" fill-rule=\"evenodd\" fill-opacity=\"1\" /><path clip-path=\"url(#clip290)\" d=\"M 0 0 M1420.03 578.525 L1420.03 605.909 L1412.58 605.909 L1412.58 578.768 Q1412.58 572.327 1410.07 569.127 Q1407.56 565.927 1402.54 565.927 Q1396.5 565.927 1393.02 569.775 Q1389.53 573.624 1389.53 580.267 L1389.53 605.909 L1382.04 605.909 L1382.04 560.539 L1389.53 560.539 L1389.53 567.588 Q1392.21 563.496 1395.81 561.471 Q1399.46 559.445 1404.2 559.445 Q1412.01 559.445 1416.02 564.307 Q1420.03 569.127 1420.03 578.525 Z\" fill=\"#000000\" fill-rule=\"evenodd\" fill-opacity=\"1\" /><polyline clip-path=\"url(#clip293)\" style=\"stroke:#009af9; stroke-width:4; stroke-opacity:1; fill:none\" points=\"\n",
       "  267.406,944.728 402.38,894.375 537.354,846.234 672.328,801.654 807.302,761.506 942.276,726.156 1077.25,695.518 1212.22,687.238 1347.2,681.155 1482.17,676.537 \n",
       "  1617.15,673.078 1752.12,670.502 1887.1,668.582 2022.07,667.139 2157.04,666.041 2292.02,665.192 \n",
       "  \"/>\n",
       "<path clip-path=\"url(#clip290)\" d=\"\n",
       "M206.667 1486.45 L2352.76 1486.45 L2352.76 1190.14 L206.667 1190.14  Z\n",
       "  \" fill=\"#ffffff\" fill-rule=\"evenodd\" fill-opacity=\"1\"/>\n",
       "<defs>\n",
       "  <clipPath id=\"clip294\">\n",
       "    <rect x=\"206\" y=\"1190\" width=\"2147\" height=\"297\"/>\n",
       "  </clipPath>\n",
       "</defs>\n",
       "<polyline clip-path=\"url(#clip294)\" style=\"stroke:#000000; stroke-width:2; stroke-opacity:0.1; fill:none\" points=\"\n",
       "  307.592,1486.45 307.592,1190.14 \n",
       "  \"/>\n",
       "<polyline clip-path=\"url(#clip294)\" style=\"stroke:#000000; stroke-width:2; stroke-opacity:0.1; fill:none\" points=\"\n",
       "  838.987,1486.45 838.987,1190.14 \n",
       "  \"/>\n",
       "<polyline clip-path=\"url(#clip294)\" style=\"stroke:#000000; stroke-width:2; stroke-opacity:0.1; fill:none\" points=\"\n",
       "  1370.38,1486.45 1370.38,1190.14 \n",
       "  \"/>\n",
       "<polyline clip-path=\"url(#clip294)\" style=\"stroke:#000000; stroke-width:2; stroke-opacity:0.1; fill:none\" points=\"\n",
       "  1901.77,1486.45 1901.77,1190.14 \n",
       "  \"/>\n",
       "<polyline clip-path=\"url(#clip290)\" style=\"stroke:#000000; stroke-width:4; stroke-opacity:1; fill:none\" points=\"\n",
       "  206.667,1486.45 2352.76,1486.45 \n",
       "  \"/>\n",
       "<polyline clip-path=\"url(#clip290)\" style=\"stroke:#000000; stroke-width:4; stroke-opacity:1; fill:none\" points=\"\n",
       "  307.592,1486.45 307.592,1482.89 \n",
       "  \"/>\n",
       "<polyline clip-path=\"url(#clip290)\" style=\"stroke:#000000; stroke-width:4; stroke-opacity:1; fill:none\" points=\"\n",
       "  838.987,1486.45 838.987,1482.89 \n",
       "  \"/>\n",
       "<polyline clip-path=\"url(#clip290)\" style=\"stroke:#000000; stroke-width:4; stroke-opacity:1; fill:none\" points=\"\n",
       "  1370.38,1486.45 1370.38,1482.89 \n",
       "  \"/>\n",
       "<polyline clip-path=\"url(#clip290)\" style=\"stroke:#000000; stroke-width:4; stroke-opacity:1; fill:none\" points=\"\n",
       "  1901.77,1486.45 1901.77,1482.89 \n",
       "  \"/>\n",
       "<path clip-path=\"url(#clip290)\" d=\"M 0 0 M280.046 1530.29 L309.722 1530.29 L309.722 1534.23 L280.046 1534.23 L280.046 1530.29 Z\" fill=\"#000000\" fill-rule=\"evenodd\" fill-opacity=\"1\" /><path clip-path=\"url(#clip290)\" d=\"M 0 0 M318.819 1543.18 L335.139 1543.18 L335.139 1547.12 L313.194 1547.12 L313.194 1543.18 Q315.856 1540.43 320.44 1535.8 Q325.046 1531.15 326.227 1529.81 Q328.472 1527.28 329.352 1525.55 Q330.254 1523.79 330.254 1522.1 Q330.254 1519.34 328.31 1517.61 Q326.389 1515.87 323.287 1515.87 Q321.088 1515.87 318.634 1516.63 Q316.204 1517.4 313.426 1518.95 L313.426 1514.23 Q316.25 1513.09 318.703 1512.51 Q321.157 1511.93 323.194 1511.93 Q328.565 1511.93 331.759 1514.62 Q334.953 1517.31 334.953 1521.8 Q334.953 1523.93 334.143 1525.85 Q333.356 1527.74 331.25 1530.34 Q330.671 1531.01 327.569 1534.23 Q324.467 1537.42 318.819 1543.18 Z\" fill=\"#000000\" fill-rule=\"evenodd\" fill-opacity=\"1\" /><path clip-path=\"url(#clip290)\" d=\"M 0 0 M838.987 1515.64 Q835.376 1515.64 833.547 1519.2 Q831.741 1522.75 831.741 1529.87 Q831.741 1536.98 833.547 1540.55 Q835.376 1544.09 838.987 1544.09 Q842.621 1544.09 844.426 1540.55 Q846.255 1536.98 846.255 1529.87 Q846.255 1522.75 844.426 1519.2 Q842.621 1515.64 838.987 1515.64 M838.987 1511.93 Q844.797 1511.93 847.852 1516.54 Q850.931 1521.12 850.931 1529.87 Q850.931 1538.6 847.852 1543.21 Q844.797 1547.79 838.987 1547.79 Q833.176 1547.79 830.098 1543.21 Q827.042 1538.6 827.042 1529.87 Q827.042 1521.12 830.098 1516.54 Q833.176 1511.93 838.987 1511.93 Z\" fill=\"#000000\" fill-rule=\"evenodd\" fill-opacity=\"1\" /><path clip-path=\"url(#clip290)\" d=\"M 0 0 M1365.03 1543.18 L1381.35 1543.18 L1381.35 1547.12 L1359.41 1547.12 L1359.41 1543.18 Q1362.07 1540.43 1366.65 1535.8 Q1371.26 1531.15 1372.44 1529.81 Q1374.69 1527.28 1375.57 1525.55 Q1376.47 1523.79 1376.47 1522.1 Q1376.47 1519.34 1374.52 1517.61 Q1372.6 1515.87 1369.5 1515.87 Q1367.3 1515.87 1364.85 1516.63 Q1362.42 1517.4 1359.64 1518.95 L1359.64 1514.23 Q1362.46 1513.09 1364.92 1512.51 Q1367.37 1511.93 1369.41 1511.93 Q1374.78 1511.93 1377.97 1514.62 Q1381.17 1517.31 1381.17 1521.8 Q1381.17 1523.93 1380.36 1525.85 Q1379.57 1527.74 1377.46 1530.34 Q1376.89 1531.01 1373.78 1534.23 Q1370.68 1537.42 1365.03 1543.18 Z\" fill=\"#000000\" fill-rule=\"evenodd\" fill-opacity=\"1\" /><path clip-path=\"url(#clip290)\" d=\"M 0 0 M1904.78 1516.63 L1892.98 1535.08 L1904.78 1535.08 L1904.78 1516.63 M1903.56 1512.56 L1909.44 1512.56 L1909.44 1535.08 L1914.37 1535.08 L1914.37 1538.97 L1909.44 1538.97 L1909.44 1547.12 L1904.78 1547.12 L1904.78 1538.97 L1889.18 1538.97 L1889.18 1534.46 L1903.56 1512.56 Z\" fill=\"#000000\" fill-rule=\"evenodd\" fill-opacity=\"1\" /><polyline clip-path=\"url(#clip294)\" style=\"stroke:#000000; stroke-width:2; stroke-opacity:0.1; fill:none\" points=\"\n",
       "  206.667,1478.06 2352.76,1478.06 \n",
       "  \"/>\n",
       "<polyline clip-path=\"url(#clip294)\" style=\"stroke:#000000; stroke-width:2; stroke-opacity:0.1; fill:none\" points=\"\n",
       "  206.667,1397.67 2352.76,1397.67 \n",
       "  \"/>\n",
       "<polyline clip-path=\"url(#clip294)\" style=\"stroke:#000000; stroke-width:2; stroke-opacity:0.1; fill:none\" points=\"\n",
       "  206.667,1317.27 2352.76,1317.27 \n",
       "  \"/>\n",
       "<polyline clip-path=\"url(#clip294)\" style=\"stroke:#000000; stroke-width:2; stroke-opacity:0.1; fill:none\" points=\"\n",
       "  206.667,1236.88 2352.76,1236.88 \n",
       "  \"/>\n",
       "<polyline clip-path=\"url(#clip290)\" style=\"stroke:#000000; stroke-width:4; stroke-opacity:1; fill:none\" points=\"\n",
       "  206.667,1486.45 206.667,1190.14 \n",
       "  \"/>\n",
       "<polyline clip-path=\"url(#clip290)\" style=\"stroke:#000000; stroke-width:4; stroke-opacity:1; fill:none\" points=\"\n",
       "  206.667,1478.06 232.42,1478.06 \n",
       "  \"/>\n",
       "<polyline clip-path=\"url(#clip290)\" style=\"stroke:#000000; stroke-width:4; stroke-opacity:1; fill:none\" points=\"\n",
       "  206.667,1397.67 232.42,1397.67 \n",
       "  \"/>\n",
       "<polyline clip-path=\"url(#clip290)\" style=\"stroke:#000000; stroke-width:4; stroke-opacity:1; fill:none\" points=\"\n",
       "  206.667,1317.27 232.42,1317.27 \n",
       "  \"/>\n",
       "<polyline clip-path=\"url(#clip290)\" style=\"stroke:#000000; stroke-width:4; stroke-opacity:1; fill:none\" points=\"\n",
       "  206.667,1236.88 232.42,1236.88 \n",
       "  \"/>\n",
       "<path clip-path=\"url(#clip290)\" d=\"M 0 0 M158.723 1463.86 Q155.112 1463.86 153.283 1467.43 Q151.478 1470.97 151.478 1478.1 Q151.478 1485.2 153.283 1488.77 Q155.112 1492.31 158.723 1492.31 Q162.357 1492.31 164.163 1488.77 Q165.992 1485.2 165.992 1478.1 Q165.992 1470.97 164.163 1467.43 Q162.357 1463.86 158.723 1463.86 M158.723 1460.16 Q164.533 1460.16 167.589 1464.76 Q170.667 1469.35 170.667 1478.1 Q170.667 1486.82 167.589 1491.43 Q164.533 1496.01 158.723 1496.01 Q152.913 1496.01 149.834 1491.43 Q146.779 1486.82 146.779 1478.1 Q146.779 1469.35 149.834 1464.76 Q152.913 1460.16 158.723 1460.16 Z\" fill=\"#000000\" fill-rule=\"evenodd\" fill-opacity=\"1\" /><path clip-path=\"url(#clip290)\" d=\"M 0 0 M150.76 1411.01 L158.399 1411.01 L158.399 1384.65 L150.089 1386.31 L150.089 1382.05 L158.353 1380.39 L163.029 1380.39 L163.029 1411.01 L170.667 1411.01 L170.667 1414.95 L150.76 1414.95 L150.76 1411.01 Z\" fill=\"#000000\" fill-rule=\"evenodd\" fill-opacity=\"1\" /><path clip-path=\"url(#clip290)\" d=\"M 0 0 M154.348 1330.62 L170.667 1330.62 L170.667 1334.55 L148.723 1334.55 L148.723 1330.62 Q151.385 1327.86 155.968 1323.23 Q160.575 1318.58 161.755 1317.24 Q164.001 1314.72 164.88 1312.98 Q165.783 1311.22 165.783 1309.53 Q165.783 1306.78 163.839 1305.04 Q161.917 1303.3 158.816 1303.3 Q156.617 1303.3 154.163 1304.07 Q151.732 1304.83 148.955 1306.38 L148.955 1301.66 Q151.779 1300.53 154.232 1299.95 Q156.686 1299.37 158.723 1299.37 Q164.093 1299.37 167.288 1302.05 Q170.482 1304.74 170.482 1309.23 Q170.482 1311.36 169.672 1313.28 Q168.885 1315.18 166.779 1317.77 Q166.2 1318.44 163.098 1321.66 Q159.996 1324.85 154.348 1330.62 Z\" fill=\"#000000\" fill-rule=\"evenodd\" fill-opacity=\"1\" /><path clip-path=\"url(#clip290)\" d=\"M 0 0 M163.538 1235.53 Q166.894 1236.24 168.769 1238.51 Q170.667 1240.78 170.667 1244.11 Q170.667 1249.23 167.149 1252.03 Q163.63 1254.83 157.149 1254.83 Q154.973 1254.83 152.658 1254.39 Q150.367 1253.97 147.913 1253.12 L147.913 1248.6 Q149.857 1249.74 152.172 1250.32 Q154.487 1250.9 157.01 1250.9 Q161.408 1250.9 163.7 1249.16 Q166.015 1247.42 166.015 1244.11 Q166.015 1241.06 163.862 1239.34 Q161.732 1237.61 157.913 1237.61 L153.885 1237.61 L153.885 1233.77 L158.098 1233.77 Q161.547 1233.77 163.376 1232.4 Q165.204 1231.01 165.204 1228.42 Q165.204 1225.76 163.306 1224.34 Q161.431 1222.91 157.913 1222.91 Q155.992 1222.91 153.793 1223.33 Q151.593 1223.74 148.955 1224.62 L148.955 1220.46 Q151.617 1219.71 153.931 1219.34 Q156.269 1218.97 158.33 1218.97 Q163.654 1218.97 166.755 1221.4 Q169.857 1223.81 169.857 1227.93 Q169.857 1230.8 168.214 1232.79 Q166.57 1234.76 163.538 1235.53 Z\" fill=\"#000000\" fill-rule=\"evenodd\" fill-opacity=\"1\" /><path clip-path=\"url(#clip290)\" d=\"M 0 0 M1097.44 1085.49 L1097.44 1108.21 L1107.73 1108.21 Q1113.44 1108.21 1116.56 1105.26 Q1119.68 1102.3 1119.68 1096.83 Q1119.68 1091.4 1116.56 1088.44 Q1113.44 1085.49 1107.73 1085.49 L1097.44 1085.49 M1089.26 1078.76 L1107.73 1078.76 Q1117.9 1078.76 1123.08 1083.38 Q1128.31 1087.96 1128.31 1096.83 Q1128.31 1105.78 1123.08 1110.36 Q1117.9 1114.94 1107.73 1114.94 L1097.44 1114.94 L1097.44 1139.24 L1089.26 1139.24 L1089.26 1078.76 Z\" fill=\"#000000\" fill-rule=\"evenodd\" fill-opacity=\"1\" /><path clip-path=\"url(#clip290)\" d=\"M 0 0 M1150.75 1099.1 Q1144.76 1099.1 1141.27 1103.8 Q1137.79 1108.46 1137.79 1116.6 Q1137.79 1124.74 1141.23 1129.44 Q1144.72 1134.1 1150.75 1134.1 Q1156.71 1134.1 1160.19 1129.4 Q1163.67 1124.7 1163.67 1116.6 Q1163.67 1108.54 1160.19 1103.84 Q1156.71 1099.1 1150.75 1099.1 M1150.75 1092.78 Q1160.47 1092.78 1166.02 1099.1 Q1171.57 1105.42 1171.57 1116.6 Q1171.57 1127.74 1166.02 1134.1 Q1160.47 1140.42 1150.75 1140.42 Q1140.99 1140.42 1135.44 1134.1 Q1129.93 1127.74 1129.93 1116.6 Q1129.93 1105.42 1135.44 1099.1 Q1140.99 1092.78 1150.75 1092.78 Z\" fill=\"#000000\" fill-rule=\"evenodd\" fill-opacity=\"1\" /><path clip-path=\"url(#clip290)\" d=\"M 0 0 M1179.39 1076.21 L1186.84 1076.21 L1186.84 1139.24 L1179.39 1139.24 L1179.39 1076.21 Z\" fill=\"#000000\" fill-rule=\"evenodd\" fill-opacity=\"1\" /><path clip-path=\"url(#clip290)\" d=\"M 0 0 M1194.66 1093.87 L1202.12 1093.87 L1202.12 1139.24 L1194.66 1139.24 L1194.66 1093.87 M1194.66 1076.21 L1202.12 1076.21 L1202.12 1085.65 L1194.66 1085.65 L1194.66 1076.21 Z\" fill=\"#000000\" fill-rule=\"evenodd\" fill-opacity=\"1\" /><path clip-path=\"url(#clip290)\" d=\"M 0 0 M1242.59 1095.61 L1242.59 1102.58 Q1239.43 1100.84 1236.23 1099.99 Q1233.07 1099.1 1229.82 1099.1 Q1222.57 1099.1 1218.56 1103.72 Q1214.55 1108.29 1214.55 1116.6 Q1214.55 1124.9 1218.56 1129.52 Q1222.57 1134.1 1229.82 1134.1 Q1233.07 1134.1 1236.23 1133.25 Q1239.43 1132.36 1242.59 1130.61 L1242.59 1137.5 Q1239.47 1138.96 1236.1 1139.69 Q1232.78 1140.42 1229.01 1140.42 Q1218.77 1140.42 1212.73 1133.98 Q1206.69 1127.54 1206.69 1116.6 Q1206.69 1105.5 1212.77 1099.14 Q1218.89 1092.78 1229.5 1092.78 Q1232.94 1092.78 1236.23 1093.51 Q1239.51 1094.2 1242.59 1095.61 Z\" fill=\"#000000\" fill-rule=\"evenodd\" fill-opacity=\"1\" /><path clip-path=\"url(#clip290)\" d=\"M 0 0 M1269.28 1143.46 Q1266.12 1151.56 1263.12 1154.03 Q1260.13 1156.5 1255.1 1156.5 L1249.15 1156.5 L1249.15 1150.26 L1253.52 1150.26 Q1256.6 1150.26 1258.3 1148.8 Q1260 1147.34 1262.07 1141.92 L1263.41 1138.51 L1245.06 1093.87 L1252.96 1093.87 L1267.13 1129.36 L1281.31 1093.87 L1289.21 1093.87 L1269.28 1143.46 Z\" fill=\"#000000\" fill-rule=\"evenodd\" fill-opacity=\"1\" /><path clip-path=\"url(#clip290)\" d=\"M 0 0 M1349.69 1100.84 Q1348.44 1100.11 1346.94 1099.79 Q1345.48 1099.42 1343.7 1099.42 Q1337.38 1099.42 1333.97 1103.55 Q1330.61 1107.65 1330.61 1115.34 L1330.61 1139.24 L1323.12 1139.24 L1323.12 1093.87 L1330.61 1093.87 L1330.61 1100.92 Q1332.96 1096.79 1336.73 1094.8 Q1340.5 1092.78 1345.88 1092.78 Q1346.65 1092.78 1347.58 1092.9 Q1348.52 1092.98 1349.65 1093.18 L1349.69 1100.84 Z\" fill=\"#000000\" fill-rule=\"evenodd\" fill-opacity=\"1\" /><path clip-path=\"url(#clip290)\" d=\"M 0 0 M1378.13 1116.44 Q1369.09 1116.44 1365.61 1118.5 Q1362.13 1120.57 1362.13 1125.55 Q1362.13 1129.52 1364.72 1131.87 Q1367.35 1134.18 1371.85 1134.18 Q1378.05 1134.18 1381.77 1129.8 Q1385.54 1125.39 1385.54 1118.1 L1385.54 1116.44 L1378.13 1116.44 M1393 1113.36 L1393 1139.24 L1385.54 1139.24 L1385.54 1132.36 Q1382.99 1136.49 1379.18 1138.47 Q1375.37 1140.42 1369.86 1140.42 Q1362.9 1140.42 1358.77 1136.53 Q1354.67 1132.6 1354.67 1126.04 Q1354.67 1118.38 1359.78 1114.49 Q1364.92 1110.6 1375.09 1110.6 L1385.54 1110.6 L1385.54 1109.87 Q1385.54 1104.73 1382.14 1101.93 Q1378.78 1099.1 1372.66 1099.1 Q1368.77 1099.1 1365.08 1100.03 Q1361.4 1100.96 1358 1102.83 L1358 1095.94 Q1362.09 1094.36 1365.94 1093.59 Q1369.78 1092.78 1373.43 1092.78 Q1383.27 1092.78 1388.13 1097.88 Q1393 1102.99 1393 1113.36 Z\" fill=\"#000000\" fill-rule=\"evenodd\" fill-opacity=\"1\" /><path clip-path=\"url(#clip290)\" d=\"M 0 0 M1408.19 1080.99 L1408.19 1093.87 L1423.54 1093.87 L1423.54 1099.67 L1408.19 1099.67 L1408.19 1124.29 Q1408.19 1129.84 1409.68 1131.42 Q1411.22 1133 1415.88 1133 L1423.54 1133 L1423.54 1139.24 L1415.88 1139.24 Q1407.25 1139.24 1403.97 1136.04 Q1400.69 1132.8 1400.69 1124.29 L1400.69 1099.67 L1395.22 1099.67 L1395.22 1093.87 L1400.69 1093.87 L1400.69 1080.99 L1408.19 1080.99 Z\" fill=\"#000000\" fill-rule=\"evenodd\" fill-opacity=\"1\" /><path clip-path=\"url(#clip290)\" d=\"M 0 0 M1470.16 1114.69 L1470.16 1118.34 L1435.89 1118.34 Q1436.38 1126.04 1440.51 1130.09 Q1444.68 1134.1 1452.1 1134.1 Q1456.39 1134.1 1460.4 1133.04 Q1464.45 1131.99 1468.42 1129.89 L1468.42 1136.93 Q1464.41 1138.64 1460.2 1139.53 Q1455.99 1140.42 1451.65 1140.42 Q1440.8 1140.42 1434.44 1134.1 Q1428.12 1127.78 1428.12 1117 Q1428.12 1105.86 1434.11 1099.34 Q1440.15 1092.78 1450.36 1092.78 Q1459.51 1092.78 1464.82 1098.69 Q1470.16 1104.57 1470.16 1114.69 M1462.71 1112.51 Q1462.63 1106.39 1459.27 1102.74 Q1455.95 1099.1 1450.44 1099.1 Q1444.2 1099.1 1440.43 1102.62 Q1436.7 1106.15 1436.14 1112.55 L1462.71 1112.51 Z\" fill=\"#000000\" fill-rule=\"evenodd\" fill-opacity=\"1\" /><polyline clip-path=\"url(#clip294)\" style=\"stroke:#009af9; stroke-width:4; stroke-opacity:1; fill:none\" points=\"\n",
       "  267.406,1478.06 402.38,1478.06 537.354,1478.06 672.328,1478.06 807.302,1478.06 942.276,1478.06 1077.25,1478.06 1212.22,1438.03 1347.2,1401.24 1482.17,1367.75 \n",
       "  1617.15,1336.74 1752.12,1307.46 1887.1,1279.36 2022.07,1252.02 2157.04,1225.13 2292.02,1198.52 \n",
       "  \"/>\n",
       "</svg>\n"
      ]
     },
     "execution_count": 55,
     "metadata": {},
     "output_type": "execute_result"
    }
   ],
   "source": [
    "# plot(Gg[stg:edg],ymat0[stg:edg,idu],title=\"Output\",legend=false,ylims=(-8,2))\n",
    "plot(\n",
    "    plot(Gg[stg:edg],ymat0[stg:edg,idu],title=\"Output\",legend=false),\n",
    "    plot(Gg[stg:edg],4*pmat0[stg:edg,idu],title=\"Inflation\",legend=false),\n",
    "    plot(Gg[stg:edg],4*rmat0[stg:edg,idu],title=\"Policy rate\",legend=false),\n",
    "    layout=(3,1),size=(600,400))"
   ]
  },
  {
   "cell_type": "markdown",
   "metadata": {
    "slideshow": {
     "slide_type": "slide"
    }
   },
   "source": [
    "# 非線形モデル\n",
    "\n",
    "- これまでは均衡条件を対数線形近似したモデルでゼロ金利制約による非線形性を考慮してきた\n",
    "\n",
    "- しかし、元の均衡条件は非線形であり、そのような非線形の均衡条件とゼロ金利制約を合わせて考えることももちろん可能である\n",
    "\n",
    "- ここでは、最終財生産企業と中間財生産企業、家計、政府からなるニューケインジアンモデルを考える\n",
    "  - 価格の硬直性について、Rotemberg(1982)型のインフレ率の定常状態からの乖離の2乗に比例する調整費用を考える"
   ]
  },
  {
   "cell_type": "markdown",
   "metadata": {
    "slideshow": {
     "slide_type": "subslide"
    }
   },
   "source": [
    "## 最終財生産企業\n",
    "\n",
    "- 最終財生産企業は、異なる中間財$Y_{t}(j), j \\in [0,1]$を用いて、最終財を生産する\n",
    "\n",
    "\n",
    "$$\n",
    "  Y_{t} = \\left( \\int_{0}^{1} Y_{t}(j)^{1-\\nu}dj \\right)^{\\frac{1}{1-\\nu}}\n",
    "$$\n",
    "\n",
    "ここで、$\\nu$は需要の価格弾力性の逆数である"
   ]
  },
  {
   "cell_type": "markdown",
   "metadata": {
    "slideshow": {
     "slide_type": "subslide"
    }
   },
   "source": [
    "- 利潤最大化あるいは費用最小化により、以下の需要曲線を得る\n",
    "\n",
    "$$\n",
    "  Y_{t}(j) = \\left(\\frac{P_{t}(j)}{P_{t}}\\right)^{-1/\\nu} Y_{t}\n",
    "$$\n",
    "\n",
    "$P_{t}(j)$は中間投入$Y_{t}(j)$の価格である。また、一般価格水準は$P_{t}=\\left( \\int_{0}^{1} P_{t}(j)^{\\frac{\\nu-1}{\\nu}}dj \\right)^{\\frac{\\nu}{\\nu-1}}$と表される"
   ]
  },
  {
   "cell_type": "markdown",
   "metadata": {
    "slideshow": {
     "slide_type": "subslide"
    }
   },
   "source": [
    "## 中間財生産企業\n",
    "\n",
    "- それぞれの中間財生産企業は、$Y_{t}(j)$を独占競争下で生産し、2次の価格調整コストの下で価格を設定する\n",
    "\n",
    "- 生産関数は以下で与えられる\n",
    "$$\n",
    "  Y_{t}(j) = A_{t}N_{t}(j)\n",
    "$$\n",
    "  - $A_{t}$: 全要素生産性\n",
    "  - $N_{t}(j)$: 労働投入"
   ]
  },
  {
   "cell_type": "markdown",
   "metadata": {
    "slideshow": {
     "slide_type": "subslide"
    }
   },
   "source": [
    "- $A_{t}$の成長率は、\n",
    "\n",
    "$$\n",
    "  \\gamma_{t} \\equiv \\ln(A_{t}/A_{t-1})=\\gamma+z_{t}\n",
    "$$\n",
    "\n",
    "のように確定的なトレンド$\\gamma$とトレンドに対するショック$z_{t}$に分解できる\n",
    "\n",
    "- $z_{t}$は、AR(1)過程$z_{t} = \\rho_{z} z_{t-1} + \\varepsilon_{z,t}, \\varepsilon_{z,t} \\sim N(0,\\sigma_{z}^{2})$に従う\n",
    " "
   ]
  },
  {
   "cell_type": "markdown",
   "metadata": {
    "slideshow": {
     "slide_type": "subslide"
    }
   },
   "source": [
    "- 中間財$j$を生産する企業は、その企業自身の生産関数と、最終財生産企業からの需要関数を制約条件として、以下の将来の期待利益の割引現在価値を最大化するように中間財価格$P_{t}(j)$を選ぶ\n",
    "$$\n",
    "  \\mathbb{E}_{t} \\left[ \\sum_{s=0}^{\\infty} \\beta^{s}Q_{t+s|t} \\left( \\frac{P_{t+s}(j)}{P_{t+s}}Y_{t+s}(j)-W_{t+s}N_{t+s}(j)-AC_{t+s}(j) \\right) \\right]\n",
    "$$\n",
    "ここで、$\\beta^{s}Q_{t+s|t}=\\beta^{s}(C_{t+s}/C_{t})^{-\\tau}(A_{t}/A_{t+s})^{1-\\tau}$は確率的割引因子と呼ばれ、家計のオイラー方程式から導出される\n",
    "  - $\\beta$: 主観的割引因子\n",
    "  - $\\tau$: リスク回避度に関するパラメータ\n",
    "  - $C_{t}$: 総消費"
   ]
  },
  {
   "cell_type": "markdown",
   "metadata": {
    "slideshow": {
     "slide_type": "fragment"
    }
   },
   "source": [
    "- 価格の調整費用は、Rotemberg(1982)に従い、\n",
    "$$\n",
    "  AC_{t}(j) = \\frac{\\phi}{2}\\left( \\frac{P_{t}(j)}{P_{t-1}(j)}-\\Pi \\right)^{2}Y_{t}(j)\n",
    "$$\n",
    "として定式化される\n",
    "  - $\\phi$: 調整費用の大きさに関するパラメータ\n",
    "  - $\\Pi$: 定常状態での粗インフレ率\n",
    "  - $W_{t}$: 実質賃金率"
   ]
  },
  {
   "cell_type": "markdown",
   "metadata": {
    "slideshow": {
     "slide_type": "subslide"
    }
   },
   "source": [
    "- $P_{t}(j)$について微分し整理することで、最適化の必要条件は以下の式で与えられる\n",
    "\n",
    "\\begin{align*}\n",
    " & (1-\\nu^{-1})\\left(\\frac{P_{t}(j)}{P_{t}}\\right)^{-1/\\nu}\\frac{Y_{t}}{P_{t}}+\\nu^{-1}\\frac{W_{t}}{A_{t}}\\left(\\frac{P_{t}(j)}{P_{t}}\\right)^{-1/\\nu-1}\\frac{Y_{t}}{P_{t}} \\\\\n",
    " & -\\frac{\\partial AC_{t}(j)}{\\partial P_{t}(j)}-\\beta\\mathbb{E}_{t}Q_{t+1|t}\\frac{\\partial AC_{t+1}(j)}{\\partial P_{t}(j)}=0\n",
    "\\end{align*}"
   ]
  },
  {
   "cell_type": "markdown",
   "metadata": {
    "slideshow": {
     "slide_type": "subslide"
    }
   },
   "source": [
    "## 家計\n",
    "\n",
    "- 代表的家計は、以下の効用最大化問題を解く\n",
    "$$\n",
    "  \\mathbb{E}_{t} \\left[ \\sum_{s=0}^{\\infty} \\beta^{s}\\left( \\frac{(C_{t+s}/A_{t+s})^{1-\\tau}-1}{1-\\tau} - \\chi_{H}H_{t+s} \\right) \\right]\n",
    "$$\n",
    "subject to\n",
    "$$\n",
    "  P_{t}C_{t} + B_{t} + T_{t} = P_{t}W_{t}H_{t} + R_{n,t-1}B_{t-1} + P_{t}D_{t} + P_{t}SC_{t}\n",
    "$$\n",
    "  - $\\chi_{H}$: 労働による不効用の効用全体に対するウェイト\n",
    "  - $B_{t}$: $t$期末における債券の保有量、\n",
    "  - $H_{t}$: 総労働供給、\n",
    "  - $T_{t}$: 所得移転、\n",
    "  - $R_{n,t}$: 名目金利を\\textbf{粗利(gross)}で表したもの\n",
    "  - $D_{t}$: 家計が保有する中間財生産企業からの配当\n",
    "  - $SC_{t}$: 状態依存型証券を取引することで得られる純キャッシュフロー\n"
   ]
  },
  {
   "cell_type": "markdown",
   "metadata": {
    "slideshow": {
     "slide_type": "subslide"
    }
   },
   "source": [
    "- 最適化の必要条件は以下の式で与えられる\n",
    "\n",
    "\\begin{align*}\n",
    " & 1=\\beta\\mathbb{E}_{t}\\left[\\left(\\frac{C_{t+1}/C_{t}}{A_{t+1}/A_{t}}\\right)^{-\\tau}\\frac{A_{t}}{A_{t+1}}\\frac{R_{n,t}}{\\Pi_{t+1}}\\right] \\\\\n",
    " & \\frac{W_{t}}{A_{t}}=\\chi_{H}\\left(\\frac{C_{t}}{A_{t}}\\right)^{\\tau}\n",
    "\\end{align*}\n",
    "ここで、$\\Pi_{t}=P_{t}/P_{t-1}$は粗インフレ率"
   ]
  },
  {
   "cell_type": "markdown",
   "metadata": {
    "slideshow": {
     "slide_type": "subslide"
    }
   },
   "source": [
    "## モデルを閉じる\n",
    "\n",
    "- 金融政策ルールは以下の形をとる\n",
    "$$\n",
    "  R_{n,t} = \\left( R\\Pi^{*}\\left(\\frac{\\Pi_{t}}{\\Pi^{*}}\\right)^{\\psi_{1}}\\left(\\frac{Y_{t}}{Y_{t}^{*}}\\right)^{\\psi_{2}} \\right)^{1-\\rho_{R}} R_{n,t-1}^{\\rho_{R}} \\exp(\\varepsilon_{R,t})\n",
    "$$\n",
    "  - $R$: 定常状態の実質利子率\n",
    "  - $\\Pi^{*}$: 目標インフレ率\n",
    "  - $\\varepsilon_{R,t} \\sim N(0,\\sigma_{R}^{2})$: 金融政策ショック \n",
    "  - $Y_{t}^{*}=(1-\\nu)^{1/\\tau}A_{t}\\exp(g_{t})$: 自然産出量（$\\phi=0$のときの$Y_{t}$の水準）"
   ]
  },
  {
   "cell_type": "markdown",
   "metadata": {
    "slideshow": {
     "slide_type": "subslide"
    }
   },
   "source": [
    "- 財政支出は、$G_{t}=(1-\\exp(-g_{t}))Y_{t}$で与えられる。ここで、\n",
    "\n",
    "$$\n",
    "  g_{t} = (1-\\rho_{g})g + \\rho_{g}g_{t-1} + \\varepsilon_{g,t}, \\quad \\varepsilon_{g,t} \\sim N(0,\\sigma_{g}^{2})\n",
    "$$"
   ]
  },
  {
   "cell_type": "markdown",
   "metadata": {
    "slideshow": {
     "slide_type": "fragment"
    }
   },
   "source": [
    "- 全ての中間財生産企業が同じ決定をする対象均衡に着目する（添字$j$は省略）\n",
    "\n",
    "- 市場清算条件は以下で与えられる\n",
    "\n",
    "\\begin{align*}\n",
    "  C_{t} + G_{t} + AC_{t} &= Y_{t} \\\\\n",
    "  H_{t} &= N_{t}\n",
    "\\end{align*}"
   ]
  },
  {
   "cell_type": "markdown",
   "metadata": {
    "slideshow": {
     "slide_type": "subslide"
    }
   },
   "source": [
    "- $(Y_{t},Y_{t}^{*},C_{t})$は共通のトレンド$A_{t}$を持つことから、$\\tilde{Y}_{t}=Y_{t}/A_{t}, \\tilde{Y}_{t}^{*}=Y_{t}^{*}/A_{t}, \\tilde{C}_{t}=C_{t}/A_{t}$のようにトレンドを除去する\n",
    "\n",
    "- 結果として、均衡条件は以下で与えられる\n",
    "\n",
    "\\begin{align*}\n",
    " & \\tilde{C}_{t}^{-\\tau}=\\beta R_{n,t}\\mathbb{E}_{t}\\left[\\frac{\\tilde{C}_{t+1}^{-\\tau}}{\\exp(\\gamma_{t+1})\\Pi_{t+1}}\\right] \\tag{4} \\\\\n",
    " & 0=\\left((1-\\nu^{-1})+\\nu^{-1}\\tilde{C}_{t}^{\\tau}-\\phi\\left(\\Pi_{t}-\\bar{\\Pi}\\right)\\left[\\Pi_{t}-\\frac{1}{2\\nu}\\left(\\Pi_{t}-\\bar{\\Pi}\\right)\\right]\\right)\\tilde{C}_{t}^{-\\tau}\\tilde{Y}_{t} \\\\\n",
    " & +\\beta\\phi\\mathbb{E}_{t}\\left[\\tilde{C}_{t+1}^{-\\tau}\\tilde{Y}_{t+1}\\left(\\Pi_{t+1}-\\bar{\\Pi}\\right)\\Pi_{t+1}\\right] \\tag{5} \\\\\n",
    " & \\tilde{C}_{t}+\\frac{\\phi}{2}\\left(\\Pi_{t}-\\Pi\\right)^{2}\\tilde{Y}_{t}=\\exp(-g_{t})\\tilde{Y}_{t} \\tag{6} \\\\\n",
    " & R_{n,t}^{*}=\\left(R^{*}\\bar{\\Pi}\\left(\\frac{\\Pi}{\\bar{\\Pi}}\\right)^{\\psi_{1}}\\left(\\frac{\\tilde{Y}_{t}}{\\tilde{Y}_{t}^{*}}\\right)^{\\psi_{2}}\\right)^{1-\\rho_{R}}R_{n,t-1}^{*\\rho_{R}}\\exp(\\varepsilon_{R,t}) \\tag{7} \\\\\n",
    " & R_{n,t}=\\max\\left\\{ R_{n,t}^{*},1\\right\\} \\tag{8}\n",
    "\\end{align*}\n",
    "これらの4つの式は、消費のオイラー方程式、ニューケインジアン・フィリップス曲線、経済の資源制約、そしてテイラー型の金融政策ルールである。\n",
    "$R_{n,t}^{*}$はシャドーレートである。$R_{n,t}$はゼロ金利制約から1以上となる(純利に直すと0以上となる)。\n"
   ]
  },
  {
   "cell_type": "markdown",
   "metadata": {
    "slideshow": {
     "slide_type": "subslide"
    }
   },
   "source": [
    "- これらの非線形の均衡条件にも、時間反復法を適用できる\n",
    "\n",
    "- 前節までの準線形モデルと比べて、ゼロ金利制約以外の非線形性を考慮した場合、モデルの政策関数は特に定常状態から大きく離れたところでは異なり得る\n",
    "\n",
    "- また、非線形の均衡条件を対数線形近似することで、(1)-(3)式に近い式を求めることができる"
   ]
  }
 ],
 "metadata": {
  "celltoolbar": "Slideshow",
  "kernelspec": {
   "display_name": "Julia 1.5.3",
   "language": "julia",
   "name": "julia-1.5"
  },
  "language_info": {
   "file_extension": ".jl",
   "mimetype": "application/julia",
   "name": "julia",
   "version": "1.5.3"
  }
 },
 "nbformat": 4,
 "nbformat_minor": 4
}
