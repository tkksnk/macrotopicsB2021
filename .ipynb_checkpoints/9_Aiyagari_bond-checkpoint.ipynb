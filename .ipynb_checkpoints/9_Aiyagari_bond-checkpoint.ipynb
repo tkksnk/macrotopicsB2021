{
 "cells": [
  {
   "cell_type": "code",
   "execution_count": 1,
   "metadata": {},
   "outputs": [],
   "source": [
    "# from numba import njit # use numba for speedup\n",
    "import numpy as np\n",
    "import matplotlib.pyplot as plt\n",
    "import time"
   ]
  },
  {
   "cell_type": "code",
   "execution_count": 2,
   "metadata": {},
   "outputs": [],
   "source": [
    "# @njit\n",
    "def vfi(vmat0,bgrid,Ge,Pe,β,σ,q):\n",
    "\n",
    "    ne = np.shape(vmat0)[0]\n",
    "    nb = np.shape(vmat0)[1]\n",
    "\n",
    "    # 0. construct the current utility\n",
    "    umat = np.zeros((ne,nb,nb))\n",
    "    for ie in range(ne):\n",
    "        enow = Ge[ie]\n",
    "        for ib in range(nb):\n",
    "            for jb in range(nb):\n",
    "                bnow = bgrid[ib]\n",
    "                yterm = bnow + enow\n",
    "                bp = bgrid[jb]\n",
    "                cnow = yterm-q*bp\n",
    "                if cnow>0:\n",
    "                    # if c >0, the utility value is log(c)\n",
    "                    umat[ie,ib,jb] = np.log(cnow)\n",
    "#                     umat[ie,ib,jb] = (cnow**(1-σ)-1)/(1-σ)\n",
    "                else:\n",
    "                    # if c<=0, the utility value is set so that the index j is never chosen. \n",
    "                    umat[ie,ib,jb] = -1e+10        \n",
    "    \n",
    "    gmat0 = np.zeros((ne,nb),dtype=int)     # policy function\n",
    "    vmat1 = np.zeros((ne,nb))     # new value function\n",
    "\n",
    "    diff = 1e+4\n",
    "    it = 0 # counter\n",
    "\n",
    "    while diff>1e-7: # while loop until the condition diff>1e-4 met\n",
    "\n",
    "        for ie in range(ne): # for each ie=0,1\n",
    "            # 1-1. compute the expected value function in the next period\n",
    "            vvec0 = Pe[ie,0]*vmat0[0,:] + Pe[ie,1]*vmat0[1,:]\n",
    "            \n",
    "            for ib in range(nb): # for each ib=0,...,nb-1\n",
    "                # 1-2. find the index j so as to maximize the value function\n",
    "                jb = np.argmax(umat[ie,ib,:] + β*vvec0)\n",
    "                vmat1[ie,ib] = umat[ie,ib,jb] + β*vvec0[jb] # V*(b)\n",
    "                gmat0[ie,ib] = jb #bgrid[jb]                # g(b)\n",
    "\n",
    "        diff  = np.max(np.abs(vmat1-vmat0)) # the condition for convergence\n",
    "#         print(np.array([it,diff]))\n",
    "        # 2. update the value function       \n",
    "        vmat0 = np.copy(vmat1)\n",
    "        \n",
    "    return vmat0, gmat0"
   ]
  },
  {
   "cell_type": "code",
   "execution_count": 3,
   "metadata": {},
   "outputs": [],
   "source": [
    "# transition matrix\n",
    "# @njit\n",
    "def transition_matrix(gmat0,Pe):\n",
    "\n",
    "    ne = np.shape(gmat0)[0]\n",
    "    nb = np.shape(gmat0)[1]\n",
    "    AA = np.zeros((ne*nb,ne*nb))\n",
    "\n",
    "    for ie in range(ne):\n",
    "\n",
    "        for ib in range(nb):\n",
    "\n",
    "            jb = int(gmat0[ie,ib])\n",
    "\n",
    "            for je in range(ne):\n",
    "\n",
    "                ia = nb*ie+ib\n",
    "                ja = nb*je+jb\n",
    "                AA[ia,ja] = Pe[ie,je]\n",
    "                \n",
    "    return AA"
   ]
  },
  {
   "cell_type": "code",
   "execution_count": 4,
   "metadata": {},
   "outputs": [],
   "source": [
    "# distribution\n",
    "# @njit\n",
    "def dist_iter(mu0,AA):\n",
    "\n",
    "    ne = np.shape(mu0)[0]\n",
    "    nb = np.shape(mu0)[1]    \n",
    "    dist   = np.zeros(2*nb)\n",
    "    mu1    = np.zeros((ne,nb))\n",
    "\n",
    "    diffmu = 1e+4\n",
    "    \n",
    "    while diffmu>1e-14:\n",
    "\n",
    "        dist[0:nb]    = mu0[0,:]\n",
    "        dist[nb:2*nb] = mu0[1,:]\n",
    "        dist = AA.T@dist\n",
    "        mu1[0,:] = dist[0:nb]\n",
    "        mu1[1,:] = dist[nb:2*nb]\n",
    "\n",
    "        diffmu = np.max(np.abs(mu1-mu0))\n",
    "#         print(diffmu)\n",
    "        mu0  = mu1/np.sum(mu1)\n",
    "\n",
    "    return mu0"
   ]
  },
  {
   "cell_type": "code",
   "execution_count": 5,
   "metadata": {},
   "outputs": [],
   "source": [
    "# setup\n",
    "# parameter values\n",
    "β  = 0.96 #0.993\n",
    "σ  = 1.0 #1.5\n",
    "μ  = 0.1 # unemployment insurance\n",
    "pee = 0.925\n",
    "puu = 0.5\n",
    "ϕ   = 2 #μ/(1-β) # borrowing constraint\n",
    "\n",
    "# set grid\n",
    "nb = 1001;\n",
    "bmin = -ϕ\n",
    "bmax = 12.0\n",
    "bgrid = np.linspace(bmin,bmax,nb)\n",
    "\n",
    "ne = 2\n",
    "Ge = np.array([1.0,μ]) \n",
    "Pe = np.array([[pee,1-pee],\n",
    "    [1-puu,puu]])"
   ]
  },
  {
   "cell_type": "code",
   "execution_count": 13,
   "metadata": {},
   "outputs": [
    {
     "data": {
      "text/plain": [
       "[<matplotlib.lines.Line2D at 0x7fccd464f5d0>]"
      ]
     },
     "execution_count": 13,
     "metadata": {},
     "output_type": "execute_result"
    },
    {
     "data": {
      "image/png": "[encoded data removed]",
      "text/plain": [
       "<Figure size 432x288 with 1 Axes>"
      ]
     },
     "metadata": {
      "needs_background": "light"
     },
     "output_type": "display_data"
    }
   ],
   "source": [
    "# 2\n",
    "q = 0.96\n",
    "vmat0 = np.zeros((ne,nb))      # initial (old) value function\n",
    "vmat0[0,:] = np.log(0.5*Ge[0])/(1-β)\n",
    "vmat0[1,:] = np.log(0.5*Ge[1])/(1-β)\n",
    "vmat0, gmat0 = vfi(vmat0,bgrid,Ge,Pe,β,σ,q)\n",
    "\n",
    "plt.plot(bgrid,bgrid[gmat0[0,:]]-bgrid)"
   ]
  },
  {
   "cell_type": "code",
   "execution_count": 8,
   "metadata": {},
   "outputs": [
    {
     "data": {
      "text/plain": [
       "[<matplotlib.lines.Line2D at 0x7fccd4781610>]"
      ]
     },
     "execution_count": 8,
     "metadata": {},
     "output_type": "execute_result"
    },
    {
     "data": {
      "image/png": "[encoded data removed]",
      "text/plain": [
       "<Figure size 432x288 with 1 Axes>"
      ]
     },
     "metadata": {
      "needs_background": "light"
     },
     "output_type": "display_data"
    }
   ],
   "source": [
    "# 3\n",
    "lambda0 = np.ones((ne,nb))/(ne*nb)\n",
    "AA      = transition_matrix(gmat0,Pe)  # transition matrix\n",
    "lambda0 = dist_iter(lambda0,AA)        # stationary distribution\n",
    "\n",
    "plt.plot(bgrid,lambda0[1,:])"
   ]
  },
  {
   "cell_type": "code",
   "execution_count": 9,
   "metadata": {},
   "outputs": [
    {
     "name": "stdout",
     "output_type": "stream",
     "text": [
      "[0.96       7.90325303]\n"
     ]
    }
   ],
   "source": [
    "# 4\n",
    "z = np.sum(lambda0*bgrid[gmat0])\n",
    "print(np.array([q,z]))"
   ]
  },
  {
   "cell_type": "code",
   "execution_count": 11,
   "metadata": {},
   "outputs": [
    {
     "name": "stdout",
     "output_type": "stream",
     "text": [
      "9.843145847320557\n",
      "[0.96       7.90325303]\n",
      "8.999297142028809\n",
      "[0.965      1.53501705]\n",
      "8.992516040802002\n",
      "[0.97       0.45038705]\n",
      "8.938863754272461\n",
      "[ 0.975      -0.07707233]\n",
      "9.148889303207397\n",
      "[ 0.98      -0.4111963]\n",
      "9.496395349502563\n",
      "[ 0.985      -0.65274025]\n",
      "8.931995153427124\n",
      "[ 0.99       -0.83512701]\n"
     ]
    },
    {
     "data": {
      "text/plain": [
       "[<matplotlib.lines.Line2D at 0x7fccd4703710>]"
      ]
     },
     "execution_count": 11,
     "metadata": {},
     "output_type": "execute_result"
    },
    {
     "data": {
      "image/png": "[encoded data removed]",
      "text/plain": [
       "<Figure size 432x288 with 1 Axes>"
      ]
     },
     "metadata": {
      "needs_background": "light"
     },
     "output_type": "display_data"
    }
   ],
   "source": [
    "# 5\n",
    "qvec = np.linspace(0.96,0.99,7)\n",
    "zvec = np.zeros(7)\n",
    "\n",
    "for i in range(7):\n",
    "\n",
    "    q = qvec[i]\n",
    "\n",
    "    vmat0 = np.zeros((ne,nb))      # initial (old) value function\n",
    "    vmat0[0,:] = np.log(0.5*Ge[0])/(1-β)\n",
    "    vmat0[1,:] = np.log(0.5*Ge[1])/(1-β)\n",
    "    lambda0 = np.ones((ne,nb))/(ne*nb)\n",
    "    \n",
    "    start = time.time()\n",
    "    vmat0, gmat0 = vfi(vmat0,bgrid,Ge,Pe,β,σ,q) # value function iteration\n",
    "    AA           = transition_matrix(gmat0,Pe)  # transition matrix\n",
    "    lambda0      = dist_iter(lambda0,AA)        # stationary distribution\n",
    "    z = np.sum(lambda0*bgrid[gmat0])\n",
    "    eptime = time.time()-start\n",
    "\n",
    "    print(eptime)\n",
    "    zvec[i] = z\n",
    "    print(np.array([q,z]))\n",
    "    \n",
    "plt.plot(qvec,zvec)"
   ]
  },
  {
   "cell_type": "code",
   "execution_count": null,
   "metadata": {},
   "outputs": [],
   "source": [
    "# @njit\n",
    "def findq(vmat0,lambda0,bgrid,Ge,Pe,β,σ,q):\n",
    "\n",
    "    vmat0, gmat0 = vfi(vmat0,bgrid,Ge,Pe,β,σ,q) # value function iteration\n",
    "    AA           = transition_matrix(gmat0,Pe)  # transition matrix\n",
    "    lambda0      = dist_iter(lambda0,AA)        # stationary distribution\n",
    "\n",
    "    z = np.sum(lambda0*bgrid[gmat0])\n",
    "    \n",
    "    print(np.array([q,z]))\n",
    "    \n",
    "    return z"
   ]
  },
  {
   "cell_type": "code",
   "execution_count": null,
   "metadata": {},
   "outputs": [],
   "source": [
    "from scipy.optimize import bisect\n",
    "from functools import partial\n",
    "\n",
    "vmat0 = np.zeros((ne,nb))      # initial (old) value function\n",
    "vmat0[0,:] = np.log(0.5*Ge[0])/(1-β)\n",
    "vmat0[1,:] = np.log(0.5*Ge[1])/(1-β)\n",
    "lambda0 = np.ones((ne,nb))/(ne*nb)\n",
    "\n",
    "findq_partial = partial(findq,vmat0,lambda0,bgrid,Ge,Pe,β,σ)\n",
    "qmin = 0.96\n",
    "qmax = 0.99\n",
    "q = bisect(findq_partial,qmin,qmax,xtol=1e-4)\n",
    "print(q)\n",
    "\n",
    "# check\n",
    "z = findq(vmat0,lambda0,bgrid,Ge,Pe,β,σ,q)\n",
    "print(z)"
   ]
  },
  {
   "cell_type": "code",
   "execution_count": null,
   "metadata": {},
   "outputs": [],
   "source": []
  }
 ],
 "metadata": {
  "@webio": {
   "lastCommId": null,
   "lastKernelId": null
  },
  "kernelspec": {
   "display_name": "Python 3",
   "language": "python",
   "name": "python3"
  },
  "language_info": {
   "codemirror_mode": {
    "name": "ipython",
    "version": 3
   },
   "file_extension": ".py",
   "mimetype": "text/x-python",
   "name": "python",
   "nbconvert_exporter": "python",
   "pygments_lexer": "ipython3",
   "version": "3.7.6"
  }
 },
 "nbformat": 4,
 "nbformat_minor": 2
}
