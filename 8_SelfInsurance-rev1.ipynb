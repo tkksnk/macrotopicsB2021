{
 "cells": [
  {
   "cell_type": "markdown",
   "metadata": {
    "slideshow": {
     "slide_type": "slide"
    }
   },
   "source": [
    "# Incomplete market and self insurance\n",
    "<br>\n",
    "<div style=\"text-align: center;\">\n",
    "July 2020, revised June 2021 Takeki Sunakawa\n",
    "<br>\n",
    "<br>\n",
    "<div style=\"text-align: center;\">    \n",
    "Hitotsubashi University"
   ]
  },
  {
   "cell_type": "markdown",
   "metadata": {
    "slideshow": {
     "slide_type": "subslide"
    }
   },
   "source": [
    "## Introduction\n",
    "\n",
    "- So far we have considered complete markets and any individual risk is insured."
   ]
  },
  {
   "cell_type": "markdown",
   "metadata": {
    "slideshow": {
     "slide_type": "fragment"
    }
   },
   "source": [
    "- However, if markets are incomplete, risk is not insured."
   ]
  },
  {
   "cell_type": "markdown",
   "metadata": {
    "slideshow": {
     "slide_type": "fragment"
    }
   },
   "source": [
    "- Let $q$ be the price of a risk-free bond and $\\beta$ be the discount factor. In general equilibrium, \n",
    "  - $q=\\beta$ holds with complete markets, and\n",
    "  - $q>\\beta$ holds with incomplete markets."
   ]
  },
  {
   "cell_type": "markdown",
   "metadata": {
    "slideshow": {
     "slide_type": "fragment"
    }
   },
   "source": [
    "- In partial equilibrium, setting $q=\\beta$ in incomplete markets lead to different results, depending on the presence of uncertainty of income process.\n",
    "    - Consumption converges to a certain point without uncertainty.\n",
    "    - Consunption *diverges* to infinity with uncertainty."
   ]
  },
  {
   "cell_type": "markdown",
   "metadata": {
    "slideshow": {
     "slide_type": "subslide"
    }
   },
   "source": [
    "- My lecture is based on LS ch.8 and ch.17. I also found that Chris Edmond's teaching notes are useful (available at http://www.chrisedmond.net/teaching.html)."
   ]
  },
  {
   "cell_type": "markdown",
   "metadata": {
    "slideshow": {
     "slide_type": "slide"
    }
   },
   "source": [
    "## Risk-sharing in two-period, two-state model\n",
    "\n",
    "- The individual $i\\in\\{1,2\\}$ maximizes \n",
    "\n",
    "$$\n",
    "    u(c_{1}^{i}) + \\beta \\left\\{\\pi(1)u(c_{2}^{i}(1))+\\pi(2)u(c_{2}^{i}(2))\\right\\} \n",
    "$$\n",
    "\n",
    "$\\beta\\in(0,1)$ is discount factor and $u(c)$ satisfies the standard assumptions: $u_{c}>0$ and $u_{cc}<0$."
   ]
  },
  {
   "cell_type": "markdown",
   "metadata": {
    "slideshow": {
     "slide_type": "fragment"
    }
   },
   "source": [
    "- There are two states of the economy in period 2. The probability of state 1 is $\\pi(1)$ and that of state 2 is $\\pi(2)$."
   ]
  },
  {
   "cell_type": "markdown",
   "metadata": {
    "slideshow": {
     "slide_type": "fragment"
    }
   },
   "source": [
    "- $c_{1}^{i}$ is consumption in period 1. $(c_{2}^{i}(1),c_{2}^{i}(2))$ is a pair of consumption for each state in period 2."
   ]
  },
  {
   "cell_type": "markdown",
   "metadata": {
    "slideshow": {
     "slide_type": "fragment"
    }
   },
   "source": [
    "- The individual $i$'s endowment in period 2 takes either of $(y_{2}^{i}(1),y_{2}^{i}(2))$, depending on the state."
   ]
  },
  {
   "cell_type": "markdown",
   "metadata": {
    "slideshow": {
     "slide_type": "subslide"
    }
   },
   "source": [
    "- First, we consider the case of <b>complete markets</b>.\n",
    "\n",
    "\n",
    "- Budget constraints of the individual $i$ are given by (period 1 good is numeraire)\n",
    "\n",
    "$$\n",
    "\\begin{align}\n",
    "    c_{1}^{i} + q(1)b_{2}^{i}(1) + q(2)b_{2}^{i}(2) &\\leq y_{1}^{i}, \\\\\n",
    "    c_{2}^{i}(1) &\\leq y_{2}^{i}(1) + b_{2}^{i}(1), \\\\\n",
    "    c_{2}^{i}(2) &\\leq y_{2}^{i}(2) + b_{2}^{i}(2), \\\\\n",
    "\\end{align}\n",
    "$$\n",
    "\n",
    "where "
   ]
  },
  {
   "cell_type": "markdown",
   "metadata": {
    "slideshow": {
     "slide_type": "fragment"
    }
   },
   "source": [
    "- $q(j)$ is the price of an **Arrow-Debreu security** for each state $j$, which returns 1 unit of resources if the state in period 2 is $j$."
   ]
  },
  {
   "cell_type": "markdown",
   "metadata": {
    "slideshow": {
     "slide_type": "fragment"
    }
   },
   "source": [
    "- $b_{2}^{i}(j)$ is the purchased amount of the security by the individual $i$ for each state $j$."
   ]
  },
  {
   "cell_type": "markdown",
   "metadata": {
    "slideshow": {
     "slide_type": "subslide"
    }
   },
   "source": [
    "- These constraints can be summarized into a single budget constraint:\n",
    "\n",
    "$$\n",
    "    c_{1}^{i} + q(1)c_{2}^{i}(1) + q(2)c_{2}^{i}(2) \\leq y_{1} + q(1)y_{2}^{i}(1) + q(2)y_{2}^{i}(2).\n",
    "$$"
   ]
  },
  {
   "cell_type": "markdown",
   "metadata": {
    "slideshow": {
     "slide_type": "subslide"
    }
   },
   "source": [
    "- We want to solve for the price and allocation $(q(1),q(2),c_{1}^{1},c_{2}^{1}(1),c_{2}^{1}(2),c_{1}^{2},c_{2}^{2}(1),c_{2}^{2}(2))$.\n",
    "\n",
    "\n",
    "- The Lagrangeans for $i=1,2$ are given by\n",
    "\n",
    "<!-- $$\n",
    "\\begin{align}\n",
    "    L^{i} &= u(c_{1}^{i}) + \\beta \\left\\{\\pi(1)u(c_{2}^{i}(1))+\\pi(2)u(c_{2}^{i}(2))\\right\\} \\\\\n",
    "    &-\\mu^{i}\\left( c_{1}^{i} + q(1)c_{2}^{i}(1) + q(2)c_{2}^{i}(2) - y_{1} - q(1)y_{2}^{i}(1) - q(2)y_{2}^{i}(2) \\right).\n",
    "\\end{align}\n",
    "$$\n",
    " -->\n",
    "$$\n",
    "\\begin{align}\n",
    "    L^{1} &= u(c_{1}^{1}) + \\beta \\left\\{\\pi(1)u(c_{2}^{1}(1))+\\pi(2)u(c_{2}^{1}(2))\\right\\} \\\\\n",
    "    &-\\mu^{1}\\left( c_{1}^{1} + q(1)c_{2}^{1}(1) + q(2)c_{2}^{1}(2) - y_{1} - q(1)y_{2}^{1}(1) - q(2)y_{2}^{1}(2) \\right),\n",
    "\\end{align}\n",
    "$$\n",
    "\n",
    "$$\n",
    "\\begin{align}\n",
    "    L^{2} &= u(c_{1}^{2}) + \\beta \\left\\{\\pi(1)u(c_{2}^{2}(1))+\\pi(2)u(c_{2}^{2}(2))\\right\\} \\\\\n",
    "    &-\\mu^{2}\\left( c_{1}^{2} + q(1)c_{2}^{2}(1) + q(2)c_{2}^{2}(2) - y_{1} - q(1)y_{2}^{2}(1) - q(2)y_{2}^{2}(2) \\right).\n",
    "\\end{align}\n",
    "$$"
   ]
  },
  {
   "cell_type": "markdown",
   "metadata": {
    "slideshow": {
     "slide_type": "subslide"
    }
   },
   "source": [
    "- The FONCs are\n",
    "\n",
    "$$\n",
    "\\begin{align}\n",
    "    u'(c_{1}^{1}) &= \\mu^{1}, \\\\\n",
    "    u'(c_{1}^{2}) &= \\mu^{2}, \\\\\n",
    "    \\beta \\pi(1) u'(c_{2}^{1}(1)) &= \\mu^{1} q(1), \\\\\n",
    "    \\beta \\pi(1) u'(c_{2}^{2}(1)) &= \\mu^{2} q(1), \\\\\n",
    "    \\beta \\pi(2) u'(c_{2}^{1}(2)) &= \\mu^{1} q(2), \\\\\n",
    "    \\beta \\pi(2) u'(c_{2}^{2}(2)) &= \\mu^{2} q(2).\n",
    "\\end{align}\n",
    "$$"
   ]
  },
  {
   "cell_type": "markdown",
   "metadata": {
    "slideshow": {
     "slide_type": "subslide"
    }
   },
   "source": [
    "- By using the FONCs for individuals $i=1,2$,\n",
    "\n",
    "\\begin{align*}\n",
    "    \\frac{\\mu^{1}}{\\mu^{2}} &= \\frac{u'(c_{1}^{1})}{u'(c_{1}^{2})} \\\\\n",
    "    &= \\frac{u'(c_{2}^{1}(1))}{u'(c_{2}^{2}(1))} \\\\\n",
    "    &= \\frac{u'(c_{2}^{1}(2))}{u'(c_{2}^{2}(2))} \\tag{1}\n",
    "\\end{align*}\n",
    "\n",
    "holds. \n",
    "\n",
    "**Consumption risk is insured** so that the ratio of the marginal utilities is constant over time and across states."
   ]
  },
  {
   "cell_type": "markdown",
   "metadata": {
    "slideshow": {
     "slide_type": "subslide"
    }
   },
   "source": [
    "### Closing the model\n",
    "\n",
    "- The asset markets clear:\n",
    "\n",
    "$$\n",
    "\\begin{align}\n",
    "    & b_{2}^{1}(1) + b_{2}^{2}(1) = 0, \\\\\n",
    "    & b_{2}^{1}(2) + b_{2}^{2}(2) = 0.  \n",
    "\\end{align}\n",
    "$$\n",
    "\n",
    "<!--We have 6+2+4=12 eqs and 6+4+2=12 vars $(c_{1}^{i},c_{2}^{i}(1),c_{2}^{i}(2),b_{2}^{i}(1),b_{2}^{i}(2))$ and $(q(1),q(2))$.-->"
   ]
  },
  {
   "cell_type": "markdown",
   "metadata": {
    "slideshow": {
     "slide_type": "fragment"
    }
   },
   "source": [
    "- Then the good markets clear in each state in each period. That is, the resource constraints are obtained from the budget constraints\n",
    "\n",
    "$$\n",
    "\\begin{align}\n",
    "    c_{1}^{1} + c_{1}^{2} &= y_{1}^{1} + y_{1}^{2}, \\\\\n",
    "    c_{2}^{1}(1) + c_{2}^{2}(1) &= y_{2}^{1}(1) + y_{2}^{2}(1), \\\\\n",
    "    c_{2}^{1}(2) + c_{2}^{2}(2) &= y_{2}^{1}(2) + y_{2}^{2}(2).\n",
    "\\end{align}\n",
    "$$"
   ]
  },
  {
   "cell_type": "markdown",
   "metadata": {
    "slideshow": {
     "slide_type": "subslide"
    }
   },
   "source": [
    "- From equation (1)\n",
    "\n",
    "<!-- $$\n",
    "    c_{2}^{2}(j)=u'^{-1}\\left\\{u'[c_{2}^{1}(j)]\\frac{\\mu^{2}}{\\mu^{1}}\\right\\}.\n",
    "$$\n",
    " -->\n",
    "$$\n",
    "    c_{1}^{2}=u'^{-1}\\left\\{u'[c_{1}^{1}]\\frac{\\mu^{2}}{\\mu^{1}}\\right\\},\n",
    "$$\n",
    "\n",
    "$$\n",
    "    c_{2}^{2}(1)=u'^{-1}\\left\\{u'[c_{2}^{1}(1)]\\frac{\\mu^{2}}{\\mu^{1}}\\right\\},\n",
    "$$\n",
    "\n",
    "$$\n",
    "    c_{2}^{2}(2)=u'^{-1}\\left\\{u'[c_{2}^{1}(2)]\\frac{\\mu^{2}}{\\mu^{1}}\\right\\}.\n",
    "$$"
   ]
  },
  {
   "cell_type": "markdown",
   "metadata": {
    "slideshow": {
     "slide_type": "subslide"
    }
   },
   "source": [
    "- From the resource constraints in period 1 and for each state $j=1,2$ in period 2, we have\n",
    "\n",
    "$$\n",
    "    c_{1}^{1}+u'^{-1}\\left\\{u'(c_{1}^{1})\\frac{\\mu^{2}}{\\mu^{1}}\\right\\} \\leq y_{1}^{1}+y_{1}^{2},\n",
    "$$\n",
    "\n",
    "$$\n",
    "    c_{2}^{1}(1)+u'^{-1}\\left\\{u'[c_{2}^{1}(1)]\\frac{\\mu^{2}}{\\mu^{1}}\\right\\} \\leq y_{2}^{1}(1)+y_{2}^{2}(1),\n",
    "$$\n",
    "\n",
    "$$\n",
    "    c_{2}^{1}(2)+u'^{-1}\\left\\{u'[c_{2}^{1}(2)]\\frac{\\mu^{2}}{\\mu^{1}}\\right\\} \\leq y_{2}^{1}(2)+y_{2}^{2}(2).\n",
    "$$\n",
    "\n",
    "Each equation can be solved for $(c_{1}^{1},c_{2}^{1}(1),c_{2}^{1}(2))$.\n",
    "\n",
    "<!-- - From the resource constraint for each state $j=1,2$ in period 2, we have\n",
    "\n",
    "$$\n",
    "    c_{2}^{1}(j)+u'^{-1}\\left\\{u'[c_{2}^{1}(j)]\\frac{\\mu^{2}}{\\mu^{1}}\\right\\} \\leq y_{2}^{1}(j)+y_{2}^{2}(j). \\tag{2}\n",
    "$$ -->"
   ]
  },
  {
   "cell_type": "markdown",
   "metadata": {
    "slideshow": {
     "slide_type": "skip"
    }
   },
   "source": [
    "- Similarly, from the resource constraint in period 1, we have\n",
    "\n",
    "$$\n",
    "    c_{1}^{1}+u'^{-1}\\left\\{u'(c_{1}^{1})\\frac{\\mu^{2}}{\\mu^{1}}\\right\\} \\leq y_{1}^{1}+y_{1}^{2}. \\tag{3}\n",
    "$$"
   ]
  },
  {
   "cell_type": "markdown",
   "metadata": {
    "slideshow": {
     "slide_type": "subslide"
    }
   },
   "source": [
    "### Idiosyncratic shocks\n",
    "\n",
    "- If the shocks are idiosyncratic, i.e., there is no aggregate uncertainty, $y_{2}^{1}(j)+y_{2}^{2}(j)=y_{1}^{1}+y_{1}^{2}$ holds."
   ]
  },
  {
   "cell_type": "markdown",
   "metadata": {
    "slideshow": {
     "slide_type": "fragment"
    }
   },
   "source": [
    "- For example, $y_{2}^{1}(1)>y_{2}^{1}(2)$ and $y_{2}^{2}(1)<y_{2}^{2}(2)$ hold.\n",
    "\n",
    "\n",
    "- State $j=1$ is good and State $j=2$ is bad for Agent $i=1$."
   ]
  },
  {
   "cell_type": "markdown",
   "metadata": {
    "slideshow": {
     "slide_type": "fragment"
    }
   },
   "source": [
    "- Then, $c_{1}^{1}=c_{2}^{1}(j)=\\bar{c}^{1}$ is constant over time and across states."
   ]
  },
  {
   "cell_type": "markdown",
   "metadata": {
    "slideshow": {
     "slide_type": "fragment"
    }
   },
   "source": [
    "- $c_{1}^{2}=c_{2}^{2}(j)=\\bar{c}^{2}$ is also satisfied."
   ]
  },
  {
   "cell_type": "markdown",
   "metadata": {
    "slideshow": {
     "slide_type": "subslide"
    }
   },
   "source": [
    "- From the Euler equations,\n",
    "\n",
    "$$\n",
    "    q(j) = \\beta \\pi(j)\n",
    "$$\n",
    "\n",
    "holds for $j=1,2$."
   ]
  },
  {
   "cell_type": "markdown",
   "metadata": {
    "slideshow": {
     "slide_type": "fragment"
    }
   },
   "source": [
    "- The budget constraint for each individual $i$ implies\n",
    "\n",
    "\\begin{align*}\n",
    "    & c_{1}^{i} + q(1)c_{2}^{i}(1) + q(2)c_{2}^{i}(2) = y_{1} + q(1)y_{2}^{i}(1) + q(2)y_{2}^{i}(2), \\\\\n",
    "    \\Leftrightarrow & \\bar{c}^{i} + \\beta \\pi(1)\\bar{c}^{i} + \\beta \\pi(2)\\bar{c}^{i} = y_{1} + \\beta \\pi(1)y_{2}^{i}(1) + \\beta \\pi(2)y_{2}^{i}(2), \\\\\n",
    "    \\Leftrightarrow & (1+\\beta \\pi(1)+\\beta \\pi(2))\\bar{c}^{i} = y_{1} + \\beta \\pi(1)y_{2}^{i}(1) + \\beta \\pi(2)y_{2}^{i}(2), \n",
    "\\end{align*}\n",
    "\n",
    "$$\n",
    "    \\therefore \\bar{c}^{i} = \\frac{y_{1}^{i}+\\beta\\pi(1)y_{2}^{i}(1)+\\beta\\pi(2)y_{2}^{i}(2)}{1+\\beta}\n",
    "$$"
   ]
  },
  {
   "cell_type": "markdown",
   "metadata": {
    "slideshow": {
     "slide_type": "subslide"
    }
   },
   "source": [
    "- The price of a risk-free bond is given by\n",
    "\n",
    "$$\n",
    "    q \\equiv q(1)+q(2) = \\beta\n",
    "$$\n",
    "\n",
    "That is, $1=\\beta(1+r)$ holds, where $r=q^{-1}-1$ is the risk-free rate."
   ]
  },
  {
   "cell_type": "markdown",
   "metadata": {
    "slideshow": {
     "slide_type": "slide"
    }
   },
   "source": [
    "## Non-state-contingent bond\n",
    "\n",
    "- Next, we consider the case of <b>imcomplete markets</b>.\n",
    "\n",
    "\n",
    "- Let $q$ be the price of a non-state-contingent bond, which returns 1 unit of resources regardless of the state."
   ]
  },
  {
   "cell_type": "markdown",
   "metadata": {
    "slideshow": {
     "slide_type": "fragment"
    }
   },
   "source": [
    "- $b_{2}^{i}$ is the amount of the bond purchased by the individual $i$."
   ]
  },
  {
   "cell_type": "markdown",
   "metadata": {
    "slideshow": {
     "slide_type": "fragment"
    }
   },
   "source": [
    "- Budget constraints of the individual $i$ are given by\n",
    "\n",
    "$$\n",
    "\\begin{align}\n",
    "    c_{1}^{i} + qb_{2}^{i} &\\leq y_{1}^{i}, \\\\\n",
    "    c_{2}^{i}(1) &\\leq y_{2}^{i}(1) + b_{2}^{i}, \\\\\n",
    "    c_{2}^{i}(2) &\\leq y_{2}^{i}(2) + b_{2}^{i}. \\\\\n",
    "\\end{align}\n",
    "$$"
   ]
  },
  {
   "cell_type": "markdown",
   "metadata": {
    "slideshow": {
     "slide_type": "subslide"
    }
   },
   "source": [
    "- These constraints can be summarized as\n",
    "\n",
    "$$\n",
    "\\begin{align}\n",
    "    c_{1}^{i} + qc_{2}^{i}(1) \\leq y_{1}^{i} + qy_{2}^{i}(1), \\\\\n",
    "    c_{1}^{i} + qc_{2}^{i}(2) \\leq y_{1}^{i} + qy_{2}^{i}(2). \\\\\n",
    "\\end{align}\n",
    "$$"
   ]
  },
  {
   "cell_type": "markdown",
   "metadata": {
    "slideshow": {
     "slide_type": "subslide"
    }
   },
   "source": [
    "- We want to solve for the price and allocation $(q,c_{1}^{1},c_{2}^{1}(1),c_{2}^{1}(2),c_{1}^{2},c_{2}^{2}(1),c_{2}^{2}(2))$.\n",
    "\n",
    "- The Lagrangeans for $i=1,2$ are given by\n",
    "\n",
    "<!-- $$\n",
    "\\begin{align}\n",
    "    L^{i} &= u(c_{1}^{i}) + \\beta \\left\\{\\pi(1)u(c_{2}^{i}(1))+\\pi(2)u(c_{2}^{i}(2))\\right\\} \\\\\n",
    "    &-\\mu^{i}(1)\\left( c_{1}^{i} + qc_{2}^{i}(1) - y_{1} - qy_{2}^{i}(1) \\right) \\\\\n",
    "    &-\\mu^{i}(2)\\left( c_{1}^{i} + qc_{2}^{i}(2) - y_{1} - qy_{2}^{i}(2) \\right).\n",
    "\\end{align}\n",
    "$$ -->\n",
    "\n",
    "$$\n",
    "\\begin{align}\n",
    "    L^{1} &= u(c_{1}^{1}) + \\beta \\left\\{\\pi(1)u(c_{2}^{1}(1))+\\pi(2)u(c_{2}^{1}(2))\\right\\} \\\\\n",
    "    &-\\mu^{1}(1)\\left( c_{1}^{1} + qc_{2}^{1}(1) - y_{1} - qy_{2}^{1}(1) \\right) \\\\\n",
    "    &-\\mu^{1}(2)\\left( c_{1}^{1} + qc_{2}^{1}(2) - y_{1} - qy_{2}^{1}(2) \\right),\n",
    "\\end{align}\n",
    "$$\n",
    "\n",
    "$$\n",
    "\\begin{align}\n",
    "    L^{2} &= u(c_{1}^{2}) + \\beta \\left\\{\\pi(1)u(c_{2}^{2}(1))+\\pi(2)u(c_{2}^{2}(2))\\right\\} \\\\\n",
    "    &-\\mu^{2}(1)\\left( c_{1}^{2} + qc_{2}^{2}(1) - y_{1} - qy_{2}^{2}(1) \\right) \\\\\n",
    "    &-\\mu^{2}(2)\\left( c_{1}^{2} + qc_{2}^{2}(2) - y_{1} - qy_{2}^{2}(2) \\right).\n",
    "\\end{align}\n",
    "$$"
   ]
  },
  {
   "cell_type": "markdown",
   "metadata": {
    "slideshow": {
     "slide_type": "subslide"
    }
   },
   "source": [
    "- The FONCs are\n",
    "\n",
    "$$\n",
    "\\begin{align}\n",
    "    u'(c_{1}^{1}) = \\mu^{1}(1) + \\mu^{1}(2), \\\\\n",
    "    u'(c_{1}^{2}) = \\mu^{2}(1) + \\mu^{2}(2), \\\\\n",
    "    \\beta \\pi(1) u'(c_{2}^{1}(1)) = \\mu^{1}(1)q, \\\\\n",
    "    \\beta \\pi(1) u'(c_{2}^{2}(1)) = \\mu^{2}(1)q, \\\\\n",
    "    \\beta \\pi(2) u'(c_{2}^{1}(2)) = \\mu^{1}(2)q. \\\\\n",
    "    \\beta \\pi(2) u'(c_{2}^{2}(2)) = \\mu^{2}(2)q.\n",
    "\\end{align}\n",
    "$$"
   ]
  },
  {
   "cell_type": "markdown",
   "metadata": {
    "slideshow": {
     "slide_type": "subslide"
    }
   },
   "source": [
    "- By using the FONCs for individuals $i=1,2$, we have\n",
    "\n",
    "$$\n",
    "\\begin{align}\n",
    "  q u'(c_{1}^{1}) = \\beta \\left\\{ \\pi(1) u'(c_{2}^{1}(1)) + \\pi(2) u'(c_{2}^{1}(2))\\right\\}, \\\\\n",
    "  q u'(c_{2}^{1}) = \\beta \\left\\{ \\pi(1) u'(c_{2}^{2}(1)) + \\pi(2) u'(c_{2}^{2}(2))\\right\\}.\n",
    "\\end{align}\n",
    "$$"
   ]
  },
  {
   "cell_type": "markdown",
   "metadata": {
    "slideshow": {
     "slide_type": "fragment"
    }
   },
   "source": [
    "- Then we have\n",
    "\n",
    "$$\n",
    "    \\frac{u'(c_{1}^{1})}{u'(c_{1}^{2})} = \\frac{\\pi(1) u'(c_{2}^{1}(1)) + \\pi(2) u'(c_{2}^{1}(2))}{\\pi(1) u'(c_{2}^{2}(1)) + \\pi(2) u'(c_{2}^{2}(2))}. \\tag{4}\n",
    "$$\n",
    "\n",
    "**Consumption risk is only partially insured** so that the ratio of the marginal utilities is equalized **only ex-ante**."
   ]
  },
  {
   "cell_type": "markdown",
   "metadata": {
    "slideshow": {
     "slide_type": "subslide"
    }
   },
   "source": [
    "### Closing the model\n",
    "\n",
    "- The asset markets clear. That is,\n",
    "\n",
    "$$\n",
    "    b_{2}^{1} + b_{2}^{2} = 0\n",
    "$$\n",
    "\n",
    "so that the resource constraints are obtained from the budget constraints."
   ]
  },
  {
   "cell_type": "markdown",
   "metadata": {
    "slideshow": {
     "slide_type": "fragment"
    }
   },
   "source": [
    "- In this case, consumption for each individual $i=1,2$ and each state $j=1,2$ in period 2 $(c_{1}^{i},c_{2}^{i}(j))$ varies over time and across states."
   ]
  },
  {
   "cell_type": "markdown",
   "metadata": {
    "slideshow": {
     "slide_type": "fragment"
    }
   },
   "source": [
    "- If the shocks are idiosyncratic, for example, $y_{2}^{1}(2)<y_{2}^{1}(1)$ and $y_{2}^{2}(1)<y_{2}^{2}(2)$ hold. Then\n",
    "\n",
    "$$\n",
    "\\begin{align}\n",
    "    c_{2}^{1}(2) \\leq c_{1}^{1} \\leq c_{2}^{1}(1), \\\\\n",
    "    c_{2}^{2}(1) \\leq c_{1}^{2} \\leq c_{2}^{2}(2).\n",
    "\\end{align}\n",
    "$$\n",
    "\n",
    "Consumption and endowment are correlated in period 2."
   ]
  },
  {
   "cell_type": "markdown",
   "metadata": {
    "slideshow": {
     "slide_type": "subslide"
    }
   },
   "source": [
    "$q>\\beta$ holds because\n",
    "\n",
    "$$\n",
    "  \\frac{q}{\\beta} = \\frac{\\pi(1) u'(c_{2}^{i}(1)) + \\pi(2) u'(c_{2}^{i}(2))}{u'(c_{1}^{i})}>1 \\\\\n",
    "$$\n",
    "\n",
    "due to the concavity of the utility function (note that we assume $c_{1}^{i} \\approx \\pi(1)c_{2}^{i}(1) + \\pi(2)c_{2}^{i}(2)$).\n",
    "<div align=\"center\">\n",
    "<img src=\"./aiyagari2.PNG\",width=\"800\",height=\"600\">\n",
    "</div>"
   ]
  },
  {
   "cell_type": "markdown",
   "metadata": {
    "slideshow": {
     "slide_type": "skip"
    }
   },
   "source": [
    "## Financial auterky\n",
    "\n",
    "- Borrowings are constrained so that $b_{2}^{i} \\leq \\phi$ for each $i=1,2$. "
   ]
  },
  {
   "cell_type": "markdown",
   "metadata": {
    "slideshow": {
     "slide_type": "skip"
    }
   },
   "source": [
    "- If the individual $1$'s constraint is binding in some state $j$, That is, $b_{2}^{1} = \\phi$ and $b_{2}^{2} = -b_{2}^{1} = -\\phi$. Then\n",
    "\n",
    "$$\n",
    "\\begin{align}\n",
    "    c_{2}^{1}(j)=y_{2}^{1}(j) + \\phi, \\\\\n",
    "    c_{2}^{2}(j)=y_{2}^{2}(j) - \\phi, \\\\\n",
    "\\end{align}\n",
    "$$\n",
    "\n",
    "hold."
   ]
  },
  {
   "cell_type": "markdown",
   "metadata": {
    "slideshow": {
     "slide_type": "skip"
    }
   },
   "source": [
    "- It is called *auterky* when $\\phi=0$. Risk sharing is constrained."
   ]
  },
  {
   "cell_type": "markdown",
   "metadata": {
    "slideshow": {
     "slide_type": "subslide"
    }
   },
   "source": [
    "## Computation\n",
    "\n",
    "- We want to solve for the price and allocation $(q,c_{1}^{1},c_{2}^{1}(1),c_{2}^{1}(2),b_{2}^{1},c_{1}^{2},c_{2}^{2}(1),c_{2}^{2}(2),b_{2}^{2})$\n",
    "\n",
    "\\begin{align*}\n",
    "    & c_{1}^{1} + qb_{2}^{1} = y_{1}^{1}, \\\\\n",
    "    & c_{2}^{1}(1) = y_{2}^{1}(1) + b_{2}^{1}, \\\\\n",
    "    & c_{2}^{1}(2) = y_{2}^{1}(2) + b_{2}^{1}, \\\\\n",
    "    & q u'(c_{1}^{1}) = \\beta \\left\\{ \\pi(1) u'(c_{2}^{1}(1)) + \\pi(2) u'(c_{2}^{1}(2))\\right\\}, \\\\\n",
    "    & c_{1}^{2} + qb_{2}^{2} = y_{1}^{2}, \\\\\n",
    "    & c_{2}^{2}(1) = y_{2}^{2}(1) + b_{2}^{2}, \\\\\n",
    "    & c_{2}^{2}(2) = y_{2}^{2}(2) + b_{2}^{2}, \\\\\n",
    "    & q u'(c_{2}^{1}) = \\beta \\left\\{ \\pi(1) u'(c_{2}^{2}(1)) + \\pi(2) u'(c_{2}^{2}(2))\\right\\}, \\\\\n",
    "    & b_{2}^{1} + b_{2}^{2} = 0\n",
    "\\end{align*}\n"
   ]
  },
  {
   "cell_type": "markdown",
   "metadata": {
    "slideshow": {
     "slide_type": "subslide"
    }
   },
   "source": [
    "1. Guess the market clearing price $q$.\n",
    "\n",
    "2. Given $q$, solve the budget constraints and Euler equation:\n",
    "\n",
    "\\begin{align*}\n",
    "    & c_{1}^{1} + qb_{2}^{1} = y_{1}^{1}, \\\\\n",
    "    & c_{2}^{1}(1) = y_{2}^{1}(1) + b_{2}^{1}, \\\\\n",
    "    & c_{2}^{1}(2) = y_{2}^{1}(2) + b_{2}^{1}, \\\\\n",
    "    & q u'(c_{1}^{1}) = \\beta \\left\\{ \\pi(1) u'(c_{2}^{1}(1)) + \\pi(2) u'(c_{2}^{1}(2))\\right\\}, \\\\\n",
    "\\end{align*}\n",
    "\n",
    "for $(c_{1}^{1},c_{2}^{1}(1),c_{2}^{1}(2),b_{2}^{1})$, and\n",
    "\n",
    "\\begin{align*}\n",
    "    & c_{1}^{2} + qb_{2}^{2} = y_{1}^{2}, \\\\\n",
    "    & c_{2}^{2}(1) = y_{2}^{2}(1) + b_{2}^{2}, \\\\\n",
    "    & c_{2}^{2}(2) = y_{2}^{2}(2) + b_{2}^{2}, \\\\\n",
    "    & q u'(c_{2}^{1}) = \\beta \\left\\{ \\pi(1) u'(c_{2}^{2}(1)) + \\pi(2) u'(c_{2}^{2}(2))\\right\\}, \\\\\n",
    "\\end{align*}\n",
    "\n",
    "for $(c_{1}^{2},c_{2}^{2}(1),c_{2}^{2}(2),b_{2}^{2})$."
   ]
  },
  {
   "cell_type": "markdown",
   "metadata": {
    "slideshow": {
     "slide_type": "subslide"
    }
   },
   "source": [
    "3. Find $q$ so that the market clearing condition is satisfied:\n",
    "\n",
    "$$\n",
    "    b_{2}^{1} + b_{2}^{2} = 0.\n",
    "$$"
   ]
  },
  {
   "cell_type": "code",
   "execution_count": 2,
   "metadata": {
    "slideshow": {
     "slide_type": "fragment"
    }
   },
   "outputs": [
    {
     "data": {
      "text/plain": [
       "Euler1 (generic function with 1 method)"
      ]
     },
     "execution_count": 2,
     "metadata": {},
     "output_type": "execute_result"
    }
   ],
   "source": [
    "function Euler1(x1,y11,y211,y212,pi1,pi2,β,q)\n",
    "    # Given b21, compute the residual of Euler eq. \n",
    "    b21 = x1[1]\n",
    "    c11 = y11-q*b21\n",
    "    c211 = y211 + b21\n",
    "    c212 = y212 + b21\n",
    "    f = -q/c11 + β*(pi1/c211+pi2/c212) # Euler eq.\n",
    "    return f \n",
    "end"
   ]
  },
  {
   "cell_type": "code",
   "execution_count": 3,
   "metadata": {
    "slideshow": {
     "slide_type": "subslide"
    }
   },
   "outputs": [
    {
     "name": "stdout",
     "output_type": "stream",
     "text": [
      "-0.03995227022562933\n"
     ]
    },
    {
     "data": {
      "text/plain": [
       "Results of Nonlinear Solver Algorithm\n",
       " * Algorithm: Trust-region with dogleg and autoscaling\n",
       " * Starting Point: [0.0]\n",
       " * Zero: [-0.03995227022562933]\n",
       " * Inf-norm of residuals: 0.000000\n",
       " * Iterations: 2\n",
       " * Convergence: true\n",
       "   * |x - x'| < 0.0e+00: false\n",
       "   * |f(x)| < 1.0e-08: true\n",
       " * Function Calls (f): 3\n",
       " * Jacobian Calls (df/dx): 3"
      ]
     },
     "execution_count": 3,
     "metadata": {},
     "output_type": "execute_result"
    }
   ],
   "source": [
    "using NLsolve\n",
    "\n",
    "# parameters\n",
    "y11 = 1 # time, individual\n",
    "y12 = 1\n",
    "# idiosyncratic shocks\n",
    "d = 0.1\n",
    "y211 = 1+d # time, individual, state\n",
    "y212 = 1-d\n",
    "y221 = 1-d\n",
    "y222 = 1+d\n",
    "# probability of each state\n",
    "pi1 = .9\n",
    "pi2 = .1\n",
    "# discount factor\n",
    "β = .9\n",
    "\n",
    "# bond price\n",
    "q = 0.9\n",
    "# calculate b21 so that the equilibrium conditions for i=1 are satisfied\n",
    "res = nlsolve(x1->Euler1(x1,y11,y211,y212,pi1,pi2,β,q),[0.0])\n",
    "b21 = res.zero[1]\n",
    "println(b21)\n",
    "res"
   ]
  },
  {
   "cell_type": "markdown",
   "metadata": {
    "slideshow": {
     "slide_type": "slide"
    }
   },
   "source": [
    "## Saving problem\n",
    "\n",
    "- An individual chooses a sequence of consumption $\\{c_{t}\\}_{t=0}^{\\infty}$ maximizes\n",
    "\n",
    "$$\n",
    "    E_{0} \\sum_{t=0}^{\\infty} \\beta^{t} u(c_{t}).\n",
    "$$\n",
    "\n",
    "where $\\beta\\in(0,1)$ is discount factor and $u(c)$ satisfies the standard assumptions."
   ]
  },
  {
   "cell_type": "markdown",
   "metadata": {
    "slideshow": {
     "slide_type": "subslide"
    }
   },
   "source": [
    "- The budget constraints are given by\n",
    "\n",
    "$$\n",
    "    c_{t} + q \\tilde{b}_{t+1} \\leq y_{t} + \\tilde{b}_{t},\n",
    "$$\n",
    "\n",
    "where\n",
    "- $q$ is the price of a non-state-contingent bond which returns 1 unit of resources in the next period, and *is exogenously given*. \n",
    "- $\\tilde{b}_{t+1}$ is the amount of the *bond* purchased in period $t$."
   ]
  },
  {
   "cell_type": "markdown",
   "metadata": {
    "slideshow": {
     "slide_type": "fragment"
    }
   },
   "source": [
    "- Or, \n",
    "\n",
    "$$\n",
    "    c_{t} - q b_{t+1} \\leq y_{t} - b_{t}.\n",
    "$$\n",
    "\n",
    "where $b_{t}=-\\tilde{b}_{t}$ is the *debt* at the beginning of period $t$. \n",
    "\n",
    "<!-- - These forms are equivalent, but we use the last one following LS. -->"
   ]
  },
  {
   "cell_type": "markdown",
   "metadata": {
    "slideshow": {
     "slide_type": "subslide"
    }
   },
   "source": [
    "- Or, by setting $a_{t}=y_{t}-b_{t}$\n",
    "\n",
    "\\begin{align*}\n",
    "    & c_{t} - q b_{t+1} \\leq y_{t} - b_{t} \\\\\n",
    "    \\Leftrightarrow & c_{t} - q (y_{t+1}-a_{t+1}) \\leq a_{t} \\\\\n",
    "    \\Leftrightarrow & a_{t+1} \\leq q^{-1} \\left( a_{t} - c_{t} \\right) + y_{t+1}.\n",
    "\\end{align*}\n",
    "\n",
    "where $a_{t}$ is the agent's *asset* after realization of $y_{t}$."
   ]
  },
  {
   "cell_type": "markdown",
   "metadata": {
    "slideshow": {
     "slide_type": "fragment"
    }
   },
   "source": [
    "- Note that $c_{t}=a_{t}$ implies $b_{t+1}=0$."
   ]
  },
  {
   "cell_type": "markdown",
   "metadata": {
    "slideshow": {
     "slide_type": "fragment"
    }
   },
   "source": [
    "- The borrowing constraint $\\tilde{b}_{t+1}>0$ or $b_{t+1}<0$ implies $a_{t}>c_{t}$.\n",
    "\n",
    "<!--$y_{t}-b_{t}>c_{t}$ and $y_{t}+\\tilde{b}_{t}>c_{t}=y_{t}+\\tilde{b}_{t}-q\\tilde{b}_{t+1}$ and .-->"
   ]
  },
  {
   "cell_type": "markdown",
   "metadata": {
    "slideshow": {
     "slide_type": "subslide"
    }
   },
   "source": [
    "- Hereafter we assume that $q=\\beta$ holds (in the partial equilibrium)."
   ]
  },
  {
   "cell_type": "markdown",
   "metadata": {
    "slideshow": {
     "slide_type": "fragment"
    }
   },
   "source": [
    "- The budget constraint is given by\n",
    "\n",
    "$$\n",
    "    c_{t} + b_{t} \\leq \\beta b_{t+1} + y_{t}.\n",
    "$$"
   ]
  },
  {
   "cell_type": "markdown",
   "metadata": {
    "slideshow": {
     "slide_type": "subslide"
    }
   },
   "source": [
    "- Without uncertainty, the question of insurance is moot. However, it is instructive to study consumption of an agent facing a borrowing constraint."
   ]
  },
  {
   "cell_type": "markdown",
   "metadata": {
    "slideshow": {
     "slide_type": "fragment"
    }
   },
   "source": [
    "- We will show that:\n",
    "\n",
    "    - With the natural borrowing constraint, consumption is constant for all the time.\n",
    "    \n",
    "    - With the no-borrowing constraint, consumption is non-decreasing and converges to a certain point."
   ]
  },
  {
   "cell_type": "markdown",
   "metadata": {
    "slideshow": {
     "slide_type": "fragment"
    }
   },
   "source": [
    "- Especially, the latter property is very different in the stochastic case. Consumption diverges to infinity."
   ]
  },
  {
   "cell_type": "markdown",
   "metadata": {
    "slideshow": {
     "slide_type": "subslide"
    }
   },
   "source": [
    "## Deterministic case\n",
    "### Natural borrowing constraint\n",
    "\n",
    "- *The natural borrowing constraint* is found by solving the budget constraint forward with $c_{t}=0$:\n",
    "\n",
    "\\begin{align*}\n",
    "  b_{t} &= \\beta b_{t+1} + y_{t}, \\\\\n",
    "  b_{t+1} &= \\beta b_{t+2} + y_{t+1}, \\\\\n",
    "  b_{t+2} &= \\beta b_{t+3} + y_{t+2}, \\\\\n",
    "  & \\vdots\n",
    "\\end{align*}\n",
    "\n",
    "$$\n",
    "    b_{t} \\leq \\sum_{j=0}^{\\infty} \\beta^{j} y_{t+j} \\equiv \\bar{b}_{t}.\n",
    "$$\n",
    "\n",
    "$\\bar{b}_{t}$ is the present value of the endowment, which is the maximal amount to repay at time $t$."
   ]
  },
  {
   "cell_type": "markdown",
   "metadata": {
    "slideshow": {
     "slide_type": "subslide"
    }
   },
   "source": [
    "- Solving the budget constraint forward,...\n",
    "\n",
    "\\begin{align*}\n",
    "  c_{0} + b_{0} &= \\beta b_{1} + y_{0}, \\\\\n",
    "  c_{1} + b_{1} &= \\beta b_{2} + y_{1}, \\\\\n",
    "  c_{2} + b_{2} &= \\beta b_{3} + y_{2}, \\\\\n",
    "  & \\vdots\n",
    "\\end{align*}\n",
    "\n",
    "- ... and impose $b_0=0$ and $\\lim_{T \\rightarrow \\infty}\\beta^{T+1}b_{T+1}=0$:\n",
    " \n",
    "$$\n",
    "    \\sum_{t=0}^{\\infty} \\beta^{t} c_{t} \\leq \\sum_{t=0}^{\\infty} \\beta^{t} y_{t}.\n",
    "$$"
   ]
  },
  {
   "cell_type": "markdown",
   "metadata": {
    "slideshow": {
     "slide_type": "subslide"
    }
   },
   "source": [
    "- The Lagrangean is given by\n",
    "\n",
    "$$\n",
    "    L \\equiv \\sum_{t=0}^{\\infty} \\beta^{t} u(c_{t}) - \\lambda \\left( \\sum_{t=0}^{\\infty} \\beta^{t} c_{t} - \\sum_{t=0}^{\\infty} \\beta^{t} y_{t} \\right).\n",
    "$$"
   ]
  },
  {
   "cell_type": "markdown",
   "metadata": {
    "slideshow": {
     "slide_type": "fragment"
    }
   },
   "source": [
    "- The FONC is\n",
    "\n",
    "$$\n",
    "    u'(c_{t}) \\geq u'(c_{t+1}),\n",
    "$$\n",
    "\n",
    "where the equality ($=$) holds if the borrowing constraint is slack $b_{t+1}<\\bar{b}_{t+1}$."
   ]
  },
  {
   "cell_type": "markdown",
   "metadata": {
    "slideshow": {
     "slide_type": "subslide"
    }
   },
   "source": [
    "- If the borrowing constraint is binding, the Euler equation becomes slack, $u'(c_{t}) > u'(c_{t+1})$. The household wants to consume more by borrowing, but the borrowing constraint may prevent the household from doing so."
   ]
  },
  {
   "cell_type": "markdown",
   "metadata": {
    "slideshow": {
     "slide_type": "fragment"
    }
   },
   "source": [
    "- If the borrowing constraint never binds, $c_{t}=c_{t+1}=\\cdots=\\bar{c}$ holds from the Euler equation. Then, $c_{t}=\\bar{c}$ satisfies\n",
    "\n",
    "\\begin{align*}\n",
    "    & \\sum_{t=0}^{\\infty} \\beta^{t} c_{t} = \\sum_{t=0}^{\\infty} \\beta^{t} y_{t} \\\\\n",
    "    \\Leftrightarrow & \\frac{\\bar{c}}{1-\\beta} = \\sum_{t=0}^{\\infty} \\beta^{t} y_{t} \\\\ \n",
    "    \\Leftrightarrow & \\bar{c} = (1-\\beta)\\sum_{t=0}^{\\infty} \\beta^{t} y_{t}\n",
    "\\end{align*}\n",
    "\n",
    "<!-- holds. -->\n",
    "<!--Note that the natural debt limits allow $b_t>0$.???-->"
   ]
  },
  {
   "cell_type": "markdown",
   "metadata": {
    "slideshow": {
     "slide_type": "subslide"
    }
   },
   "source": [
    "- The sequence of budget constraints from period $t$ implies\n",
    "\n",
    "\\begin{align*}\n",
    "  c_{t} + b_{t} &= \\beta b_{t+1} + y_{t}, \\\\\n",
    "  c_{t+1} + b_{t+1} &= \\beta b_{t+2} + y_{t+1}, \\\\\n",
    "  c_{t+2} + b_{t+2} &= \\beta b_{t+3} + y_{t+2}, \\\\\n",
    "  & \\vdots\n",
    "\\end{align*}\n",
    "\n",
    "$$\n",
    "    \\sum_{j=0}^{\\infty} \\beta^{j} c_{t+j} + b_{t} = \\sum_{j=0}^{\\infty} \\beta^{j} y_{t+j}.\n",
    "$$"
   ]
  },
  {
   "cell_type": "markdown",
   "metadata": {
    "slideshow": {
     "slide_type": "subslide"
    }
   },
   "source": [
    "- Under the consumption-smoothing policy $c_{t}=\\bar{c}$,\n",
    "\n",
    "$$\n",
    "\\begin{align}\n",
    "    b_{t} &= \\sum_{j=0}^{\\infty} \\beta^{j} y_{t+j} - \\sum_{j=0}^{\\infty} \\beta^{j} \\bar{c}, \\\\\n",
    "    &= \\bar{b}_{t} - \\frac{\\bar{c}}{1-\\beta}.\n",
    "\\end{align}\n",
    "$$\n",
    "\n",
    "which implies that the natural borrowing constraint $b_{t} \\leq \\bar{b}_{t}$ is *always slack*."
   ]
  },
  {
   "cell_type": "markdown",
   "metadata": {
    "slideshow": {
     "slide_type": "subslide"
    }
   },
   "source": [
    "### No-borrowing constraint\n",
    "\n",
    "- Now we study a more severe no-borrowing constraint $b_{t+1}\\leq0$."
   ]
  },
  {
   "cell_type": "markdown",
   "metadata": {
    "slideshow": {
     "slide_type": "fragment"
    }
   },
   "source": [
    "- The FONC is\n",
    "\n",
    "$$\n",
    "    u'(c_{t}) \\geq u'(c_{t+1}), \\quad = \\text{ if } b_{t+1}<0\n",
    "$$\n",
    "\n",
    "for $t\\geq0$. \n",
    "<!-- Note that when $c_{t} = a_{t}$ holds, the borrowing constraint is binding, $b_{t+1} = 0$. -->"
   ]
  },
  {
   "cell_type": "markdown",
   "metadata": {
    "slideshow": {
     "slide_type": "subslide"
    }
   },
   "source": [
    "- Along the optimal path, it must be true either"
   ]
  },
  {
   "cell_type": "markdown",
   "metadata": {
    "slideshow": {
     "slide_type": "fragment"
    }
   },
   "source": [
    "1. $c_{t} = c_{t+1}$; or"
   ]
  },
  {
   "cell_type": "markdown",
   "metadata": {
    "slideshow": {
     "slide_type": "fragment"
    }
   },
   "source": [
    "2. $c_{t}<c_{t+1}$ and $b_{t+1}=0$ ($c_{t}=a_{t}$)\n",
    "\n",
    "<!-- $c_{t} = a_{t}$, and hence $a_{t+1}=y_{t+1}$ (Note that $a_{t+1} \\leq q^{-1} \\left( a_{t} - c_{t} \\right) + y_{t+1}$) -->"
   ]
  },
  {
   "cell_type": "markdown",
   "metadata": {
    "slideshow": {
     "slide_type": "fragment"
    }
   },
   "source": [
    "- Note that <b>consumption is a non-decreasing sequence</b>.\n",
    "\n",
    "$$\n",
    "u'(c_{t}) \\geq u'(c_{t+1}) \\Leftrightarrow c_{t} \\leq c_{t+1}\n",
    "$$"
   ]
  },
  {
   "cell_type": "markdown",
   "metadata": {
    "slideshow": {
     "slide_type": "skip"
    }
   },
   "source": [
    "- The no-borrowing constraint binds when the consumer *wants to, but cannot* shift consumption from the future to the present. It is the case when his endowment is growing."
   ]
  },
  {
   "cell_type": "markdown",
   "metadata": {
    "slideshow": {
     "slide_type": "skip"
    }
   },
   "source": [
    "- To see that, let $y_{t}<y_{t+1}$. Then we have\n",
    "\n",
    "$$\n",
    "    u'(y_{t}) > u'(y_{t+1}).\n",
    "$$"
   ]
  },
  {
   "cell_type": "markdown",
   "metadata": {
    "slideshow": {
     "slide_type": "skip"
    }
   },
   "source": [
    "- The individual wants to reduce $c_{t+1}<y_{t+1}$ and increase $c_{t}>y_{t}$ until $u'(c_{t}) = u'(c_{t+1})$ holds."
   ]
  },
  {
   "cell_type": "markdown",
   "metadata": {
    "slideshow": {
     "slide_type": "skip"
    }
   },
   "source": [
    "- However, the borrowing constraint may prevent the household from doing so."
   ]
  },
  {
   "cell_type": "markdown",
   "metadata": {
    "slideshow": {
     "slide_type": "skip"
    }
   },
   "source": [
    "- Solving the budget constraint at equality forward\n",
    "\n",
    "\\begin{align*}\n",
    "  c_{t} + \\beta a_{t+1} &= a_{t} + \\beta y_{t+1}, \\\\\n",
    "  c_{t+1} + \\beta a_{t+2} &= a_{t+1} + \\beta y_{t+2}, \\\\\n",
    "  c_{t+2} + \\beta a_{t+3} &= a_{t+2} + \\beta y_{t+3}, \\\\\n",
    "  & \\vdots\n",
    "\\end{align*}\n",
    "\n",
    "$$\n",
    "    \\sum_{j=0}^{\\infty} \\beta^{j} c_{t+j} = a_{t} + \\sum_{j=1}^{\\infty} \\beta^{j} y_{t+j}.\n",
    "$$"
   ]
  },
  {
   "cell_type": "markdown",
   "metadata": {
    "slideshow": {
     "slide_type": "skip"
    }
   },
   "source": [
    "- If the no-borrowing constraint is binding at period $t-1$,\n",
    "\n",
    "$$\n",
    "    \\sum_{j=0}^{\\infty} \\beta^{j} c_{t+j} = \\sum_{j=0}^{\\infty} \\beta^{j} y_{t+j}.\n",
    "$$\n",
    "\n",
    "as $a_{t}=y_{t}$ holds."
   ]
  },
  {
   "cell_type": "markdown",
   "metadata": {
    "slideshow": {
     "slide_type": "skip"
    }
   },
   "source": [
    "- After the last date $\\bar{t}-1$ at which the no-borrowing costraint binding, consumption will be constant at $\\tilde{c} = (1-\\beta)\\sum_{j=0}^{\\infty} \\beta^{j} y_{\\bar{t}+j}$.\n"
   ]
  },
  {
   "cell_type": "markdown",
   "metadata": {
    "slideshow": {
     "slide_type": "subslide"
    }
   },
   "source": [
    "- <b>Proposition</b>: Given a borrowing constraint and a *nonstochastic* endowment stream, the limit of the nondecreasing optimal consumption path is $\\sup_{t} x_{t}$ where\n",
    "\n",
    "$$\n",
    "x_{t} = (1-\\beta)\\sum_{j=0}^{\\infty} \\beta^{j} y_{t+j}\n",
    "$$"
   ]
  },
  {
   "cell_type": "markdown",
   "metadata": {
    "slideshow": {
     "slide_type": "fragment"
    }
   },
   "source": [
    "- See LS for a proof."
   ]
  },
  {
   "cell_type": "markdown",
   "metadata": {
    "slideshow": {
     "slide_type": "fragment"
    }
   },
   "source": [
    "- Under certainty, the optimal consumption sequence converges to a finite limit as long as the discounted value of future income is bounded. [graph]"
   ]
  },
  {
   "cell_type": "markdown",
   "metadata": {
    "slideshow": {
     "slide_type": "slide"
    }
   },
   "source": [
    "## Stochastic endowment process: i.i.d. case\n",
    "\n",
    "- The individual is endowed with $\\{y_{t}\\}_{t=0}^{\\infty}$ folloiwing a stochastic process:\n",
    "  - Each $y_{t}$ takes a value in the set of possible endowments $\\bar{y}_{1}<\\bar{y}_2$. \n",
    "  - $\\text{Prob}(y=\\bar{y}_{j})=\\pi(j)$ for $j=1,2$ and $\\pi(1)+\\pi(2)=1$."
   ]
  },
  {
   "cell_type": "markdown",
   "metadata": {
    "slideshow": {
     "slide_type": "fragment"
    }
   },
   "source": [
    "- The Bellman equation is\n",
    "\n",
    "$$\n",
    "    V(a) = \\max_{c} \\left\\{ u(c) + \\beta \\pi(1)V(a'_{1}) + \\beta \\pi(2)V(a'_{2}) \\right\\}\n",
    "$$\n",
    "\n",
    "subject to the borrowing constraint $c \\leq a$, where $a'_{j} = q^{-1}(a-c)+\\bar{y}_{j}$ for $j=1,2$."
   ]
  },
  {
   "cell_type": "markdown",
   "metadata": {
    "slideshow": {
     "slide_type": "subslide"
    }
   },
   "source": [
    "### Supermartingale convergence theorem\n",
    "\n",
    "- The first-order condition is \n",
    "\n",
    "$$\n",
    "    u'(c) \\geq \\beta q^{-1} \\sum_{j=1,2} \\pi(j)V'[q^{-1}(a-c)+\\bar{y}_{j}].\n",
    "$$"
   ]
  },
  {
   "cell_type": "markdown",
   "metadata": {
    "slideshow": {
     "slide_type": "fragment"
    }
   },
   "source": [
    "- The Benveniste-Scheinkman formula implies $u'(c)=V'(a)$, so it can be written as (note that $\\beta=q$)\n",
    "\n",
    "$$\n",
    "    V'(a) \\geq \\sum_{j=1,2} \\pi(j)V'(a'_{j})\n",
    "$$\n",
    "\n",
    "which means that $V'(a)$ is a *nonnegative supermartingale*."
   ]
  },
  {
   "cell_type": "markdown",
   "metadata": {
    "slideshow": {
     "slide_type": "fragment"
    }
   },
   "source": [
    "- Then, *supermartingale convergence theorem* suggests that $V'(a)$ converges to a particular number."
   ]
  },
  {
   "cell_type": "markdown",
   "metadata": {
    "slideshow": {
     "slide_type": "skip"
    }
   },
   "source": [
    "- Think about a realization of the sequence $\\{y_{t}\\}$ via a computer simulation."
   ]
  },
  {
   "cell_type": "markdown",
   "metadata": {
    "slideshow": {
     "slide_type": "skip"
    }
   },
   "source": [
    "- For each sample realization of $\\{y_{t}\\}$, the sequence $\\{V'(a_{t})\\}$ converges to a particular number $\\lim_{t\\rightarrow\\infty}V'(a_{t})$"
   ]
  },
  {
   "cell_type": "markdown",
   "metadata": {
    "slideshow": {
     "slide_type": "subslide"
    }
   },
   "source": [
    "In our case, $\\lim_{t\\rightarrow\\infty}V'(a_{t})=0$ because of the following argument.\n"
   ]
  },
  {
   "cell_type": "markdown",
   "metadata": {
    "slideshow": {
     "slide_type": "fragment"
    }
   },
   "source": [
    "- Suppose $\\lim_{t\\rightarrow\\infty}V'(a_{t})$ converges to a strictly positive limit."
   ]
  },
  {
   "cell_type": "markdown",
   "metadata": {
    "slideshow": {
     "slide_type": "fragment"
    }
   },
   "source": [
    "- Then $a$ converges to a finite positive value."
   ]
  },
  {
   "cell_type": "markdown",
   "metadata": {
    "slideshow": {
     "slide_type": "fragment"
    }
   },
   "source": [
    "- But this is contradicted by the budget constraint\n",
    "\n",
    "$$\n",
    "a_{t+1} = q^{-1}(a_{t}-c_{t}) + y_{t+1}\n",
    "$$\n",
    "\n",
    "and a random nature of $y_{t+1}$."
   ]
  },
  {
   "cell_type": "markdown",
   "metadata": {
    "slideshow": {
     "slide_type": "fragment"
    }
   },
   "source": [
    "- Then assets diverge to infinity, $a\\rightarrow\\infty$, so does consumption, $c\\rightarrow\\infty$."
   ]
  },
  {
   "cell_type": "markdown",
   "metadata": {
    "slideshow": {
     "slide_type": "subslide"
    }
   },
   "source": [
    "### Euler equation\n",
    "\n",
    "- Also the Euler equation becomes\n",
    "\n",
    "$$\n",
    "    u'(c) \\geq \\sum_{j=1,2} \\pi(j)u'(c'_{j})\n",
    "$$"
   ]
  },
  {
   "cell_type": "markdown",
   "metadata": {
    "slideshow": {
     "slide_type": "fragment"
    }
   },
   "source": [
    "- The individual will never choose a time-invariant consumption level for the indefinite future."
   ]
  },
  {
   "cell_type": "markdown",
   "metadata": {
    "slideshow": {
     "slide_type": "fragment"
    }
   },
   "source": [
    "- Under uncertainty, the optimal consumption sequence diverges to infinity."
   ]
  },
  {
   "cell_type": "markdown",
   "metadata": {
    "slideshow": {
     "slide_type": "subslide"
    }
   },
   "source": [
    "- If $u'(c_{t})=Eu'(c_{t+1})$, $c_{t}<Ec_{t+1}$ holds (due to concavity of the utility function). \n",
    "<div align=\"center\">\n",
    "<img src=\"./aiyagari1.PNG\",width=\"1000\",height=\"400\">\n",
    "</div>"
   ]
  }
 ],
 "metadata": {
  "celltoolbar": "Slideshow",
  "kernelspec": {
   "display_name": "Julia 1.6.1",
   "language": "julia",
   "name": "julia-1.6"
  },
  "language_info": {
   "file_extension": ".jl",
   "mimetype": "application/julia",
   "name": "julia",
   "version": "1.6.1"
  }
 },
 "nbformat": 4,
 "nbformat_minor": 2
}
